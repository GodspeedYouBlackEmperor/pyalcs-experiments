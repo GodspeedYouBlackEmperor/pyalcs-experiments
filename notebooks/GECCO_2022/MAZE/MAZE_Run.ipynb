{
 "cells": [
  {
   "cell_type": "code",
   "execution_count": 9,
   "metadata": {},
   "outputs": [],
   "source": [
    "import numpy as np\n",
    "import pandas as pd\n",
    "import dill\n",
    "import os\n",
    "\n",
    "import gym\n",
    "import gym_maze\n",
    "\n",
    "from lcs.agents import Agent\n",
    "from lcs.agents.acs2 import ACS2, Configuration as CFG_ACS2\n",
    "from lcs.agents.acs2er import ACS2ER, Configuration as CFG_ACS2ER\n",
    "from lcs.metrics import population_metrics\n",
    "\n",
    "# Logger\n",
    "import logging\n",
    "logging.basicConfig(level=logging.INFO)\n"
   ]
  },
  {
   "cell_type": "markdown",
   "metadata": {},
   "source": [
    "# EXPERIMENT CONFIGURATION"
   ]
  },
  {
   "cell_type": "code",
   "execution_count": 10,
   "metadata": {},
   "outputs": [],
   "source": [
    "MAZE = \"Maze5-v0\" \n",
    "EXPLORE_TRIALS = 5000\n",
    "EXPLOIT_TRIALS = 1000\n",
    "\n",
    "# The size of ER replay memory buffer\n",
    "ER_BUFFER_SIZE = 10000\n",
    "# The minimum number of samples of ER replay memory buffer to start replying samples (warm-up phase)\n",
    "ER_BUFFER_MIN_SAMPLES = 1000\n",
    "# The number of samples to be replayed druing ER phase\n",
    "ER_SAMPLES_NUMBER_LIST = [1,2,3,4,5,6,7,8,9,10]\n",
    "\n",
    "\n",
    "\n",
    "#######\n",
    "\n",
    "EXPERIMENT_NAME = \"10\" # Please edit if running new experiment to do not override saved results.\n",
    "DATA_BASE_PATH = \"\" # CURRENT LOCATION\n",
    "DATA_PATH = os.path.join(DATA_BASE_PATH, 'MAZE', EXPERIMENT_NAME, MAZE)\n",
    "\n",
    "if os.path.isdir(DATA_PATH):\n",
    "  raise Exception(f\"The experiment with name: '{EXPERIMENT_NAME}' for '{MAZE}' environment was run already.\")"
   ]
  },
  {
   "cell_type": "markdown",
   "metadata": {},
   "source": [
    "## METRICS"
   ]
  },
  {
   "cell_type": "code",
   "execution_count": 11,
   "metadata": {},
   "outputs": [],
   "source": [
    "def _get_transitions():\n",
    "    knowledge_env = gym.make(MAZE)\n",
    "    transitions = knowledge_env.env.get_transitions()\n",
    "    transitions = list(map(lambda t: [knowledge_env.env.maze.perception(t[0]), t[1], knowledge_env.env.maze.perception(t[2])], transitions))\n",
    "\n",
    "    return transitions\n",
    "\n",
    "TRANSITIONS = _get_transitions()\n",
    "TRANSITIONS_LENGTH = len(TRANSITIONS)\n",
    "\n",
    "def _maze_knowledge(population) -> float:\n",
    "    # Take into consideration only reliable classifiers\n",
    "    reliable_classifiers = [c for c in population if c.is_reliable()]\n",
    "\n",
    "    # Count how many transitions are anticipated correctly\n",
    "    nr_correct = 0\n",
    "\n",
    "    # For all possible destinations from each path cell\n",
    "    for p0, action, p1 in TRANSITIONS:\n",
    "        if any([True for cl in reliable_classifiers\n",
    "                if cl.predicts_successfully(p0, action, p1)]):\n",
    "            nr_correct += 1\n",
    "\n",
    "    return nr_correct / TRANSITIONS_LENGTH * 100.0\n",
    "\n",
    "def _maze_metrics(agent, env):\n",
    "    pop = agent.population\n",
    "    metrics = {\n",
    "        'knowledge': _maze_knowledge(pop)\n",
    "    }\n",
    "    metrics.update(population_metrics(pop, env))\n",
    "    \n",
    "    return metrics\n",
    "\n",
    "\n",
    "def _save_data(data, path, file_name):\n",
    "    full_dir_path = os.path.join(DATA_PATH, path)\n",
    "    full_file_path = os.path.join(full_dir_path, f'{file_name}.dill')\n",
    "    if not os.path.isdir(full_dir_path):\n",
    "        os.makedirs(full_dir_path)\n",
    "\n",
    "    dill.dump(data, open(full_file_path, 'wb'))\n",
    "\n",
    "def _save_agent_data(agent, data, path, file_name):\n",
    "    path = os.path.join(type(agent).__name__, path)\n",
    "    _save_data(data, path, file_name)\n",
    "\n",
    "def _save_metrics(agent, metrics, path, metrics_name):\n",
    "    _save_agent_data(agent, metrics, path, f'metrics_{metrics_name}')\n",
    "\n",
    "def _save_explore_metrics(agent, metrics, path):\n",
    "    _save_metrics(agent, metrics, path, 'EXPLORE')\n",
    "\n",
    "def _save_exploit_metrics(agent, metrics, path):\n",
    "    _save_metrics(agent, metrics, path, 'EXPLOIT')\n",
    "\n",
    "def _save_population(agent: Agent, path):\n",
    "    _save_agent_data(agent, agent.get_population(), path, 'population')\n",
    "\n",
    "def _save_environment(agent, env, path):\n",
    "    _save_agent_data(agent, env, path, 'env')\n",
    "    \n",
    "def _save_experiment_data(agent, env, explore_metrics, exploit_metrics, path):\n",
    "    _save_explore_metrics(agent, explore_metrics, path)\n",
    "    _save_exploit_metrics(agent, exploit_metrics, path)\n",
    "    _save_population(agent, path)\n",
    "    _save_environment(agent, env, path)\n"
   ]
  },
  {
   "cell_type": "markdown",
   "metadata": {},
   "source": [
    "## EXPERIMENT"
   ]
  },
  {
   "cell_type": "code",
   "execution_count": 12,
   "metadata": {},
   "outputs": [],
   "source": [
    "\n",
    "def _run_experiment(agent: Agent, data_path = ''):\n",
    "    maze = gym.make(MAZE)\n",
    "    # Explore the environment\n",
    "    explore_metrics = agent.explore(maze, EXPLORE_TRIALS)\n",
    "    # Exploit the environment\n",
    "    exploit_metrics = agent.exploit(maze, EXPLOIT_TRIALS)\n",
    "\n",
    "    _save_experiment_data(agent, maze, explore_metrics, exploit_metrics, data_path)\n",
    "\n",
    "def run_acs2_experiment():\n",
    "    # Create agent \n",
    "    cfg = CFG_ACS2(    \n",
    "        classifier_length=8,\n",
    "        number_of_possible_actions=8,\n",
    "        metrics_trial_frequency=1,\n",
    "        user_metrics_collector_fcn=_maze_metrics)\n",
    "    agent = ACS2(cfg)\n",
    "\n",
    "    _run_experiment(agent)\n",
    "\n",
    "def _run_acs2er_experiment(er_samples_number: int):\n",
    "    # Create agent \n",
    "    cfg = CFG_ACS2ER(    \n",
    "        classifier_length=8,\n",
    "        number_of_possible_actions=8,\n",
    "        metrics_trial_frequency=1,\n",
    "        er_buffer_size=ER_BUFFER_SIZE,\n",
    "        er_min_samples=ER_BUFFER_MIN_SAMPLES,\n",
    "        er_samples_number=er_samples_number,\n",
    "        user_metrics_collector_fcn=_maze_metrics)\n",
    "    agent = ACS2ER(cfg)\n",
    "\n",
    "    _run_experiment(agent, f'm_{er_samples_number}')\n",
    "\n",
    "def run_acs2er_experiments():\n",
    "    for er_samples_number in ER_SAMPLES_NUMBER_LIST:\n",
    "        print(f\"START - ACS2ER - {er_samples_number}\")\n",
    "        _run_acs2er_experiment(er_samples_number)\n",
    "        print(f\"END - ACS2ER - {er_samples_number}\")"
   ]
  },
  {
   "cell_type": "markdown",
   "metadata": {},
   "source": [
    "### RUN ACS2 Experiments"
   ]
  },
  {
   "cell_type": "code",
   "execution_count": 13,
   "metadata": {},
   "outputs": [
    {
     "name": "stderr",
     "output_type": "stream",
     "text": [
      "INFO:lcs.agents.Agent:{'trial': 20, 'steps_in_trial': 28, 'reward': 1000, 'perf_time': 0.04979279999997743, 'knowledge': 2.054794520547945, 'population': 283, 'numerosity': 283, 'reliable': 9}\n",
      "INFO:lcs.agents.Agent:{'trial': 40, 'steps_in_trial': 40, 'reward': 1000, 'perf_time': 0.09285050000005413, 'knowledge': 10.273972602739725, 'population': 399, 'numerosity': 399, 'reliable': 50}\n",
      "INFO:lcs.agents.Agent:{'trial': 60, 'steps_in_trial': 50, 'reward': 0, 'perf_time': 0.13909540000008747, 'knowledge': 17.123287671232877, 'population': 452, 'numerosity': 452, 'reliable': 73}\n",
      "INFO:lcs.agents.Agent:{'trial': 80, 'steps_in_trial': 12, 'reward': 1000, 'perf_time': 0.02307189999999082, 'knowledge': 19.863013698630137, 'population': 460, 'numerosity': 460, 'reliable': 94}\n",
      "INFO:lcs.agents.Agent:{'trial': 100, 'steps_in_trial': 18, 'reward': 1000, 'perf_time': 0.07547030000000632, 'knowledge': 21.91780821917808, 'population': 464, 'numerosity': 464, 'reliable': 102}\n",
      "INFO:lcs.agents.Agent:{'trial': 120, 'steps_in_trial': 50, 'reward': 0, 'perf_time': 0.12596429999996417, 'knowledge': 23.28767123287671, 'population': 462, 'numerosity': 462, 'reliable': 110}\n",
      "INFO:lcs.agents.Agent:{'trial': 140, 'steps_in_trial': 50, 'reward': 0, 'perf_time': 0.13392950000002202, 'knowledge': 24.65753424657534, 'population': 455, 'numerosity': 455, 'reliable': 112}\n",
      "INFO:lcs.agents.Agent:{'trial': 160, 'steps_in_trial': 11, 'reward': 1000, 'perf_time': 0.020479099999988648, 'knowledge': 27.397260273972602, 'population': 453, 'numerosity': 453, 'reliable': 117}\n",
      "INFO:lcs.agents.Agent:{'trial': 180, 'steps_in_trial': 23, 'reward': 1000, 'perf_time': 0.050462199999969926, 'knowledge': 28.767123287671232, 'population': 451, 'numerosity': 451, 'reliable': 122}\n",
      "INFO:lcs.agents.Agent:{'trial': 200, 'steps_in_trial': 12, 'reward': 1000, 'perf_time': 0.023146799999949508, 'knowledge': 30.136986301369863, 'population': 450, 'numerosity': 450, 'reliable': 127}\n",
      "INFO:lcs.agents.Agent:{'trial': 10, 'steps_in_trial': 7, 'reward': 1000, 'perf_time': 0.016333600000052684, 'knowledge': 30.136986301369863, 'population': 450, 'numerosity': 450, 'reliable': 127}\n",
      "INFO:lcs.agents.Agent:{'trial': 20, 'steps_in_trial': 9, 'reward': 1000, 'perf_time': 0.02128740000000562, 'knowledge': 30.136986301369863, 'population': 450, 'numerosity': 450, 'reliable': 127}\n",
      "INFO:lcs.agents.Agent:{'trial': 30, 'steps_in_trial': 50, 'reward': 0, 'perf_time': 0.1279571999999689, 'knowledge': 30.136986301369863, 'population': 450, 'numerosity': 450, 'reliable': 127}\n",
      "INFO:lcs.agents.Agent:{'trial': 40, 'steps_in_trial': 3, 'reward': 1000, 'perf_time': 0.00480440000001181, 'knowledge': 30.136986301369863, 'population': 450, 'numerosity': 450, 'reliable': 127}\n",
      "INFO:lcs.agents.Agent:{'trial': 50, 'steps_in_trial': 8, 'reward': 1000, 'perf_time': 0.021394900000018424, 'knowledge': 30.136986301369863, 'population': 450, 'numerosity': 450, 'reliable': 127}\n",
      "INFO:lcs.agents.Agent:{'trial': 60, 'steps_in_trial': 7, 'reward': 1000, 'perf_time': 0.012704500000040753, 'knowledge': 30.136986301369863, 'population': 450, 'numerosity': 450, 'reliable': 127}\n",
      "INFO:lcs.agents.Agent:{'trial': 70, 'steps_in_trial': 7, 'reward': 1000, 'perf_time': 0.011615699999993012, 'knowledge': 30.136986301369863, 'population': 450, 'numerosity': 450, 'reliable': 127}\n",
      "INFO:lcs.agents.Agent:{'trial': 80, 'steps_in_trial': 6, 'reward': 1000, 'perf_time': 0.011366899999984525, 'knowledge': 30.136986301369863, 'population': 450, 'numerosity': 450, 'reliable': 127}\n",
      "INFO:lcs.agents.Agent:{'trial': 90, 'steps_in_trial': 7, 'reward': 1000, 'perf_time': 0.012739399999986745, 'knowledge': 30.136986301369863, 'population': 450, 'numerosity': 450, 'reliable': 127}\n",
      "INFO:lcs.agents.Agent:{'trial': 100, 'steps_in_trial': 8, 'reward': 1000, 'perf_time': 0.013198799999941002, 'knowledge': 30.136986301369863, 'population': 450, 'numerosity': 450, 'reliable': 127}\n"
     ]
    }
   ],
   "source": [
    "run_acs2_experiment()"
   ]
  },
  {
   "cell_type": "markdown",
   "metadata": {},
   "source": [
    "### RUN ACS2ER Experiments"
   ]
  },
  {
   "cell_type": "code",
   "execution_count": 14,
   "metadata": {},
   "outputs": [
    {
     "name": "stdout",
     "output_type": "stream",
     "text": [
      "START - ACS2ER - 1\n"
     ]
    },
    {
     "name": "stderr",
     "output_type": "stream",
     "text": [
      "INFO:lcs.agents.Agent:{'trial': 20, 'steps_in_trial': 43, 'reward': 1000, 'perf_time': 0.2539623999999776, 'knowledge': 1.36986301369863, 'population': 377, 'numerosity': 377, 'reliable': 15}\n",
      "INFO:lcs.agents.Agent:{'trial': 40, 'steps_in_trial': 4, 'reward': 1000, 'perf_time': 0.02624219999995603, 'knowledge': 7.534246575342466, 'population': 501, 'numerosity': 501, 'reliable': 47}\n",
      "INFO:lcs.agents.Agent:{'trial': 60, 'steps_in_trial': 50, 'reward': 0, 'perf_time': 0.3538303000000269, 'knowledge': 10.95890410958904, 'population': 527, 'numerosity': 527, 'reliable': 63}\n",
      "INFO:lcs.agents.Agent:{'trial': 80, 'steps_in_trial': 44, 'reward': 1000, 'perf_time': 0.3653868000000102, 'knowledge': 15.068493150684931, 'population': 541, 'numerosity': 541, 'reliable': 81}\n",
      "INFO:lcs.agents.Agent:{'trial': 100, 'steps_in_trial': 14, 'reward': 1000, 'perf_time': 0.37970229999996263, 'knowledge': 15.068493150684931, 'population': 543, 'numerosity': 543, 'reliable': 89}\n",
      "INFO:lcs.agents.Agent:{'trial': 120, 'steps_in_trial': 3, 'reward': 1000, 'perf_time': 0.022883600000000115, 'knowledge': 16.43835616438356, 'population': 548, 'numerosity': 548, 'reliable': 95}\n",
      "INFO:lcs.agents.Agent:{'trial': 140, 'steps_in_trial': 16, 'reward': 1000, 'perf_time': 0.13100199999996676, 'knowledge': 19.17808219178082, 'population': 567, 'numerosity': 567, 'reliable': 105}\n",
      "INFO:lcs.agents.Agent:{'trial': 160, 'steps_in_trial': 2, 'reward': 1000, 'perf_time': 0.013551599999914288, 'knowledge': 23.972602739726025, 'population': 581, 'numerosity': 581, 'reliable': 118}\n",
      "INFO:lcs.agents.Agent:{'trial': 180, 'steps_in_trial': 8, 'reward': 1000, 'perf_time': 0.05786769999997432, 'knowledge': 27.397260273972602, 'population': 580, 'numerosity': 580, 'reliable': 127}\n",
      "INFO:lcs.agents.Agent:{'trial': 200, 'steps_in_trial': 32, 'reward': 1000, 'perf_time': 0.22416099999998096, 'knowledge': 27.397260273972602, 'population': 583, 'numerosity': 583, 'reliable': 134}\n",
      "INFO:lcs.agents.Agent:{'trial': 10, 'steps_in_trial': 6, 'reward': 1000, 'perf_time': 0.01692800000000716, 'knowledge': 27.397260273972602, 'population': 583, 'numerosity': 583, 'reliable': 134}\n",
      "INFO:lcs.agents.Agent:{'trial': 20, 'steps_in_trial': 10, 'reward': 1000, 'perf_time': 0.028088199999956487, 'knowledge': 27.397260273972602, 'population': 583, 'numerosity': 583, 'reliable': 134}\n",
      "INFO:lcs.agents.Agent:{'trial': 30, 'steps_in_trial': 5, 'reward': 1000, 'perf_time': 0.013466999999991458, 'knowledge': 27.397260273972602, 'population': 583, 'numerosity': 583, 'reliable': 134}\n",
      "INFO:lcs.agents.Agent:{'trial': 40, 'steps_in_trial': 4, 'reward': 1000, 'perf_time': 0.012856599999963692, 'knowledge': 27.397260273972602, 'population': 583, 'numerosity': 583, 'reliable': 134}\n",
      "INFO:lcs.agents.Agent:{'trial': 50, 'steps_in_trial': 7, 'reward': 1000, 'perf_time': 0.019594900000015514, 'knowledge': 27.397260273972602, 'population': 583, 'numerosity': 583, 'reliable': 134}\n",
      "INFO:lcs.agents.Agent:{'trial': 60, 'steps_in_trial': 2, 'reward': 1000, 'perf_time': 0.004391699999928278, 'knowledge': 27.397260273972602, 'population': 583, 'numerosity': 583, 'reliable': 134}\n",
      "INFO:lcs.agents.Agent:{'trial': 70, 'steps_in_trial': 5, 'reward': 1000, 'perf_time': 0.013277700000003279, 'knowledge': 27.397260273972602, 'population': 583, 'numerosity': 583, 'reliable': 134}\n",
      "INFO:lcs.agents.Agent:{'trial': 80, 'steps_in_trial': 6, 'reward': 1000, 'perf_time': 0.022249900000019807, 'knowledge': 27.397260273972602, 'population': 583, 'numerosity': 583, 'reliable': 134}\n",
      "INFO:lcs.agents.Agent:{'trial': 90, 'steps_in_trial': 4, 'reward': 1000, 'perf_time': 0.011894399999960115, 'knowledge': 27.397260273972602, 'population': 583, 'numerosity': 583, 'reliable': 134}\n",
      "INFO:lcs.agents.Agent:{'trial': 100, 'steps_in_trial': 49, 'reward': 1000, 'perf_time': 0.1338265000000547, 'knowledge': 27.397260273972602, 'population': 583, 'numerosity': 583, 'reliable': 134}\n"
     ]
    },
    {
     "name": "stdout",
     "output_type": "stream",
     "text": [
      "END - ACS2ER - 1\n",
      "START - ACS2ER - 2\n"
     ]
    },
    {
     "name": "stderr",
     "output_type": "stream",
     "text": [
      "INFO:lcs.agents.Agent:{'trial': 20, 'steps_in_trial': 50, 'reward': 0, 'perf_time': 0.4795110999999679, 'knowledge': 14.383561643835616, 'population': 436, 'numerosity': 436, 'reliable': 63}\n",
      "INFO:lcs.agents.Agent:{'trial': 40, 'steps_in_trial': 19, 'reward': 1000, 'perf_time': 0.19519119999995382, 'knowledge': 24.65753424657534, 'population': 470, 'numerosity': 470, 'reliable': 135}\n",
      "INFO:lcs.agents.Agent:{'trial': 60, 'steps_in_trial': 34, 'reward': 1000, 'perf_time': 0.35846489999994446, 'knowledge': 36.3013698630137, 'population': 482, 'numerosity': 482, 'reliable': 170}\n",
      "INFO:lcs.agents.Agent:{'trial': 80, 'steps_in_trial': 20, 'reward': 1000, 'perf_time': 0.21196450000002187, 'knowledge': 41.78082191780822, 'population': 485, 'numerosity': 485, 'reliable': 189}\n",
      "INFO:lcs.agents.Agent:{'trial': 100, 'steps_in_trial': 4, 'reward': 1000, 'perf_time': 0.04099959999996372, 'knowledge': 48.63013698630137, 'population': 484, 'numerosity': 484, 'reliable': 217}\n",
      "INFO:lcs.agents.Agent:{'trial': 120, 'steps_in_trial': 27, 'reward': 1000, 'perf_time': 0.2525130999999874, 'knowledge': 55.47945205479452, 'population': 480, 'numerosity': 480, 'reliable': 240}\n",
      "INFO:lcs.agents.Agent:{'trial': 140, 'steps_in_trial': 14, 'reward': 1000, 'perf_time': 0.13250410000000556, 'knowledge': 57.534246575342465, 'population': 486, 'numerosity': 486, 'reliable': 247}\n",
      "INFO:lcs.agents.Agent:{'trial': 160, 'steps_in_trial': 34, 'reward': 1000, 'perf_time': 0.32589569999993273, 'knowledge': 59.589041095890416, 'population': 485, 'numerosity': 485, 'reliable': 255}\n",
      "INFO:lcs.agents.Agent:{'trial': 180, 'steps_in_trial': 19, 'reward': 1000, 'perf_time': 0.21526230000006308, 'knowledge': 60.95890410958904, 'population': 481, 'numerosity': 481, 'reliable': 262}\n",
      "INFO:lcs.agents.Agent:{'trial': 200, 'steps_in_trial': 10, 'reward': 1000, 'perf_time': 0.10313450000001012, 'knowledge': 61.64383561643836, 'population': 480, 'numerosity': 480, 'reliable': 267}\n",
      "INFO:lcs.agents.Agent:{'trial': 10, 'steps_in_trial': 6, 'reward': 1000, 'perf_time': 0.013293399999952271, 'knowledge': 61.64383561643836, 'population': 480, 'numerosity': 480, 'reliable': 267}\n",
      "INFO:lcs.agents.Agent:{'trial': 20, 'steps_in_trial': 8, 'reward': 1000, 'perf_time': 0.019628899999929672, 'knowledge': 61.64383561643836, 'population': 480, 'numerosity': 480, 'reliable': 267}\n",
      "INFO:lcs.agents.Agent:{'trial': 30, 'steps_in_trial': 4, 'reward': 1000, 'perf_time': 0.011285499999985404, 'knowledge': 61.64383561643836, 'population': 480, 'numerosity': 480, 'reliable': 267}\n",
      "INFO:lcs.agents.Agent:{'trial': 40, 'steps_in_trial': 8, 'reward': 1000, 'perf_time': 0.016817999999943822, 'knowledge': 61.64383561643836, 'population': 480, 'numerosity': 480, 'reliable': 267}\n",
      "INFO:lcs.agents.Agent:{'trial': 50, 'steps_in_trial': 3, 'reward': 1000, 'perf_time': 0.005675300000007155, 'knowledge': 61.64383561643836, 'population': 480, 'numerosity': 480, 'reliable': 267}\n",
      "INFO:lcs.agents.Agent:{'trial': 60, 'steps_in_trial': 8, 'reward': 1000, 'perf_time': 0.016728499999999258, 'knowledge': 61.64383561643836, 'population': 480, 'numerosity': 480, 'reliable': 267}\n",
      "INFO:lcs.agents.Agent:{'trial': 70, 'steps_in_trial': 6, 'reward': 1000, 'perf_time': 0.013696800000047915, 'knowledge': 61.64383561643836, 'population': 480, 'numerosity': 480, 'reliable': 267}\n",
      "INFO:lcs.agents.Agent:{'trial': 80, 'steps_in_trial': 5, 'reward': 1000, 'perf_time': 0.01464930000008735, 'knowledge': 61.64383561643836, 'population': 480, 'numerosity': 480, 'reliable': 267}\n",
      "INFO:lcs.agents.Agent:{'trial': 90, 'steps_in_trial': 9, 'reward': 1000, 'perf_time': 0.018294299999979557, 'knowledge': 61.64383561643836, 'population': 480, 'numerosity': 480, 'reliable': 267}\n",
      "INFO:lcs.agents.Agent:{'trial': 100, 'steps_in_trial': 8, 'reward': 1000, 'perf_time': 0.018182099999989987, 'knowledge': 61.64383561643836, 'population': 480, 'numerosity': 480, 'reliable': 267}\n"
     ]
    },
    {
     "name": "stdout",
     "output_type": "stream",
     "text": [
      "END - ACS2ER - 2\n",
      "START - ACS2ER - 3\n"
     ]
    },
    {
     "name": "stderr",
     "output_type": "stream",
     "text": [
      "INFO:lcs.agents.Agent:{'trial': 20, 'steps_in_trial': 50, 'reward': 0, 'perf_time': 1.3603936000000658, 'knowledge': 23.28767123287671, 'population': 654, 'numerosity': 654, 'reliable': 108}\n",
      "INFO:lcs.agents.Agent:{'trial': 40, 'steps_in_trial': 3, 'reward': 1000, 'perf_time': 0.05389879999995628, 'knowledge': 45.89041095890411, 'population': 667, 'numerosity': 667, 'reliable': 201}\n",
      "INFO:lcs.agents.Agent:{'trial': 60, 'steps_in_trial': 50, 'reward': 0, 'perf_time': 1.2795202999999447, 'knowledge': 63.013698630136986, 'population': 654, 'numerosity': 654, 'reliable': 286}\n",
      "INFO:lcs.agents.Agent:{'trial': 80, 'steps_in_trial': 13, 'reward': 1000, 'perf_time': 0.22067970000000514, 'knowledge': 71.23287671232876, 'population': 629, 'numerosity': 629, 'reliable': 326}\n",
      "INFO:lcs.agents.Agent:{'trial': 100, 'steps_in_trial': 8, 'reward': 1000, 'perf_time': 0.1827358999998978, 'knowledge': 78.08219178082192, 'population': 615, 'numerosity': 615, 'reliable': 371}\n",
      "INFO:lcs.agents.Agent:{'trial': 120, 'steps_in_trial': 10, 'reward': 1000, 'perf_time': 0.14875469999992674, 'knowledge': 82.1917808219178, 'population': 600, 'numerosity': 600, 'reliable': 390}\n",
      "INFO:lcs.agents.Agent:{'trial': 140, 'steps_in_trial': 23, 'reward': 1000, 'perf_time': 0.34780850000004193, 'knowledge': 83.56164383561644, 'population': 592, 'numerosity': 592, 'reliable': 408}\n",
      "INFO:lcs.agents.Agent:{'trial': 160, 'steps_in_trial': 6, 'reward': 1000, 'perf_time': 0.09012259999997241, 'knowledge': 84.93150684931507, 'population': 580, 'numerosity': 580, 'reliable': 414}\n",
      "INFO:lcs.agents.Agent:{'trial': 180, 'steps_in_trial': 46, 'reward': 1000, 'perf_time': 0.8941548000000239, 'knowledge': 85.61643835616438, 'population': 577, 'numerosity': 577, 'reliable': 427}\n",
      "INFO:lcs.agents.Agent:{'trial': 200, 'steps_in_trial': 18, 'reward': 1000, 'perf_time': 0.2473163999999315, 'knowledge': 86.98630136986301, 'population': 572, 'numerosity': 572, 'reliable': 431}\n",
      "INFO:lcs.agents.Agent:{'trial': 10, 'steps_in_trial': 9, 'reward': 1000, 'perf_time': 0.02028569999993124, 'knowledge': 86.98630136986301, 'population': 572, 'numerosity': 572, 'reliable': 431}\n",
      "INFO:lcs.agents.Agent:{'trial': 20, 'steps_in_trial': 11, 'reward': 1000, 'perf_time': 0.02531520000002274, 'knowledge': 86.98630136986301, 'population': 572, 'numerosity': 572, 'reliable': 431}\n",
      "INFO:lcs.agents.Agent:{'trial': 30, 'steps_in_trial': 5, 'reward': 1000, 'perf_time': 0.010696100000018305, 'knowledge': 86.98630136986301, 'population': 572, 'numerosity': 572, 'reliable': 431}\n",
      "INFO:lcs.agents.Agent:{'trial': 40, 'steps_in_trial': 10, 'reward': 1000, 'perf_time': 0.02136480000001484, 'knowledge': 86.98630136986301, 'population': 572, 'numerosity': 572, 'reliable': 431}\n",
      "INFO:lcs.agents.Agent:{'trial': 50, 'steps_in_trial': 2, 'reward': 1000, 'perf_time': 0.003941400000030626, 'knowledge': 86.98630136986301, 'population': 572, 'numerosity': 572, 'reliable': 431}\n",
      "INFO:lcs.agents.Agent:{'trial': 60, 'steps_in_trial': 4, 'reward': 1000, 'perf_time': 0.01657470000009198, 'knowledge': 86.98630136986301, 'population': 572, 'numerosity': 572, 'reliable': 431}\n",
      "INFO:lcs.agents.Agent:{'trial': 70, 'steps_in_trial': 3, 'reward': 1000, 'perf_time': 0.0069753999999875305, 'knowledge': 86.98630136986301, 'population': 572, 'numerosity': 572, 'reliable': 431}\n",
      "INFO:lcs.agents.Agent:{'trial': 80, 'steps_in_trial': 1, 'reward': 1000, 'perf_time': 0.002070499999945241, 'knowledge': 86.98630136986301, 'population': 572, 'numerosity': 572, 'reliable': 431}\n",
      "INFO:lcs.agents.Agent:{'trial': 90, 'steps_in_trial': 7, 'reward': 1000, 'perf_time': 0.01894460000005438, 'knowledge': 86.98630136986301, 'population': 572, 'numerosity': 572, 'reliable': 431}\n",
      "INFO:lcs.agents.Agent:{'trial': 100, 'steps_in_trial': 1, 'reward': 1000, 'perf_time': 0.0020015000000057626, 'knowledge': 86.98630136986301, 'population': 572, 'numerosity': 572, 'reliable': 431}\n"
     ]
    },
    {
     "name": "stdout",
     "output_type": "stream",
     "text": [
      "END - ACS2ER - 3\n"
     ]
    }
   ],
   "source": [
    "run_acs2er_experiments()"
   ]
  }
 ],
 "metadata": {
  "kernelspec": {
   "display_name": "Python 3",
   "language": "python",
   "name": "python3"
  },
  "language_info": {
   "codemirror_mode": {
    "name": "ipython",
    "version": 3
   },
   "file_extension": ".py",
   "mimetype": "text/x-python",
   "name": "python",
   "nbconvert_exporter": "python",
   "pygments_lexer": "ipython3",
   "version": "3.7.12"
  }
 },
 "nbformat": 4,
 "nbformat_minor": 4
}
