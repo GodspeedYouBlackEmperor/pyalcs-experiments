{
 "cells": [
  {
   "cell_type": "code",
   "execution_count": 15,
   "metadata": {},
   "outputs": [],
   "source": [
    "import numpy as np\n",
    "import pandas as pd\n",
    "import dill\n",
    "import os\n",
    "\n",
    "import gym\n",
    "import gym_maze\n",
    "\n",
    "from lcs.agents import Agent\n",
    "from lcs.agents.acs2 import ACS2, Configuration as CFG_ACS2\n",
    "from lcs.agents.acs2er import ACS2ER, Configuration as CFG_ACS2ER\n",
    "from lcs.metrics import population_metrics\n",
    "\n",
    "# Logger\n",
    "import logging\n",
    "logging.basicConfig(level=logging.INFO)\n"
   ]
  },
  {
   "cell_type": "markdown",
   "metadata": {},
   "source": [
    "# EXPERIMENT CONFIGURATION"
   ]
  },
  {
   "cell_type": "code",
   "execution_count": 16,
   "metadata": {},
   "outputs": [],
   "source": [
    "MAZE = \"Maze5-v0\" \n",
    "EXPLORE_TRIALS = 5000\n",
    "EXPLOIT_TRIALS = 1000\n",
    "\n",
    "# The size of ER replay memory buffer\n",
    "ER_BUFFER_SIZE = 10000\n",
    "# The minimum number of samples of ER replay memory buffer to start replying samples (warm-up phase)\n",
    "ER_BUFFER_MIN_SAMPLES = 1000\n",
    "# The number of samples to be replayed druing ER phase\n",
    "ER_SAMPLES_NUMBER_LIST = [1,2,3,4,5,6,7,8,9,10]\n",
    "\n",
    "\n",
    "\n",
    "#######\n",
    "\n",
    "EXPERIMENT_NAME = \"10\" # Please edit if running new experiment to do not override saved results.\n",
    "DATA_BASE_PATH = \"\" # CURRENT LOCATION\n",
    "DATA_PATH = os.path.join(DATA_BASE_PATH, 'MAZE', EXPERIMENT_NAME, MAZE)\n",
    "\n",
    "if os.path.isdir(DATA_PATH):\n",
    "  raise Exception(f\"The experiment with name: '{EXPERIMENT_NAME}' for '{MAZE}' environment was run already.\")"
   ]
  },
  {
   "cell_type": "markdown",
   "metadata": {},
   "source": [
    "## METRICS"
   ]
  },
  {
   "cell_type": "code",
   "execution_count": 17,
   "metadata": {},
   "outputs": [],
   "source": [
    "def _get_transitions():\n",
    "    knowledge_env = gym.make(MAZE)\n",
    "    transitions = knowledge_env.env.get_transitions()\n",
    "    transitions = list(map(lambda t: [knowledge_env.env.maze.perception(t[0]), t[1], knowledge_env.env.maze.perception(t[2])], transitions))\n",
    "\n",
    "    return transitions\n",
    "\n",
    "TRANSITIONS = _get_transitions()\n",
    "TRANSITIONS_LENGTH = len(TRANSITIONS)\n",
    "\n",
    "def _maze_knowledge(population) -> float:\n",
    "    # Take into consideration only reliable classifiers\n",
    "    reliable_classifiers = [c for c in population if c.is_reliable()]\n",
    "\n",
    "    # Count how many transitions are anticipated correctly\n",
    "    nr_correct = 0\n",
    "\n",
    "    # For all possible destinations from each path cell\n",
    "    for p0, action, p1 in TRANSITIONS:\n",
    "        if any([True for cl in reliable_classifiers\n",
    "                if cl.predicts_successfully(p0, action, p1)]):\n",
    "            nr_correct += 1\n",
    "\n",
    "    return nr_correct / TRANSITIONS_LENGTH * 100.0\n",
    "\n",
    "def _maze_metrics(agent, env):\n",
    "    pop = agent.population\n",
    "    metrics = {\n",
    "        'knowledge': _maze_knowledge(pop)\n",
    "    }\n",
    "    metrics.update(population_metrics(pop, env))\n",
    "    \n",
    "    return metrics\n",
    "\n",
    "\n",
    "def _save_data(data, path, file_name):\n",
    "    full_dir_path = os.path.join(DATA_PATH, path)\n",
    "    full_file_path = os.path.join(full_dir_path, f'{file_name}.dill')\n",
    "    if not os.path.isdir(full_dir_path):\n",
    "        os.makedirs(full_dir_path)\n",
    "\n",
    "    dill.dump(data, open(full_file_path, 'wb'))\n",
    "\n",
    "def _save_agent_data(agent, data, path, file_name):\n",
    "    path = os.path.join(type(agent).__name__, path)\n",
    "    _save_data(data, path, file_name)\n",
    "\n",
    "def _save_metrics(agent, metrics, path, metrics_name):\n",
    "    _save_agent_data(agent, metrics, path, f'metrics_{metrics_name}')\n",
    "\n",
    "def _save_explore_metrics(agent, metrics, path):\n",
    "    _save_metrics(agent, metrics, path, 'EXPLORE')\n",
    "\n",
    "def _save_exploit_metrics(agent, metrics, path):\n",
    "    _save_metrics(agent, metrics, path, 'EXPLOIT')\n",
    "\n",
    "def _save_population(agent: Agent, path):\n",
    "    _save_agent_data(agent, agent.get_population(), path, 'population')\n",
    "\n",
    "def _save_environment(agent, env, path):\n",
    "    _save_agent_data(agent, env, path, 'env')\n",
    "    \n",
    "def _save_experiment_data(agent, env, explore_metrics, exploit_metrics, path):\n",
    "    _save_explore_metrics(agent, explore_metrics, path)\n",
    "    _save_exploit_metrics(agent, exploit_metrics, path)\n",
    "    _save_population(agent, path)\n",
    "    _save_environment(agent, env, path)\n"
   ]
  },
  {
   "cell_type": "markdown",
   "metadata": {},
   "source": [
    "## EXPERIMENT"
   ]
  },
  {
   "cell_type": "code",
   "execution_count": 18,
   "metadata": {},
   "outputs": [],
   "source": [
    "\n",
    "def _run_experiment(agent: Agent, data_path = ''):\n",
    "    maze = gym.make(MAZE)\n",
    "    # Explore the environment\n",
    "    explore_metrics = agent.explore(maze, EXPLORE_TRIALS)\n",
    "    # Exploit the environment\n",
    "    exploit_metrics = agent.exploit(maze, EXPLOIT_TRIALS)\n",
    "\n",
    "    _save_experiment_data(agent, maze, explore_metrics, exploit_metrics, data_path)\n",
    "\n",
    "def run_acs2_experiment():\n",
    "    # Create agent \n",
    "    cfg = CFG_ACS2(    \n",
    "        classifier_length=8,\n",
    "        number_of_possible_actions=8,\n",
    "        metrics_trial_frequency=1,\n",
    "        user_metrics_collector_fcn=_maze_metrics)\n",
    "    agent = ACS2(cfg)\n",
    "\n",
    "    _run_experiment(agent)\n",
    "\n",
    "def _run_acs2er_experiment(er_samples_number: int):\n",
    "    # Create agent \n",
    "    cfg = CFG_ACS2ER(    \n",
    "        classifier_length=8,\n",
    "        number_of_possible_actions=8,\n",
    "        metrics_trial_frequency=1,\n",
    "        er_buffer_size=ER_BUFFER_SIZE,\n",
    "        er_min_samples=ER_BUFFER_MIN_SAMPLES,\n",
    "        er_samples_number=er_samples_number,\n",
    "        user_metrics_collector_fcn=_maze_metrics)\n",
    "    agent = ACS2ER(cfg)\n",
    "\n",
    "    _run_experiment(agent, f'm_{er_samples_number}')\n",
    "\n",
    "def run_acs2er_experiments():\n",
    "    for er_samples_number in ER_SAMPLES_NUMBER_LIST:\n",
    "        print(f\"START - ACS2ER - {er_samples_number}\")\n",
    "        _run_acs2er_experiment(er_samples_number)\n",
    "        print(f\"END - ACS2ER - {er_samples_number}\")"
   ]
  },
  {
   "cell_type": "markdown",
   "metadata": {},
   "source": [
    "### RUN ACS2 Experiments"
   ]
  },
  {
   "cell_type": "code",
   "execution_count": 19,
   "metadata": {},
   "outputs": [
    {
     "name": "stderr",
     "output_type": "stream",
     "text": [
      "INFO:lcs.agents.Agent:{'trial': 500, 'steps_in_trial': 11, 'reward': 1000, 'perf_time': 0.02538430000004155, 'knowledge': 54.794520547945204, 'population': 409, 'numerosity': 409, 'reliable': 190}\n",
      "INFO:lcs.agents.Agent:{'trial': 1000, 'steps_in_trial': 16, 'reward': 1000, 'perf_time': 0.03849259999969945, 'knowledge': 70.54794520547945, 'population': 395, 'numerosity': 395, 'reliable': 240}\n",
      "INFO:lcs.agents.Agent:{'trial': 1500, 'steps_in_trial': 21, 'reward': 1000, 'perf_time': 0.03763709999930143, 'knowledge': 83.56164383561644, 'population': 378, 'numerosity': 378, 'reliable': 284}\n",
      "INFO:lcs.agents.Agent:{'trial': 2000, 'steps_in_trial': 11, 'reward': 1000, 'perf_time': 0.034118699999453383, 'knowledge': 89.04109589041096, 'population': 368, 'numerosity': 368, 'reliable': 301}\n",
      "INFO:lcs.agents.Agent:{'trial': 2500, 'steps_in_trial': 7, 'reward': 1000, 'perf_time': 0.013261600000078033, 'knowledge': 93.15068493150685, 'population': 364, 'numerosity': 364, 'reliable': 308}\n",
      "INFO:lcs.agents.Agent:{'trial': 3000, 'steps_in_trial': 15, 'reward': 1000, 'perf_time': 0.03079130000060104, 'knowledge': 95.8904109589041, 'population': 359, 'numerosity': 359, 'reliable': 318}\n",
      "INFO:lcs.agents.Agent:{'trial': 3500, 'steps_in_trial': 7, 'reward': 1000, 'perf_time': 0.013830699999743956, 'knowledge': 97.94520547945206, 'population': 355, 'numerosity': 355, 'reliable': 324}\n",
      "INFO:lcs.agents.Agent:{'trial': 4000, 'steps_in_trial': 12, 'reward': 1000, 'perf_time': 0.030277200000455196, 'knowledge': 98.63013698630137, 'population': 384, 'numerosity': 384, 'reliable': 332}\n",
      "INFO:lcs.agents.Agent:{'trial': 4500, 'steps_in_trial': 5, 'reward': 1000, 'perf_time': 0.00859989999935351, 'knowledge': 99.31506849315068, 'population': 370, 'numerosity': 370, 'reliable': 336}\n",
      "INFO:lcs.agents.Agent:{'trial': 5000, 'steps_in_trial': 21, 'reward': 1000, 'perf_time': 0.050138800000240735, 'knowledge': 100.0, 'population': 367, 'numerosity': 367, 'reliable': 341}\n",
      "INFO:lcs.agents.Agent:{'trial': 100, 'steps_in_trial': 4, 'reward': 1000, 'perf_time': 0.0062551999999413965, 'knowledge': 100.0, 'population': 367, 'numerosity': 367, 'reliable': 341}\n",
      "INFO:lcs.agents.Agent:{'trial': 200, 'steps_in_trial': 1, 'reward': 1000, 'perf_time': 0.002870900000743859, 'knowledge': 100.0, 'population': 367, 'numerosity': 367, 'reliable': 341}\n",
      "INFO:lcs.agents.Agent:{'trial': 300, 'steps_in_trial': 2, 'reward': 1000, 'perf_time': 0.0036573999996107887, 'knowledge': 100.0, 'population': 367, 'numerosity': 367, 'reliable': 341}\n",
      "INFO:lcs.agents.Agent:{'trial': 400, 'steps_in_trial': 5, 'reward': 1000, 'perf_time': 0.011132099999485945, 'knowledge': 100.0, 'population': 367, 'numerosity': 367, 'reliable': 341}\n",
      "INFO:lcs.agents.Agent:{'trial': 500, 'steps_in_trial': 5, 'reward': 1000, 'perf_time': 0.008754200000112178, 'knowledge': 100.0, 'population': 367, 'numerosity': 367, 'reliable': 341}\n",
      "INFO:lcs.agents.Agent:{'trial': 600, 'steps_in_trial': 1, 'reward': 1000, 'perf_time': 0.0016131999991557677, 'knowledge': 100.0, 'population': 367, 'numerosity': 367, 'reliable': 341}\n",
      "INFO:lcs.agents.Agent:{'trial': 700, 'steps_in_trial': 5, 'reward': 1000, 'perf_time': 0.009628099999645201, 'knowledge': 100.0, 'population': 367, 'numerosity': 367, 'reliable': 341}\n",
      "INFO:lcs.agents.Agent:{'trial': 800, 'steps_in_trial': 7, 'reward': 1000, 'perf_time': 0.012933599999996659, 'knowledge': 100.0, 'population': 367, 'numerosity': 367, 'reliable': 341}\n",
      "INFO:lcs.agents.Agent:{'trial': 900, 'steps_in_trial': 2, 'reward': 1000, 'perf_time': 0.0036234000008334988, 'knowledge': 100.0, 'population': 367, 'numerosity': 367, 'reliable': 341}\n",
      "INFO:lcs.agents.Agent:{'trial': 1000, 'steps_in_trial': 1, 'reward': 1000, 'perf_time': 0.003154500000164262, 'knowledge': 100.0, 'population': 367, 'numerosity': 367, 'reliable': 341}\n"
     ]
    }
   ],
   "source": [
    "run_acs2_experiment()"
   ]
  },
  {
   "cell_type": "markdown",
   "metadata": {},
   "source": [
    "### RUN ACS2ER Experiments"
   ]
  },
  {
   "cell_type": "code",
   "execution_count": 20,
   "metadata": {},
   "outputs": [
    {
     "name": "stdout",
     "output_type": "stream",
     "text": [
      "START - ACS2ER - 1\n"
     ]
    },
    {
     "name": "stderr",
     "output_type": "stream",
     "text": [
      "INFO:lcs.agents.Agent:{'trial': 500, 'steps_in_trial': 16, 'reward': 1000, 'perf_time': 0.09870299999965937, 'knowledge': 64.38356164383562, 'population': 360, 'numerosity': 360, 'reliable': 199}\n",
      "INFO:lcs.agents.Agent:{'trial': 1000, 'steps_in_trial': 1, 'reward': 1000, 'perf_time': 0.004257399999914924, 'knowledge': 83.56164383561644, 'population': 345, 'numerosity': 345, 'reliable': 265}\n",
      "INFO:lcs.agents.Agent:{'trial': 1500, 'steps_in_trial': 11, 'reward': 1000, 'perf_time': 0.05215740000039659, 'knowledge': 91.0958904109589, 'population': 334, 'numerosity': 334, 'reliable': 286}\n",
      "INFO:lcs.agents.Agent:{'trial': 2000, 'steps_in_trial': 9, 'reward': 1000, 'perf_time': 0.03178589999970427, 'knowledge': 93.83561643835617, 'population': 331, 'numerosity': 331, 'reliable': 297}\n",
      "INFO:lcs.agents.Agent:{'trial': 2500, 'steps_in_trial': 22, 'reward': 1000, 'perf_time': 0.088679399999819, 'knowledge': 98.63013698630137, 'population': 349, 'numerosity': 349, 'reliable': 308}\n",
      "INFO:lcs.agents.Agent:{'trial': 3000, 'steps_in_trial': 10, 'reward': 1000, 'perf_time': 0.04235940000035043, 'knowledge': 98.63013698630137, 'population': 345, 'numerosity': 345, 'reliable': 311}\n",
      "INFO:lcs.agents.Agent:{'trial': 3500, 'steps_in_trial': 6, 'reward': 1000, 'perf_time': 0.022324700000353914, 'knowledge': 99.31506849315068, 'population': 345, 'numerosity': 345, 'reliable': 319}\n",
      "INFO:lcs.agents.Agent:{'trial': 4000, 'steps_in_trial': 3, 'reward': 1000, 'perf_time': 0.011024100000213366, 'knowledge': 99.31506849315068, 'population': 344, 'numerosity': 344, 'reliable': 325}\n",
      "INFO:lcs.agents.Agent:{'trial': 4500, 'steps_in_trial': 16, 'reward': 1000, 'perf_time': 0.07708769999953802, 'knowledge': 99.31506849315068, 'population': 342, 'numerosity': 342, 'reliable': 326}\n",
      "INFO:lcs.agents.Agent:{'trial': 5000, 'steps_in_trial': 16, 'reward': 1000, 'perf_time': 0.08880689999932656, 'knowledge': 99.31506849315068, 'population': 341, 'numerosity': 341, 'reliable': 326}\n",
      "INFO:lcs.agents.Agent:{'trial': 100, 'steps_in_trial': 7, 'reward': 1000, 'perf_time': 0.009873800000605115, 'knowledge': 99.31506849315068, 'population': 341, 'numerosity': 341, 'reliable': 326}\n",
      "INFO:lcs.agents.Agent:{'trial': 200, 'steps_in_trial': 5, 'reward': 1000, 'perf_time': 0.009267999999792664, 'knowledge': 99.31506849315068, 'population': 341, 'numerosity': 341, 'reliable': 326}\n",
      "INFO:lcs.agents.Agent:{'trial': 300, 'steps_in_trial': 9, 'reward': 1000, 'perf_time': 0.013303200000336801, 'knowledge': 99.31506849315068, 'population': 341, 'numerosity': 341, 'reliable': 326}\n",
      "INFO:lcs.agents.Agent:{'trial': 400, 'steps_in_trial': 4, 'reward': 1000, 'perf_time': 0.005885600000510749, 'knowledge': 99.31506849315068, 'population': 341, 'numerosity': 341, 'reliable': 326}\n",
      "INFO:lcs.agents.Agent:{'trial': 500, 'steps_in_trial': 3, 'reward': 1000, 'perf_time': 0.004111100000045553, 'knowledge': 99.31506849315068, 'population': 341, 'numerosity': 341, 'reliable': 326}\n",
      "INFO:lcs.agents.Agent:{'trial': 600, 'steps_in_trial': 8, 'reward': 1000, 'perf_time': 0.014471499999672233, 'knowledge': 99.31506849315068, 'population': 341, 'numerosity': 341, 'reliable': 326}\n",
      "INFO:lcs.agents.Agent:{'trial': 700, 'steps_in_trial': 9, 'reward': 1000, 'perf_time': 0.012871100000666047, 'knowledge': 99.31506849315068, 'population': 341, 'numerosity': 341, 'reliable': 326}\n",
      "INFO:lcs.agents.Agent:{'trial': 800, 'steps_in_trial': 7, 'reward': 1000, 'perf_time': 0.009713299999930314, 'knowledge': 99.31506849315068, 'population': 341, 'numerosity': 341, 'reliable': 326}\n",
      "INFO:lcs.agents.Agent:{'trial': 900, 'steps_in_trial': 5, 'reward': 1000, 'perf_time': 0.006818899999416317, 'knowledge': 99.31506849315068, 'population': 341, 'numerosity': 341, 'reliable': 326}\n",
      "INFO:lcs.agents.Agent:{'trial': 1000, 'steps_in_trial': 3, 'reward': 1000, 'perf_time': 0.003950299999814888, 'knowledge': 99.31506849315068, 'population': 341, 'numerosity': 341, 'reliable': 326}\n"
     ]
    },
    {
     "name": "stdout",
     "output_type": "stream",
     "text": [
      "END - ACS2ER - 1\n",
      "START - ACS2ER - 2\n"
     ]
    },
    {
     "name": "stderr",
     "output_type": "stream",
     "text": [
      "INFO:lcs.agents.Agent:{'trial': 500, 'steps_in_trial': 10, 'reward': 1000, 'perf_time': 0.0665034999992713, 'knowledge': 84.93150684931507, 'population': 407, 'numerosity': 407, 'reliable': 298}\n",
      "INFO:lcs.agents.Agent:{'trial': 1000, 'steps_in_trial': 3, 'reward': 1000, 'perf_time': 0.01820899999984249, 'knowledge': 96.57534246575342, 'population': 375, 'numerosity': 375, 'reliable': 346}\n",
      "INFO:lcs.agents.Agent:{'trial': 1500, 'steps_in_trial': 10, 'reward': 1000, 'perf_time': 0.06547390000014275, 'knowledge': 98.63013698630137, 'population': 364, 'numerosity': 364, 'reliable': 351}\n",
      "INFO:lcs.agents.Agent:{'trial': 2000, 'steps_in_trial': 5, 'reward': 1000, 'perf_time': 0.03500700000040524, 'knowledge': 98.63013698630137, 'population': 359, 'numerosity': 359, 'reliable': 351}\n",
      "INFO:lcs.agents.Agent:{'trial': 2500, 'steps_in_trial': 6, 'reward': 1000, 'perf_time': 0.03574349999962578, 'knowledge': 100.0, 'population': 358, 'numerosity': 358, 'reliable': 354}\n",
      "INFO:lcs.agents.Agent:{'trial': 3000, 'steps_in_trial': 10, 'reward': 1000, 'perf_time': 0.0616768999998385, 'knowledge': 100.0, 'population': 358, 'numerosity': 358, 'reliable': 354}\n",
      "INFO:lcs.agents.Agent:{'trial': 3500, 'steps_in_trial': 5, 'reward': 1000, 'perf_time': 0.03219179999996413, 'knowledge': 100.0, 'population': 357, 'numerosity': 357, 'reliable': 355}\n",
      "INFO:lcs.agents.Agent:{'trial': 4000, 'steps_in_trial': 6, 'reward': 1000, 'perf_time': 0.03466829999979382, 'knowledge': 100.0, 'population': 356, 'numerosity': 356, 'reliable': 355}\n",
      "INFO:lcs.agents.Agent:{'trial': 4500, 'steps_in_trial': 14, 'reward': 1000, 'perf_time': 0.09102290000009816, 'knowledge': 100.0, 'population': 356, 'numerosity': 356, 'reliable': 355}\n",
      "INFO:lcs.agents.Agent:{'trial': 5000, 'steps_in_trial': 8, 'reward': 1000, 'perf_time': 0.04826870000033523, 'knowledge': 100.0, 'population': 355, 'numerosity': 355, 'reliable': 355}\n",
      "INFO:lcs.agents.Agent:{'trial': 100, 'steps_in_trial': 6, 'reward': 1000, 'perf_time': 0.009415400001671514, 'knowledge': 100.0, 'population': 355, 'numerosity': 355, 'reliable': 355}\n",
      "INFO:lcs.agents.Agent:{'trial': 200, 'steps_in_trial': 5, 'reward': 1000, 'perf_time': 0.0103648999993311, 'knowledge': 100.0, 'population': 355, 'numerosity': 355, 'reliable': 355}\n",
      "INFO:lcs.agents.Agent:{'trial': 300, 'steps_in_trial': 5, 'reward': 1000, 'perf_time': 0.010272499999700813, 'knowledge': 100.0, 'population': 355, 'numerosity': 355, 'reliable': 355}\n",
      "INFO:lcs.agents.Agent:{'trial': 400, 'steps_in_trial': 3, 'reward': 1000, 'perf_time': 0.009091099998840946, 'knowledge': 100.0, 'population': 355, 'numerosity': 355, 'reliable': 355}\n",
      "INFO:lcs.agents.Agent:{'trial': 500, 'steps_in_trial': 2, 'reward': 1000, 'perf_time': 0.0029708000001846813, 'knowledge': 100.0, 'population': 355, 'numerosity': 355, 'reliable': 355}\n",
      "INFO:lcs.agents.Agent:{'trial': 600, 'steps_in_trial': 2, 'reward': 1000, 'perf_time': 0.007499400000597234, 'knowledge': 100.0, 'population': 355, 'numerosity': 355, 'reliable': 355}\n",
      "INFO:lcs.agents.Agent:{'trial': 700, 'steps_in_trial': 2, 'reward': 1000, 'perf_time': 0.006498299999293522, 'knowledge': 100.0, 'population': 355, 'numerosity': 355, 'reliable': 355}\n",
      "INFO:lcs.agents.Agent:{'trial': 800, 'steps_in_trial': 7, 'reward': 1000, 'perf_time': 0.08807170000000042, 'knowledge': 100.0, 'population': 355, 'numerosity': 355, 'reliable': 355}\n",
      "INFO:lcs.agents.Agent:{'trial': 900, 'steps_in_trial': 6, 'reward': 1000, 'perf_time': 0.018077000000630505, 'knowledge': 100.0, 'population': 355, 'numerosity': 355, 'reliable': 355}\n",
      "INFO:lcs.agents.Agent:{'trial': 1000, 'steps_in_trial': 5, 'reward': 1000, 'perf_time': 0.012721099999907892, 'knowledge': 100.0, 'population': 355, 'numerosity': 355, 'reliable': 355}\n"
     ]
    },
    {
     "name": "stdout",
     "output_type": "stream",
     "text": [
      "END - ACS2ER - 2\n",
      "START - ACS2ER - 3\n"
     ]
    },
    {
     "name": "stderr",
     "output_type": "stream",
     "text": [
      "INFO:lcs.agents.Agent:{'trial': 500, 'steps_in_trial': 17, 'reward': 1000, 'perf_time': 0.2118371999986266, 'knowledge': 87.67123287671232, 'population': 403, 'numerosity': 403, 'reliable': 324}\n",
      "INFO:lcs.agents.Agent:{'trial': 1000, 'steps_in_trial': 2, 'reward': 1000, 'perf_time': 0.024976600001537008, 'knowledge': 97.94520547945206, 'population': 376, 'numerosity': 376, 'reliable': 355}\n",
      "INFO:lcs.agents.Agent:{'trial': 1500, 'steps_in_trial': 5, 'reward': 1000, 'perf_time': 0.06125380000048608, 'knowledge': 100.0, 'population': 370, 'numerosity': 370, 'reliable': 364}\n",
      "INFO:lcs.agents.Agent:{'trial': 2000, 'steps_in_trial': 10, 'reward': 1000, 'perf_time': 0.0915421999998216, 'knowledge': 100.0, 'population': 367, 'numerosity': 367, 'reliable': 364}\n",
      "INFO:lcs.agents.Agent:{'trial': 2500, 'steps_in_trial': 24, 'reward': 1000, 'perf_time': 0.2605751999999484, 'knowledge': 100.0, 'population': 366, 'numerosity': 366, 'reliable': 364}\n",
      "INFO:lcs.agents.Agent:{'trial': 3000, 'steps_in_trial': 9, 'reward': 1000, 'perf_time': 0.08137809999971068, 'knowledge': 100.0, 'population': 365, 'numerosity': 365, 'reliable': 364}\n",
      "INFO:lcs.agents.Agent:{'trial': 3500, 'steps_in_trial': 16, 'reward': 1000, 'perf_time': 0.14428630000111298, 'knowledge': 100.0, 'population': 364, 'numerosity': 364, 'reliable': 364}\n",
      "INFO:lcs.agents.Agent:{'trial': 4000, 'steps_in_trial': 9, 'reward': 1000, 'perf_time': 0.09331960000054096, 'knowledge': 100.0, 'population': 364, 'numerosity': 364, 'reliable': 364}\n",
      "INFO:lcs.agents.Agent:{'trial': 4500, 'steps_in_trial': 2, 'reward': 1000, 'perf_time': 0.01676720000068599, 'knowledge': 100.0, 'population': 364, 'numerosity': 364, 'reliable': 364}\n",
      "INFO:lcs.agents.Agent:{'trial': 5000, 'steps_in_trial': 14, 'reward': 1000, 'perf_time': 0.12893890000123065, 'knowledge': 100.0, 'population': 364, 'numerosity': 364, 'reliable': 364}\n",
      "INFO:lcs.agents.Agent:{'trial': 100, 'steps_in_trial': 1, 'reward': 1000, 'perf_time': 0.0014613000003009802, 'knowledge': 100.0, 'population': 364, 'numerosity': 364, 'reliable': 364}\n",
      "INFO:lcs.agents.Agent:{'trial': 200, 'steps_in_trial': 6, 'reward': 1000, 'perf_time': 0.008669200000440469, 'knowledge': 100.0, 'population': 364, 'numerosity': 364, 'reliable': 364}\n",
      "INFO:lcs.agents.Agent:{'trial': 300, 'steps_in_trial': 5, 'reward': 1000, 'perf_time': 0.007811100000253646, 'knowledge': 100.0, 'population': 364, 'numerosity': 364, 'reliable': 364}\n",
      "INFO:lcs.agents.Agent:{'trial': 400, 'steps_in_trial': 2, 'reward': 1000, 'perf_time': 0.0029538999988290016, 'knowledge': 100.0, 'population': 364, 'numerosity': 364, 'reliable': 364}\n",
      "INFO:lcs.agents.Agent:{'trial': 500, 'steps_in_trial': 6, 'reward': 1000, 'perf_time': 0.009969400000045425, 'knowledge': 100.0, 'population': 364, 'numerosity': 364, 'reliable': 364}\n",
      "INFO:lcs.agents.Agent:{'trial': 600, 'steps_in_trial': 6, 'reward': 1000, 'perf_time': 0.010431500000777305, 'knowledge': 100.0, 'population': 364, 'numerosity': 364, 'reliable': 364}\n",
      "INFO:lcs.agents.Agent:{'trial': 700, 'steps_in_trial': 6, 'reward': 1000, 'perf_time': 0.009948599999916041, 'knowledge': 100.0, 'population': 364, 'numerosity': 364, 'reliable': 364}\n",
      "INFO:lcs.agents.Agent:{'trial': 800, 'steps_in_trial': 5, 'reward': 1000, 'perf_time': 0.008147299999109237, 'knowledge': 100.0, 'population': 364, 'numerosity': 364, 'reliable': 364}\n",
      "INFO:lcs.agents.Agent:{'trial': 900, 'steps_in_trial': 6, 'reward': 1000, 'perf_time': 0.015914599998723133, 'knowledge': 100.0, 'population': 364, 'numerosity': 364, 'reliable': 364}\n",
      "INFO:lcs.agents.Agent:{'trial': 1000, 'steps_in_trial': 5, 'reward': 1000, 'perf_time': 0.007904699999926379, 'knowledge': 100.0, 'population': 364, 'numerosity': 364, 'reliable': 364}\n"
     ]
    },
    {
     "name": "stdout",
     "output_type": "stream",
     "text": [
      "END - ACS2ER - 3\n",
      "START - ACS2ER - 4\n"
     ]
    },
    {
     "name": "stderr",
     "output_type": "stream",
     "text": [
      "INFO:lcs.agents.Agent:{'trial': 500, 'steps_in_trial': 2, 'reward': 1000, 'perf_time': 0.043440800000098534, 'knowledge': 95.2054794520548, 'population': 414, 'numerosity': 414, 'reliable': 370}\n",
      "INFO:lcs.agents.Agent:{'trial': 1000, 'steps_in_trial': 7, 'reward': 1000, 'perf_time': 0.09100990000115416, 'knowledge': 100.0, 'population': 393, 'numerosity': 393, 'reliable': 383}\n",
      "INFO:lcs.agents.Agent:{'trial': 1500, 'steps_in_trial': 4, 'reward': 1000, 'perf_time': 0.05237430000124732, 'knowledge': 100.0, 'population': 386, 'numerosity': 386, 'reliable': 386}\n",
      "INFO:lcs.agents.Agent:{'trial': 2000, 'steps_in_trial': 3, 'reward': 1000, 'perf_time': 0.03526659999988624, 'knowledge': 100.0, 'population': 386, 'numerosity': 386, 'reliable': 386}\n",
      "INFO:lcs.agents.Agent:{'trial': 2500, 'steps_in_trial': 10, 'reward': 1000, 'perf_time': 0.11089619999984279, 'knowledge': 100.0, 'population': 386, 'numerosity': 386, 'reliable': 386}\n",
      "INFO:lcs.agents.Agent:{'trial': 3000, 'steps_in_trial': 10, 'reward': 1000, 'perf_time': 0.11294079999970563, 'knowledge': 100.0, 'population': 386, 'numerosity': 386, 'reliable': 386}\n",
      "INFO:lcs.agents.Agent:{'trial': 3500, 'steps_in_trial': 19, 'reward': 1000, 'perf_time': 0.21827330000087386, 'knowledge': 100.0, 'population': 386, 'numerosity': 386, 'reliable': 386}\n",
      "INFO:lcs.agents.Agent:{'trial': 4000, 'steps_in_trial': 11, 'reward': 1000, 'perf_time': 0.12521889999879932, 'knowledge': 100.0, 'population': 386, 'numerosity': 386, 'reliable': 386}\n",
      "INFO:lcs.agents.Agent:{'trial': 4500, 'steps_in_trial': 5, 'reward': 1000, 'perf_time': 0.055216100001416635, 'knowledge': 100.0, 'population': 386, 'numerosity': 386, 'reliable': 386}\n",
      "INFO:lcs.agents.Agent:{'trial': 5000, 'steps_in_trial': 18, 'reward': 1000, 'perf_time': 0.8535866000001988, 'knowledge': 100.0, 'population': 386, 'numerosity': 386, 'reliable': 386}\n",
      "INFO:lcs.agents.Agent:{'trial': 100, 'steps_in_trial': 5, 'reward': 1000, 'perf_time': 0.00756320000073174, 'knowledge': 100.0, 'population': 386, 'numerosity': 386, 'reliable': 386}\n",
      "INFO:lcs.agents.Agent:{'trial': 200, 'steps_in_trial': 7, 'reward': 1000, 'perf_time': 0.017324000000371598, 'knowledge': 100.0, 'population': 386, 'numerosity': 386, 'reliable': 386}\n",
      "INFO:lcs.agents.Agent:{'trial': 300, 'steps_in_trial': 6, 'reward': 1000, 'perf_time': 0.009704899999633199, 'knowledge': 100.0, 'population': 386, 'numerosity': 386, 'reliable': 386}\n",
      "INFO:lcs.agents.Agent:{'trial': 400, 'steps_in_trial': 3, 'reward': 1000, 'perf_time': 0.004429900000104681, 'knowledge': 100.0, 'population': 386, 'numerosity': 386, 'reliable': 386}\n",
      "INFO:lcs.agents.Agent:{'trial': 500, 'steps_in_trial': 4, 'reward': 1000, 'perf_time': 0.006002900001476519, 'knowledge': 100.0, 'population': 386, 'numerosity': 386, 'reliable': 386}\n",
      "INFO:lcs.agents.Agent:{'trial': 600, 'steps_in_trial': 2, 'reward': 1000, 'perf_time': 0.005471700000271085, 'knowledge': 100.0, 'population': 386, 'numerosity': 386, 'reliable': 386}\n",
      "INFO:lcs.agents.Agent:{'trial': 700, 'steps_in_trial': 5, 'reward': 1000, 'perf_time': 0.007735799999863957, 'knowledge': 100.0, 'population': 386, 'numerosity': 386, 'reliable': 386}\n",
      "INFO:lcs.agents.Agent:{'trial': 800, 'steps_in_trial': 5, 'reward': 1000, 'perf_time': 0.006892699999298202, 'knowledge': 100.0, 'population': 386, 'numerosity': 386, 'reliable': 386}\n",
      "INFO:lcs.agents.Agent:{'trial': 900, 'steps_in_trial': 6, 'reward': 1000, 'perf_time': 0.008708399998795358, 'knowledge': 100.0, 'population': 386, 'numerosity': 386, 'reliable': 386}\n",
      "INFO:lcs.agents.Agent:{'trial': 1000, 'steps_in_trial': 6, 'reward': 1000, 'perf_time': 0.008869300001606462, 'knowledge': 100.0, 'population': 386, 'numerosity': 386, 'reliable': 386}\n"
     ]
    },
    {
     "name": "stdout",
     "output_type": "stream",
     "text": [
      "END - ACS2ER - 4\n",
      "START - ACS2ER - 5\n"
     ]
    },
    {
     "name": "stderr",
     "output_type": "stream",
     "text": [
      "INFO:lcs.agents.Agent:{'trial': 500, 'steps_in_trial': 25, 'reward': 1000, 'perf_time': 0.38900810000086494, 'knowledge': 98.63013698630137, 'population': 381, 'numerosity': 381, 'reliable': 344}\n",
      "INFO:lcs.agents.Agent:{'trial': 1000, 'steps_in_trial': 8, 'reward': 1000, 'perf_time': 0.09702319999996689, 'knowledge': 100.0, 'population': 358, 'numerosity': 358, 'reliable': 354}\n",
      "INFO:lcs.agents.Agent:{'trial': 1500, 'steps_in_trial': 5, 'reward': 1000, 'perf_time': 0.06449310000061814, 'knowledge': 100.0, 'population': 357, 'numerosity': 357, 'reliable': 354}\n",
      "INFO:lcs.agents.Agent:{'trial': 2000, 'steps_in_trial': 8, 'reward': 1000, 'perf_time': 0.10459110000010696, 'knowledge': 100.0, 'population': 355, 'numerosity': 355, 'reliable': 354}\n",
      "INFO:lcs.agents.Agent:{'trial': 2500, 'steps_in_trial': 26, 'reward': 1000, 'perf_time': 0.32029590000092867, 'knowledge': 100.0, 'population': 354, 'numerosity': 354, 'reliable': 354}\n",
      "INFO:lcs.agents.Agent:{'trial': 3000, 'steps_in_trial': 5, 'reward': 1000, 'perf_time': 0.0836710999992647, 'knowledge': 100.0, 'population': 354, 'numerosity': 354, 'reliable': 354}\n",
      "INFO:lcs.agents.Agent:{'trial': 3500, 'steps_in_trial': 14, 'reward': 1000, 'perf_time': 0.18418339999880118, 'knowledge': 100.0, 'population': 354, 'numerosity': 354, 'reliable': 354}\n",
      "INFO:lcs.agents.Agent:{'trial': 4000, 'steps_in_trial': 5, 'reward': 1000, 'perf_time': 0.061659200000576675, 'knowledge': 100.0, 'population': 354, 'numerosity': 354, 'reliable': 354}\n",
      "INFO:lcs.agents.Agent:{'trial': 4500, 'steps_in_trial': 11, 'reward': 1000, 'perf_time': 0.13588940000045113, 'knowledge': 100.0, 'population': 354, 'numerosity': 354, 'reliable': 354}\n",
      "INFO:lcs.agents.Agent:{'trial': 5000, 'steps_in_trial': 1, 'reward': 1000, 'perf_time': 0.012224699999933364, 'knowledge': 100.0, 'population': 354, 'numerosity': 354, 'reliable': 354}\n",
      "INFO:lcs.agents.Agent:{'trial': 100, 'steps_in_trial': 6, 'reward': 1000, 'perf_time': 0.009259899999960908, 'knowledge': 100.0, 'population': 354, 'numerosity': 354, 'reliable': 354}\n",
      "INFO:lcs.agents.Agent:{'trial': 200, 'steps_in_trial': 3, 'reward': 1000, 'perf_time': 0.004357100000561331, 'knowledge': 100.0, 'population': 354, 'numerosity': 354, 'reliable': 354}\n",
      "INFO:lcs.agents.Agent:{'trial': 300, 'steps_in_trial': 5, 'reward': 1000, 'perf_time': 0.0066075999984605005, 'knowledge': 100.0, 'population': 354, 'numerosity': 354, 'reliable': 354}\n",
      "INFO:lcs.agents.Agent:{'trial': 400, 'steps_in_trial': 6, 'reward': 1000, 'perf_time': 0.008561099999496946, 'knowledge': 100.0, 'population': 354, 'numerosity': 354, 'reliable': 354}\n",
      "INFO:lcs.agents.Agent:{'trial': 500, 'steps_in_trial': 3, 'reward': 1000, 'perf_time': 0.00417600000037055, 'knowledge': 100.0, 'population': 354, 'numerosity': 354, 'reliable': 354}\n",
      "INFO:lcs.agents.Agent:{'trial': 600, 'steps_in_trial': 4, 'reward': 1000, 'perf_time': 0.00487520000024233, 'knowledge': 100.0, 'population': 354, 'numerosity': 354, 'reliable': 354}\n",
      "INFO:lcs.agents.Agent:{'trial': 700, 'steps_in_trial': 6, 'reward': 1000, 'perf_time': 0.007925200001409394, 'knowledge': 100.0, 'population': 354, 'numerosity': 354, 'reliable': 354}\n",
      "INFO:lcs.agents.Agent:{'trial': 800, 'steps_in_trial': 1, 'reward': 1000, 'perf_time': 0.0013091000000713393, 'knowledge': 100.0, 'population': 354, 'numerosity': 354, 'reliable': 354}\n",
      "INFO:lcs.agents.Agent:{'trial': 900, 'steps_in_trial': 5, 'reward': 1000, 'perf_time': 0.006949499998881947, 'knowledge': 100.0, 'population': 354, 'numerosity': 354, 'reliable': 354}\n",
      "INFO:lcs.agents.Agent:{'trial': 1000, 'steps_in_trial': 4, 'reward': 1000, 'perf_time': 0.005016099999920698, 'knowledge': 100.0, 'population': 354, 'numerosity': 354, 'reliable': 354}\n"
     ]
    },
    {
     "name": "stdout",
     "output_type": "stream",
     "text": [
      "END - ACS2ER - 5\n",
      "START - ACS2ER - 6\n"
     ]
    },
    {
     "name": "stderr",
     "output_type": "stream",
     "text": [
      "INFO:lcs.agents.Agent:{'trial': 500, 'steps_in_trial': 15, 'reward': 1000, 'perf_time': 0.2415424000009807, 'knowledge': 97.26027397260275, 'population': 386, 'numerosity': 386, 'reliable': 357}\n",
      "INFO:lcs.agents.Agent:{'trial': 1000, 'steps_in_trial': 7, 'reward': 1000, 'perf_time': 0.10559629999988829, 'knowledge': 99.31506849315068, 'population': 374, 'numerosity': 374, 'reliable': 369}\n",
      "INFO:lcs.agents.Agent:{'trial': 1500, 'steps_in_trial': 5, 'reward': 1000, 'perf_time': 0.07725260000006529, 'knowledge': 99.31506849315068, 'population': 373, 'numerosity': 373, 'reliable': 369}\n",
      "INFO:lcs.agents.Agent:{'trial': 2000, 'steps_in_trial': 14, 'reward': 1000, 'perf_time': 0.21602209999946353, 'knowledge': 100.0, 'population': 371, 'numerosity': 371, 'reliable': 370}\n",
      "INFO:lcs.agents.Agent:{'trial': 2500, 'steps_in_trial': 5, 'reward': 1000, 'perf_time': 0.07816789999924367, 'knowledge': 100.0, 'population': 370, 'numerosity': 370, 'reliable': 370}\n",
      "INFO:lcs.agents.Agent:{'trial': 3000, 'steps_in_trial': 5, 'reward': 1000, 'perf_time': 0.0772607999988395, 'knowledge': 100.0, 'population': 370, 'numerosity': 370, 'reliable': 370}\n",
      "INFO:lcs.agents.Agent:{'trial': 3500, 'steps_in_trial': 4, 'reward': 1000, 'perf_time': 0.05630630000086967, 'knowledge': 100.0, 'population': 370, 'numerosity': 370, 'reliable': 370}\n",
      "INFO:lcs.agents.Agent:{'trial': 4000, 'steps_in_trial': 15, 'reward': 1000, 'perf_time': 0.21585229999982403, 'knowledge': 100.0, 'population': 370, 'numerosity': 370, 'reliable': 370}\n",
      "INFO:lcs.agents.Agent:{'trial': 4500, 'steps_in_trial': 11, 'reward': 1000, 'perf_time': 0.15083830000003218, 'knowledge': 100.0, 'population': 370, 'numerosity': 370, 'reliable': 370}\n",
      "INFO:lcs.agents.Agent:{'trial': 5000, 'steps_in_trial': 8, 'reward': 1000, 'perf_time': 0.11395470000024943, 'knowledge': 100.0, 'population': 370, 'numerosity': 370, 'reliable': 370}\n",
      "INFO:lcs.agents.Agent:{'trial': 100, 'steps_in_trial': 5, 'reward': 1000, 'perf_time': 0.007222300000648829, 'knowledge': 100.0, 'population': 370, 'numerosity': 370, 'reliable': 370}\n",
      "INFO:lcs.agents.Agent:{'trial': 200, 'steps_in_trial': 5, 'reward': 1000, 'perf_time': 0.0067759999983536545, 'knowledge': 100.0, 'population': 370, 'numerosity': 370, 'reliable': 370}\n",
      "INFO:lcs.agents.Agent:{'trial': 300, 'steps_in_trial': 2, 'reward': 1000, 'perf_time': 0.0028684000008070143, 'knowledge': 100.0, 'population': 370, 'numerosity': 370, 'reliable': 370}\n",
      "INFO:lcs.agents.Agent:{'trial': 400, 'steps_in_trial': 5, 'reward': 1000, 'perf_time': 0.006782000000384869, 'knowledge': 100.0, 'population': 370, 'numerosity': 370, 'reliable': 370}\n",
      "INFO:lcs.agents.Agent:{'trial': 500, 'steps_in_trial': 2, 'reward': 1000, 'perf_time': 0.0026794999994308455, 'knowledge': 100.0, 'population': 370, 'numerosity': 370, 'reliable': 370}\n",
      "INFO:lcs.agents.Agent:{'trial': 600, 'steps_in_trial': 6, 'reward': 1000, 'perf_time': 0.007820099999662489, 'knowledge': 100.0, 'population': 370, 'numerosity': 370, 'reliable': 370}\n",
      "INFO:lcs.agents.Agent:{'trial': 700, 'steps_in_trial': 6, 'reward': 1000, 'perf_time': 0.008359800000107498, 'knowledge': 100.0, 'population': 370, 'numerosity': 370, 'reliable': 370}\n",
      "INFO:lcs.agents.Agent:{'trial': 800, 'steps_in_trial': 5, 'reward': 1000, 'perf_time': 0.011805199999798788, 'knowledge': 100.0, 'population': 370, 'numerosity': 370, 'reliable': 370}\n",
      "INFO:lcs.agents.Agent:{'trial': 900, 'steps_in_trial': 4, 'reward': 1000, 'perf_time': 0.005665000000590226, 'knowledge': 100.0, 'population': 370, 'numerosity': 370, 'reliable': 370}\n",
      "INFO:lcs.agents.Agent:{'trial': 1000, 'steps_in_trial': 3, 'reward': 1000, 'perf_time': 0.004128000000491738, 'knowledge': 100.0, 'population': 370, 'numerosity': 370, 'reliable': 370}\n"
     ]
    },
    {
     "name": "stdout",
     "output_type": "stream",
     "text": [
      "END - ACS2ER - 6\n",
      "START - ACS2ER - 7\n"
     ]
    },
    {
     "name": "stderr",
     "output_type": "stream",
     "text": [
      "INFO:lcs.agents.Agent:{'trial': 500, 'steps_in_trial': 12, 'reward': 1000, 'perf_time': 0.2473335999984556, 'knowledge': 97.26027397260275, 'population': 421, 'numerosity': 421, 'reliable': 397}\n",
      "INFO:lcs.agents.Agent:{'trial': 1000, 'steps_in_trial': 7, 'reward': 1000, 'perf_time': 0.14085439999871596, 'knowledge': 99.31506849315068, 'population': 412, 'numerosity': 412, 'reliable': 404}\n",
      "INFO:lcs.agents.Agent:{'trial': 1500, 'steps_in_trial': 20, 'reward': 1000, 'perf_time': 0.38232049999896844, 'knowledge': 100.0, 'population': 407, 'numerosity': 407, 'reliable': 405}\n",
      "INFO:lcs.agents.Agent:{'trial': 2000, 'steps_in_trial': 11, 'reward': 1000, 'perf_time': 0.22081649999927322, 'knowledge': 100.0, 'population': 406, 'numerosity': 406, 'reliable': 405}\n",
      "INFO:lcs.agents.Agent:{'trial': 2500, 'steps_in_trial': 12, 'reward': 1000, 'perf_time': 0.2385439999998198, 'knowledge': 100.0, 'population': 405, 'numerosity': 405, 'reliable': 405}\n",
      "INFO:lcs.agents.Agent:{'trial': 3000, 'steps_in_trial': 7, 'reward': 1000, 'perf_time': 0.13300130000061472, 'knowledge': 100.0, 'population': 405, 'numerosity': 405, 'reliable': 405}\n",
      "INFO:lcs.agents.Agent:{'trial': 3500, 'steps_in_trial': 3, 'reward': 1000, 'perf_time': 0.05834399999912421, 'knowledge': 100.0, 'population': 405, 'numerosity': 405, 'reliable': 405}\n",
      "INFO:lcs.agents.Agent:{'trial': 4000, 'steps_in_trial': 14, 'reward': 1000, 'perf_time': 0.2798791999994137, 'knowledge': 100.0, 'population': 405, 'numerosity': 405, 'reliable': 405}\n",
      "INFO:lcs.agents.Agent:{'trial': 4500, 'steps_in_trial': 9, 'reward': 1000, 'perf_time': 0.20129780000024766, 'knowledge': 100.0, 'population': 405, 'numerosity': 405, 'reliable': 405}\n",
      "INFO:lcs.agents.Agent:{'trial': 5000, 'steps_in_trial': 9, 'reward': 1000, 'perf_time': 0.16783370000121067, 'knowledge': 100.0, 'population': 405, 'numerosity': 405, 'reliable': 405}\n",
      "INFO:lcs.agents.Agent:{'trial': 100, 'steps_in_trial': 6, 'reward': 1000, 'perf_time': 0.009036200000991812, 'knowledge': 100.0, 'population': 405, 'numerosity': 405, 'reliable': 405}\n",
      "INFO:lcs.agents.Agent:{'trial': 200, 'steps_in_trial': 2, 'reward': 1000, 'perf_time': 0.002807599999869126, 'knowledge': 100.0, 'population': 405, 'numerosity': 405, 'reliable': 405}\n",
      "INFO:lcs.agents.Agent:{'trial': 300, 'steps_in_trial': 5, 'reward': 1000, 'perf_time': 0.007284299999810173, 'knowledge': 100.0, 'population': 405, 'numerosity': 405, 'reliable': 405}\n",
      "INFO:lcs.agents.Agent:{'trial': 400, 'steps_in_trial': 4, 'reward': 1000, 'perf_time': 0.005729799999244278, 'knowledge': 100.0, 'population': 405, 'numerosity': 405, 'reliable': 405}\n",
      "INFO:lcs.agents.Agent:{'trial': 500, 'steps_in_trial': 5, 'reward': 1000, 'perf_time': 0.00744719999966037, 'knowledge': 100.0, 'population': 405, 'numerosity': 405, 'reliable': 405}\n",
      "INFO:lcs.agents.Agent:{'trial': 600, 'steps_in_trial': 3, 'reward': 1000, 'perf_time': 0.005376500001148088, 'knowledge': 100.0, 'population': 405, 'numerosity': 405, 'reliable': 405}\n",
      "INFO:lcs.agents.Agent:{'trial': 700, 'steps_in_trial': 6, 'reward': 1000, 'perf_time': 0.008971000001110951, 'knowledge': 100.0, 'population': 405, 'numerosity': 405, 'reliable': 405}\n",
      "INFO:lcs.agents.Agent:{'trial': 800, 'steps_in_trial': 6, 'reward': 1000, 'perf_time': 0.008573099999921396, 'knowledge': 100.0, 'population': 405, 'numerosity': 405, 'reliable': 405}\n",
      "INFO:lcs.agents.Agent:{'trial': 900, 'steps_in_trial': 7, 'reward': 1000, 'perf_time': 0.010159800000110408, 'knowledge': 100.0, 'population': 405, 'numerosity': 405, 'reliable': 405}\n",
      "INFO:lcs.agents.Agent:{'trial': 1000, 'steps_in_trial': 6, 'reward': 1000, 'perf_time': 0.008638200000859797, 'knowledge': 100.0, 'population': 405, 'numerosity': 405, 'reliable': 405}\n"
     ]
    },
    {
     "name": "stdout",
     "output_type": "stream",
     "text": [
      "END - ACS2ER - 7\n",
      "START - ACS2ER - 8\n"
     ]
    },
    {
     "name": "stderr",
     "output_type": "stream",
     "text": [
      "INFO:lcs.agents.Agent:{'trial': 500, 'steps_in_trial': 11, 'reward': 1000, 'perf_time': 0.2032842000007804, 'knowledge': 96.57534246575342, 'population': 351, 'numerosity': 351, 'reliable': 328}\n",
      "INFO:lcs.agents.Agent:{'trial': 1000, 'steps_in_trial': 7, 'reward': 1000, 'perf_time': 0.12055680000048596, 'knowledge': 99.31506849315068, 'population': 347, 'numerosity': 347, 'reliable': 334}\n",
      "INFO:lcs.agents.Agent:{'trial': 1500, 'steps_in_trial': 13, 'reward': 1000, 'perf_time': 0.22410020000097575, 'knowledge': 100.0, 'population': 340, 'numerosity': 340, 'reliable': 335}\n",
      "INFO:lcs.agents.Agent:{'trial': 2000, 'steps_in_trial': 16, 'reward': 1000, 'perf_time': 0.2685143999988213, 'knowledge': 100.0, 'population': 339, 'numerosity': 339, 'reliable': 339}\n",
      "INFO:lcs.agents.Agent:{'trial': 2500, 'steps_in_trial': 16, 'reward': 1000, 'perf_time': 0.27250629999980447, 'knowledge': 100.0, 'population': 339, 'numerosity': 339, 'reliable': 339}\n",
      "INFO:lcs.agents.Agent:{'trial': 3000, 'steps_in_trial': 7, 'reward': 1000, 'perf_time': 0.11883160000070347, 'knowledge': 100.0, 'population': 339, 'numerosity': 339, 'reliable': 339}\n",
      "INFO:lcs.agents.Agent:{'trial': 3500, 'steps_in_trial': 8, 'reward': 1000, 'perf_time': 0.14004339999883086, 'knowledge': 100.0, 'population': 339, 'numerosity': 339, 'reliable': 339}\n",
      "INFO:lcs.agents.Agent:{'trial': 4000, 'steps_in_trial': 22, 'reward': 1000, 'perf_time': 0.3737956999993912, 'knowledge': 100.0, 'population': 339, 'numerosity': 339, 'reliable': 339}\n",
      "INFO:lcs.agents.Agent:{'trial': 4500, 'steps_in_trial': 16, 'reward': 1000, 'perf_time': 0.3481509000012011, 'knowledge': 100.0, 'population': 339, 'numerosity': 339, 'reliable': 339}\n",
      "INFO:lcs.agents.Agent:{'trial': 5000, 'steps_in_trial': 12, 'reward': 1000, 'perf_time': 0.2135606000010739, 'knowledge': 100.0, 'population': 339, 'numerosity': 339, 'reliable': 339}\n",
      "INFO:lcs.agents.Agent:{'trial': 100, 'steps_in_trial': 6, 'reward': 1000, 'perf_time': 0.007362299998931121, 'knowledge': 100.0, 'population': 339, 'numerosity': 339, 'reliable': 339}\n",
      "INFO:lcs.agents.Agent:{'trial': 200, 'steps_in_trial': 6, 'reward': 1000, 'perf_time': 0.007657000001927372, 'knowledge': 100.0, 'population': 339, 'numerosity': 339, 'reliable': 339}\n",
      "INFO:lcs.agents.Agent:{'trial': 300, 'steps_in_trial': 6, 'reward': 1000, 'perf_time': 0.007302900001377566, 'knowledge': 100.0, 'population': 339, 'numerosity': 339, 'reliable': 339}\n",
      "INFO:lcs.agents.Agent:{'trial': 400, 'steps_in_trial': 7, 'reward': 1000, 'perf_time': 0.009067099999811035, 'knowledge': 100.0, 'population': 339, 'numerosity': 339, 'reliable': 339}\n",
      "INFO:lcs.agents.Agent:{'trial': 500, 'steps_in_trial': 7, 'reward': 1000, 'perf_time': 0.010002699997130549, 'knowledge': 100.0, 'population': 339, 'numerosity': 339, 'reliable': 339}\n",
      "INFO:lcs.agents.Agent:{'trial': 600, 'steps_in_trial': 7, 'reward': 1000, 'perf_time': 0.01066710000304738, 'knowledge': 100.0, 'population': 339, 'numerosity': 339, 'reliable': 339}\n",
      "INFO:lcs.agents.Agent:{'trial': 700, 'steps_in_trial': 5, 'reward': 1000, 'perf_time': 0.006010400000377558, 'knowledge': 100.0, 'population': 339, 'numerosity': 339, 'reliable': 339}\n",
      "INFO:lcs.agents.Agent:{'trial': 800, 'steps_in_trial': 3, 'reward': 1000, 'perf_time': 0.004262000002199784, 'knowledge': 100.0, 'population': 339, 'numerosity': 339, 'reliable': 339}\n",
      "INFO:lcs.agents.Agent:{'trial': 900, 'steps_in_trial': 2, 'reward': 1000, 'perf_time': 0.002378500001213979, 'knowledge': 100.0, 'population': 339, 'numerosity': 339, 'reliable': 339}\n",
      "INFO:lcs.agents.Agent:{'trial': 1000, 'steps_in_trial': 4, 'reward': 1000, 'perf_time': 0.004790999999386258, 'knowledge': 100.0, 'population': 339, 'numerosity': 339, 'reliable': 339}\n"
     ]
    },
    {
     "name": "stdout",
     "output_type": "stream",
     "text": [
      "END - ACS2ER - 8\n",
      "START - ACS2ER - 9\n"
     ]
    },
    {
     "name": "stderr",
     "output_type": "stream",
     "text": [
      "INFO:lcs.agents.Agent:{'trial': 500, 'steps_in_trial': 7, 'reward': 1000, 'perf_time': 0.15662739999970654, 'knowledge': 100.0, 'population': 383, 'numerosity': 383, 'reliable': 373}\n",
      "INFO:lcs.agents.Agent:{'trial': 1000, 'steps_in_trial': 13, 'reward': 1000, 'perf_time': 0.28434220000053756, 'knowledge': 100.0, 'population': 375, 'numerosity': 375, 'reliable': 374}\n",
      "INFO:lcs.agents.Agent:{'trial': 1500, 'steps_in_trial': 7, 'reward': 1000, 'perf_time': 0.16360809999969206, 'knowledge': 100.0, 'population': 374, 'numerosity': 374, 'reliable': 374}\n",
      "INFO:lcs.agents.Agent:{'trial': 2000, 'steps_in_trial': 18, 'reward': 1000, 'perf_time': 0.4236420999986876, 'knowledge': 100.0, 'population': 374, 'numerosity': 374, 'reliable': 374}\n",
      "INFO:lcs.agents.Agent:{'trial': 2500, 'steps_in_trial': 2, 'reward': 1000, 'perf_time': 0.04253959999914514, 'knowledge': 100.0, 'population': 374, 'numerosity': 374, 'reliable': 374}\n",
      "INFO:lcs.agents.Agent:{'trial': 3000, 'steps_in_trial': 10, 'reward': 1000, 'perf_time': 0.21367049999753362, 'knowledge': 100.0, 'population': 374, 'numerosity': 374, 'reliable': 374}\n",
      "INFO:lcs.agents.Agent:{'trial': 3500, 'steps_in_trial': 6, 'reward': 1000, 'perf_time': 0.14013770000019576, 'knowledge': 100.0, 'population': 374, 'numerosity': 374, 'reliable': 374}\n",
      "INFO:lcs.agents.Agent:{'trial': 4000, 'steps_in_trial': 9, 'reward': 1000, 'perf_time': 0.19931260000157636, 'knowledge': 100.0, 'population': 374, 'numerosity': 374, 'reliable': 374}\n",
      "INFO:lcs.agents.Agent:{'trial': 4500, 'steps_in_trial': 10, 'reward': 1000, 'perf_time': 0.24271089999820106, 'knowledge': 100.0, 'population': 374, 'numerosity': 374, 'reliable': 374}\n",
      "INFO:lcs.agents.Agent:{'trial': 5000, 'steps_in_trial': 22, 'reward': 1000, 'perf_time': 0.47544679999919026, 'knowledge': 100.0, 'population': 374, 'numerosity': 374, 'reliable': 374}\n",
      "INFO:lcs.agents.Agent:{'trial': 100, 'steps_in_trial': 5, 'reward': 1000, 'perf_time': 0.006633299999521114, 'knowledge': 100.0, 'population': 374, 'numerosity': 374, 'reliable': 374}\n",
      "INFO:lcs.agents.Agent:{'trial': 200, 'steps_in_trial': 4, 'reward': 1000, 'perf_time': 0.005742199999076547, 'knowledge': 100.0, 'population': 374, 'numerosity': 374, 'reliable': 374}\n",
      "INFO:lcs.agents.Agent:{'trial': 300, 'steps_in_trial': 6, 'reward': 1000, 'perf_time': 0.008520299998053815, 'knowledge': 100.0, 'population': 374, 'numerosity': 374, 'reliable': 374}\n",
      "INFO:lcs.agents.Agent:{'trial': 400, 'steps_in_trial': 6, 'reward': 1000, 'perf_time': 0.009234299999661744, 'knowledge': 100.0, 'population': 374, 'numerosity': 374, 'reliable': 374}\n",
      "INFO:lcs.agents.Agent:{'trial': 500, 'steps_in_trial': 6, 'reward': 1000, 'perf_time': 0.008653700002469122, 'knowledge': 100.0, 'population': 374, 'numerosity': 374, 'reliable': 374}\n",
      "INFO:lcs.agents.Agent:{'trial': 600, 'steps_in_trial': 5, 'reward': 1000, 'perf_time': 0.006481299998995382, 'knowledge': 100.0, 'population': 374, 'numerosity': 374, 'reliable': 374}\n",
      "INFO:lcs.agents.Agent:{'trial': 700, 'steps_in_trial': 6, 'reward': 1000, 'perf_time': 0.009192599998641526, 'knowledge': 100.0, 'population': 374, 'numerosity': 374, 'reliable': 374}\n",
      "INFO:lcs.agents.Agent:{'trial': 800, 'steps_in_trial': 3, 'reward': 1000, 'perf_time': 0.006681099999696016, 'knowledge': 100.0, 'population': 374, 'numerosity': 374, 'reliable': 374}\n",
      "INFO:lcs.agents.Agent:{'trial': 900, 'steps_in_trial': 6, 'reward': 1000, 'perf_time': 0.008219700001063757, 'knowledge': 100.0, 'population': 374, 'numerosity': 374, 'reliable': 374}\n",
      "INFO:lcs.agents.Agent:{'trial': 1000, 'steps_in_trial': 4, 'reward': 1000, 'perf_time': 0.006249699999898439, 'knowledge': 100.0, 'population': 374, 'numerosity': 374, 'reliable': 374}\n"
     ]
    },
    {
     "name": "stdout",
     "output_type": "stream",
     "text": [
      "END - ACS2ER - 9\n",
      "START - ACS2ER - 10\n"
     ]
    },
    {
     "name": "stderr",
     "output_type": "stream",
     "text": [
      "INFO:lcs.agents.Agent:{'trial': 500, 'steps_in_trial': 11, 'reward': 1000, 'perf_time': 0.4753884999990987, 'knowledge': 98.63013698630137, 'population': 443, 'numerosity': 443, 'reliable': 431}\n",
      "INFO:lcs.agents.Agent:{'trial': 1000, 'steps_in_trial': 9, 'reward': 1000, 'perf_time': 0.2823671000005561, 'knowledge': 100.0, 'population': 443, 'numerosity': 443, 'reliable': 436}\n",
      "INFO:lcs.agents.Agent:{'trial': 1500, 'steps_in_trial': 9, 'reward': 1000, 'perf_time': 0.29014180000012857, 'knowledge': 100.0, 'population': 440, 'numerosity': 440, 'reliable': 439}\n",
      "INFO:lcs.agents.Agent:{'trial': 2000, 'steps_in_trial': 10, 'reward': 1000, 'perf_time': 0.31535620000067865, 'knowledge': 100.0, 'population': 439, 'numerosity': 439, 'reliable': 439}\n",
      "INFO:lcs.agents.Agent:{'trial': 2500, 'steps_in_trial': 33, 'reward': 1000, 'perf_time': 1.0682240999994974, 'knowledge': 100.0, 'population': 439, 'numerosity': 439, 'reliable': 439}\n",
      "INFO:lcs.agents.Agent:{'trial': 3000, 'steps_in_trial': 11, 'reward': 1000, 'perf_time': 0.3724161999998614, 'knowledge': 100.0, 'population': 439, 'numerosity': 439, 'reliable': 439}\n",
      "INFO:lcs.agents.Agent:{'trial': 3500, 'steps_in_trial': 3, 'reward': 1000, 'perf_time': 0.09608570000273176, 'knowledge': 100.0, 'population': 439, 'numerosity': 439, 'reliable': 439}\n",
      "INFO:lcs.agents.Agent:{'trial': 4000, 'steps_in_trial': 19, 'reward': 1000, 'perf_time': 0.7733575999991444, 'knowledge': 100.0, 'population': 439, 'numerosity': 439, 'reliable': 439}\n",
      "INFO:lcs.agents.Agent:{'trial': 4500, 'steps_in_trial': 14, 'reward': 1000, 'perf_time': 0.618620599998394, 'knowledge': 100.0, 'population': 439, 'numerosity': 439, 'reliable': 439}\n",
      "INFO:lcs.agents.Agent:{'trial': 5000, 'steps_in_trial': 17, 'reward': 1000, 'perf_time': 1.012823600001866, 'knowledge': 100.0, 'population': 439, 'numerosity': 439, 'reliable': 439}\n",
      "INFO:lcs.agents.Agent:{'trial': 100, 'steps_in_trial': 5, 'reward': 1000, 'perf_time': 0.00923250000050757, 'knowledge': 100.0, 'population': 439, 'numerosity': 439, 'reliable': 439}\n",
      "INFO:lcs.agents.Agent:{'trial': 200, 'steps_in_trial': 6, 'reward': 1000, 'perf_time': 0.014149499998893589, 'knowledge': 100.0, 'population': 439, 'numerosity': 439, 'reliable': 439}\n",
      "INFO:lcs.agents.Agent:{'trial': 300, 'steps_in_trial': 6, 'reward': 1000, 'perf_time': 0.013306499997270294, 'knowledge': 100.0, 'population': 439, 'numerosity': 439, 'reliable': 439}\n",
      "INFO:lcs.agents.Agent:{'trial': 400, 'steps_in_trial': 6, 'reward': 1000, 'perf_time': 0.012272199997823918, 'knowledge': 100.0, 'population': 439, 'numerosity': 439, 'reliable': 439}\n",
      "INFO:lcs.agents.Agent:{'trial': 500, 'steps_in_trial': 5, 'reward': 1000, 'perf_time': 0.010513699999137316, 'knowledge': 100.0, 'population': 439, 'numerosity': 439, 'reliable': 439}\n",
      "INFO:lcs.agents.Agent:{'trial': 600, 'steps_in_trial': 3, 'reward': 1000, 'perf_time': 0.007876499999838416, 'knowledge': 100.0, 'population': 439, 'numerosity': 439, 'reliable': 439}\n",
      "INFO:lcs.agents.Agent:{'trial': 700, 'steps_in_trial': 5, 'reward': 1000, 'perf_time': 0.017401599998265738, 'knowledge': 100.0, 'population': 439, 'numerosity': 439, 'reliable': 439}\n",
      "INFO:lcs.agents.Agent:{'trial': 800, 'steps_in_trial': 6, 'reward': 1000, 'perf_time': 0.01783449999857112, 'knowledge': 100.0, 'population': 439, 'numerosity': 439, 'reliable': 439}\n",
      "INFO:lcs.agents.Agent:{'trial': 900, 'steps_in_trial': 6, 'reward': 1000, 'perf_time': 0.011623800000961637, 'knowledge': 100.0, 'population': 439, 'numerosity': 439, 'reliable': 439}\n",
      "INFO:lcs.agents.Agent:{'trial': 1000, 'steps_in_trial': 2, 'reward': 1000, 'perf_time': 0.003734400001121685, 'knowledge': 100.0, 'population': 439, 'numerosity': 439, 'reliable': 439}\n"
     ]
    },
    {
     "name": "stdout",
     "output_type": "stream",
     "text": [
      "END - ACS2ER - 10\n"
     ]
    }
   ],
   "source": [
    "run_acs2er_experiments()"
   ]
  }
 ],
 "metadata": {
  "kernelspec": {
   "display_name": "Python 3",
   "language": "python",
   "name": "python3"
  },
  "language_info": {
   "codemirror_mode": {
    "name": "ipython",
    "version": 3
   },
   "file_extension": ".py",
   "mimetype": "text/x-python",
   "name": "python",
   "nbconvert_exporter": "python",
   "pygments_lexer": "ipython3",
   "version": "3.7.12"
  }
 },
 "nbformat": 4,
 "nbformat_minor": 4
}
