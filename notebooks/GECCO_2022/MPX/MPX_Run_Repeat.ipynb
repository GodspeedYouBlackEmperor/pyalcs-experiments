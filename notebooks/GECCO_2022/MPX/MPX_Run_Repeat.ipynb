{
 "cells": [
  {
   "cell_type": "code",
   "execution_count": 20,
   "metadata": {},
   "outputs": [],
   "source": [
    "import numpy as np\n",
    "import pandas as pd\n",
    "import dill\n",
    "import os\n",
    "import itertools\n",
    "\n",
    "import gym\n",
    "import gym_multiplexer\n",
    "from gym_multiplexer.utils import get_correct_answer\n",
    "\n",
    "from lcs import Perception\n",
    "from lcs.agents import Agent\n",
    "from lcs.agents.acs2 import ACS2, Configuration as CFG_ACS2\n",
    "from lcs.agents.acs2er import ACS2ER, Configuration as CFG_ACS2ER\n",
    "from lcs.metrics import population_metrics\n",
    "\n",
    "# Logger\n",
    "import logging\n",
    "logging.basicConfig(level=logging.INFO)\n"
   ]
  },
  {
   "cell_type": "markdown",
   "metadata": {},
   "source": [
    "# EXPERIMENT CONFIGURATION"
   ]
  },
  {
   "cell_type": "code",
   "execution_count": 21,
   "metadata": {},
   "outputs": [],
   "source": [
    "BITS = 6 # 6 | 11 | 20 | 37\n",
    "MPX = f'boolean-multiplexer-{BITS}bit-v0'\n",
    "EXPLORE_TRIALS = 10000\n",
    "EXPLOIT_TRIALS = 1000\n",
    "METRICS_FREQUENCY = 10\n",
    "KNOWLEDGE_STATE_SAMPLES = 1000 # applies only when 20 or 37 bits, otherwise all possible states verified\n",
    "\n",
    "# The size of ER replay memory buffer\n",
    "ER_BUFFER_SIZE = 10000\n",
    "# The minimum number of samples of ER replay memory buffer to start replying samples (warm-up phase)\n",
    "ER_BUFFER_MIN_SAMPLES = 1000\n",
    "# The number of samples to be replayed druing ER phase\n",
    "ER_SAMPLES_NUMBER_LIST = [1,2,3,5,8,13]\n",
    "\n",
    "\n",
    "\n",
    "#######\n",
    "\n",
    "REPEAT_START = 1\n",
    "REPEAT = 10\n",
    "\n",
    "EXPERIMENT_NAME = \"100\" # Please edit if running new experiment to do not override saved results.\n",
    "DATA_BASE_PATH = \"\" # CURRENT LOCATION\n",
    "DATA_PATH = os.path.join(DATA_BASE_PATH, 'MPX', EXPERIMENT_NAME, MPX)\n",
    "\n",
    "# if os.path.isdir(DATA_PATH):\n",
    "#   raise Exception(f\"The experiment with name: '{EXPERIMENT_NAME}' for '{MAZE}' environment was run already.\")"
   ]
  },
  {
   "cell_type": "markdown",
   "metadata": {},
   "source": [
    "## METRICS"
   ]
  },
  {
   "cell_type": "code",
   "execution_count": 22,
   "metadata": {},
   "outputs": [],
   "source": [
    "class MpxObservationWrapper(gym.ObservationWrapper):\n",
    "    def observation(self, observation):\n",
    "        return [str(x) for x in observation]\n",
    "        \n",
    "knowledge_env = MpxObservationWrapper(gym.make(MPX))\n",
    "\n",
    "def get_transitions(states):\n",
    "    transitions = list(map(lambda s: \n",
    "            (Perception([str(float(x)) for x in s] + ['0.0']), \n",
    "            get_correct_answer(list(s) + [0], knowledge_env.env.env.control_bits), \n",
    "            Perception([str(float(x)) for x in s] + ['1.0'])), \n",
    "        states))\n",
    "\n",
    "    return transitions\n",
    "\n",
    "def _mpx_knowledge(population, transitions, transitions_length) -> float:\n",
    "    # Take into consideration only reliable classifiers\n",
    "    reliable_classifiers = [c for c in population if c.is_reliable()]\n",
    "\n",
    "    if(len(reliable_classifiers) == 0):\n",
    "        return 0\n",
    "\n",
    "    nr_correct = 0\n",
    "\n",
    "    for p0, correct_answer, p1 in transitions:\n",
    "        if any([True for cl in reliable_classifiers if\n",
    "                cl.predicts_successfully(\n",
    "                    p0,\n",
    "                    correct_answer,\n",
    "                    p1)]):\n",
    "\n",
    "            nr_correct += 1\n",
    "\n",
    "    return nr_correct / transitions_length\n",
    "\n",
    "if BITS == 6 or BITS == 11: # Verify all \n",
    "    def get_all_transitions():\n",
    "        states = list(itertools.product([0, 1], repeat=BITS))\n",
    "        return get_transitions(states)\n",
    "\n",
    "    TRANSITIONS = get_all_transitions()\n",
    "    TRANSITIONS_LENGTH = len(TRANSITIONS)\n",
    "    \n",
    "    def mpx_knowledge(population) -> float:\n",
    "        return _mpx_knowledge(population, TRANSITIONS, TRANSITIONS_LENGTH)\n",
    "\n",
    "elif BITS == 20 or BITS == 37: # Verify samples\n",
    "    def get_sampled_transitions():\n",
    "        states = np.random.randint(2, size=(KNOWLEDGE_STATE_SAMPLES, BITS))\n",
    "        return get_transitions(states)\n",
    "\n",
    "    def mpx_knowledge(population) -> float:\n",
    "        return _mpx_knowledge(population, get_sampled_transitions(), KNOWLEDGE_STATE_SAMPLES)\n",
    "else:\n",
    "    raise Exception(f'Unsupported BITS number: {BITS}')\n",
    "    \n",
    "\n",
    "def mpx_metrics(agent, env):\n",
    "    metrics = {\n",
    "        \"knowledge\": mpx_knowledge(agent.population)\n",
    "    }\n",
    "    metrics.update(population_metrics(agent.population, env))\n",
    "\n",
    "    return metrics\n",
    "\n",
    "\n",
    "\n",
    "def _save_data(data, path, file_name):\n",
    "    full_dir_path = os.path.join(DATA_PATH, path)\n",
    "    full_file_path = os.path.join(full_dir_path, f'{file_name}.dill')\n",
    "    if not os.path.isdir(full_dir_path):\n",
    "        os.makedirs(full_dir_path)\n",
    "\n",
    "    dill.dump(data, open(full_file_path, 'wb'))\n",
    "\n",
    "def _save_agent_data(agent, data, path, file_name):\n",
    "    path = os.path.join(type(agent).__name__, path)\n",
    "    _save_data(data, path, file_name)\n",
    "\n",
    "def _save_metrics(agent, metrics, path, metrics_name):\n",
    "    _save_agent_data(agent, metrics, path, f'metrics_{metrics_name}')\n",
    "\n",
    "def _save_explore_metrics(agent, metrics, path):\n",
    "    _save_metrics(agent, metrics, path, 'EXPLORE')\n",
    "\n",
    "def _save_exploit_metrics(agent, metrics, path):\n",
    "    _save_metrics(agent, metrics, path, 'EXPLOIT')\n",
    "\n",
    "def _save_population(agent: Agent, path):\n",
    "    _save_agent_data(agent, agent.get_population(), path, 'population')\n",
    "\n",
    "def _save_environment(agent, env, path):\n",
    "    _save_agent_data(agent, env, path, 'env')\n",
    "    \n",
    "def _save_experiment_data(agent, env, explore_metrics, exploit_metrics, path):\n",
    "    _save_explore_metrics(agent, explore_metrics, path)\n",
    "    _save_exploit_metrics(agent, exploit_metrics, path)\n",
    "    _save_population(agent, path)\n",
    "    _save_environment(agent, env, path)\n"
   ]
  },
  {
   "cell_type": "markdown",
   "metadata": {},
   "source": [
    "## EXPERIMENT"
   ]
  },
  {
   "cell_type": "code",
   "execution_count": 23,
   "metadata": {},
   "outputs": [],
   "source": [
    "\n",
    "def _run_experiment(agent: Agent, data_path = ''):\n",
    "    mpx = MpxObservationWrapper(gym.make(MPX))\n",
    "    # Explore the environment\n",
    "    explore_metrics = agent.explore(mpx, EXPLORE_TRIALS)\n",
    "    # Exploit the environment\n",
    "    exploit_metrics = agent.exploit(mpx, EXPLOIT_TRIALS)\n",
    "\n",
    "    _save_experiment_data(agent, mpx, explore_metrics, exploit_metrics, data_path)\n",
    "\n",
    "def run_acs2_experiment():\n",
    "    for i in range(REPEAT_START, REPEAT_START + REPEAT):\n",
    "        # Create agent \n",
    "        cfg = CFG_ACS2(\n",
    "            classifier_length=knowledge_env.env.observation_space.n,\n",
    "            number_of_possible_actions=2,\n",
    "            do_ga=True,\n",
    "            metrics_trial_frequency=METRICS_FREQUENCY,\n",
    "            user_metrics_collector_fcn=mpx_metrics)\n",
    "        agent = ACS2(cfg)\n",
    "\n",
    "        _run_experiment(agent, f'{i}')\n",
    "\n",
    "def _run_acs2er_experiment(er_samples_number: int):\n",
    "    for i in range(REPEAT_START, REPEAT_START + REPEAT):\n",
    "        # Create agent \n",
    "        cfg = CFG_ACS2ER(    \n",
    "            classifier_length=knowledge_env.env.observation_space.n,\n",
    "            number_of_possible_actions=2,\n",
    "            do_ga=True,\n",
    "            metrics_trial_frequency=METRICS_FREQUENCY,\n",
    "            er_buffer_size=ER_BUFFER_SIZE,\n",
    "            er_min_samples=ER_BUFFER_MIN_SAMPLES,\n",
    "            er_samples_number=er_samples_number,\n",
    "            user_metrics_collector_fcn=mpx_metrics)\n",
    "        agent = ACS2ER(cfg)\n",
    "\n",
    "        _run_experiment(agent, os.path.join(f'm_{er_samples_number}', f'{i}'))\n",
    "\n",
    "def run_acs2er_experiments():\n",
    "    for er_samples_number in ER_SAMPLES_NUMBER_LIST:\n",
    "        print(f\"START - ACS2ER - {er_samples_number}\")\n",
    "        _run_acs2er_experiment(er_samples_number)\n",
    "        print(f\"END - ACS2ER - {er_samples_number}\")"
   ]
  },
  {
   "cell_type": "markdown",
   "metadata": {},
   "source": [
    "### RUN ACS2 Experiments"
   ]
  },
  {
   "cell_type": "code",
   "execution_count": 24,
   "metadata": {},
   "outputs": [
    {
     "name": "stderr",
     "output_type": "stream",
     "text": [
      "INFO:lcs.agents.Agent:{'trial': 1000, 'steps_in_trial': 1, 'reward': 1000, 'perf_time': 0.015374300000075891, 'knowledge': 1.0, 'population': 472, 'numerosity': 510, 'reliable': 76}\n",
      "INFO:lcs.agents.Agent:{'trial': 2000, 'steps_in_trial': 1, 'reward': 0, 'perf_time': 0.007134800000130781, 'knowledge': 1.0, 'population': 312, 'numerosity': 433, 'reliable': 102}\n",
      "INFO:lcs.agents.Agent:{'trial': 3000, 'steps_in_trial': 1, 'reward': 1000, 'perf_time': 0.028407199999946897, 'knowledge': 1.0, 'population': 273, 'numerosity': 444, 'reliable': 106}\n",
      "INFO:lcs.agents.Agent:{'trial': 4000, 'steps_in_trial': 1, 'reward': 1000, 'perf_time': 0.007534400000167807, 'knowledge': 1.0, 'population': 220, 'numerosity': 398, 'reliable': 95}\n",
      "INFO:lcs.agents.Agent:{'trial': 5000, 'steps_in_trial': 1, 'reward': 0, 'perf_time': 0.004648500000030253, 'knowledge': 1.0, 'population': 194, 'numerosity': 375, 'reliable': 84}\n",
      "INFO:lcs.agents.Agent:{'trial': 6000, 'steps_in_trial': 1, 'reward': 1000, 'perf_time': 0.007929600000124992, 'knowledge': 1.0, 'population': 160, 'numerosity': 343, 'reliable': 65}\n",
      "INFO:lcs.agents.Agent:{'trial': 7000, 'steps_in_trial': 1, 'reward': 1000, 'perf_time': 0.010962299999846437, 'knowledge': 1.0, 'population': 154, 'numerosity': 362, 'reliable': 67}\n",
      "INFO:lcs.agents.Agent:{'trial': 8000, 'steps_in_trial': 1, 'reward': 1000, 'perf_time': 0.012203099999851474, 'knowledge': 1.0, 'population': 155, 'numerosity': 362, 'reliable': 71}\n",
      "INFO:lcs.agents.Agent:{'trial': 9000, 'steps_in_trial': 1, 'reward': 1000, 'perf_time': 0.010939600000028804, 'knowledge': 1.0, 'population': 131, 'numerosity': 333, 'reliable': 55}\n",
      "INFO:lcs.agents.Agent:{'trial': 10000, 'steps_in_trial': 1, 'reward': 1000, 'perf_time': 0.005425199999990582, 'knowledge': 1.0, 'population': 117, 'numerosity': 337, 'reliable': 54}\n",
      "INFO:lcs.agents.Agent:{'trial': 100, 'steps_in_trial': 1, 'reward': 1000, 'perf_time': 0.002987200000006851, 'knowledge': 1.0, 'population': 117, 'numerosity': 337, 'reliable': 54}\n",
      "INFO:lcs.agents.Agent:{'trial': 200, 'steps_in_trial': 1, 'reward': 1000, 'perf_time': 0.002804999999852953, 'knowledge': 1.0, 'population': 117, 'numerosity': 337, 'reliable': 54}\n",
      "INFO:lcs.agents.Agent:{'trial': 300, 'steps_in_trial': 1, 'reward': 1000, 'perf_time': 0.0027675000001181616, 'knowledge': 1.0, 'population': 117, 'numerosity': 337, 'reliable': 54}\n",
      "INFO:lcs.agents.Agent:{'trial': 400, 'steps_in_trial': 1, 'reward': 1000, 'perf_time': 0.0034785999998803163, 'knowledge': 1.0, 'population': 117, 'numerosity': 337, 'reliable': 54}\n",
      "INFO:lcs.agents.Agent:{'trial': 500, 'steps_in_trial': 1, 'reward': 1000, 'perf_time': 0.002585199999884935, 'knowledge': 1.0, 'population': 117, 'numerosity': 337, 'reliable': 54}\n",
      "INFO:lcs.agents.Agent:{'trial': 600, 'steps_in_trial': 1, 'reward': 1000, 'perf_time': 0.004080299999941417, 'knowledge': 1.0, 'population': 117, 'numerosity': 337, 'reliable': 54}\n",
      "INFO:lcs.agents.Agent:{'trial': 700, 'steps_in_trial': 1, 'reward': 1000, 'perf_time': 0.0028695999999399646, 'knowledge': 1.0, 'population': 117, 'numerosity': 337, 'reliable': 54}\n",
      "INFO:lcs.agents.Agent:{'trial': 800, 'steps_in_trial': 1, 'reward': 1000, 'perf_time': 0.0030134999999518186, 'knowledge': 1.0, 'population': 117, 'numerosity': 337, 'reliable': 54}\n",
      "INFO:lcs.agents.Agent:{'trial': 900, 'steps_in_trial': 1, 'reward': 1000, 'perf_time': 0.0072310999998990155, 'knowledge': 1.0, 'population': 117, 'numerosity': 337, 'reliable': 54}\n",
      "INFO:lcs.agents.Agent:{'trial': 1000, 'steps_in_trial': 1, 'reward': 1000, 'perf_time': 0.0028695999999399646, 'knowledge': 1.0, 'population': 117, 'numerosity': 337, 'reliable': 54}\n",
      "INFO:lcs.agents.Agent:{'trial': 1000, 'steps_in_trial': 1, 'reward': 0, 'perf_time': 0.009644099999832179, 'knowledge': 1.0, 'population': 428, 'numerosity': 488, 'reliable': 90}\n",
      "INFO:lcs.agents.Agent:{'trial': 2000, 'steps_in_trial': 1, 'reward': 1000, 'perf_time': 0.011289500000202679, 'knowledge': 1.0, 'population': 261, 'numerosity': 390, 'reliable': 104}\n",
      "INFO:lcs.agents.Agent:{'trial': 3000, 'steps_in_trial': 1, 'reward': 0, 'perf_time': 0.00832959999979721, 'knowledge': 1.0, 'population': 195, 'numerosity': 364, 'reliable': 87}\n"
     ]
    },
    {
     "ename": "KeyboardInterrupt",
     "evalue": "",
     "output_type": "error",
     "traceback": [
      "\u001b[1;31m---------------------------------------------------------------------------\u001b[0m",
      "\u001b[1;31mKeyboardInterrupt\u001b[0m                         Traceback (most recent call last)",
      "\u001b[1;32m~\\AppData\\Local\\Temp\\ipykernel_12940\\2673588057.py\u001b[0m in \u001b[0;36m<module>\u001b[1;34m\u001b[0m\n\u001b[1;32m----> 1\u001b[1;33m \u001b[0mrun_acs2_experiment\u001b[0m\u001b[1;33m(\u001b[0m\u001b[1;33m)\u001b[0m\u001b[1;33m\u001b[0m\u001b[1;33m\u001b[0m\u001b[0m\n\u001b[0m",
      "\u001b[1;32m~\\AppData\\Local\\Temp\\ipykernel_12940\\3055437134.py\u001b[0m in \u001b[0;36mrun_acs2_experiment\u001b[1;34m()\u001b[0m\n\u001b[0;32m     19\u001b[0m         \u001b[0magent\u001b[0m \u001b[1;33m=\u001b[0m \u001b[0mACS2\u001b[0m\u001b[1;33m(\u001b[0m\u001b[0mcfg\u001b[0m\u001b[1;33m)\u001b[0m\u001b[1;33m\u001b[0m\u001b[1;33m\u001b[0m\u001b[0m\n\u001b[0;32m     20\u001b[0m \u001b[1;33m\u001b[0m\u001b[0m\n\u001b[1;32m---> 21\u001b[1;33m         \u001b[0m_run_experiment\u001b[0m\u001b[1;33m(\u001b[0m\u001b[0magent\u001b[0m\u001b[1;33m,\u001b[0m \u001b[1;34mf'{i}'\u001b[0m\u001b[1;33m)\u001b[0m\u001b[1;33m\u001b[0m\u001b[1;33m\u001b[0m\u001b[0m\n\u001b[0m\u001b[0;32m     22\u001b[0m \u001b[1;33m\u001b[0m\u001b[0m\n\u001b[0;32m     23\u001b[0m \u001b[1;32mdef\u001b[0m \u001b[0m_run_acs2er_experiment\u001b[0m\u001b[1;33m(\u001b[0m\u001b[0mer_samples_number\u001b[0m\u001b[1;33m:\u001b[0m \u001b[0mint\u001b[0m\u001b[1;33m)\u001b[0m\u001b[1;33m:\u001b[0m\u001b[1;33m\u001b[0m\u001b[1;33m\u001b[0m\u001b[0m\n",
      "\u001b[1;32m~\\AppData\\Local\\Temp\\ipykernel_12940\\3055437134.py\u001b[0m in \u001b[0;36m_run_experiment\u001b[1;34m(agent, data_path)\u001b[0m\n\u001b[0;32m      2\u001b[0m     \u001b[0mmpx\u001b[0m \u001b[1;33m=\u001b[0m \u001b[0mMpxObservationWrapper\u001b[0m\u001b[1;33m(\u001b[0m\u001b[0mgym\u001b[0m\u001b[1;33m.\u001b[0m\u001b[0mmake\u001b[0m\u001b[1;33m(\u001b[0m\u001b[0mMPX\u001b[0m\u001b[1;33m)\u001b[0m\u001b[1;33m)\u001b[0m\u001b[1;33m\u001b[0m\u001b[1;33m\u001b[0m\u001b[0m\n\u001b[0;32m      3\u001b[0m     \u001b[1;31m# Explore the environment\u001b[0m\u001b[1;33m\u001b[0m\u001b[1;33m\u001b[0m\u001b[1;33m\u001b[0m\u001b[0m\n\u001b[1;32m----> 4\u001b[1;33m     \u001b[0mexplore_metrics\u001b[0m \u001b[1;33m=\u001b[0m \u001b[0magent\u001b[0m\u001b[1;33m.\u001b[0m\u001b[0mexplore\u001b[0m\u001b[1;33m(\u001b[0m\u001b[0mmpx\u001b[0m\u001b[1;33m,\u001b[0m \u001b[0mEXPLORE_TRIALS\u001b[0m\u001b[1;33m)\u001b[0m\u001b[1;33m\u001b[0m\u001b[1;33m\u001b[0m\u001b[0m\n\u001b[0m\u001b[0;32m      5\u001b[0m     \u001b[1;31m# Exploit the environment\u001b[0m\u001b[1;33m\u001b[0m\u001b[1;33m\u001b[0m\u001b[1;33m\u001b[0m\u001b[0m\n\u001b[0;32m      6\u001b[0m     \u001b[0mexploit_metrics\u001b[0m \u001b[1;33m=\u001b[0m \u001b[0magent\u001b[0m\u001b[1;33m.\u001b[0m\u001b[0mexploit\u001b[0m\u001b[1;33m(\u001b[0m\u001b[0mmpx\u001b[0m\u001b[1;33m,\u001b[0m \u001b[0mEXPLOIT_TRIALS\u001b[0m\u001b[1;33m)\u001b[0m\u001b[1;33m\u001b[0m\u001b[1;33m\u001b[0m\u001b[0m\n",
      "\u001b[1;32me:\\_zsse\\_pm_code\\pyalcs\\lcs\\agents\\Agent.py\u001b[0m in \u001b[0;36mexplore\u001b[1;34m(self, env, trials, decay)\u001b[0m\n\u001b[0;32m     49\u001b[0m             \u001b[0mrun\u001b[0m \u001b[0mmetrics\u001b[0m\u001b[1;33m\u001b[0m\u001b[1;33m\u001b[0m\u001b[0m\n\u001b[0;32m     50\u001b[0m         \"\"\"\n\u001b[1;32m---> 51\u001b[1;33m         \u001b[1;32mreturn\u001b[0m \u001b[0mself\u001b[0m\u001b[1;33m.\u001b[0m\u001b[0m_evaluate\u001b[0m\u001b[1;33m(\u001b[0m\u001b[0menv\u001b[0m\u001b[1;33m,\u001b[0m \u001b[0mtrials\u001b[0m\u001b[1;33m,\u001b[0m \u001b[0mself\u001b[0m\u001b[1;33m.\u001b[0m\u001b[0m_run_trial_explore\u001b[0m\u001b[1;33m,\u001b[0m \u001b[0mdecay\u001b[0m\u001b[1;33m)\u001b[0m\u001b[1;33m\u001b[0m\u001b[1;33m\u001b[0m\u001b[0m\n\u001b[0m\u001b[0;32m     52\u001b[0m \u001b[1;33m\u001b[0m\u001b[0m\n\u001b[0;32m     53\u001b[0m     \u001b[1;32mdef\u001b[0m \u001b[0mexploit\u001b[0m\u001b[1;33m(\u001b[0m\u001b[0mself\u001b[0m\u001b[1;33m,\u001b[0m \u001b[0menv\u001b[0m\u001b[1;33m,\u001b[0m \u001b[0mtrials\u001b[0m\u001b[1;33m)\u001b[0m \u001b[1;33m->\u001b[0m \u001b[0mList\u001b[0m\u001b[1;33m:\u001b[0m\u001b[1;33m\u001b[0m\u001b[1;33m\u001b[0m\u001b[0m\n",
      "\u001b[1;32me:\\_zsse\\_pm_code\\pyalcs\\lcs\\agents\\Agent.py\u001b[0m in \u001b[0;36m_evaluate\u001b[1;34m(self, env, n_trials, func, decay)\u001b[0m\n\u001b[0;32m    142\u001b[0m                 \u001b[0muser_metrics\u001b[0m \u001b[1;33m=\u001b[0m \u001b[0mself\u001b[0m\u001b[1;33m.\u001b[0m\u001b[0mget_cfg\u001b[0m\u001b[1;33m(\u001b[0m\u001b[1;33m)\u001b[0m\u001b[1;33m.\u001b[0m\u001b[0muser_metrics_collector_fcn\u001b[0m\u001b[1;33m\u001b[0m\u001b[1;33m\u001b[0m\u001b[0m\n\u001b[0;32m    143\u001b[0m                 \u001b[1;32mif\u001b[0m \u001b[0muser_metrics\u001b[0m \u001b[1;32mis\u001b[0m \u001b[1;32mnot\u001b[0m \u001b[1;32mNone\u001b[0m\u001b[1;33m:\u001b[0m\u001b[1;33m\u001b[0m\u001b[1;33m\u001b[0m\u001b[0m\n\u001b[1;32m--> 144\u001b[1;33m                     \u001b[0mm\u001b[0m\u001b[1;33m.\u001b[0m\u001b[0mupdate\u001b[0m\u001b[1;33m(\u001b[0m\u001b[0muser_metrics\u001b[0m\u001b[1;33m(\u001b[0m\u001b[0mself\u001b[0m\u001b[1;33m,\u001b[0m \u001b[0menv\u001b[0m\u001b[1;33m)\u001b[0m\u001b[1;33m)\u001b[0m\u001b[1;33m\u001b[0m\u001b[1;33m\u001b[0m\u001b[0m\n\u001b[0m\u001b[0;32m    145\u001b[0m \u001b[1;33m\u001b[0m\u001b[0m\n\u001b[0;32m    146\u001b[0m                 \u001b[0mmetrics\u001b[0m\u001b[1;33m.\u001b[0m\u001b[0mappend\u001b[0m\u001b[1;33m(\u001b[0m\u001b[0mm\u001b[0m\u001b[1;33m)\u001b[0m\u001b[1;33m\u001b[0m\u001b[1;33m\u001b[0m\u001b[0m\n",
      "\u001b[1;32m~\\AppData\\Local\\Temp\\ipykernel_12940\\3146438961.py\u001b[0m in \u001b[0;36mmpx_metrics\u001b[1;34m(agent, env)\u001b[0m\n\u001b[0;32m     58\u001b[0m \u001b[1;32mdef\u001b[0m \u001b[0mmpx_metrics\u001b[0m\u001b[1;33m(\u001b[0m\u001b[0magent\u001b[0m\u001b[1;33m,\u001b[0m \u001b[0menv\u001b[0m\u001b[1;33m)\u001b[0m\u001b[1;33m:\u001b[0m\u001b[1;33m\u001b[0m\u001b[1;33m\u001b[0m\u001b[0m\n\u001b[0;32m     59\u001b[0m     metrics = {\n\u001b[1;32m---> 60\u001b[1;33m         \u001b[1;34m\"knowledge\"\u001b[0m\u001b[1;33m:\u001b[0m \u001b[0mmpx_knowledge\u001b[0m\u001b[1;33m(\u001b[0m\u001b[0magent\u001b[0m\u001b[1;33m.\u001b[0m\u001b[0mpopulation\u001b[0m\u001b[1;33m)\u001b[0m\u001b[1;33m\u001b[0m\u001b[1;33m\u001b[0m\u001b[0m\n\u001b[0m\u001b[0;32m     61\u001b[0m     }\n\u001b[0;32m     62\u001b[0m     \u001b[0mmetrics\u001b[0m\u001b[1;33m.\u001b[0m\u001b[0mupdate\u001b[0m\u001b[1;33m(\u001b[0m\u001b[0mpopulation_metrics\u001b[0m\u001b[1;33m(\u001b[0m\u001b[0magent\u001b[0m\u001b[1;33m.\u001b[0m\u001b[0mpopulation\u001b[0m\u001b[1;33m,\u001b[0m \u001b[0menv\u001b[0m\u001b[1;33m)\u001b[0m\u001b[1;33m)\u001b[0m\u001b[1;33m\u001b[0m\u001b[1;33m\u001b[0m\u001b[0m\n",
      "\u001b[1;32m~\\AppData\\Local\\Temp\\ipykernel_12940\\3146438961.py\u001b[0m in \u001b[0;36mmpx_knowledge\u001b[1;34m(population)\u001b[0m\n\u001b[0;32m     43\u001b[0m \u001b[1;33m\u001b[0m\u001b[0m\n\u001b[0;32m     44\u001b[0m     \u001b[1;32mdef\u001b[0m \u001b[0mmpx_knowledge\u001b[0m\u001b[1;33m(\u001b[0m\u001b[0mpopulation\u001b[0m\u001b[1;33m)\u001b[0m \u001b[1;33m->\u001b[0m \u001b[0mfloat\u001b[0m\u001b[1;33m:\u001b[0m\u001b[1;33m\u001b[0m\u001b[1;33m\u001b[0m\u001b[0m\n\u001b[1;32m---> 45\u001b[1;33m         \u001b[1;32mreturn\u001b[0m \u001b[0m_mpx_knowledge\u001b[0m\u001b[1;33m(\u001b[0m\u001b[0mpopulation\u001b[0m\u001b[1;33m,\u001b[0m \u001b[0mTRANSITIONS\u001b[0m\u001b[1;33m,\u001b[0m \u001b[0mTRANSITIONS_LENGTH\u001b[0m\u001b[1;33m)\u001b[0m\u001b[1;33m\u001b[0m\u001b[1;33m\u001b[0m\u001b[0m\n\u001b[0m\u001b[0;32m     46\u001b[0m \u001b[1;33m\u001b[0m\u001b[0m\n\u001b[0;32m     47\u001b[0m \u001b[1;32melif\u001b[0m \u001b[0mBITS\u001b[0m \u001b[1;33m==\u001b[0m \u001b[1;36m20\u001b[0m \u001b[1;32mor\u001b[0m \u001b[0mBITS\u001b[0m \u001b[1;33m==\u001b[0m \u001b[1;36m37\u001b[0m\u001b[1;33m:\u001b[0m \u001b[1;31m# Verify samples\u001b[0m\u001b[1;33m\u001b[0m\u001b[1;33m\u001b[0m\u001b[0m\n",
      "\u001b[1;32m~\\AppData\\Local\\Temp\\ipykernel_12940\\3146438961.py\u001b[0m in \u001b[0;36m_mpx_knowledge\u001b[1;34m(population, transitions, transitions_length)\u001b[0m\n\u001b[0;32m     24\u001b[0m \u001b[1;33m\u001b[0m\u001b[0m\n\u001b[0;32m     25\u001b[0m     \u001b[1;32mfor\u001b[0m \u001b[0mp0\u001b[0m\u001b[1;33m,\u001b[0m \u001b[0mcorrect_answer\u001b[0m\u001b[1;33m,\u001b[0m \u001b[0mp1\u001b[0m \u001b[1;32min\u001b[0m \u001b[0mtransitions\u001b[0m\u001b[1;33m:\u001b[0m\u001b[1;33m\u001b[0m\u001b[1;33m\u001b[0m\u001b[0m\n\u001b[1;32m---> 26\u001b[1;33m         if any([True for cl in reliable_classifiers if\n\u001b[0m\u001b[0;32m     27\u001b[0m                 cl.predicts_successfully(\n\u001b[0;32m     28\u001b[0m                     \u001b[0mp0\u001b[0m\u001b[1;33m,\u001b[0m\u001b[1;33m\u001b[0m\u001b[1;33m\u001b[0m\u001b[0m\n",
      "\u001b[1;32m~\\AppData\\Local\\Temp\\ipykernel_12940\\3146438961.py\u001b[0m in \u001b[0;36m<listcomp>\u001b[1;34m(.0)\u001b[0m\n\u001b[0;32m     28\u001b[0m                     \u001b[0mp0\u001b[0m\u001b[1;33m,\u001b[0m\u001b[1;33m\u001b[0m\u001b[1;33m\u001b[0m\u001b[0m\n\u001b[0;32m     29\u001b[0m                     \u001b[0mcorrect_answer\u001b[0m\u001b[1;33m,\u001b[0m\u001b[1;33m\u001b[0m\u001b[1;33m\u001b[0m\u001b[0m\n\u001b[1;32m---> 30\u001b[1;33m                     p1)]):\n\u001b[0m\u001b[0;32m     31\u001b[0m \u001b[1;33m\u001b[0m\u001b[0m\n\u001b[0;32m     32\u001b[0m             \u001b[0mnr_correct\u001b[0m \u001b[1;33m+=\u001b[0m \u001b[1;36m1\u001b[0m\u001b[1;33m\u001b[0m\u001b[1;33m\u001b[0m\u001b[0m\n",
      "\u001b[1;32me:\\_zsse\\_pm_code\\pyalcs\\lcs\\agents\\acs\\Classifier.py\u001b[0m in \u001b[0;36mpredicts_successfully\u001b[1;34m(self, p0, action, p1)\u001b[0m\n\u001b[0;32m    263\u001b[0m             \u001b[1;32mTrue\u001b[0m \u001b[1;32mif\u001b[0m \u001b[0mclassifier\u001b[0m \u001b[0mmakes\u001b[0m \u001b[0msuccessful\u001b[0m \u001b[0mpredictions\u001b[0m\u001b[1;33m,\u001b[0m \u001b[1;32mFalse\u001b[0m \u001b[0motherwise\u001b[0m\u001b[1;33m\u001b[0m\u001b[1;33m\u001b[0m\u001b[0m\n\u001b[0;32m    264\u001b[0m         \"\"\"\n\u001b[1;32m--> 265\u001b[1;33m         \u001b[1;32mif\u001b[0m \u001b[0mself\u001b[0m\u001b[1;33m.\u001b[0m\u001b[0mdoes_match\u001b[0m\u001b[1;33m(\u001b[0m\u001b[0mp0\u001b[0m\u001b[1;33m)\u001b[0m\u001b[1;33m:\u001b[0m\u001b[1;33m\u001b[0m\u001b[1;33m\u001b[0m\u001b[0m\n\u001b[0m\u001b[0;32m    266\u001b[0m             \u001b[1;32mif\u001b[0m \u001b[0mself\u001b[0m\u001b[1;33m.\u001b[0m\u001b[0maction\u001b[0m \u001b[1;33m==\u001b[0m \u001b[0maction\u001b[0m\u001b[1;33m:\u001b[0m\u001b[1;33m\u001b[0m\u001b[1;33m\u001b[0m\u001b[0m\n\u001b[0;32m    267\u001b[0m                 \u001b[1;32mif\u001b[0m \u001b[0mself\u001b[0m\u001b[1;33m.\u001b[0m\u001b[0mdoes_anticipate_correctly\u001b[0m\u001b[1;33m(\u001b[0m\u001b[0mp0\u001b[0m\u001b[1;33m,\u001b[0m \u001b[0mp1\u001b[0m\u001b[1;33m)\u001b[0m\u001b[1;33m:\u001b[0m\u001b[1;33m\u001b[0m\u001b[1;33m\u001b[0m\u001b[0m\n",
      "\u001b[1;32me:\\_zsse\\_pm_code\\pyalcs\\lcs\\agents\\acs2\\Classifier.py\u001b[0m in \u001b[0;36mdoes_match\u001b[1;34m(self, situation)\u001b[0m\n\u001b[0;32m    287\u001b[0m         \u001b[1;33m:\u001b[0m\u001b[1;32mreturn\u001b[0m\u001b[1;33m:\u001b[0m\u001b[1;33m\u001b[0m\u001b[1;33m\u001b[0m\u001b[0m\n\u001b[0;32m    288\u001b[0m         \"\"\"\n\u001b[1;32m--> 289\u001b[1;33m         \u001b[1;32mreturn\u001b[0m \u001b[0mself\u001b[0m\u001b[1;33m.\u001b[0m\u001b[0mcondition\u001b[0m\u001b[1;33m.\u001b[0m\u001b[0mdoes_match\u001b[0m\u001b[1;33m(\u001b[0m\u001b[0msituation\u001b[0m\u001b[1;33m)\u001b[0m\u001b[1;33m\u001b[0m\u001b[1;33m\u001b[0m\u001b[0m\n\u001b[0m\u001b[0;32m    290\u001b[0m \u001b[1;33m\u001b[0m\u001b[0m\n\u001b[0;32m    291\u001b[0m     \u001b[1;32mdef\u001b[0m \u001b[0mdoes_match_backwards\u001b[0m\u001b[1;33m(\u001b[0m\u001b[0mself\u001b[0m\u001b[1;33m,\u001b[0m \u001b[0msituation\u001b[0m\u001b[1;33m:\u001b[0m \u001b[0mPerception\u001b[0m\u001b[1;33m)\u001b[0m \u001b[1;33m->\u001b[0m \u001b[0mbool\u001b[0m\u001b[1;33m:\u001b[0m\u001b[1;33m\u001b[0m\u001b[1;33m\u001b[0m\u001b[0m\n",
      "\u001b[1;32me:\\_zsse\\_pm_code\\pyalcs\\lcs\\agents\\acs\\Condition.py\u001b[0m in \u001b[0;36mdoes_match\u001b[1;34m(self, p)\u001b[0m\n\u001b[0;32m     64\u001b[0m             \u001b[1;32mTrue\u001b[0m \u001b[1;32mif\u001b[0m \u001b[0mcondition\u001b[0m \u001b[0mmatch\u001b[0m \u001b[0mgiven\u001b[0m \u001b[0mlist\u001b[0m\u001b[1;33m,\u001b[0m \u001b[1;32mFalse\u001b[0m \u001b[0motherwise\u001b[0m\u001b[1;33m\u001b[0m\u001b[1;33m\u001b[0m\u001b[0m\n\u001b[0;32m     65\u001b[0m         \"\"\"\n\u001b[1;32m---> 66\u001b[1;33m         \u001b[1;32mfor\u001b[0m \u001b[0mci\u001b[0m\u001b[1;33m,\u001b[0m \u001b[0moi\u001b[0m \u001b[1;32min\u001b[0m \u001b[0mzip\u001b[0m\u001b[1;33m(\u001b[0m\u001b[0mself\u001b[0m\u001b[1;33m,\u001b[0m \u001b[0mp\u001b[0m\u001b[1;33m)\u001b[0m\u001b[1;33m:\u001b[0m\u001b[1;33m\u001b[0m\u001b[1;33m\u001b[0m\u001b[0m\n\u001b[0m\u001b[0;32m     67\u001b[0m             \u001b[1;32mif\u001b[0m \u001b[0mci\u001b[0m \u001b[1;33m!=\u001b[0m \u001b[0mself\u001b[0m\u001b[1;33m.\u001b[0m\u001b[0mWILDCARD\u001b[0m \u001b[1;32mand\u001b[0m \u001b[0moi\u001b[0m \u001b[1;33m!=\u001b[0m \u001b[0mself\u001b[0m\u001b[1;33m.\u001b[0m\u001b[0mWILDCARD\u001b[0m \u001b[1;32mand\u001b[0m \u001b[0mci\u001b[0m \u001b[1;33m!=\u001b[0m \u001b[0moi\u001b[0m\u001b[1;33m:\u001b[0m\u001b[1;33m\u001b[0m\u001b[1;33m\u001b[0m\u001b[0m\n\u001b[0;32m     68\u001b[0m                 \u001b[1;32mreturn\u001b[0m \u001b[1;32mFalse\u001b[0m\u001b[1;33m\u001b[0m\u001b[1;33m\u001b[0m\u001b[0m\n",
      "\u001b[1;32mE:\\_ZSSE\\Anaconda\\envs\\pyalcs-experiments-acs2er\\lib\\_collections_abc.py\u001b[0m in \u001b[0;36m__iter__\u001b[1;34m(self)\u001b[0m\n\u001b[0;32m    881\u001b[0m         \u001b[1;32mtry\u001b[0m\u001b[1;33m:\u001b[0m\u001b[1;33m\u001b[0m\u001b[1;33m\u001b[0m\u001b[0m\n\u001b[0;32m    882\u001b[0m             \u001b[1;32mwhile\u001b[0m \u001b[1;32mTrue\u001b[0m\u001b[1;33m:\u001b[0m\u001b[1;33m\u001b[0m\u001b[1;33m\u001b[0m\u001b[0m\n\u001b[1;32m--> 883\u001b[1;33m                 \u001b[0mv\u001b[0m \u001b[1;33m=\u001b[0m \u001b[0mself\u001b[0m\u001b[1;33m[\u001b[0m\u001b[0mi\u001b[0m\u001b[1;33m]\u001b[0m\u001b[1;33m\u001b[0m\u001b[1;33m\u001b[0m\u001b[0m\n\u001b[0m\u001b[0;32m    884\u001b[0m                 \u001b[1;32myield\u001b[0m \u001b[0mv\u001b[0m\u001b[1;33m\u001b[0m\u001b[1;33m\u001b[0m\u001b[0m\n\u001b[0;32m    885\u001b[0m                 \u001b[0mi\u001b[0m \u001b[1;33m+=\u001b[0m \u001b[1;36m1\u001b[0m\u001b[1;33m\u001b[0m\u001b[1;33m\u001b[0m\u001b[0m\n",
      "\u001b[1;32me:\\_zsse\\_pm_code\\pyalcs\\lcs\\Perception.py\u001b[0m in \u001b[0;36m__getitem__\u001b[1;34m(self, i)\u001b[0m\n\u001b[0;32m     21\u001b[0m         \u001b[1;32mreturn\u001b[0m \u001b[0mhash\u001b[0m\u001b[1;33m(\u001b[0m\u001b[0mself\u001b[0m\u001b[1;33m.\u001b[0m\u001b[0m_items\u001b[0m\u001b[1;33m)\u001b[0m\u001b[1;33m\u001b[0m\u001b[1;33m\u001b[0m\u001b[0m\n\u001b[0;32m     22\u001b[0m \u001b[1;33m\u001b[0m\u001b[0m\n\u001b[1;32m---> 23\u001b[1;33m     \u001b[1;32mdef\u001b[0m \u001b[0m__getitem__\u001b[0m\u001b[1;33m(\u001b[0m\u001b[0mself\u001b[0m\u001b[1;33m,\u001b[0m \u001b[0mi\u001b[0m\u001b[1;33m)\u001b[0m\u001b[1;33m:\u001b[0m\u001b[1;33m\u001b[0m\u001b[1;33m\u001b[0m\u001b[0m\n\u001b[0m\u001b[0;32m     24\u001b[0m         \u001b[1;32mreturn\u001b[0m \u001b[0mself\u001b[0m\u001b[1;33m.\u001b[0m\u001b[0m_items\u001b[0m\u001b[1;33m[\u001b[0m\u001b[0mi\u001b[0m\u001b[1;33m]\u001b[0m\u001b[1;33m\u001b[0m\u001b[1;33m\u001b[0m\u001b[0m\n\u001b[0;32m     25\u001b[0m \u001b[1;33m\u001b[0m\u001b[0m\n",
      "\u001b[1;32m_pydevd_bundle/pydevd_cython.pyx\u001b[0m in \u001b[0;36m_pydevd_bundle.pydevd_cython.SafeCallWrapper.__call__\u001b[1;34m()\u001b[0m\n",
      "\u001b[1;32m_pydevd_bundle/pydevd_cython.pyx\u001b[0m in \u001b[0;36m_pydevd_bundle.pydevd_cython.ThreadTracer.__call__\u001b[1;34m()\u001b[0m\n",
      "\u001b[1;32mE:\\_ZSSE\\Anaconda\\envs\\pyalcs-experiments-acs2er\\lib\\site-packages\\debugpy\\_vendored\\pydevd\\_pydev_bundle\\pydev_is_thread_alive.py\u001b[0m in \u001b[0;36mis_thread_alive\u001b[1;34m(t)\u001b[0m\n\u001b[0;32m      8\u001b[0m \u001b[1;33m\u001b[0m\u001b[0m\n\u001b[0;32m      9\u001b[0m     \u001b[1;32mdef\u001b[0m \u001b[0mis_thread_alive\u001b[0m\u001b[1;33m(\u001b[0m\u001b[0mt\u001b[0m\u001b[1;33m)\u001b[0m\u001b[1;33m:\u001b[0m\u001b[1;33m\u001b[0m\u001b[1;33m\u001b[0m\u001b[0m\n\u001b[1;32m---> 10\u001b[1;33m         \u001b[1;32mreturn\u001b[0m \u001b[1;32mnot\u001b[0m \u001b[0mt\u001b[0m\u001b[1;33m.\u001b[0m\u001b[0m_is_stopped\u001b[0m\u001b[1;33m\u001b[0m\u001b[1;33m\u001b[0m\u001b[0m\n\u001b[0m\u001b[0;32m     11\u001b[0m \u001b[1;33m\u001b[0m\u001b[0m\n\u001b[0;32m     12\u001b[0m \u001b[1;32melif\u001b[0m \u001b[0mhasattr\u001b[0m\u001b[1;33m(\u001b[0m\u001b[0m_temp\u001b[0m\u001b[1;33m,\u001b[0m \u001b[1;34m'_Thread__stopped'\u001b[0m\u001b[1;33m)\u001b[0m\u001b[1;33m:\u001b[0m  \u001b[1;31m# Python 2.x has this\u001b[0m\u001b[1;33m\u001b[0m\u001b[1;33m\u001b[0m\u001b[0m\n",
      "\u001b[1;31mKeyboardInterrupt\u001b[0m: "
     ]
    }
   ],
   "source": [
    "run_acs2_experiment()"
   ]
  },
  {
   "cell_type": "markdown",
   "metadata": {},
   "source": [
    "### RUN ACS2ER Experiments"
   ]
  },
  {
   "cell_type": "code",
   "execution_count": null,
   "metadata": {},
   "outputs": [
    {
     "name": "stdout",
     "output_type": "stream",
     "text": [
      "START - ACS2ER - 1\n"
     ]
    },
    {
     "name": "stderr",
     "output_type": "stream",
     "text": [
      "INFO:lcs.agents.Agent:{'trial': 500, 'steps_in_trial': 16, 'reward': 1000, 'perf_time': 0.09870299999965937, 'knowledge': 64.38356164383562, 'population': 360, 'numerosity': 360, 'reliable': 199}\n",
      "INFO:lcs.agents.Agent:{'trial': 1000, 'steps_in_trial': 1, 'reward': 1000, 'perf_time': 0.004257399999914924, 'knowledge': 83.56164383561644, 'population': 345, 'numerosity': 345, 'reliable': 265}\n",
      "INFO:lcs.agents.Agent:{'trial': 1500, 'steps_in_trial': 11, 'reward': 1000, 'perf_time': 0.05215740000039659, 'knowledge': 91.0958904109589, 'population': 334, 'numerosity': 334, 'reliable': 286}\n",
      "INFO:lcs.agents.Agent:{'trial': 2000, 'steps_in_trial': 9, 'reward': 1000, 'perf_time': 0.03178589999970427, 'knowledge': 93.83561643835617, 'population': 331, 'numerosity': 331, 'reliable': 297}\n",
      "INFO:lcs.agents.Agent:{'trial': 2500, 'steps_in_trial': 22, 'reward': 1000, 'perf_time': 0.088679399999819, 'knowledge': 98.63013698630137, 'population': 349, 'numerosity': 349, 'reliable': 308}\n",
      "INFO:lcs.agents.Agent:{'trial': 3000, 'steps_in_trial': 10, 'reward': 1000, 'perf_time': 0.04235940000035043, 'knowledge': 98.63013698630137, 'population': 345, 'numerosity': 345, 'reliable': 311}\n",
      "INFO:lcs.agents.Agent:{'trial': 3500, 'steps_in_trial': 6, 'reward': 1000, 'perf_time': 0.022324700000353914, 'knowledge': 99.31506849315068, 'population': 345, 'numerosity': 345, 'reliable': 319}\n",
      "INFO:lcs.agents.Agent:{'trial': 4000, 'steps_in_trial': 3, 'reward': 1000, 'perf_time': 0.011024100000213366, 'knowledge': 99.31506849315068, 'population': 344, 'numerosity': 344, 'reliable': 325}\n",
      "INFO:lcs.agents.Agent:{'trial': 4500, 'steps_in_trial': 16, 'reward': 1000, 'perf_time': 0.07708769999953802, 'knowledge': 99.31506849315068, 'population': 342, 'numerosity': 342, 'reliable': 326}\n",
      "INFO:lcs.agents.Agent:{'trial': 5000, 'steps_in_trial': 16, 'reward': 1000, 'perf_time': 0.08880689999932656, 'knowledge': 99.31506849315068, 'population': 341, 'numerosity': 341, 'reliable': 326}\n",
      "INFO:lcs.agents.Agent:{'trial': 100, 'steps_in_trial': 7, 'reward': 1000, 'perf_time': 0.009873800000605115, 'knowledge': 99.31506849315068, 'population': 341, 'numerosity': 341, 'reliable': 326}\n",
      "INFO:lcs.agents.Agent:{'trial': 200, 'steps_in_trial': 5, 'reward': 1000, 'perf_time': 0.009267999999792664, 'knowledge': 99.31506849315068, 'population': 341, 'numerosity': 341, 'reliable': 326}\n",
      "INFO:lcs.agents.Agent:{'trial': 300, 'steps_in_trial': 9, 'reward': 1000, 'perf_time': 0.013303200000336801, 'knowledge': 99.31506849315068, 'population': 341, 'numerosity': 341, 'reliable': 326}\n",
      "INFO:lcs.agents.Agent:{'trial': 400, 'steps_in_trial': 4, 'reward': 1000, 'perf_time': 0.005885600000510749, 'knowledge': 99.31506849315068, 'population': 341, 'numerosity': 341, 'reliable': 326}\n",
      "INFO:lcs.agents.Agent:{'trial': 500, 'steps_in_trial': 3, 'reward': 1000, 'perf_time': 0.004111100000045553, 'knowledge': 99.31506849315068, 'population': 341, 'numerosity': 341, 'reliable': 326}\n",
      "INFO:lcs.agents.Agent:{'trial': 600, 'steps_in_trial': 8, 'reward': 1000, 'perf_time': 0.014471499999672233, 'knowledge': 99.31506849315068, 'population': 341, 'numerosity': 341, 'reliable': 326}\n",
      "INFO:lcs.agents.Agent:{'trial': 700, 'steps_in_trial': 9, 'reward': 1000, 'perf_time': 0.012871100000666047, 'knowledge': 99.31506849315068, 'population': 341, 'numerosity': 341, 'reliable': 326}\n",
      "INFO:lcs.agents.Agent:{'trial': 800, 'steps_in_trial': 7, 'reward': 1000, 'perf_time': 0.009713299999930314, 'knowledge': 99.31506849315068, 'population': 341, 'numerosity': 341, 'reliable': 326}\n",
      "INFO:lcs.agents.Agent:{'trial': 900, 'steps_in_trial': 5, 'reward': 1000, 'perf_time': 0.006818899999416317, 'knowledge': 99.31506849315068, 'population': 341, 'numerosity': 341, 'reliable': 326}\n",
      "INFO:lcs.agents.Agent:{'trial': 1000, 'steps_in_trial': 3, 'reward': 1000, 'perf_time': 0.003950299999814888, 'knowledge': 99.31506849315068, 'population': 341, 'numerosity': 341, 'reliable': 326}\n"
     ]
    },
    {
     "name": "stdout",
     "output_type": "stream",
     "text": [
      "END - ACS2ER - 1\n",
      "START - ACS2ER - 2\n"
     ]
    },
    {
     "name": "stderr",
     "output_type": "stream",
     "text": [
      "INFO:lcs.agents.Agent:{'trial': 500, 'steps_in_trial': 10, 'reward': 1000, 'perf_time': 0.0665034999992713, 'knowledge': 84.93150684931507, 'population': 407, 'numerosity': 407, 'reliable': 298}\n",
      "INFO:lcs.agents.Agent:{'trial': 1000, 'steps_in_trial': 3, 'reward': 1000, 'perf_time': 0.01820899999984249, 'knowledge': 96.57534246575342, 'population': 375, 'numerosity': 375, 'reliable': 346}\n",
      "INFO:lcs.agents.Agent:{'trial': 1500, 'steps_in_trial': 10, 'reward': 1000, 'perf_time': 0.06547390000014275, 'knowledge': 98.63013698630137, 'population': 364, 'numerosity': 364, 'reliable': 351}\n",
      "INFO:lcs.agents.Agent:{'trial': 2000, 'steps_in_trial': 5, 'reward': 1000, 'perf_time': 0.03500700000040524, 'knowledge': 98.63013698630137, 'population': 359, 'numerosity': 359, 'reliable': 351}\n",
      "INFO:lcs.agents.Agent:{'trial': 2500, 'steps_in_trial': 6, 'reward': 1000, 'perf_time': 0.03574349999962578, 'knowledge': 100.0, 'population': 358, 'numerosity': 358, 'reliable': 354}\n",
      "INFO:lcs.agents.Agent:{'trial': 3000, 'steps_in_trial': 10, 'reward': 1000, 'perf_time': 0.0616768999998385, 'knowledge': 100.0, 'population': 358, 'numerosity': 358, 'reliable': 354}\n",
      "INFO:lcs.agents.Agent:{'trial': 3500, 'steps_in_trial': 5, 'reward': 1000, 'perf_time': 0.03219179999996413, 'knowledge': 100.0, 'population': 357, 'numerosity': 357, 'reliable': 355}\n",
      "INFO:lcs.agents.Agent:{'trial': 4000, 'steps_in_trial': 6, 'reward': 1000, 'perf_time': 0.03466829999979382, 'knowledge': 100.0, 'population': 356, 'numerosity': 356, 'reliable': 355}\n",
      "INFO:lcs.agents.Agent:{'trial': 4500, 'steps_in_trial': 14, 'reward': 1000, 'perf_time': 0.09102290000009816, 'knowledge': 100.0, 'population': 356, 'numerosity': 356, 'reliable': 355}\n",
      "INFO:lcs.agents.Agent:{'trial': 5000, 'steps_in_trial': 8, 'reward': 1000, 'perf_time': 0.04826870000033523, 'knowledge': 100.0, 'population': 355, 'numerosity': 355, 'reliable': 355}\n",
      "INFO:lcs.agents.Agent:{'trial': 100, 'steps_in_trial': 6, 'reward': 1000, 'perf_time': 0.009415400001671514, 'knowledge': 100.0, 'population': 355, 'numerosity': 355, 'reliable': 355}\n",
      "INFO:lcs.agents.Agent:{'trial': 200, 'steps_in_trial': 5, 'reward': 1000, 'perf_time': 0.0103648999993311, 'knowledge': 100.0, 'population': 355, 'numerosity': 355, 'reliable': 355}\n",
      "INFO:lcs.agents.Agent:{'trial': 300, 'steps_in_trial': 5, 'reward': 1000, 'perf_time': 0.010272499999700813, 'knowledge': 100.0, 'population': 355, 'numerosity': 355, 'reliable': 355}\n",
      "INFO:lcs.agents.Agent:{'trial': 400, 'steps_in_trial': 3, 'reward': 1000, 'perf_time': 0.009091099998840946, 'knowledge': 100.0, 'population': 355, 'numerosity': 355, 'reliable': 355}\n",
      "INFO:lcs.agents.Agent:{'trial': 500, 'steps_in_trial': 2, 'reward': 1000, 'perf_time': 0.0029708000001846813, 'knowledge': 100.0, 'population': 355, 'numerosity': 355, 'reliable': 355}\n",
      "INFO:lcs.agents.Agent:{'trial': 600, 'steps_in_trial': 2, 'reward': 1000, 'perf_time': 0.007499400000597234, 'knowledge': 100.0, 'population': 355, 'numerosity': 355, 'reliable': 355}\n",
      "INFO:lcs.agents.Agent:{'trial': 700, 'steps_in_trial': 2, 'reward': 1000, 'perf_time': 0.006498299999293522, 'knowledge': 100.0, 'population': 355, 'numerosity': 355, 'reliable': 355}\n",
      "INFO:lcs.agents.Agent:{'trial': 800, 'steps_in_trial': 7, 'reward': 1000, 'perf_time': 0.08807170000000042, 'knowledge': 100.0, 'population': 355, 'numerosity': 355, 'reliable': 355}\n",
      "INFO:lcs.agents.Agent:{'trial': 900, 'steps_in_trial': 6, 'reward': 1000, 'perf_time': 0.018077000000630505, 'knowledge': 100.0, 'population': 355, 'numerosity': 355, 'reliable': 355}\n",
      "INFO:lcs.agents.Agent:{'trial': 1000, 'steps_in_trial': 5, 'reward': 1000, 'perf_time': 0.012721099999907892, 'knowledge': 100.0, 'population': 355, 'numerosity': 355, 'reliable': 355}\n"
     ]
    },
    {
     "name": "stdout",
     "output_type": "stream",
     "text": [
      "END - ACS2ER - 2\n",
      "START - ACS2ER - 3\n"
     ]
    },
    {
     "name": "stderr",
     "output_type": "stream",
     "text": [
      "INFO:lcs.agents.Agent:{'trial': 500, 'steps_in_trial': 17, 'reward': 1000, 'perf_time': 0.2118371999986266, 'knowledge': 87.67123287671232, 'population': 403, 'numerosity': 403, 'reliable': 324}\n",
      "INFO:lcs.agents.Agent:{'trial': 1000, 'steps_in_trial': 2, 'reward': 1000, 'perf_time': 0.024976600001537008, 'knowledge': 97.94520547945206, 'population': 376, 'numerosity': 376, 'reliable': 355}\n",
      "INFO:lcs.agents.Agent:{'trial': 1500, 'steps_in_trial': 5, 'reward': 1000, 'perf_time': 0.06125380000048608, 'knowledge': 100.0, 'population': 370, 'numerosity': 370, 'reliable': 364}\n",
      "INFO:lcs.agents.Agent:{'trial': 2000, 'steps_in_trial': 10, 'reward': 1000, 'perf_time': 0.0915421999998216, 'knowledge': 100.0, 'population': 367, 'numerosity': 367, 'reliable': 364}\n",
      "INFO:lcs.agents.Agent:{'trial': 2500, 'steps_in_trial': 24, 'reward': 1000, 'perf_time': 0.2605751999999484, 'knowledge': 100.0, 'population': 366, 'numerosity': 366, 'reliable': 364}\n",
      "INFO:lcs.agents.Agent:{'trial': 3000, 'steps_in_trial': 9, 'reward': 1000, 'perf_time': 0.08137809999971068, 'knowledge': 100.0, 'population': 365, 'numerosity': 365, 'reliable': 364}\n",
      "INFO:lcs.agents.Agent:{'trial': 3500, 'steps_in_trial': 16, 'reward': 1000, 'perf_time': 0.14428630000111298, 'knowledge': 100.0, 'population': 364, 'numerosity': 364, 'reliable': 364}\n",
      "INFO:lcs.agents.Agent:{'trial': 4000, 'steps_in_trial': 9, 'reward': 1000, 'perf_time': 0.09331960000054096, 'knowledge': 100.0, 'population': 364, 'numerosity': 364, 'reliable': 364}\n",
      "INFO:lcs.agents.Agent:{'trial': 4500, 'steps_in_trial': 2, 'reward': 1000, 'perf_time': 0.01676720000068599, 'knowledge': 100.0, 'population': 364, 'numerosity': 364, 'reliable': 364}\n",
      "INFO:lcs.agents.Agent:{'trial': 5000, 'steps_in_trial': 14, 'reward': 1000, 'perf_time': 0.12893890000123065, 'knowledge': 100.0, 'population': 364, 'numerosity': 364, 'reliable': 364}\n",
      "INFO:lcs.agents.Agent:{'trial': 100, 'steps_in_trial': 1, 'reward': 1000, 'perf_time': 0.0014613000003009802, 'knowledge': 100.0, 'population': 364, 'numerosity': 364, 'reliable': 364}\n",
      "INFO:lcs.agents.Agent:{'trial': 200, 'steps_in_trial': 6, 'reward': 1000, 'perf_time': 0.008669200000440469, 'knowledge': 100.0, 'population': 364, 'numerosity': 364, 'reliable': 364}\n",
      "INFO:lcs.agents.Agent:{'trial': 300, 'steps_in_trial': 5, 'reward': 1000, 'perf_time': 0.007811100000253646, 'knowledge': 100.0, 'population': 364, 'numerosity': 364, 'reliable': 364}\n",
      "INFO:lcs.agents.Agent:{'trial': 400, 'steps_in_trial': 2, 'reward': 1000, 'perf_time': 0.0029538999988290016, 'knowledge': 100.0, 'population': 364, 'numerosity': 364, 'reliable': 364}\n",
      "INFO:lcs.agents.Agent:{'trial': 500, 'steps_in_trial': 6, 'reward': 1000, 'perf_time': 0.009969400000045425, 'knowledge': 100.0, 'population': 364, 'numerosity': 364, 'reliable': 364}\n",
      "INFO:lcs.agents.Agent:{'trial': 600, 'steps_in_trial': 6, 'reward': 1000, 'perf_time': 0.010431500000777305, 'knowledge': 100.0, 'population': 364, 'numerosity': 364, 'reliable': 364}\n",
      "INFO:lcs.agents.Agent:{'trial': 700, 'steps_in_trial': 6, 'reward': 1000, 'perf_time': 0.009948599999916041, 'knowledge': 100.0, 'population': 364, 'numerosity': 364, 'reliable': 364}\n",
      "INFO:lcs.agents.Agent:{'trial': 800, 'steps_in_trial': 5, 'reward': 1000, 'perf_time': 0.008147299999109237, 'knowledge': 100.0, 'population': 364, 'numerosity': 364, 'reliable': 364}\n",
      "INFO:lcs.agents.Agent:{'trial': 900, 'steps_in_trial': 6, 'reward': 1000, 'perf_time': 0.015914599998723133, 'knowledge': 100.0, 'population': 364, 'numerosity': 364, 'reliable': 364}\n",
      "INFO:lcs.agents.Agent:{'trial': 1000, 'steps_in_trial': 5, 'reward': 1000, 'perf_time': 0.007904699999926379, 'knowledge': 100.0, 'population': 364, 'numerosity': 364, 'reliable': 364}\n"
     ]
    },
    {
     "name": "stdout",
     "output_type": "stream",
     "text": [
      "END - ACS2ER - 3\n",
      "START - ACS2ER - 4\n"
     ]
    },
    {
     "name": "stderr",
     "output_type": "stream",
     "text": [
      "INFO:lcs.agents.Agent:{'trial': 500, 'steps_in_trial': 2, 'reward': 1000, 'perf_time': 0.043440800000098534, 'knowledge': 95.2054794520548, 'population': 414, 'numerosity': 414, 'reliable': 370}\n",
      "INFO:lcs.agents.Agent:{'trial': 1000, 'steps_in_trial': 7, 'reward': 1000, 'perf_time': 0.09100990000115416, 'knowledge': 100.0, 'population': 393, 'numerosity': 393, 'reliable': 383}\n",
      "INFO:lcs.agents.Agent:{'trial': 1500, 'steps_in_trial': 4, 'reward': 1000, 'perf_time': 0.05237430000124732, 'knowledge': 100.0, 'population': 386, 'numerosity': 386, 'reliable': 386}\n",
      "INFO:lcs.agents.Agent:{'trial': 2000, 'steps_in_trial': 3, 'reward': 1000, 'perf_time': 0.03526659999988624, 'knowledge': 100.0, 'population': 386, 'numerosity': 386, 'reliable': 386}\n",
      "INFO:lcs.agents.Agent:{'trial': 2500, 'steps_in_trial': 10, 'reward': 1000, 'perf_time': 0.11089619999984279, 'knowledge': 100.0, 'population': 386, 'numerosity': 386, 'reliable': 386}\n",
      "INFO:lcs.agents.Agent:{'trial': 3000, 'steps_in_trial': 10, 'reward': 1000, 'perf_time': 0.11294079999970563, 'knowledge': 100.0, 'population': 386, 'numerosity': 386, 'reliable': 386}\n",
      "INFO:lcs.agents.Agent:{'trial': 3500, 'steps_in_trial': 19, 'reward': 1000, 'perf_time': 0.21827330000087386, 'knowledge': 100.0, 'population': 386, 'numerosity': 386, 'reliable': 386}\n",
      "INFO:lcs.agents.Agent:{'trial': 4000, 'steps_in_trial': 11, 'reward': 1000, 'perf_time': 0.12521889999879932, 'knowledge': 100.0, 'population': 386, 'numerosity': 386, 'reliable': 386}\n",
      "INFO:lcs.agents.Agent:{'trial': 4500, 'steps_in_trial': 5, 'reward': 1000, 'perf_time': 0.055216100001416635, 'knowledge': 100.0, 'population': 386, 'numerosity': 386, 'reliable': 386}\n",
      "INFO:lcs.agents.Agent:{'trial': 5000, 'steps_in_trial': 18, 'reward': 1000, 'perf_time': 0.8535866000001988, 'knowledge': 100.0, 'population': 386, 'numerosity': 386, 'reliable': 386}\n",
      "INFO:lcs.agents.Agent:{'trial': 100, 'steps_in_trial': 5, 'reward': 1000, 'perf_time': 0.00756320000073174, 'knowledge': 100.0, 'population': 386, 'numerosity': 386, 'reliable': 386}\n",
      "INFO:lcs.agents.Agent:{'trial': 200, 'steps_in_trial': 7, 'reward': 1000, 'perf_time': 0.017324000000371598, 'knowledge': 100.0, 'population': 386, 'numerosity': 386, 'reliable': 386}\n",
      "INFO:lcs.agents.Agent:{'trial': 300, 'steps_in_trial': 6, 'reward': 1000, 'perf_time': 0.009704899999633199, 'knowledge': 100.0, 'population': 386, 'numerosity': 386, 'reliable': 386}\n",
      "INFO:lcs.agents.Agent:{'trial': 400, 'steps_in_trial': 3, 'reward': 1000, 'perf_time': 0.004429900000104681, 'knowledge': 100.0, 'population': 386, 'numerosity': 386, 'reliable': 386}\n",
      "INFO:lcs.agents.Agent:{'trial': 500, 'steps_in_trial': 4, 'reward': 1000, 'perf_time': 0.006002900001476519, 'knowledge': 100.0, 'population': 386, 'numerosity': 386, 'reliable': 386}\n",
      "INFO:lcs.agents.Agent:{'trial': 600, 'steps_in_trial': 2, 'reward': 1000, 'perf_time': 0.005471700000271085, 'knowledge': 100.0, 'population': 386, 'numerosity': 386, 'reliable': 386}\n",
      "INFO:lcs.agents.Agent:{'trial': 700, 'steps_in_trial': 5, 'reward': 1000, 'perf_time': 0.007735799999863957, 'knowledge': 100.0, 'population': 386, 'numerosity': 386, 'reliable': 386}\n",
      "INFO:lcs.agents.Agent:{'trial': 800, 'steps_in_trial': 5, 'reward': 1000, 'perf_time': 0.006892699999298202, 'knowledge': 100.0, 'population': 386, 'numerosity': 386, 'reliable': 386}\n",
      "INFO:lcs.agents.Agent:{'trial': 900, 'steps_in_trial': 6, 'reward': 1000, 'perf_time': 0.008708399998795358, 'knowledge': 100.0, 'population': 386, 'numerosity': 386, 'reliable': 386}\n",
      "INFO:lcs.agents.Agent:{'trial': 1000, 'steps_in_trial': 6, 'reward': 1000, 'perf_time': 0.008869300001606462, 'knowledge': 100.0, 'population': 386, 'numerosity': 386, 'reliable': 386}\n"
     ]
    },
    {
     "name": "stdout",
     "output_type": "stream",
     "text": [
      "END - ACS2ER - 4\n",
      "START - ACS2ER - 5\n"
     ]
    },
    {
     "name": "stderr",
     "output_type": "stream",
     "text": [
      "INFO:lcs.agents.Agent:{'trial': 500, 'steps_in_trial': 25, 'reward': 1000, 'perf_time': 0.38900810000086494, 'knowledge': 98.63013698630137, 'population': 381, 'numerosity': 381, 'reliable': 344}\n",
      "INFO:lcs.agents.Agent:{'trial': 1000, 'steps_in_trial': 8, 'reward': 1000, 'perf_time': 0.09702319999996689, 'knowledge': 100.0, 'population': 358, 'numerosity': 358, 'reliable': 354}\n",
      "INFO:lcs.agents.Agent:{'trial': 1500, 'steps_in_trial': 5, 'reward': 1000, 'perf_time': 0.06449310000061814, 'knowledge': 100.0, 'population': 357, 'numerosity': 357, 'reliable': 354}\n",
      "INFO:lcs.agents.Agent:{'trial': 2000, 'steps_in_trial': 8, 'reward': 1000, 'perf_time': 0.10459110000010696, 'knowledge': 100.0, 'population': 355, 'numerosity': 355, 'reliable': 354}\n",
      "INFO:lcs.agents.Agent:{'trial': 2500, 'steps_in_trial': 26, 'reward': 1000, 'perf_time': 0.32029590000092867, 'knowledge': 100.0, 'population': 354, 'numerosity': 354, 'reliable': 354}\n",
      "INFO:lcs.agents.Agent:{'trial': 3000, 'steps_in_trial': 5, 'reward': 1000, 'perf_time': 0.0836710999992647, 'knowledge': 100.0, 'population': 354, 'numerosity': 354, 'reliable': 354}\n",
      "INFO:lcs.agents.Agent:{'trial': 3500, 'steps_in_trial': 14, 'reward': 1000, 'perf_time': 0.18418339999880118, 'knowledge': 100.0, 'population': 354, 'numerosity': 354, 'reliable': 354}\n",
      "INFO:lcs.agents.Agent:{'trial': 4000, 'steps_in_trial': 5, 'reward': 1000, 'perf_time': 0.061659200000576675, 'knowledge': 100.0, 'population': 354, 'numerosity': 354, 'reliable': 354}\n",
      "INFO:lcs.agents.Agent:{'trial': 4500, 'steps_in_trial': 11, 'reward': 1000, 'perf_time': 0.13588940000045113, 'knowledge': 100.0, 'population': 354, 'numerosity': 354, 'reliable': 354}\n",
      "INFO:lcs.agents.Agent:{'trial': 5000, 'steps_in_trial': 1, 'reward': 1000, 'perf_time': 0.012224699999933364, 'knowledge': 100.0, 'population': 354, 'numerosity': 354, 'reliable': 354}\n",
      "INFO:lcs.agents.Agent:{'trial': 100, 'steps_in_trial': 6, 'reward': 1000, 'perf_time': 0.009259899999960908, 'knowledge': 100.0, 'population': 354, 'numerosity': 354, 'reliable': 354}\n",
      "INFO:lcs.agents.Agent:{'trial': 200, 'steps_in_trial': 3, 'reward': 1000, 'perf_time': 0.004357100000561331, 'knowledge': 100.0, 'population': 354, 'numerosity': 354, 'reliable': 354}\n",
      "INFO:lcs.agents.Agent:{'trial': 300, 'steps_in_trial': 5, 'reward': 1000, 'perf_time': 0.0066075999984605005, 'knowledge': 100.0, 'population': 354, 'numerosity': 354, 'reliable': 354}\n",
      "INFO:lcs.agents.Agent:{'trial': 400, 'steps_in_trial': 6, 'reward': 1000, 'perf_time': 0.008561099999496946, 'knowledge': 100.0, 'population': 354, 'numerosity': 354, 'reliable': 354}\n",
      "INFO:lcs.agents.Agent:{'trial': 500, 'steps_in_trial': 3, 'reward': 1000, 'perf_time': 0.00417600000037055, 'knowledge': 100.0, 'population': 354, 'numerosity': 354, 'reliable': 354}\n",
      "INFO:lcs.agents.Agent:{'trial': 600, 'steps_in_trial': 4, 'reward': 1000, 'perf_time': 0.00487520000024233, 'knowledge': 100.0, 'population': 354, 'numerosity': 354, 'reliable': 354}\n",
      "INFO:lcs.agents.Agent:{'trial': 700, 'steps_in_trial': 6, 'reward': 1000, 'perf_time': 0.007925200001409394, 'knowledge': 100.0, 'population': 354, 'numerosity': 354, 'reliable': 354}\n",
      "INFO:lcs.agents.Agent:{'trial': 800, 'steps_in_trial': 1, 'reward': 1000, 'perf_time': 0.0013091000000713393, 'knowledge': 100.0, 'population': 354, 'numerosity': 354, 'reliable': 354}\n",
      "INFO:lcs.agents.Agent:{'trial': 900, 'steps_in_trial': 5, 'reward': 1000, 'perf_time': 0.006949499998881947, 'knowledge': 100.0, 'population': 354, 'numerosity': 354, 'reliable': 354}\n",
      "INFO:lcs.agents.Agent:{'trial': 1000, 'steps_in_trial': 4, 'reward': 1000, 'perf_time': 0.005016099999920698, 'knowledge': 100.0, 'population': 354, 'numerosity': 354, 'reliable': 354}\n"
     ]
    },
    {
     "name": "stdout",
     "output_type": "stream",
     "text": [
      "END - ACS2ER - 5\n",
      "START - ACS2ER - 6\n"
     ]
    },
    {
     "name": "stderr",
     "output_type": "stream",
     "text": [
      "INFO:lcs.agents.Agent:{'trial': 500, 'steps_in_trial': 15, 'reward': 1000, 'perf_time': 0.2415424000009807, 'knowledge': 97.26027397260275, 'population': 386, 'numerosity': 386, 'reliable': 357}\n",
      "INFO:lcs.agents.Agent:{'trial': 1000, 'steps_in_trial': 7, 'reward': 1000, 'perf_time': 0.10559629999988829, 'knowledge': 99.31506849315068, 'population': 374, 'numerosity': 374, 'reliable': 369}\n",
      "INFO:lcs.agents.Agent:{'trial': 1500, 'steps_in_trial': 5, 'reward': 1000, 'perf_time': 0.07725260000006529, 'knowledge': 99.31506849315068, 'population': 373, 'numerosity': 373, 'reliable': 369}\n",
      "INFO:lcs.agents.Agent:{'trial': 2000, 'steps_in_trial': 14, 'reward': 1000, 'perf_time': 0.21602209999946353, 'knowledge': 100.0, 'population': 371, 'numerosity': 371, 'reliable': 370}\n",
      "INFO:lcs.agents.Agent:{'trial': 2500, 'steps_in_trial': 5, 'reward': 1000, 'perf_time': 0.07816789999924367, 'knowledge': 100.0, 'population': 370, 'numerosity': 370, 'reliable': 370}\n",
      "INFO:lcs.agents.Agent:{'trial': 3000, 'steps_in_trial': 5, 'reward': 1000, 'perf_time': 0.0772607999988395, 'knowledge': 100.0, 'population': 370, 'numerosity': 370, 'reliable': 370}\n",
      "INFO:lcs.agents.Agent:{'trial': 3500, 'steps_in_trial': 4, 'reward': 1000, 'perf_time': 0.05630630000086967, 'knowledge': 100.0, 'population': 370, 'numerosity': 370, 'reliable': 370}\n",
      "INFO:lcs.agents.Agent:{'trial': 4000, 'steps_in_trial': 15, 'reward': 1000, 'perf_time': 0.21585229999982403, 'knowledge': 100.0, 'population': 370, 'numerosity': 370, 'reliable': 370}\n",
      "INFO:lcs.agents.Agent:{'trial': 4500, 'steps_in_trial': 11, 'reward': 1000, 'perf_time': 0.15083830000003218, 'knowledge': 100.0, 'population': 370, 'numerosity': 370, 'reliable': 370}\n",
      "INFO:lcs.agents.Agent:{'trial': 5000, 'steps_in_trial': 8, 'reward': 1000, 'perf_time': 0.11395470000024943, 'knowledge': 100.0, 'population': 370, 'numerosity': 370, 'reliable': 370}\n",
      "INFO:lcs.agents.Agent:{'trial': 100, 'steps_in_trial': 5, 'reward': 1000, 'perf_time': 0.007222300000648829, 'knowledge': 100.0, 'population': 370, 'numerosity': 370, 'reliable': 370}\n",
      "INFO:lcs.agents.Agent:{'trial': 200, 'steps_in_trial': 5, 'reward': 1000, 'perf_time': 0.0067759999983536545, 'knowledge': 100.0, 'population': 370, 'numerosity': 370, 'reliable': 370}\n",
      "INFO:lcs.agents.Agent:{'trial': 300, 'steps_in_trial': 2, 'reward': 1000, 'perf_time': 0.0028684000008070143, 'knowledge': 100.0, 'population': 370, 'numerosity': 370, 'reliable': 370}\n",
      "INFO:lcs.agents.Agent:{'trial': 400, 'steps_in_trial': 5, 'reward': 1000, 'perf_time': 0.006782000000384869, 'knowledge': 100.0, 'population': 370, 'numerosity': 370, 'reliable': 370}\n",
      "INFO:lcs.agents.Agent:{'trial': 500, 'steps_in_trial': 2, 'reward': 1000, 'perf_time': 0.0026794999994308455, 'knowledge': 100.0, 'population': 370, 'numerosity': 370, 'reliable': 370}\n",
      "INFO:lcs.agents.Agent:{'trial': 600, 'steps_in_trial': 6, 'reward': 1000, 'perf_time': 0.007820099999662489, 'knowledge': 100.0, 'population': 370, 'numerosity': 370, 'reliable': 370}\n",
      "INFO:lcs.agents.Agent:{'trial': 700, 'steps_in_trial': 6, 'reward': 1000, 'perf_time': 0.008359800000107498, 'knowledge': 100.0, 'population': 370, 'numerosity': 370, 'reliable': 370}\n",
      "INFO:lcs.agents.Agent:{'trial': 800, 'steps_in_trial': 5, 'reward': 1000, 'perf_time': 0.011805199999798788, 'knowledge': 100.0, 'population': 370, 'numerosity': 370, 'reliable': 370}\n",
      "INFO:lcs.agents.Agent:{'trial': 900, 'steps_in_trial': 4, 'reward': 1000, 'perf_time': 0.005665000000590226, 'knowledge': 100.0, 'population': 370, 'numerosity': 370, 'reliable': 370}\n",
      "INFO:lcs.agents.Agent:{'trial': 1000, 'steps_in_trial': 3, 'reward': 1000, 'perf_time': 0.004128000000491738, 'knowledge': 100.0, 'population': 370, 'numerosity': 370, 'reliable': 370}\n"
     ]
    },
    {
     "name": "stdout",
     "output_type": "stream",
     "text": [
      "END - ACS2ER - 6\n",
      "START - ACS2ER - 7\n"
     ]
    },
    {
     "name": "stderr",
     "output_type": "stream",
     "text": [
      "INFO:lcs.agents.Agent:{'trial': 500, 'steps_in_trial': 12, 'reward': 1000, 'perf_time': 0.2473335999984556, 'knowledge': 97.26027397260275, 'population': 421, 'numerosity': 421, 'reliable': 397}\n",
      "INFO:lcs.agents.Agent:{'trial': 1000, 'steps_in_trial': 7, 'reward': 1000, 'perf_time': 0.14085439999871596, 'knowledge': 99.31506849315068, 'population': 412, 'numerosity': 412, 'reliable': 404}\n",
      "INFO:lcs.agents.Agent:{'trial': 1500, 'steps_in_trial': 20, 'reward': 1000, 'perf_time': 0.38232049999896844, 'knowledge': 100.0, 'population': 407, 'numerosity': 407, 'reliable': 405}\n",
      "INFO:lcs.agents.Agent:{'trial': 2000, 'steps_in_trial': 11, 'reward': 1000, 'perf_time': 0.22081649999927322, 'knowledge': 100.0, 'population': 406, 'numerosity': 406, 'reliable': 405}\n",
      "INFO:lcs.agents.Agent:{'trial': 2500, 'steps_in_trial': 12, 'reward': 1000, 'perf_time': 0.2385439999998198, 'knowledge': 100.0, 'population': 405, 'numerosity': 405, 'reliable': 405}\n",
      "INFO:lcs.agents.Agent:{'trial': 3000, 'steps_in_trial': 7, 'reward': 1000, 'perf_time': 0.13300130000061472, 'knowledge': 100.0, 'population': 405, 'numerosity': 405, 'reliable': 405}\n",
      "INFO:lcs.agents.Agent:{'trial': 3500, 'steps_in_trial': 3, 'reward': 1000, 'perf_time': 0.05834399999912421, 'knowledge': 100.0, 'population': 405, 'numerosity': 405, 'reliable': 405}\n",
      "INFO:lcs.agents.Agent:{'trial': 4000, 'steps_in_trial': 14, 'reward': 1000, 'perf_time': 0.2798791999994137, 'knowledge': 100.0, 'population': 405, 'numerosity': 405, 'reliable': 405}\n",
      "INFO:lcs.agents.Agent:{'trial': 4500, 'steps_in_trial': 9, 'reward': 1000, 'perf_time': 0.20129780000024766, 'knowledge': 100.0, 'population': 405, 'numerosity': 405, 'reliable': 405}\n",
      "INFO:lcs.agents.Agent:{'trial': 5000, 'steps_in_trial': 9, 'reward': 1000, 'perf_time': 0.16783370000121067, 'knowledge': 100.0, 'population': 405, 'numerosity': 405, 'reliable': 405}\n",
      "INFO:lcs.agents.Agent:{'trial': 100, 'steps_in_trial': 6, 'reward': 1000, 'perf_time': 0.009036200000991812, 'knowledge': 100.0, 'population': 405, 'numerosity': 405, 'reliable': 405}\n",
      "INFO:lcs.agents.Agent:{'trial': 200, 'steps_in_trial': 2, 'reward': 1000, 'perf_time': 0.002807599999869126, 'knowledge': 100.0, 'population': 405, 'numerosity': 405, 'reliable': 405}\n",
      "INFO:lcs.agents.Agent:{'trial': 300, 'steps_in_trial': 5, 'reward': 1000, 'perf_time': 0.007284299999810173, 'knowledge': 100.0, 'population': 405, 'numerosity': 405, 'reliable': 405}\n",
      "INFO:lcs.agents.Agent:{'trial': 400, 'steps_in_trial': 4, 'reward': 1000, 'perf_time': 0.005729799999244278, 'knowledge': 100.0, 'population': 405, 'numerosity': 405, 'reliable': 405}\n",
      "INFO:lcs.agents.Agent:{'trial': 500, 'steps_in_trial': 5, 'reward': 1000, 'perf_time': 0.00744719999966037, 'knowledge': 100.0, 'population': 405, 'numerosity': 405, 'reliable': 405}\n",
      "INFO:lcs.agents.Agent:{'trial': 600, 'steps_in_trial': 3, 'reward': 1000, 'perf_time': 0.005376500001148088, 'knowledge': 100.0, 'population': 405, 'numerosity': 405, 'reliable': 405}\n",
      "INFO:lcs.agents.Agent:{'trial': 700, 'steps_in_trial': 6, 'reward': 1000, 'perf_time': 0.008971000001110951, 'knowledge': 100.0, 'population': 405, 'numerosity': 405, 'reliable': 405}\n",
      "INFO:lcs.agents.Agent:{'trial': 800, 'steps_in_trial': 6, 'reward': 1000, 'perf_time': 0.008573099999921396, 'knowledge': 100.0, 'population': 405, 'numerosity': 405, 'reliable': 405}\n",
      "INFO:lcs.agents.Agent:{'trial': 900, 'steps_in_trial': 7, 'reward': 1000, 'perf_time': 0.010159800000110408, 'knowledge': 100.0, 'population': 405, 'numerosity': 405, 'reliable': 405}\n",
      "INFO:lcs.agents.Agent:{'trial': 1000, 'steps_in_trial': 6, 'reward': 1000, 'perf_time': 0.008638200000859797, 'knowledge': 100.0, 'population': 405, 'numerosity': 405, 'reliable': 405}\n"
     ]
    },
    {
     "name": "stdout",
     "output_type": "stream",
     "text": [
      "END - ACS2ER - 7\n",
      "START - ACS2ER - 8\n"
     ]
    },
    {
     "name": "stderr",
     "output_type": "stream",
     "text": [
      "INFO:lcs.agents.Agent:{'trial': 500, 'steps_in_trial': 11, 'reward': 1000, 'perf_time': 0.2032842000007804, 'knowledge': 96.57534246575342, 'population': 351, 'numerosity': 351, 'reliable': 328}\n",
      "INFO:lcs.agents.Agent:{'trial': 1000, 'steps_in_trial': 7, 'reward': 1000, 'perf_time': 0.12055680000048596, 'knowledge': 99.31506849315068, 'population': 347, 'numerosity': 347, 'reliable': 334}\n",
      "INFO:lcs.agents.Agent:{'trial': 1500, 'steps_in_trial': 13, 'reward': 1000, 'perf_time': 0.22410020000097575, 'knowledge': 100.0, 'population': 340, 'numerosity': 340, 'reliable': 335}\n",
      "INFO:lcs.agents.Agent:{'trial': 2000, 'steps_in_trial': 16, 'reward': 1000, 'perf_time': 0.2685143999988213, 'knowledge': 100.0, 'population': 339, 'numerosity': 339, 'reliable': 339}\n",
      "INFO:lcs.agents.Agent:{'trial': 2500, 'steps_in_trial': 16, 'reward': 1000, 'perf_time': 0.27250629999980447, 'knowledge': 100.0, 'population': 339, 'numerosity': 339, 'reliable': 339}\n",
      "INFO:lcs.agents.Agent:{'trial': 3000, 'steps_in_trial': 7, 'reward': 1000, 'perf_time': 0.11883160000070347, 'knowledge': 100.0, 'population': 339, 'numerosity': 339, 'reliable': 339}\n",
      "INFO:lcs.agents.Agent:{'trial': 3500, 'steps_in_trial': 8, 'reward': 1000, 'perf_time': 0.14004339999883086, 'knowledge': 100.0, 'population': 339, 'numerosity': 339, 'reliable': 339}\n",
      "INFO:lcs.agents.Agent:{'trial': 4000, 'steps_in_trial': 22, 'reward': 1000, 'perf_time': 0.3737956999993912, 'knowledge': 100.0, 'population': 339, 'numerosity': 339, 'reliable': 339}\n",
      "INFO:lcs.agents.Agent:{'trial': 4500, 'steps_in_trial': 16, 'reward': 1000, 'perf_time': 0.3481509000012011, 'knowledge': 100.0, 'population': 339, 'numerosity': 339, 'reliable': 339}\n",
      "INFO:lcs.agents.Agent:{'trial': 5000, 'steps_in_trial': 12, 'reward': 1000, 'perf_time': 0.2135606000010739, 'knowledge': 100.0, 'population': 339, 'numerosity': 339, 'reliable': 339}\n",
      "INFO:lcs.agents.Agent:{'trial': 100, 'steps_in_trial': 6, 'reward': 1000, 'perf_time': 0.007362299998931121, 'knowledge': 100.0, 'population': 339, 'numerosity': 339, 'reliable': 339}\n",
      "INFO:lcs.agents.Agent:{'trial': 200, 'steps_in_trial': 6, 'reward': 1000, 'perf_time': 0.007657000001927372, 'knowledge': 100.0, 'population': 339, 'numerosity': 339, 'reliable': 339}\n",
      "INFO:lcs.agents.Agent:{'trial': 300, 'steps_in_trial': 6, 'reward': 1000, 'perf_time': 0.007302900001377566, 'knowledge': 100.0, 'population': 339, 'numerosity': 339, 'reliable': 339}\n",
      "INFO:lcs.agents.Agent:{'trial': 400, 'steps_in_trial': 7, 'reward': 1000, 'perf_time': 0.009067099999811035, 'knowledge': 100.0, 'population': 339, 'numerosity': 339, 'reliable': 339}\n",
      "INFO:lcs.agents.Agent:{'trial': 500, 'steps_in_trial': 7, 'reward': 1000, 'perf_time': 0.010002699997130549, 'knowledge': 100.0, 'population': 339, 'numerosity': 339, 'reliable': 339}\n",
      "INFO:lcs.agents.Agent:{'trial': 600, 'steps_in_trial': 7, 'reward': 1000, 'perf_time': 0.01066710000304738, 'knowledge': 100.0, 'population': 339, 'numerosity': 339, 'reliable': 339}\n",
      "INFO:lcs.agents.Agent:{'trial': 700, 'steps_in_trial': 5, 'reward': 1000, 'perf_time': 0.006010400000377558, 'knowledge': 100.0, 'population': 339, 'numerosity': 339, 'reliable': 339}\n",
      "INFO:lcs.agents.Agent:{'trial': 800, 'steps_in_trial': 3, 'reward': 1000, 'perf_time': 0.004262000002199784, 'knowledge': 100.0, 'population': 339, 'numerosity': 339, 'reliable': 339}\n",
      "INFO:lcs.agents.Agent:{'trial': 900, 'steps_in_trial': 2, 'reward': 1000, 'perf_time': 0.002378500001213979, 'knowledge': 100.0, 'population': 339, 'numerosity': 339, 'reliable': 339}\n",
      "INFO:lcs.agents.Agent:{'trial': 1000, 'steps_in_trial': 4, 'reward': 1000, 'perf_time': 0.004790999999386258, 'knowledge': 100.0, 'population': 339, 'numerosity': 339, 'reliable': 339}\n"
     ]
    },
    {
     "name": "stdout",
     "output_type": "stream",
     "text": [
      "END - ACS2ER - 8\n",
      "START - ACS2ER - 9\n"
     ]
    },
    {
     "name": "stderr",
     "output_type": "stream",
     "text": [
      "INFO:lcs.agents.Agent:{'trial': 500, 'steps_in_trial': 7, 'reward': 1000, 'perf_time': 0.15662739999970654, 'knowledge': 100.0, 'population': 383, 'numerosity': 383, 'reliable': 373}\n",
      "INFO:lcs.agents.Agent:{'trial': 1000, 'steps_in_trial': 13, 'reward': 1000, 'perf_time': 0.28434220000053756, 'knowledge': 100.0, 'population': 375, 'numerosity': 375, 'reliable': 374}\n",
      "INFO:lcs.agents.Agent:{'trial': 1500, 'steps_in_trial': 7, 'reward': 1000, 'perf_time': 0.16360809999969206, 'knowledge': 100.0, 'population': 374, 'numerosity': 374, 'reliable': 374}\n",
      "INFO:lcs.agents.Agent:{'trial': 2000, 'steps_in_trial': 18, 'reward': 1000, 'perf_time': 0.4236420999986876, 'knowledge': 100.0, 'population': 374, 'numerosity': 374, 'reliable': 374}\n",
      "INFO:lcs.agents.Agent:{'trial': 2500, 'steps_in_trial': 2, 'reward': 1000, 'perf_time': 0.04253959999914514, 'knowledge': 100.0, 'population': 374, 'numerosity': 374, 'reliable': 374}\n",
      "INFO:lcs.agents.Agent:{'trial': 3000, 'steps_in_trial': 10, 'reward': 1000, 'perf_time': 0.21367049999753362, 'knowledge': 100.0, 'population': 374, 'numerosity': 374, 'reliable': 374}\n",
      "INFO:lcs.agents.Agent:{'trial': 3500, 'steps_in_trial': 6, 'reward': 1000, 'perf_time': 0.14013770000019576, 'knowledge': 100.0, 'population': 374, 'numerosity': 374, 'reliable': 374}\n",
      "INFO:lcs.agents.Agent:{'trial': 4000, 'steps_in_trial': 9, 'reward': 1000, 'perf_time': 0.19931260000157636, 'knowledge': 100.0, 'population': 374, 'numerosity': 374, 'reliable': 374}\n",
      "INFO:lcs.agents.Agent:{'trial': 4500, 'steps_in_trial': 10, 'reward': 1000, 'perf_time': 0.24271089999820106, 'knowledge': 100.0, 'population': 374, 'numerosity': 374, 'reliable': 374}\n",
      "INFO:lcs.agents.Agent:{'trial': 5000, 'steps_in_trial': 22, 'reward': 1000, 'perf_time': 0.47544679999919026, 'knowledge': 100.0, 'population': 374, 'numerosity': 374, 'reliable': 374}\n",
      "INFO:lcs.agents.Agent:{'trial': 100, 'steps_in_trial': 5, 'reward': 1000, 'perf_time': 0.006633299999521114, 'knowledge': 100.0, 'population': 374, 'numerosity': 374, 'reliable': 374}\n",
      "INFO:lcs.agents.Agent:{'trial': 200, 'steps_in_trial': 4, 'reward': 1000, 'perf_time': 0.005742199999076547, 'knowledge': 100.0, 'population': 374, 'numerosity': 374, 'reliable': 374}\n",
      "INFO:lcs.agents.Agent:{'trial': 300, 'steps_in_trial': 6, 'reward': 1000, 'perf_time': 0.008520299998053815, 'knowledge': 100.0, 'population': 374, 'numerosity': 374, 'reliable': 374}\n",
      "INFO:lcs.agents.Agent:{'trial': 400, 'steps_in_trial': 6, 'reward': 1000, 'perf_time': 0.009234299999661744, 'knowledge': 100.0, 'population': 374, 'numerosity': 374, 'reliable': 374}\n",
      "INFO:lcs.agents.Agent:{'trial': 500, 'steps_in_trial': 6, 'reward': 1000, 'perf_time': 0.008653700002469122, 'knowledge': 100.0, 'population': 374, 'numerosity': 374, 'reliable': 374}\n",
      "INFO:lcs.agents.Agent:{'trial': 600, 'steps_in_trial': 5, 'reward': 1000, 'perf_time': 0.006481299998995382, 'knowledge': 100.0, 'population': 374, 'numerosity': 374, 'reliable': 374}\n",
      "INFO:lcs.agents.Agent:{'trial': 700, 'steps_in_trial': 6, 'reward': 1000, 'perf_time': 0.009192599998641526, 'knowledge': 100.0, 'population': 374, 'numerosity': 374, 'reliable': 374}\n",
      "INFO:lcs.agents.Agent:{'trial': 800, 'steps_in_trial': 3, 'reward': 1000, 'perf_time': 0.006681099999696016, 'knowledge': 100.0, 'population': 374, 'numerosity': 374, 'reliable': 374}\n",
      "INFO:lcs.agents.Agent:{'trial': 900, 'steps_in_trial': 6, 'reward': 1000, 'perf_time': 0.008219700001063757, 'knowledge': 100.0, 'population': 374, 'numerosity': 374, 'reliable': 374}\n",
      "INFO:lcs.agents.Agent:{'trial': 1000, 'steps_in_trial': 4, 'reward': 1000, 'perf_time': 0.006249699999898439, 'knowledge': 100.0, 'population': 374, 'numerosity': 374, 'reliable': 374}\n"
     ]
    },
    {
     "name": "stdout",
     "output_type": "stream",
     "text": [
      "END - ACS2ER - 9\n",
      "START - ACS2ER - 10\n"
     ]
    },
    {
     "name": "stderr",
     "output_type": "stream",
     "text": [
      "INFO:lcs.agents.Agent:{'trial': 500, 'steps_in_trial': 11, 'reward': 1000, 'perf_time': 0.4753884999990987, 'knowledge': 98.63013698630137, 'population': 443, 'numerosity': 443, 'reliable': 431}\n",
      "INFO:lcs.agents.Agent:{'trial': 1000, 'steps_in_trial': 9, 'reward': 1000, 'perf_time': 0.2823671000005561, 'knowledge': 100.0, 'population': 443, 'numerosity': 443, 'reliable': 436}\n",
      "INFO:lcs.agents.Agent:{'trial': 1500, 'steps_in_trial': 9, 'reward': 1000, 'perf_time': 0.29014180000012857, 'knowledge': 100.0, 'population': 440, 'numerosity': 440, 'reliable': 439}\n",
      "INFO:lcs.agents.Agent:{'trial': 2000, 'steps_in_trial': 10, 'reward': 1000, 'perf_time': 0.31535620000067865, 'knowledge': 100.0, 'population': 439, 'numerosity': 439, 'reliable': 439}\n",
      "INFO:lcs.agents.Agent:{'trial': 2500, 'steps_in_trial': 33, 'reward': 1000, 'perf_time': 1.0682240999994974, 'knowledge': 100.0, 'population': 439, 'numerosity': 439, 'reliable': 439}\n",
      "INFO:lcs.agents.Agent:{'trial': 3000, 'steps_in_trial': 11, 'reward': 1000, 'perf_time': 0.3724161999998614, 'knowledge': 100.0, 'population': 439, 'numerosity': 439, 'reliable': 439}\n",
      "INFO:lcs.agents.Agent:{'trial': 3500, 'steps_in_trial': 3, 'reward': 1000, 'perf_time': 0.09608570000273176, 'knowledge': 100.0, 'population': 439, 'numerosity': 439, 'reliable': 439}\n",
      "INFO:lcs.agents.Agent:{'trial': 4000, 'steps_in_trial': 19, 'reward': 1000, 'perf_time': 0.7733575999991444, 'knowledge': 100.0, 'population': 439, 'numerosity': 439, 'reliable': 439}\n",
      "INFO:lcs.agents.Agent:{'trial': 4500, 'steps_in_trial': 14, 'reward': 1000, 'perf_time': 0.618620599998394, 'knowledge': 100.0, 'population': 439, 'numerosity': 439, 'reliable': 439}\n",
      "INFO:lcs.agents.Agent:{'trial': 5000, 'steps_in_trial': 17, 'reward': 1000, 'perf_time': 1.012823600001866, 'knowledge': 100.0, 'population': 439, 'numerosity': 439, 'reliable': 439}\n",
      "INFO:lcs.agents.Agent:{'trial': 100, 'steps_in_trial': 5, 'reward': 1000, 'perf_time': 0.00923250000050757, 'knowledge': 100.0, 'population': 439, 'numerosity': 439, 'reliable': 439}\n",
      "INFO:lcs.agents.Agent:{'trial': 200, 'steps_in_trial': 6, 'reward': 1000, 'perf_time': 0.014149499998893589, 'knowledge': 100.0, 'population': 439, 'numerosity': 439, 'reliable': 439}\n",
      "INFO:lcs.agents.Agent:{'trial': 300, 'steps_in_trial': 6, 'reward': 1000, 'perf_time': 0.013306499997270294, 'knowledge': 100.0, 'population': 439, 'numerosity': 439, 'reliable': 439}\n",
      "INFO:lcs.agents.Agent:{'trial': 400, 'steps_in_trial': 6, 'reward': 1000, 'perf_time': 0.012272199997823918, 'knowledge': 100.0, 'population': 439, 'numerosity': 439, 'reliable': 439}\n",
      "INFO:lcs.agents.Agent:{'trial': 500, 'steps_in_trial': 5, 'reward': 1000, 'perf_time': 0.010513699999137316, 'knowledge': 100.0, 'population': 439, 'numerosity': 439, 'reliable': 439}\n",
      "INFO:lcs.agents.Agent:{'trial': 600, 'steps_in_trial': 3, 'reward': 1000, 'perf_time': 0.007876499999838416, 'knowledge': 100.0, 'population': 439, 'numerosity': 439, 'reliable': 439}\n",
      "INFO:lcs.agents.Agent:{'trial': 700, 'steps_in_trial': 5, 'reward': 1000, 'perf_time': 0.017401599998265738, 'knowledge': 100.0, 'population': 439, 'numerosity': 439, 'reliable': 439}\n",
      "INFO:lcs.agents.Agent:{'trial': 800, 'steps_in_trial': 6, 'reward': 1000, 'perf_time': 0.01783449999857112, 'knowledge': 100.0, 'population': 439, 'numerosity': 439, 'reliable': 439}\n",
      "INFO:lcs.agents.Agent:{'trial': 900, 'steps_in_trial': 6, 'reward': 1000, 'perf_time': 0.011623800000961637, 'knowledge': 100.0, 'population': 439, 'numerosity': 439, 'reliable': 439}\n",
      "INFO:lcs.agents.Agent:{'trial': 1000, 'steps_in_trial': 2, 'reward': 1000, 'perf_time': 0.003734400001121685, 'knowledge': 100.0, 'population': 439, 'numerosity': 439, 'reliable': 439}\n"
     ]
    },
    {
     "name": "stdout",
     "output_type": "stream",
     "text": [
      "END - ACS2ER - 10\n"
     ]
    }
   ],
   "source": [
    "run_acs2er_experiments()"
   ]
  }
 ],
 "metadata": {
  "kernelspec": {
   "display_name": "Python 3",
   "language": "python",
   "name": "python3"
  },
  "language_info": {
   "codemirror_mode": {
    "name": "ipython",
    "version": 3
   },
   "file_extension": ".py",
   "mimetype": "text/x-python",
   "name": "python",
   "nbconvert_exporter": "python",
   "pygments_lexer": "ipython3",
   "version": "3.7.12"
  }
 },
 "nbformat": 4,
 "nbformat_minor": 4
}
