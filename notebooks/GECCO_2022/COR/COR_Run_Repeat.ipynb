{
 "cells": [
  {
   "cell_type": "code",
   "execution_count": 1,
   "metadata": {},
   "outputs": [
    {
     "name": "stderr",
     "output_type": "stream",
     "text": [
      "E:\\_ZSSE\\Anaconda\\envs\\pyalcs-experiments-acs2er\\lib\\site-packages\\mlflow\\protos\\scalapb\\scalapb_pb2.py:25: DeprecationWarning: Call to deprecated create function FileDescriptor(). Note: Create unlinked descriptors is going to go away. Please use get/find descriptors from generated code or query the descriptor_pool.\n",
      "  dependencies=[google_dot_protobuf_dot_descriptor__pb2.DESCRIPTOR,])\n",
      "E:\\_ZSSE\\Anaconda\\envs\\pyalcs-experiments-acs2er\\lib\\site-packages\\mlflow\\protos\\scalapb\\scalapb_pb2.py:35: DeprecationWarning: Call to deprecated create function FieldDescriptor(). Note: Create unlinked descriptors is going to go away. Please use get/find descriptors from generated code or query the descriptor_pool.\n",
      "  serialized_options=None, file=DESCRIPTOR)\n",
      "E:\\_ZSSE\\Anaconda\\envs\\pyalcs-experiments-acs2er\\lib\\site-packages\\mlflow\\protos\\scalapb\\scalapb_pb2.py:95: DeprecationWarning: Call to deprecated create function Descriptor(). Note: Create unlinked descriptors is going to go away. Please use get/find descriptors from generated code or query the descriptor_pool.\n",
      "  serialized_end=144,\n",
      "E:\\_ZSSE\\Anaconda\\envs\\pyalcs-experiments-acs2er\\lib\\site-packages\\mlflow\\protos\\databricks_pb2.py:27: DeprecationWarning: Call to deprecated create function FileDescriptor(). Note: Create unlinked descriptors is going to go away. Please use get/find descriptors from generated code or query the descriptor_pool.\n",
      "  dependencies=[google_dot_protobuf_dot_descriptor__pb2.DESCRIPTOR,scalapb_dot_scalapb__pb2.DESCRIPTOR,])\n",
      "E:\\_ZSSE\\Anaconda\\envs\\pyalcs-experiments-acs2er\\lib\\site-packages\\mlflow\\protos\\databricks_pb2.py:38: DeprecationWarning: Call to deprecated create function EnumValueDescriptor(). Note: Create unlinked descriptors is going to go away. Please use get/find descriptors from generated code or query the descriptor_pool.\n",
      "  type=None),\n",
      "E:\\_ZSSE\\Anaconda\\envs\\pyalcs-experiments-acs2er\\lib\\site-packages\\mlflow\\protos\\databricks_pb2.py:51: DeprecationWarning: Call to deprecated create function EnumDescriptor(). Note: Create unlinked descriptors is going to go away. Please use get/find descriptors from generated code or query the descriptor_pool.\n",
      "  serialized_end=815,\n",
      "E:\\_ZSSE\\Anaconda\\envs\\pyalcs-experiments-acs2er\\lib\\site-packages\\mlflow\\protos\\databricks_pb2.py:202: DeprecationWarning: Call to deprecated create function FieldDescriptor(). Note: Create unlinked descriptors is going to go away. Please use get/find descriptors from generated code or query the descriptor_pool.\n",
      "  serialized_options=None, file=DESCRIPTOR)\n",
      "E:\\_ZSSE\\Anaconda\\envs\\pyalcs-experiments-acs2er\\lib\\site-packages\\mlflow\\protos\\databricks_pb2.py:348: DeprecationWarning: Call to deprecated create function Descriptor(). Note: Create unlinked descriptors is going to go away. Please use get/find descriptors from generated code or query the descriptor_pool.\n",
      "  serialized_end=291,\n",
      "E:\\_ZSSE\\Anaconda\\envs\\pyalcs-experiments-acs2er\\lib\\site-packages\\mlflow\\protos\\service_pb2.py:29: DeprecationWarning: Call to deprecated create function FileDescriptor(). Note: Create unlinked descriptors is going to go away. Please use get/find descriptors from generated code or query the descriptor_pool.\n",
      "  dependencies=[scalapb_dot_scalapb__pb2.DESCRIPTOR,databricks__pb2.DESCRIPTOR,])\n",
      "E:\\_ZSSE\\Anaconda\\envs\\pyalcs-experiments-acs2er\\lib\\site-packages\\mlflow\\protos\\service_pb2.py:40: DeprecationWarning: Call to deprecated create function EnumValueDescriptor(). Note: Create unlinked descriptors is going to go away. Please use get/find descriptors from generated code or query the descriptor_pool.\n",
      "  type=None),\n",
      "E:\\_ZSSE\\Anaconda\\envs\\pyalcs-experiments-acs2er\\lib\\site-packages\\mlflow\\protos\\service_pb2.py:53: DeprecationWarning: Call to deprecated create function EnumDescriptor(). Note: Create unlinked descriptors is going to go away. Please use get/find descriptors from generated code or query the descriptor_pool.\n",
      "  serialized_end=4400,\n",
      "E:\\_ZSSE\\Anaconda\\envs\\pyalcs-experiments-acs2er\\lib\\site-packages\\mlflow\\protos\\service_pb2.py:157: DeprecationWarning: Call to deprecated create function FieldDescriptor(). Note: Create unlinked descriptors is going to go away. Please use get/find descriptors from generated code or query the descriptor_pool.\n",
      "  serialized_options=None, file=DESCRIPTOR),\n",
      "E:\\_ZSSE\\Anaconda\\envs\\pyalcs-experiments-acs2er\\lib\\site-packages\\mlflow\\types\\schema.py:48: DeprecationWarning: `np.object` is a deprecated alias for the builtin `object`. To silence this warning, use `object` by itself. Doing this will not modify any behavior and is safe. \n",
      "Deprecated in NumPy 1.20; for more details and guidance: https://numpy.org/devdocs/release/1.20.0-notes.html#deprecations\n",
      "  binary = (7, np.dtype(\"bytes\"), \"BinaryType\", np.object)\n"
     ]
    }
   ],
   "source": [
    "import numpy as np\n",
    "import pandas as pd\n",
    "import dill\n",
    "import os\n",
    "import itertools\n",
    "\n",
    "import gym\n",
    "import gym_corridor\n",
    "\n",
    "from lcs import Perception\n",
    "from lcs.agents import Agent\n",
    "from lcs.agents.acs2 import ACS2, Configuration as CFG_ACS2\n",
    "from lcs.agents.acs2er import ACS2ER, Configuration as CFG_ACS2ER\n",
    "from lcs.metrics import population_metrics\n",
    "\n",
    "# Logger\n",
    "import logging\n",
    "logging.basicConfig(level=logging.INFO)\n"
   ]
  },
  {
   "cell_type": "markdown",
   "metadata": {},
   "source": [
    "# EXPERIMENT CONFIGURATION"
   ]
  },
  {
   "cell_type": "code",
   "execution_count": 2,
   "metadata": {},
   "outputs": [],
   "source": [
    "CORRIDOR_LENGTH = 100  # 20 | 40 |100\n",
    "COR = f'corridor-{CORRIDOR_LENGTH}-v0'\n",
    "EXPLORE_TRIALS = 500\n",
    "EXPLOIT_TRIALS = 100\n",
    "METRICS_FREQUENCY = 1\n",
    "\n",
    "# The size of ER replay memory buffer\n",
    "ER_BUFFER_SIZE = 1000\n",
    "# The minimum number of samples of ER replay memory buffer to start replying samples (warm-up phase)\n",
    "ER_BUFFER_MIN_SAMPLES = 100\n",
    "# The number of samples to be replayed druing ER phase\n",
    "ER_SAMPLES_NUMBER_LIST = [1,2,3,5,8,13]\n",
    "\n",
    "\n",
    "\n",
    "#######\n",
    "\n",
    "REPEAT_START = 1\n",
    "REPEAT = 1\n",
    "\n",
    "EXPERIMENT_NAME = \"99\" # Please edit if running new experiment to do not override saved results.\n",
    "DATA_BASE_PATH = \"\" # CURRENT LOCATION\n",
    "DATA_PATH = os.path.join(DATA_BASE_PATH, 'COR', EXPERIMENT_NAME, COR)\n",
    "\n",
    "# if os.path.isdir(DATA_PATH):\n",
    "#   raise Exception(f\"The experiment with name: '{EXPERIMENT_NAME}' for '{MAZE}' environment was run already.\")"
   ]
  },
  {
   "cell_type": "markdown",
   "metadata": {},
   "source": [
    "## METRICS"
   ]
  },
  {
   "cell_type": "code",
   "execution_count": 3,
   "metadata": {},
   "outputs": [],
   "source": [
    "def get_transitions(grid_size):\n",
    "    START, END = 1, grid_size\n",
    "    LEFT, RIGHT = 0, 1\n",
    "    \n",
    "    def _handle_state(state):\n",
    "        moves = []\n",
    "        if state == START:\n",
    "            moves.append((state, RIGHT, state+1))\n",
    "        else:\n",
    "            moves.append((state, LEFT, state-1))\n",
    "            moves.append((state, RIGHT, state+1))\n",
    "        \n",
    "        return moves\n",
    "        \n",
    "    transitions = []\n",
    "    \n",
    "    for state in range(START, END):\n",
    "        transitions += _handle_state(state)\n",
    "    \n",
    "    return transitions\n",
    "\n",
    "TRANSITIONS = get_transitions(CORRIDOR_LENGTH)\n",
    "\n",
    "def _corridor_knowledge(population, environment):\n",
    "    reliable = [c for c in population if c.is_reliable()]\n",
    "    nr_correct = 0\n",
    "    \n",
    "    for start, action, end in TRANSITIONS:\n",
    "        p0 = Perception((str(start),))\n",
    "        p1 = Perception((str(end),))\n",
    "        \n",
    "        if any([True for cl in reliable if cl.predicts_successfully(p0, action, p1)]):\n",
    "            nr_correct += 1\n",
    "    \n",
    "    return nr_correct / len(TRANSITIONS) * 100.0\n",
    "    \n",
    "def corridor_metrics(agent, env):\n",
    "    pop = agent.population\n",
    "    metrics = {\n",
    "        'knowledge': _corridor_knowledge(pop, env)\n",
    "    }\n",
    "    metrics.update(population_metrics(pop, env))\n",
    "    return metrics\n",
    "\n",
    "class CorridorObservationWrapper(gym.ObservationWrapper):\n",
    "    def observation(self, observation):\n",
    "        return observation,\n",
    "        \n",
    "def _save_data(data, path, file_name):\n",
    "    full_dir_path = os.path.join(DATA_PATH, path)\n",
    "    full_file_path = os.path.join(full_dir_path, f'{file_name}.dill')\n",
    "    if not os.path.isdir(full_dir_path):\n",
    "        os.makedirs(full_dir_path)\n",
    "\n",
    "    dill.dump(data, open(full_file_path, 'wb'))\n",
    "\n",
    "def _save_agent_data(agent, data, path, file_name):\n",
    "    path = os.path.join(type(agent).__name__, path)\n",
    "    _save_data(data, path, file_name)\n",
    "\n",
    "def _save_metrics(agent, metrics, path, metrics_name):\n",
    "    _save_agent_data(agent, metrics, path, f'metrics_{metrics_name}')\n",
    "\n",
    "def _save_explore_metrics(agent, metrics, path):\n",
    "    _save_metrics(agent, metrics, path, 'EXPLORE')\n",
    "\n",
    "def _save_exploit_metrics(agent, metrics, path):\n",
    "    _save_metrics(agent, metrics, path, 'EXPLOIT')\n",
    "\n",
    "def _save_population(agent: Agent, path):\n",
    "    _save_agent_data(agent, agent.get_population(), path, 'population')\n",
    "\n",
    "def _save_environment(agent, env, path):\n",
    "    _save_agent_data(agent, env, path, 'env')\n",
    "    \n",
    "def _save_experiment_data(agent, env, explore_metrics, exploit_metrics, path):\n",
    "    _save_explore_metrics(agent, explore_metrics, path)\n",
    "    _save_exploit_metrics(agent, exploit_metrics, path)\n",
    "    _save_population(agent, path)\n",
    "    _save_environment(agent, env, path)\n"
   ]
  },
  {
   "cell_type": "markdown",
   "metadata": {},
   "source": [
    "## EXPERIMENT"
   ]
  },
  {
   "cell_type": "code",
   "execution_count": 4,
   "metadata": {},
   "outputs": [],
   "source": [
    "\n",
    "def _run_experiment(agent: Agent, data_path = ''):\n",
    "    cor = CorridorObservationWrapper(gym.make(COR))\n",
    "    # Explore the environment\n",
    "    explore_metrics = agent.explore(cor, EXPLORE_TRIALS)\n",
    "    # Exploit the environment\n",
    "    exploit_metrics = agent.exploit(cor, EXPLOIT_TRIALS)\n",
    "\n",
    "    _save_experiment_data(agent, cor, explore_metrics, exploit_metrics, data_path)\n",
    "\n",
    "def run_acs2_experiment():\n",
    "    for i in range(REPEAT_START, REPEAT_START + REPEAT):\n",
    "        # Create agent \n",
    "        cfg = CFG_ACS2(\n",
    "            classifier_length=1,\n",
    "            number_of_possible_actions=2,\n",
    "            metrics_trial_frequency=METRICS_FREQUENCY,\n",
    "            user_metrics_collector_fcn=corridor_metrics)\n",
    "        agent = ACS2(cfg)\n",
    "\n",
    "        _run_experiment(agent, f'{i}')\n",
    "\n",
    "def _run_acs2er_experiment(er_samples_number: int):\n",
    "    for i in range(REPEAT_START, REPEAT_START + REPEAT):\n",
    "        # Create agent \n",
    "        cfg = CFG_ACS2ER(    \n",
    "            classifier_length=1,\n",
    "            number_of_possible_actions=2,\n",
    "            metrics_trial_frequency=METRICS_FREQUENCY,\n",
    "            er_buffer_size=ER_BUFFER_SIZE,\n",
    "            er_min_samples=ER_BUFFER_MIN_SAMPLES,\n",
    "            er_samples_number=er_samples_number,\n",
    "            user_metrics_collector_fcn=corridor_metrics)\n",
    "        agent = ACS2ER(cfg)\n",
    "\n",
    "        _run_experiment(agent, os.path.join(f'm_{er_samples_number}', f'{i}'))\n",
    "\n",
    "def run_acs2er_experiments():\n",
    "    for er_samples_number in ER_SAMPLES_NUMBER_LIST:\n",
    "        print(f\"START - ACS2ER - {er_samples_number}\")\n",
    "        _run_acs2er_experiment(er_samples_number)\n",
    "        print(f\"END - ACS2ER - {er_samples_number}\")"
   ]
  },
  {
   "cell_type": "markdown",
   "metadata": {},
   "source": [
    "### RUN ACS2 Experiments"
   ]
  },
  {
   "cell_type": "code",
   "execution_count": 5,
   "metadata": {},
   "outputs": [
    {
     "name": "stderr",
     "output_type": "stream",
     "text": [
      "INFO:lcs.agents.Agent:{'trial': 50, 'steps_in_trial': 200, 'reward': 0, 'perf_time': 0.09730620000000023, 'knowledge': 64.46700507614213, 'population': 198, 'numerosity': 198, 'reliable': 130}\n",
      "INFO:lcs.agents.Agent:{'trial': 100, 'steps_in_trial': 200, 'reward': 0, 'perf_time': 0.10157609999999906, 'knowledge': 84.26395939086294, 'population': 198, 'numerosity': 198, 'reliable': 169}\n",
      "INFO:lcs.agents.Agent:{'trial': 150, 'steps_in_trial': 200, 'reward': 0, 'perf_time': 0.1182963000000008, 'knowledge': 90.35532994923858, 'population': 198, 'numerosity': 198, 'reliable': 181}\n",
      "INFO:lcs.agents.Agent:{'trial': 200, 'steps_in_trial': 90, 'reward': 1000, 'perf_time': 0.043411200000001315, 'knowledge': 92.38578680203045, 'population': 198, 'numerosity': 198, 'reliable': 185}\n",
      "INFO:lcs.agents.Agent:{'trial': 250, 'steps_in_trial': 200, 'reward': 0, 'perf_time': 0.10157019999999761, 'knowledge': 96.44670050761421, 'population': 198, 'numerosity': 198, 'reliable': 193}\n",
      "INFO:lcs.agents.Agent:{'trial': 300, 'steps_in_trial': 26, 'reward': 1000, 'perf_time': 0.01420190000000332, 'knowledge': 98.47715736040608, 'population': 198, 'numerosity': 198, 'reliable': 197}\n",
      "INFO:lcs.agents.Agent:{'trial': 350, 'steps_in_trial': 200, 'reward': 0, 'perf_time': 0.10037399999999508, 'knowledge': 98.98477157360406, 'population': 198, 'numerosity': 198, 'reliable': 198}\n",
      "INFO:lcs.agents.Agent:{'trial': 400, 'steps_in_trial': 82, 'reward': 1000, 'perf_time': 0.04200299999999402, 'knowledge': 98.98477157360406, 'population': 198, 'numerosity': 198, 'reliable': 198}\n",
      "INFO:lcs.agents.Agent:{'trial': 450, 'steps_in_trial': 153, 'reward': 1000, 'perf_time': 0.0773260999999934, 'knowledge': 98.98477157360406, 'population': 198, 'numerosity': 198, 'reliable': 198}\n",
      "INFO:lcs.agents.Agent:{'trial': 500, 'steps_in_trial': 154, 'reward': 1000, 'perf_time': 0.07792109999999752, 'knowledge': 98.98477157360406, 'population': 198, 'numerosity': 198, 'reliable': 198}\n",
      "INFO:lcs.agents.Agent:{'trial': 10, 'steps_in_trial': 63, 'reward': 1000, 'perf_time': 0.03020010000000184, 'knowledge': 98.98477157360406, 'population': 198, 'numerosity': 198, 'reliable': 198}\n",
      "INFO:lcs.agents.Agent:{'trial': 20, 'steps_in_trial': 152, 'reward': 1000, 'perf_time': 0.06892369999999914, 'knowledge': 98.98477157360406, 'population': 198, 'numerosity': 198, 'reliable': 198}\n",
      "INFO:lcs.agents.Agent:{'trial': 30, 'steps_in_trial': 25, 'reward': 1000, 'perf_time': 0.010840599999994538, 'knowledge': 98.98477157360406, 'population': 198, 'numerosity': 198, 'reliable': 198}\n",
      "INFO:lcs.agents.Agent:{'trial': 40, 'steps_in_trial': 14, 'reward': 1000, 'perf_time': 0.00653460000000905, 'knowledge': 98.98477157360406, 'population': 198, 'numerosity': 198, 'reliable': 198}\n",
      "INFO:lcs.agents.Agent:{'trial': 50, 'steps_in_trial': 4, 'reward': 1000, 'perf_time': 0.001745500000012612, 'knowledge': 98.98477157360406, 'population': 198, 'numerosity': 198, 'reliable': 198}\n",
      "INFO:lcs.agents.Agent:{'trial': 60, 'steps_in_trial': 58, 'reward': 1000, 'perf_time': 0.027245499999992262, 'knowledge': 98.98477157360406, 'population': 198, 'numerosity': 198, 'reliable': 198}\n",
      "INFO:lcs.agents.Agent:{'trial': 70, 'steps_in_trial': 82, 'reward': 1000, 'perf_time': 0.040845100000012735, 'knowledge': 98.98477157360406, 'population': 198, 'numerosity': 198, 'reliable': 198}\n",
      "INFO:lcs.agents.Agent:{'trial': 80, 'steps_in_trial': 48, 'reward': 1000, 'perf_time': 0.02275430000000256, 'knowledge': 98.98477157360406, 'population': 198, 'numerosity': 198, 'reliable': 198}\n",
      "INFO:lcs.agents.Agent:{'trial': 90, 'steps_in_trial': 53, 'reward': 1000, 'perf_time': 0.02389379999999619, 'knowledge': 98.98477157360406, 'population': 198, 'numerosity': 198, 'reliable': 198}\n",
      "INFO:lcs.agents.Agent:{'trial': 100, 'steps_in_trial': 35, 'reward': 1000, 'perf_time': 0.016866800000002513, 'knowledge': 98.98477157360406, 'population': 198, 'numerosity': 198, 'reliable': 198}\n"
     ]
    }
   ],
   "source": [
    "run_acs2_experiment()"
   ]
  },
  {
   "cell_type": "markdown",
   "metadata": {},
   "source": [
    "### RUN ACS2ER Experiments"
   ]
  },
  {
   "cell_type": "code",
   "execution_count": 6,
   "metadata": {},
   "outputs": [
    {
     "name": "stdout",
     "output_type": "stream",
     "text": [
      "START - ACS2ER - 1\n"
     ]
    },
    {
     "name": "stderr",
     "output_type": "stream",
     "text": [
      "INFO:lcs.agents.Agent:{'trial': 50, 'steps_in_trial': 200, 'reward': 0, 'perf_time': 0.30056260000000634, 'knowledge': 74.11167512690355, 'population': 196, 'numerosity': 196, 'reliable': 146}\n",
      "INFO:lcs.agents.Agent:{'trial': 100, 'steps_in_trial': 200, 'reward': 0, 'perf_time': 0.28493380000000457, 'knowledge': 97.46192893401016, 'population': 198, 'numerosity': 198, 'reliable': 194}\n",
      "INFO:lcs.agents.Agent:{'trial': 150, 'steps_in_trial': 49, 'reward': 1000, 'perf_time': 0.06890410000002589, 'knowledge': 98.98477157360406, 'population': 198, 'numerosity': 198, 'reliable': 197}\n",
      "INFO:lcs.agents.Agent:{'trial': 200, 'steps_in_trial': 1, 'reward': 1000, 'perf_time': 0.0013096000000132335, 'knowledge': 98.98477157360406, 'population': 198, 'numerosity': 198, 'reliable': 197}\n",
      "INFO:lcs.agents.Agent:{'trial': 250, 'steps_in_trial': 53, 'reward': 1000, 'perf_time': 0.1029696999999885, 'knowledge': 98.98477157360406, 'population': 198, 'numerosity': 198, 'reliable': 198}\n",
      "INFO:lcs.agents.Agent:{'trial': 300, 'steps_in_trial': 96, 'reward': 1000, 'perf_time': 0.15432989999999336, 'knowledge': 98.98477157360406, 'population': 198, 'numerosity': 198, 'reliable': 198}\n",
      "INFO:lcs.agents.Agent:{'trial': 350, 'steps_in_trial': 137, 'reward': 1000, 'perf_time': 0.19561590000000706, 'knowledge': 98.98477157360406, 'population': 198, 'numerosity': 198, 'reliable': 198}\n",
      "INFO:lcs.agents.Agent:{'trial': 400, 'steps_in_trial': 17, 'reward': 1000, 'perf_time': 0.025893300000007002, 'knowledge': 98.98477157360406, 'population': 198, 'numerosity': 198, 'reliable': 198}\n",
      "INFO:lcs.agents.Agent:{'trial': 450, 'steps_in_trial': 91, 'reward': 1000, 'perf_time': 0.1487916000000098, 'knowledge': 98.98477157360406, 'population': 198, 'numerosity': 198, 'reliable': 198}\n",
      "INFO:lcs.agents.Agent:{'trial': 500, 'steps_in_trial': 52, 'reward': 1000, 'perf_time': 0.10662860000002183, 'knowledge': 98.98477157360406, 'population': 198, 'numerosity': 198, 'reliable': 198}\n",
      "INFO:lcs.agents.Agent:{'trial': 10, 'steps_in_trial': 37, 'reward': 1000, 'perf_time': 0.018294400000002042, 'knowledge': 98.98477157360406, 'population': 198, 'numerosity': 198, 'reliable': 198}\n",
      "INFO:lcs.agents.Agent:{'trial': 20, 'steps_in_trial': 94, 'reward': 1000, 'perf_time': 0.04732789999999909, 'knowledge': 98.98477157360406, 'population': 198, 'numerosity': 198, 'reliable': 198}\n",
      "INFO:lcs.agents.Agent:{'trial': 30, 'steps_in_trial': 70, 'reward': 1000, 'perf_time': 0.032988299999999526, 'knowledge': 98.98477157360406, 'population': 198, 'numerosity': 198, 'reliable': 198}\n",
      "INFO:lcs.agents.Agent:{'trial': 40, 'steps_in_trial': 60, 'reward': 1000, 'perf_time': 0.02949460000002091, 'knowledge': 98.98477157360406, 'population': 198, 'numerosity': 198, 'reliable': 198}\n",
      "INFO:lcs.agents.Agent:{'trial': 50, 'steps_in_trial': 6, 'reward': 1000, 'perf_time': 0.0027758000000233096, 'knowledge': 98.98477157360406, 'population': 198, 'numerosity': 198, 'reliable': 198}\n",
      "INFO:lcs.agents.Agent:{'trial': 60, 'steps_in_trial': 42, 'reward': 1000, 'perf_time': 0.020348400000017364, 'knowledge': 98.98477157360406, 'population': 198, 'numerosity': 198, 'reliable': 198}\n",
      "INFO:lcs.agents.Agent:{'trial': 70, 'steps_in_trial': 91, 'reward': 1000, 'perf_time': 0.05656030000000101, 'knowledge': 98.98477157360406, 'population': 198, 'numerosity': 198, 'reliable': 198}\n",
      "INFO:lcs.agents.Agent:{'trial': 80, 'steps_in_trial': 79, 'reward': 1000, 'perf_time': 0.0557243000000085, 'knowledge': 98.98477157360406, 'population': 198, 'numerosity': 198, 'reliable': 198}\n",
      "INFO:lcs.agents.Agent:{'trial': 90, 'steps_in_trial': 37, 'reward': 1000, 'perf_time': 0.01821889999999371, 'knowledge': 98.98477157360406, 'population': 198, 'numerosity': 198, 'reliable': 198}\n",
      "INFO:lcs.agents.Agent:{'trial': 100, 'steps_in_trial': 41, 'reward': 1000, 'perf_time': 0.019770200000010618, 'knowledge': 98.98477157360406, 'population': 198, 'numerosity': 198, 'reliable': 198}\n"
     ]
    },
    {
     "name": "stdout",
     "output_type": "stream",
     "text": [
      "END - ACS2ER - 1\n",
      "START - ACS2ER - 2\n"
     ]
    },
    {
     "name": "stderr",
     "output_type": "stream",
     "text": [
      "INFO:lcs.agents.Agent:{'trial': 50, 'steps_in_trial': 200, 'reward': 0, 'perf_time': 0.4389361000000065, 'knowledge': 86.29441624365482, 'population': 196, 'numerosity': 196, 'reliable': 170}\n",
      "INFO:lcs.agents.Agent:{'trial': 100, 'steps_in_trial': 61, 'reward': 1000, 'perf_time': 0.15387520000001587, 'knowledge': 97.46192893401016, 'population': 198, 'numerosity': 198, 'reliable': 195}\n",
      "INFO:lcs.agents.Agent:{'trial': 150, 'steps_in_trial': 56, 'reward': 1000, 'perf_time': 0.12782329999998865, 'knowledge': 98.98477157360406, 'population': 198, 'numerosity': 198, 'reliable': 198}\n",
      "INFO:lcs.agents.Agent:{'trial': 200, 'steps_in_trial': 115, 'reward': 1000, 'perf_time': 0.24370310000000472, 'knowledge': 98.98477157360406, 'population': 198, 'numerosity': 198, 'reliable': 198}\n",
      "INFO:lcs.agents.Agent:{'trial': 250, 'steps_in_trial': 192, 'reward': 1000, 'perf_time': 0.4598642000000268, 'knowledge': 98.98477157360406, 'population': 198, 'numerosity': 198, 'reliable': 198}\n",
      "INFO:lcs.agents.Agent:{'trial': 300, 'steps_in_trial': 12, 'reward': 1000, 'perf_time': 0.03884979999997995, 'knowledge': 98.98477157360406, 'population': 198, 'numerosity': 198, 'reliable': 198}\n",
      "INFO:lcs.agents.Agent:{'trial': 350, 'steps_in_trial': 155, 'reward': 1000, 'perf_time': 0.3810508999999911, 'knowledge': 98.98477157360406, 'population': 198, 'numerosity': 198, 'reliable': 198}\n",
      "INFO:lcs.agents.Agent:{'trial': 400, 'steps_in_trial': 112, 'reward': 1000, 'perf_time': 0.2636984999999754, 'knowledge': 98.98477157360406, 'population': 198, 'numerosity': 198, 'reliable': 198}\n",
      "INFO:lcs.agents.Agent:{'trial': 450, 'steps_in_trial': 38, 'reward': 1000, 'perf_time': 0.08466889999999694, 'knowledge': 98.98477157360406, 'population': 198, 'numerosity': 198, 'reliable': 198}\n",
      "INFO:lcs.agents.Agent:{'trial': 500, 'steps_in_trial': 89, 'reward': 1000, 'perf_time': 0.1977059999999824, 'knowledge': 98.98477157360406, 'population': 198, 'numerosity': 198, 'reliable': 198}\n",
      "INFO:lcs.agents.Agent:{'trial': 10, 'steps_in_trial': 85, 'reward': 1000, 'perf_time': 0.038783100000046034, 'knowledge': 98.98477157360406, 'population': 198, 'numerosity': 198, 'reliable': 198}\n",
      "INFO:lcs.agents.Agent:{'trial': 20, 'steps_in_trial': 84, 'reward': 1000, 'perf_time': 0.038120199999980287, 'knowledge': 98.98477157360406, 'population': 198, 'numerosity': 198, 'reliable': 198}\n",
      "INFO:lcs.agents.Agent:{'trial': 30, 'steps_in_trial': 94, 'reward': 1000, 'perf_time': 0.04310129999998935, 'knowledge': 98.98477157360406, 'population': 198, 'numerosity': 198, 'reliable': 198}\n",
      "INFO:lcs.agents.Agent:{'trial': 40, 'steps_in_trial': 65, 'reward': 1000, 'perf_time': 0.03007239999999456, 'knowledge': 98.98477157360406, 'population': 198, 'numerosity': 198, 'reliable': 198}\n",
      "INFO:lcs.agents.Agent:{'trial': 50, 'steps_in_trial': 24, 'reward': 1000, 'perf_time': 0.013428800000042429, 'knowledge': 98.98477157360406, 'population': 198, 'numerosity': 198, 'reliable': 198}\n",
      "INFO:lcs.agents.Agent:{'trial': 60, 'steps_in_trial': 10, 'reward': 1000, 'perf_time': 0.005098600000053466, 'knowledge': 98.98477157360406, 'population': 198, 'numerosity': 198, 'reliable': 198}\n",
      "INFO:lcs.agents.Agent:{'trial': 70, 'steps_in_trial': 97, 'reward': 1000, 'perf_time': 0.04720520000000761, 'knowledge': 98.98477157360406, 'population': 198, 'numerosity': 198, 'reliable': 198}\n",
      "INFO:lcs.agents.Agent:{'trial': 80, 'steps_in_trial': 50, 'reward': 1000, 'perf_time': 0.027497799999991912, 'knowledge': 98.98477157360406, 'population': 198, 'numerosity': 198, 'reliable': 198}\n",
      "INFO:lcs.agents.Agent:{'trial': 90, 'steps_in_trial': 33, 'reward': 1000, 'perf_time': 0.023577700000032564, 'knowledge': 98.98477157360406, 'population': 198, 'numerosity': 198, 'reliable': 198}\n",
      "INFO:lcs.agents.Agent:{'trial': 100, 'steps_in_trial': 36, 'reward': 1000, 'perf_time': 0.015937000000008084, 'knowledge': 98.98477157360406, 'population': 198, 'numerosity': 198, 'reliable': 198}\n"
     ]
    },
    {
     "name": "stdout",
     "output_type": "stream",
     "text": [
      "END - ACS2ER - 2\n",
      "START - ACS2ER - 3\n"
     ]
    },
    {
     "name": "stderr",
     "output_type": "stream",
     "text": [
      "INFO:lcs.agents.Agent:{'trial': 50, 'steps_in_trial': 2, 'reward': 1000, 'perf_time': 0.006306499999993775, 'knowledge': 86.80203045685279, 'population': 197, 'numerosity': 197, 'reliable': 174}\n",
      "INFO:lcs.agents.Agent:{'trial': 100, 'steps_in_trial': 44, 'reward': 1000, 'perf_time': 0.15392029999998158, 'knowledge': 98.47715736040608, 'population': 198, 'numerosity': 198, 'reliable': 197}\n",
      "INFO:lcs.agents.Agent:{'trial': 150, 'steps_in_trial': 114, 'reward': 1000, 'perf_time': 0.37771049999997786, 'knowledge': 98.98477157360406, 'population': 198, 'numerosity': 198, 'reliable': 198}\n",
      "INFO:lcs.agents.Agent:{'trial': 200, 'steps_in_trial': 166, 'reward': 1000, 'perf_time': 0.6095821000000115, 'knowledge': 98.98477157360406, 'population': 198, 'numerosity': 198, 'reliable': 198}\n",
      "INFO:lcs.agents.Agent:{'trial': 250, 'steps_in_trial': 157, 'reward': 1000, 'perf_time': 0.5278289000000314, 'knowledge': 98.98477157360406, 'population': 198, 'numerosity': 198, 'reliable': 198}\n",
      "INFO:lcs.agents.Agent:{'trial': 300, 'steps_in_trial': 164, 'reward': 1000, 'perf_time': 0.5975397000000839, 'knowledge': 98.98477157360406, 'population': 198, 'numerosity': 198, 'reliable': 198}\n",
      "INFO:lcs.agents.Agent:{'trial': 350, 'steps_in_trial': 151, 'reward': 1000, 'perf_time': 0.7039319000000432, 'knowledge': 98.98477157360406, 'population': 198, 'numerosity': 198, 'reliable': 198}\n",
      "INFO:lcs.agents.Agent:{'trial': 400, 'steps_in_trial': 10, 'reward': 1000, 'perf_time': 0.03157620000001771, 'knowledge': 98.98477157360406, 'population': 198, 'numerosity': 198, 'reliable': 198}\n",
      "INFO:lcs.agents.Agent:{'trial': 450, 'steps_in_trial': 146, 'reward': 1000, 'perf_time': 0.4679630000000543, 'knowledge': 98.98477157360406, 'population': 198, 'numerosity': 198, 'reliable': 198}\n",
      "INFO:lcs.agents.Agent:{'trial': 500, 'steps_in_trial': 44, 'reward': 1000, 'perf_time': 0.1523248999999396, 'knowledge': 98.98477157360406, 'population': 198, 'numerosity': 198, 'reliable': 198}\n",
      "INFO:lcs.agents.Agent:{'trial': 10, 'steps_in_trial': 68, 'reward': 1000, 'perf_time': 0.03175129999999626, 'knowledge': 98.98477157360406, 'population': 198, 'numerosity': 198, 'reliable': 198}\n",
      "INFO:lcs.agents.Agent:{'trial': 20, 'steps_in_trial': 78, 'reward': 1000, 'perf_time': 0.034963400000037836, 'knowledge': 98.98477157360406, 'population': 198, 'numerosity': 198, 'reliable': 198}\n",
      "INFO:lcs.agents.Agent:{'trial': 30, 'steps_in_trial': 5, 'reward': 1000, 'perf_time': 0.002353499999912856, 'knowledge': 98.98477157360406, 'population': 198, 'numerosity': 198, 'reliable': 198}\n",
      "INFO:lcs.agents.Agent:{'trial': 40, 'steps_in_trial': 31, 'reward': 1000, 'perf_time': 0.014677099999971688, 'knowledge': 98.98477157360406, 'population': 198, 'numerosity': 198, 'reliable': 198}\n",
      "INFO:lcs.agents.Agent:{'trial': 50, 'steps_in_trial': 11, 'reward': 1000, 'perf_time': 0.0061249999999972715, 'knowledge': 98.98477157360406, 'population': 198, 'numerosity': 198, 'reliable': 198}\n",
      "INFO:lcs.agents.Agent:{'trial': 60, 'steps_in_trial': 59, 'reward': 1000, 'perf_time': 0.026838999999995394, 'knowledge': 98.98477157360406, 'population': 198, 'numerosity': 198, 'reliable': 198}\n",
      "INFO:lcs.agents.Agent:{'trial': 70, 'steps_in_trial': 41, 'reward': 1000, 'perf_time': 0.021203800000080264, 'knowledge': 98.98477157360406, 'population': 198, 'numerosity': 198, 'reliable': 198}\n",
      "INFO:lcs.agents.Agent:{'trial': 80, 'steps_in_trial': 44, 'reward': 1000, 'perf_time': 0.02026690000002418, 'knowledge': 98.98477157360406, 'population': 198, 'numerosity': 198, 'reliable': 198}\n",
      "INFO:lcs.agents.Agent:{'trial': 90, 'steps_in_trial': 21, 'reward': 1000, 'perf_time': 0.011314699999957156, 'knowledge': 98.98477157360406, 'population': 198, 'numerosity': 198, 'reliable': 198}\n",
      "INFO:lcs.agents.Agent:{'trial': 100, 'steps_in_trial': 37, 'reward': 1000, 'perf_time': 0.017131700000049932, 'knowledge': 98.98477157360406, 'population': 198, 'numerosity': 198, 'reliable': 198}\n"
     ]
    },
    {
     "name": "stdout",
     "output_type": "stream",
     "text": [
      "END - ACS2ER - 3\n",
      "START - ACS2ER - 5\n"
     ]
    },
    {
     "name": "stderr",
     "output_type": "stream",
     "text": [
      "INFO:lcs.agents.Agent:{'trial': 50, 'steps_in_trial': 200, 'reward': 0, 'perf_time': 0.9641570999999658, 'knowledge': 93.90862944162437, 'population': 198, 'numerosity': 198, 'reliable': 188}\n",
      "INFO:lcs.agents.Agent:{'trial': 100, 'steps_in_trial': 137, 'reward': 1000, 'perf_time': 0.6563877999999477, 'knowledge': 98.98477157360406, 'population': 198, 'numerosity': 198, 'reliable': 198}\n",
      "INFO:lcs.agents.Agent:{'trial': 150, 'steps_in_trial': 72, 'reward': 1000, 'perf_time': 0.3439040999999179, 'knowledge': 98.98477157360406, 'population': 198, 'numerosity': 198, 'reliable': 198}\n",
      "INFO:lcs.agents.Agent:{'trial': 200, 'steps_in_trial': 64, 'reward': 1000, 'perf_time': 0.32799529999999777, 'knowledge': 98.98477157360406, 'population': 198, 'numerosity': 198, 'reliable': 198}\n",
      "INFO:lcs.agents.Agent:{'trial': 250, 'steps_in_trial': 144, 'reward': 1000, 'perf_time': 0.716229799999951, 'knowledge': 98.98477157360406, 'population': 198, 'numerosity': 198, 'reliable': 198}\n",
      "INFO:lcs.agents.Agent:{'trial': 300, 'steps_in_trial': 54, 'reward': 1000, 'perf_time': 0.25814580000007936, 'knowledge': 98.98477157360406, 'population': 198, 'numerosity': 198, 'reliable': 198}\n",
      "INFO:lcs.agents.Agent:{'trial': 350, 'steps_in_trial': 130, 'reward': 1000, 'perf_time': 0.706361300000026, 'knowledge': 98.98477157360406, 'population': 198, 'numerosity': 198, 'reliable': 198}\n",
      "INFO:lcs.agents.Agent:{'trial': 400, 'steps_in_trial': 200, 'reward': 0, 'perf_time': 1.0627038000000084, 'knowledge': 98.98477157360406, 'population': 198, 'numerosity': 198, 'reliable': 198}\n",
      "INFO:lcs.agents.Agent:{'trial': 450, 'steps_in_trial': 2, 'reward': 1000, 'perf_time': 0.010525099999995291, 'knowledge': 98.98477157360406, 'population': 198, 'numerosity': 198, 'reliable': 198}\n",
      "INFO:lcs.agents.Agent:{'trial': 500, 'steps_in_trial': 97, 'reward': 1000, 'perf_time': 0.5400154999999813, 'knowledge': 98.98477157360406, 'population': 198, 'numerosity': 198, 'reliable': 198}\n",
      "INFO:lcs.agents.Agent:{'trial': 10, 'steps_in_trial': 83, 'reward': 1000, 'perf_time': 0.04758330000004207, 'knowledge': 98.98477157360406, 'population': 198, 'numerosity': 198, 'reliable': 198}\n",
      "INFO:lcs.agents.Agent:{'trial': 20, 'steps_in_trial': 40, 'reward': 1000, 'perf_time': 0.018110800000044947, 'knowledge': 98.98477157360406, 'population': 198, 'numerosity': 198, 'reliable': 198}\n",
      "INFO:lcs.agents.Agent:{'trial': 30, 'steps_in_trial': 58, 'reward': 1000, 'perf_time': 0.02913479999995161, 'knowledge': 98.98477157360406, 'population': 198, 'numerosity': 198, 'reliable': 198}\n",
      "INFO:lcs.agents.Agent:{'trial': 40, 'steps_in_trial': 88, 'reward': 1000, 'perf_time': 0.04325940000001083, 'knowledge': 98.98477157360406, 'population': 198, 'numerosity': 198, 'reliable': 198}\n",
      "INFO:lcs.agents.Agent:{'trial': 50, 'steps_in_trial': 2, 'reward': 1000, 'perf_time': 0.0009233000000676839, 'knowledge': 98.98477157360406, 'population': 198, 'numerosity': 198, 'reliable': 198}\n",
      "INFO:lcs.agents.Agent:{'trial': 60, 'steps_in_trial': 38, 'reward': 1000, 'perf_time': 0.0174230999999736, 'knowledge': 98.98477157360406, 'population': 198, 'numerosity': 198, 'reliable': 198}\n",
      "INFO:lcs.agents.Agent:{'trial': 70, 'steps_in_trial': 46, 'reward': 1000, 'perf_time': 0.02238739999995687, 'knowledge': 98.98477157360406, 'population': 198, 'numerosity': 198, 'reliable': 198}\n",
      "INFO:lcs.agents.Agent:{'trial': 80, 'steps_in_trial': 4, 'reward': 1000, 'perf_time': 0.004789699999946606, 'knowledge': 98.98477157360406, 'population': 198, 'numerosity': 198, 'reliable': 198}\n",
      "INFO:lcs.agents.Agent:{'trial': 90, 'steps_in_trial': 6, 'reward': 1000, 'perf_time': 0.0048633999999765365, 'knowledge': 98.98477157360406, 'population': 198, 'numerosity': 198, 'reliable': 198}\n",
      "INFO:lcs.agents.Agent:{'trial': 100, 'steps_in_trial': 77, 'reward': 1000, 'perf_time': 0.03935409999996864, 'knowledge': 98.98477157360406, 'population': 198, 'numerosity': 198, 'reliable': 198}\n"
     ]
    },
    {
     "name": "stdout",
     "output_type": "stream",
     "text": [
      "END - ACS2ER - 5\n",
      "START - ACS2ER - 8\n"
     ]
    },
    {
     "name": "stderr",
     "output_type": "stream",
     "text": [
      "INFO:lcs.agents.Agent:{'trial': 50, 'steps_in_trial': 41, 'reward': 1000, 'perf_time': 0.33936949999997523, 'knowledge': 95.93908629441624, 'population': 198, 'numerosity': 198, 'reliable': 192}\n",
      "INFO:lcs.agents.Agent:{'trial': 100, 'steps_in_trial': 200, 'reward': 1000, 'perf_time': 1.7617961000000832, 'knowledge': 98.98477157360406, 'population': 198, 'numerosity': 198, 'reliable': 198}\n",
      "INFO:lcs.agents.Agent:{'trial': 150, 'steps_in_trial': 64, 'reward': 1000, 'perf_time': 0.5623895000001085, 'knowledge': 98.98477157360406, 'population': 198, 'numerosity': 198, 'reliable': 198}\n",
      "INFO:lcs.agents.Agent:{'trial': 200, 'steps_in_trial': 108, 'reward': 1000, 'perf_time': 0.9002302999999756, 'knowledge': 98.98477157360406, 'population': 198, 'numerosity': 198, 'reliable': 198}\n",
      "INFO:lcs.agents.Agent:{'trial': 250, 'steps_in_trial': 200, 'reward': 0, 'perf_time': 1.7107396999999764, 'knowledge': 98.98477157360406, 'population': 198, 'numerosity': 198, 'reliable': 198}\n",
      "INFO:lcs.agents.Agent:{'trial': 300, 'steps_in_trial': 78, 'reward': 1000, 'perf_time': 0.6107760999998391, 'knowledge': 98.98477157360406, 'population': 198, 'numerosity': 198, 'reliable': 198}\n",
      "INFO:lcs.agents.Agent:{'trial': 350, 'steps_in_trial': 43, 'reward': 1000, 'perf_time': 0.31082460000016, 'knowledge': 98.98477157360406, 'population': 198, 'numerosity': 198, 'reliable': 198}\n",
      "INFO:lcs.agents.Agent:{'trial': 400, 'steps_in_trial': 10, 'reward': 1000, 'perf_time': 0.07152899999982765, 'knowledge': 98.98477157360406, 'population': 198, 'numerosity': 198, 'reliable': 198}\n",
      "INFO:lcs.agents.Agent:{'trial': 450, 'steps_in_trial': 42, 'reward': 1000, 'perf_time': 0.3041680000001179, 'knowledge': 98.98477157360406, 'population': 198, 'numerosity': 198, 'reliable': 198}\n",
      "INFO:lcs.agents.Agent:{'trial': 500, 'steps_in_trial': 46, 'reward': 1000, 'perf_time': 0.32428840000011405, 'knowledge': 98.98477157360406, 'population': 198, 'numerosity': 198, 'reliable': 198}\n",
      "INFO:lcs.agents.Agent:{'trial': 10, 'steps_in_trial': 30, 'reward': 1000, 'perf_time': 0.012836000000106651, 'knowledge': 98.98477157360406, 'population': 198, 'numerosity': 198, 'reliable': 198}\n",
      "INFO:lcs.agents.Agent:{'trial': 20, 'steps_in_trial': 87, 'reward': 1000, 'perf_time': 0.03870409999990443, 'knowledge': 98.98477157360406, 'population': 198, 'numerosity': 198, 'reliable': 198}\n",
      "INFO:lcs.agents.Agent:{'trial': 30, 'steps_in_trial': 87, 'reward': 1000, 'perf_time': 0.0375418000000991, 'knowledge': 98.98477157360406, 'population': 198, 'numerosity': 198, 'reliable': 198}\n",
      "INFO:lcs.agents.Agent:{'trial': 40, 'steps_in_trial': 45, 'reward': 1000, 'perf_time': 0.02003270000000157, 'knowledge': 98.98477157360406, 'population': 198, 'numerosity': 198, 'reliable': 198}\n",
      "INFO:lcs.agents.Agent:{'trial': 50, 'steps_in_trial': 55, 'reward': 1000, 'perf_time': 0.02406410000003234, 'knowledge': 98.98477157360406, 'population': 198, 'numerosity': 198, 'reliable': 198}\n",
      "INFO:lcs.agents.Agent:{'trial': 60, 'steps_in_trial': 86, 'reward': 1000, 'perf_time': 0.03761239999994359, 'knowledge': 98.98477157360406, 'population': 198, 'numerosity': 198, 'reliable': 198}\n",
      "INFO:lcs.agents.Agent:{'trial': 70, 'steps_in_trial': 14, 'reward': 1000, 'perf_time': 0.00874670000007427, 'knowledge': 98.98477157360406, 'population': 198, 'numerosity': 198, 'reliable': 198}\n",
      "INFO:lcs.agents.Agent:{'trial': 80, 'steps_in_trial': 45, 'reward': 1000, 'perf_time': 0.019074000000046, 'knowledge': 98.98477157360406, 'population': 198, 'numerosity': 198, 'reliable': 198}\n",
      "INFO:lcs.agents.Agent:{'trial': 90, 'steps_in_trial': 76, 'reward': 1000, 'perf_time': 0.03328850000002603, 'knowledge': 98.98477157360406, 'population': 198, 'numerosity': 198, 'reliable': 198}\n",
      "INFO:lcs.agents.Agent:{'trial': 100, 'steps_in_trial': 24, 'reward': 1000, 'perf_time': 0.010415099999818267, 'knowledge': 98.98477157360406, 'population': 198, 'numerosity': 198, 'reliable': 198}\n"
     ]
    },
    {
     "name": "stdout",
     "output_type": "stream",
     "text": [
      "END - ACS2ER - 8\n",
      "START - ACS2ER - 13\n"
     ]
    },
    {
     "name": "stderr",
     "output_type": "stream",
     "text": [
      "INFO:lcs.agents.Agent:{'trial': 50, 'steps_in_trial': 200, 'reward': 0, 'perf_time': 2.779816199999914, 'knowledge': 98.47715736040608, 'population': 198, 'numerosity': 198, 'reliable': 197}\n",
      "INFO:lcs.agents.Agent:{'trial': 100, 'steps_in_trial': 13, 'reward': 1000, 'perf_time': 0.16285070000003543, 'knowledge': 98.98477157360406, 'population': 198, 'numerosity': 198, 'reliable': 198}\n",
      "INFO:lcs.agents.Agent:{'trial': 150, 'steps_in_trial': 36, 'reward': 1000, 'perf_time': 0.44709740000007514, 'knowledge': 98.98477157360406, 'population': 198, 'numerosity': 198, 'reliable': 198}\n",
      "INFO:lcs.agents.Agent:{'trial': 200, 'steps_in_trial': 148, 'reward': 1000, 'perf_time': 1.9356239999999616, 'knowledge': 98.98477157360406, 'population': 198, 'numerosity': 198, 'reliable': 198}\n",
      "INFO:lcs.agents.Agent:{'trial': 250, 'steps_in_trial': 1, 'reward': 1000, 'perf_time': 0.011807399999952395, 'knowledge': 98.98477157360406, 'population': 198, 'numerosity': 198, 'reliable': 198}\n",
      "INFO:lcs.agents.Agent:{'trial': 300, 'steps_in_trial': 60, 'reward': 1000, 'perf_time': 0.8252691000000141, 'knowledge': 98.98477157360406, 'population': 198, 'numerosity': 198, 'reliable': 198}\n",
      "INFO:lcs.agents.Agent:{'trial': 350, 'steps_in_trial': 37, 'reward': 1000, 'perf_time': 0.49924890000011146, 'knowledge': 98.98477157360406, 'population': 198, 'numerosity': 198, 'reliable': 198}\n",
      "INFO:lcs.agents.Agent:{'trial': 400, 'steps_in_trial': 67, 'reward': 1000, 'perf_time': 0.9532600000002276, 'knowledge': 98.98477157360406, 'population': 198, 'numerosity': 198, 'reliable': 198}\n",
      "INFO:lcs.agents.Agent:{'trial': 450, 'steps_in_trial': 64, 'reward': 1000, 'perf_time': 0.8722622000000229, 'knowledge': 98.98477157360406, 'population': 198, 'numerosity': 198, 'reliable': 198}\n",
      "INFO:lcs.agents.Agent:{'trial': 500, 'steps_in_trial': 170, 'reward': 1000, 'perf_time': 2.407465299999785, 'knowledge': 98.98477157360406, 'population': 198, 'numerosity': 198, 'reliable': 198}\n",
      "INFO:lcs.agents.Agent:{'trial': 10, 'steps_in_trial': 56, 'reward': 1000, 'perf_time': 0.06427990000020145, 'knowledge': 98.98477157360406, 'population': 198, 'numerosity': 198, 'reliable': 198}\n",
      "INFO:lcs.agents.Agent:{'trial': 20, 'steps_in_trial': 98, 'reward': 1000, 'perf_time': 0.05617989999973361, 'knowledge': 98.98477157360406, 'population': 198, 'numerosity': 198, 'reliable': 198}\n",
      "INFO:lcs.agents.Agent:{'trial': 30, 'steps_in_trial': 87, 'reward': 1000, 'perf_time': 0.04229280000026847, 'knowledge': 98.98477157360406, 'population': 198, 'numerosity': 198, 'reliable': 198}\n",
      "INFO:lcs.agents.Agent:{'trial': 40, 'steps_in_trial': 66, 'reward': 1000, 'perf_time': 0.032510699999875214, 'knowledge': 98.98477157360406, 'population': 198, 'numerosity': 198, 'reliable': 198}\n",
      "INFO:lcs.agents.Agent:{'trial': 50, 'steps_in_trial': 47, 'reward': 1000, 'perf_time': 0.027521400000296126, 'knowledge': 98.98477157360406, 'population': 198, 'numerosity': 198, 'reliable': 198}\n",
      "INFO:lcs.agents.Agent:{'trial': 60, 'steps_in_trial': 12, 'reward': 1000, 'perf_time': 0.005994000000100641, 'knowledge': 98.98477157360406, 'population': 198, 'numerosity': 198, 'reliable': 198}\n",
      "INFO:lcs.agents.Agent:{'trial': 70, 'steps_in_trial': 20, 'reward': 1000, 'perf_time': 0.009308600000167644, 'knowledge': 98.98477157360406, 'population': 198, 'numerosity': 198, 'reliable': 198}\n",
      "INFO:lcs.agents.Agent:{'trial': 80, 'steps_in_trial': 29, 'reward': 1000, 'perf_time': 0.014344100000016624, 'knowledge': 98.98477157360406, 'population': 198, 'numerosity': 198, 'reliable': 198}\n",
      "INFO:lcs.agents.Agent:{'trial': 90, 'steps_in_trial': 47, 'reward': 1000, 'perf_time': 0.021393500000158383, 'knowledge': 98.98477157360406, 'population': 198, 'numerosity': 198, 'reliable': 198}\n",
      "INFO:lcs.agents.Agent:{'trial': 100, 'steps_in_trial': 38, 'reward': 1000, 'perf_time': 0.017859999999927823, 'knowledge': 98.98477157360406, 'population': 198, 'numerosity': 198, 'reliable': 198}\n"
     ]
    },
    {
     "name": "stdout",
     "output_type": "stream",
     "text": [
      "END - ACS2ER - 13\n"
     ]
    }
   ],
   "source": [
    "run_acs2er_experiments()"
   ]
  }
 ],
 "metadata": {
  "kernelspec": {
   "display_name": "Python 3",
   "language": "python",
   "name": "python3"
  },
  "language_info": {
   "codemirror_mode": {
    "name": "ipython",
    "version": 3
   },
   "file_extension": ".py",
   "mimetype": "text/x-python",
   "name": "python",
   "nbconvert_exporter": "python",
   "pygments_lexer": "ipython3",
   "version": "3.7.12"
  }
 },
 "nbformat": 4,
 "nbformat_minor": 4
}
