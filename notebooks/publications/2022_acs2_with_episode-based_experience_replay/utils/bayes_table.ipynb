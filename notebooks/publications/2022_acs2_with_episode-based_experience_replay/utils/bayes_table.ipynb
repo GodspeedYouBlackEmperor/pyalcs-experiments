{
 "cells": [
  {
   "cell_type": "code",
   "execution_count": 2,
   "metadata": {
    "collapsed": false,
    "pycharm": {
     "name": "#%%\n"
    }
   },
   "outputs": [],
   "source": [
    "import os\n",
    "\n",
    "import dill\n",
    "import pandas as pd\n",
    "import numpy as np\n",
    "\n",
    "RESULTS_DIR = 'results'\n",
    "\n",
    "algs = {\n",
    "    '-1': 'ACS2',\n",
    "    '3-EER': 'ACS2-EER',\n",
    "    '3-ER': 'ACS2-ER',\n",
    "    'SQ': 'Q-Learning',\n",
    "    'DQN': 'DQN'\n",
    "}"
   ]
  },
  {
   "cell_type": "markdown",
   "metadata": {
    "collapsed": false,
    "pycharm": {
     "name": "#%% md\n"
    }
   },
   "source": [
    "# Bayes Analysis\n",
    "- [visualization gallery](https://www.machinelearningplus.com/plots/top-50-matplotlib-visualizations-the-master-plots-python/)\n",
    "\n",
    "ER - Experience Replay\n",
    "EER - Episode Experience Replay - replay whole episode without assigning priorities (each one has same probability)"
   ]
  },
  {
   "cell_type": "code",
   "execution_count": 1,
   "metadata": {
    "collapsed": false,
    "pycharm": {
     "name": "#%%\n"
    }
   },
   "outputs": [],
   "source": [
    "def load_data(environment, metric):\n",
    "    data_path = os.path.join(RESULTS_DIR, environment, metric)\n",
    "    models = {}\n",
    "    for f in os.listdir(data_path):\n",
    "        model_id = f.split('.')[0]\n",
    "        model = dill.load(open(os.path.join(data_path, f), 'rb'))\n",
    "        models[model_id] = model\n",
    "    return models"
   ]
  },
  {
   "cell_type": "code",
   "execution_count": 13,
   "metadata": {
    "collapsed": false,
    "pycharm": {
     "name": "#%%\n"
    }
   },
   "outputs": [],
   "source": [
    "def to_df(arr):\n",
    "    df = pd.DataFrame(arr)\n",
    "    df.set_index('env', inplace=True)\n",
    "    df.sort_index(inplace=True)\n",
    "    return df\n",
    "\n",
    "def fmt_cell(data_arr):\n",
    "    return f\"{np.mean(data_arr):.2f} ± {np.std(data_arr):.2f}\""
   ]
  },
  {
   "cell_type": "markdown",
   "metadata": {
    "collapsed": false,
    "pycharm": {
     "name": "#%% md\n"
    }
   },
   "source": [
    "## Steps"
   ]
  },
  {
   "cell_type": "code",
   "execution_count": 8,
   "metadata": {
    "collapsed": false,
    "pycharm": {
     "name": "#%%\n"
    }
   },
   "outputs": [],
   "source": [
    "steps_arr = []\n",
    "\n",
    "for env in os.listdir(RESULTS_DIR):\n",
    "    env_metrics = load_data(env, 'steps')\n",
    "    steps_arr.append({\n",
    "        'env': env,\n",
    "        'ACS2': fmt_cell(env_metrics['-1'].mu),\n",
    "        'ACS2 ER': fmt_cell(env_metrics['3-ER'].mu),\n",
    "        'ACS2 EER': fmt_cell(env_metrics['3-EER'].mu),\n",
    "        'Q-Learning': fmt_cell(env_metrics['SQ'].mu),\n",
    "        'DQN': fmt_cell(env_metrics['DQN'].mu),\n",
    "    })"
   ]
  },
  {
   "cell_type": "code",
   "execution_count": 14,
   "metadata": {
    "collapsed": false,
    "pycharm": {
     "name": "#%%\n"
    }
   },
   "outputs": [
    {
     "data": {
      "text/html": [
       "<div>\n",
       "<style scoped>\n",
       "    .dataframe tbody tr th:only-of-type {\n",
       "        vertical-align: middle;\n",
       "    }\n",
       "\n",
       "    .dataframe tbody tr th {\n",
       "        vertical-align: top;\n",
       "    }\n",
       "\n",
       "    .dataframe thead th {\n",
       "        text-align: right;\n",
       "    }\n",
       "</style>\n",
       "<table border=\"1\" class=\"dataframe\">\n",
       "  <thead>\n",
       "    <tr style=\"text-align: right;\">\n",
       "      <th></th>\n",
       "      <th>ACS2</th>\n",
       "      <th>ACS2 ER</th>\n",
       "      <th>ACS2 EER</th>\n",
       "      <th>Q-Learning</th>\n",
       "      <th>DQN</th>\n",
       "    </tr>\n",
       "    <tr>\n",
       "      <th>env</th>\n",
       "      <th></th>\n",
       "      <th></th>\n",
       "      <th></th>\n",
       "      <th></th>\n",
       "      <th></th>\n",
       "    </tr>\n",
       "  </thead>\n",
       "  <tbody>\n",
       "    <tr>\n",
       "      <th>MAZE4</th>\n",
       "      <td>9.17 ± 0.09</td>\n",
       "      <td>8.22 ± 0.04</td>\n",
       "      <td>8.13 ± 0.04</td>\n",
       "      <td>12.10 ± 0.19</td>\n",
       "      <td>10.73 ± 0.19</td>\n",
       "    </tr>\n",
       "    <tr>\n",
       "      <th>MAZE5</th>\n",
       "      <td>12.51 ± 0.17</td>\n",
       "      <td>11.01 ± 0.07</td>\n",
       "      <td>10.70 ± 0.05</td>\n",
       "      <td>17.27 ± 0.39</td>\n",
       "      <td>14.48 ± 0.20</td>\n",
       "    </tr>\n",
       "    <tr>\n",
       "      <th>MAZE7</th>\n",
       "      <td>17.19 ± 0.14</td>\n",
       "      <td>15.71 ± 0.05</td>\n",
       "      <td>15.52 ± 0.04</td>\n",
       "      <td>33.33 ± 0.46</td>\n",
       "      <td>25.18 ± 0.38</td>\n",
       "    </tr>\n",
       "    <tr>\n",
       "      <th>MAZEF1</th>\n",
       "      <td>3.73 ± 0.03</td>\n",
       "      <td>3.79 ± 0.01</td>\n",
       "      <td>3.69 ± 0.01</td>\n",
       "      <td>4.01 ± 0.03</td>\n",
       "      <td>3.96 ± 0.03</td>\n",
       "    </tr>\n",
       "    <tr>\n",
       "      <th>MAZEF2</th>\n",
       "      <td>5.51 ± 0.03</td>\n",
       "      <td>5.42 ± 0.01</td>\n",
       "      <td>5.38 ± 0.01</td>\n",
       "      <td>6.52 ± 0.07</td>\n",
       "      <td>6.20 ± 0.10</td>\n",
       "    </tr>\n",
       "    <tr>\n",
       "      <th>MAZEF3</th>\n",
       "      <td>7.36 ± 0.04</td>\n",
       "      <td>7.28 ± 0.02</td>\n",
       "      <td>7.26 ± 0.01</td>\n",
       "      <td>10.40 ± 0.17</td>\n",
       "      <td>9.02 ± 0.11</td>\n",
       "    </tr>\n",
       "    <tr>\n",
       "      <th>MAZET2</th>\n",
       "      <td>5.74 ± 0.02</td>\n",
       "      <td>5.84 ± 0.01</td>\n",
       "      <td>5.80 ± 0.01</td>\n",
       "      <td>6.88 ± 0.09</td>\n",
       "      <td>6.39 ± 0.06</td>\n",
       "    </tr>\n",
       "    <tr>\n",
       "      <th>MAZET3</th>\n",
       "      <td>7.71 ± 0.03</td>\n",
       "      <td>7.76 ± 0.01</td>\n",
       "      <td>7.76 ± 0.01</td>\n",
       "      <td>9.30 ± 0.21</td>\n",
       "      <td>8.72 ± 0.09</td>\n",
       "    </tr>\n",
       "    <tr>\n",
       "      <th>MAZEX1</th>\n",
       "      <td>20.93 ± 0.21</td>\n",
       "      <td>18.96 ± 0.18</td>\n",
       "      <td>18.61 ± 0.12</td>\n",
       "      <td>43.17 ± 0.21</td>\n",
       "      <td>39.03 ± 0.43</td>\n",
       "    </tr>\n",
       "    <tr>\n",
       "      <th>MAZEX2</th>\n",
       "      <td>22.99 ± 0.23</td>\n",
       "      <td>20.65 ± 0.19</td>\n",
       "      <td>20.19 ± 0.13</td>\n",
       "      <td>43.80 ± 0.15</td>\n",
       "      <td>38.49 ± 0.28</td>\n",
       "    </tr>\n",
       "  </tbody>\n",
       "</table>\n",
       "</div>"
      ],
      "text/plain": [
       "                ACS2       ACS2 ER      ACS2 EER    Q-Learning           DQN\n",
       "env                                                                         \n",
       "MAZE4    9.17 ± 0.09   8.22 ± 0.04   8.13 ± 0.04  12.10 ± 0.19  10.73 ± 0.19\n",
       "MAZE5   12.51 ± 0.17  11.01 ± 0.07  10.70 ± 0.05  17.27 ± 0.39  14.48 ± 0.20\n",
       "MAZE7   17.19 ± 0.14  15.71 ± 0.05  15.52 ± 0.04  33.33 ± 0.46  25.18 ± 0.38\n",
       "MAZEF1   3.73 ± 0.03   3.79 ± 0.01   3.69 ± 0.01   4.01 ± 0.03   3.96 ± 0.03\n",
       "MAZEF2   5.51 ± 0.03   5.42 ± 0.01   5.38 ± 0.01   6.52 ± 0.07   6.20 ± 0.10\n",
       "MAZEF3   7.36 ± 0.04   7.28 ± 0.02   7.26 ± 0.01  10.40 ± 0.17   9.02 ± 0.11\n",
       "MAZET2   5.74 ± 0.02   5.84 ± 0.01   5.80 ± 0.01   6.88 ± 0.09   6.39 ± 0.06\n",
       "MAZET3   7.71 ± 0.03   7.76 ± 0.01   7.76 ± 0.01   9.30 ± 0.21   8.72 ± 0.09\n",
       "MAZEX1  20.93 ± 0.21  18.96 ± 0.18  18.61 ± 0.12  43.17 ± 0.21  39.03 ± 0.43\n",
       "MAZEX2  22.99 ± 0.23  20.65 ± 0.19  20.19 ± 0.13  43.80 ± 0.15  38.49 ± 0.28"
      ]
     },
     "execution_count": 14,
     "metadata": {},
     "output_type": "execute_result"
    }
   ],
   "source": [
    "steps_df = to_df(steps_arr)\n",
    "steps_df"
   ]
  },
  {
   "cell_type": "code",
   "execution_count": 20,
   "metadata": {
    "collapsed": false,
    "pycharm": {
     "name": "#%%\n"
    }
   },
   "outputs": [
    {
     "name": "stdout",
     "output_type": "stream",
     "text": [
      "\\begin{tabular}{llllll}\n",
      "\\toprule\n",
      "{} &          ACS2 &       ACS2 ER &      ACS2 EER &    Q-Learning &           DQN \\\\\n",
      "env    &               &               &               &               &               \\\\\n",
      "\\midrule\n",
      "MAZE4  &   9.17 ± 0.09 &   8.22 ± 0.04 &   8.13 ± 0.04 &  12.10 ± 0.19 &  10.73 ± 0.19 \\\\\n",
      "MAZE5  &  12.51 ± 0.17 &  11.01 ± 0.07 &  10.70 ± 0.05 &  17.27 ± 0.39 &  14.48 ± 0.20 \\\\\n",
      "MAZE7  &  17.19 ± 0.14 &  15.71 ± 0.05 &  15.52 ± 0.04 &  33.33 ± 0.46 &  25.18 ± 0.38 \\\\\n",
      "MAZEF1 &   3.73 ± 0.03 &   3.79 ± 0.01 &   3.69 ± 0.01 &   4.01 ± 0.03 &   3.96 ± 0.03 \\\\\n",
      "MAZEF2 &   5.51 ± 0.03 &   5.42 ± 0.01 &   5.38 ± 0.01 &   6.52 ± 0.07 &   6.20 ± 0.10 \\\\\n",
      "MAZEF3 &   7.36 ± 0.04 &   7.28 ± 0.02 &   7.26 ± 0.01 &  10.40 ± 0.17 &   9.02 ± 0.11 \\\\\n",
      "MAZET2 &   5.74 ± 0.02 &   5.84 ± 0.01 &   5.80 ± 0.01 &   6.88 ± 0.09 &   6.39 ± 0.06 \\\\\n",
      "MAZET3 &   7.71 ± 0.03 &   7.76 ± 0.01 &   7.76 ± 0.01 &   9.30 ± 0.21 &   8.72 ± 0.09 \\\\\n",
      "MAZEX1 &  20.93 ± 0.21 &  18.96 ± 0.18 &  18.61 ± 0.12 &  43.17 ± 0.21 &  39.03 ± 0.43 \\\\\n",
      "MAZEX2 &  22.99 ± 0.23 &  20.65 ± 0.19 &  20.19 ± 0.13 &  43.80 ± 0.15 &  38.49 ± 0.28 \\\\\n",
      "\\bottomrule\n",
      "\\end{tabular}\n",
      "\n"
     ]
    },
    {
     "name": "stderr",
     "output_type": "stream",
     "text": [
      "/var/folders/t9/hk7ywmq13ml9md9rwm0f83dw0000gn/T/ipykernel_25333/3717864682.py:1: FutureWarning: In future versions `DataFrame.to_latex` is expected to utilise the base implementation of `Styler.to_latex` for formatting and rendering. The arguments signature may therefore change. It is recommended instead to use `DataFrame.style.to_latex` which also contains additional functionality.\n",
      "  print(steps_df.to_latex())\n"
     ]
    }
   ],
   "source": [
    "print(steps_df.to_latex())"
   ]
  },
  {
   "cell_type": "markdown",
   "metadata": {
    "collapsed": false,
    "pycharm": {
     "name": "#%% md\n"
    }
   },
   "source": [
    "## Knowledge"
   ]
  },
  {
   "cell_type": "code",
   "execution_count": 15,
   "metadata": {
    "collapsed": false,
    "pycharm": {
     "name": "#%%\n"
    }
   },
   "outputs": [],
   "source": [
    "knowledge_arr = []\n",
    "\n",
    "for env in os.listdir(RESULTS_DIR):\n",
    "    env_metrics = load_data(env, 'knowledge95')\n",
    "    knowledge_arr.append({\n",
    "        'env': env,\n",
    "        'ACS2': fmt_cell(env_metrics['-1'].mu),\n",
    "        'ACS2 ER': fmt_cell(env_metrics['3-ER'].mu),\n",
    "        'ACS2 EER': fmt_cell(env_metrics['3-EER'].mu)\n",
    "    })"
   ]
  },
  {
   "cell_type": "code",
   "execution_count": 17,
   "metadata": {
    "collapsed": false,
    "pycharm": {
     "name": "#%%\n"
    }
   },
   "outputs": [
    {
     "data": {
      "text/html": [
       "<div>\n",
       "<style scoped>\n",
       "    .dataframe tbody tr th:only-of-type {\n",
       "        vertical-align: middle;\n",
       "    }\n",
       "\n",
       "    .dataframe tbody tr th {\n",
       "        vertical-align: top;\n",
       "    }\n",
       "\n",
       "    .dataframe thead th {\n",
       "        text-align: right;\n",
       "    }\n",
       "</style>\n",
       "<table border=\"1\" class=\"dataframe\">\n",
       "  <thead>\n",
       "    <tr style=\"text-align: right;\">\n",
       "      <th></th>\n",
       "      <th>ACS2</th>\n",
       "      <th>ACS2 ER</th>\n",
       "      <th>ACS2 EER</th>\n",
       "    </tr>\n",
       "    <tr>\n",
       "      <th>env</th>\n",
       "      <th></th>\n",
       "      <th></th>\n",
       "      <th></th>\n",
       "    </tr>\n",
       "  </thead>\n",
       "  <tbody>\n",
       "    <tr>\n",
       "      <th>MAZE4</th>\n",
       "      <td>2318.89 ± 79.61</td>\n",
       "      <td>591.45 ± 20.59</td>\n",
       "      <td>324.65 ± 20.50</td>\n",
       "    </tr>\n",
       "    <tr>\n",
       "      <th>MAZE5</th>\n",
       "      <td>3242.57 ± 143.74</td>\n",
       "      <td>631.36 ± 28.46</td>\n",
       "      <td>378.58 ± 17.67</td>\n",
       "    </tr>\n",
       "    <tr>\n",
       "      <th>MAZE7</th>\n",
       "      <td>1881.64 ± 107.13</td>\n",
       "      <td>430.77 ± 29.19</td>\n",
       "      <td>281.59 ± 18.18</td>\n",
       "    </tr>\n",
       "    <tr>\n",
       "      <th>MAZEF1</th>\n",
       "      <td>956.39 ± 56.68</td>\n",
       "      <td>204.22 ± 11.28</td>\n",
       "      <td>64.40 ± 3.11</td>\n",
       "    </tr>\n",
       "    <tr>\n",
       "      <th>MAZEF2</th>\n",
       "      <td>672.61 ± 43.98</td>\n",
       "      <td>126.92 ± 6.82</td>\n",
       "      <td>49.83 ± 1.56</td>\n",
       "    </tr>\n",
       "    <tr>\n",
       "      <th>MAZEF3</th>\n",
       "      <td>468.78 ± 57.97</td>\n",
       "      <td>103.93 ± 6.81</td>\n",
       "      <td>49.97 ± 1.45</td>\n",
       "    </tr>\n",
       "    <tr>\n",
       "      <th>MAZET2</th>\n",
       "      <td>617.33 ± 39.66</td>\n",
       "      <td>158.50 ± 9.47</td>\n",
       "      <td>57.32 ± 2.26</td>\n",
       "    </tr>\n",
       "    <tr>\n",
       "      <th>MAZET3</th>\n",
       "      <td>511.39 ± 43.67</td>\n",
       "      <td>123.31 ± 5.97</td>\n",
       "      <td>59.11 ± 1.95</td>\n",
       "    </tr>\n",
       "    <tr>\n",
       "      <th>MAZEX1</th>\n",
       "      <td>5000.00 ± 0.00</td>\n",
       "      <td>1657.97 ± 67.23</td>\n",
       "      <td>1304.34 ± 42.83</td>\n",
       "    </tr>\n",
       "    <tr>\n",
       "      <th>MAZEX2</th>\n",
       "      <td>5000.00 ± 0.00</td>\n",
       "      <td>1615.04 ± 58.65</td>\n",
       "      <td>1311.21 ± 39.05</td>\n",
       "    </tr>\n",
       "  </tbody>\n",
       "</table>\n",
       "</div>"
      ],
      "text/plain": [
       "                    ACS2          ACS2 ER         ACS2 EER\n",
       "env                                                       \n",
       "MAZE4    2318.89 ± 79.61   591.45 ± 20.59   324.65 ± 20.50\n",
       "MAZE5   3242.57 ± 143.74   631.36 ± 28.46   378.58 ± 17.67\n",
       "MAZE7   1881.64 ± 107.13   430.77 ± 29.19   281.59 ± 18.18\n",
       "MAZEF1    956.39 ± 56.68   204.22 ± 11.28     64.40 ± 3.11\n",
       "MAZEF2    672.61 ± 43.98    126.92 ± 6.82     49.83 ± 1.56\n",
       "MAZEF3    468.78 ± 57.97    103.93 ± 6.81     49.97 ± 1.45\n",
       "MAZET2    617.33 ± 39.66    158.50 ± 9.47     57.32 ± 2.26\n",
       "MAZET3    511.39 ± 43.67    123.31 ± 5.97     59.11 ± 1.95\n",
       "MAZEX1    5000.00 ± 0.00  1657.97 ± 67.23  1304.34 ± 42.83\n",
       "MAZEX2    5000.00 ± 0.00  1615.04 ± 58.65  1311.21 ± 39.05"
      ]
     },
     "execution_count": 17,
     "metadata": {},
     "output_type": "execute_result"
    }
   ],
   "source": [
    "knowledge_df = to_df(knowledge_arr)\n",
    "knowledge_df"
   ]
  },
  {
   "cell_type": "code",
   "execution_count": 19,
   "metadata": {
    "collapsed": false,
    "pycharm": {
     "name": "#%%\n"
    }
   },
   "outputs": [
    {
     "name": "stdout",
     "output_type": "stream",
     "text": [
      "\\begin{tabular}{llll}\n",
      "\\toprule\n",
      "{} &              ACS2 &          ACS2 ER &         ACS2 EER \\\\\n",
      "env    &                   &                  &                  \\\\\n",
      "\\midrule\n",
      "MAZE4  &   2318.89 ± 79.61 &   591.45 ± 20.59 &   324.65 ± 20.50 \\\\\n",
      "MAZE5  &  3242.57 ± 143.74 &   631.36 ± 28.46 &   378.58 ± 17.67 \\\\\n",
      "MAZE7  &  1881.64 ± 107.13 &   430.77 ± 29.19 &   281.59 ± 18.18 \\\\\n",
      "MAZEF1 &    956.39 ± 56.68 &   204.22 ± 11.28 &     64.40 ± 3.11 \\\\\n",
      "MAZEF2 &    672.61 ± 43.98 &    126.92 ± 6.82 &     49.83 ± 1.56 \\\\\n",
      "MAZEF3 &    468.78 ± 57.97 &    103.93 ± 6.81 &     49.97 ± 1.45 \\\\\n",
      "MAZET2 &    617.33 ± 39.66 &    158.50 ± 9.47 &     57.32 ± 2.26 \\\\\n",
      "MAZET3 &    511.39 ± 43.67 &    123.31 ± 5.97 &     59.11 ± 1.95 \\\\\n",
      "MAZEX1 &    5000.00 ± 0.00 &  1657.97 ± 67.23 &  1304.34 ± 42.83 \\\\\n",
      "MAZEX2 &    5000.00 ± 0.00 &  1615.04 ± 58.65 &  1311.21 ± 39.05 \\\\\n",
      "\\bottomrule\n",
      "\\end{tabular}\n",
      "\n"
     ]
    },
    {
     "name": "stderr",
     "output_type": "stream",
     "text": [
      "/var/folders/t9/hk7ywmq13ml9md9rwm0f83dw0000gn/T/ipykernel_25333/1574223873.py:1: FutureWarning: In future versions `DataFrame.to_latex` is expected to utilise the base implementation of `Styler.to_latex` for formatting and rendering. The arguments signature may therefore change. It is recommended instead to use `DataFrame.style.to_latex` which also contains additional functionality.\n",
      "  print(knowledge_df.to_latex())\n"
     ]
    }
   ],
   "source": [
    "print(knowledge_df.to_latex())"
   ]
  }
 ],
 "metadata": {
  "kernelspec": {
   "display_name": "Python 3",
   "language": "python",
   "name": "python3"
  },
  "language_info": {
   "codemirror_mode": {
    "name": "ipython",
    "version": 2
   },
   "file_extension": ".py",
   "mimetype": "text/x-python",
   "name": "python",
   "nbconvert_exporter": "python",
   "pygments_lexer": "ipython2",
   "version": "2.7.6"
  }
 },
 "nbformat": 4,
 "nbformat_minor": 0
}
