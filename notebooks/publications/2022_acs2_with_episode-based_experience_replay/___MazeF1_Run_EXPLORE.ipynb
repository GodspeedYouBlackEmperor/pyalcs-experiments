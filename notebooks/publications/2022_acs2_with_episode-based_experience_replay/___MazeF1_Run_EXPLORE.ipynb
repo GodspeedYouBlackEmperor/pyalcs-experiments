{
 "cells": [
  {
   "cell_type": "code",
   "execution_count": 1,
   "metadata": {},
   "outputs": [],
   "source": [
    "import os\n",
    "from collections import defaultdict\n",
    "from utils.run_utils import Runner\n",
    "\n",
    "import gym\n",
    "import gym_maze\n",
    "\n",
    "from lcs.agents import Agent\n",
    "from lcs.agents.acs2 import ACS2, Configuration as CFG_ACS2, ClassifiersList\n",
    "from lcs.agents.acs2er import ACS2ER, Configuration as CFG_ACS2ER, ReplayMemory, ReplayMemorySample\n",
    "from lcs.agents.acs2eer import ACS2EER, Configuration as CFG_ACS2EER, TrialReplayMemory\n",
    "from lcs.metrics import population_metrics\n",
    "\n",
    "# Logger\n",
    "import logging\n",
    "logging.basicConfig(level=logging.INFO)\n"
   ]
  },
  {
   "cell_type": "markdown",
   "metadata": {},
   "source": [
    "# EXPERIMENT CONFIGURATION"
   ]
  },
  {
   "cell_type": "code",
   "execution_count": 2,
   "metadata": {},
   "outputs": [],
   "source": [
    "MAZE = \"MazeF1-v0\" \n",
    "EXPLORE_TRIALS = 5000\n",
    "EXPLOIT_TRIALS = 1000\n",
    "\n",
    "# The size of ER replay memory buffer\n",
    "ER_BUFFER_SIZE = 10000\n",
    "# The minimum number of samples of ER replay memory buffer to start replying samples (warm-up phase)\n",
    "ER_BUFFER_MIN_SAMPLES = 1000\n",
    "# The number of samples to be replayed druing ER phase\n",
    "ER_SAMPLES_NUMBER_LIST = [3]\n",
    "\n",
    "EER_BUFFER_SIZE = 1000\n",
    "EER_BUFFER_MIN_SAMPLES = 25\n",
    "\n",
    "\n",
    "#######\n",
    "\n",
    "REPEAT_START = 1\n",
    "REPEAT = 1\n",
    "\n",
    "EXPERIMENT_NAME = \"MAZE_F1_EXP_1\" # Please edit if running new experiment to do not override saved results.\n"
   ]
  },
  {
   "cell_type": "code",
   "execution_count": 3,
   "metadata": {},
   "outputs": [],
   "source": [
    "runner = Runner('MAZE', EXPERIMENT_NAME, MAZE)"
   ]
  },
  {
   "cell_type": "markdown",
   "metadata": {},
   "source": [
    "## METRICS"
   ]
  },
  {
   "cell_type": "code",
   "execution_count": 4,
   "metadata": {},
   "outputs": [],
   "source": [
    "MAZE_PATH = 0\n",
    "MAZE_REWARD = 9\n",
    "\n",
    "optimal_paths_env = gym.make(MAZE)\n",
    "matrix = optimal_paths_env.matrix\n",
    "X = matrix.shape[1]\n",
    "Y = matrix.shape[0]\n",
    "\n",
    "def get_reward_pos():\n",
    "    for i in range(Y):\n",
    "        for j in range(X):\n",
    "            if(matrix[i, j] == MAZE_REWARD):\n",
    "                return(i, j)\n",
    "\n",
    "def get_possible_neighbour_cords(pos_y, pos_x):\n",
    "    n = ((pos_y - 1, pos_x), 4)\n",
    "    ne = ((pos_y - 1, pos_x + 1), 5)\n",
    "    e = ((pos_y, pos_x + 1), 6)\n",
    "    se = ((pos_y + 1, pos_x + 1), 7)\n",
    "    s = ((pos_y + 1, pos_x), 0)\n",
    "    sw = ((pos_y + 1, pos_x - 1), 1)\n",
    "    w = ((pos_y, pos_x - 1), 2)\n",
    "    nw = ((pos_y - 1, pos_x - 1), 3)\n",
    "\n",
    "    return [n, ne, e, se, s, sw, w, nw]\n",
    "\n",
    "    \n",
    "optimal_actions = []\n",
    "\n",
    "root_node = get_reward_pos()\n",
    "\n",
    "def is_included(cords, level):\n",
    "    return any(op_cords[0] == cords[0] and op_cords[1] == cords[1] and level != op_level for op_cords, _, op_level in optimal_actions)\n",
    "\n",
    "\n",
    "def get_optimal_actions_to(node, level):\n",
    "    neighbour_cords = get_possible_neighbour_cords(node[0], node[1])\n",
    "\n",
    "    next_level_cords = []\n",
    "    for (pos_y, pos_x), action in neighbour_cords:\n",
    "        if (not is_included((pos_y, pos_x), level)) and matrix[pos_y, pos_x] == MAZE_PATH:\n",
    "            optimal_actions.append(((pos_y, pos_x), action, level))\n",
    "            next_level_cords.append((pos_y, pos_x))\n",
    "\n",
    "    return next_level_cords\n",
    "\n",
    "LEVEL = 0\n",
    "next_level_cords = get_optimal_actions_to(root_node, LEVEL)\n",
    "\n",
    "while len(next_level_cords) > 0:\n",
    "    LEVEL += 1\n",
    "    new_next_level_cords = []\n",
    "    for nlc in next_level_cords:\n",
    "        new_next_level_cords += get_optimal_actions_to(nlc, LEVEL)\n",
    "\n",
    "    next_level_cords = new_next_level_cords\n",
    "\n",
    "positions_actions = defaultdict(set)\n",
    "for cords, a, _ in optimal_actions: positions_actions[cords].add(a)\n",
    "\n",
    "positions_actions = positions_actions.items()\n",
    "POSITIONS_OPTIMAL_ACTIONS = list(map(lambda pa: (optimal_paths_env.env.maze.perception(pa[0]), list(pa[1])), positions_actions))\n",
    "POSITIONS_OPTIMAL_ACTIONS_LENGTH = len(POSITIONS_OPTIMAL_ACTIONS)\n",
    "\n",
    "\n",
    "\n",
    "def _maze_optimal(classifiers) -> float:\n",
    "    nr_correct = 0\n",
    "\n",
    "    for p0, optimal_actions_list in POSITIONS_OPTIMAL_ACTIONS:\n",
    "        match_set = classifiers.form_match_set(p0)\n",
    "        cl = match_set.get_best_classifier()\n",
    "\n",
    "        if cl is not None and optimal_actions_list.count(cl.action) > 0:\n",
    "            nr_correct += 1\n",
    "\n",
    "    return nr_correct / POSITIONS_OPTIMAL_ACTIONS_LENGTH * 100.0\n",
    "\n",
    "\n",
    "def _maze_optimal_reliable(classifiers) -> float:\n",
    "    return _maze_optimal(ClassifiersList(*[c for c in classifiers if c.is_reliable()]))\n"
   ]
  },
  {
   "cell_type": "code",
   "execution_count": 5,
   "metadata": {},
   "outputs": [],
   "source": [
    "def _get_transitions():\n",
    "    knowledge_env = gym.make(MAZE)\n",
    "    transitions = knowledge_env.env.get_transitions()\n",
    "    transitions = list(map(lambda t: [knowledge_env.env.maze.perception(t[0]), t[1], knowledge_env.env.maze.perception(t[2])], transitions))\n",
    "\n",
    "    return transitions\n",
    "\n",
    "TRANSITIONS = _get_transitions()\n",
    "TRANSITIONS_LENGTH = len(TRANSITIONS)\n",
    "\n",
    "def _maze_knowledge(population) -> float:\n",
    "    # Take into consideration only reliable classifiers\n",
    "    reliable_classifiers = [c for c in population if c.is_reliable()]\n",
    "\n",
    "    # Count how many transitions are anticipated correctly\n",
    "    nr_correct = 0\n",
    "\n",
    "    # For all possible destinations from each path cell\n",
    "    for p0, action, p1 in TRANSITIONS:\n",
    "        if any([True for cl in reliable_classifiers\n",
    "                if cl.predicts_successfully(p0, action, p1)]):\n",
    "            nr_correct += 1\n",
    "\n",
    "    return nr_correct / TRANSITIONS_LENGTH * 100.0\n",
    "\n",
    "def _maze_specificity(population) -> float:\n",
    "    pop_len = len(population)\n",
    "    if(pop_len) == 0:\n",
    "        return 0\n",
    "    return sum(map(lambda c: c.specificity, population)) / pop_len\n",
    "\n",
    "def _maze_metrics(agent, env):\n",
    "    pop = agent.population\n",
    "    metrics = {\n",
    "        'knowledge': _maze_knowledge(pop),\n",
    "        \"specificity\": _maze_specificity(agent.population),\n",
    "        \"optimal\": _maze_optimal(agent.population),\n",
    "        \"optimal_reliable\": _maze_optimal_reliable(agent.population)\n",
    "    }\n",
    "    metrics.update(population_metrics(pop, env))\n",
    "    \n",
    "    return metrics"
   ]
  },
  {
   "cell_type": "markdown",
   "metadata": {},
   "source": [
    "## EXPERIMENT"
   ]
  },
  {
   "cell_type": "code",
   "execution_count": 6,
   "metadata": {},
   "outputs": [],
   "source": [
    "def _run_experiment(agent, path):\n",
    "    runner.run_experiment(agent, gym.make(MAZE), EXPLORE_TRIALS, EXPLOIT_TRIALS, path)\n",
    "\n",
    "def run_acs2_experiment():\n",
    "    for i in range(REPEAT_START, REPEAT_START + REPEAT):\n",
    "        # Create agent \n",
    "        cfg = CFG_ACS2(    \n",
    "            classifier_length=8,\n",
    "            number_of_possible_actions=8,\n",
    "            metrics_trial_frequency=1,\n",
    "            user_metrics_collector_fcn=_maze_metrics)\n",
    "        agent = ACS2(cfg)\n",
    "\n",
    "        _run_experiment(agent, f'{i}')\n",
    "\n",
    "def _run_acs2er_experiment(er_samples_number: int):\n",
    "    for i in range(REPEAT_START, REPEAT_START + REPEAT):\n",
    "        # Create agent \n",
    "        cfg = CFG_ACS2ER(    \n",
    "            classifier_length=8,\n",
    "            number_of_possible_actions=8,\n",
    "            metrics_trial_frequency=1,\n",
    "            er_buffer_size=ER_BUFFER_SIZE,\n",
    "            er_min_samples=ER_BUFFER_MIN_SAMPLES,\n",
    "            er_samples_number=er_samples_number,\n",
    "            user_metrics_collector_fcn=_maze_metrics)\n",
    "        agent = ACS2ER(cfg)\n",
    "\n",
    "        _run_experiment(agent, os.path.join(f'm_3-ER', f'{i}'))\n",
    "\n",
    "def run_acs2er_experiments():\n",
    "    for er_samples_number in ER_SAMPLES_NUMBER_LIST:\n",
    "        print(f\"START - ACS2ER - {er_samples_number}\")\n",
    "        _run_acs2er_experiment(er_samples_number)\n",
    "        print(f\"END - ACS2ER - {er_samples_number}\")\n",
    "\n",
    "\n",
    "def _run_acs2eer_experiment(er_samples_number: int):\n",
    "    for i in range(REPEAT_START, REPEAT_START + REPEAT):\n",
    "        # Create agent \n",
    "        cfg = CFG_ACS2EER(           \n",
    "            classifier_length=8,\n",
    "            number_of_possible_actions=8,\n",
    "            metrics_trial_frequency=1,\n",
    "            er_buffer_size=EER_BUFFER_SIZE,\n",
    "            er_min_samples=int(EER_BUFFER_MIN_SAMPLES),\n",
    "            er_samples_number=er_samples_number,\n",
    "            user_metrics_collector_fcn=_maze_metrics)\n",
    "        agent = ACS2EER(cfg)\n",
    "\n",
    "        _run_experiment(agent, os.path.join(f'm_3-EER', f'{i}'))\n",
    "\n",
    "def run_acs2eer_experiments():\n",
    "    for er_samples_number in ER_SAMPLES_NUMBER_LIST:\n",
    "        print(f\"START - ACS2EER - {er_samples_number}\")\n",
    "        _run_acs2eer_experiment(er_samples_number)\n",
    "        print(f\"END - ACS2EER - {er_samples_number}\")"
   ]
  },
  {
   "cell_type": "markdown",
   "metadata": {},
   "source": [
    "### RUN ACS2 Experiments"
   ]
  },
  {
   "cell_type": "code",
   "execution_count": null,
   "metadata": {},
   "outputs": [],
   "source": [
    "run_acs2_experiment()"
   ]
  },
  {
   "cell_type": "markdown",
   "metadata": {},
   "source": [
    "### RUN ACS2ER Experiments"
   ]
  },
  {
   "cell_type": "code",
   "execution_count": null,
   "metadata": {},
   "outputs": [],
   "source": [
    "run_acs2er_experiments()"
   ]
  },
  {
   "cell_type": "code",
   "execution_count": null,
   "metadata": {},
   "outputs": [],
   "source": [
    "run_acs2eer_experiments()"
   ]
  }
 ],
 "metadata": {
  "interpreter": {
   "hash": "ec208294d083f15f7ed14d725810d00783612c76b14ab5c82bea0e3fdbc09b32"
  },
  "kernelspec": {
   "display_name": "Python 3.7.12",
   "language": "python",
   "name": "python3"
  },
  "language_info": {
   "codemirror_mode": {
    "name": "ipython",
    "version": 3
   },
   "file_extension": ".py",
   "mimetype": "text/x-python",
   "name": "python",
   "nbconvert_exporter": "python",
   "pygments_lexer": "ipython3",
   "version": "3.7.12"
  }
 },
 "nbformat": 4,
 "nbformat_minor": 4
}
