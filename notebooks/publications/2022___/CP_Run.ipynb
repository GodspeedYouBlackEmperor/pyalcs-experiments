{
 "cells": [
  {
   "cell_type": "code",
   "execution_count": 1,
   "metadata": {},
   "outputs": [
    {
     "name": "stderr",
     "output_type": "stream",
     "text": [
      "e:\\_ZSSE\\other\\conda\\envs\\pyalcs-experiments-per\\lib\\site-packages\\bitstring-3.1.7-py3.7.egg\\bitstring.py:36: DeprecationWarning: invalid escape sequence \\ \n"
     ]
    }
   ],
   "source": [
    "import os\n",
    "import itertools\n",
    "import numpy as np\n",
    "from utils.run_utils import Runner\n",
    "\n",
    "import gym\n",
    "import gym_multiplexer\n",
    "\n",
    "from lcs import Perception\n",
    "from lcs.agents.racs import RACS, Configuration as CFG_RACS\n",
    "from lcs.agents.racser import RACSER, Configuration as CFG_RACSER\n",
    "from lcs.representations.RealValueEncoder import RealValueEncoder\n",
    "from lcs.metrics import population_metrics\n",
    "\n",
    "# Logger\n",
    "import logging\n",
    "logging.basicConfig(level=logging.INFO)\n"
   ]
  },
  {
   "cell_type": "markdown",
   "metadata": {},
   "source": [
    "# EXPERIMENT CONFIGURATION"
   ]
  },
  {
   "cell_type": "code",
   "execution_count": 2,
   "metadata": {},
   "outputs": [],
   "source": [
    "CP = 'CartPole-v0'\n",
    "EXPLORE_TRIALS = 200\n",
    "EXPLOIT_TRIALS = 100\n",
    "METRICS_FREQUENCY = 1\n",
    "\n",
    "# The size of ER replay memory buffer\n",
    "ER_BUFFER_SIZE = 10000\n",
    "# The minimum number of samples of ER replay memory buffer to start replying samples (warm-up phase)\n",
    "ER_BUFFER_MIN_SAMPLES = 1000\n",
    "# The number of samples to be replayed druing ER phase\n",
    "ER_SAMPLES_NUMBER_LIST = [3]\n",
    "\n",
    "\n",
    "\n",
    "#######\n",
    "\n",
    "REPEAT_START = 1\n",
    "REPEAT = 1\n",
    "\n",
    "EXPERIMENT_NAME = \"CP_TEST5\" # Please edit if running new experiment to do not override saved results."
   ]
  },
  {
   "cell_type": "code",
   "execution_count": 3,
   "metadata": {},
   "outputs": [],
   "source": [
    "runner = Runner('CP', EXPERIMENT_NAME, CP)"
   ]
  },
  {
   "cell_type": "markdown",
   "metadata": {},
   "source": [
    "## METRICS"
   ]
  },
  {
   "cell_type": "code",
   "execution_count": 4,
   "metadata": {},
   "outputs": [
    {
     "name": "stderr",
     "output_type": "stream",
     "text": [
      "e:\\_ZSSE\\other\\conda\\envs\\pyalcs-experiments-per\\lib\\site-packages\\gym\\envs\\registration.py:506: UserWarning: \u001b[33mWARN: The environment CartPole-v0 is out of date. You should consider upgrading to version `v1` with the environment ID `CartPole-v1`.\u001b[0m\n",
      "  f\"The environment {path} is out of date. You should consider \"\n"
     ]
    },
    {
     "name": "stdout",
     "output_type": "stream",
     "text": [
      "[2.10836363 2.71976781 0.2704449  3.46813893]\n",
      "[-2.20633292 -3.20225215 -0.26554677 -3.5714047 ]\n"
     ]
    }
   ],
   "source": [
    "\"\"\"    \n",
    "    | Num | Observation           | Min                  | Max                |\n",
    "    |-----|-----------------------|----------------------|--------------------|\n",
    "    | 0   | Cart Position         | -4.8                 | 4.8                |\n",
    "    | 1   | Cart Velocity         | -Inf                 | Inf                |\n",
    "    | 2   | Pole Angle            | ~ -0.418 rad (-24°)  | ~ 0.418 rad (24°)  |\n",
    "    | 3   | Pole Angular Velocity | -Inf                 | Inf                |\n",
    "\"\"\"\n",
    "\n",
    "norm_env = gym.make(CP)\n",
    "steps = 20000\n",
    "\n",
    "obs_arr = np.zeros((steps, 4))\n",
    "\n",
    "for i in range(steps):\n",
    "    norm_env.reset()\n",
    "    done = False\n",
    "    while not done:\n",
    "        obs, reward, done, _ = norm_env.step(norm_env.action_space.sample())\n",
    "        obs_arr[i, :] = obs\n",
    "\n",
    "norm_env.close()\n",
    "\n",
    "high = obs_arr.max(axis=0)\n",
    "low = obs_arr.min(axis=0)\n",
    "\n",
    "print(high)\n",
    "print(low)\n",
    "\n",
    "\n",
    "class CartPoleObservationWrapper(gym.ObservationWrapper):\n",
    "    def __init__(self, env, low, high):\n",
    "        super().__init__(env)\n",
    "        self.low = low\n",
    "        self.high = high\n",
    "\n",
    "    def observation(self, observation):\n",
    "        new_obs = []\n",
    "\n",
    "        for i, v in enumerate(observation):\n",
    "            new_value = (v - self.low[i]) / (self.high[i] - self.low[i])\n",
    "            new_obs.append(max(0, min(1, new_value)))\n",
    "\n",
    "        return new_obs\n",
    "        \n",
    "\n",
    "def cp_metrics(agent, env):\n",
    "    metrics = {\n",
    "    }\n",
    "    metrics.update(population_metrics(agent.population, env))\n",
    "\n",
    "    # x = list(agent.population)\n",
    "    return metrics\n"
   ]
  },
  {
   "cell_type": "markdown",
   "metadata": {},
   "source": [
    "## EXPERIMENT"
   ]
  },
  {
   "cell_type": "code",
   "execution_count": 5,
   "metadata": {},
   "outputs": [],
   "source": [
    "def _run_experiment(agent, path):\n",
    "    runner.run_experiment(agent, CartPoleObservationWrapper(gym.make(CP), low, high), EXPLORE_TRIALS, EXPLOIT_TRIALS, path)\n",
    "    \n",
    "def run_racs_experiment():\n",
    "    for i in range(REPEAT_START, REPEAT_START + REPEAT):\n",
    "        # Create agent \n",
    "        cfg = CFG_RACS(\n",
    "            encoder=RealValueEncoder(3),\n",
    "            classifier_length=4,\n",
    "            number_of_possible_actions=2,\n",
    "            do_ga=False,\n",
    "            metrics_trial_frequency=METRICS_FREQUENCY,\n",
    "            user_metrics_collector_fcn=cp_metrics)\n",
    "        agent = RACS(cfg)\n",
    "\n",
    "        _run_experiment(agent, f'{i}')\n",
    "\n",
    "def _run_racser_experiment(er_samples_number: int):\n",
    "    for i in range(REPEAT_START, REPEAT_START + REPEAT):\n",
    "        # Create agent \n",
    "        cfg = CFG_RACSER(    \n",
    "            encoder=RealValueEncoder(3),\n",
    "            classifier_length=4,\n",
    "            number_of_possible_actions=2,\n",
    "            do_ga=False,\n",
    "            metrics_trial_frequency=METRICS_FREQUENCY,\n",
    "            er_buffer_size=ER_BUFFER_SIZE,\n",
    "            er_min_samples=ER_BUFFER_MIN_SAMPLES,\n",
    "            er_samples_number=er_samples_number,\n",
    "            user_metrics_collector_fcn=cp_metrics)\n",
    "        agent = RACSER(cfg)\n",
    "\n",
    "        _run_experiment(agent, os.path.join(f'm_{er_samples_number}', f'{i}'))\n",
    "\n",
    "def run_racser_experiments():\n",
    "    for er_samples_number in ER_SAMPLES_NUMBER_LIST:\n",
    "        print(f\"START - ACS2ER - {er_samples_number}\")\n",
    "        _run_racser_experiment(er_samples_number)\n",
    "        print(f\"END - ACS2ER - {er_samples_number}\")"
   ]
  },
  {
   "cell_type": "markdown",
   "metadata": {},
   "source": [
    "### RUN ACS2 Experiments"
   ]
  },
  {
   "cell_type": "code",
   "execution_count": 6,
   "metadata": {},
   "outputs": [
    {
     "name": "stderr",
     "output_type": "stream",
     "text": [
      "INFO:lcs.agents.Agent:{'trial': 20, 'steps_in_trial': 21, 'reward': 1.0, 'perf_time': 1.637636299999997, 'population': 622, 'numerosity': 622, 'reliable': 0}\n",
      "INFO:lcs.agents.Agent:{'trial': 40, 'steps_in_trial': 12, 'reward': 1.0, 'perf_time': 1.6585140000000038, 'population': 1156, 'numerosity': 1156, 'reliable': 3}\n",
      "INFO:lcs.agents.Agent:{'trial': 60, 'steps_in_trial': 15, 'reward': 1.0, 'perf_time': 2.8204795999999988, 'population': 1999, 'numerosity': 1999, 'reliable': 5}\n",
      "INFO:lcs.agents.Agent:{'trial': 80, 'steps_in_trial': 26, 'reward': 1.0, 'perf_time': 5.176598100000007, 'population': 2368, 'numerosity': 2368, 'reliable': 7}\n",
      "INFO:lcs.agents.Agent:{'trial': 100, 'steps_in_trial': 18, 'reward': 1.0, 'perf_time': 4.3749275000000125, 'population': 2886, 'numerosity': 2886, 'reliable': 11}\n",
      "INFO:lcs.agents.Agent:{'trial': 120, 'steps_in_trial': 14, 'reward': 1.0, 'perf_time': 3.832345500000031, 'population': 3331, 'numerosity': 3331, 'reliable': 10}\n",
      "INFO:lcs.agents.Agent:{'trial': 140, 'steps_in_trial': 25, 'reward': 1.0, 'perf_time': 7.259982799999989, 'population': 3747, 'numerosity': 3747, 'reliable': 11}\n",
      "INFO:lcs.agents.Agent:{'trial': 160, 'steps_in_trial': 9, 'reward': 1.0, 'perf_time': 3.018585900000062, 'population': 4106, 'numerosity': 4106, 'reliable': 12}\n",
      "INFO:lcs.agents.Agent:{'trial': 180, 'steps_in_trial': 20, 'reward': 1.0, 'perf_time': 6.121688500000005, 'population': 4176, 'numerosity': 4176, 'reliable': 13}\n",
      "INFO:lcs.agents.Agent:{'trial': 200, 'steps_in_trial': 44, 'reward': 1.0, 'perf_time': 13.775745800000095, 'population': 4590, 'numerosity': 4590, 'reliable': 16}\n",
      "INFO:lcs.agents.Agent:{'trial': 10, 'steps_in_trial': 27, 'reward': 1.0, 'perf_time': 7.506735200000094, 'population': 4590, 'numerosity': 4590, 'reliable': 16}\n",
      "INFO:lcs.agents.Agent:{'trial': 20, 'steps_in_trial': 32, 'reward': 1.0, 'perf_time': 8.701128400000016, 'population': 4590, 'numerosity': 4590, 'reliable': 16}\n",
      "INFO:lcs.agents.Agent:{'trial': 30, 'steps_in_trial': 31, 'reward': 1.0, 'perf_time': 8.46261480000021, 'population': 4590, 'numerosity': 4590, 'reliable': 16}\n",
      "INFO:lcs.agents.Agent:{'trial': 40, 'steps_in_trial': 29, 'reward': 1.0, 'perf_time': 8.458907599999975, 'population': 4590, 'numerosity': 4590, 'reliable': 16}\n",
      "INFO:lcs.agents.Agent:{'trial': 50, 'steps_in_trial': 13, 'reward': 1.0, 'perf_time': 3.7096171999999115, 'population': 4590, 'numerosity': 4590, 'reliable': 16}\n",
      "INFO:lcs.agents.Agent:{'trial': 60, 'steps_in_trial': 18, 'reward': 1.0, 'perf_time': 5.35051610000005, 'population': 4590, 'numerosity': 4590, 'reliable': 16}\n",
      "INFO:lcs.agents.Agent:{'trial': 70, 'steps_in_trial': 15, 'reward': 1.0, 'perf_time': 4.233846699999958, 'population': 4590, 'numerosity': 4590, 'reliable': 16}\n",
      "INFO:lcs.agents.Agent:{'trial': 80, 'steps_in_trial': 14, 'reward': 1.0, 'perf_time': 3.9510028000001967, 'population': 4590, 'numerosity': 4590, 'reliable': 16}\n",
      "INFO:lcs.agents.Agent:{'trial': 90, 'steps_in_trial': 14, 'reward': 1.0, 'perf_time': 3.8552941999998893, 'population': 4590, 'numerosity': 4590, 'reliable': 16}\n",
      "INFO:lcs.agents.Agent:{'trial': 100, 'steps_in_trial': 32, 'reward': 1.0, 'perf_time': 8.753605799999832, 'population': 4590, 'numerosity': 4590, 'reliable': 16}\n"
     ]
    }
   ],
   "source": [
    "run_racs_experiment()"
   ]
  },
  {
   "cell_type": "markdown",
   "metadata": {},
   "source": [
    "### RUN ACS2ER Experiments"
   ]
  },
  {
   "cell_type": "code",
   "execution_count": 7,
   "metadata": {},
   "outputs": [
    {
     "name": "stderr",
     "output_type": "stream",
     "text": [
      "INFO:lcs.agents.Agent:{'trial': 20, 'steps_in_trial': 28, 'reward': 1.0, 'perf_time': 0.002755499999921085, 'population': 0, 'numerosity': 0, 'reliable': 0}\n",
      "INFO:lcs.agents.Agent:{'trial': 40, 'steps_in_trial': 12, 'reward': 1.0, 'perf_time': 0.0008466000001590146, 'population': 0, 'numerosity': 0, 'reliable': 0}\n"
     ]
    },
    {
     "name": "stdout",
     "output_type": "stream",
     "text": [
      "START - ACS2ER - 3\n"
     ]
    },
    {
     "name": "stderr",
     "output_type": "stream",
     "text": [
      "INFO:lcs.agents.Agent:{'trial': 60, 'steps_in_trial': 33, 'reward': 1.0, 'perf_time': 13.630840299999818, 'population': 793, 'numerosity': 793, 'reliable': 0}\n",
      "INFO:lcs.agents.Agent:{'trial': 80, 'steps_in_trial': 16, 'reward': 1.0, 'perf_time': 18.571592899999814, 'population': 2245, 'numerosity': 2245, 'reliable': 4}\n",
      "INFO:lcs.agents.Agent:{'trial': 100, 'steps_in_trial': 19, 'reward': 1.0, 'perf_time': 31.553978200000074, 'population': 3475, 'numerosity': 3475, 'reliable': 12}\n",
      "INFO:lcs.agents.Agent:{'trial': 120, 'steps_in_trial': 19, 'reward': 1.0, 'perf_time': 39.94625790000009, 'population': 4698, 'numerosity': 4698, 'reliable': 20}\n",
      "INFO:lcs.agents.Agent:{'trial': 140, 'steps_in_trial': 24, 'reward': 1.0, 'perf_time': 57.799874600000294, 'population': 5411, 'numerosity': 5411, 'reliable': 26}\n",
      "INFO:lcs.agents.Agent:{'trial': 160, 'steps_in_trial': 12, 'reward': 1.0, 'perf_time': 29.693351100000655, 'population': 5724, 'numerosity': 5724, 'reliable': 27}\n",
      "INFO:lcs.agents.Agent:{'trial': 180, 'steps_in_trial': 11, 'reward': 1.0, 'perf_time': 30.645732799999678, 'population': 6562, 'numerosity': 6562, 'reliable': 26}\n",
      "INFO:lcs.agents.Agent:{'trial': 200, 'steps_in_trial': 28, 'reward': 1.0, 'perf_time': 82.12804270000015, 'population': 6913, 'numerosity': 6913, 'reliable': 21}\n",
      "INFO:lcs.agents.Agent:{'trial': 10, 'steps_in_trial': 83, 'reward': 1.0, 'perf_time': 32.87284750000072, 'population': 6913, 'numerosity': 6913, 'reliable': 21}\n",
      "INFO:lcs.agents.Agent:{'trial': 20, 'steps_in_trial': 67, 'reward': 1.0, 'perf_time': 26.5010639000011, 'population': 6913, 'numerosity': 6913, 'reliable': 21}\n",
      "INFO:lcs.agents.Agent:{'trial': 30, 'steps_in_trial': 73, 'reward': 1.0, 'perf_time': 28.61002439999902, 'population': 6913, 'numerosity': 6913, 'reliable': 21}\n",
      "INFO:lcs.agents.Agent:{'trial': 40, 'steps_in_trial': 64, 'reward': 1.0, 'perf_time': 27.279124000000593, 'population': 6913, 'numerosity': 6913, 'reliable': 21}\n",
      "INFO:lcs.agents.Agent:{'trial': 50, 'steps_in_trial': 60, 'reward': 1.0, 'perf_time': 23.452001600000585, 'population': 6913, 'numerosity': 6913, 'reliable': 21}\n",
      "INFO:lcs.agents.Agent:{'trial': 60, 'steps_in_trial': 47, 'reward': 1.0, 'perf_time': 19.1539789999988, 'population': 6913, 'numerosity': 6913, 'reliable': 21}\n",
      "INFO:lcs.agents.Agent:{'trial': 70, 'steps_in_trial': 84, 'reward': 1.0, 'perf_time': 33.19182330000149, 'population': 6913, 'numerosity': 6913, 'reliable': 21}\n",
      "INFO:lcs.agents.Agent:{'trial': 80, 'steps_in_trial': 79, 'reward': 1.0, 'perf_time': 31.228874200000064, 'population': 6913, 'numerosity': 6913, 'reliable': 21}\n",
      "INFO:lcs.agents.Agent:{'trial': 90, 'steps_in_trial': 60, 'reward': 1.0, 'perf_time': 23.413141000000905, 'population': 6913, 'numerosity': 6913, 'reliable': 21}\n",
      "INFO:lcs.agents.Agent:{'trial': 100, 'steps_in_trial': 118, 'reward': 1.0, 'perf_time': 46.42746509999961, 'population': 6913, 'numerosity': 6913, 'reliable': 21}\n"
     ]
    },
    {
     "name": "stdout",
     "output_type": "stream",
     "text": [
      "END - ACS2ER - 3\n"
     ]
    }
   ],
   "source": [
    "run_racser_experiments()"
   ]
  }
 ],
 "metadata": {
  "interpreter": {
   "hash": "ec208294d083f15f7ed14d725810d00783612c76b14ab5c82bea0e3fdbc09b32"
  },
  "kernelspec": {
   "display_name": "Python 3.7.12",
   "language": "python",
   "name": "python3"
  },
  "language_info": {
   "codemirror_mode": {
    "name": "ipython",
    "version": 3
   },
   "file_extension": ".py",
   "mimetype": "text/x-python",
   "name": "python",
   "nbconvert_exporter": "python",
   "pygments_lexer": "ipython3",
   "version": "3.7.12"
  }
 },
 "nbformat": 4,
 "nbformat_minor": 4
}
