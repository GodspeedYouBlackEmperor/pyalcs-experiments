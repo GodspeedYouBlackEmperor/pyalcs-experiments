{
 "cells": [
  {
   "cell_type": "code",
   "execution_count": 1,
   "metadata": {},
   "outputs": [
    {
     "name": "stderr",
     "output_type": "stream",
     "text": [
      "e:\\_ZSSE\\other\\conda\\envs\\pyalcs-experiments-per\\lib\\site-packages\\flatbuffers\\compat.py:19: DeprecationWarning: the imp module is deprecated in favour of importlib; see the module's documentation for alternative uses\n",
      "  import imp\n",
      "e:\\_ZSSE\\other\\conda\\envs\\pyalcs-experiments-per\\lib\\site-packages\\keras\\utils\\image_utils.py:36: DeprecationWarning: NEAREST is deprecated and will be removed in Pillow 10 (2023-07-01). Use Resampling.NEAREST or Dither.NONE instead.\n",
      "  'nearest': pil_image.NEAREST,\n",
      "e:\\_ZSSE\\other\\conda\\envs\\pyalcs-experiments-per\\lib\\site-packages\\keras\\utils\\image_utils.py:37: DeprecationWarning: BILINEAR is deprecated and will be removed in Pillow 10 (2023-07-01). Use Resampling.BILINEAR instead.\n",
      "  'bilinear': pil_image.BILINEAR,\n",
      "e:\\_ZSSE\\other\\conda\\envs\\pyalcs-experiments-per\\lib\\site-packages\\keras\\utils\\image_utils.py:38: DeprecationWarning: BICUBIC is deprecated and will be removed in Pillow 10 (2023-07-01). Use Resampling.BICUBIC instead.\n",
      "  'bicubic': pil_image.BICUBIC,\n",
      "e:\\_ZSSE\\other\\conda\\envs\\pyalcs-experiments-per\\lib\\site-packages\\keras\\utils\\image_utils.py:39: DeprecationWarning: HAMMING is deprecated and will be removed in Pillow 10 (2023-07-01). Use Resampling.HAMMING instead.\n",
      "  'hamming': pil_image.HAMMING,\n",
      "e:\\_ZSSE\\other\\conda\\envs\\pyalcs-experiments-per\\lib\\site-packages\\keras\\utils\\image_utils.py:40: DeprecationWarning: BOX is deprecated and will be removed in Pillow 10 (2023-07-01). Use Resampling.BOX instead.\n",
      "  'box': pil_image.BOX,\n",
      "e:\\_ZSSE\\other\\conda\\envs\\pyalcs-experiments-per\\lib\\site-packages\\keras\\utils\\image_utils.py:41: DeprecationWarning: LANCZOS is deprecated and will be removed in Pillow 10 (2023-07-01). Use Resampling.LANCZOS instead.\n",
      "  'lanczos': pil_image.LANCZOS,\n"
     ]
    }
   ],
   "source": [
    "import os\n",
    "from collections import defaultdict\n",
    "from utils.run_utils import Runner\n",
    "\n",
    "import gym\n",
    "import gym_maze\n",
    "\n",
    "\n",
    "from lcs.agents import Agent\n",
    "from lcs.agents.dqn import DQN, Network, Configuration as CFG_DQN\n",
    "\n",
    "# Logger\n",
    "import logging\n",
    "logging.basicConfig(level=logging.INFO)\n"
   ]
  },
  {
   "cell_type": "markdown",
   "metadata": {},
   "source": [
    "# EXPERIMENT CONFIGURATION"
   ]
  },
  {
   "cell_type": "code",
   "execution_count": 2,
   "metadata": {},
   "outputs": [],
   "source": [
    "MAZE = \"Maze4-v0\" \n",
    "EXPLORE_EXPLOIT_TRIALS = 1000\n",
    "\n",
    "# The size of ER replay memory buffer\n",
    "ER_BUFFER_SIZE = 10000\n",
    "# The minimum number of samples of ER replay memory buffer to start replying samples (warm-up phase)\n",
    "ER_BUFFER_MIN_SAMPLES = 1000\n",
    "# The number of samples to be replayed druing ER phase\n",
    "ER_SAMPLES_NUMBER_LIST = [3]\n",
    "\n",
    "EER_BUFFER_SIZE = 1000\n",
    "EER_BUFFER_MIN_SAMPLES = 25\n",
    "\n",
    "\n",
    "#######\n",
    "\n",
    "REPEAT_START = 1\n",
    "REPEAT = 1\n",
    "\n",
    "EXPERIMENT_NAME = \"MAZE_4_DQN_EXP_1\" # Please edit if running new experiment to do not override saved results.\n"
   ]
  },
  {
   "cell_type": "code",
   "execution_count": 3,
   "metadata": {},
   "outputs": [],
   "source": [
    "runner = Runner('MAZE', EXPERIMENT_NAME, MAZE)"
   ]
  },
  {
   "cell_type": "markdown",
   "metadata": {},
   "source": [
    "## METRICS"
   ]
  },
  {
   "cell_type": "code",
   "execution_count": 4,
   "metadata": {},
   "outputs": [],
   "source": [
    "\n",
    "# def _maze_metrics(agent, env):\n",
    "#     pop = agent.population\n",
    "#     metrics = {\n",
    "#         'knowledge': _maze_knowledge(pop),\n",
    "#         \"specificity\": _maze_specificity(agent.population),\n",
    "#         \"optimal\": _maze_optimal(agent.population),\n",
    "#         \"optimal_reliable\": _maze_optimal_reliable(agent.population)\n",
    "#     }\n",
    "#     metrics.update(population_metrics(pop, env))\n",
    "    \n",
    "#    return metrics"
   ]
  },
  {
   "cell_type": "markdown",
   "metadata": {},
   "source": [
    "## EXPERIMENT"
   ]
  },
  {
   "cell_type": "code",
   "execution_count": 5,
   "metadata": {},
   "outputs": [],
   "source": [
    "def _run_experiment(agent, path):\n",
    "    runner.run_experiment_explore_exploit(agent, gym.make(MAZE), EXPLORE_EXPLOIT_TRIALS, path)\n",
    "\n",
    "def run_dqn_experiment():\n",
    "    for i in range(REPEAT_START, REPEAT_START + REPEAT):\n",
    "        # Create agent \n",
    "        cfg = CFG_DQN(    \n",
    "            classifier_length=8,\n",
    "            number_of_possible_actions=8,\n",
    "            metrics_trial_frequency=1)\n",
    "        agent = DQN(cfg)\n",
    "\n",
    "        _run_experiment(agent, f'{i}')"
   ]
  },
  {
   "cell_type": "markdown",
   "metadata": {},
   "source": [
    "### RUN ACS2 Experiments"
   ]
  },
  {
   "cell_type": "code",
   "execution_count": 6,
   "metadata": {},
   "outputs": [
    {
     "name": "stderr",
     "output_type": "stream",
     "text": [
      "e:\\_ZSSE\\other\\conda\\envs\\pyalcs-experiments-per\\lib\\site-packages\\keras\\optimizers\\optimizer_v2\\rmsprop.py:135: UserWarning: The `lr` argument is deprecated, use `learning_rate` instead.\n",
      "  super(RMSprop, self).__init__(name, **kwargs)\n",
      "INFO:lcs.agents.Agent:{'trial': 100, 'steps_in_trial': 44, 'reward': 1000, 'perf_time': 7.637701300000003}\n",
      "INFO:lcs.agents.Agent:{'trial': 200, 'steps_in_trial': 50, 'reward': 0, 'perf_time': 9.201108599999998}\n",
      "INFO:lcs.agents.Agent:{'trial': 300, 'steps_in_trial': 4, 'reward': 1000, 'perf_time': 0.5381715999999415}\n",
      "INFO:lcs.agents.Agent:{'trial': 400, 'steps_in_trial': 18, 'reward': 1000, 'perf_time': 3.555623000000196}\n",
      "INFO:lcs.agents.Agent:{'trial': 500, 'steps_in_trial': 50, 'reward': 0, 'perf_time': 8.758064200000035}\n",
      "INFO:lcs.agents.Agent:{'trial': 600, 'steps_in_trial': 3, 'reward': 1000, 'perf_time': 0.5212357999998858}\n",
      "INFO:lcs.agents.Agent:{'trial': 700, 'steps_in_trial': 50, 'reward': 0, 'perf_time': 8.045284100000117}\n",
      "INFO:lcs.agents.Agent:{'trial': 800, 'steps_in_trial': 1, 'reward': 1000, 'perf_time': 0.2504460999998628}\n",
      "INFO:lcs.agents.Agent:{'trial': 900, 'steps_in_trial': 3, 'reward': 1000, 'perf_time': 0.5423796999998558}\n",
      "INFO:lcs.agents.Agent:{'trial': 1000, 'steps_in_trial': 11, 'reward': 1000, 'perf_time': 2.0286801000002015}\n"
     ]
    }
   ],
   "source": [
    "run_dqn_experiment()"
   ]
  },
  {
   "cell_type": "markdown",
   "metadata": {},
   "source": [
    "### RUN ACS2ER Experiments"
   ]
  }
 ],
 "metadata": {
  "interpreter": {
   "hash": "ec208294d083f15f7ed14d725810d00783612c76b14ab5c82bea0e3fdbc09b32"
  },
  "kernelspec": {
   "display_name": "Python 3.7.12",
   "language": "python",
   "name": "python3"
  },
  "language_info": {
   "codemirror_mode": {
    "name": "ipython",
    "version": 3
   },
   "file_extension": ".py",
   "mimetype": "text/x-python",
   "name": "python",
   "nbconvert_exporter": "python",
   "pygments_lexer": "ipython3",
   "version": "3.7.12"
  }
 },
 "nbformat": 4,
 "nbformat_minor": 4
}
