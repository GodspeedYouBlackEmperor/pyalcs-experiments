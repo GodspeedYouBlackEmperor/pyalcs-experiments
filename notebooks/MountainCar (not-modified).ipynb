{
 "cells": [
  {
   "cell_type": "markdown",
   "metadata": {},
   "source": [
    "# ACS in Mountain Car environment"
   ]
  },
  {
   "cell_type": "code",
   "execution_count": 1,
   "metadata": {},
   "outputs": [],
   "source": [
    "# Logger\n",
    "import logging\n",
    "logging.basicConfig(level=logging.INFO)\n",
    "\n",
    "import random\n",
    "import pickle\n",
    "\n",
    "import pandas as pd\n",
    "import numpy as np\n",
    "\n",
    "# Import local paths\n",
    "import sys, os\n",
    "sys.path.append(os.path.abspath('../'))\n",
    "sys.path.insert(0, os.path.abspath('../../openai-envs'))\n",
    "\n",
    "from lcs import Perception\n",
    "from lcs.agents import EnvironmentAdapter\n",
    "from lcs.agents.acs2 import ACS2, Configuration, ClassifiersList\n",
    "from lcs.metrics import population_metrics\n",
    "\n",
    "import matplotlib.pyplot as plt\n",
    "import matplotlib.cm as cm\n",
    "\n",
    "%matplotlib inline\n",
    "\n",
    "# Load gyms\n",
    "import gym\n",
    "import gym_mountain_car"
   ]
  },
  {
   "cell_type": "code",
   "execution_count": 2,
   "metadata": {
    "tags": [
     "parameters"
    ]
   },
   "outputs": [],
   "source": [
    "# papermill params\n",
    "trials = 50000\n",
    "decay = True\n",
    "bins = [10, 100]\n",
    "biased_exploration=0.01\n",
    "gamma = 0.95 # that might be important since the reward is far away"
   ]
  },
  {
   "cell_type": "markdown",
   "metadata": {},
   "source": [
    "## Environment\n",
    "Description - https://github.com/openai/gym/wiki/MountainCar-v0\n",
    "\n",
    "![aa](http://gym.openai.com/v2018-02-21/videos/MountainCar-v0-270f34b9-f23e-4d95-a933-4c902b4f4435/poster.jpg)"
   ]
  },
  {
   "cell_type": "code",
   "execution_count": 3,
   "metadata": {},
   "outputs": [],
   "source": [
    "env = gym.make('MountainCar-v0')\n",
    "env._max_episode_steps = 1000\n",
    "\n",
    "_range, _low = (env.observation_space.high - env.observation_space.low, env.observation_space.low)"
   ]
  },
  {
   "cell_type": "markdown",
   "metadata": {},
   "source": [
    "## Agent configuration"
   ]
  },
  {
   "cell_type": "markdown",
   "metadata": {},
   "source": [
    "### Discretization of continuous input"
   ]
  },
  {
   "cell_type": "code",
   "execution_count": 4,
   "metadata": {},
   "outputs": [],
   "source": [
    "class MountainCarAdapter(EnvironmentAdapter):\n",
    "    BINS = np.array(bins)\n",
    "    \n",
    "    @classmethod\n",
    "    def to_genotype(cls, obs):\n",
    "        r = (obs + np.abs(_low)) / _range\n",
    "        b = (r * cls.BINS).astype(int)\n",
    "\n",
    "        return b.astype(str).tolist()"
   ]
  },
  {
   "cell_type": "markdown",
   "metadata": {},
   "source": [
    "### Evaluation metric"
   ]
  },
  {
   "cell_type": "code",
   "execution_count": 5,
   "metadata": {},
   "outputs": [],
   "source": [
    "def avg_fitness(pop):\n",
    "    return np.mean([cl.fitness for cl in pop if cl.is_reliable()])\n",
    "\n",
    "# collect more metrics\n",
    "def mc_metrics(pop, env):\n",
    "    metrics = {}\n",
    "    metrics['avg_fitness'] = avg_fitness(pop)\n",
    "    metrics.update(population_metrics(pop, env))\n",
    "    \n",
    "    return metrics"
   ]
  },
  {
   "cell_type": "markdown",
   "metadata": {},
   "source": [
    "### Building final configuration object"
   ]
  },
  {
   "cell_type": "code",
   "execution_count": 6,
   "metadata": {},
   "outputs": [],
   "source": [
    "cfg = Configuration(\n",
    "            classifier_length=2,\n",
    "            number_of_possible_actions=3,\n",
    "            epsilon=1.0,\n",
    "            biased_exploration=biased_exploration,\n",
    "            beta=0.2,\n",
    "            gamma=gamma,\n",
    "            theta_as=50,\n",
    "            theta_exp=100,\n",
    "            theta_ga=50,\n",
    "            do_ga=True,\n",
    "            mu=0.03,\n",
    "            chi=0.0,\n",
    "            metrics_trial_frequency=5,\n",
    "            user_metrics_collector_fcn=mc_metrics,\n",
    "            environment_adapter=MountainCarAdapter)"
   ]
  },
  {
   "cell_type": "markdown",
   "metadata": {},
   "source": [
    "## Experiments"
   ]
  },
  {
   "cell_type": "code",
   "execution_count": 7,
   "metadata": {},
   "outputs": [
    {
     "name": "stdout",
     "output_type": "stream",
     "text": [
      "Running 50000 trials, decay=False, bins=[10, 100]\n",
      "\n",
      "{'classifier_length': 2, 'number_of_possible_actions': 3, 'classifier_wildcard': '#', 'environment_adapter': <class '__main__.MountainCarAdapter'>, 'metrics_trial_frequency': 5, 'user_metrics_collector_fcn': <function mc_metrics at 0x114153c80>, 'do_pee': False, 'fitness_fcn': None, 'do_ga': True, 'do_subsumption': True, 'do_action_planning': False, 'action_planning_frequency': 50, 'theta_exp': 100, 'beta': 0.1, 'gamma': 0.99, 'theta_i': 0.1, 'theta_r': 0.9, 'epsilon': 0.9, 'biased_exploration': 0.01, 'u_max': 100000, 'theta_ga': 50, 'theta_as': 50, 'mu': 0.03, 'chi': 0.0}\n"
     ]
    }
   ],
   "source": [
    "print(f'Running {trials} trials, decay={decay}, bins={bins}\\n')\n",
    "print(cfg)"
   ]
  },
  {
   "cell_type": "code",
   "execution_count": 8,
   "metadata": {},
   "outputs": [
    {
     "name": "stderr",
     "output_type": "stream",
     "text": [
      "/Users/khozzy/miniconda/envs/pyalcs/lib/python3.7/site-packages/numpy/core/fromnumeric.py:3257: RuntimeWarning: Mean of empty slice.\n",
      "  out=out, **kwargs)\n",
      "/Users/khozzy/miniconda/envs/pyalcs/lib/python3.7/site-packages/numpy/core/_methods.py:161: RuntimeWarning: invalid value encountered in double_scalars\n",
      "  ret = ret.dtype.type(ret / rcount)\n",
      "INFO:lcs.agents.Agent:{'trial': 0, 'steps_in_trial': 200, 'reward': -1.0, 'avg_fitness': nan, 'population': 179, 'numerosity': 191, 'reliable': 0}\n",
      "INFO:lcs.agents.Agent:{'trial': 5000, 'steps_in_trial': 200, 'reward': -1.0, 'avg_fitness': -1.184443706995079, 'population': 1104, 'numerosity': 18753, 'reliable': 33}\n",
      "INFO:lcs.agents.Agent:{'trial': 10000, 'steps_in_trial': 200, 'reward': -1.0, 'avg_fitness': -1.1522771289902056, 'population': 1153, 'numerosity': 20731, 'reliable': 28}\n",
      "INFO:lcs.agents.Agent:{'trial': 15000, 'steps_in_trial': 200, 'reward': -1.0, 'avg_fitness': -1.1839653059226556, 'population': 1180, 'numerosity': 22021, 'reliable': 43}\n",
      "INFO:lcs.agents.Agent:{'trial': 20000, 'steps_in_trial': 200, 'reward': -1.0, 'avg_fitness': -1.2236314091083167, 'population': 1234, 'numerosity': 22915, 'reliable': 37}\n",
      "INFO:lcs.agents.Agent:{'trial': 25000, 'steps_in_trial': 200, 'reward': -1.0, 'avg_fitness': -1.1876931840713687, 'population': 1235, 'numerosity': 23525, 'reliable': 42}\n",
      "INFO:lcs.agents.Agent:{'trial': 30000, 'steps_in_trial': 200, 'reward': -1.0, 'avg_fitness': -1.1776312346820943, 'population': 1257, 'numerosity': 24245, 'reliable': 43}\n",
      "INFO:lcs.agents.Agent:{'trial': 35000, 'steps_in_trial': 200, 'reward': -1.0, 'avg_fitness': -1.1858708009122154, 'population': 1243, 'numerosity': 24704, 'reliable': 46}\n",
      "INFO:lcs.agents.Agent:{'trial': 40000, 'steps_in_trial': 200, 'reward': -1.0, 'avg_fitness': -1.1744232338251541, 'population': 1258, 'numerosity': 25227, 'reliable': 41}\n",
      "INFO:lcs.agents.Agent:{'trial': 45000, 'steps_in_trial': 200, 'reward': -1.0, 'avg_fitness': -1.1601357181464953, 'population': 1306, 'numerosity': 25791, 'reliable': 46}\n"
     ]
    },
    {
     "name": "stdout",
     "output_type": "stream",
     "text": [
      "CPU times: user 6h 34min 21s, sys: 30.7 s, total: 6h 34min 51s\n",
      "Wall time: 6h 35min 38s\n"
     ]
    }
   ],
   "source": [
    "%%time\n",
    "\n",
    "agent = ACS2(cfg)\n",
    "population, metrics = agent.explore(env, trials, decay=decay)"
   ]
  },
  {
   "cell_type": "code",
   "execution_count": 9,
   "metadata": {},
   "outputs": [],
   "source": [
    "# helper function for printing classifier details\n",
    "def print_cl(cl):\n",
    "    actions = ['L', '-', 'R']\n",
    "    action = actions[cl.action]\n",
    "    \n",
    "    marked = ''\n",
    "    \n",
    "    if cl.is_marked():\n",
    "        marked = '(*)'\n",
    "    \n",
    "    return (f\"{cl.condition} - {action} - {cl.effect} [fit: {cl.fitness:.3f}, r: {cl.r:.2f}, q: {cl.q:.2f}, exp: {cl.exp}, num: {cl.num} {marked}]\")"
   ]
  },
  {
   "cell_type": "code",
   "execution_count": 10,
   "metadata": {},
   "outputs": [
    {
     "name": "stdout",
     "output_type": "stream",
     "text": [
      "Explore population size: 1298\n",
      "Reliable classifiers: 45\n",
      "\n",
      "471 - - - 570 [fit: -0.992, r: -1.08, q: 0.92, exp: 1, num: 1 ]\n",
      "567 - L - #65 [fit: -1.006, r: -1.11, q: 0.91, exp: 14, num: 14 ]\n",
      "141 - L - #42 [fit: -1.017, r: -1.10, q: 0.92, exp: 15, num: 13 ]\n",
      "326 - R - #27 [fit: -1.039, r: -1.10, q: 0.95, exp: 11, num: 7 ]\n",
      "228 - - - #29 [fit: -1.058, r: -1.14, q: 0.93, exp: 14, num: 11 ]\n",
      "140 - L - #41 [fit: -1.061, r: -1.14, q: 0.93, exp: 27, num: 24 ]\n",
      "146 - L - #47 [fit: -1.085, r: -1.17, q: 0.92, exp: 72, num: 50 ]\n",
      "230 - - - #31 [fit: -1.101, r: -1.16, q: 0.95, exp: 41, num: 39 ]\n",
      "546 - L - #44 [fit: -1.132, r: -1.25, q: 0.90, exp: 717, num: 48 ]\n",
      "446 - L - #45 [fit: -1.137, r: -1.25, q: 0.91, exp: 53632, num: 49 ]\n",
      "450 - L - #49 [fit: -1.138, r: -1.19, q: 0.95, exp: 79421, num: 49 ]\n",
      "138 - L - #39 [fit: -1.143, r: -1.22, q: 0.94, exp: 20, num: 20 ]\n",
      "144 - L - #45 [fit: -1.145, r: -1.22, q: 0.94, exp: 60, num: 49 ]\n",
      "243 - L - ## [fit: -1.151, r: -1.24, q: 0.93, exp: 6380, num: 48 ]\n",
      "251 - - - #52 [fit: -1.155, r: -1.25, q: 0.92, exp: 10525, num: 50 ]\n",
      "562 - L - #60 [fit: -1.157, r: -1.27, q: 0.91, exp: 95, num: 49 ]\n",
      "142 - L - #43 [fit: -1.159, r: -1.17, q: 0.99, exp: 28, num: 26 ]\n",
      "252 - L - ## [fit: -1.159, r: -1.24, q: 0.93, exp: 9340, num: 48 ]\n",
      "549 - L - #47 [fit: -1.163, r: -1.27, q: 0.91, exp: 936, num: 49 ]\n",
      "467 - R - ## [fit: -1.164, r: -1.25, q: 0.93, exp: 299, num: 48 ]\n",
      "239 - - - #40 [fit: -1.171, r: -1.29, q: 0.91, exp: 2146, num: 50 ]\n",
      "555 - L - #53 [fit: -1.178, r: -1.26, q: 0.93, exp: 660, num: 48 ]\n",
      "233 - - - #34 [fit: -1.181, r: -1.26, q: 0.94, exp: 182, num: 50 ]\n",
      "449 - L - #48 [fit: -1.182, r: -1.29, q: 0.92, exp: 75723, num: 49 ]\n",
      "556 - L - #54 [fit: -1.186, r: -1.26, q: 0.94, exp: 579, num: 48 ]\n",
      "561 - L - #59 [fit: -1.188, r: -1.20, q: 0.99, exp: 170, num: 50 ]\n",
      "342 - - - ## [fit: -1.204, r: -1.29, q: 0.93, exp: 53011, num: 50 ]\n",
      "452 - L - #51 [fit: -1.208, r: -1.33, q: 0.91, exp: 61490, num: 50 ]\n",
      "550 - L - #48 [fit: -1.210, r: -1.34, q: 0.90, exp: 975, num: 49 ]\n",
      "350 - R - #51 [fit: -1.216, r: -1.31, q: 0.93, exp: 217746, num: 50 ]\n",
      "238 - L - ## [fit: -1.217, r: -1.27, q: 0.96, exp: 1542, num: 50 ]\n",
      "246 - - - #47 [fit: -1.223, r: -1.33, q: 0.92, exp: 10453, num: 50 ]\n",
      "242 - L - ## [fit: -1.229, r: -1.26, q: 0.98, exp: 5339, num: 49 ]\n",
      "458 - L - #57 [fit: -1.238, r: -1.29, q: 0.96, exp: 16686, num: 50 ]\n",
      "565 - L - #63 [fit: -1.240, r: -1.25, q: 0.99, exp: 36, num: 37 ]\n",
      "343 - R - #44 [fit: -1.242, r: -1.33, q: 0.94, exp: 73202, num: 50 ]\n",
      "557 - L - #55 [fit: -1.249, r: -1.29, q: 0.97, exp: 448, num: 50 ]\n",
      "235 - - - #36 [fit: -1.270, r: -1.35, q: 0.94, exp: 467, num: 48 ]\n",
      "352 - R - #53 [fit: -1.283, r: -1.41, q: 0.91, exp: 159313, num: 49 ]\n",
      "248 - L - ## [fit: -1.300, r: -1.36, q: 0.96, exp: 11731, num: 48 ]\n",
      "559 - L - #57 [fit: -1.306, r: -1.31, q: 0.99, exp: 266, num: 50 ]\n",
      "553 - L - #51 [fit: -1.321, r: -1.41, q: 0.93, exp: 845, num: 49 ]\n",
      "552 - L - #50 [fit: -1.323, r: -1.36, q: 0.98, exp: 930, num: 49 ]\n",
      "453 - R - ## [fit: -1.381, r: -1.51, q: 0.92, exp: 56673, num: 50 ]\n",
      "238 - - - #39 [fit: -1.391, r: -1.43, q: 0.97, exp: 1519, num: 50 ]\n"
     ]
    }
   ],
   "source": [
    "reliable = [cl for cl in population if cl.is_reliable()]\n",
    "\n",
    "print(f\"Explore population size: {len(population)}\")\n",
    "print(f\"Reliable classifiers: {len(reliable)}\\n\")\n",
    "\n",
    "for cl in sorted(reliable, key=lambda cl: -cl.fitness)[:50]:\n",
    "    print(print_cl(cl))"
   ]
  },
  {
   "cell_type": "code",
   "execution_count": 11,
   "metadata": {},
   "outputs": [
    {
     "data": {
      "text/html": [
       "<div>\n",
       "<style scoped>\n",
       "    .dataframe tbody tr th:only-of-type {\n",
       "        vertical-align: middle;\n",
       "    }\n",
       "\n",
       "    .dataframe tbody tr th {\n",
       "        vertical-align: top;\n",
       "    }\n",
       "\n",
       "    .dataframe thead th {\n",
       "        text-align: right;\n",
       "    }\n",
       "</style>\n",
       "<table border=\"1\" class=\"dataframe\">\n",
       "  <thead>\n",
       "    <tr style=\"text-align: right;\">\n",
       "      <th></th>\n",
       "      <th>steps_in_trial</th>\n",
       "      <th>reward</th>\n",
       "      <th>avg_fitness</th>\n",
       "      <th>population</th>\n",
       "      <th>numerosity</th>\n",
       "      <th>reliable</th>\n",
       "    </tr>\n",
       "    <tr>\n",
       "      <th>trial</th>\n",
       "      <th></th>\n",
       "      <th></th>\n",
       "      <th></th>\n",
       "      <th></th>\n",
       "      <th></th>\n",
       "      <th></th>\n",
       "    </tr>\n",
       "  </thead>\n",
       "  <tbody>\n",
       "    <tr>\n",
       "      <th>49975</th>\n",
       "      <td>200</td>\n",
       "      <td>-1.0</td>\n",
       "      <td>-1.188468</td>\n",
       "      <td>1298</td>\n",
       "      <td>26190</td>\n",
       "      <td>44</td>\n",
       "    </tr>\n",
       "    <tr>\n",
       "      <th>49980</th>\n",
       "      <td>200</td>\n",
       "      <td>-1.0</td>\n",
       "      <td>-1.181686</td>\n",
       "      <td>1308</td>\n",
       "      <td>26201</td>\n",
       "      <td>45</td>\n",
       "    </tr>\n",
       "    <tr>\n",
       "      <th>49985</th>\n",
       "      <td>200</td>\n",
       "      <td>-1.0</td>\n",
       "      <td>-1.173880</td>\n",
       "      <td>1313</td>\n",
       "      <td>26185</td>\n",
       "      <td>46</td>\n",
       "    </tr>\n",
       "    <tr>\n",
       "      <th>49990</th>\n",
       "      <td>200</td>\n",
       "      <td>-1.0</td>\n",
       "      <td>-1.180589</td>\n",
       "      <td>1310</td>\n",
       "      <td>26192</td>\n",
       "      <td>52</td>\n",
       "    </tr>\n",
       "    <tr>\n",
       "      <th>49995</th>\n",
       "      <td>200</td>\n",
       "      <td>-1.0</td>\n",
       "      <td>-1.182217</td>\n",
       "      <td>1315</td>\n",
       "      <td>26213</td>\n",
       "      <td>46</td>\n",
       "    </tr>\n",
       "  </tbody>\n",
       "</table>\n",
       "</div>"
      ],
      "text/plain": [
       "       steps_in_trial  reward  avg_fitness  population  numerosity  reliable\n",
       "trial                                                                       \n",
       "49975             200    -1.0    -1.188468        1298       26190        44\n",
       "49980             200    -1.0    -1.181686        1308       26201        45\n",
       "49985             200    -1.0    -1.173880        1313       26185        46\n",
       "49990             200    -1.0    -1.180589        1310       26192        52\n",
       "49995             200    -1.0    -1.182217        1315       26213        46"
      ]
     },
     "execution_count": 11,
     "metadata": {},
     "output_type": "execute_result"
    }
   ],
   "source": [
    "metrics_df = pd.DataFrame(metrics)\n",
    "metrics_df.set_index('trial', inplace=True)\n",
    "\n",
    "metrics_df.tail()"
   ]
  },
  {
   "cell_type": "markdown",
   "metadata": {},
   "source": [
    "# Plots"
   ]
  },
  {
   "cell_type": "code",
   "execution_count": 12,
   "metadata": {},
   "outputs": [],
   "source": [
    "avg_window=int(trials/100)"
   ]
  },
  {
   "cell_type": "markdown",
   "metadata": {},
   "source": [
    "### Steps in trial"
   ]
  },
  {
   "cell_type": "code",
   "execution_count": 13,
   "metadata": {},
   "outputs": [
    {
     "data": {
      "image/png": "[encoded data removed]",
      "text/plain": [
       "<Figure size 1008x432 with 1 Axes>"
      ]
     },
     "metadata": {
      "needs_background": "light"
     },
     "output_type": "display_data"
    }
   ],
   "source": [
    "metrics_df['steps_in_trial'].rolling(window=avg_window).mean().plot(figsize=(14,6), title=f'Steps in each trial\\nAveraged from last {avg_window} samples');"
   ]
  },
  {
   "cell_type": "markdown",
   "metadata": {},
   "source": [
    "### Average fitness"
   ]
  },
  {
   "cell_type": "code",
   "execution_count": 14,
   "metadata": {},
   "outputs": [
    {
     "data": {
      "image/png": "[encoded data removed]",
      "text/plain": [
       "<Figure size 1008x432 with 1 Axes>"
      ]
     },
     "metadata": {
      "needs_background": "light"
     },
     "output_type": "display_data"
    }
   ],
   "source": [
    "fig, ax = plt.subplots(figsize=(14, 6))\n",
    "\n",
    "metrics_df['avg_fitness'].rolling(window=avg_window).mean().plot(ax=ax)\n",
    "\n",
    "ax.set_title(f'Fitness\\nAveraged from last {avg_window} samples')\n",
    "ax.set_xlabel('Trial')\n",
    "ax.set_ylabel('Avg population fitness')\n",
    "\n",
    "plt.show()"
   ]
  },
  {
   "cell_type": "markdown",
   "metadata": {},
   "source": [
    "## Reward"
   ]
  },
  {
   "cell_type": "code",
   "execution_count": 15,
   "metadata": {},
   "outputs": [
    {
     "data": {
      "image/png": "[encoded data removed]",
      "text/plain": [
       "<Figure size 1008x432 with 1 Axes>"
      ]
     },
     "metadata": {
      "needs_background": "light"
     },
     "output_type": "display_data"
    }
   ],
   "source": [
    "fig, ax = plt.subplots(figsize=(14, 6))\n",
    "\n",
    "metrics_df['reward'].rolling(window=avg_window).mean().plot(ax=ax)\n",
    "\n",
    "ax.set_title(f'Reward\\nAveraged from last {avg_window} samples')\n",
    "ax.set_xlabel('Trial')\n",
    "ax.set_ylabel('Reward (energy)')\n",
    "\n",
    "plt.show()"
   ]
  },
  {
   "cell_type": "markdown",
   "metadata": {},
   "source": [
    "## Classifiers"
   ]
  },
  {
   "cell_type": "code",
   "execution_count": 16,
   "metadata": {},
   "outputs": [
    {
     "data": {
      "image/png": "[encoded data removed]",
      "text/plain": [
       "<Figure size 1008x576 with 1 Axes>"
      ]
     },
     "metadata": {
      "needs_background": "light"
     },
     "output_type": "display_data"
    }
   ],
   "source": [
    "fig, ax = plt.subplots(figsize=(14,8))\n",
    "\n",
    "metrics_df['population'].rolling(window=avg_window).mean().plot(label='population', ax=ax)\n",
    "metrics_df['reliable'].rolling(window=avg_window).mean().plot(label='reliable', ax=ax)\n",
    "\n",
    "plt.legend()\n",
    "plt.show()"
   ]
  },
  {
   "cell_type": "markdown",
   "metadata": {},
   "source": [
    "## Policy plot"
   ]
  },
  {
   "cell_type": "code",
   "execution_count": 17,
   "metadata": {},
   "outputs": [
    {
     "name": "stdout",
     "output_type": "stream",
     "text": [
      "2\n"
     ]
    }
   ],
   "source": [
    "obs = (\"1\",\"1\")\n",
    "\n",
    "def best_action(obs, population):\n",
    "    matchset = population.form_match_set(Perception(obs))\n",
    "    anticipated_change_cls = [cl for cl in matchset if cl.does_anticipate_change()]\n",
    "\n",
    "    best_classifier = None\n",
    "    if len(anticipated_change_cls) > 0:\n",
    "        random.shuffle(anticipated_change_cls)\n",
    "        best_classifier = max(anticipated_change_cls, key=lambda cl: cl.fitness * cl.num)\n",
    "\n",
    "    if best_classifier is not None:\n",
    "        return best_classifier.action\n",
    "    else:\n",
    "        return None\n",
    "    \n",
    "a = best_action(obs, population)\n",
    "print(a)"
   ]
  },
  {
   "cell_type": "code",
   "execution_count": 18,
   "metadata": {},
   "outputs": [
    {
     "data": {
      "image/png": "[encoded data removed]",
      "text/plain": [
       "<Figure size 576x576 with 2 Axes>"
      ]
     },
     "metadata": {
      "needs_background": "light"
     },
     "output_type": "display_data"
    }
   ],
   "source": [
    "cmap = cm.get_cmap('Set3', 4)\n",
    "\n",
    "BINS = 14\n",
    "EMPTY = -1\n",
    "\n",
    "policy = np.full((BINS, BINS), EMPTY)\n",
    "\n",
    "for pos_bin in range(BINS):\n",
    "    for vel_bin in range(BINS):\n",
    "        obs = (str(pos_bin), str(vel_bin))\n",
    "        action = best_action(obs, population)\n",
    "        policy[pos_bin, vel_bin] = action if action != None else EMPTY\n",
    "        \n",
    "fig, ax = plt.subplots(figsize=(8,8))\n",
    "im = ax.imshow(policy, interpolation='none', cmap=cmap);\n",
    "ax.invert_yaxis()\n",
    "\n",
    "fig.colorbar(im, ticks=[-1, 0, 1, 2])\n",
    "plt.xlabel('Position')\n",
    "plt.ylabel('Velocity')\n",
    "\n",
    "\n",
    "plt.show();"
   ]
  },
  {
   "cell_type": "markdown",
   "metadata": {},
   "source": [
    "## Save objects for reproduction"
   ]
  },
  {
   "cell_type": "code",
   "execution_count": 19,
   "metadata": {},
   "outputs": [],
   "source": [
    "filename = f'mountain_car_{trials}_trials_decay_{decay}_bins_{bins}.pickle'\n",
    "with open(filename, 'wb') as f:\n",
    "    pickle.dump((population, metrics_df), f)"
   ]
  }
 ],
 "metadata": {
  "kernelspec": {
   "display_name": "Python 3",
   "language": "python",
   "name": "python3"
  },
  "language_info": {
   "codemirror_mode": {
    "name": "ipython",
    "version": 3
   },
   "file_extension": ".py",
   "mimetype": "text/x-python",
   "name": "python",
   "nbconvert_exporter": "python",
   "pygments_lexer": "ipython3",
   "version": "3.7.0"
  }
 },
 "nbformat": 4,
 "nbformat_minor": 4
}
