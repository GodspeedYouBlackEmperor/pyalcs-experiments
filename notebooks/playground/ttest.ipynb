{
 "cells": [
  {
   "cell_type": "code",
   "execution_count": 1,
   "metadata": {
    "collapsed": true
   },
   "outputs": [],
   "source": [
    "# https://henryhammond.ghost.io/bayesian-t-test/\n",
    "\n",
    "import matplotlib.pyplot as plt\n",
    "import numpy as np\n",
    "import pymc3 as pm\n",
    "from IPython.core.pylabtools import figsize\n",
    "from scipy.stats import gaussian_kde"
   ]
  },
  {
   "cell_type": "code",
   "execution_count": 2,
   "outputs": [],
   "source": [
    "# generate data (ground truth)\n",
    "group1 = np.random.normal(15, 2, 1000)\n",
    "group2 = np.random.normal(15.7, 2, 1000)"
   ],
   "metadata": {
    "collapsed": false,
    "pycharm": {
     "name": "#%%\n"
    }
   }
  },
  {
   "cell_type": "code",
   "execution_count": 3,
   "outputs": [],
   "source": [
    "pooled = np.concatenate((group1, group2))  # np.r_[group1, group2]\n",
    "\n",
    "# priors (assume normal distribution in both cases)\n",
    "with pm.Model() as model:\n",
    "    # mu1 = pm.Normal('mu1', mu=pooled.mean(), tau=1.0 / pooled.var() / 1000.0)\n",
    "    mu1 = pm.Uniform('mu1', lower=-100, upper=100)\n",
    "    mu2 = pm.Normal('mu2', mu=pooled.mean(), tau=1.0 / pooled.var() / 1000.0)\n",
    "\n",
    "    sig1 = pm.Uniform('sig1', lower=pooled.var() / 1000.0, upper=pooled.var() * 1000)\n",
    "    sig2 = pm.Uniform('sig2', lower=pooled.var() / 1000.0, upper=pooled.var() * 1000)"
   ],
   "metadata": {
    "collapsed": false,
    "pycharm": {
     "name": "#%%\n"
    }
   }
  },
  {
   "cell_type": "code",
   "execution_count": 4,
   "outputs": [],
   "source": [
    "# posterior\n",
    "with model:\n",
    "    t1 = pm.Normal('t1', mu=mu1, sigma=sig1, observed=group1)\n",
    "    t2 = pm.Normal('t2', mu=mu2, sigma=sig2, observed=group2)"
   ],
   "metadata": {
    "collapsed": false,
    "pycharm": {
     "name": "#%%\n"
    }
   }
  },
  {
   "cell_type": "code",
   "execution_count": 9,
   "outputs": [
    {
     "name": "stderr",
     "output_type": "stream",
     "text": [
      "/home/arc/miniconda3/envs/pyalcs-experiments/lib/python3.7/site-packages/ipykernel_launcher.py:4: FutureWarning: In v4.0, pm.sample will return an `arviz.InferenceData` object instead of a `MultiTrace` by default. You can pass return_inferencedata=True or return_inferencedata=False to be safe and silence this warning.\n",
      "  after removing the cwd from sys.path.\n",
      "Multiprocess sampling (4 chains in 4 jobs)\n",
      "CompoundStep\n",
      ">Metropolis: [sig2]\n",
      ">Metropolis: [sig1]\n",
      ">Metropolis: [mu2]\n",
      ">Metropolis: [mu1]\n"
     ]
    },
    {
     "data": {
      "text/plain": "<IPython.core.display.HTML object>",
      "text/html": "\n    <div>\n        <style>\n            /* Turns off some styling */\n            progress {\n                /* gets rid of default border in Firefox and Opera. */\n                border: none;\n                /* Needs to be in here for Safari polyfill so background images work as expected. */\n                background-size: auto;\n            }\n            .progress-bar-interrupted, .progress-bar-interrupted::-webkit-progress-bar {\n                background: #F44336;\n            }\n        </style>\n      <progress value='0' class='' max='164000' style='width:300px; height:20px; vertical-align: middle;'></progress>\n      \n    </div>\n    "
     },
     "metadata": {},
     "output_type": "display_data"
    },
    {
     "name": "stderr",
     "output_type": "stream",
     "text": [
      "/home/arc/miniconda3/envs/pyalcs-experiments/lib/python3.7/site-packages/pymc3/step_methods/metropolis.py:226: RuntimeWarning: overflow encountered in exp\n",
      "  \"accept\": np.exp(accept),\n",
      "/home/arc/miniconda3/envs/pyalcs-experiments/lib/python3.7/site-packages/pymc3/step_methods/metropolis.py:226: RuntimeWarning: overflow encountered in exp\n",
      "  \"accept\": np.exp(accept),\n",
      "/home/arc/miniconda3/envs/pyalcs-experiments/lib/python3.7/site-packages/pymc3/step_methods/metropolis.py:226: RuntimeWarning: overflow encountered in exp\n",
      "  \"accept\": np.exp(accept),\n",
      "/home/arc/miniconda3/envs/pyalcs-experiments/lib/python3.7/site-packages/pymc3/step_methods/metropolis.py:226: RuntimeWarning: overflow encountered in exp\n",
      "  \"accept\": np.exp(accept),\n",
      "Sampling 4 chains for 1_000 tune and 40_000 draw iterations (4_000 + 160_000 draws total) took 45 seconds.\n",
      "The number of effective samples is smaller than 25% for some parameters.\n"
     ]
    }
   ],
   "source": [
    "# sample\n",
    "with model:\n",
    "    step = pm.Metropolis()\n",
    "    trace = pm.sample(40000, step=step)"
   ],
   "metadata": {
    "collapsed": false,
    "pycharm": {
     "name": "#%%\n"
    }
   }
  },
  {
   "cell_type": "code",
   "execution_count": 17,
   "outputs": [
    {
     "data": {
      "text/plain": "<Figure size 864x216 with 1 Axes>",
      "image/png": "[encoded data removed]"
     },
     "metadata": {
      "needs_background": "light"
     },
     "output_type": "display_data"
    }
   ],
   "source": [
    "figsize(12, 3)\n",
    "\n",
    "delta_mu = trace['mu1'] - trace['mu2']\n",
    "\n",
    "x = np.linspace(min(delta_mu), max(delta_mu), 1000)\n",
    "gkde = gaussian_kde(delta_mu)\n",
    "\n",
    "plt.plot(x, gkde(x), color='red', label='$\\mu_{ACS}-\\mu_{ACS2}$')\n",
    "plt.fill_between(x, gkde(x), alpha=0.1, color='red')\n",
    "plt.axvline(0, color='red', alpha=0.5, linestyle='--')\n",
    "plt.legend();"
   ],
   "metadata": {
    "collapsed": false,
    "pycharm": {
     "name": "#%%\n"
    }
   }
  }
 ],
 "metadata": {
  "kernelspec": {
   "display_name": "Python 3",
   "language": "python",
   "name": "python3"
  },
  "language_info": {
   "codemirror_mode": {
    "name": "ipython",
    "version": 2
   },
   "file_extension": ".py",
   "mimetype": "text/x-python",
   "name": "python",
   "nbconvert_exporter": "python",
   "pygments_lexer": "ipython2",
   "version": "2.7.6"
  }
 },
 "nbformat": 4,
 "nbformat_minor": 0
}