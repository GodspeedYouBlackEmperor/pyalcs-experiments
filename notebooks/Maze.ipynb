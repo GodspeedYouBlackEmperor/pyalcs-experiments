{
 "cells": [
  {
   "cell_type": "markdown",
   "metadata": {},
   "source": [
    "# ACS2 in Maze\n",
    "This notebook presents how to integrate ACS2 algorithm with maze environment (using OpenAI Gym interface).\n",
    "\n",
    "Begin with attaching required dependencies. Because most of the work is by now done locally no PIP modules are used (just pure OS paths)"
   ]
  },
  {
   "cell_type": "code",
   "execution_count": 31,
   "metadata": {},
   "outputs": [
    {
     "name": "stdout",
     "output_type": "stream",
     "text": [
      "The autoreload extension is already loaded. To reload it, use:\n",
      "  %reload_ext autoreload\n"
     ]
    }
   ],
   "source": [
    "# General\n",
    "from __future__ import unicode_literals\n",
    "\n",
    "%matplotlib inline\n",
    "\n",
    "import numpy as np\n",
    "import pandas as pd\n",
    "import matplotlib\n",
    "import matplotlib.pyplot as plt\n",
    "\n",
    "# To avoid Type3 fonts in generated pdf file\n",
    "matplotlib.rcParams['pdf.fonttype'] = 42\n",
    "matplotlib.rcParams['ps.fonttype'] = 42\n",
    "\n",
    "# Logger\n",
    "import logging\n",
    "logging.basicConfig(level=logging.INFO)\n",
    "\n",
    "\n",
    "# Enable automatic module reload\n",
    "%load_ext autoreload\n",
    "%autoreload 2\n",
    "\n",
    "# Load PyALCS module\n",
    "from lcs.agents.acs2 import ACS2, Configuration, ClassifiersList\n",
    "\n",
    "# Load environments\n",
    "import gym\n",
    "import gym_maze"
   ]
  },
  {
   "cell_type": "markdown",
   "metadata": {},
   "source": [
    "## Environment - Maze\n",
    "We are going to look at provided mazes. Their names starts with \"_Maze..._\" or \"_Woods..._\" so see what is possible to load:"
   ]
  },
  {
   "cell_type": "code",
   "execution_count": 32,
   "metadata": {},
   "outputs": [
    {
     "name": "stdout",
     "output_type": "stream",
     "text": [
      "Maze ID: [MazeF1-v0], non-deterministic: [False]\n",
      "Maze ID: [MazeF2-v0], non-deterministic: [False]\n",
      "Maze ID: [MazeF3-v0], non-deterministic: [False]\n",
      "Maze ID: [MazeF4-v0], non-deterministic: [True]\n",
      "Maze ID: [Maze4-v0], non-deterministic: [False]\n",
      "Maze ID: [Maze5-v0], non-deterministic: [False]\n",
      "Maze ID: [Maze6-v0], non-deterministic: [True]\n",
      "Maze ID: [MazeT2-v0], non-deterministic: [False]\n",
      "Maze ID: [MazeT3-v0], non-deterministic: [False]\n",
      "Maze ID: [MazeT4-v0], non-deterministic: [True]\n",
      "Maze ID: [Maze228-v0], non-deterministic: [True]\n",
      "Maze ID: [Maze252-v0], non-deterministic: [True]\n",
      "Maze ID: [Maze288-v0], non-deterministic: [True]\n",
      "Maze ID: [Maze324-v0], non-deterministic: [True]\n"
     ]
    }
   ],
   "source": [
    "# Custom function for obtaining available environments\n",
    "filter_envs = lambda env: env.id.startswith(\"Maze\") or env.id.startswith(\"Woods\")\n",
    "\n",
    "all_envs = [env for env in gym.envs.registry.all()]\n",
    "maze_envs = [env for env in all_envs if filter_envs(env)]\n",
    "\n",
    "for env in maze_envs:\n",
    "    print(\"Maze ID: [{}], non-deterministic: [{}]\".format(env.id, env.nondeterministic, ))"
   ]
  },
  {
   "cell_type": "markdown",
   "metadata": {},
   "source": [
    "Let's see how it looks in action. First we are going to initialize new environment using `gym.make()` instruction from OpenAI Gym."
   ]
  },
  {
   "cell_type": "code",
   "execution_count": 33,
   "metadata": {},
   "outputs": [
    {
     "name": "stdout",
     "output_type": "stream",
     "text": [
      "\n",
      "\u001B[30m■\u001B[0m \u001B[30m■\u001B[0m \u001B[30m■\u001B[0m \u001B[30m■\u001B[0m \u001B[30m■\u001B[0m \u001B[30m■\u001B[0m \u001B[30m■\u001B[0m \u001B[30m■\u001B[0m \u001B[30m■\u001B[0m\n",
      "\u001B[30m■\u001B[0m \u001B[37m□\u001B[0m \u001B[37m□\u001B[0m \u001B[37m□\u001B[0m \u001B[37m□\u001B[0m \u001B[37m□\u001B[0m \u001B[37m□\u001B[0m \u001B[33m$\u001B[0m \u001B[30m■\u001B[0m\n",
      "\u001B[30m■\u001B[0m \u001B[37m□\u001B[0m \u001B[37m□\u001B[0m \u001B[30m■\u001B[0m \u001B[37m□\u001B[0m \u001B[30m■\u001B[0m \u001B[30m■\u001B[0m \u001B[37m□\u001B[0m \u001B[30m■\u001B[0m\n",
      "\u001B[30m■\u001B[0m \u001B[37m□\u001B[0m \u001B[30m■\u001B[0m \u001B[37m□\u001B[0m \u001B[37m□\u001B[0m \u001B[37m□\u001B[0m \u001B[37m□\u001B[0m \u001B[37m□\u001B[0m \u001B[30m■\u001B[0m\n",
      "\u001B[30m■\u001B[0m \u001B[37m□\u001B[0m \u001B[37m□\u001B[0m \u001B[37m□\u001B[0m \u001B[30m■\u001B[0m \u001B[30m■\u001B[0m \u001B[37m□\u001B[0m \u001B[37m□\u001B[0m \u001B[30m■\u001B[0m\n",
      "\u001B[30m■\u001B[0m \u001B[31mA\u001B[0m \u001B[30m■\u001B[0m \u001B[37m□\u001B[0m \u001B[30m■\u001B[0m \u001B[37m□\u001B[0m \u001B[37m□\u001B[0m \u001B[30m■\u001B[0m \u001B[30m■\u001B[0m\n",
      "\u001B[30m■\u001B[0m \u001B[37m□\u001B[0m \u001B[30m■\u001B[0m \u001B[37m□\u001B[0m \u001B[37m□\u001B[0m \u001B[30m■\u001B[0m \u001B[37m□\u001B[0m \u001B[37m□\u001B[0m \u001B[30m■\u001B[0m\n",
      "\u001B[30m■\u001B[0m \u001B[37m□\u001B[0m \u001B[37m□\u001B[0m \u001B[37m□\u001B[0m \u001B[37m□\u001B[0m \u001B[37m□\u001B[0m \u001B[30m■\u001B[0m \u001B[37m□\u001B[0m \u001B[30m■\u001B[0m\n",
      "\u001B[30m■\u001B[0m \u001B[30m■\u001B[0m \u001B[30m■\u001B[0m \u001B[30m■\u001B[0m \u001B[30m■\u001B[0m \u001B[30m■\u001B[0m \u001B[30m■\u001B[0m \u001B[30m■\u001B[0m \u001B[30m■\u001B[0m\n"
     ]
    }
   ],
   "source": [
    "#MAZE = \"Woods14-v0\"\n",
    "MAZE = \"Maze5-v0\"\n",
    "\n",
    "# Initialize environment\n",
    "maze = gym.make(MAZE)\n",
    "\n",
    "# Reset it, by putting an agent into random position\n",
    "situation = maze.reset()\n",
    "\n",
    "# Render the state in ASCII\n",
    "maze.render()"
   ]
  },
  {
   "cell_type": "markdown",
   "metadata": {},
   "source": [
    "The `reset()` function puts an agent into random position (on path inside maze) returning current perception.\n",
    "\n",
    "> The perception consists of 8 values representing N, NE, E, SE, S, SW, W, NW directions. It outputs 0 for the path, 1 for the wall and 9 for the reward."
   ]
  },
  {
   "cell_type": "code",
   "execution_count": 34,
   "metadata": {},
   "outputs": [
    {
     "data": {
      "text/plain": "['0', '0', '1', '1', '0', '1', '1', '1']"
     },
     "execution_count": 34,
     "metadata": {},
     "output_type": "execute_result"
    }
   ],
   "source": [
    "# Show current agents perception\n",
    "situation"
   ]
  },
  {
   "cell_type": "markdown",
   "metadata": {},
   "source": [
    "We can interact with the environment by performing actions.\n",
    "\n",
    "> Agent can perform 8 actions - moving into different directions.\n",
    "\n",
    "To do so use `step(action)` function. It will return couple interesting information:\n",
    "- new state perception,\n",
    "- reward for executing move (ie. finding the reward)\n",
    "- is the trial finish,\n",
    "- debug data"
   ]
  },
  {
   "cell_type": "code",
   "execution_count": 35,
   "metadata": {},
   "outputs": [
    {
     "name": "stdout",
     "output_type": "stream",
     "text": [
      "New state: ['0', '1', '0', '1', '0', '1', '1', '1'], reward: 0, is done: False\n",
      "\n",
      "\u001B[30m■\u001B[0m \u001B[30m■\u001B[0m \u001B[30m■\u001B[0m \u001B[30m■\u001B[0m \u001B[30m■\u001B[0m \u001B[30m■\u001B[0m \u001B[30m■\u001B[0m \u001B[30m■\u001B[0m \u001B[30m■\u001B[0m\n",
      "\u001B[30m■\u001B[0m \u001B[37m□\u001B[0m \u001B[37m□\u001B[0m \u001B[37m□\u001B[0m \u001B[37m□\u001B[0m \u001B[37m□\u001B[0m \u001B[37m□\u001B[0m \u001B[33m$\u001B[0m \u001B[30m■\u001B[0m\n",
      "\u001B[30m■\u001B[0m \u001B[37m□\u001B[0m \u001B[37m□\u001B[0m \u001B[30m■\u001B[0m \u001B[37m□\u001B[0m \u001B[30m■\u001B[0m \u001B[30m■\u001B[0m \u001B[37m□\u001B[0m \u001B[30m■\u001B[0m\n",
      "\u001B[30m■\u001B[0m \u001B[37m□\u001B[0m \u001B[30m■\u001B[0m \u001B[37m□\u001B[0m \u001B[37m□\u001B[0m \u001B[37m□\u001B[0m \u001B[37m□\u001B[0m \u001B[37m□\u001B[0m \u001B[30m■\u001B[0m\n",
      "\u001B[30m■\u001B[0m \u001B[31mA\u001B[0m \u001B[37m□\u001B[0m \u001B[37m□\u001B[0m \u001B[30m■\u001B[0m \u001B[30m■\u001B[0m \u001B[37m□\u001B[0m \u001B[37m□\u001B[0m \u001B[30m■\u001B[0m\n",
      "\u001B[30m■\u001B[0m \u001B[37m□\u001B[0m \u001B[30m■\u001B[0m \u001B[37m□\u001B[0m \u001B[30m■\u001B[0m \u001B[37m□\u001B[0m \u001B[37m□\u001B[0m \u001B[30m■\u001B[0m \u001B[30m■\u001B[0m\n",
      "\u001B[30m■\u001B[0m \u001B[37m□\u001B[0m \u001B[30m■\u001B[0m \u001B[37m□\u001B[0m \u001B[37m□\u001B[0m \u001B[30m■\u001B[0m \u001B[37m□\u001B[0m \u001B[37m□\u001B[0m \u001B[30m■\u001B[0m\n",
      "\u001B[30m■\u001B[0m \u001B[37m□\u001B[0m \u001B[37m□\u001B[0m \u001B[37m□\u001B[0m \u001B[37m□\u001B[0m \u001B[37m□\u001B[0m \u001B[30m■\u001B[0m \u001B[37m□\u001B[0m \u001B[30m■\u001B[0m\n",
      "\u001B[30m■\u001B[0m \u001B[30m■\u001B[0m \u001B[30m■\u001B[0m \u001B[30m■\u001B[0m \u001B[30m■\u001B[0m \u001B[30m■\u001B[0m \u001B[30m■\u001B[0m \u001B[30m■\u001B[0m \u001B[30m■\u001B[0m\n"
     ]
    }
   ],
   "source": [
    "ACTION = 0 # Move N\n",
    "\n",
    "# Execute action\n",
    "state, reward, done, _ = maze.step(ACTION)\n",
    "\n",
    "# Show new state\n",
    "print(f\"New state: {state}, reward: {reward}, is done: {done}\")\n",
    "\n",
    "# Render the env one more time after executing step\n",
    "maze.render()"
   ]
  },
  {
   "cell_type": "markdown",
   "metadata": {},
   "source": [
    "## Agent - ACS2\n",
    "First provide a helper method for calculating obtained knowledge"
   ]
  },
  {
   "cell_type": "code",
   "execution_count": 36,
   "metadata": {},
   "outputs": [],
   "source": [
    "def _maze_knowledge(population, environment) -> float:\n",
    "    transitions = environment.env.get_transitions()\n",
    "\n",
    "    # Take into consideration only reliable classifiers\n",
    "    reliable_classifiers = [c for c in population if c.is_reliable()]\n",
    "\n",
    "    # Count how many transitions are anticipated correctly\n",
    "    nr_correct = 0\n",
    "\n",
    "    # For all possible destinations from each path cell\n",
    "    for start, action, end in transitions:\n",
    "\n",
    "        p0 = environment.env.maze.perception(start)\n",
    "        p1 = environment.env.maze.perception(end)\n",
    "\n",
    "        if any([True for cl in reliable_classifiers\n",
    "                if cl.predicts_successfully(p0, action, p1)]):\n",
    "            nr_correct += 1\n",
    "\n",
    "    return nr_correct / len(transitions) * 100.0"
   ]
  },
  {
   "cell_type": "code",
   "execution_count": 37,
   "metadata": {},
   "outputs": [],
   "source": [
    "from lcs.metrics import population_metrics\n",
    "\n",
    "def _maze_metrics(agent, env):\n",
    "    pop = agent.population\n",
    "    metrics = {\n",
    "        'knowledge': _maze_knowledge(pop, env)\n",
    "    }\n",
    "\n",
    "    # Add basic population metrics\n",
    "    metrics.update(population_metrics(pop, env))\n",
    "    \n",
    "    return metrics"
   ]
  },
  {
   "cell_type": "markdown",
   "metadata": {},
   "source": [
    "### Exploration phase"
   ]
  },
  {
   "cell_type": "code",
   "execution_count": 38,
   "metadata": {},
   "outputs": [
    {
     "name": "stdout",
     "output_type": "stream",
     "text": [
      "{'classifier_length': 8, 'number_of_possible_actions': 8, 'classifier_wildcard': '#', 'metrics_trial_frequency': 1, 'user_metrics_collector_fcn': <function _maze_metrics at 0x7f66c1ed7a70>, 'fitness_fcn': None, 'do_subsumption': True, 'beta': 0.05, 'theta_i': 0.1, 'theta_r': 0.9, 'epsilon': 0.5, 'u_max': 100000, 'theta_exp': 20, 'theta_as': 20, 'use_mlflow': False, 'model_checkpoint_freq': None, 'gamma': 0.95, 'do_pee': False, 'do_ga': False, 'theta_ga': 100, 'mu': 0.3, 'chi': 0.8, 'do_action_planning': False, 'action_planning_frequency': 50, 'initial_q': 0.5, 'biased_exploration_prob': 0.05, 'action_selector': <lcs.strategies.action_selection.EpsilonGreedy.EpsilonGreedy object at 0x7f66c1da2350>}\n"
     ]
    }
   ],
   "source": [
    "CLASSIFIER_LENGTH=8\n",
    "NUMBER_OF_POSSIBLE_ACTIONS=8\n",
    "\n",
    "# Define agent's default configuration\n",
    "cfg = Configuration(\n",
    "    classifier_length=CLASSIFIER_LENGTH,\n",
    "    number_of_possible_actions=NUMBER_OF_POSSIBLE_ACTIONS,\n",
    "    biased_exploration=0.5,\n",
    "    metrics_trial_frequency=1,\n",
    "    user_metrics_collector_fcn=_maze_metrics)\n",
    "\n",
    "# Define agent\n",
    "agent = ACS2(cfg)\n",
    "\n",
    "print(cfg)"
   ]
  },
  {
   "cell_type": "code",
   "execution_count": 39,
   "metadata": {},
   "outputs": [
    {
     "name": "stderr",
     "output_type": "stream",
     "text": [
      "INFO:lcs.agents.Agent:{'trial': 10, 'steps_in_trial': 7, 'reward': 1000, 'perf_time': 0.012139666999928522, 'knowledge': 2.054794520547945, 'population': 305, 'numerosity': 305, 'reliable': 5}\n",
      "INFO:lcs.agents.Agent:{'trial': 20, 'steps_in_trial': 50, 'reward': 0, 'perf_time': 0.08370307799987131, 'knowledge': 2.73972602739726, 'population': 405, 'numerosity': 405, 'reliable': 20}\n",
      "INFO:lcs.agents.Agent:{'trial': 30, 'steps_in_trial': 8, 'reward': 1000, 'perf_time': 0.016720975999987786, 'knowledge': 9.58904109589041, 'population': 466, 'numerosity': 466, 'reliable': 48}\n",
      "INFO:lcs.agents.Agent:{'trial': 40, 'steps_in_trial': 15, 'reward': 1000, 'perf_time': 0.03727445999993506, 'knowledge': 10.273972602739725, 'population': 504, 'numerosity': 504, 'reliable': 54}\n",
      "INFO:lcs.agents.Agent:{'trial': 50, 'steps_in_trial': 11, 'reward': 1000, 'perf_time': 0.024591845000031753, 'knowledge': 13.013698630136986, 'population': 515, 'numerosity': 515, 'reliable': 58}\n",
      "INFO:lcs.agents.Agent:{'trial': 60, 'steps_in_trial': 50, 'reward': 0, 'perf_time': 0.10455605100014509, 'knowledge': 13.013698630136986, 'population': 517, 'numerosity': 517, 'reliable': 75}\n",
      "INFO:lcs.agents.Agent:{'trial': 70, 'steps_in_trial': 50, 'reward': 0, 'perf_time': 0.11277863700001944, 'knowledge': 15.068493150684931, 'population': 531, 'numerosity': 531, 'reliable': 84}\n",
      "INFO:lcs.agents.Agent:{'trial': 80, 'steps_in_trial': 11, 'reward': 1000, 'perf_time': 0.02002959399987958, 'knowledge': 21.91780821917808, 'population': 528, 'numerosity': 528, 'reliable': 102}\n",
      "INFO:lcs.agents.Agent:{'trial': 90, 'steps_in_trial': 11, 'reward': 1000, 'perf_time': 0.02223435599989898, 'knowledge': 23.972602739726025, 'population': 531, 'numerosity': 531, 'reliable': 111}\n",
      "INFO:lcs.agents.Agent:{'trial': 100, 'steps_in_trial': 4, 'reward': 1000, 'perf_time': 0.007758275000014692, 'knowledge': 24.65753424657534, 'population': 525, 'numerosity': 525, 'reliable': 121}\n"
     ]
    },
    {
     "name": "stdout",
     "output_type": "stream",
     "text": [
      "CPU times: user 7.46 s, sys: 12.1 ms, total: 7.47 s\n",
      "Wall time: 7.43 s\n"
     ]
    }
   ],
   "source": [
    "%%time\n",
    "metrics = agent.explore(maze, 100)"
   ]
  },
  {
   "cell_type": "markdown",
   "metadata": {},
   "source": [
    "We can take a sneak peek into a created list of classifiers. Let's have a look at top 10:"
   ]
  },
  {
   "cell_type": "code",
   "execution_count": 40,
   "metadata": {},
   "outputs": [
    {
     "name": "stdout",
     "output_type": "stream",
     "text": [
      "##9011## 2 ##110###         (empty)               q: 0.98  r: 962.5  ir: 962.5  f: 943.5  exp: 64  tga: 456   talp: 2701  tav: 26.3   num: 1 \tq: 0.98 \tr: 962.48 \tir: 962.48\n",
      "##901#0# 2 ##110###         (empty)               q: 0.98  r: 962.5  ir: 962.5  f: 943.5  exp: 64  tga: 456   talp: 2701  tav: 26.3   num: 1 \tq: 0.98 \tr: 962.48 \tir: 962.48\n",
      "#1901#0# 2 ##110###         (empty)               q: 0.98  r: 962.5  ir: 962.5  f: 943.5  exp: 64  tga: 456   talp: 2701  tav: 26.4   num: 1 \tq: 0.98 \tr: 962.48 \tir: 962.48\n",
      "##901### 2 ##110###         (empty)               q: 0.98  r: 962.5  ir: 962.5  f: 943.5  exp: 63  tga: 456   talp: 2701  tav: 26.6   num: 1 \tq: 0.98 \tr: 962.48 \tir: 962.48\n",
      "9#110010 7 1#901101         (empty)               q: 0.939 r: 624.5  ir: 0.0    f: 586.4  exp: 41  tga: 456   talp: 2699  tav: 48.5   num: 1 \tq: 0.94 \tr: 624.55 \tir: 0.00\n",
      "1#01100# 2 ##90#1##         (empty)               q: 0.939 r: 576.8  ir: 0.0    f: 541.6  exp: 31  tga: 1103  talp: 2696  tav: 55.1   num: 1 \tq: 0.94 \tr: 576.76 \tir: 0.00\n",
      "1101100# 2 ##90#1##         (empty)               q: 0.932 r: 576.8  ir: 0.0    f: 537.8  exp: 31  tga: 1103  talp: 2696  tav: 55.2   num: 1 \tq: 0.93 \tr: 576.76 \tir: 0.00\n",
      "11011001 2 ##90#1##         (empty)               q: 0.913 r: 577.1  ir: 0.0    f: 526.6  exp: 31  tga: 1103  talp: 2696  tav: 53.3   num: 1 \tq: 0.91 \tr: 577.07 \tir: 0.00\n",
      "00100#10 1 11011#01         (empty)               q: 0.998 r: 204.1  ir: 0.0    f: 203.6  exp: 23  tga: 278   talp: 2694  tav: 1.05e+02 num: 1 \tq: 1.00 \tr: 204.06 \tir: 0.00\n",
      "00100010 1 11011#01         (empty)               q: 0.967 r: 204.1  ir: 0.0    f: 197.3  exp: 23  tga: 278   talp: 2694  tav: 1.05e+02 num: 1 \tq: 0.97 \tr: 204.06 \tir: 0.00\n"
     ]
    }
   ],
   "source": [
    "population = agent.population\n",
    "population.sort(key=lambda cl: -cl.fitness)\n",
    "\n",
    "for cl in population[:10]:\n",
    "    print(\"{!r} \\tq: {:.2f} \\tr: {:.2f} \\tir: {:.2f}\".format(cl, cl.q, cl.r, cl.ir))"
   ]
  },
  {
   "cell_type": "markdown",
   "metadata": {},
   "source": [
    "### Exploitation"
   ]
  },
  {
   "cell_type": "markdown",
   "metadata": {},
   "source": [
    "Now we can either reuse our previous agent or initialize it one more time passing the initial population of classifiers as *apriori* knowledge."
   ]
  },
  {
   "cell_type": "code",
   "execution_count": 41,
   "metadata": {},
   "outputs": [],
   "source": [
    "# Reinitialize agent using defined configuration and population\n",
    "agent = ACS2(cfg, population)"
   ]
  },
  {
   "cell_type": "code",
   "execution_count": 42,
   "metadata": {},
   "outputs": [
    {
     "name": "stdout",
     "output_type": "stream",
     "text": [
      "CPU times: user 31.8 ms, sys: 0 ns, total: 31.8 ms\n",
      "Wall time: 31.4 ms\n"
     ]
    },
    {
     "name": "stderr",
     "output_type": "stream",
     "text": [
      "/home/arc/Projects/pwr/pyalcs/lcs/agents/Agent.py:167: RuntimeWarning: divide by zero encountered in double_scalars\n",
      "  if current_trial % np.round(n_trials / 10) == 0:\n",
      "/home/arc/Projects/pwr/pyalcs/lcs/agents/Agent.py:167: RuntimeWarning: invalid value encountered in double_scalars\n",
      "  if current_trial % np.round(n_trials / 10) == 0:\n"
     ]
    }
   ],
   "source": [
    "%%time\n",
    "metrics = agent.exploit(maze, 1)"
   ]
  },
  {
   "cell_type": "code",
   "execution_count": 43,
   "metadata": {},
   "outputs": [
    {
     "data": {
      "text/plain": "{'trial': 1,\n 'steps_in_trial': 5,\n 'reward': 1000,\n 'perf_time': 0.00885445000017171,\n 'knowledge': 24.65753424657534,\n 'population': 525,\n 'numerosity': 525,\n 'reliable': 121}"
     },
     "execution_count": 43,
     "metadata": {},
     "output_type": "execute_result"
    }
   ],
   "source": [
    "metrics[-1]"
   ]
  },
  {
   "cell_type": "markdown",
   "metadata": {},
   "source": [
    "## Experiments"
   ]
  },
  {
   "cell_type": "code",
   "execution_count": 44,
   "metadata": {},
   "outputs": [],
   "source": [
    "def parse_metrics_to_df(explore_metrics, exploit_metrics):\n",
    "    def extract_details(row):\n",
    "        row['trial'] = row['trial']\n",
    "        row['steps'] = row['steps_in_trial']\n",
    "        row['numerosity'] = row['numerosity']\n",
    "        row['reliable'] = row['reliable']\n",
    "        row['knowledge'] = row['knowledge']\n",
    "        return row\n",
    "    \n",
    "    # Load both metrics into data frame\n",
    "    explore_df = pd.DataFrame(explore_metrics)\n",
    "    exploit_df = pd.DataFrame(exploit_metrics)\n",
    "    \n",
    "    # Mark them with specific phase\n",
    "    explore_df['phase'] = 'explore'\n",
    "    exploit_df['phase'] = 'exploit'\n",
    "    \n",
    "    # Extract details\n",
    "    explore_df = explore_df.apply(extract_details, axis=1)\n",
    "    exploit_df = exploit_df.apply(extract_details, axis=1)\n",
    "    \n",
    "    # Adjuts exploit trial counter\n",
    "    exploit_df['trial'] = exploit_df.apply(lambda r: r['trial']+len(explore_df), axis=1)\n",
    "    \n",
    "    # Concatenate both dataframes\n",
    "    df = pd.concat([explore_df, exploit_df])\n",
    "    df.set_index('trial', inplace=True)\n",
    "    \n",
    "    return df"
   ]
  },
  {
   "cell_type": "markdown",
   "metadata": {},
   "source": [
    "For various mazes visualize\n",
    "- classifiers / reliable classifiers for steps\n",
    "- optimal policy\n",
    "- steps (exploration | exploitation)\n",
    "- knowledge\n",
    "- parameters setting"
   ]
  },
  {
   "cell_type": "code",
   "execution_count": 45,
   "metadata": {},
   "outputs": [],
   "source": [
    "def find_best_classifier(population, situation):\n",
    "    match_set = population.form_match_set(situation)\n",
    "    anticipated_change_cls = [cl for cl in match_set if cl.does_anticipate_change()]\n",
    "    \n",
    "    if (len(anticipated_change_cls) > 0):\n",
    "        return max(anticipated_change_cls, key=lambda cl: cl.fitness)\n",
    "    \n",
    "    return None\n",
    "\n",
    "def build_fitness_matrix(env, population):\n",
    "    original = env.env.maze.matrix\n",
    "    fitness = original.copy()\n",
    "    \n",
    "    # Think about more 'functional' way of doing this\n",
    "    for index, x in np.ndenumerate(original):\n",
    "        # Path - best classfier fitness\n",
    "        if x == 0:\n",
    "            perception = env.env.maze.perception(index)\n",
    "            best_cl = find_best_classifier(population, perception)\n",
    "            if best_cl:\n",
    "                fitness[index] = best_cl.fitness\n",
    "            else:\n",
    "                fitness[index] = -1\n",
    "        \n",
    "        # Wall - fitness = 0\n",
    "        if x == 1:\n",
    "            fitness[index] = 0\n",
    "        \n",
    "        # Reward - inf fitness\n",
    "        if x == 9:\n",
    "            fitness[index] = fitness.max () + 500\n",
    "        \n",
    "    return fitness\n",
    "    \n",
    "def build_action_matrix(env, population):\n",
    "    ACTION_LOOKUP = { \n",
    "        0: u'↑', 1: u'↗', 2: u'→', 3: u'↘',\n",
    "        4: u'↓', 5: u'↙', 6: u'←', 7: u'↖'\n",
    "    }\n",
    "    \n",
    "    original = env.env.maze.matrix\n",
    "    action = original.copy().astype(str)\n",
    "    \n",
    "    # Think about more 'functional' way of doing this\n",
    "    for index, x in np.ndenumerate(original):\n",
    "        # Path - best classfier fitness\n",
    "        if x == 0:\n",
    "            perception = env.env.maze.perception(index)\n",
    "            best_cl = find_best_classifier(population, perception)\n",
    "            if best_cl:\n",
    "                action[index] = ACTION_LOOKUP[best_cl.action]\n",
    "            else:\n",
    "                action[index] = '?'\n",
    "        \n",
    "        # Wall - fitness = 0\n",
    "        if x == 1:\n",
    "            action[index] = '\\#'\n",
    "        \n",
    "        # Reward - inf fitness\n",
    "        if x == 9:\n",
    "            action[index] = 'R'\n",
    "        \n",
    "    return action"
   ]
  },
  {
   "cell_type": "markdown",
   "metadata": {},
   "source": [
    "## Plotting functions and settings"
   ]
  },
  {
   "cell_type": "code",
   "execution_count": 46,
   "metadata": {},
   "outputs": [],
   "source": [
    "# Plot constants\n",
    "TITLE_TEXT_SIZE=24\n",
    "AXIS_TEXT_SIZE=18\n",
    "LEGEND_TEXT_SIZE=16"
   ]
  },
  {
   "cell_type": "code",
   "execution_count": 47,
   "metadata": {},
   "outputs": [],
   "source": [
    "def plot_policy(env, agent, ax=None):\n",
    "    if ax is None:\n",
    "        ax = plt.gca()\n",
    "    \n",
    "    ax.set_aspect(\"equal\")\n",
    "    \n",
    "    # Handy variables\n",
    "    max_x, max_y = env.env.maze.matrix.shape\n",
    "    \n",
    "    fitness_matrix = build_fitness_matrix(env, agent.population)\n",
    "    action_matrix = build_action_matrix(env, agent.population)\n",
    "    \n",
    "    # Render maze as image\n",
    "    plt.imshow(fitness_matrix, interpolation='nearest', cmap='Reds', aspect='auto', extent=[0, max_x, max_y, 0])\n",
    "    \n",
    "    \n",
    "    # Add labels to each cell\n",
    "    for (y,x), val in np.ndenumerate(action_matrix):\n",
    "        plt.text(x+0.4, y+0.5, \"${}$\".format(val))\n",
    "    \n",
    "    ax.set_title(\"Policy\", fontsize=TITLE_TEXT_SIZE)\n",
    "    ax.set_xlabel('x', fontsize=AXIS_TEXT_SIZE)\n",
    "    ax.set_ylabel('y', fontsize=AXIS_TEXT_SIZE)\n",
    "\n",
    "    ax.set_xlim(0, max_x)\n",
    "    ax.set_ylim(max_y, 0)\n",
    "    \n",
    "    ax.set_xticks(range(0, max_x))\n",
    "    ax.set_yticks(range(0, max_y))\n",
    "    \n",
    "    ax.grid(True)"
   ]
  },
  {
   "cell_type": "code",
   "execution_count": 48,
   "metadata": {},
   "outputs": [],
   "source": [
    "def plot_knowledge(df, ax=None):\n",
    "    if ax is None:\n",
    "        ax = plt.gca()\n",
    "    \n",
    "    explore_df = df.query(\"phase == 'explore'\")\n",
    "    exploit_df = df.query(\"phase == 'exploit'\")\n",
    "        \n",
    "    explore_df['knowledge'].plot(ax=ax, c='blue')\n",
    "    exploit_df['knowledge'].plot(ax=ax, c='red')\n",
    "    ax.axvline(x=len(explore_df), c='black', linestyle='dashed')\n",
    "        \n",
    "    ax.set_title(\"Achieved knowledge\", fontsize=TITLE_TEXT_SIZE)\n",
    "    ax.set_xlabel(\"Trial\", fontsize=AXIS_TEXT_SIZE)\n",
    "    ax.set_ylabel(\"Knowledge [%]\", fontsize=AXIS_TEXT_SIZE)\n",
    "    ax.set_ylim([0, 105])"
   ]
  },
  {
   "cell_type": "code",
   "execution_count": 49,
   "metadata": {},
   "outputs": [],
   "source": [
    "def plot_steps(df, ax=None):\n",
    "    if ax is None:\n",
    "        ax = plt.gca()\n",
    "    \n",
    "    explore_df = df.query(\"phase == 'explore'\")\n",
    "    exploit_df = df.query(\"phase == 'exploit'\")\n",
    "    \n",
    "    explore_df['steps'].plot(ax=ax, c='blue', linewidth=.5)\n",
    "    exploit_df['steps'].plot(ax=ax, c='red', linewidth=0.5)\n",
    "    ax.axvline(x=len(explore_df), c='black', linestyle='dashed')\n",
    "    \n",
    "    ax.set_title(\"Steps\", fontsize=TITLE_TEXT_SIZE)\n",
    "    ax.set_xlabel(\"Trial\", fontsize=AXIS_TEXT_SIZE)\n",
    "    ax.set_ylabel(\"Steps\", fontsize=AXIS_TEXT_SIZE)"
   ]
  },
  {
   "cell_type": "code",
   "execution_count": 50,
   "metadata": {},
   "outputs": [],
   "source": [
    "def plot_classifiers(df, ax=None):\n",
    "    if ax is None:\n",
    "        ax = plt.gca()\n",
    "    \n",
    "    explore_df = df.query(\"phase == 'explore'\")\n",
    "    exploit_df = df.query(\"phase == 'exploit'\")\n",
    "    \n",
    "    df['numerosity'].plot(ax=ax, c='blue')\n",
    "    df['reliable'].plot(ax=ax, c='red')    \n",
    "    \n",
    "    ax.axvline(x=len(explore_df), c='black', linestyle='dashed')\n",
    "    \n",
    "    ax.set_title(\"Classifiers\", fontsize=TITLE_TEXT_SIZE)\n",
    "    ax.set_xlabel(\"Trial\", fontsize=AXIS_TEXT_SIZE)\n",
    "    ax.set_ylabel(\"Classifiers\", fontsize=AXIS_TEXT_SIZE)\n",
    "    ax.legend(fontsize=LEGEND_TEXT_SIZE)"
   ]
  },
  {
   "cell_type": "code",
   "execution_count": 51,
   "metadata": {},
   "outputs": [],
   "source": [
    "def plot_performance(agent, maze, metrics_df, env_name):\n",
    "    plt.figure(figsize=(13, 10), dpi=100)\n",
    "    plt.suptitle(f'ACS2 Performance in {env_name} environment', fontsize=32)\n",
    "    \n",
    "    ax1 = plt.subplot(221)\n",
    "    plot_policy(maze, agent, ax1)\n",
    "    \n",
    "    ax2 = plt.subplot(222)\n",
    "    plot_knowledge(metrics_df, ax2)\n",
    "    \n",
    "    ax3 = plt.subplot(223)\n",
    "    plot_classifiers(metrics_df, ax3)\n",
    "    \n",
    "    ax4 = plt.subplot(224)\n",
    "    plot_steps(metrics_df, ax4)\n",
    "    \n",
    "    plt.subplots_adjust(top=0.86, wspace=0.3, hspace=0.3)"
   ]
  },
  {
   "cell_type": "markdown",
   "metadata": {},
   "source": [
    "## Maze5"
   ]
  },
  {
   "cell_type": "code",
   "execution_count": 52,
   "metadata": {},
   "outputs": [
    {
     "name": "stderr",
     "output_type": "stream",
     "text": [
      "INFO:lcs.agents.Agent:{'trial': 300, 'steps_in_trial': 13, 'reward': 1000, 'perf_time': 0.02725609499998427, 'knowledge': 47.26027397260274, 'population': 426, 'numerosity': 426, 'reliable': 171}\n",
      "INFO:lcs.agents.Agent:{'trial': 600, 'steps_in_trial': 10, 'reward': 1000, 'perf_time': 0.01201483099998768, 'knowledge': 61.64383561643836, 'population': 401, 'numerosity': 401, 'reliable': 218}\n",
      "INFO:lcs.agents.Agent:{'trial': 900, 'steps_in_trial': 15, 'reward': 1000, 'perf_time': 0.029969477999884475, 'knowledge': 70.54794520547945, 'population': 412, 'numerosity': 412, 'reliable': 242}\n",
      "INFO:lcs.agents.Agent:{'trial': 1200, 'steps_in_trial': 1, 'reward': 1000, 'perf_time': 0.004408682999837765, 'knowledge': 77.3972602739726, 'population': 409, 'numerosity': 409, 'reliable': 260}\n",
      "INFO:lcs.agents.Agent:{'trial': 1500, 'steps_in_trial': 7, 'reward': 1000, 'perf_time': 0.007893695999882766, 'knowledge': 80.13698630136986, 'population': 396, 'numerosity': 396, 'reliable': 275}\n",
      "INFO:lcs.agents.Agent:{'trial': 1800, 'steps_in_trial': 12, 'reward': 1000, 'perf_time': 0.015074872000013784, 'knowledge': 81.5068493150685, 'population': 381, 'numerosity': 381, 'reliable': 282}\n",
      "INFO:lcs.agents.Agent:{'trial': 2100, 'steps_in_trial': 9, 'reward': 1000, 'perf_time': 0.010371613999950569, 'knowledge': 86.3013698630137, 'population': 378, 'numerosity': 378, 'reliable': 294}\n",
      "INFO:lcs.agents.Agent:{'trial': 2400, 'steps_in_trial': 5, 'reward': 1000, 'perf_time': 0.010595329999887326, 'knowledge': 86.3013698630137, 'population': 373, 'numerosity': 373, 'reliable': 298}\n",
      "INFO:lcs.agents.Agent:{'trial': 2700, 'steps_in_trial': 12, 'reward': 1000, 'perf_time': 0.01273798700003681, 'knowledge': 89.04109589041096, 'population': 369, 'numerosity': 369, 'reliable': 304}\n",
      "INFO:lcs.agents.Agent:{'trial': 3000, 'steps_in_trial': 6, 'reward': 1000, 'perf_time': 0.006601324000030218, 'knowledge': 89.04109589041096, 'population': 367, 'numerosity': 367, 'reliable': 305}\n"
     ]
    },
    {
     "name": "stdout",
     "output_type": "stream",
     "text": [
      "CPU times: user 3min 22s, sys: 45.2 ms, total: 3min 22s\n",
      "Wall time: 3min 22s\n"
     ]
    }
   ],
   "source": [
    "%%time\n",
    "\n",
    "# define environment\n",
    "maze5 = gym.make('Maze5-v0')\n",
    "\n",
    "# explore\n",
    "agent_maze5 = ACS2(cfg)\n",
    "metrics_maze5_explore = agent_maze5.explore(maze5, 3000)"
   ]
  },
  {
   "cell_type": "code",
   "execution_count": 53,
   "metadata": {},
   "outputs": [
    {
     "name": "stderr",
     "output_type": "stream",
     "text": [
      "INFO:lcs.agents.Agent:{'trial': 50, 'steps_in_trial': 5, 'reward': 1000, 'perf_time': 0.005225686999892787, 'knowledge': 89.04109589041096, 'population': 367, 'numerosity': 367, 'reliable': 305}\n",
      "INFO:lcs.agents.Agent:{'trial': 100, 'steps_in_trial': 6, 'reward': 1000, 'perf_time': 0.006825337000009313, 'knowledge': 89.04109589041096, 'population': 367, 'numerosity': 367, 'reliable': 305}\n",
      "INFO:lcs.agents.Agent:{'trial': 150, 'steps_in_trial': 2, 'reward': 1000, 'perf_time': 0.0020146639999438776, 'knowledge': 89.04109589041096, 'population': 367, 'numerosity': 367, 'reliable': 305}\n",
      "INFO:lcs.agents.Agent:{'trial': 200, 'steps_in_trial': 4, 'reward': 1000, 'perf_time': 0.004316746000085914, 'knowledge': 89.04109589041096, 'population': 367, 'numerosity': 367, 'reliable': 305}\n",
      "INFO:lcs.agents.Agent:{'trial': 250, 'steps_in_trial': 7, 'reward': 1000, 'perf_time': 0.007132406999971863, 'knowledge': 89.04109589041096, 'population': 367, 'numerosity': 367, 'reliable': 305}\n",
      "INFO:lcs.agents.Agent:{'trial': 300, 'steps_in_trial': 7, 'reward': 1000, 'perf_time': 0.007179404999988037, 'knowledge': 89.04109589041096, 'population': 367, 'numerosity': 367, 'reliable': 305}\n",
      "INFO:lcs.agents.Agent:{'trial': 350, 'steps_in_trial': 6, 'reward': 1000, 'perf_time': 0.007440473000087877, 'knowledge': 89.04109589041096, 'population': 367, 'numerosity': 367, 'reliable': 305}\n",
      "INFO:lcs.agents.Agent:{'trial': 400, 'steps_in_trial': 4, 'reward': 1000, 'perf_time': 0.004044985000064116, 'knowledge': 89.04109589041096, 'population': 367, 'numerosity': 367, 'reliable': 305}\n",
      "INFO:lcs.agents.Agent:{'trial': 450, 'steps_in_trial': 2, 'reward': 1000, 'perf_time': 0.002020478000076764, 'knowledge': 89.04109589041096, 'population': 367, 'numerosity': 367, 'reliable': 305}\n",
      "INFO:lcs.agents.Agent:{'trial': 500, 'steps_in_trial': 4, 'reward': 1000, 'perf_time': 0.004755242999863185, 'knowledge': 89.04109589041096, 'population': 367, 'numerosity': 367, 'reliable': 305}\n"
     ]
    }
   ],
   "source": [
    "# exploit\n",
    "agent_maze5 = ACS2(cfg, agent_maze5.population)\n",
    "metrics_maze5_exploit = agent_maze5.exploit(maze5, 500)"
   ]
  },
  {
   "cell_type": "code",
   "execution_count": 54,
   "metadata": {},
   "outputs": [],
   "source": [
    "maze5_metrics_df = parse_metrics_to_df(metrics_maze5_explore, metrics_maze5_exploit)"
   ]
  },
  {
   "cell_type": "code",
   "execution_count": 55,
   "metadata": {},
   "outputs": [
    {
     "data": {
      "text/plain": "<Figure size 1300x1000 with 4 Axes>",
      "image/png": "[encoded data removed]"
     },
     "metadata": {
      "needs_background": "light"
     },
     "output_type": "display_data"
    }
   ],
   "source": [
    "plot_performance(agent_maze5, maze5, maze5_metrics_df, 'Maze5')"
   ]
  },
  {
   "cell_type": "markdown",
   "metadata": {},
   "source": [
    "## Woods14"
   ]
  },
  {
   "cell_type": "code",
   "execution_count": 56,
   "metadata": {},
   "outputs": [
    {
     "ename": "UnregisteredEnv",
     "evalue": "No registered env with id: Woods14-v0",
     "output_type": "error",
     "traceback": [
      "\u001B[0;31m---------------------------------------------------------------------------\u001B[0m",
      "\u001B[0;31mKeyError\u001B[0m                                  Traceback (most recent call last)",
      "\u001B[0;32m~/miniconda3/envs/pyalcs-experiments/lib/python3.7/site-packages/gym-0.21.0-py3.7.egg/gym/envs/registration.py\u001B[0m in \u001B[0;36mspec\u001B[0;34m(self, path)\u001B[0m\n\u001B[1;32m    157\u001B[0m         \u001B[0;32mtry\u001B[0m\u001B[0;34m:\u001B[0m\u001B[0;34m\u001B[0m\u001B[0;34m\u001B[0m\u001B[0m\n\u001B[0;32m--> 158\u001B[0;31m             \u001B[0;32mreturn\u001B[0m \u001B[0mself\u001B[0m\u001B[0;34m.\u001B[0m\u001B[0menv_specs\u001B[0m\u001B[0;34m[\u001B[0m\u001B[0mid\u001B[0m\u001B[0;34m]\u001B[0m\u001B[0;34m\u001B[0m\u001B[0;34m\u001B[0m\u001B[0m\n\u001B[0m\u001B[1;32m    159\u001B[0m         \u001B[0;32mexcept\u001B[0m \u001B[0mKeyError\u001B[0m\u001B[0;34m:\u001B[0m\u001B[0;34m\u001B[0m\u001B[0;34m\u001B[0m\u001B[0m\n",
      "\u001B[0;31mKeyError\u001B[0m: 'Woods14-v0'",
      "\nDuring handling of the above exception, another exception occurred:\n",
      "\u001B[0;31mUnregisteredEnv\u001B[0m                           Traceback (most recent call last)",
      "\u001B[0;32m<timed exec>\u001B[0m in \u001B[0;36m<module>\u001B[0;34m\u001B[0m\n",
      "\u001B[0;32m~/miniconda3/envs/pyalcs-experiments/lib/python3.7/site-packages/gym-0.21.0-py3.7.egg/gym/envs/registration.py\u001B[0m in \u001B[0;36mmake\u001B[0;34m(id, **kwargs)\u001B[0m\n\u001B[1;32m    233\u001B[0m \u001B[0;34m\u001B[0m\u001B[0m\n\u001B[1;32m    234\u001B[0m \u001B[0;32mdef\u001B[0m \u001B[0mmake\u001B[0m\u001B[0;34m(\u001B[0m\u001B[0mid\u001B[0m\u001B[0;34m,\u001B[0m \u001B[0;34m**\u001B[0m\u001B[0mkwargs\u001B[0m\u001B[0;34m)\u001B[0m\u001B[0;34m:\u001B[0m\u001B[0;34m\u001B[0m\u001B[0;34m\u001B[0m\u001B[0m\n\u001B[0;32m--> 235\u001B[0;31m     \u001B[0;32mreturn\u001B[0m \u001B[0mregistry\u001B[0m\u001B[0;34m.\u001B[0m\u001B[0mmake\u001B[0m\u001B[0;34m(\u001B[0m\u001B[0mid\u001B[0m\u001B[0;34m,\u001B[0m \u001B[0;34m**\u001B[0m\u001B[0mkwargs\u001B[0m\u001B[0;34m)\u001B[0m\u001B[0;34m\u001B[0m\u001B[0;34m\u001B[0m\u001B[0m\n\u001B[0m\u001B[1;32m    236\u001B[0m \u001B[0;34m\u001B[0m\u001B[0m\n\u001B[1;32m    237\u001B[0m \u001B[0;34m\u001B[0m\u001B[0m\n",
      "\u001B[0;32m~/miniconda3/envs/pyalcs-experiments/lib/python3.7/site-packages/gym-0.21.0-py3.7.egg/gym/envs/registration.py\u001B[0m in \u001B[0;36mmake\u001B[0;34m(self, path, **kwargs)\u001B[0m\n\u001B[1;32m    126\u001B[0m         \u001B[0;32melse\u001B[0m\u001B[0;34m:\u001B[0m\u001B[0;34m\u001B[0m\u001B[0;34m\u001B[0m\u001B[0m\n\u001B[1;32m    127\u001B[0m             \u001B[0mlogger\u001B[0m\u001B[0;34m.\u001B[0m\u001B[0minfo\u001B[0m\u001B[0;34m(\u001B[0m\u001B[0;34m\"Making new env: %s\"\u001B[0m\u001B[0;34m,\u001B[0m \u001B[0mpath\u001B[0m\u001B[0;34m)\u001B[0m\u001B[0;34m\u001B[0m\u001B[0;34m\u001B[0m\u001B[0m\n\u001B[0;32m--> 128\u001B[0;31m         \u001B[0mspec\u001B[0m \u001B[0;34m=\u001B[0m \u001B[0mself\u001B[0m\u001B[0;34m.\u001B[0m\u001B[0mspec\u001B[0m\u001B[0;34m(\u001B[0m\u001B[0mpath\u001B[0m\u001B[0;34m)\u001B[0m\u001B[0;34m\u001B[0m\u001B[0;34m\u001B[0m\u001B[0m\n\u001B[0m\u001B[1;32m    129\u001B[0m         \u001B[0menv\u001B[0m \u001B[0;34m=\u001B[0m \u001B[0mspec\u001B[0m\u001B[0;34m.\u001B[0m\u001B[0mmake\u001B[0m\u001B[0;34m(\u001B[0m\u001B[0;34m**\u001B[0m\u001B[0mkwargs\u001B[0m\u001B[0;34m)\u001B[0m\u001B[0;34m\u001B[0m\u001B[0;34m\u001B[0m\u001B[0m\n\u001B[1;32m    130\u001B[0m         \u001B[0;32mreturn\u001B[0m \u001B[0menv\u001B[0m\u001B[0;34m\u001B[0m\u001B[0;34m\u001B[0m\u001B[0m\n",
      "\u001B[0;32m~/miniconda3/envs/pyalcs-experiments/lib/python3.7/site-packages/gym-0.21.0-py3.7.egg/gym/envs/registration.py\u001B[0m in \u001B[0;36mspec\u001B[0;34m(self, path)\u001B[0m\n\u001B[1;32m    201\u001B[0m                 )\n\u001B[1;32m    202\u001B[0m             \u001B[0;32melse\u001B[0m\u001B[0;34m:\u001B[0m\u001B[0;34m\u001B[0m\u001B[0;34m\u001B[0m\u001B[0m\n\u001B[0;32m--> 203\u001B[0;31m                 \u001B[0;32mraise\u001B[0m \u001B[0merror\u001B[0m\u001B[0;34m.\u001B[0m\u001B[0mUnregisteredEnv\u001B[0m\u001B[0;34m(\u001B[0m\u001B[0;34m\"No registered env with id: {}\"\u001B[0m\u001B[0;34m.\u001B[0m\u001B[0mformat\u001B[0m\u001B[0;34m(\u001B[0m\u001B[0mid\u001B[0m\u001B[0;34m)\u001B[0m\u001B[0;34m)\u001B[0m\u001B[0;34m\u001B[0m\u001B[0;34m\u001B[0m\u001B[0m\n\u001B[0m\u001B[1;32m    204\u001B[0m \u001B[0;34m\u001B[0m\u001B[0m\n\u001B[1;32m    205\u001B[0m     \u001B[0;32mdef\u001B[0m \u001B[0mregister\u001B[0m\u001B[0;34m(\u001B[0m\u001B[0mself\u001B[0m\u001B[0;34m,\u001B[0m \u001B[0mid\u001B[0m\u001B[0;34m,\u001B[0m \u001B[0;34m**\u001B[0m\u001B[0mkwargs\u001B[0m\u001B[0;34m)\u001B[0m\u001B[0;34m:\u001B[0m\u001B[0;34m\u001B[0m\u001B[0;34m\u001B[0m\u001B[0m\n",
      "\u001B[0;31mUnregisteredEnv\u001B[0m: No registered env with id: Woods14-v0"
     ]
    }
   ],
   "source": [
    "%%time\n",
    "\n",
    "# define environment\n",
    "woods14 = gym.make('Woods14-v0')\n",
    "\n",
    "# explore\n",
    "agent_woods14 = ACS2(cfg)\n",
    "population_woods14_explore, metrics_woods14_explore = agent_woods14.explore(woods14, 10_000)"
   ]
  },
  {
   "cell_type": "code",
   "execution_count": 57,
   "metadata": {},
   "outputs": [
    {
     "ename": "NameError",
     "evalue": "name 'population_woods14_explore' is not defined",
     "output_type": "error",
     "traceback": [
      "\u001B[0;31m---------------------------------------------------------------------------\u001B[0m",
      "\u001B[0;31mNameError\u001B[0m                                 Traceback (most recent call last)",
      "\u001B[0;32m<ipython-input-57-4344305b75fa>\u001B[0m in \u001B[0;36m<module>\u001B[0;34m\u001B[0m\n\u001B[1;32m      1\u001B[0m \u001B[0;31m# exploit\u001B[0m\u001B[0;34m\u001B[0m\u001B[0;34m\u001B[0m\u001B[0;34m\u001B[0m\u001B[0m\n\u001B[0;32m----> 2\u001B[0;31m \u001B[0magent_woods14\u001B[0m \u001B[0;34m=\u001B[0m \u001B[0mACS2\u001B[0m\u001B[0;34m(\u001B[0m\u001B[0mcfg\u001B[0m\u001B[0;34m,\u001B[0m \u001B[0mpopulation_woods14_explore\u001B[0m\u001B[0;34m)\u001B[0m\u001B[0;34m\u001B[0m\u001B[0;34m\u001B[0m\u001B[0m\n\u001B[0m\u001B[1;32m      3\u001B[0m \u001B[0m_\u001B[0m\u001B[0;34m,\u001B[0m \u001B[0mmetrics_woods14_exploit\u001B[0m \u001B[0;34m=\u001B[0m \u001B[0magent_woods14\u001B[0m\u001B[0;34m.\u001B[0m\u001B[0mexploit\u001B[0m\u001B[0;34m(\u001B[0m\u001B[0mwoods14\u001B[0m\u001B[0;34m,\u001B[0m \u001B[0;36m200\u001B[0m\u001B[0;34m)\u001B[0m\u001B[0;34m\u001B[0m\u001B[0;34m\u001B[0m\u001B[0m\n",
      "\u001B[0;31mNameError\u001B[0m: name 'population_woods14_explore' is not defined"
     ]
    }
   ],
   "source": [
    "# exploit\n",
    "agent_woods14 = ACS2(cfg, population_woods14_explore)\n",
    "_, metrics_woods14_exploit = agent_woods14.exploit(woods14, 200)"
   ]
  },
  {
   "cell_type": "code",
   "execution_count": null,
   "metadata": {},
   "outputs": [],
   "source": [
    "woods14_metrics_df = parse_metrics_to_df(metrics_woods14_explore, metrics_woods14_exploit)"
   ]
  },
  {
   "cell_type": "code",
   "execution_count": null,
   "metadata": {},
   "outputs": [],
   "source": [
    "plot_performance(agent_woods14, woods14, woods14_metrics_df, cfg, 'Woods14')\n"
   ]
  }
 ],
 "metadata": {
  "kernelspec": {
   "display_name": "Python 3",
   "language": "python",
   "name": "python3"
  },
  "language_info": {
   "codemirror_mode": {
    "name": "ipython",
    "version": 3
   },
   "file_extension": ".py",
   "mimetype": "text/x-python",
   "name": "python",
   "nbconvert_exporter": "python",
   "pygments_lexer": "ipython3",
   "version": "3.7.10"
  }
 },
 "nbformat": 4,
 "nbformat_minor": 4
}