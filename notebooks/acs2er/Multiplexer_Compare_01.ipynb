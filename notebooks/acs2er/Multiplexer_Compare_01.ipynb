{
 "cells": [
  {
   "cell_type": "markdown",
   "metadata": {},
   "source": [
    "# ACS2 vs ACS2ER in Multiplexer"
   ]
  },
  {
   "cell_type": "code",
   "execution_count": 1,
   "metadata": {},
   "outputs": [],
   "source": [
    "%matplotlib inline\n",
    "\n",
    "import numpy as np\n",
    "import matplotlib\n",
    "import matplotlib.pyplot as plt\n",
    "\n",
    "import gym\n",
    "import gym_multiplexer\n",
    "from gym_multiplexer.utils import get_correct_answer\n",
    "from lcs import Perception\n",
    "\n",
    "from lcs.agents.acs2 import ACS2, Configuration as CFG_ACS2\n",
    "from lcs.agents.acs2er import ACS2ER, Configuration as CFG_ACS2ER\n"
   ]
  },
  {
   "cell_type": "markdown",
   "metadata": {},
   "source": [
    "# EXPERIMENT CONFIGURATION"
   ]
  },
  {
   "cell_type": "code",
   "execution_count": 2,
   "metadata": {},
   "outputs": [],
   "source": [
    "RUN = 3\n",
    "\n",
    "EXPERIMENTS = 25\n",
    "\n",
    "BITS = 11 # 6 | 11 | 20\n",
    "\n",
    "EXPLORE_TRIALS = 500\n",
    "EXPLOIT_TRIALS = 100\n",
    "\n",
    "# The size of ER replay memory buffer\n",
    "ER_BUFFER_SIZE=250\n",
    "# The minimum number of samples of ER replay memory buffer to start replying samples (warm-up phase)\n",
    "ER_BUFFER_MIN_SAMPLES=25\n",
    "# The number of samples to be replayed druing ER phase\n",
    "ER_SAMPLES_NUMBER=3"
   ]
  },
  {
   "cell_type": "markdown",
   "metadata": {},
   "source": [
    "## Metrics and helpers"
   ]
  },
  {
   "cell_type": "code",
   "execution_count": 3,
   "metadata": {},
   "outputs": [],
   "source": [
    "def reliable_cl_exists(env, population, ctrl_bits=None) -> bool:\n",
    "    p1 = env.render('ansi')  # state after executing action\n",
    "    p1 = [str(x) for x in p1]  # cast to strings\n",
    "    p0 = p1[:-1] + ['0']  # initial state\n",
    "    correct_answer = get_correct_answer(p0, ctrl_bits)  # true action\n",
    "\n",
    "    reliable_classifiers = [c for c in population if c.is_reliable()]\n",
    "\n",
    "    return any([1 for cl in reliable_classifiers if\n",
    "                cl.predicts_successfully(\n",
    "                    Perception(p0),\n",
    "                    correct_answer,\n",
    "                    Perception(p1))])\n",
    "\n",
    "def mpx_metrics(agent, env):\n",
    "    return {\n",
    "        'population': len(agent.population),\n",
    "        'reliable_cl_exists': reliable_cl_exists(env, agent.population, ctrl_bits=2)\n",
    "    }\n",
    "\n",
    "def get_avg_reward(metrics):\n",
    "    return np.mean(list(map(lambda m: m['reward'], metrics)))\n",
    "\n",
    "\n",
    "class MpxObservationWrapper(gym.ObservationWrapper):\n",
    "    def observation(self, observation):\n",
    "        return [str(x) for x in observation]"
   ]
  },
  {
   "cell_type": "markdown",
   "metadata": {},
   "source": [
    "### Results arrays"
   ]
  },
  {
   "cell_type": "code",
   "execution_count": 4,
   "metadata": {},
   "outputs": [],
   "source": [
    "acs2_explore_results = np.zeros(EXPERIMENTS)\n",
    "acs2_exploit_results = np.zeros(EXPERIMENTS)\n",
    "acs2er_explore_results = np.zeros(EXPERIMENTS)\n",
    "acs2er_exploit_results = np.zeros(EXPERIMENTS)"
   ]
  },
  {
   "cell_type": "markdown",
   "metadata": {},
   "source": [
    "ACS2 Experiments"
   ]
  },
  {
   "cell_type": "code",
   "execution_count": 10,
   "metadata": {},
   "outputs": [
    {
     "name": "stdout",
     "output_type": "stream",
     "text": [
      "EX:  0 , ACS2 EXPLORE AVG REWARD:  538.0\n",
      "EX:  0 , ACS2 EXPLOIT AVG REWARD:  730.0\n",
      "EX:  1 , ACS2 EXPLORE AVG REWARD:  530.0\n",
      "EX:  1 , ACS2 EXPLOIT AVG REWARD:  760.0\n",
      "EX:  2 , ACS2 EXPLORE AVG REWARD:  516.0\n",
      "EX:  2 , ACS2 EXPLOIT AVG REWARD:  610.0\n",
      "EX:  3 , ACS2 EXPLORE AVG REWARD:  542.0\n",
      "EX:  3 , ACS2 EXPLOIT AVG REWARD:  720.0\n",
      "EX:  4 , ACS2 EXPLORE AVG REWARD:  562.0\n",
      "EX:  4 , ACS2 EXPLOIT AVG REWARD:  740.0\n",
      "EX:  5 , ACS2 EXPLORE AVG REWARD:  550.0\n",
      "EX:  5 , ACS2 EXPLOIT AVG REWARD:  830.0\n",
      "EX:  6 , ACS2 EXPLORE AVG REWARD:  516.0\n",
      "EX:  6 , ACS2 EXPLOIT AVG REWARD:  720.0\n",
      "EX:  7 , ACS2 EXPLORE AVG REWARD:  534.0\n",
      "EX:  7 , ACS2 EXPLOIT AVG REWARD:  730.0\n",
      "EX:  8 , ACS2 EXPLORE AVG REWARD:  598.0\n",
      "EX:  8 , ACS2 EXPLOIT AVG REWARD:  840.0\n",
      "EX:  9 , ACS2 EXPLORE AVG REWARD:  520.0\n",
      "EX:  9 , ACS2 EXPLOIT AVG REWARD:  810.0\n",
      "EX:  10 , ACS2 EXPLORE AVG REWARD:  596.0\n",
      "EX:  10 , ACS2 EXPLOIT AVG REWARD:  820.0\n",
      "EX:  11 , ACS2 EXPLORE AVG REWARD:  570.0\n",
      "EX:  11 , ACS2 EXPLOIT AVG REWARD:  830.0\n",
      "EX:  12 , ACS2 EXPLORE AVG REWARD:  542.0\n",
      "EX:  12 , ACS2 EXPLOIT AVG REWARD:  620.0\n",
      "EX:  13 , ACS2 EXPLORE AVG REWARD:  578.0\n",
      "EX:  13 , ACS2 EXPLOIT AVG REWARD:  770.0\n",
      "EX:  14 , ACS2 EXPLORE AVG REWARD:  548.0\n",
      "EX:  14 , ACS2 EXPLOIT AVG REWARD:  770.0\n",
      "EX:  15 , ACS2 EXPLORE AVG REWARD:  530.0\n",
      "EX:  15 , ACS2 EXPLOIT AVG REWARD:  730.0\n",
      "EX:  16 , ACS2 EXPLORE AVG REWARD:  536.0\n",
      "EX:  16 , ACS2 EXPLOIT AVG REWARD:  700.0\n",
      "EX:  17 , ACS2 EXPLORE AVG REWARD:  542.0\n",
      "EX:  17 , ACS2 EXPLOIT AVG REWARD:  720.0\n",
      "EX:  18 , ACS2 EXPLORE AVG REWARD:  582.0\n",
      "EX:  18 , ACS2 EXPLOIT AVG REWARD:  760.0\n",
      "EX:  19 , ACS2 EXPLORE AVG REWARD:  564.0\n",
      "EX:  19 , ACS2 EXPLOIT AVG REWARD:  810.0\n",
      "EX:  20 , ACS2 EXPLORE AVG REWARD:  570.0\n",
      "EX:  20 , ACS2 EXPLOIT AVG REWARD:  740.0\n",
      "EX:  21 , ACS2 EXPLORE AVG REWARD:  514.0\n",
      "EX:  21 , ACS2 EXPLOIT AVG REWARD:  730.0\n",
      "EX:  22 , ACS2 EXPLORE AVG REWARD:  574.0\n",
      "EX:  22 , ACS2 EXPLOIT AVG REWARD:  790.0\n",
      "EX:  23 , ACS2 EXPLORE AVG REWARD:  524.0\n",
      "EX:  23 , ACS2 EXPLOIT AVG REWARD:  700.0\n",
      "EX:  24 , ACS2 EXPLORE AVG REWARD:  560.0\n",
      "EX:  24 , ACS2 EXPLOIT AVG REWARD:  760.0\n"
     ]
    }
   ],
   "source": [
    "for e in range(EXPERIMENTS):\n",
    "    ### ACS2 ###\n",
    "    # Load desired environment\n",
    "    mp = MpxObservationWrapper(gym.make(F'boolean-multiplexer-{BITS}bit-v0'))\n",
    "    # Create agent \n",
    "    cfg_acs2 = CFG_ACS2(classifier_length=mp.env.observation_space.n,\n",
    "                        number_of_possible_actions=2,\n",
    "                        do_ga=False,\n",
    "                        metrics_trial_frequency=1,\n",
    "                        user_metrics_collector_fcn=mpx_metrics)\n",
    "    agent_acs2 = ACS2(cfg_acs2)\n",
    "    # Explore the environment\n",
    "    explore_metrics = agent_acs2.explore(mp, EXPLORE_TRIALS)\n",
    "    # Exploit the environment\n",
    "    exploit_metrics = agent_acs2.exploit(mp, EXPLOIT_TRIALS)\n",
    "\n",
    "    explore_avg_award = get_avg_reward(explore_metrics)\n",
    "    exploit_avg_award = get_avg_reward(exploit_metrics)\n",
    "\n",
    "    print(\"EX: \", e, \", ACS2 EXPLORE AVG REWARD: \", explore_avg_award)\n",
    "    print(\"EX: \", e, \", ACS2 EXPLOIT AVG REWARD: \", exploit_avg_award)\n",
    "\n",
    "    acs2_explore_results[e] = explore_avg_award\n",
    "    acs2_exploit_results[e] = exploit_avg_award"
   ]
  },
  {
   "cell_type": "markdown",
   "metadata": {},
   "source": [
    "ACS2ER Experiments"
   ]
  },
  {
   "cell_type": "code",
   "execution_count": 6,
   "metadata": {},
   "outputs": [
    {
     "name": "stdout",
     "output_type": "stream",
     "text": [
      "EX:  0 , ACS2ER EXPLORE AVG REWARD:  606.0\n",
      "EX:  0 , ACS2ER EXPLOIT AVG REWARD:  850.0\n",
      "EX:  1 , ACS2ER EXPLORE AVG REWARD:  606.0\n",
      "EX:  1 , ACS2ER EXPLOIT AVG REWARD:  920.0\n",
      "EX:  2 , ACS2ER EXPLORE AVG REWARD:  550.0\n",
      "EX:  2 , ACS2ER EXPLOIT AVG REWARD:  800.0\n",
      "EX:  3 , ACS2ER EXPLORE AVG REWARD:  550.0\n",
      "EX:  3 , ACS2ER EXPLOIT AVG REWARD:  780.0\n",
      "EX:  4 , ACS2ER EXPLORE AVG REWARD:  544.0\n",
      "EX:  4 , ACS2ER EXPLOIT AVG REWARD:  900.0\n",
      "EX:  5 , ACS2ER EXPLORE AVG REWARD:  552.0\n",
      "EX:  5 , ACS2ER EXPLOIT AVG REWARD:  860.0\n",
      "EX:  6 , ACS2ER EXPLORE AVG REWARD:  640.0\n",
      "EX:  6 , ACS2ER EXPLOIT AVG REWARD:  880.0\n",
      "EX:  7 , ACS2ER EXPLORE AVG REWARD:  580.0\n",
      "EX:  7 , ACS2ER EXPLOIT AVG REWARD:  800.0\n",
      "EX:  8 , ACS2ER EXPLORE AVG REWARD:  542.0\n",
      "EX:  8 , ACS2ER EXPLOIT AVG REWARD:  850.0\n",
      "EX:  9 , ACS2ER EXPLORE AVG REWARD:  600.0\n",
      "EX:  9 , ACS2ER EXPLOIT AVG REWARD:  980.0\n",
      "EX:  10 , ACS2ER EXPLORE AVG REWARD:  584.0\n",
      "EX:  10 , ACS2ER EXPLOIT AVG REWARD:  820.0\n",
      "EX:  11 , ACS2ER EXPLORE AVG REWARD:  566.0\n",
      "EX:  11 , ACS2ER EXPLOIT AVG REWARD:  790.0\n",
      "EX:  12 , ACS2ER EXPLORE AVG REWARD:  572.0\n",
      "EX:  12 , ACS2ER EXPLOIT AVG REWARD:  870.0\n",
      "EX:  13 , ACS2ER EXPLORE AVG REWARD:  626.0\n",
      "EX:  13 , ACS2ER EXPLOIT AVG REWARD:  900.0\n",
      "EX:  14 , ACS2ER EXPLORE AVG REWARD:  604.0\n",
      "EX:  14 , ACS2ER EXPLOIT AVG REWARD:  820.0\n",
      "EX:  15 , ACS2ER EXPLORE AVG REWARD:  586.0\n",
      "EX:  15 , ACS2ER EXPLOIT AVG REWARD:  930.0\n",
      "EX:  16 , ACS2ER EXPLORE AVG REWARD:  602.0\n",
      "EX:  16 , ACS2ER EXPLOIT AVG REWARD:  950.0\n",
      "EX:  17 , ACS2ER EXPLORE AVG REWARD:  586.0\n",
      "EX:  17 , ACS2ER EXPLOIT AVG REWARD:  920.0\n",
      "EX:  18 , ACS2ER EXPLORE AVG REWARD:  606.0\n",
      "EX:  18 , ACS2ER EXPLOIT AVG REWARD:  950.0\n",
      "EX:  19 , ACS2ER EXPLORE AVG REWARD:  616.0\n",
      "EX:  19 , ACS2ER EXPLOIT AVG REWARD:  880.0\n",
      "EX:  20 , ACS2ER EXPLORE AVG REWARD:  560.0\n",
      "EX:  20 , ACS2ER EXPLOIT AVG REWARD:  840.0\n",
      "EX:  21 , ACS2ER EXPLORE AVG REWARD:  602.0\n",
      "EX:  21 , ACS2ER EXPLOIT AVG REWARD:  870.0\n",
      "EX:  22 , ACS2ER EXPLORE AVG REWARD:  546.0\n",
      "EX:  22 , ACS2ER EXPLOIT AVG REWARD:  790.0\n",
      "EX:  23 , ACS2ER EXPLORE AVG REWARD:  604.0\n",
      "EX:  23 , ACS2ER EXPLOIT AVG REWARD:  930.0\n",
      "EX:  24 , ACS2ER EXPLORE AVG REWARD:  520.0\n",
      "EX:  24 , ACS2ER EXPLOIT AVG REWARD:  830.0\n"
     ]
    }
   ],
   "source": [
    "for e in range(EXPERIMENTS):\n",
    "    ### ACS2ER ###\n",
    "    # Load desired environment\n",
    "    mp = MpxObservationWrapper(gym.make(F'boolean-multiplexer-{BITS}bit-v0'))\n",
    "    # Create agent ACS2ER\n",
    "    cfg_acs2er = CFG_ACS2ER(classifier_length=mp.env.observation_space.n,\n",
    "                        number_of_possible_actions=2,\n",
    "                        do_ga=False,\n",
    "                        metrics_trial_frequency=1,\n",
    "                        er_buffer_size=ER_BUFFER_SIZE,\n",
    "                        er_min_samples=ER_BUFFER_MIN_SAMPLES,\n",
    "                        er_samples_number=ER_SAMPLES_NUMBER,\n",
    "                        user_metrics_collector_fcn=mpx_metrics)\n",
    "    agent_acs2er = ACS2ER(cfg_acs2er)\n",
    "    # Explore the environment\n",
    "    explore_metrics = agent_acs2er.explore(mp, EXPLORE_TRIALS)\n",
    "    # Exploit the environment\n",
    "    exploit_metrics = agent_acs2er.exploit(mp, EXPLOIT_TRIALS)\n",
    "\n",
    "    explore_avg_award = get_avg_reward(explore_metrics)\n",
    "    exploit_avg_award = get_avg_reward(exploit_metrics)\n",
    "\n",
    "    print(\"EX: \", e, \", ACS2ER EXPLORE AVG REWARD: \", explore_avg_award)\n",
    "    print(\"EX: \", e, \", ACS2ER EXPLOIT AVG REWARD: \", exploit_avg_award)\n",
    "\n",
    "    acs2er_explore_results[e] = explore_avg_award\n",
    "    acs2er_exploit_results[e] = exploit_avg_award\n",
    "\n",
    "    "
   ]
  },
  {
   "cell_type": "code",
   "execution_count": 9,
   "metadata": {},
   "outputs": [
    {
     "name": "stdout",
     "output_type": "stream",
     "text": [
      "[606. 606. 550. 550. 544. 552. 640. 580. 542. 600. 584. 566. 572. 626.\n",
      " 604. 586. 602. 586. 606. 616. 560. 602. 546. 604. 520.]\n",
      "[850. 920. 800. 780. 900. 860. 880. 800. 850. 980. 820. 790. 870. 900.\n",
      " 820. 930. 950. 920. 950. 880. 840. 870. 790. 930. 830.]\n",
      "[606. 606. 550. 550. 544. 552. 640. 580. 542. 600. 584. 566. 572. 626.\n",
      " 604. 586. 602. 586. 606. 616. 560. 602. 546. 604. 520.]\n",
      "[850. 920. 800. 780. 900. 860. 880. 800. 850. 980. 820. 790. 870. 900.\n",
      " 820. 930. 950. 920. 950. 880. 840. 870. 790. 930. 830.]\n"
     ]
    }
   ],
   "source": [
    "print(acs2_explore_results)\n",
    "print(acs2_exploit_results)\n",
    "print(acs2er_explore_results)\n",
    "print(acs2er_exploit_results)\n",
    "    "
   ]
  },
  {
   "cell_type": "code",
   "execution_count": 15,
   "metadata": {},
   "outputs": [
    {
     "data": {
      "image/png": "[encoded data removed]",
      "text/plain": [
       "<Figure size 432x288 with 1 Axes>"
      ]
     },
     "metadata": {
      "needs_background": "light"
     },
     "output_type": "display_data"
    },
    {
     "data": {
      "image/png": "[encoded data removed]",
      "text/plain": [
       "<Figure size 432x288 with 1 Axes>"
      ]
     },
     "metadata": {
      "needs_background": "light"
     },
     "output_type": "display_data"
    }
   ],
   "source": [
    "x_axis = range(EXPERIMENTS)\n",
    "\n",
    "plt.title(\"Multiplexer - EXPLORE\")\n",
    "plt.scatter(x_axis, acs2_explore_results, c='r', label=\"ACS2\")\n",
    "plt.scatter(x_axis, acs2er_explore_results, c='b', label=\"ACS2ER\")\n",
    "plt.legend()\n",
    "plt.xlabel(\"experiment\")\n",
    "plt.ylabel(\"avg. reward\")\n",
    "plt.show()\n",
    "# plt.savefig(f\"EXPLORE_{RUN}.png\")\n",
    "plt.close()\n",
    "\n",
    "plt.title(\"Multiplexer - EXPLOIT\")\n",
    "plt.scatter(x_axis, acs2_exploit_results, c='r', label=\"ACS2\")\n",
    "plt.scatter(x_axis, acs2er_exploit_results, c='b', label=\"ACS2ER\")\n",
    "plt.xlabel(\"experiment\")\n",
    "plt.ylabel(\"avg. reward\")\n",
    "plt.legend()\n",
    "plt.show()\n",
    "# plt.savefig(f\"EXPLOIT_{RUN}.png\")"
   ]
  }
 ],
 "metadata": {
  "kernelspec": {
   "display_name": "Python 3",
   "language": "python",
   "name": "python3"
  },
  "language_info": {
   "codemirror_mode": {
    "name": "ipython",
    "version": 3
   },
   "file_extension": ".py",
   "mimetype": "text/x-python",
   "name": "python",
   "nbconvert_exporter": "python",
   "pygments_lexer": "ipython3",
   "version": "3.7.12"
  }
 },
 "nbformat": 4,
 "nbformat_minor": 4
}
