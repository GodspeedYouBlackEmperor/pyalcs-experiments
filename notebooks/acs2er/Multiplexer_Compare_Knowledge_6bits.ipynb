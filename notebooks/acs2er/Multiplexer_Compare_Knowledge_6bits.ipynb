{
 "cells": [
  {
   "cell_type": "markdown",
   "metadata": {},
   "source": [
    "# ACS2 vs ACS2ER in Multiplexer"
   ]
  },
  {
   "cell_type": "code",
   "execution_count": 1,
   "metadata": {},
   "outputs": [],
   "source": [
    "%matplotlib inline\n",
    "\n",
    "import numpy as np\n",
    "import matplotlib\n",
    "import matplotlib.pyplot as plt\n",
    "from lcs.metrics import population_metrics\n",
    "\n",
    "import gym\n",
    "import gym_multiplexer\n",
    "from gym_multiplexer.utils import get_correct_answer\n",
    "from lcs import Perception\n",
    "\n",
    "from lcs.agents.acs2 import ACS2, Configuration as CFG_ACS2\n",
    "from lcs.agents.acs2er import ACS2ER, Configuration as CFG_ACS2ER\n"
   ]
  },
  {
   "cell_type": "markdown",
   "metadata": {},
   "source": [
    "# EXPERIMENT CONFIGURATION"
   ]
  },
  {
   "cell_type": "code",
   "execution_count": 2,
   "metadata": {},
   "outputs": [],
   "source": [
    "RUN = 10\n",
    "\n",
    "EXPERIMENTS = 1\n",
    "\n",
    "BITS = 6 # 6 | 11 | 20 | 37\n",
    "\n",
    "EXPLORE_TRIALS = 1000\n",
    "EXPLOIT_TRIALS = 100\n",
    "\n",
    "# The size of ER replay memory buffer\n",
    "ER_BUFFER_SIZE=250\n",
    "# The minimum number of samples of ER replay memory buffer to start replying samples (warm-up phase)\n",
    "ER_BUFFER_MIN_SAMPLES=25\n",
    "# The number of samples to be replayed druing ER phase\n",
    "ER_SAMPLES_NUMBER=3\n"
   ]
  },
  {
   "cell_type": "markdown",
   "metadata": {},
   "source": [
    "## Metrics and helpers"
   ]
  },
  {
   "cell_type": "code",
   "execution_count": 3,
   "metadata": {},
   "outputs": [],
   "source": [
    "import itertools\n",
    "\n",
    "def mpx_knowledge(population, environment) -> float:\n",
    "    # Take into consideration only reliable classifiers\n",
    "    reliable_classifiers = [c for c in population if c.is_reliable()]\n",
    "\n",
    "    if(len(reliable_classifiers) == 0):\n",
    "        return 0\n",
    "\n",
    "    states = list(itertools.product([0, 1], repeat=BITS))\n",
    "    states_len = len(states)\n",
    "\n",
    "    nr_correct = 0\n",
    "\n",
    "    for state in states:\n",
    "        state = list(state)\n",
    "        state.append(0)\n",
    "        if any([True for cl in reliable_classifiers if \n",
    "            cl.does_match(Perception(map(lambda s: str(float(s)), state))) and \n",
    "            cl.action == get_correct_answer(state, environment.env.env.control_bits)]):\n",
    "\n",
    "            nr_correct += 1\n",
    "\n",
    "    return nr_correct / states_len\n",
    "\n",
    "def mpx_metrics(agent, env):\n",
    "    metrics = {\n",
    "        \"knowledge\": mpx_knowledge(agent.population, env)\n",
    "    }\n",
    "    metrics.update(population_metrics(agent.population, env))\n",
    "\n",
    "    return metrics\n",
    "\n",
    "\n",
    "class MpxObservationWrapper(gym.ObservationWrapper):\n",
    "    def observation(self, observation):\n",
    "        return [str(x) for x in observation]"
   ]
  },
  {
   "cell_type": "markdown",
   "metadata": {},
   "source": [
    "### Results arrays"
   ]
  },
  {
   "cell_type": "markdown",
   "metadata": {},
   "source": [
    "ACS2 Experiments"
   ]
  },
  {
   "cell_type": "code",
   "execution_count": 4,
   "metadata": {},
   "outputs": [],
   "source": [
    "for e in range(EXPERIMENTS):\n",
    "    ### ACS2 ###\n",
    "    # Load desired environment\n",
    "    mp = MpxObservationWrapper(gym.make(F'boolean-multiplexer-{BITS}bit-v0'))\n",
    "    # Create agent \n",
    "    cfg_acs2 = CFG_ACS2(classifier_length=mp.env.observation_space.n,\n",
    "                        number_of_possible_actions=2,\n",
    "                        do_ga=True,\n",
    "                        metrics_trial_frequency=10,\n",
    "                        user_metrics_collector_fcn=mpx_metrics)\n",
    "    agent_acs2 = ACS2(cfg_acs2)\n",
    "    # Explore the environment\n",
    "    acs2_explore_metrics = agent_acs2.explore(mp, EXPLORE_TRIALS)\n",
    "    # Exploit the environment\n",
    "    acs2_exploit_metrics = agent_acs2.exploit(mp, EXPLOIT_TRIALS)\n"
   ]
  },
  {
   "cell_type": "markdown",
   "metadata": {},
   "source": [
    "ACS2ER Experiments"
   ]
  },
  {
   "cell_type": "code",
   "execution_count": 5,
   "metadata": {},
   "outputs": [],
   "source": [
    "for e in range(EXPERIMENTS):\n",
    "    ### ACS2ER ###\n",
    "    # Load desired environment\n",
    "    mp = MpxObservationWrapper(gym.make(F'boolean-multiplexer-{BITS}bit-v0'))\n",
    "    # Create agent ACS2ER\n",
    "    cfg_acs2er = CFG_ACS2ER(classifier_length=mp.env.observation_space.n,\n",
    "                        number_of_possible_actions=2,\n",
    "                        do_ga=True,\n",
    "                        metrics_trial_frequency=10,\n",
    "                        er_buffer_size=ER_BUFFER_SIZE,\n",
    "                        er_min_samples=ER_BUFFER_MIN_SAMPLES,\n",
    "                        er_samples_number=ER_SAMPLES_NUMBER,\n",
    "                        user_metrics_collector_fcn=mpx_metrics)\n",
    "    agent_acs2er = ACS2ER(cfg_acs2er)\n",
    "    # Explore the environment\n",
    "    acs2er_explore_metrics = agent_acs2er.explore(mp, EXPLORE_TRIALS)\n",
    "    # Exploit the environment\n",
    "    acs2er_exploit_metrics = agent_acs2er.exploit(mp, EXPLOIT_TRIALS)\n",
    "\n",
    "    "
   ]
  },
  {
   "cell_type": "code",
   "execution_count": 1,
   "metadata": {},
   "outputs": [],
   "source": [
    "# x_axis = range(EXPERIMENTS)\n",
    "\n",
    "# plt.title(\"Multiplexer - EXPLORE\")\n",
    "# plt.scatter(x_axis, acs2_explore_results, c='r', label=\"ACS2\")\n",
    "# plt.scatter(x_axis, acs2er_explore_results, c='b', label=\"ACS2ER\")\n",
    "# plt.legend()\n",
    "# plt.xlabel(\"experiment\")\n",
    "# plt.ylabel(\"avg. reward\")\n",
    "# plt.show()\n",
    "# # plt.savefig(f\"EXPLORE_{RUN}.png\")\n",
    "# plt.close()\n",
    "\n",
    "# plt.title(\"Multiplexer - EXPLOIT\")\n",
    "# plt.scatter(x_axis, acs2_exploit_results, c='r', label=\"ACS2\")\n",
    "# plt.scatter(x_axis, acs2er_exploit_results, c='b', label=\"ACS2ER\")\n",
    "# plt.xlabel(\"experiment\")\n",
    "# plt.ylabel(\"avg. reward\")\n",
    "# plt.legend()\n",
    "# plt.show()\n",
    "# # plt.savefig(f\"EXPLOIT_{RUN}.png\")"
   ]
  },
  {
   "cell_type": "code",
   "execution_count": 6,
   "metadata": {},
   "outputs": [],
   "source": [
    "RELIABLE_KEY = \"reliable\"\n",
    "KNOWLEDGE_KEY = \"knowledge\"\n",
    "\n",
    "def extract_number_of_reliable_cl(metrics):\n",
    "    return list(map(lambda m: m[RELIABLE_KEY], metrics))\n",
    "\n",
    "def extract_knowledge(metrics):\n",
    "    return list(map(lambda m: m[KNOWLEDGE_KEY], metrics))"
   ]
  },
  {
   "cell_type": "code",
   "execution_count": 9,
   "metadata": {},
   "outputs": [
    {
     "data": {
      "image/png": "[encoded data removed]",
      "text/plain": [
       "<Figure size 432x288 with 1 Axes>"
      ]
     },
     "metadata": {
      "needs_background": "light"
     },
     "output_type": "display_data"
    }
   ],
   "source": [
    "acs2_knowledge = extract_knowledge(acs2_explore_metrics)\n",
    "acs2er_knowledge = extract_knowledge(acs2er_explore_metrics)\n",
    "\n",
    "x_axis = range(len(acs2_knowledge))\n",
    "\n",
    "plt.title(f\"Multiplexer - {BITS}-bits - EXPLORE\")\n",
    "plt.plot(x_axis, acs2_knowledge, c='r', label=\"ACS2\", linewidth=1.0)\n",
    "plt.plot(x_axis, acs2er_knowledge, c='b', label=\"ACS2ER\", linewidth=1.0)\n",
    "plt.legend()\n",
    "plt.xlabel(\"step x 10\")\n",
    "plt.ylabel(\"Knowledge\")\n",
    "plt.show()\n",
    "# plt.savefig(f\"EXPLORE_KNOWLEDGE_{RUN}.png\")\n",
    "\n"
   ]
  }
 ],
 "metadata": {
  "kernelspec": {
   "display_name": "Python 3",
   "language": "python",
   "name": "python3"
  },
  "language_info": {
   "codemirror_mode": {
    "name": "ipython",
    "version": 3
   },
   "file_extension": ".py",
   "mimetype": "text/x-python",
   "name": "python",
   "nbconvert_exporter": "python",
   "pygments_lexer": "ipython3",
   "version": "3.7.12"
  }
 },
 "nbformat": 4,
 "nbformat_minor": 4
}
