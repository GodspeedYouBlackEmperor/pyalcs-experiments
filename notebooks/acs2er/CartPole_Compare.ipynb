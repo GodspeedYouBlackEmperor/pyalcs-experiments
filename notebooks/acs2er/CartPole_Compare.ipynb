{
 "cells": [
  {
   "cell_type": "markdown",
   "metadata": {},
   "source": [
    "# ACS2 vs ACS2ER in Multiplexer"
   ]
  },
  {
   "cell_type": "code",
   "execution_count": 1,
   "metadata": {},
   "outputs": [],
   "source": [
    "%matplotlib inline\n",
    "\n",
    "import numpy as np\n",
    "import matplotlib\n",
    "import matplotlib.pyplot as plt\n",
    "from lcs.metrics import population_metrics\n",
    "from lcs.agents.EnvironmentAdapter import EnvironmentAdapter\n",
    "\n",
    "import gym\n",
    "import gym_multiplexer\n",
    "from gym_multiplexer.utils import get_correct_answer\n",
    "from lcs import Perception\n",
    "\n",
    "from lcs.agents.acs2 import ACS2, Configuration as CFG_ACS2\n",
    "from lcs.agents.acs2er import ACS2ER, Configuration as CFG_ACS2ER\n"
   ]
  },
  {
   "cell_type": "markdown",
   "metadata": {},
   "source": [
    "# EXPERIMENT CONFIGURATION"
   ]
  },
  {
   "cell_type": "code",
   "execution_count": 2,
   "metadata": {},
   "outputs": [],
   "source": [
    "CART_POLE = \"CartPole-v0\" \n",
    "\n",
    "EXPLORE_TRIALS = 5000\n",
    "EXPLOIT_TRIALS = 100\n",
    "\n",
    "# The size of ER replay memory buffer\n",
    "ER_BUFFER_SIZE=2000\n",
    "# The minimum number of samples of ER replay memory buffer to start replying samples (warm-up phase)\n",
    "ER_BUFFER_MIN_SAMPLES=200\n",
    "# The number of samples to be replayed druing ER phase\n",
    "ER_SAMPLES_NUMBER=3\n"
   ]
  },
  {
   "cell_type": "code",
   "execution_count": 3,
   "metadata": {},
   "outputs": [],
   "source": [
    "env = gym.make('CartPole-v0')\n",
    "\n",
    "obs_adj_trials=20_000\n",
    "bins = 6\n"
   ]
  },
  {
   "cell_type": "code",
   "execution_count": 4,
   "metadata": {},
   "outputs": [
    {
     "name": "stdout",
     "output_type": "stream",
     "text": [
      "Performing 20000 trials with random steps to collect ranges for observation points\n",
      "Wall time: 6.92 s\n"
     ]
    },
    {
     "data": {
      "text/plain": [
       "array([4.30162177, 6.6443159 , 0.54319009, 7.12160883])"
      ]
     },
     "execution_count": 4,
     "metadata": {},
     "output_type": "execute_result"
    }
   ],
   "source": [
    "%%time\n",
    "print(f'Performing {obs_adj_trials} trials with random steps to collect ranges for observation points')\n",
    "\n",
    "obs_arr = np.zeros((obs_adj_trials, 4))\n",
    "\n",
    "for i in range(obs_adj_trials):\n",
    "    env.reset()\n",
    "    done = False\n",
    "    while not done:\n",
    "        obs, reward, done, _ = env.step(env.action_space.sample())\n",
    "        obs_arr[i, :] = obs\n",
    "\n",
    "env.close()\n",
    "\n",
    "_high = obs_arr.max(axis=0)\n",
    "_low = obs_arr.min(axis=0)\n",
    "\n",
    "_range = _high - _low\n",
    "_range"
   ]
  },
  {
   "cell_type": "markdown",
   "metadata": {},
   "source": [
    "## Metrics and helpers"
   ]
  },
  {
   "cell_type": "code",
   "execution_count": 5,
   "metadata": {},
   "outputs": [],
   "source": [
    "class CartPoleObservationWrapper(gym.ObservationWrapper):\n",
    "    def __init__(self, env, bins, low, val_range):\n",
    "        super().__init__(env)\n",
    "        self.bins = bins\n",
    "        self.low = low\n",
    "        self.range = val_range\n",
    "\n",
    "    def observation(self, observation):\n",
    "        return np.round(((observation - self.low) / self.range) * self.bins) \\\n",
    "            .astype(int) \\\n",
    "            .astype(str) \\\n",
    "            .tolist()\n",
    "\n",
    "def avg_fitness(pop):\n",
    "    return np.mean([cl.fitness for cl in pop if cl.is_reliable()])\n",
    "\n",
    "\n",
    "# collect more metrics\n",
    "def cp_metrics(agent, env):\n",
    "    metrics = {}\n",
    "    metrics['avg_fitness'] = avg_fitness(agent.population)\n",
    "    metrics.update(population_metrics(agent.population, env))\n",
    "\n",
    "    return metrics\n"
   ]
  },
  {
   "cell_type": "markdown",
   "metadata": {},
   "source": [
    "### Results arrays"
   ]
  },
  {
   "cell_type": "markdown",
   "metadata": {},
   "source": [
    "ACS2 Experiments"
   ]
  },
  {
   "cell_type": "code",
   "execution_count": 7,
   "metadata": {},
   "outputs": [],
   "source": [
    "\n",
    "### ACS2 ###\n",
    "# Load desired environment\n",
    "env = gym.make(CART_POLE)\n",
    "cp = CartPoleObservationWrapper(env, bins, _low, _range)\n",
    "# Create agent \n",
    "cfg_acs2 = CFG_ACS2(\n",
    "            classifier_length=4,\n",
    "            number_of_possible_actions=2,\n",
    "            epsilon=0.95,\n",
    "            biased_exploration=0.5,\n",
    "            beta=0.05,\n",
    "            gamma=0.99,\n",
    "            theta_exp=50,\n",
    "            theta_ga=50,\n",
    "            do_ga=False,\n",
    "            mu=0.03,\n",
    "            u_max=4,\n",
    "            metrics_trial_frequency=10,\n",
    "            user_metrics_collector_fcn=cp_metrics)\n",
    "agent_acs2 = ACS2(cfg_acs2)\n",
    "# Explore the environment\n",
    "acs2_explore_metrics = agent_acs2.explore(cp, EXPLORE_TRIALS)\n",
    "# Exploit the environment\n",
    "acs2_exploit_metrics = agent_acs2.exploit(cp, EXPLOIT_TRIALS)\n"
   ]
  },
  {
   "cell_type": "markdown",
   "metadata": {},
   "source": [
    "ACS2ER Experiments"
   ]
  },
  {
   "cell_type": "code",
   "execution_count": 8,
   "metadata": {},
   "outputs": [
    {
     "name": "stderr",
     "output_type": "stream",
     "text": [
      "E:\\_ZSSE\\other\\conda\\envs\\pyalcs-experiments\\lib\\site-packages\\numpy\\core\\fromnumeric.py:3441: RuntimeWarning: Mean of empty slice.\n",
      "  out=out, **kwargs)\n",
      "E:\\_ZSSE\\other\\conda\\envs\\pyalcs-experiments\\lib\\site-packages\\numpy\\core\\_methods.py:189: RuntimeWarning: invalid value encountered in double_scalars\n",
      "  ret = ret.dtype.type(ret / rcount)\n"
     ]
    }
   ],
   "source": [
    "\n",
    "### ACS2ER ###\n",
    "# Load desired environment\n",
    "env = gym.make(CART_POLE)\n",
    "cp = CartPoleObservationWrapper(env, bins, _low, _range)\n",
    "# Create agent ACS2ER\n",
    "cfg_acs2er = CFG_ACS2ER(\n",
    "            classifier_length=4,\n",
    "            number_of_possible_actions=2,\n",
    "            epsilon=0.95,\n",
    "            biased_exploration=0.05,\n",
    "            beta=0.05,\n",
    "            gamma=0.99,\n",
    "            theta_exp=50,\n",
    "            theta_ga=50,\n",
    "            do_ga=False,\n",
    "            mu=0.03,\n",
    "            u_max=4,\n",
    "            metrics_trial_frequency=10,\n",
    "            er_buffer_size=ER_BUFFER_SIZE,\n",
    "            er_min_samples=ER_BUFFER_MIN_SAMPLES,\n",
    "            er_samples_number=ER_SAMPLES_NUMBER,\n",
    "            user_metrics_collector_fcn=cp_metrics)\n",
    "agent_acs2er = ACS2ER(cfg_acs2er)\n",
    "# Explore the environment\n",
    "acs2er_explore_metrics = agent_acs2er.explore(cp, EXPLORE_TRIALS)\n",
    "# Exploit the environment\n",
    "acs2er_exploit_metrics = agent_acs2er.exploit(cp, EXPLOIT_TRIALS)\n",
    "\n",
    "    "
   ]
  },
  {
   "cell_type": "code",
   "execution_count": 1,
   "metadata": {},
   "outputs": [],
   "source": [
    "# x_axis = range(EXPERIMENTS)\n",
    "\n",
    "# plt.title(\"Multiplexer - EXPLORE\")\n",
    "# plt.scatter(x_axis, acs2_explore_results, c='r', label=\"ACS2\")\n",
    "# plt.scatter(x_axis, acs2er_explore_results, c='b', label=\"ACS2ER\")\n",
    "# plt.legend()\n",
    "# plt.xlabel(\"experiment\")\n",
    "# plt.ylabel(\"avg. reward\")\n",
    "# plt.show()\n",
    "# # plt.savefig(f\"EXPLORE_{RUN}.png\")\n",
    "# plt.close()\n",
    "\n",
    "# plt.title(\"Multiplexer - EXPLOIT\")\n",
    "# plt.scatter(x_axis, acs2_exploit_results, c='r', label=\"ACS2\")\n",
    "# plt.scatter(x_axis, acs2er_exploit_results, c='b', label=\"ACS2ER\")\n",
    "# plt.xlabel(\"experiment\")\n",
    "# plt.ylabel(\"avg. reward\")\n",
    "# plt.legend()\n",
    "# plt.show()\n",
    "# # plt.savefig(f\"EXPLOIT_{RUN}.png\")"
   ]
  },
  {
   "cell_type": "code",
   "execution_count": 9,
   "metadata": {},
   "outputs": [],
   "source": [
    "RELIABLE_KEY = \"reliable\"\n",
    "\n",
    "def extract_number_of_reliable_cl(metrics):\n",
    "    return list(map(lambda m: m[RELIABLE_KEY], metrics))"
   ]
  },
  {
   "cell_type": "code",
   "execution_count": 10,
   "metadata": {},
   "outputs": [
    {
     "data": {
      "image/png": "[encoded data removed]",
      "text/plain": [
       "<Figure size 432x288 with 1 Axes>"
      ]
     },
     "metadata": {
      "needs_background": "light"
     },
     "output_type": "display_data"
    }
   ],
   "source": [
    "acs2_reliable = extract_number_of_reliable_cl(acs2_explore_metrics)\n",
    "acs2er_reliable = extract_number_of_reliable_cl(acs2er_explore_metrics)\n",
    "\n",
    "x_axis = range(len(acs2_reliable))\n",
    "\n",
    "plt.title(f\"CartPole - {CART_POLE} - EXPLORE\")\n",
    "plt.plot(x_axis, acs2_reliable, c='r', label=\"ACS2\", linewidth=1.0)\n",
    "plt.plot(x_axis, acs2er_reliable, c='b', label=\"ACS2ER\", linewidth=1.0)\n",
    "plt.legend()\n",
    "plt.xlabel(\"step x 10\")\n",
    "plt.ylabel(\"number of reliable classifiers\")\n",
    "plt.show()\n",
    "# plt.savefig(f\"EXPLORE_{RUN}.png\")\n",
    "\n"
   ]
  }
 ],
 "metadata": {
  "kernelspec": {
   "display_name": "Python 3",
   "language": "python",
   "name": "python3"
  },
  "language_info": {
   "codemirror_mode": {
    "name": "ipython",
    "version": 3
   },
   "file_extension": ".py",
   "mimetype": "text/x-python",
   "name": "python",
   "nbconvert_exporter": "python",
   "pygments_lexer": "ipython3",
   "version": "3.7.12"
  }
 },
 "nbformat": 4,
 "nbformat_minor": 4
}
