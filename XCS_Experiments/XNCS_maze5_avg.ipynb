{
 "cells": [
  {
   "cell_type": "code",
   "execution_count": 11,
   "metadata": {},
   "outputs": [],
   "source": [
    "# logging \n",
    "import logging\n",
    "logging.basicConfig(level=logging.INFO)\n",
    "logger = logging.getLogger(__name__)\n"
   ]
  },
  {
   "cell_type": "code",
   "execution_count": 12,
   "metadata": {},
   "outputs": [
    {
     "name": "stdout",
     "output_type": "stream",
     "text": [
      "This is how maze looks like\n",
      "<class 'tuple'>\n",
      "('1', '1', '9', '0', '1', '1', '0', '1')\n",
      "\n",
      "\u001b[30m■\u001b[0m \u001b[30m■\u001b[0m \u001b[30m■\u001b[0m \u001b[30m■\u001b[0m \u001b[30m■\u001b[0m \u001b[30m■\u001b[0m \u001b[30m■\u001b[0m \u001b[30m■\u001b[0m \u001b[30m■\u001b[0m\n",
      "\u001b[30m■\u001b[0m \u001b[37m□\u001b[0m \u001b[37m□\u001b[0m \u001b[37m□\u001b[0m \u001b[37m□\u001b[0m \u001b[37m□\u001b[0m \u001b[31mA\u001b[0m \u001b[33m$\u001b[0m \u001b[30m■\u001b[0m\n",
      "\u001b[30m■\u001b[0m \u001b[37m□\u001b[0m \u001b[37m□\u001b[0m \u001b[30m■\u001b[0m \u001b[37m□\u001b[0m \u001b[30m■\u001b[0m \u001b[30m■\u001b[0m \u001b[37m□\u001b[0m \u001b[30m■\u001b[0m\n",
      "\u001b[30m■\u001b[0m \u001b[37m□\u001b[0m \u001b[30m■\u001b[0m \u001b[37m□\u001b[0m \u001b[37m□\u001b[0m \u001b[37m□\u001b[0m \u001b[37m□\u001b[0m \u001b[37m□\u001b[0m \u001b[30m■\u001b[0m\n",
      "\u001b[30m■\u001b[0m \u001b[37m□\u001b[0m \u001b[37m□\u001b[0m \u001b[37m□\u001b[0m \u001b[30m■\u001b[0m \u001b[30m■\u001b[0m \u001b[37m□\u001b[0m \u001b[37m□\u001b[0m \u001b[30m■\u001b[0m\n",
      "\u001b[30m■\u001b[0m \u001b[37m□\u001b[0m \u001b[30m■\u001b[0m \u001b[37m□\u001b[0m \u001b[30m■\u001b[0m \u001b[37m□\u001b[0m \u001b[37m□\u001b[0m \u001b[30m■\u001b[0m \u001b[30m■\u001b[0m\n",
      "\u001b[30m■\u001b[0m \u001b[37m□\u001b[0m \u001b[30m■\u001b[0m \u001b[37m□\u001b[0m \u001b[37m□\u001b[0m \u001b[30m■\u001b[0m \u001b[37m□\u001b[0m \u001b[37m□\u001b[0m \u001b[30m■\u001b[0m\n",
      "\u001b[30m■\u001b[0m \u001b[37m□\u001b[0m \u001b[37m□\u001b[0m \u001b[37m□\u001b[0m \u001b[37m□\u001b[0m \u001b[37m□\u001b[0m \u001b[30m■\u001b[0m \u001b[37m□\u001b[0m \u001b[30m■\u001b[0m\n",
      "\u001b[30m■\u001b[0m \u001b[30m■\u001b[0m \u001b[30m■\u001b[0m \u001b[30m■\u001b[0m \u001b[30m■\u001b[0m \u001b[30m■\u001b[0m \u001b[30m■\u001b[0m \u001b[30m■\u001b[0m \u001b[30m■\u001b[0m\n"
     ]
    }
   ],
   "source": [
    "# environment setup\n",
    "import gym\n",
    "# noinspection PyUnresolvedReferences\n",
    "import gym_maze\n",
    "\n",
    "maze = gym.make('Maze5-v0')\n",
    "print(\"This is how maze looks like\")\n",
    "situation = maze.reset()\n",
    "print(type(situation))\n",
    "print(situation)\n",
    "maze.render()\n"
   ]
  },
  {
   "cell_type": "code",
   "execution_count": 13,
   "metadata": {},
   "outputs": [],
   "source": [
    "from lcs.agents.xncs import XNCS, Configuration\n",
    "from utils.nxcs_utils import *\n",
    "cfg = Configuration(number_of_actions=8,\n",
    "                    max_population=1800,\n",
    "                    learning_rate=0.2,\n",
    "                    epsilon_0=0.01,\n",
    "                    alpha=0.1,\n",
    "                    gamma=0.71,\n",
    "                    mutation_chance=0.08, # mu\n",
    "                    delta=0.1,\n",
    "                    ga_threshold=25,\n",
    "                    deletion_threshold=25,\n",
    "                    covering_wildcard_chance = 0.7,\n",
    "                    chi=0.8,      # crossover\n",
    "                    metrics_trial_frequency=100,\n",
    "                    initial_prediction =10,  # p_i\n",
    "                    initial_error = 0.1,  # epsilon_i\n",
    "                    initial_fitness = 10,  # f_i\n",
    "                    user_metrics_collector_fcn=xncs_metrics,\n",
    "                    lmc=10,\n",
    "                    lem=20\n",
    "                    )\n"
   ]
  },
  {
   "cell_type": "code",
   "execution_count": 14,
   "metadata": {
    "scrolled": false
   },
   "outputs": [
    {
     "name": "stderr",
     "output_type": "stream",
     "text": [
      "INFO:lcs.agents.Agent:{'trial': 0, 'steps_in_trial': 100, 'reward': 0.0, 'perf_time': 0.07768279999982042, 'numerosity': 136, 'population': 116, 'average_specificity': 10.330882352941176, 'fraction_accuracy': 0.0}\n"
     ]
    },
    {
     "name": "stdout",
     "output_type": "stream",
     "text": [
      "Executing 0 experiment\n"
     ]
    },
    {
     "name": "stderr",
     "output_type": "stream",
     "text": [
      "INFO:lcs.agents.Agent:{'trial': 200, 'steps_in_trial': 20, 'reward': 1001.0596610576391, 'perf_time': 0.33710759999985385, 'numerosity': 1800, 'population': 1387, 'average_specificity': 20.246111111111112, 'fraction_accuracy': 0.0}\n",
      "INFO:lcs.agents.Agent:{'trial': 500, 'steps_in_trial': 100, 'reward': 2.385089144282033e-42, 'perf_time': 1.8018307000002096, 'numerosity': 1800, 'population': 1422, 'average_specificity': 21.259444444444444, 'fraction_accuracy': 0.0}\n",
      "INFO:lcs.agents.Agent:{'trial': 700, 'steps_in_trial': 8, 'reward': 1064.5753531245762, 'perf_time': 0.17786660000001575, 'numerosity': 1800, 'population': 1410, 'average_specificity': 22.786666666666665, 'fraction_accuracy': 0.0}\n",
      "INFO:lcs.agents.Agent:{'trial': 1000, 'steps_in_trial': 4, 'reward': 1255.1808898190625, 'perf_time': 0.08564130000013392, 'numerosity': 1800, 'population': 1458, 'average_specificity': 21.15277777777778, 'fraction_accuracy': 0.0}\n",
      "INFO:lcs.agents.Agent:{'trial': 1200, 'steps_in_trial': 70, 'reward': 1000.0000000387333, 'perf_time': 1.3591581000000588, 'numerosity': 1800, 'population': 1477, 'average_specificity': 20.385555555555555, 'fraction_accuracy': 0.0}\n",
      "INFO:lcs.agents.Agent:{'trial': 1500, 'steps_in_trial': 42, 'reward': 1000.0005726395076, 'perf_time': 0.5941466000003857, 'numerosity': 1800, 'population': 1417, 'average_specificity': 21.80388888888889, 'fraction_accuracy': 0.0}\n",
      "INFO:lcs.agents.Agent:{'trial': 1700, 'steps_in_trial': 100, 'reward': 1.785129569347193e-27, 'perf_time': 1.901586199999656, 'numerosity': 1800, 'population': 1443, 'average_specificity': 19.68722222222222, 'fraction_accuracy': 0.0}\n",
      "INFO:lcs.agents.Agent:{'trial': 2000, 'steps_in_trial': 59, 'reward': 1000.0, 'perf_time': 1.1278117000001657, 'numerosity': 1800, 'population': 1453, 'average_specificity': 21.00888888888889, 'fraction_accuracy': 0.0}\n",
      "INFO:lcs.agents.Agent:{'trial': 2200, 'steps_in_trial': 1, 'reward': 1890.4229351, 'perf_time': 0.011307799999485724, 'numerosity': 1800, 'population': 1460, 'average_specificity': 21.385555555555555, 'fraction_accuracy': 0.0}\n",
      "INFO:lcs.agents.Agent:{'trial': 0, 'steps_in_trial': 2, 'reward': 1000.0000000000007, 'perf_time': 0.046695099999851664, 'numerosity': 1800, 'population': 1412, 'average_specificity': 21.41722222222222, 'fraction_accuracy': 0.0}\n",
      "INFO:lcs.agents.Agent:{'trial': 200, 'steps_in_trial': 100, 'reward': 2.3850891444653006e-42, 'perf_time': 1.384353800000099, 'numerosity': 1800, 'population': 1445, 'average_specificity': 33.532222222222224, 'fraction_accuracy': 0.0}\n",
      "INFO:lcs.agents.Agent:{'trial': 500, 'steps_in_trial': 62, 'reward': 1000.0000005998154, 'perf_time': 0.7323357000004762, 'numerosity': 1800, 'population': 1409, 'average_specificity': 34.611666666666665, 'fraction_accuracy': 0.0}\n",
      "INFO:lcs.agents.Agent:{'trial': 700, 'steps_in_trial': 73, 'reward': 1000.0000000138631, 'perf_time': 0.9091007999995782, 'numerosity': 1800, 'population': 1396, 'average_specificity': 37.727222222222224, 'fraction_accuracy': 0.0}\n",
      "INFO:lcs.agents.Agent:{'trial': 1000, 'steps_in_trial': 100, 'reward': 1.33608741082723e-12, 'perf_time': 1.1410980000000563, 'numerosity': 1800, 'population': 1446, 'average_specificity': 31.512777777777778, 'fraction_accuracy': 0.0}\n",
      "INFO:lcs.agents.Agent:{'trial': 1200, 'steps_in_trial': 57, 'reward': 1000.0000033244964, 'perf_time': 0.6541858000000502, 'numerosity': 1800, 'population': 1438, 'average_specificity': 38.705555555555556, 'fraction_accuracy': 0.0}\n",
      "INFO:lcs.agents.Agent:{'trial': 1500, 'steps_in_trial': 58, 'reward': 1000.0000040362712, 'perf_time': 0.7143783999999869, 'numerosity': 1800, 'population': 1442, 'average_specificity': 42.580555555555556, 'fraction_accuracy': 0.0}\n",
      "INFO:lcs.agents.Agent:{'trial': 1700, 'steps_in_trial': 5, 'reward': 1226.2714723709792, 'perf_time': 0.07154629999968165, 'numerosity': 1800, 'population': 1451, 'average_specificity': 37.928333333333335, 'fraction_accuracy': 0.0}\n",
      "INFO:lcs.agents.Agent:{'trial': 2000, 'steps_in_trial': 32, 'reward': 1000.0, 'perf_time': 0.5323422000001301, 'numerosity': 1800, 'population': 1458, 'average_specificity': 34.144444444444446, 'fraction_accuracy': 0.0}\n",
      "INFO:lcs.agents.Agent:{'trial': 2200, 'steps_in_trial': 69, 'reward': 1000.0000000545539, 'perf_time': 0.9133171999992555, 'numerosity': 1800, 'population': 1427, 'average_specificity': 40.61666666666667, 'fraction_accuracy': 0.0}\n"
     ]
    },
    {
     "ename": "KeyboardInterrupt",
     "evalue": "",
     "output_type": "error",
     "traceback": [
      "\u001b[1;31m---------------------------------------------------------------------------\u001b[0m",
      "\u001b[1;31mKeyboardInterrupt\u001b[0m                         Traceback (most recent call last)",
      "\u001b[1;32m<ipython-input-14-1deef8f60e07>\u001b[0m in \u001b[0;36m<module>\u001b[1;34m\u001b[0m\n\u001b[0;32m      3\u001b[0m                          \u001b[0mnumber_of_tests\u001b[0m\u001b[1;33m=\u001b[0m\u001b[1;36m3\u001b[0m\u001b[1;33m,\u001b[0m\u001b[1;33m\u001b[0m\u001b[1;33m\u001b[0m\u001b[0m\n\u001b[0;32m      4\u001b[0m                          \u001b[0mexplore_trials\u001b[0m\u001b[1;33m=\u001b[0m\u001b[1;36m2500\u001b[0m\u001b[1;33m,\u001b[0m\u001b[1;33m\u001b[0m\u001b[1;33m\u001b[0m\u001b[0m\n\u001b[1;32m----> 5\u001b[1;33m                          \u001b[0mexploit_trials\u001b[0m\u001b[1;33m=\u001b[0m\u001b[1;36m2500\u001b[0m\u001b[1;33m,\u001b[0m\u001b[1;33m\u001b[0m\u001b[1;33m\u001b[0m\u001b[0m\n\u001b[0m\u001b[0;32m      6\u001b[0m                          )\n",
      "\u001b[1;32m~\\Documents\\GitHub\\pyalcs-experiments\\XCS_Experiments\\utils\\nxcs_utils.py\u001b[0m in \u001b[0;36mavg_experiment\u001b[1;34m(maze, cfg, number_of_tests, explore_trials, exploit_trials, pre_generate)\u001b[0m\n\u001b[0;32m     57\u001b[0m                                                     \u001b[0mexplore_trials\u001b[0m\u001b[1;33m,\u001b[0m\u001b[1;33m\u001b[0m\u001b[1;33m\u001b[0m\u001b[0m\n\u001b[0;32m     58\u001b[0m                                                     \u001b[0mexploit_trials\u001b[0m\u001b[1;33m,\u001b[0m\u001b[1;33m\u001b[0m\u001b[1;33m\u001b[0m\u001b[0m\n\u001b[1;32m---> 59\u001b[1;33m                                                     population))\n\u001b[0m\u001b[0;32m     60\u001b[0m     \u001b[1;32mreturn\u001b[0m \u001b[0mpd\u001b[0m\u001b[1;33m.\u001b[0m\u001b[0mconcat\u001b[0m\u001b[1;33m(\u001b[0m\u001b[0mtest_metrics\u001b[0m\u001b[1;33m)\u001b[0m\u001b[1;33m.\u001b[0m\u001b[0mgroupby\u001b[0m\u001b[1;33m(\u001b[0m\u001b[1;33m[\u001b[0m\u001b[1;34m'trial'\u001b[0m\u001b[1;33m]\u001b[0m\u001b[1;33m)\u001b[0m\u001b[1;33m.\u001b[0m\u001b[0mmean\u001b[0m\u001b[1;33m(\u001b[0m\u001b[1;33m)\u001b[0m\u001b[1;33m\u001b[0m\u001b[1;33m\u001b[0m\u001b[0m\n\u001b[0;32m     61\u001b[0m \u001b[1;33m\u001b[0m\u001b[0m\n",
      "\u001b[1;32m~\\Documents\\GitHub\\pyalcs-experiments\\XCS_Experiments\\utils\\nxcs_utils.py\u001b[0m in \u001b[0;36mstart_single_experiment\u001b[1;34m(maze, cfg, explore_trials, exploit_trials, population)\u001b[0m\n\u001b[0;32m     64\u001b[0m     \u001b[0magent\u001b[0m \u001b[1;33m=\u001b[0m \u001b[0mXNCS\u001b[0m\u001b[1;33m(\u001b[0m\u001b[0mcfg\u001b[0m\u001b[1;33m,\u001b[0m \u001b[0mpopulation\u001b[0m\u001b[1;33m)\u001b[0m\u001b[1;33m\u001b[0m\u001b[1;33m\u001b[0m\u001b[0m\n\u001b[0;32m     65\u001b[0m     \u001b[0m_\u001b[0m\u001b[1;33m,\u001b[0m \u001b[0mexplore_metrics\u001b[0m \u001b[1;33m=\u001b[0m \u001b[0magent\u001b[0m\u001b[1;33m.\u001b[0m\u001b[0mexplore\u001b[0m\u001b[1;33m(\u001b[0m\u001b[0mmaze\u001b[0m\u001b[1;33m,\u001b[0m \u001b[0mexplore_trials\u001b[0m\u001b[1;33m)\u001b[0m\u001b[1;33m\u001b[0m\u001b[1;33m\u001b[0m\u001b[0m\n\u001b[1;32m---> 66\u001b[1;33m     \u001b[0m_\u001b[0m\u001b[1;33m,\u001b[0m \u001b[0mexploit_metrics\u001b[0m \u001b[1;33m=\u001b[0m \u001b[0magent\u001b[0m\u001b[1;33m.\u001b[0m\u001b[0mexploit\u001b[0m\u001b[1;33m(\u001b[0m\u001b[0mmaze\u001b[0m\u001b[1;33m,\u001b[0m \u001b[0mexploit_trials\u001b[0m\u001b[1;33m)\u001b[0m\u001b[1;33m\u001b[0m\u001b[1;33m\u001b[0m\u001b[0m\n\u001b[0m\u001b[0;32m     67\u001b[0m     \u001b[0mdf\u001b[0m \u001b[1;33m=\u001b[0m \u001b[0mparse_results\u001b[0m\u001b[1;33m(\u001b[0m\u001b[0mexplore_metrics\u001b[0m\u001b[1;33m,\u001b[0m \u001b[0mcfg\u001b[0m\u001b[1;33m)\u001b[0m\u001b[1;33m\u001b[0m\u001b[1;33m\u001b[0m\u001b[0m\n\u001b[0;32m     68\u001b[0m     \u001b[0mdf_exploit\u001b[0m \u001b[1;33m=\u001b[0m \u001b[0mparse_results_exploit\u001b[0m\u001b[1;33m(\u001b[0m\u001b[0mexploit_metrics\u001b[0m\u001b[1;33m,\u001b[0m \u001b[0mcfg\u001b[0m\u001b[1;33m,\u001b[0m \u001b[0mexplore_trials\u001b[0m\u001b[1;33m)\u001b[0m\u001b[1;33m\u001b[0m\u001b[1;33m\u001b[0m\u001b[0m\n",
      "\u001b[1;32mc:\\users\\metron\\documents\\github\\pyalcs\\lcs\\agents\\Agent.py\u001b[0m in \u001b[0;36mexploit\u001b[1;34m(self, env, trials)\u001b[0m\n\u001b[0;32m     64\u001b[0m             \u001b[0mpopulation\u001b[0m \u001b[0mof\u001b[0m \u001b[0mclassifiers\u001b[0m \u001b[1;32mand\u001b[0m \u001b[0mmetrics\u001b[0m\u001b[1;33m\u001b[0m\u001b[1;33m\u001b[0m\u001b[0m\n\u001b[0;32m     65\u001b[0m         \"\"\"\n\u001b[1;32m---> 66\u001b[1;33m         \u001b[1;32mreturn\u001b[0m \u001b[0mself\u001b[0m\u001b[1;33m.\u001b[0m\u001b[0m_evaluate\u001b[0m\u001b[1;33m(\u001b[0m\u001b[0menv\u001b[0m\u001b[1;33m,\u001b[0m \u001b[0mtrials\u001b[0m\u001b[1;33m,\u001b[0m \u001b[0mself\u001b[0m\u001b[1;33m.\u001b[0m\u001b[0m_run_trial_exploit\u001b[0m\u001b[1;33m)\u001b[0m\u001b[1;33m\u001b[0m\u001b[1;33m\u001b[0m\u001b[0m\n\u001b[0m\u001b[0;32m     67\u001b[0m \u001b[1;33m\u001b[0m\u001b[0m\n\u001b[0;32m     68\u001b[0m     \u001b[1;32mdef\u001b[0m \u001b[0mexplore_exploit\u001b[0m\u001b[1;33m(\u001b[0m\u001b[0mself\u001b[0m\u001b[1;33m,\u001b[0m \u001b[0menv\u001b[0m\u001b[1;33m,\u001b[0m \u001b[0mtrials\u001b[0m\u001b[1;33m)\u001b[0m \u001b[1;33m->\u001b[0m \u001b[0mTuple\u001b[0m\u001b[1;33m:\u001b[0m\u001b[1;33m\u001b[0m\u001b[1;33m\u001b[0m\u001b[0m\n",
      "\u001b[1;32mc:\\users\\metron\\documents\\github\\pyalcs\\lcs\\agents\\Agent.py\u001b[0m in \u001b[0;36m_evaluate\u001b[1;34m(self, env, n_trials, func, decay)\u001b[0m\n\u001b[0;32m    123\u001b[0m         \u001b[1;32mwhile\u001b[0m \u001b[0mcurrent_trial\u001b[0m \u001b[1;33m<\u001b[0m \u001b[0mn_trials\u001b[0m\u001b[1;33m:\u001b[0m\u001b[1;33m\u001b[0m\u001b[1;33m\u001b[0m\u001b[0m\n\u001b[0;32m    124\u001b[0m             \u001b[0mstart_ts\u001b[0m \u001b[1;33m=\u001b[0m \u001b[0mtimer\u001b[0m\u001b[1;33m(\u001b[0m\u001b[1;33m)\u001b[0m\u001b[1;33m\u001b[0m\u001b[1;33m\u001b[0m\u001b[0m\n\u001b[1;32m--> 125\u001b[1;33m             \u001b[0msteps_in_trial\u001b[0m\u001b[1;33m,\u001b[0m \u001b[0mreward\u001b[0m \u001b[1;33m=\u001b[0m \u001b[0mfunc\u001b[0m\u001b[1;33m(\u001b[0m\u001b[0menv\u001b[0m\u001b[1;33m,\u001b[0m \u001b[0msteps\u001b[0m\u001b[1;33m,\u001b[0m \u001b[0mcurrent_trial\u001b[0m\u001b[1;33m)\u001b[0m\u001b[1;33m\u001b[0m\u001b[1;33m\u001b[0m\u001b[0m\n\u001b[0m\u001b[0;32m    126\u001b[0m             \u001b[0mend_ts\u001b[0m \u001b[1;33m=\u001b[0m \u001b[0mtimer\u001b[0m\u001b[1;33m(\u001b[0m\u001b[1;33m)\u001b[0m\u001b[1;33m\u001b[0m\u001b[1;33m\u001b[0m\u001b[0m\n\u001b[0;32m    127\u001b[0m \u001b[1;33m\u001b[0m\u001b[0m\n",
      "\u001b[1;32mc:\\users\\metron\\documents\\github\\pyalcs\\lcs\\agents\\xcs\\XCS.py\u001b[0m in \u001b[0;36m_run_trial_exploit\u001b[1;34m(self, env, trials, current_trial)\u001b[0m\n\u001b[0;32m     46\u001b[0m         \u001b[0mtemp\u001b[0m \u001b[1;33m=\u001b[0m \u001b[0mself\u001b[0m\u001b[1;33m.\u001b[0m\u001b[0mcfg\u001b[0m\u001b[1;33m.\u001b[0m\u001b[0mepsilon\u001b[0m\u001b[1;33m\u001b[0m\u001b[1;33m\u001b[0m\u001b[0m\n\u001b[0;32m     47\u001b[0m         \u001b[0mself\u001b[0m\u001b[1;33m.\u001b[0m\u001b[0mcfg\u001b[0m\u001b[1;33m.\u001b[0m\u001b[0mepsilon\u001b[0m \u001b[1;33m=\u001b[0m \u001b[1;36m0\u001b[0m\u001b[1;33m\u001b[0m\u001b[1;33m\u001b[0m\u001b[0m\n\u001b[1;32m---> 48\u001b[1;33m         \u001b[0mmetrics\u001b[0m \u001b[1;33m=\u001b[0m \u001b[0mself\u001b[0m\u001b[1;33m.\u001b[0m\u001b[0m_run_trial_explore\u001b[0m\u001b[1;33m(\u001b[0m\u001b[0menv\u001b[0m\u001b[1;33m,\u001b[0m \u001b[0mtrials\u001b[0m\u001b[1;33m,\u001b[0m \u001b[0mcurrent_trial\u001b[0m\u001b[1;33m)\u001b[0m\u001b[1;33m\u001b[0m\u001b[1;33m\u001b[0m\u001b[0m\n\u001b[0m\u001b[0;32m     49\u001b[0m         \u001b[0mself\u001b[0m\u001b[1;33m.\u001b[0m\u001b[0mcfg\u001b[0m\u001b[1;33m.\u001b[0m\u001b[0mepsilon\u001b[0m \u001b[1;33m=\u001b[0m \u001b[0mtemp\u001b[0m\u001b[1;33m\u001b[0m\u001b[1;33m\u001b[0m\u001b[0m\n\u001b[0;32m     50\u001b[0m         \u001b[1;32mreturn\u001b[0m \u001b[0mmetrics\u001b[0m\u001b[1;33m\u001b[0m\u001b[1;33m\u001b[0m\u001b[0m\n",
      "\u001b[1;32mc:\\users\\metron\\documents\\github\\pyalcs\\lcs\\agents\\xcs\\XCS.py\u001b[0m in \u001b[0;36m_run_trial_explore\u001b[1;34m(self, env, trials, current_trial)\u001b[0m\n\u001b[0;32m     74\u001b[0m                                         \u001b[0mprev_state\u001b[0m\u001b[1;33m,\u001b[0m\u001b[1;33m\u001b[0m\u001b[1;33m\u001b[0m\u001b[0m\n\u001b[0;32m     75\u001b[0m                                         \u001b[0mstate\u001b[0m\u001b[1;33m,\u001b[0m\u001b[1;33m\u001b[0m\u001b[1;33m\u001b[0m\u001b[0m\n\u001b[1;32m---> 76\u001b[1;33m                                         prev_reward + self.cfg.gamma * max(prediction_array))\n\u001b[0m\u001b[0;32m     77\u001b[0m             \u001b[1;32mif\u001b[0m \u001b[0mdone\u001b[0m\u001b[1;33m:\u001b[0m\u001b[1;33m\u001b[0m\u001b[1;33m\u001b[0m\u001b[0m\n\u001b[0;32m     78\u001b[0m                 self._distribute_and_update(action_set,\n",
      "\u001b[1;32mc:\\users\\metron\\documents\\github\\pyalcs\\lcs\\agents\\xncs\\XNCS.py\u001b[0m in \u001b[0;36m_distribute_and_update\u001b[1;34m(self, action_set, current_situation, next_situation, p)\u001b[0m\n\u001b[0;32m     52\u001b[0m                 \u001b[0mEffect\u001b[0m\u001b[1;33m(\u001b[0m\u001b[0mnext_situation\u001b[0m\u001b[1;33m)\u001b[0m\u001b[1;33m\u001b[0m\u001b[1;33m\u001b[0m\u001b[0m\n\u001b[0;32m     53\u001b[0m             )\n\u001b[1;32m---> 54\u001b[1;33m         \u001b[0msuper\u001b[0m\u001b[1;33m(\u001b[0m\u001b[1;33m)\u001b[0m\u001b[1;33m.\u001b[0m\u001b[0m_distribute_and_update\u001b[0m\u001b[1;33m(\u001b[0m\u001b[0maction_set\u001b[0m\u001b[1;33m,\u001b[0m \u001b[0mcurrent_situation\u001b[0m\u001b[1;33m,\u001b[0m \u001b[0mnext_situation\u001b[0m\u001b[1;33m,\u001b[0m \u001b[0mp\u001b[0m\u001b[1;33m)\u001b[0m\u001b[1;33m\u001b[0m\u001b[1;33m\u001b[0m\u001b[0m\n\u001b[0m\u001b[0;32m     55\u001b[0m \u001b[1;33m\u001b[0m\u001b[0m\n",
      "\u001b[1;32mc:\\users\\metron\\documents\\github\\pyalcs\\lcs\\agents\\xcs\\XCS.py\u001b[0m in \u001b[0;36m_distribute_and_update\u001b[1;34m(self, action_set, current_situation, next_situation, p)\u001b[0m\n\u001b[0;32m    102\u001b[0m                 \u001b[0maction_set\u001b[0m\u001b[1;33m,\u001b[0m\u001b[1;33m\u001b[0m\u001b[1;33m\u001b[0m\u001b[0m\n\u001b[0;32m    103\u001b[0m                 \u001b[0mcurrent_situation\u001b[0m\u001b[1;33m,\u001b[0m\u001b[1;33m\u001b[0m\u001b[1;33m\u001b[0m\u001b[0m\n\u001b[1;32m--> 104\u001b[1;33m                 \u001b[0mself\u001b[0m\u001b[1;33m.\u001b[0m\u001b[0mtime_stamp\u001b[0m\u001b[1;33m\u001b[0m\u001b[1;33m\u001b[0m\u001b[0m\n\u001b[0m\u001b[0;32m    105\u001b[0m             )\n\u001b[0;32m    106\u001b[0m \u001b[1;33m\u001b[0m\u001b[0m\n",
      "\u001b[1;32mc:\\users\\metron\\documents\\github\\pyalcs\\lcs\\agents\\xcs\\GeneticAlgorithm.py\u001b[0m in \u001b[0;36mrun_ga\u001b[1;34m(self, action_set, situation, time_stamp)\u001b[0m\n\u001b[0;32m     46\u001b[0m             self._perform_insertion_or_subsumption(\n\u001b[0;32m     47\u001b[0m                 \u001b[0mchild1\u001b[0m\u001b[1;33m,\u001b[0m \u001b[0mchild2\u001b[0m\u001b[1;33m,\u001b[0m\u001b[1;33m\u001b[0m\u001b[1;33m\u001b[0m\u001b[0m\n\u001b[1;32m---> 48\u001b[1;33m                 \u001b[0mparent1\u001b[0m\u001b[1;33m,\u001b[0m \u001b[0mparent2\u001b[0m\u001b[1;33m\u001b[0m\u001b[1;33m\u001b[0m\u001b[0m\n\u001b[0m\u001b[0;32m     49\u001b[0m             )\n\u001b[0;32m     50\u001b[0m \u001b[1;33m\u001b[0m\u001b[0m\n",
      "\u001b[1;32mc:\\users\\metron\\documents\\github\\pyalcs\\lcs\\agents\\xcs\\GeneticAlgorithm.py\u001b[0m in \u001b[0;36m_perform_insertion_or_subsumption\u001b[1;34m(self, child1, child2, parent1, parent2)\u001b[0m\n\u001b[0;32m     70\u001b[0m             \u001b[1;32mfor\u001b[0m \u001b[0mchild\u001b[0m \u001b[1;32min\u001b[0m \u001b[0mchild1\u001b[0m\u001b[1;33m,\u001b[0m \u001b[0mchild2\u001b[0m\u001b[1;33m:\u001b[0m\u001b[1;33m\u001b[0m\u001b[1;33m\u001b[0m\u001b[0m\n\u001b[0;32m     71\u001b[0m                 \u001b[0mself\u001b[0m\u001b[1;33m.\u001b[0m\u001b[0mpopulation\u001b[0m\u001b[1;33m.\u001b[0m\u001b[0minsert_in_population\u001b[0m\u001b[1;33m(\u001b[0m\u001b[0mchild\u001b[0m\u001b[1;33m)\u001b[0m\u001b[1;33m\u001b[0m\u001b[1;33m\u001b[0m\u001b[0m\n\u001b[1;32m---> 72\u001b[1;33m                 \u001b[0mself\u001b[0m\u001b[1;33m.\u001b[0m\u001b[0mpopulation\u001b[0m\u001b[1;33m.\u001b[0m\u001b[0mdelete_from_population\u001b[0m\u001b[1;33m(\u001b[0m\u001b[1;33m)\u001b[0m\u001b[1;33m\u001b[0m\u001b[1;33m\u001b[0m\u001b[0m\n\u001b[0m\u001b[0;32m     73\u001b[0m \u001b[1;33m\u001b[0m\u001b[0m\n\u001b[0;32m     74\u001b[0m     \u001b[1;32mdef\u001b[0m \u001b[0m_make_children\u001b[0m\u001b[1;33m(\u001b[0m\u001b[0mself\u001b[0m\u001b[1;33m,\u001b[0m \u001b[0mparent1\u001b[0m\u001b[1;33m,\u001b[0m \u001b[0mparent2\u001b[0m\u001b[1;33m,\u001b[0m \u001b[0mtime_stamp\u001b[0m\u001b[1;33m)\u001b[0m\u001b[1;33m:\u001b[0m\u001b[1;33m\u001b[0m\u001b[1;33m\u001b[0m\u001b[0m\n",
      "\u001b[1;32mc:\\users\\metron\\documents\\github\\pyalcs\\lcs\\agents\\xcs\\ClassifiersList.py\u001b[0m in \u001b[0;36mdelete_from_population\u001b[1;34m(self)\u001b[0m\n\u001b[0;32m     59\u001b[0m             \u001b[0mdeletion_votes\u001b[0m \u001b[1;33m=\u001b[0m \u001b[1;33m[\u001b[0m\u001b[1;33m]\u001b[0m\u001b[1;33m\u001b[0m\u001b[1;33m\u001b[0m\u001b[0m\n\u001b[0;32m     60\u001b[0m             \u001b[1;32mfor\u001b[0m \u001b[0mcl\u001b[0m \u001b[1;32min\u001b[0m \u001b[0mself\u001b[0m\u001b[1;33m:\u001b[0m\u001b[1;33m\u001b[0m\u001b[1;33m\u001b[0m\u001b[0m\n\u001b[1;32m---> 61\u001b[1;33m                 \u001b[0mdeletion_votes\u001b[0m\u001b[1;33m.\u001b[0m\u001b[0mappend\u001b[0m\u001b[1;33m(\u001b[0m\u001b[0mself\u001b[0m\u001b[1;33m.\u001b[0m\u001b[0m_deletion_vote\u001b[0m\u001b[1;33m(\u001b[0m\u001b[0mcl\u001b[0m\u001b[1;33m,\u001b[0m \u001b[0maverage_fitness\u001b[0m\u001b[1;33m)\u001b[0m\u001b[1;33m)\u001b[0m\u001b[1;33m\u001b[0m\u001b[1;33m\u001b[0m\u001b[0m\n\u001b[0m\u001b[0;32m     62\u001b[0m             \u001b[0mselector\u001b[0m \u001b[1;33m=\u001b[0m \u001b[0mrandom\u001b[0m\u001b[1;33m.\u001b[0m\u001b[0muniform\u001b[0m\u001b[1;33m(\u001b[0m\u001b[1;36m0\u001b[0m\u001b[1;33m,\u001b[0m \u001b[0msum\u001b[0m\u001b[1;33m(\u001b[0m\u001b[0mdeletion_votes\u001b[0m\u001b[1;33m)\u001b[0m\u001b[1;33m)\u001b[0m\u001b[1;33m\u001b[0m\u001b[1;33m\u001b[0m\u001b[0m\n\u001b[0;32m     63\u001b[0m             \u001b[0mself\u001b[0m\u001b[1;33m.\u001b[0m\u001b[0m_remove_based_on_votes\u001b[0m\u001b[1;33m(\u001b[0m\u001b[0mdeletion_votes\u001b[0m\u001b[1;33m,\u001b[0m \u001b[0mselector\u001b[0m\u001b[1;33m)\u001b[0m\u001b[1;33m\u001b[0m\u001b[1;33m\u001b[0m\u001b[0m\n",
      "\u001b[1;32mc:\\users\\metron\\documents\\github\\pyalcs\\lcs\\agents\\xcs\\ClassifiersList.py\u001b[0m in \u001b[0;36m_deletion_vote\u001b[1;34m(self, cl, average_fitness)\u001b[0m\n\u001b[0;32m     65\u001b[0m     \u001b[1;32mdef\u001b[0m \u001b[0m_deletion_vote\u001b[0m\u001b[1;33m(\u001b[0m\u001b[0mself\u001b[0m\u001b[1;33m,\u001b[0m \u001b[0mcl\u001b[0m\u001b[1;33m,\u001b[0m \u001b[0maverage_fitness\u001b[0m\u001b[1;33m)\u001b[0m\u001b[1;33m:\u001b[0m\u001b[1;33m\u001b[0m\u001b[1;33m\u001b[0m\u001b[0m\n\u001b[0;32m     66\u001b[0m         \u001b[0mvote\u001b[0m \u001b[1;33m=\u001b[0m \u001b[0mcl\u001b[0m\u001b[1;33m.\u001b[0m\u001b[0maction_set_size\u001b[0m \u001b[1;33m*\u001b[0m \u001b[0mcl\u001b[0m\u001b[1;33m.\u001b[0m\u001b[0mnumerosity\u001b[0m\u001b[1;33m\u001b[0m\u001b[1;33m\u001b[0m\u001b[0m\n\u001b[1;32m---> 67\u001b[1;33m         \u001b[1;32mif\u001b[0m \u001b[0mcl\u001b[0m\u001b[1;33m.\u001b[0m\u001b[0mexperience\u001b[0m \u001b[1;33m>\u001b[0m \u001b[0mself\u001b[0m\u001b[1;33m.\u001b[0m\u001b[0mcfg\u001b[0m\u001b[1;33m.\u001b[0m\u001b[0mdeletion_threshold\u001b[0m \u001b[1;32mand\u001b[0m\u001b[0;31m \u001b[0m\u001b[0;31m\\\u001b[0m\u001b[1;33m\u001b[0m\u001b[1;33m\u001b[0m\u001b[0m\n\u001b[0m\u001b[0;32m     68\u001b[0m             \u001b[0mcl\u001b[0m\u001b[1;33m.\u001b[0m\u001b[0mfitness\u001b[0m \u001b[1;33m/\u001b[0m \u001b[0mcl\u001b[0m\u001b[1;33m.\u001b[0m\u001b[0mnumerosity\u001b[0m \u001b[1;33m<\u001b[0m\u001b[0;31m \u001b[0m\u001b[0;31m\\\u001b[0m\u001b[1;33m\u001b[0m\u001b[1;33m\u001b[0m\u001b[0m\n\u001b[0;32m     69\u001b[0m                 \u001b[0mself\u001b[0m\u001b[1;33m.\u001b[0m\u001b[0mcfg\u001b[0m\u001b[1;33m.\u001b[0m\u001b[0mdelta\u001b[0m \u001b[1;33m*\u001b[0m \u001b[0maverage_fitness\u001b[0m\u001b[1;33m:\u001b[0m\u001b[1;33m\u001b[0m\u001b[1;33m\u001b[0m\u001b[0m\n",
      "\u001b[1;31mKeyboardInterrupt\u001b[0m: "
     ]
    }
   ],
   "source": [
    "\n",
    "df = avg_experiment(maze=maze,\n",
    "                         cfg=cfg,\n",
    "                         number_of_tests=3,\n",
    "                         explore_trials=2500,\n",
    "                         exploit_trials=2500,\n",
    "                         )\n"
   ]
  },
  {
   "cell_type": "code",
   "execution_count": null,
   "metadata": {},
   "outputs": [],
   "source": [
    "display(df)"
   ]
  },
  {
   "cell_type": "code",
   "execution_count": null,
   "metadata": {},
   "outputs": [],
   "source": [
    "import pandas as pd\n",
    "import numpy as np\n",
    "\n",
    "ax = df['average_specificity'].plot()\n",
    "ax.set_xlabel(\"trial\")\n",
    "ax.set_ylabel(\"average_specificity\")\n",
    "ax.legend([\"specificity\"])\n"
   ]
  },
  {
   "cell_type": "code",
   "execution_count": null,
   "metadata": {},
   "outputs": [],
   "source": [
    "ax = df['fraction_accuracy'].plot()\n",
    "ax.set_xlabel(\"trial\")\n",
    "ax.set_ylabel(\"fraction accuracy\")\n",
    "ax.legend([\"fraction accuracy\"])"
   ]
  },
  {
   "cell_type": "code",
   "execution_count": null,
   "metadata": {},
   "outputs": [],
   "source": [
    "ax = df[['numerosity', 'population']].plot()\n",
    "ax.set_xlabel(\"trial\")\n",
    "ax.set_ylabel(\"population\")\n",
    "ax.legend([\"numerosity\", \"number of rules\"])"
   ]
  },
  {
   "cell_type": "code",
   "execution_count": null,
   "metadata": {},
   "outputs": [],
   "source": [
    "ax = df['steps_in_trial'].plot()\n",
    "ax.set_xlabel(\"trial\")\n",
    "ax.set_ylabel(\"steps in trial\")\n",
    "ax.legend([\"steps\"])"
   ]
  }
 ],
 "metadata": {
  "kernelspec": {
   "display_name": "Python 3",
   "language": "python",
   "name": "python3"
  },
  "language_info": {
   "codemirror_mode": {
    "name": "ipython",
    "version": 3
   },
   "file_extension": ".py",
   "mimetype": "text/x-python",
   "name": "python",
   "nbconvert_exporter": "python",
   "pygments_lexer": "ipython3",
   "version": "3.7.10"
  }
 },
 "nbformat": 4,
 "nbformat_minor": 1
}
