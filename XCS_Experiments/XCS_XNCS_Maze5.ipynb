{
 "cells": [
  {
   "cell_type": "code",
   "execution_count": 11,
   "metadata": {},
   "outputs": [],
   "source": [
    "# logging \n",
    "import logging\n",
    "logging.basicConfig(level=logging.INFO)\n",
    "logger = logging.getLogger(__name__)\n"
   ]
  },
  {
   "cell_type": "code",
   "execution_count": 12,
   "metadata": {},
   "outputs": [
    {
     "name": "stdout",
     "output_type": "stream",
     "text": [
      "This is how maze looks like\n",
      "<class 'tuple'>\n",
      "('1', '1', '0', '1', '1', '0', '0', '1')\n",
      "\n",
      "\u001b[30m■\u001b[0m \u001b[30m■\u001b[0m \u001b[30m■\u001b[0m \u001b[30m■\u001b[0m \u001b[30m■\u001b[0m \u001b[30m■\u001b[0m \u001b[30m■\u001b[0m \u001b[30m■\u001b[0m \u001b[30m■\u001b[0m\n",
      "\u001b[30m■\u001b[0m \u001b[37m□\u001b[0m \u001b[37m□\u001b[0m \u001b[37m□\u001b[0m \u001b[37m□\u001b[0m \u001b[31mA\u001b[0m \u001b[37m□\u001b[0m \u001b[33m$\u001b[0m \u001b[30m■\u001b[0m\n",
      "\u001b[30m■\u001b[0m \u001b[37m□\u001b[0m \u001b[37m□\u001b[0m \u001b[30m■\u001b[0m \u001b[37m□\u001b[0m \u001b[30m■\u001b[0m \u001b[30m■\u001b[0m \u001b[37m□\u001b[0m \u001b[30m■\u001b[0m\n",
      "\u001b[30m■\u001b[0m \u001b[37m□\u001b[0m \u001b[30m■\u001b[0m \u001b[37m□\u001b[0m \u001b[37m□\u001b[0m \u001b[37m□\u001b[0m \u001b[37m□\u001b[0m \u001b[37m□\u001b[0m \u001b[30m■\u001b[0m\n",
      "\u001b[30m■\u001b[0m \u001b[37m□\u001b[0m \u001b[37m□\u001b[0m \u001b[37m□\u001b[0m \u001b[30m■\u001b[0m \u001b[30m■\u001b[0m \u001b[37m□\u001b[0m \u001b[37m□\u001b[0m \u001b[30m■\u001b[0m\n",
      "\u001b[30m■\u001b[0m \u001b[37m□\u001b[0m \u001b[30m■\u001b[0m \u001b[37m□\u001b[0m \u001b[30m■\u001b[0m \u001b[37m□\u001b[0m \u001b[37m□\u001b[0m \u001b[30m■\u001b[0m \u001b[30m■\u001b[0m\n",
      "\u001b[30m■\u001b[0m \u001b[37m□\u001b[0m \u001b[30m■\u001b[0m \u001b[37m□\u001b[0m \u001b[37m□\u001b[0m \u001b[30m■\u001b[0m \u001b[37m□\u001b[0m \u001b[37m□\u001b[0m \u001b[30m■\u001b[0m\n",
      "\u001b[30m■\u001b[0m \u001b[37m□\u001b[0m \u001b[37m□\u001b[0m \u001b[37m□\u001b[0m \u001b[37m□\u001b[0m \u001b[37m□\u001b[0m \u001b[30m■\u001b[0m \u001b[37m□\u001b[0m \u001b[30m■\u001b[0m\n",
      "\u001b[30m■\u001b[0m \u001b[30m■\u001b[0m \u001b[30m■\u001b[0m \u001b[30m■\u001b[0m \u001b[30m■\u001b[0m \u001b[30m■\u001b[0m \u001b[30m■\u001b[0m \u001b[30m■\u001b[0m \u001b[30m■\u001b[0m\n"
     ]
    }
   ],
   "source": [
    "# environment setup\n",
    "import gym\n",
    "# noinspection PyUnresolvedReferences\n",
    "import gym_maze\n",
    "\n",
    "maze = gym.make('Maze5-v0')\n",
    "print(\"This is how maze looks like\")\n",
    "situation = maze.reset()\n",
    "print(type(situation))\n",
    "print(situation)\n",
    "maze.render()\n"
   ]
  },
  {
   "cell_type": "code",
   "execution_count": 13,
   "metadata": {},
   "outputs": [],
   "source": [
    "from lcs.agents.xcs import XCS\n",
    "from lcs.agents.xcs import Configuration as XCSConfig\n",
    "from lcs.agents.xncs import XNCS\n",
    "from lcs.agents.xncs import Configuration as XNCSConfig\n",
    "\n",
    "from utils.xcs_utils import xcs_metrics\n",
    "from utils.nxcs_utils import xcs_maze_metrics\n",
    "\n",
    "XCScfg = XCSConfig(number_of_actions=8,\n",
    "                    max_population=1600,\n",
    "                    learning_rate=0.2,\n",
    "                    alpha=0.1,\n",
    "                    gamma=0.71,\n",
    "                    mutation_chance=0.01,\n",
    "                    delta=0.1,\n",
    "                    ga_threshold=25,\n",
    "                    covering_wildcard_chance = 0.7,\n",
    "                    chi=1,      # crossover\n",
    "                    metrics_trial_frequency=100,\n",
    "                    initial_prediction =10,  # p_i\n",
    "                    initial_error = 0,  # epsilon_i\n",
    "                    initial_fitness = 10,  # f_i\n",
    "                    user_metrics_collector_fcn=xcs_metrics)\n",
    "\n",
    "XNCScfg = XNCSConfig(number_of_actions=8,\n",
    "                    max_population=1600,\n",
    "                    learning_rate=0.2,\n",
    "                    alpha=0.1,\n",
    "                    gamma=0.71,\n",
    "                    mutation_chance=0.01,\n",
    "                    delta=0.1,\n",
    "                    ga_threshold=25,\n",
    "                    covering_wildcard_chance = 0.7,\n",
    "                    chi=1,      # crossover\n",
    "                    metrics_trial_frequency=100,\n",
    "                    initial_prediction =10,  # p_i\n",
    "                    initial_error = 0,  # epsilon_i\n",
    "                    initial_fitness = 10,  # f_i\n",
    "                    user_metrics_collector_fcn=xcs_maze_metrics,\n",
    "                    lmc=10,\n",
    "                    lem=200)\n"
   ]
  },
  {
   "cell_type": "code",
   "execution_count": 14,
   "metadata": {
    "scrolled": true
   },
   "outputs": [
    {
     "name": "stderr",
     "output_type": "stream",
     "text": [
      "INFO:lcs.agents.Agent:{'trial': 0, 'steps_in_trial': 100, 'reward': 0.0, 'perf_time': 0.06253820000000587, 'population': 126, 'numerosity': 165, 'average_specificity': 7.096969696969697, 'fraction_accuracy': 1.0}\n"
     ]
    },
    {
     "name": "stdout",
     "output_type": "stream",
     "text": [
      "Executing 0 experiment\n"
     ]
    },
    {
     "name": "stderr",
     "output_type": "stream",
     "text": [
      "INFO:lcs.agents.Agent:{'trial': 200, 'steps_in_trial': 78, 'reward': 1000.000000002505, 'perf_time': 0.27959270000002334, 'population': 396, 'numerosity': 1608, 'average_specificity': 1.4987562189054726, 'fraction_accuracy': 4.2643295759091064e-14}\n",
      "INFO:lcs.agents.Agent:{'trial': 400, 'steps_in_trial': 91, 'reward': 1000.0000000000439, 'perf_time': 0.4170358999999735, 'population': 384, 'numerosity': 1600, 'average_specificity': 1.58625, 'fraction_accuracy': 2.1415101542369858e-16}\n",
      "INFO:lcs.agents.Agent:{'trial': 600, 'steps_in_trial': 100, 'reward': 1.3360874108439811e-12, 'perf_time': 0.33724660000007134, 'population': 425, 'numerosity': 1600, 'average_specificity': 1.925, 'fraction_accuracy': 5.124557041250983e-15}\n",
      "INFO:lcs.agents.Agent:{'trial': 800, 'steps_in_trial': 100, 'reward': 5.68865043410656e-87, 'perf_time': 0.4215346999999383, 'population': 433, 'numerosity': 1610, 'average_specificity': 1.8403726708074535, 'fraction_accuracy': 0.12500000000000894}\n",
      "INFO:lcs.agents.Agent:{'trial': 1000, 'steps_in_trial': 20, 'reward': 1001.0598250606099, 'perf_time': 0.07547710000005736, 'population': 420, 'numerosity': 1600, 'average_specificity': 1.843125, 'fraction_accuracy': 3.982374600568126e-15}\n",
      "INFO:lcs.agents.Agent:{'trial': 1200, 'steps_in_trial': 48, 'reward': 1000.000073355511, 'perf_time': 0.1547282000000223, 'population': 409, 'numerosity': 1610, 'average_specificity': 1.7074534161490684, 'fraction_accuracy': 1.8011701184367264e-13}\n",
      "INFO:lcs.agents.Agent:{'trial': 1400, 'steps_in_trial': 8, 'reward': 1000.0000000000001, 'perf_time': 0.035076499999945554, 'population': 423, 'numerosity': 1625, 'average_specificity': 1.5286153846153847, 'fraction_accuracy': 1.1037233985718512e-15}\n",
      "INFO:lcs.agents.Agent:{'trial': 1600, 'steps_in_trial': 100, 'reward': 2.385089144282033e-42, 'perf_time': 0.35824000000002343, 'population': 441, 'numerosity': 1600, 'average_specificity': 1.709375, 'fraction_accuracy': 2.807076946044657e-13}\n",
      "INFO:lcs.agents.Agent:{'trial': 1800, 'steps_in_trial': 100, 'reward': 1.3360874108178924e-12, 'perf_time': 0.3480598999999529, 'population': 398, 'numerosity': 1600, 'average_specificity': 1.709375, 'fraction_accuracy': 2.6253179515267053e-14}\n",
      "INFO:lcs.agents.Agent:{'trial': 0, 'steps_in_trial': 5, 'reward': 1000.0, 'perf_time': 0.014808900000048197, 'population': 414, 'numerosity': 1608, 'average_specificity': 1.4036069651741294, 'fraction_accuracy': 3.0334450615014376e-16}\n",
      "INFO:lcs.agents.Agent:{'trial': 0, 'steps_in_trial': 5, 'reward': 1000.0, 'perf_time': 0.014808900000048197, 'population': 414, 'numerosity': 1608, 'average_specificity': 1.4036069651741294, 'fraction_accuracy': 3.0334450615014376e-16}\n",
      "INFO:lcs.agents.Agent:{'trial': 100, 'steps_in_trial': 11, 'reward': 1023.3100628470183, 'perf_time': 0.020162000000027547, 'population': 416, 'numerosity': 1600, 'average_specificity': 1.399375, 'fraction_accuracy': 3.11563266549312e-16}\n",
      "INFO:lcs.agents.Agent:{'trial': 100, 'steps_in_trial': 11, 'reward': 1023.3100628470183, 'perf_time': 0.020162000000027547, 'population': 416, 'numerosity': 1600, 'average_specificity': 1.399375, 'fraction_accuracy': 3.11563266549312e-16}\n",
      "INFO:lcs.agents.Agent:{'trial': 200, 'steps_in_trial': 14, 'reward': 1008.2753165457598, 'perf_time': 0.026658499999939522, 'population': 416, 'numerosity': 1600, 'average_specificity': 1.399375, 'fraction_accuracy': 3.172026040567503e-16}\n",
      "INFO:lcs.agents.Agent:{'trial': 200, 'steps_in_trial': 14, 'reward': 1008.2753165457598, 'perf_time': 0.026658499999939522, 'population': 416, 'numerosity': 1600, 'average_specificity': 1.399375, 'fraction_accuracy': 3.172026040567503e-16}\n",
      "INFO:lcs.agents.Agent:{'trial': 300, 'steps_in_trial': 5, 'reward': 1292.3365996191624, 'perf_time': 0.010142800000039642, 'population': 416, 'numerosity': 1600, 'average_specificity': 1.399375, 'fraction_accuracy': 3.079463546378565e-16}\n",
      "INFO:lcs.agents.Agent:{'trial': 300, 'steps_in_trial': 5, 'reward': 1292.3365996191624, 'perf_time': 0.010142800000039642, 'population': 416, 'numerosity': 1600, 'average_specificity': 1.399375, 'fraction_accuracy': 3.079463546378565e-16}\n",
      "INFO:lcs.agents.Agent:{'trial': 400, 'steps_in_trial': 6, 'reward': 1129.6133550052593, 'perf_time': 0.011182599999983722, 'population': 416, 'numerosity': 1600, 'average_specificity': 1.399375, 'fraction_accuracy': 2.9778224269968364e-16}\n",
      "INFO:lcs.agents.Agent:{'trial': 400, 'steps_in_trial': 6, 'reward': 1129.6133550052593, 'perf_time': 0.011182599999983722, 'population': 416, 'numerosity': 1600, 'average_specificity': 1.399375, 'fraction_accuracy': 2.9778224269968364e-16}\n",
      "INFO:lcs.agents.Agent:{'trial': 0, 'steps_in_trial': 100, 'reward': 0.0, 'perf_time': 0.04122759999995651, 'population': 84, 'numerosity': 131, 'average_specificity': 4.7251908396946565, 'fraction_accuracy': 1.0}\n"
     ]
    },
    {
     "name": "stdout",
     "output_type": "stream",
     "text": [
      "Executing 1 experiment\n"
     ]
    },
    {
     "name": "stderr",
     "output_type": "stream",
     "text": [
      "INFO:lcs.agents.Agent:{'trial': 200, 'steps_in_trial': 41, 'reward': 1000.0008005705697, 'perf_time': 0.15911710000000312, 'population': 419, 'numerosity': 1615, 'average_specificity': 1.7362229102167184, 'fraction_accuracy': 2.4147610991807235e-16}\n",
      "INFO:lcs.agents.Agent:{'trial': 400, 'steps_in_trial': 15, 'reward': 1000.0, 'perf_time': 0.06484399999999368, 'population': 410, 'numerosity': 1612, 'average_specificity': 1.5955334987593053, 'fraction_accuracy': 7.652608216122318e-15}\n",
      "INFO:lcs.agents.Agent:{'trial': 600, 'steps_in_trial': 60, 'reward': 1000.0000011898738, 'perf_time': 0.22228180000001885, 'population': 444, 'numerosity': 1610, 'average_specificity': 1.595031055900621, 'fraction_accuracy': 5.447599868977616e-13}\n",
      "INFO:lcs.agents.Agent:{'trial': 800, 'steps_in_trial': 100, 'reward': 2.108551074529256e-27, 'perf_time': 0.42520569999999225, 'population': 422, 'numerosity': 1628, 'average_specificity': 1.5743243243243243, 'fraction_accuracy': 3.885602044115834e-15}\n",
      "INFO:lcs.agents.Agent:{'trial': 1000, 'steps_in_trial': 23, 'reward': 1000.3795496918801, 'perf_time': 0.09465560000001005, 'population': 402, 'numerosity': 1620, 'average_specificity': 1.7660493827160493, 'fraction_accuracy': 5.95878917694096e-14}\n",
      "INFO:lcs.agents.Agent:{'trial': 1200, 'steps_in_trial': 27, 'reward': 1000.097785924865, 'perf_time': 0.09503759999995509, 'population': 426, 'numerosity': 1608, 'average_specificity': 1.6753731343283582, 'fraction_accuracy': 3.8687884614792404e-14}\n",
      "INFO:lcs.agents.Agent:{'trial': 1400, 'steps_in_trial': 48, 'reward': 1000.0000909366032, 'perf_time': 0.1549258000000009, 'population': 428, 'numerosity': 1607, 'average_specificity': 1.7336652146857499, 'fraction_accuracy': 4.9621225580360335e-15}\n",
      "INFO:lcs.agents.Agent:{'trial': 1600, 'steps_in_trial': 8, 'reward': 1072.8474741941332, 'perf_time': 0.032100200000058976, 'population': 433, 'numerosity': 1618, 'average_specificity': 1.80778739184178, 'fraction_accuracy': 3.286975072819726e-14}\n",
      "INFO:lcs.agents.Agent:{'trial': 1800, 'steps_in_trial': 2, 'reward': 1886.947751958558, 'perf_time': 0.006033099999967817, 'population': 429, 'numerosity': 1619, 'average_specificity': 1.6967263743051266, 'fraction_accuracy': 2.0757204781698995e-14}\n",
      "INFO:lcs.agents.Agent:{'trial': 0, 'steps_in_trial': 2, 'reward': 1000.0, 'perf_time': 0.004669800000101532, 'population': 417, 'numerosity': 1600, 'average_specificity': 1.67625, 'fraction_accuracy': 5.888738476608822e-15}\n",
      "INFO:lcs.agents.Agent:{'trial': 0, 'steps_in_trial': 2, 'reward': 1000.0, 'perf_time': 0.004669800000101532, 'population': 417, 'numerosity': 1600, 'average_specificity': 1.67625, 'fraction_accuracy': 5.888738476608822e-15}\n",
      "INFO:lcs.agents.Agent:{'trial': 100, 'steps_in_trial': 28, 'reward': 1000.0684280023409, 'perf_time': 0.05595599999992373, 'population': 419, 'numerosity': 1600, 'average_specificity': 1.69125, 'fraction_accuracy': 1.2720494690704626e-13}\n",
      "INFO:lcs.agents.Agent:{'trial': 100, 'steps_in_trial': 28, 'reward': 1000.0684280023409, 'perf_time': 0.05595599999992373, 'population': 419, 'numerosity': 1600, 'average_specificity': 1.69125, 'fraction_accuracy': 1.2720494690704626e-13}\n",
      "INFO:lcs.agents.Agent:{'trial': 200, 'steps_in_trial': 4, 'reward': 1254.701822481875, 'perf_time': 0.0082379000000401, 'population': 419, 'numerosity': 1600, 'average_specificity': 1.69125, 'fraction_accuracy': 1.2717775943052014e-13}\n",
      "INFO:lcs.agents.Agent:{'trial': 200, 'steps_in_trial': 4, 'reward': 1254.701822481875, 'perf_time': 0.0082379000000401, 'population': 419, 'numerosity': 1600, 'average_specificity': 1.69125, 'fraction_accuracy': 1.2717775943052014e-13}\n",
      "INFO:lcs.agents.Agent:{'trial': 300, 'steps_in_trial': 9, 'reward': 1090.0549553445587, 'perf_time': 0.01771210000015344, 'population': 419, 'numerosity': 1600, 'average_specificity': 1.69125, 'fraction_accuracy': 1.2717698234854442e-13}\n",
      "INFO:lcs.agents.Agent:{'trial': 300, 'steps_in_trial': 9, 'reward': 1090.0549553445587, 'perf_time': 0.01771210000015344, 'population': 419, 'numerosity': 1600, 'average_specificity': 1.69125, 'fraction_accuracy': 1.2717698234854442e-13}\n",
      "INFO:lcs.agents.Agent:{'trial': 400, 'steps_in_trial': 10, 'reward': 1049.3675416883084, 'perf_time': 0.019111199999997552, 'population': 419, 'numerosity': 1600, 'average_specificity': 1.69125, 'fraction_accuracy': 1.2717140625815867e-13}\n",
      "INFO:lcs.agents.Agent:{'trial': 400, 'steps_in_trial': 10, 'reward': 1049.3675416883084, 'perf_time': 0.019111199999997552, 'population': 419, 'numerosity': 1600, 'average_specificity': 1.69125, 'fraction_accuracy': 1.2717140625815867e-13}\n",
      "INFO:lcs.agents.Agent:{'trial': 0, 'steps_in_trial': 100, 'reward': 0.0, 'perf_time': 0.0569206000000122, 'population': 106, 'numerosity': 162, 'average_specificity': 5.555555555555555, 'fraction_accuracy': 1.0}\n"
     ]
    },
    {
     "name": "stdout",
     "output_type": "stream",
     "text": [
      "Executing 2 experiment\n"
     ]
    },
    {
     "name": "stderr",
     "output_type": "stream",
     "text": [
      "INFO:lcs.agents.Agent:{'trial': 200, 'steps_in_trial': 17, 'reward': 1002.9951776723689, 'perf_time': 0.0480265999999574, 'population': 390, 'numerosity': 1600, 'average_specificity': 1.46125, 'fraction_accuracy': 2.6043564886487426e-15}\n",
      "INFO:lcs.agents.Agent:{'trial': 400, 'steps_in_trial': 11, 'reward': 1027.2853430663188, 'perf_time': 0.052370399999972506, 'population': 420, 'numerosity': 1631, 'average_specificity': 1.6535867565910485, 'fraction_accuracy': 8.833758529872932e-15}\n",
      "INFO:lcs.agents.Agent:{'trial': 600, 'steps_in_trial': 18, 'reward': 1002.1020853204966, 'perf_time': 0.07165610000015477, 'population': 423, 'numerosity': 1601, 'average_specificity': 1.679575265459088, 'fraction_accuracy': 7.689101856570159e-14}\n",
      "INFO:lcs.agents.Agent:{'trial': 800, 'steps_in_trial': 26, 'reward': 1000.1357428823436, 'perf_time': 0.08341640000003281, 'population': 408, 'numerosity': 1600, 'average_specificity': 1.70875, 'fraction_accuracy': 1.7389227073475782e-15}\n",
      "INFO:lcs.agents.Agent:{'trial': 1000, 'steps_in_trial': 59, 'reward': 1000.0000016758796, 'perf_time': 0.18506900000011228, 'population': 414, 'numerosity': 1612, 'average_specificity': 1.781637717121588, 'fraction_accuracy': 4.663472792806799e-16}\n",
      "INFO:lcs.agents.Agent:{'trial': 1200, 'steps_in_trial': 2, 'reward': 1510.1089488417292, 'perf_time': 0.007286600000043109, 'population': 411, 'numerosity': 1624, 'average_specificity': 1.6151477832512315, 'fraction_accuracy': 1.583805703943729e-14}\n",
      "INFO:lcs.agents.Agent:{'trial': 1400, 'steps_in_trial': 100, 'reward': 2.5391071180076405e-42, 'perf_time': 0.31390910000004624, 'population': 404, 'numerosity': 1612, 'average_specificity': 1.4646401985111663, 'fraction_accuracy': 2.607463856019496e-14}\n",
      "INFO:lcs.agents.Agent:{'trial': 1600, 'steps_in_trial': 47, 'reward': 1000.0001023421485, 'perf_time': 0.1891218000000663, 'population': 432, 'numerosity': 1600, 'average_specificity': 1.50375, 'fraction_accuracy': 0.12500000000011097}\n",
      "INFO:lcs.agents.Agent:{'trial': 1800, 'steps_in_trial': 7, 'reward': 1137.9313260020836, 'perf_time': 0.018364200000178243, 'population': 416, 'numerosity': 1600, 'average_specificity': 1.741875, 'fraction_accuracy': 1.7157725830625078e-14}\n",
      "INFO:lcs.agents.Agent:{'trial': 0, 'steps_in_trial': 14, 'reward': 1000.0, 'perf_time': 0.028540199999952165, 'population': 411, 'numerosity': 1600, 'average_specificity': 1.649375, 'fraction_accuracy': 9.827647596935087e-13}\n",
      "INFO:lcs.agents.Agent:{'trial': 0, 'steps_in_trial': 14, 'reward': 1000.0, 'perf_time': 0.028540199999952165, 'population': 411, 'numerosity': 1600, 'average_specificity': 1.649375, 'fraction_accuracy': 9.827647596935087e-13}\n",
      "INFO:lcs.agents.Agent:{'trial': 100, 'steps_in_trial': 5, 'reward': 1217.1419945542507, 'perf_time': 0.009598200000027646, 'population': 416, 'numerosity': 1600, 'average_specificity': 1.671875, 'fraction_accuracy': 5.235519186745211e-16}\n",
      "INFO:lcs.agents.Agent:{'trial': 100, 'steps_in_trial': 5, 'reward': 1217.1419945542507, 'perf_time': 0.009598200000027646, 'population': 416, 'numerosity': 1600, 'average_specificity': 1.671875, 'fraction_accuracy': 5.235519186745211e-16}\n",
      "INFO:lcs.agents.Agent:{'trial': 200, 'steps_in_trial': 3, 'reward': 1394.6340905672403, 'perf_time': 0.005917800000133866, 'population': 416, 'numerosity': 1600, 'average_specificity': 1.671875, 'fraction_accuracy': 5.444686752120476e-16}\n",
      "INFO:lcs.agents.Agent:{'trial': 200, 'steps_in_trial': 3, 'reward': 1394.6340905672403, 'perf_time': 0.005917800000133866, 'population': 416, 'numerosity': 1600, 'average_specificity': 1.671875, 'fraction_accuracy': 5.444686752120476e-16}\n",
      "INFO:lcs.agents.Agent:{'trial': 300, 'steps_in_trial': 1, 'reward': 1851.5539781047446, 'perf_time': 0.001954900000100679, 'population': 416, 'numerosity': 1600, 'average_specificity': 1.671875, 'fraction_accuracy': 5.15676751801418e-16}\n",
      "INFO:lcs.agents.Agent:{'trial': 300, 'steps_in_trial': 1, 'reward': 1851.5539781047446, 'perf_time': 0.001954900000100679, 'population': 416, 'numerosity': 1600, 'average_specificity': 1.671875, 'fraction_accuracy': 5.15676751801418e-16}\n",
      "INFO:lcs.agents.Agent:{'trial': 400, 'steps_in_trial': 2, 'reward': 1577.5160709423549, 'perf_time': 0.0037755000000743166, 'population': 416, 'numerosity': 1600, 'average_specificity': 1.671875, 'fraction_accuracy': 5.289603158901736e-16}\n",
      "INFO:lcs.agents.Agent:{'trial': 400, 'steps_in_trial': 2, 'reward': 1577.5160709423549, 'perf_time': 0.0037755000000743166, 'population': 416, 'numerosity': 1600, 'average_specificity': 1.671875, 'fraction_accuracy': 5.289603158901736e-16}\n",
      "INFO:lcs.agents.Agent:{'trial': 0, 'steps_in_trial': 100, 'reward': 0.0, 'perf_time': 0.06221719999984998, 'population': 128, 'numerosity': 177, 'average_specificity': 5.6440677966101696, 'fraction_accuracy': 1.0}\n"
     ]
    },
    {
     "name": "stdout",
     "output_type": "stream",
     "text": [
      "Executing 3 experiment\n"
     ]
    },
    {
     "name": "stderr",
     "output_type": "stream",
     "text": [
      "INFO:lcs.agents.Agent:{'trial': 200, 'steps_in_trial': 6, 'reward': 1128.1014068025777, 'perf_time': 0.020035099999859085, 'population': 394, 'numerosity': 1620, 'average_specificity': 1.4654320987654321, 'fraction_accuracy': 1.349897576372841e-15}\n",
      "INFO:lcs.agents.Agent:{'trial': 400, 'steps_in_trial': 2, 'reward': 1568.6815767455803, 'perf_time': 0.003869000000122469, 'population': 393, 'numerosity': 1600, 'average_specificity': 1.526875, 'fraction_accuracy': 3.399021900813915e-14}\n",
      "INFO:lcs.agents.Agent:{'trial': 600, 'steps_in_trial': 15, 'reward': 1006.9330696106316, 'perf_time': 0.058421700000053534, 'population': 443, 'numerosity': 1605, 'average_specificity': 1.6679127725856697, 'fraction_accuracy': 0.1250000000000013}\n",
      "INFO:lcs.agents.Agent:{'trial': 800, 'steps_in_trial': 47, 'reward': 1000.0001021274269, 'perf_time': 0.16425050000020747, 'population': 434, 'numerosity': 1600, 'average_specificity': 1.74875, 'fraction_accuracy': 5.64360981821192e-13}\n",
      "INFO:lcs.agents.Agent:{'trial': 1000, 'steps_in_trial': 1, 'reward': 1710.0001438414463, 'perf_time': 0.00280960000009145, 'population': 427, 'numerosity': 1605, 'average_specificity': 1.6186915887850468, 'fraction_accuracy': 5.341949370714172e-15}\n",
      "INFO:lcs.agents.Agent:{'trial': 1200, 'steps_in_trial': 34, 'reward': 1000.0091675362224, 'perf_time': 0.1126345999998648, 'population': 393, 'numerosity': 1600, 'average_specificity': 1.443125, 'fraction_accuracy': 2.7880668801621503e-14}\n",
      "INFO:lcs.agents.Agent:{'trial': 1400, 'steps_in_trial': 28, 'reward': 1000.0684279869894, 'perf_time': 0.1094231999998101, 'population': 396, 'numerosity': 1631, 'average_specificity': 1.4365419987737584, 'fraction_accuracy': 7.754805459871313e-15}\n",
      "INFO:lcs.agents.Agent:{'trial': 1600, 'steps_in_trial': 100, 'reward': 1.3360933146694008e-12, 'perf_time': 0.32613130000004276, 'population': 422, 'numerosity': 1605, 'average_specificity': 1.570716510903427, 'fraction_accuracy': 9.589032907476773e-14}\n",
      "INFO:lcs.agents.Agent:{'trial': 1800, 'steps_in_trial': 59, 'reward': 1000.0000016758787, 'perf_time': 0.19715770000016164, 'population': 426, 'numerosity': 1608, 'average_specificity': 1.7699004975124377, 'fraction_accuracy': 9.014297163479192e-15}\n",
      "INFO:lcs.agents.Agent:{'trial': 0, 'steps_in_trial': 12, 'reward': 1000.0, 'perf_time': 0.024130799999966257, 'population': 421, 'numerosity': 1600, 'average_specificity': 1.749375, 'fraction_accuracy': 2.091332605247143e-14}\n",
      "INFO:lcs.agents.Agent:{'trial': 0, 'steps_in_trial': 12, 'reward': 1000.0, 'perf_time': 0.024130799999966257, 'population': 421, 'numerosity': 1600, 'average_specificity': 1.749375, 'fraction_accuracy': 2.091332605247143e-14}\n",
      "INFO:lcs.agents.Agent:{'trial': 100, 'steps_in_trial': 9, 'reward': 1046.935166685391, 'perf_time': 0.01731530000006387, 'population': 425, 'numerosity': 1600, 'average_specificity': 1.779375, 'fraction_accuracy': 3.2398432282948267e-15}\n",
      "INFO:lcs.agents.Agent:{'trial': 100, 'steps_in_trial': 9, 'reward': 1046.935166685391, 'perf_time': 0.01731530000006387, 'population': 425, 'numerosity': 1600, 'average_specificity': 1.779375, 'fraction_accuracy': 3.2398432282948267e-15}\n",
      "INFO:lcs.agents.Agent:{'trial': 200, 'steps_in_trial': 15, 'reward': 1006.2556805829911, 'perf_time': 0.03276260000006914, 'population': 425, 'numerosity': 1600, 'average_specificity': 1.779375, 'fraction_accuracy': 3.2454724153983766e-15}\n",
      "INFO:lcs.agents.Agent:{'trial': 200, 'steps_in_trial': 15, 'reward': 1006.2556805829911, 'perf_time': 0.03276260000006914, 'population': 425, 'numerosity': 1600, 'average_specificity': 1.779375, 'fraction_accuracy': 3.2454724153983766e-15}\n",
      "INFO:lcs.agents.Agent:{'trial': 300, 'steps_in_trial': 10, 'reward': 1033.375487562811, 'perf_time': 0.019922300000189352, 'population': 425, 'numerosity': 1600, 'average_specificity': 1.779375, 'fraction_accuracy': 3.2498416161577883e-15}\n",
      "INFO:lcs.agents.Agent:{'trial': 300, 'steps_in_trial': 10, 'reward': 1033.375487562811, 'perf_time': 0.019922300000189352, 'population': 425, 'numerosity': 1600, 'average_specificity': 1.779375, 'fraction_accuracy': 3.2498416161577883e-15}\n",
      "INFO:lcs.agents.Agent:{'trial': 400, 'steps_in_trial': 1, 'reward': 1712.2570008108307, 'perf_time': 0.0020027999999001622, 'population': 425, 'numerosity': 1600, 'average_specificity': 1.779375, 'fraction_accuracy': 3.2709471120343087e-15}\n",
      "INFO:lcs.agents.Agent:{'trial': 400, 'steps_in_trial': 1, 'reward': 1712.2570008108307, 'perf_time': 0.0020027999999001622, 'population': 425, 'numerosity': 1600, 'average_specificity': 1.779375, 'fraction_accuracy': 3.2709471120343087e-15}\n",
      "INFO:lcs.agents.Agent:{'trial': 0, 'steps_in_trial': 100, 'reward': 0.0, 'perf_time': 0.05526640000016414, 'population': 122, 'numerosity': 158, 'average_specificity': 6.19620253164557, 'fraction_accuracy': 1.0}\n"
     ]
    },
    {
     "name": "stdout",
     "output_type": "stream",
     "text": [
      "Executing 4 experiment\n"
     ]
    },
    {
     "name": "stderr",
     "output_type": "stream",
     "text": [
      "INFO:lcs.agents.Agent:{'trial': 200, 'steps_in_trial': 14, 'reward': 1009.3441904942564, 'perf_time': 0.039277999999967506, 'population': 381, 'numerosity': 1601, 'average_specificity': 1.4022485946283574, 'fraction_accuracy': 3.6707231430296775e-17}\n",
      "INFO:lcs.agents.Agent:{'trial': 400, 'steps_in_trial': 90, 'reward': 1000.000000000041, 'perf_time': 0.3325873999999658, 'population': 413, 'numerosity': 1604, 'average_specificity': 1.770573566084788, 'fraction_accuracy': 2.384279962823558e-16}\n",
      "INFO:lcs.agents.Agent:{'trial': 600, 'steps_in_trial': 86, 'reward': 1000.0000000001615, 'perf_time': 0.32879240000011123, 'population': 417, 'numerosity': 1600, 'average_specificity': 1.576875, 'fraction_accuracy': 1.6474561771229593e-14}\n",
      "INFO:lcs.agents.Agent:{'trial': 800, 'steps_in_trial': 100, 'reward': 1.7851295693460595e-27, 'perf_time': 0.43176279999988765, 'population': 423, 'numerosity': 1602, 'average_specificity': 2.0299625468164795, 'fraction_accuracy': 4.884918419637674e-13}\n",
      "INFO:lcs.agents.Agent:{'trial': 1000, 'steps_in_trial': 49, 'reward': 1000.0000521368053, 'perf_time': 0.1788064999998369, 'population': 427, 'numerosity': 1600, 'average_specificity': 1.82875, 'fraction_accuracy': 3.47471767650692e-14}\n",
      "INFO:lcs.agents.Agent:{'trial': 1200, 'steps_in_trial': 18, 'reward': 1002.6362601649095, 'perf_time': 0.07186969999997928, 'population': 421, 'numerosity': 1600, 'average_specificity': 1.683125, 'fraction_accuracy': 2.0488581887925215e-14}\n",
      "INFO:lcs.agents.Agent:{'trial': 1400, 'steps_in_trial': 100, 'reward': 2.4878177713919e-12, 'perf_time': 0.3223646999999801, 'population': 410, 'numerosity': 1610, 'average_specificity': 1.565217391304348, 'fraction_accuracy': 7.403620228783719e-14}\n",
      "INFO:lcs.agents.Agent:{'trial': 1600, 'steps_in_trial': 98, 'reward': 1000.0, 'perf_time': 0.3770556000004035, 'population': 420, 'numerosity': 1600, 'average_specificity': 1.511875, 'fraction_accuracy': 0.12500000000008363}\n",
      "INFO:lcs.agents.Agent:{'trial': 1800, 'steps_in_trial': 100, 'reward': 1.3360874108178924e-12, 'perf_time': 0.35674059999973906, 'population': 406, 'numerosity': 1600, 'average_specificity': 1.840625, 'fraction_accuracy': 5.448062201231181e-14}\n",
      "INFO:lcs.agents.Agent:{'trial': 0, 'steps_in_trial': 100, 'reward': 0.0, 'perf_time': 0.22324079999998503, 'population': 432, 'numerosity': 1600, 'average_specificity': 1.840625, 'fraction_accuracy': 0.12500000000069988}\n",
      "INFO:lcs.agents.Agent:{'trial': 0, 'steps_in_trial': 100, 'reward': 0.0, 'perf_time': 0.22324079999998503, 'population': 432, 'numerosity': 1600, 'average_specificity': 1.840625, 'fraction_accuracy': 0.12500000000069988}\n",
      "INFO:lcs.agents.Agent:{'trial': 100, 'steps_in_trial': 4, 'reward': 1303.2824684300222, 'perf_time': 0.007780899999943358, 'population': 437, 'numerosity': 1600, 'average_specificity': 1.849375, 'fraction_accuracy': 0.12500000000034775}\n",
      "INFO:lcs.agents.Agent:{'trial': 100, 'steps_in_trial': 4, 'reward': 1303.2824684300222, 'perf_time': 0.007780899999943358, 'population': 437, 'numerosity': 1600, 'average_specificity': 1.849375, 'fraction_accuracy': 0.12500000000034775}\n",
      "INFO:lcs.agents.Agent:{'trial': 200, 'steps_in_trial': 27, 'reward': 1000.1488272861739, 'perf_time': 0.05521070000031614, 'population': 437, 'numerosity': 1600, 'average_specificity': 1.849375, 'fraction_accuracy': 0.12500000000034775}\n",
      "INFO:lcs.agents.Agent:{'trial': 200, 'steps_in_trial': 27, 'reward': 1000.1488272861739, 'perf_time': 0.05521070000031614, 'population': 437, 'numerosity': 1600, 'average_specificity': 1.849375, 'fraction_accuracy': 0.12500000000034775}\n",
      "INFO:lcs.agents.Agent:{'trial': 300, 'steps_in_trial': 22, 'reward': 1000.578485720635, 'perf_time': 0.06642760000022463, 'population': 437, 'numerosity': 1600, 'average_specificity': 1.849375, 'fraction_accuracy': 0.12500000000034775}\n",
      "INFO:lcs.agents.Agent:{'trial': 300, 'steps_in_trial': 22, 'reward': 1000.578485720635, 'perf_time': 0.06642760000022463, 'population': 437, 'numerosity': 1600, 'average_specificity': 1.849375, 'fraction_accuracy': 0.12500000000034775}\n",
      "INFO:lcs.agents.Agent:{'trial': 400, 'steps_in_trial': 6, 'reward': 1128.117677307661, 'perf_time': 0.011320699999942008, 'population': 437, 'numerosity': 1600, 'average_specificity': 1.849375, 'fraction_accuracy': 0.12500000000034775}\n",
      "INFO:lcs.agents.Agent:{'trial': 400, 'steps_in_trial': 6, 'reward': 1128.117677307661, 'perf_time': 0.011320699999942008, 'population': 437, 'numerosity': 1600, 'average_specificity': 1.849375, 'fraction_accuracy': 0.12500000000034775}\n",
      "INFO:lcs.agents.Agent:{'trial': 0, 'steps_in_trial': 100, 'reward': 0.0, 'perf_time': 0.05312099999991915, 'population': 103, 'numerosity': 159, 'average_specificity': 4.528301886792453, 'fraction_accuracy': 1.0}\n"
     ]
    },
    {
     "name": "stdout",
     "output_type": "stream",
     "text": [
      "Executing 5 experiment\n"
     ]
    },
    {
     "name": "stderr",
     "output_type": "stream",
     "text": [
      "INFO:lcs.agents.Agent:{'trial': 200, 'steps_in_trial': 100, 'reward': 1.3360874109624846e-12, 'perf_time': 0.3772610999999415, 'population': 397, 'numerosity': 1600, 'average_specificity': 1.538125, 'fraction_accuracy': 8.13230256674537e-15}\n",
      "INFO:lcs.agents.Agent:{'trial': 400, 'steps_in_trial': 6, 'reward': 1128.100283921, 'perf_time': 0.019781399999828864, 'population': 416, 'numerosity': 1604, 'average_specificity': 1.8341645885286784, 'fraction_accuracy': 3.597178797605008e-16}\n",
      "INFO:lcs.agents.Agent:{'trial': 600, 'steps_in_trial': 100, 'reward': 1.3360874796029265e-12, 'perf_time': 0.30546060000006037, 'population': 391, 'numerosity': 1600, 'average_specificity': 1.614375, 'fraction_accuracy': 5.845693579350476e-15}\n",
      "INFO:lcs.agents.Agent:{'trial': 800, 'steps_in_trial': 10, 'reward': 1032.5524355100988, 'perf_time': 0.03257949999988341, 'population': 375, 'numerosity': 1600, 'average_specificity': 1.41625, 'fraction_accuracy': 2.0539538709219464e-16}\n",
      "INFO:lcs.agents.Agent:{'trial': 1000, 'steps_in_trial': 25, 'reward': 1000.2875646059553, 'perf_time': 0.0675188000000162, 'population': 407, 'numerosity': 1600, 'average_specificity': 1.743125, 'fraction_accuracy': 2.636873910908212e-16}\n",
      "INFO:lcs.agents.Agent:{'trial': 1200, 'steps_in_trial': 17, 'reward': 1003.0299083570212, 'perf_time': 0.06699680000019725, 'population': 404, 'numerosity': 1620, 'average_specificity': 1.4895061728395063, 'fraction_accuracy': 9.584941167472967e-14}\n",
      "INFO:lcs.agents.Agent:{'trial': 1400, 'steps_in_trial': 15, 'reward': 1000.0, 'perf_time': 0.06594420000010359, 'population': 405, 'numerosity': 1603, 'average_specificity': 1.569557080474111, 'fraction_accuracy': 4.0829432393661864e-16}\n",
      "INFO:lcs.agents.Agent:{'trial': 1600, 'steps_in_trial': 100, 'reward': 2.3850966270713637e-42, 'perf_time': 0.4343106999999691, 'population': 411, 'numerosity': 1616, 'average_specificity': 1.7073019801980198, 'fraction_accuracy': 6.344738056600964e-13}\n",
      "INFO:lcs.agents.Agent:{'trial': 1800, 'steps_in_trial': 9, 'reward': 1045.848501020816, 'perf_time': 0.028736899999785237, 'population': 402, 'numerosity': 1601, 'average_specificity': 1.5865084322298564, 'fraction_accuracy': 3.0259676577334363e-15}\n",
      "INFO:lcs.agents.Agent:{'trial': 0, 'steps_in_trial': 3, 'reward': 1000.0, 'perf_time': 0.007956500000091182, 'population': 439, 'numerosity': 1615, 'average_specificity': 1.74984520123839, 'fraction_accuracy': 1.690767876200006e-14}\n",
      "INFO:lcs.agents.Agent:{'trial': 0, 'steps_in_trial': 3, 'reward': 1000.0, 'perf_time': 0.007956500000091182, 'population': 439, 'numerosity': 1615, 'average_specificity': 1.74984520123839, 'fraction_accuracy': 1.690767876200006e-14}\n",
      "INFO:lcs.agents.Agent:{'trial': 100, 'steps_in_trial': 8, 'reward': 1117.130726409647, 'perf_time': 0.015377900000203226, 'population': 441, 'numerosity': 1600, 'average_specificity': 1.7675, 'fraction_accuracy': 4.191874690131602e-16}\n",
      "INFO:lcs.agents.Agent:{'trial': 100, 'steps_in_trial': 8, 'reward': 1117.130726409647, 'perf_time': 0.015377900000203226, 'population': 441, 'numerosity': 1600, 'average_specificity': 1.7675, 'fraction_accuracy': 4.191874690131602e-16}\n",
      "INFO:lcs.agents.Agent:{'trial': 200, 'steps_in_trial': 2, 'reward': 1541.0920329576616, 'perf_time': 0.0037751000004391244, 'population': 441, 'numerosity': 1600, 'average_specificity': 1.7675, 'fraction_accuracy': 4.1255949961799803e-16}\n",
      "INFO:lcs.agents.Agent:{'trial': 200, 'steps_in_trial': 2, 'reward': 1541.0920329576616, 'perf_time': 0.0037751000004391244, 'population': 441, 'numerosity': 1600, 'average_specificity': 1.7675, 'fraction_accuracy': 4.1255949961799803e-16}\n",
      "INFO:lcs.agents.Agent:{'trial': 300, 'steps_in_trial': 7, 'reward': 1099.6249527214961, 'perf_time': 0.0137776000001395, 'population': 441, 'numerosity': 1600, 'average_specificity': 1.7675, 'fraction_accuracy': 4.1500204286309405e-16}\n",
      "INFO:lcs.agents.Agent:{'trial': 300, 'steps_in_trial': 7, 'reward': 1099.6249527214961, 'perf_time': 0.0137776000001395, 'population': 441, 'numerosity': 1600, 'average_specificity': 1.7675, 'fraction_accuracy': 4.1500204286309405e-16}\n",
      "INFO:lcs.agents.Agent:{'trial': 400, 'steps_in_trial': 9, 'reward': 1062.1148392885812, 'perf_time': 0.017283399999996618, 'population': 441, 'numerosity': 1600, 'average_specificity': 1.7675, 'fraction_accuracy': 4.1476618129518583e-16}\n",
      "INFO:lcs.agents.Agent:{'trial': 400, 'steps_in_trial': 9, 'reward': 1062.1148392885812, 'perf_time': 0.017283399999996618, 'population': 441, 'numerosity': 1600, 'average_specificity': 1.7675, 'fraction_accuracy': 4.1476618129518583e-16}\n",
      "INFO:lcs.agents.Agent:{'trial': 0, 'steps_in_trial': 18, 'reward': 1000.0, 'perf_time': 0.006428400000004331, 'population': 54, 'numerosity': 54, 'average_specificity': 7.425925925925926, 'fraction_accuracy': 1.0}\n"
     ]
    },
    {
     "name": "stdout",
     "output_type": "stream",
     "text": [
      "Executing 6 experiment\n"
     ]
    },
    {
     "name": "stderr",
     "output_type": "stream",
     "text": [
      "INFO:lcs.agents.Agent:{'trial': 200, 'steps_in_trial': 25, 'reward': 1000.1911937699123, 'perf_time': 0.09021819999998115, 'population': 410, 'numerosity': 1601, 'average_specificity': 1.5084322298563397, 'fraction_accuracy': 3.228471125356339e-15}\n",
      "INFO:lcs.agents.Agent:{'trial': 400, 'steps_in_trial': 18, 'reward': 1002.1022335419653, 'perf_time': 0.06696229999988645, 'population': 410, 'numerosity': 1614, 'average_specificity': 1.5272614622057001, 'fraction_accuracy': 2.2295874695586672e-14}\n",
      "INFO:lcs.agents.Agent:{'trial': 600, 'steps_in_trial': 3, 'reward': 1357.9133787692253, 'perf_time': 0.011399499999697582, 'population': 382, 'numerosity': 1600, 'average_specificity': 1.73625, 'fraction_accuracy': 5.460775293230958e-15}\n",
      "INFO:lcs.agents.Agent:{'trial': 800, 'steps_in_trial': 6, 'reward': 1160.6527194311195, 'perf_time': 0.026090900000326656, 'population': 416, 'numerosity': 1606, 'average_specificity': 1.526774595267746, 'fraction_accuracy': 9.812592824402959e-15}\n",
      "INFO:lcs.agents.Agent:{'trial': 1000, 'steps_in_trial': 36, 'reward': 1000.0044187614235, 'perf_time': 0.14691899999979796, 'population': 404, 'numerosity': 1608, 'average_specificity': 1.6156716417910448, 'fraction_accuracy': 3.117609470895474e-16}\n",
      "INFO:lcs.agents.Agent:{'trial': 1200, 'steps_in_trial': 11, 'reward': 1023.1122674405821, 'perf_time': 0.04508739999982936, 'population': 413, 'numerosity': 1600, 'average_specificity': 1.536875, 'fraction_accuracy': 3.684917564344625e-13}\n",
      "INFO:lcs.agents.Agent:{'trial': 1400, 'steps_in_trial': 100, 'reward': 1.3360874109627779e-12, 'perf_time': 0.38309700000036173, 'population': 414, 'numerosity': 1603, 'average_specificity': 1.5202744853399874, 'fraction_accuracy': 1.1633352220951853e-14}\n",
      "INFO:lcs.agents.Agent:{'trial': 1600, 'steps_in_trial': 16, 'reward': 1004.1761998388024, 'perf_time': 0.06483129999969606, 'population': 412, 'numerosity': 1604, 'average_specificity': 1.819201995012469, 'fraction_accuracy': 6.189557921323695e-16}\n",
      "INFO:lcs.agents.Agent:{'trial': 1800, 'steps_in_trial': 100, 'reward': 1.7851295693505257e-27, 'perf_time': 0.41308230000004187, 'population': 428, 'numerosity': 1607, 'average_specificity': 1.7367766023646547, 'fraction_accuracy': 1.0328701007725174e-13}\n",
      "INFO:lcs.agents.Agent:{'trial': 0, 'steps_in_trial': 52, 'reward': 1000.0, 'perf_time': 0.1258154000001923, 'population': 409, 'numerosity': 1600, 'average_specificity': 1.789375, 'fraction_accuracy': 4.6591806504747254e-15}\n",
      "INFO:lcs.agents.Agent:{'trial': 0, 'steps_in_trial': 52, 'reward': 1000.0, 'perf_time': 0.1258154000001923, 'population': 409, 'numerosity': 1600, 'average_specificity': 1.789375, 'fraction_accuracy': 4.6591806504747254e-15}\n",
      "INFO:lcs.agents.Agent:{'trial': 100, 'steps_in_trial': 46, 'reward': 1000.0001953446684, 'perf_time': 0.08955510000032518, 'population': 411, 'numerosity': 1600, 'average_specificity': 1.704375, 'fraction_accuracy': 9.511545397916755e-15}\n",
      "INFO:lcs.agents.Agent:{'trial': 100, 'steps_in_trial': 46, 'reward': 1000.0001953446684, 'perf_time': 0.08955510000032518, 'population': 411, 'numerosity': 1600, 'average_specificity': 1.704375, 'fraction_accuracy': 9.511545397916755e-15}\n",
      "INFO:lcs.agents.Agent:{'trial': 200, 'steps_in_trial': 7, 'reward': 1090.9701718138663, 'perf_time': 0.014024300000073708, 'population': 411, 'numerosity': 1600, 'average_specificity': 1.704375, 'fraction_accuracy': 2.8146451445734004e-15}\n",
      "INFO:lcs.agents.Agent:{'trial': 200, 'steps_in_trial': 7, 'reward': 1090.9701718138663, 'perf_time': 0.014024300000073708, 'population': 411, 'numerosity': 1600, 'average_specificity': 1.704375, 'fraction_accuracy': 2.8146451445734004e-15}\n",
      "INFO:lcs.agents.Agent:{'trial': 300, 'steps_in_trial': 8, 'reward': 1064.6761501977383, 'perf_time': 0.01646619999974064, 'population': 411, 'numerosity': 1600, 'average_specificity': 1.704375, 'fraction_accuracy': 2.8071940749831596e-15}\n",
      "INFO:lcs.agents.Agent:{'trial': 300, 'steps_in_trial': 8, 'reward': 1064.6761501977383, 'perf_time': 0.01646619999974064, 'population': 411, 'numerosity': 1600, 'average_specificity': 1.704375, 'fraction_accuracy': 2.8071940749831596e-15}\n",
      "INFO:lcs.agents.Agent:{'trial': 400, 'steps_in_trial': 6, 'reward': 1151.229908429945, 'perf_time': 0.011808100000052946, 'population': 411, 'numerosity': 1600, 'average_specificity': 1.704375, 'fraction_accuracy': 3.040686936628766e-15}\n",
      "INFO:lcs.agents.Agent:{'trial': 400, 'steps_in_trial': 6, 'reward': 1151.229908429945, 'perf_time': 0.011808100000052946, 'population': 411, 'numerosity': 1600, 'average_specificity': 1.704375, 'fraction_accuracy': 3.040686936628766e-15}\n",
      "INFO:lcs.agents.Agent:{'trial': 0, 'steps_in_trial': 100, 'reward': 0.0, 'perf_time': 0.06868609999992259, 'population': 116, 'numerosity': 174, 'average_specificity': 7.787356321839081, 'fraction_accuracy': 1.0}\n"
     ]
    },
    {
     "name": "stdout",
     "output_type": "stream",
     "text": [
      "Executing 7 experiment\n"
     ]
    },
    {
     "name": "stderr",
     "output_type": "stream",
     "text": [
      "INFO:lcs.agents.Agent:{'trial': 200, 'steps_in_trial': 21, 'reward': 1000.7523593509238, 'perf_time': 0.06968349999988277, 'population': 371, 'numerosity': 1610, 'average_specificity': 1.4527950310559006, 'fraction_accuracy': 0.12500000000001335}\n",
      "INFO:lcs.agents.Agent:{'trial': 400, 'steps_in_trial': 41, 'reward': 1000.0007975482725, 'perf_time': 0.1564067000003888, 'population': 404, 'numerosity': 1600, 'average_specificity': 1.57875, 'fraction_accuracy': 1.428695801104816e-14}\n",
      "INFO:lcs.agents.Agent:{'trial': 600, 'steps_in_trial': 58, 'reward': 1000.0000023605072, 'perf_time': 0.2541174999996656, 'population': 438, 'numerosity': 1606, 'average_specificity': 1.9943960149439601, 'fraction_accuracy': 5.094903335799216e-15}\n",
      "INFO:lcs.agents.Agent:{'trial': 800, 'steps_in_trial': 100, 'reward': 1.3360874108181085e-12, 'perf_time': 0.3348968000000241, 'population': 398, 'numerosity': 1603, 'average_specificity': 1.357454772301934, 'fraction_accuracy': 7.156882366831464e-17}\n",
      "INFO:lcs.agents.Agent:{'trial': 1000, 'steps_in_trial': 36, 'reward': 1000.0, 'perf_time': 0.1625835999998344, 'population': 427, 'numerosity': 1605, 'average_specificity': 1.9844236760124612, 'fraction_accuracy': 2.0286698280774733e-14}\n",
      "INFO:lcs.agents.Agent:{'trial': 1200, 'steps_in_trial': 10, 'reward': 1036.992091335696, 'perf_time': 0.034174200000052224, 'population': 425, 'numerosity': 1603, 'average_specificity': 1.5408608858390518, 'fraction_accuracy': 3.3126284547659565e-14}\n",
      "INFO:lcs.agents.Agent:{'trial': 1400, 'steps_in_trial': 9, 'reward': 1045.848500718449, 'perf_time': 0.040285299999595736, 'population': 392, 'numerosity': 1617, 'average_specificity': 1.4106369820655535, 'fraction_accuracy': 3.7733260418587835e-15}\n",
      "INFO:lcs.agents.Agent:{'trial': 1600, 'steps_in_trial': 100, 'reward': 1.7851295693460595e-27, 'perf_time': 0.3460162000001219, 'population': 424, 'numerosity': 1600, 'average_specificity': 1.49875, 'fraction_accuracy': 4.833258918715306e-14}\n",
      "INFO:lcs.agents.Agent:{'trial': 1800, 'steps_in_trial': 35, 'reward': 1000.0090171498651, 'perf_time': 0.10215429999971093, 'population': 410, 'numerosity': 1610, 'average_specificity': 1.6198757763975156, 'fraction_accuracy': 1.2405369768656566e-15}\n",
      "INFO:lcs.agents.Agent:{'trial': 0, 'steps_in_trial': 28, 'reward': 1000.0, 'perf_time': 0.0534509999997681, 'population': 404, 'numerosity': 1600, 'average_specificity': 1.619375, 'fraction_accuracy': 3.649017685451792e-16}\n",
      "INFO:lcs.agents.Agent:{'trial': 0, 'steps_in_trial': 28, 'reward': 1000.0, 'perf_time': 0.0534509999997681, 'population': 404, 'numerosity': 1600, 'average_specificity': 1.619375, 'fraction_accuracy': 3.649017685451792e-16}\n",
      "INFO:lcs.agents.Agent:{'trial': 100, 'steps_in_trial': 6, 'reward': 1136.2902296086086, 'perf_time': 0.013294299999870418, 'population': 413, 'numerosity': 1600, 'average_specificity': 1.626875, 'fraction_accuracy': 1.5798286791580493e-15}\n",
      "INFO:lcs.agents.Agent:{'trial': 100, 'steps_in_trial': 6, 'reward': 1136.2902296086086, 'perf_time': 0.013294299999870418, 'population': 413, 'numerosity': 1600, 'average_specificity': 1.626875, 'fraction_accuracy': 1.5798286791580493e-15}\n",
      "INFO:lcs.agents.Agent:{'trial': 200, 'steps_in_trial': 4, 'reward': 1254.9001781723925, 'perf_time': 0.008132000000387052, 'population': 413, 'numerosity': 1600, 'average_specificity': 1.626875, 'fraction_accuracy': 1.5804257796966955e-15}\n",
      "INFO:lcs.agents.Agent:{'trial': 200, 'steps_in_trial': 4, 'reward': 1254.9001781723925, 'perf_time': 0.008132000000387052, 'population': 413, 'numerosity': 1600, 'average_specificity': 1.626875, 'fraction_accuracy': 1.5804257796966955e-15}\n",
      "INFO:lcs.agents.Agent:{'trial': 300, 'steps_in_trial': 22, 'reward': 1000.6137292476651, 'perf_time': 0.04240119999985836, 'population': 413, 'numerosity': 1600, 'average_specificity': 1.626875, 'fraction_accuracy': 1.58266011378686e-15}\n",
      "INFO:lcs.agents.Agent:{'trial': 300, 'steps_in_trial': 22, 'reward': 1000.6137292476651, 'perf_time': 0.04240119999985836, 'population': 413, 'numerosity': 1600, 'average_specificity': 1.626875, 'fraction_accuracy': 1.58266011378686e-15}\n",
      "INFO:lcs.agents.Agent:{'trial': 400, 'steps_in_trial': 9, 'reward': 1050.0682598677245, 'perf_time': 0.01734069999974963, 'population': 413, 'numerosity': 1600, 'average_specificity': 1.626875, 'fraction_accuracy': 1.597277363296616e-15}\n",
      "INFO:lcs.agents.Agent:{'trial': 400, 'steps_in_trial': 9, 'reward': 1050.0682598677245, 'perf_time': 0.01734069999974963, 'population': 413, 'numerosity': 1600, 'average_specificity': 1.626875, 'fraction_accuracy': 1.597277363296616e-15}\n",
      "INFO:lcs.agents.Agent:{'trial': 0, 'steps_in_trial': 100, 'reward': 0.0, 'perf_time': 0.06107370000017909, 'population': 104, 'numerosity': 177, 'average_specificity': 4.293785310734464, 'fraction_accuracy': 1.0}\n"
     ]
    },
    {
     "name": "stdout",
     "output_type": "stream",
     "text": [
      "Executing 8 experiment\n"
     ]
    },
    {
     "name": "stderr",
     "output_type": "stream",
     "text": [
      "INFO:lcs.agents.Agent:{'trial': 200, 'steps_in_trial': 43, 'reward': 1000.000401891661, 'perf_time': 0.16443040000012843, 'population': 395, 'numerosity': 1600, 'average_specificity': 1.4175, 'fraction_accuracy': 0.1250000000000181}\n",
      "INFO:lcs.agents.Agent:{'trial': 400, 'steps_in_trial': 55, 'reward': 1000.0000065949557, 'perf_time': 0.25189410000029966, 'population': 383, 'numerosity': 1600, 'average_specificity': 1.286875, 'fraction_accuracy': 4.129309945220834e-14}\n",
      "INFO:lcs.agents.Agent:{'trial': 600, 'steps_in_trial': 4, 'reward': 1000.0000000000003, 'perf_time': 0.02053169999999227, 'population': 438, 'numerosity': 1607, 'average_specificity': 1.9489732420659613, 'fraction_accuracy': 1.8445045581112144e-13}\n",
      "INFO:lcs.agents.Agent:{'trial': 800, 'steps_in_trial': 20, 'reward': 1000.0, 'perf_time': 0.08895499999971435, 'population': 424, 'numerosity': 1600, 'average_specificity': 1.52125, 'fraction_accuracy': 1.2180226948145115e-14}\n",
      "INFO:lcs.agents.Agent:{'trial': 1000, 'steps_in_trial': 25, 'reward': 1000.0, 'perf_time': 0.10778829999981099, 'population': 396, 'numerosity': 1622, 'average_specificity': 1.5832305795314427, 'fraction_accuracy': 3.813750336148955e-16}\n",
      "INFO:lcs.agents.Agent:{'trial': 1200, 'steps_in_trial': 35, 'reward': 1000.0062236094145, 'perf_time': 0.12385749999975815, 'population': 424, 'numerosity': 1606, 'average_specificity': 1.8493150684931507, 'fraction_accuracy': 8.328401796837299e-15}\n",
      "INFO:lcs.agents.Agent:{'trial': 1400, 'steps_in_trial': 100, 'reward': 1.3360874108178924e-12, 'perf_time': 0.3677546000003531, 'population': 432, 'numerosity': 1600, 'average_specificity': 1.69875, 'fraction_accuracy': 0.1250000000000194}\n",
      "INFO:lcs.agents.Agent:{'trial': 1600, 'steps_in_trial': 49, 'reward': 1000.0, 'perf_time': 0.18233889999964958, 'population': 423, 'numerosity': 1607, 'average_specificity': 1.7716241443683882, 'fraction_accuracy': 5.827795389526014e-14}\n",
      "INFO:lcs.agents.Agent:{'trial': 1800, 'steps_in_trial': 7, 'reward': 1108.888425725738, 'perf_time': 0.024308000000019092, 'population': 411, 'numerosity': 1600, 'average_specificity': 1.58125, 'fraction_accuracy': 5.682039621581657e-16}\n",
      "INFO:lcs.agents.Agent:{'trial': 0, 'steps_in_trial': 2, 'reward': 1000.0, 'perf_time': 0.007897099999809143, 'population': 419, 'numerosity': 1614, 'average_specificity': 1.7565055762081785, 'fraction_accuracy': 4.5033150251193664e-14}\n",
      "INFO:lcs.agents.Agent:{'trial': 0, 'steps_in_trial': 2, 'reward': 1000.0, 'perf_time': 0.007897099999809143, 'population': 419, 'numerosity': 1614, 'average_specificity': 1.7565055762081785, 'fraction_accuracy': 4.5033150251193664e-14}\n",
      "INFO:lcs.agents.Agent:{'trial': 100, 'steps_in_trial': 7, 'reward': 1093.07668130806, 'perf_time': 0.013722799999868585, 'population': 427, 'numerosity': 1600, 'average_specificity': 1.789375, 'fraction_accuracy': 7.792225809166963e-14}\n",
      "INFO:lcs.agents.Agent:{'trial': 100, 'steps_in_trial': 7, 'reward': 1093.07668130806, 'perf_time': 0.013722799999868585, 'population': 427, 'numerosity': 1600, 'average_specificity': 1.789375, 'fraction_accuracy': 7.792225809166963e-14}\n",
      "INFO:lcs.agents.Agent:{'trial': 200, 'steps_in_trial': 5, 'reward': 1192.4777285522703, 'perf_time': 0.009404499999618565, 'population': 427, 'numerosity': 1600, 'average_specificity': 1.789375, 'fraction_accuracy': 7.791983985788083e-14}\n",
      "INFO:lcs.agents.Agent:{'trial': 200, 'steps_in_trial': 5, 'reward': 1192.4777285522703, 'perf_time': 0.009404499999618565, 'population': 427, 'numerosity': 1600, 'average_specificity': 1.789375, 'fraction_accuracy': 7.791983985788083e-14}\n",
      "INFO:lcs.agents.Agent:{'trial': 300, 'steps_in_trial': 6, 'reward': 1192.95122809874, 'perf_time': 0.011662800000067364, 'population': 427, 'numerosity': 1600, 'average_specificity': 1.789375, 'fraction_accuracy': 7.791813424047466e-14}\n",
      "INFO:lcs.agents.Agent:{'trial': 300, 'steps_in_trial': 6, 'reward': 1192.95122809874, 'perf_time': 0.011662800000067364, 'population': 427, 'numerosity': 1600, 'average_specificity': 1.789375, 'fraction_accuracy': 7.791813424047466e-14}\n",
      "INFO:lcs.agents.Agent:{'trial': 400, 'steps_in_trial': 3, 'reward': 1404.5135705178468, 'perf_time': 0.006161899999824527, 'population': 427, 'numerosity': 1600, 'average_specificity': 1.789375, 'fraction_accuracy': 7.791794048018006e-14}\n",
      "INFO:lcs.agents.Agent:{'trial': 400, 'steps_in_trial': 3, 'reward': 1404.5135705178468, 'perf_time': 0.006161899999824527, 'population': 427, 'numerosity': 1600, 'average_specificity': 1.789375, 'fraction_accuracy': 7.791794048018006e-14}\n",
      "INFO:lcs.agents.Agent:{'trial': 0, 'steps_in_trial': 100, 'reward': 0.0, 'perf_time': 0.054515599999831466, 'population': 138, 'numerosity': 170, 'average_specificity': 7.588235294117647, 'fraction_accuracy': 1.0}\n"
     ]
    },
    {
     "name": "stdout",
     "output_type": "stream",
     "text": [
      "Executing 9 experiment\n"
     ]
    },
    {
     "name": "stderr",
     "output_type": "stream",
     "text": [
      "INFO:lcs.agents.Agent:{'trial': 200, 'steps_in_trial': 53, 'reward': 1000.0000130827799, 'perf_time': 0.2034631999999874, 'population': 406, 'numerosity': 1600, 'average_specificity': 1.725, 'fraction_accuracy': 0.12500000000000114}\n",
      "INFO:lcs.agents.Agent:{'trial': 400, 'steps_in_trial': 9, 'reward': 1047.3895743489454, 'perf_time': 0.02639709999994011, 'population': 413, 'numerosity': 1601, 'average_specificity': 1.8182386008744535, 'fraction_accuracy': 2.4091870339489015e-13}\n",
      "INFO:lcs.agents.Agent:{'trial': 600, 'steps_in_trial': 100, 'reward': 1.5072411183932073e-12, 'perf_time': 0.3479869000002509, 'population': 428, 'numerosity': 1600, 'average_specificity': 1.544375, 'fraction_accuracy': 2.8546206410324585e-15}\n",
      "INFO:lcs.agents.Agent:{'trial': 800, 'steps_in_trial': 100, 'reward': 1.3360874108245214e-12, 'perf_time': 0.33475759999964794, 'population': 403, 'numerosity': 1602, 'average_specificity': 1.457553058676654, 'fraction_accuracy': 6.089597927727806e-16}\n",
      "INFO:lcs.agents.Agent:{'trial': 1000, 'steps_in_trial': 28, 'reward': 1000.0685383931203, 'perf_time': 0.11441229999991265, 'population': 384, 'numerosity': 1612, 'average_specificity': 1.4286600496277915, 'fraction_accuracy': 3.0858846168817897e-15}\n",
      "INFO:lcs.agents.Agent:{'trial': 1200, 'steps_in_trial': 100, 'reward': 1.3362687751741e-12, 'perf_time': 0.4586034999997537, 'population': 438, 'numerosity': 1600, 'average_specificity': 1.73125, 'fraction_accuracy': 2.1379187016013944e-15}\n",
      "INFO:lcs.agents.Agent:{'trial': 1400, 'steps_in_trial': 20, 'reward': 1001.0596610576391, 'perf_time': 0.07239990000016405, 'population': 401, 'numerosity': 1605, 'average_specificity': 1.4772585669781932, 'fraction_accuracy': 0.12500000000002853}\n",
      "INFO:lcs.agents.Agent:{'trial': 1600, 'steps_in_trial': 30, 'reward': 1000.0344945482414, 'perf_time': 0.11186309999993682, 'population': 430, 'numerosity': 1605, 'average_specificity': 1.6996884735202493, 'fraction_accuracy': 3.455583899907397e-16}\n",
      "INFO:lcs.agents.Agent:{'trial': 1800, 'steps_in_trial': 100, 'reward': 1.6756111823730072e-12, 'perf_time': 0.37106039999980567, 'population': 399, 'numerosity': 1600, 'average_specificity': 1.793125, 'fraction_accuracy': 8.794628641876319e-16}\n",
      "INFO:lcs.agents.Agent:{'trial': 0, 'steps_in_trial': 2, 'reward': 1000.0, 'perf_time': 0.0064006000002336805, 'population': 445, 'numerosity': 1619, 'average_specificity': 1.810376775787523, 'fraction_accuracy': 2.6451839026056145e-15}\n",
      "INFO:lcs.agents.Agent:{'trial': 0, 'steps_in_trial': 2, 'reward': 1000.0, 'perf_time': 0.0064006000002336805, 'population': 445, 'numerosity': 1619, 'average_specificity': 1.810376775787523, 'fraction_accuracy': 2.6451839026056145e-15}\n",
      "INFO:lcs.agents.Agent:{'trial': 100, 'steps_in_trial': 4, 'reward': 1254.1172093125156, 'perf_time': 0.00806590000001961, 'population': 448, 'numerosity': 1600, 'average_specificity': 1.856875, 'fraction_accuracy': 8.899031375227957e-16}\n",
      "INFO:lcs.agents.Agent:{'trial': 100, 'steps_in_trial': 4, 'reward': 1254.1172093125156, 'perf_time': 0.00806590000001961, 'population': 448, 'numerosity': 1600, 'average_specificity': 1.856875, 'fraction_accuracy': 8.899031375227957e-16}\n",
      "INFO:lcs.agents.Agent:{'trial': 200, 'steps_in_trial': 11, 'reward': 1024.242035804863, 'perf_time': 0.023582099999657657, 'population': 448, 'numerosity': 1600, 'average_specificity': 1.856875, 'fraction_accuracy': 9.030588610835767e-16}\n",
      "INFO:lcs.agents.Agent:{'trial': 200, 'steps_in_trial': 11, 'reward': 1024.242035804863, 'perf_time': 0.023582099999657657, 'population': 448, 'numerosity': 1600, 'average_specificity': 1.856875, 'fraction_accuracy': 9.030588610835767e-16}\n",
      "INFO:lcs.agents.Agent:{'trial': 300, 'steps_in_trial': 2, 'reward': 1604.2234625668284, 'perf_time': 0.0042825999998967745, 'population': 448, 'numerosity': 1600, 'average_specificity': 1.856875, 'fraction_accuracy': 8.949907716686323e-16}\n",
      "INFO:lcs.agents.Agent:{'trial': 300, 'steps_in_trial': 2, 'reward': 1604.2234625668284, 'perf_time': 0.0042825999998967745, 'population': 448, 'numerosity': 1600, 'average_specificity': 1.856875, 'fraction_accuracy': 8.949907716686323e-16}\n",
      "INFO:lcs.agents.Agent:{'trial': 400, 'steps_in_trial': 2, 'reward': 1574.824512525455, 'perf_time': 0.004197100000055798, 'population': 448, 'numerosity': 1600, 'average_specificity': 1.841875, 'fraction_accuracy': 9.608693848086686e-16}\n",
      "INFO:lcs.agents.Agent:{'trial': 400, 'steps_in_trial': 2, 'reward': 1574.824512525455, 'perf_time': 0.004197100000055798, 'population': 448, 'numerosity': 1600, 'average_specificity': 1.841875, 'fraction_accuracy': 9.608693848086686e-16}\n",
      "INFO:lcs.agents.Agent:{'trial': 0, 'steps_in_trial': 100, 'reward': 0.0, 'perf_time': 0.06689910000022792, 'numerosity': 187, 'population': 144, 'average_specificity': 6.957219251336898, 'fraction_accuracy': 1.0}\n"
     ]
    },
    {
     "name": "stdout",
     "output_type": "stream",
     "text": [
      "Executing 0 experiment\n"
     ]
    },
    {
     "name": "stderr",
     "output_type": "stream",
     "text": [
      "INFO:lcs.agents.Agent:{'trial': 200, 'steps_in_trial': 33, 'reward': 1000.0123499025822, 'perf_time': 0.18606569999974454, 'numerosity': 1600, 'population': 545, 'average_specificity': 2.95875, 'fraction_accuracy': 4.636256068941959e-16}\n",
      "INFO:lcs.agents.Agent:{'trial': 400, 'steps_in_trial': 100, 'reward': 1.4104632447122616e-12, 'perf_time': 0.48045570000022053, 'numerosity': 1600, 'population': 582, 'average_specificity': 3.016875, 'fraction_accuracy': 1.0092941581915876e-16}\n",
      "INFO:lcs.agents.Agent:{'trial': 600, 'steps_in_trial': 12, 'reward': 1016.4096827406408, 'perf_time': 0.07082800000034695, 'numerosity': 1600, 'population': 626, 'average_specificity': 3.556875, 'fraction_accuracy': 3.457125697626894e-16}\n",
      "INFO:lcs.agents.Agent:{'trial': 800, 'steps_in_trial': 21, 'reward': 1000.7529253956782, 'perf_time': 0.10615089999964766, 'numerosity': 1600, 'population': 611, 'average_specificity': 3.74, 'fraction_accuracy': 2.1609613999100257e-15}\n",
      "INFO:lcs.agents.Agent:{'trial': 1000, 'steps_in_trial': 40, 'reward': 1000.001174363993, 'perf_time': 0.2400550000002113, 'numerosity': 1600, 'population': 660, 'average_specificity': 4.05875, 'fraction_accuracy': 4.1954726756408073e-16}\n",
      "INFO:lcs.agents.Agent:{'trial': 1200, 'steps_in_trial': 9, 'reward': 1046.3828196990562, 'perf_time': 0.050621500000488595, 'numerosity': 1600, 'population': 651, 'average_specificity': 3.86375, 'fraction_accuracy': 3.659933691516271e-16}\n",
      "INFO:lcs.agents.Agent:{'trial': 1400, 'steps_in_trial': 26, 'reward': 1000.1357428823436, 'perf_time': 0.19883839999965858, 'numerosity': 1600, 'population': 675, 'average_specificity': 4.456875, 'fraction_accuracy': 4.28483160691897e-15}\n",
      "INFO:lcs.agents.Agent:{'trial': 1600, 'steps_in_trial': 36, 'reward': 1000.0, 'perf_time': 0.22255849999964994, 'numerosity': 1600, 'population': 675, 'average_specificity': 4.634375, 'fraction_accuracy': 3.30098876395906e-15}\n",
      "INFO:lcs.agents.Agent:{'trial': 1800, 'steps_in_trial': 12, 'reward': 1016.4096827407222, 'perf_time': 0.08937260000038805, 'numerosity': 1600, 'population': 732, 'average_specificity': 4.599375, 'fraction_accuracy': 8.612702422343203e-15}\n",
      "INFO:lcs.agents.Agent:{'trial': 0, 'steps_in_trial': 89, 'reward': 1000.0000000000578, 'perf_time': 0.42983450000065204, 'numerosity': 1600, 'population': 713, 'average_specificity': 4.903125, 'fraction_accuracy': 8.334773530241203e-16}\n",
      "INFO:lcs.agents.Agent:{'trial': 0, 'steps_in_trial': 89, 'reward': 1000.0000000000578, 'perf_time': 0.42983450000065204, 'numerosity': 1600, 'population': 713, 'average_specificity': 4.903125, 'fraction_accuracy': 8.334773530241203e-16}\n",
      "INFO:lcs.agents.Agent:{'trial': 100, 'steps_in_trial': 20, 'reward': 1001.1082496303371, 'perf_time': 0.13350369999989198, 'numerosity': 1600, 'population': 704, 'average_specificity': 4.42375, 'fraction_accuracy': 2.1365884248094814e-16}\n",
      "INFO:lcs.agents.Agent:{'trial': 100, 'steps_in_trial': 20, 'reward': 1001.1082496303371, 'perf_time': 0.13350369999989198, 'numerosity': 1600, 'population': 704, 'average_specificity': 4.42375, 'fraction_accuracy': 2.1365884248094814e-16}\n",
      "INFO:lcs.agents.Agent:{'trial': 200, 'steps_in_trial': 45, 'reward': 1000.0, 'perf_time': 0.21466200000031677, 'numerosity': 1600, 'population': 754, 'average_specificity': 5.425625, 'fraction_accuracy': 0.6250000000004929}\n",
      "INFO:lcs.agents.Agent:{'trial': 200, 'steps_in_trial': 45, 'reward': 1000.0, 'perf_time': 0.21466200000031677, 'numerosity': 1600, 'population': 754, 'average_specificity': 5.425625, 'fraction_accuracy': 0.6250000000004929}\n",
      "INFO:lcs.agents.Agent:{'trial': 300, 'steps_in_trial': 48, 'reward': 1000.000103503399, 'perf_time': 0.1971520999995846, 'numerosity': 1600, 'population': 765, 'average_specificity': 5.083125, 'fraction_accuracy': 0.625}\n",
      "INFO:lcs.agents.Agent:{'trial': 300, 'steps_in_trial': 48, 'reward': 1000.000103503399, 'perf_time': 0.1971520999995846, 'numerosity': 1600, 'population': 765, 'average_specificity': 5.083125, 'fraction_accuracy': 0.625}\n",
      "INFO:lcs.agents.Agent:{'trial': 400, 'steps_in_trial': 12, 'reward': 1016.4096827406408, 'perf_time': 0.08553409999967698, 'numerosity': 1600, 'population': 731, 'average_specificity': 4.325625, 'fraction_accuracy': 0.3750000000000001}\n",
      "INFO:lcs.agents.Agent:{'trial': 400, 'steps_in_trial': 12, 'reward': 1016.4096827406408, 'perf_time': 0.08553409999967698, 'numerosity': 1600, 'population': 731, 'average_specificity': 4.325625, 'fraction_accuracy': 0.3750000000000001}\n",
      "INFO:lcs.agents.Agent:{'trial': 0, 'steps_in_trial': 100, 'reward': 0.0, 'perf_time': 0.052068299999518786, 'numerosity': 148, 'population': 92, 'average_specificity': 4.601351351351352, 'fraction_accuracy': 0.875}\n"
     ]
    },
    {
     "name": "stdout",
     "output_type": "stream",
     "text": [
      "Executing 1 experiment\n"
     ]
    },
    {
     "name": "stderr",
     "output_type": "stream",
     "text": [
      "INFO:lcs.agents.Agent:{'trial': 200, 'steps_in_trial': 2, 'reward': 1520.5096827406408, 'perf_time': 0.004910300000119605, 'numerosity': 1600, 'population': 537, 'average_specificity': 2.774375, 'fraction_accuracy': 5.065325744959843e-16}\n",
      "INFO:lcs.agents.Agent:{'trial': 400, 'steps_in_trial': 31, 'reward': 1000.0244943344543, 'perf_time': 0.16984469999988505, 'numerosity': 1600, 'population': 616, 'average_specificity': 3.46375, 'fraction_accuracy': 2.9896438105216747e-16}\n",
      "INFO:lcs.agents.Agent:{'trial': 600, 'steps_in_trial': 47, 'reward': 1000.000102127456, 'perf_time': 0.23393820000001142, 'numerosity': 1600, 'population': 635, 'average_specificity': 3.873125, 'fraction_accuracy': 8.628691452596491e-17}\n",
      "INFO:lcs.agents.Agent:{'trial': 800, 'steps_in_trial': 15, 'reward': 1007.0012950430714, 'perf_time': 0.09295259999998962, 'numerosity': 1600, 'population': 701, 'average_specificity': 4.40125, 'fraction_accuracy': 1.418437239746198e-16}\n",
      "INFO:lcs.agents.Agent:{'trial': 1000, 'steps_in_trial': 2, 'reward': 1000.0000000000007, 'perf_time': 0.014120899999397807, 'numerosity': 1600, 'population': 717, 'average_specificity': 5.265625, 'fraction_accuracy': 9.133272962217145e-16}\n",
      "INFO:lcs.agents.Agent:{'trial': 1200, 'steps_in_trial': 100, 'reward': 3.1866875794914145e-57, 'perf_time': 0.5153645999998844, 'numerosity': 1600, 'population': 654, 'average_specificity': 4.395625, 'fraction_accuracy': 2.222339801618848e-16}\n",
      "INFO:lcs.agents.Agent:{'trial': 1400, 'steps_in_trial': 19, 'reward': 1001.4924803628758, 'perf_time': 0.11439590000009048, 'numerosity': 1600, 'population': 666, 'average_specificity': 4.09875, 'fraction_accuracy': 7.978850707813403e-16}\n",
      "INFO:lcs.agents.Agent:{'trial': 1600, 'steps_in_trial': 57, 'reward': 1000.0000039646264, 'perf_time': 0.3122096999995847, 'numerosity': 1600, 'population': 706, 'average_specificity': 4.64, 'fraction_accuracy': 1.1511237050984283e-16}\n",
      "INFO:lcs.agents.Agent:{'trial': 1800, 'steps_in_trial': 100, 'reward': 1.875545396725932e-12, 'perf_time': 0.5617371999996976, 'numerosity': 1600, 'population': 673, 'average_specificity': 3.9675, 'fraction_accuracy': 1.7503464868620032e-15}\n",
      "INFO:lcs.agents.Agent:{'trial': 0, 'steps_in_trial': 39, 'reward': 1000.0019834149808, 'perf_time': 0.1848257999999987, 'numerosity': 1600, 'population': 739, 'average_specificity': 4.9325, 'fraction_accuracy': 1.5867684112790585e-15}\n",
      "INFO:lcs.agents.Agent:{'trial': 0, 'steps_in_trial': 39, 'reward': 1000.0019834149808, 'perf_time': 0.1848257999999987, 'numerosity': 1600, 'population': 739, 'average_specificity': 4.9325, 'fraction_accuracy': 1.5867684112790585e-15}\n",
      "INFO:lcs.agents.Agent:{'trial': 100, 'steps_in_trial': 8, 'reward': 1134.6490698852263, 'perf_time': 0.04417779999948834, 'numerosity': 1600, 'population': 698, 'average_specificity': 4.044375, 'fraction_accuracy': 1.325551283459707e-15}\n",
      "INFO:lcs.agents.Agent:{'trial': 100, 'steps_in_trial': 8, 'reward': 1134.6490698852263, 'perf_time': 0.04417779999948834, 'numerosity': 1600, 'population': 698, 'average_specificity': 4.044375, 'fraction_accuracy': 1.325551283459707e-15}\n",
      "INFO:lcs.agents.Agent:{'trial': 200, 'steps_in_trial': 100, 'reward': 2.4220527140448865e-161, 'perf_time': 0.5844490999998015, 'numerosity': 1600, 'population': 778, 'average_specificity': 5.80375, 'fraction_accuracy': 9.16308785698302e-13}\n",
      "INFO:lcs.agents.Agent:{'trial': 200, 'steps_in_trial': 100, 'reward': 2.4220527140448865e-161, 'perf_time': 0.5844490999998015, 'numerosity': 1600, 'population': 778, 'average_specificity': 5.80375, 'fraction_accuracy': 9.16308785698302e-13}\n",
      "INFO:lcs.agents.Agent:{'trial': 300, 'steps_in_trial': 8, 'reward': 1066.799546173464, 'perf_time': 0.04347979999965901, 'numerosity': 1600, 'population': 783, 'average_specificity': 6.5825, 'fraction_accuracy': 0.375}\n",
      "INFO:lcs.agents.Agent:{'trial': 300, 'steps_in_trial': 8, 'reward': 1066.799546173464, 'perf_time': 0.04347979999965901, 'numerosity': 1600, 'population': 783, 'average_specificity': 6.5825, 'fraction_accuracy': 0.375}\n",
      "INFO:lcs.agents.Agent:{'trial': 400, 'steps_in_trial': 12, 'reward': 1017.3408077888323, 'perf_time': 0.06082669999977952, 'numerosity': 1600, 'population': 807, 'average_specificity': 6.755, 'fraction_accuracy': 0.5}\n",
      "INFO:lcs.agents.Agent:{'trial': 400, 'steps_in_trial': 12, 'reward': 1017.3408077888323, 'perf_time': 0.06082669999977952, 'numerosity': 1600, 'population': 807, 'average_specificity': 6.755, 'fraction_accuracy': 0.5}\n",
      "INFO:lcs.agents.Agent:{'trial': 0, 'steps_in_trial': 100, 'reward': 0.0, 'perf_time': 0.05816390000018146, 'numerosity': 160, 'population': 100, 'average_specificity': 4.05, 'fraction_accuracy': 0.7500000000000001}\n"
     ]
    },
    {
     "name": "stdout",
     "output_type": "stream",
     "text": [
      "Executing 2 experiment\n"
     ]
    },
    {
     "name": "stderr",
     "output_type": "stream",
     "text": [
      "INFO:lcs.agents.Agent:{'trial': 200, 'steps_in_trial': 61, 'reward': 1000.0000011363287, 'perf_time': 0.26264979999996285, 'numerosity': 1600, 'population': 560, 'average_specificity': 3.01875, 'fraction_accuracy': 5.962245210363242e-15}\n",
      "INFO:lcs.agents.Agent:{'trial': 400, 'steps_in_trial': 3, 'reward': 1357.9354911292512, 'perf_time': 0.01916189999974449, 'numerosity': 1600, 'population': 631, 'average_specificity': 3.57125, 'fraction_accuracy': 1.2386648189146237e-17}\n",
      "INFO:lcs.agents.Agent:{'trial': 600, 'steps_in_trial': 32, 'reward': 1000.0174071278988, 'perf_time': 0.17948780000006082, 'numerosity': 1600, 'population': 629, 'average_specificity': 3.733125, 'fraction_accuracy': 3.122161556353317e-16}\n",
      "INFO:lcs.agents.Agent:{'trial': 800, 'steps_in_trial': 16, 'reward': 1000.0, 'perf_time': 0.09967649999998685, 'numerosity': 1600, 'population': 704, 'average_specificity': 5.1425, 'fraction_accuracy': 7.536465690071473e-28}\n",
      "INFO:lcs.agents.Agent:{'trial': 1000, 'steps_in_trial': 100, 'reward': 1.3360874108278642e-12, 'perf_time': 0.49620950000007724, 'numerosity': 1600, 'population': 689, 'average_specificity': 4.7075, 'fraction_accuracy': 2.3688503162231428e-14}\n",
      "INFO:lcs.agents.Agent:{'trial': 1200, 'steps_in_trial': 100, 'reward': 1.3360874108184952e-12, 'perf_time': 0.5130588000001808, 'numerosity': 1600, 'population': 631, 'average_specificity': 3.464375, 'fraction_accuracy': 2.5944870780451686e-15}\n",
      "INFO:lcs.agents.Agent:{'trial': 1400, 'steps_in_trial': 2, 'reward': 1536.7488129565627, 'perf_time': 0.01335319999998319, 'numerosity': 1600, 'population': 679, 'average_specificity': 4.340625, 'fraction_accuracy': 7.787838588898863e-17}\n",
      "INFO:lcs.agents.Agent:{'trial': 1600, 'steps_in_trial': 26, 'reward': 1000.1357428824587, 'perf_time': 0.15723419999994803, 'numerosity': 1600, 'population': 720, 'average_specificity': 5.048125, 'fraction_accuracy': 8.871412309113321e-16}\n",
      "INFO:lcs.agents.Agent:{'trial': 1800, 'steps_in_trial': 16, 'reward': 1004.1944673610507, 'perf_time': 0.07961820000036823, 'numerosity': 1600, 'population': 720, 'average_specificity': 4.350625, 'fraction_accuracy': 4.681600843740841e-15}\n",
      "INFO:lcs.agents.Agent:{'trial': 0, 'steps_in_trial': 100, 'reward': 2.649123037849663e-42, 'perf_time': 0.5075016999999207, 'numerosity': 1600, 'population': 669, 'average_specificity': 3.451875, 'fraction_accuracy': 4.0084049988868724e-15}\n",
      "INFO:lcs.agents.Agent:{'trial': 0, 'steps_in_trial': 100, 'reward': 2.649123037849663e-42, 'perf_time': 0.5075016999999207, 'numerosity': 1600, 'population': 669, 'average_specificity': 3.451875, 'fraction_accuracy': 4.0084049988868724e-15}\n",
      "INFO:lcs.agents.Agent:{'trial': 100, 'steps_in_trial': 8, 'reward': 1069.54972840854, 'perf_time': 0.06347199999981967, 'numerosity': 1600, 'population': 841, 'average_specificity': 6.448125, 'fraction_accuracy': 0.25000000000000255}\n",
      "INFO:lcs.agents.Agent:{'trial': 100, 'steps_in_trial': 8, 'reward': 1069.54972840854, 'perf_time': 0.06347199999981967, 'numerosity': 1600, 'population': 841, 'average_specificity': 6.448125, 'fraction_accuracy': 0.25000000000000255}\n",
      "INFO:lcs.agents.Agent:{'trial': 200, 'steps_in_trial': 9, 'reward': 1077.7946190141308, 'perf_time': 0.0723520000001372, 'numerosity': 1600, 'population': 810, 'average_specificity': 5.449375, 'fraction_accuracy': 0.75}\n",
      "INFO:lcs.agents.Agent:{'trial': 200, 'steps_in_trial': 9, 'reward': 1077.7946190141308, 'perf_time': 0.0723520000001372, 'numerosity': 1600, 'population': 810, 'average_specificity': 5.449375, 'fraction_accuracy': 0.75}\n",
      "INFO:lcs.agents.Agent:{'trial': 300, 'steps_in_trial': 1, 'reward': 1722.0077365193938, 'perf_time': 0.0035354999999981374, 'numerosity': 1600, 'population': 785, 'average_specificity': 4.955625, 'fraction_accuracy': 0.5}\n",
      "INFO:lcs.agents.Agent:{'trial': 300, 'steps_in_trial': 1, 'reward': 1722.0077365193938, 'perf_time': 0.0035354999999981374, 'numerosity': 1600, 'population': 785, 'average_specificity': 4.955625, 'fraction_accuracy': 0.5}\n",
      "INFO:lcs.agents.Agent:{'trial': 400, 'steps_in_trial': 2, 'reward': 1506.3411868082944, 'perf_time': 0.017402500000571308, 'numerosity': 1600, 'population': 758, 'average_specificity': 4.644375, 'fraction_accuracy': 0.5}\n",
      "INFO:lcs.agents.Agent:{'trial': 400, 'steps_in_trial': 2, 'reward': 1506.3411868082944, 'perf_time': 0.017402500000571308, 'numerosity': 1600, 'population': 758, 'average_specificity': 4.644375, 'fraction_accuracy': 0.5}\n",
      "INFO:lcs.agents.Agent:{'trial': 0, 'steps_in_trial': 100, 'reward': 0.0, 'perf_time': 0.05186589999993885, 'numerosity': 155, 'population': 94, 'average_specificity': 5.187096774193549, 'fraction_accuracy': 1.0}\n"
     ]
    },
    {
     "name": "stdout",
     "output_type": "stream",
     "text": [
      "Executing 3 experiment\n"
     ]
    },
    {
     "name": "stderr",
     "output_type": "stream",
     "text": [
      "INFO:lcs.agents.Agent:{'trial': 200, 'steps_in_trial': 10, 'reward': 1044.2294850359929, 'perf_time': 0.0419357000000673, 'numerosity': 1600, 'population': 564, 'average_specificity': 2.756875, 'fraction_accuracy': 1.3402831752596737e-16}\n",
      "INFO:lcs.agents.Agent:{'trial': 400, 'steps_in_trial': 43, 'reward': 1000.0004023175404, 'perf_time': 0.20240390000071784, 'numerosity': 1600, 'population': 623, 'average_specificity': 3.66125, 'fraction_accuracy': 5.68300120073246e-17}\n",
      "INFO:lcs.agents.Agent:{'trial': 600, 'steps_in_trial': 3, 'reward': 1000.0000000000005, 'perf_time': 0.019497600000249804, 'numerosity': 1600, 'population': 653, 'average_specificity': 4.431875, 'fraction_accuracy': 2.6423640778646817e-16}\n",
      "INFO:lcs.agents.Agent:{'trial': 800, 'steps_in_trial': 100, 'reward': 1.8147945224329388e-12, 'perf_time': 0.5288548999997147, 'numerosity': 1600, 'population': 665, 'average_specificity': 3.891875, 'fraction_accuracy': 5.393512804713536e-16}\n",
      "INFO:lcs.agents.Agent:{'trial': 1000, 'steps_in_trial': 16, 'reward': 1006.6515298212862, 'perf_time': 0.08185390000016923, 'numerosity': 1600, 'population': 666, 'average_specificity': 4.665625, 'fraction_accuracy': 1.1129940446998764e-16}\n",
      "INFO:lcs.agents.Agent:{'trial': 1200, 'steps_in_trial': 44, 'reward': 1000.0002859429054, 'perf_time': 0.19700599999941915, 'numerosity': 1600, 'population': 610, 'average_specificity': 3.761875, 'fraction_accuracy': 1.1199293298000847e-14}\n",
      "INFO:lcs.agents.Agent:{'trial': 1400, 'steps_in_trial': 100, 'reward': 1.3360889110858047e-12, 'perf_time': 0.48765650000041205, 'numerosity': 1600, 'population': 662, 'average_specificity': 3.615625, 'fraction_accuracy': 9.65843490898617e-15}\n",
      "INFO:lcs.agents.Agent:{'trial': 1600, 'steps_in_trial': 11, 'reward': 1023.1122292124905, 'perf_time': 0.04971600000044418, 'numerosity': 1600, 'population': 685, 'average_specificity': 4.146875, 'fraction_accuracy': 1.5654055334069013e-15}\n",
      "INFO:lcs.agents.Agent:{'trial': 1800, 'steps_in_trial': 100, 'reward': 1.3360874108178924e-12, 'perf_time': 0.5026404999998704, 'numerosity': 1600, 'population': 683, 'average_specificity': 3.999375, 'fraction_accuracy': 1.2903017179766788e-15}\n",
      "INFO:lcs.agents.Agent:{'trial': 0, 'steps_in_trial': 37, 'reward': 1000.0031373207759, 'perf_time': 0.17462169999998878, 'numerosity': 1600, 'population': 735, 'average_specificity': 4.8675, 'fraction_accuracy': 1.9945868378535504e-14}\n",
      "INFO:lcs.agents.Agent:{'trial': 0, 'steps_in_trial': 37, 'reward': 1000.0031373207759, 'perf_time': 0.17462169999998878, 'numerosity': 1600, 'population': 735, 'average_specificity': 4.8675, 'fraction_accuracy': 1.9945868378535504e-14}\n",
      "INFO:lcs.agents.Agent:{'trial': 100, 'steps_in_trial': 11, 'reward': 1024.1718924059808, 'perf_time': 0.0394228999994084, 'numerosity': 1600, 'population': 725, 'average_specificity': 4.64375, 'fraction_accuracy': 1.0128351823976583e-15}\n",
      "INFO:lcs.agents.Agent:{'trial': 100, 'steps_in_trial': 11, 'reward': 1024.1718924059808, 'perf_time': 0.0394228999994084, 'numerosity': 1600, 'population': 725, 'average_specificity': 4.64375, 'fraction_accuracy': 1.0128351823976583e-15}\n",
      "INFO:lcs.agents.Agent:{'trial': 200, 'steps_in_trial': 4, 'reward': 1435.6119053811913, 'perf_time': 0.017058100000213017, 'numerosity': 1600, 'population': 730, 'average_specificity': 4.7325, 'fraction_accuracy': 6.948668488444215e-16}\n",
      "INFO:lcs.agents.Agent:{'trial': 200, 'steps_in_trial': 4, 'reward': 1435.6119053811913, 'perf_time': 0.017058100000213017, 'numerosity': 1600, 'population': 730, 'average_specificity': 4.7325, 'fraction_accuracy': 6.948668488444215e-16}\n",
      "INFO:lcs.agents.Agent:{'trial': 300, 'steps_in_trial': 100, 'reward': 5e-324, 'perf_time': 0.3893731999996817, 'numerosity': 1600, 'population': 748, 'average_specificity': 5.3875, 'fraction_accuracy': 0.3750000000001444}\n",
      "INFO:lcs.agents.Agent:{'trial': 300, 'steps_in_trial': 100, 'reward': 5e-324, 'perf_time': 0.3893731999996817, 'numerosity': 1600, 'population': 748, 'average_specificity': 5.3875, 'fraction_accuracy': 0.3750000000001444}\n",
      "INFO:lcs.agents.Agent:{'trial': 400, 'steps_in_trial': 6, 'reward': 1149.7713891885019, 'perf_time': 0.038265099999989616, 'numerosity': 1600, 'population': 799, 'average_specificity': 5.874375, 'fraction_accuracy': 0.5}\n",
      "INFO:lcs.agents.Agent:{'trial': 400, 'steps_in_trial': 6, 'reward': 1149.7713891885019, 'perf_time': 0.038265099999989616, 'numerosity': 1600, 'population': 799, 'average_specificity': 5.874375, 'fraction_accuracy': 0.5}\n",
      "INFO:lcs.agents.Agent:{'trial': 0, 'steps_in_trial': 100, 'reward': 0.0, 'perf_time': 0.06569889999991574, 'numerosity': 173, 'population': 130, 'average_specificity': 7.641618497109826, 'fraction_accuracy': 0.8750000000000002}\n"
     ]
    },
    {
     "name": "stdout",
     "output_type": "stream",
     "text": [
      "Executing 4 experiment\n"
     ]
    },
    {
     "name": "stderr",
     "output_type": "stream",
     "text": [
      "INFO:lcs.agents.Agent:{'trial': 200, 'steps_in_trial': 4, 'reward': 1254.116810000001, 'perf_time': 0.021808899999996356, 'numerosity': 1600, 'population': 575, 'average_specificity': 3.224375, 'fraction_accuracy': 9.19685937309646e-15}\n",
      "INFO:lcs.agents.Agent:{'trial': 400, 'steps_in_trial': 7, 'reward': 1090.9661910513016, 'perf_time': 0.025174100000185717, 'numerosity': 1600, 'population': 613, 'average_specificity': 3.7275, 'fraction_accuracy': 1.5535983510688505e-15}\n",
      "INFO:lcs.agents.Agent:{'trial': 600, 'steps_in_trial': 64, 'reward': 1000.0000003930666, 'perf_time': 0.2920382999991489, 'numerosity': 1600, 'population': 608, 'average_specificity': 3.878125, 'fraction_accuracy': 3.4284124286687657e-15}\n",
      "INFO:lcs.agents.Agent:{'trial': 800, 'steps_in_trial': 100, 'reward': 1.3516543803655435e-12, 'perf_time': 0.5467103000000861, 'numerosity': 1600, 'population': 706, 'average_specificity': 5.18625, 'fraction_accuracy': 2.6296337532829064e-15}\n",
      "INFO:lcs.agents.Agent:{'trial': 1000, 'steps_in_trial': 36, 'reward': 1000.0, 'perf_time': 0.22411550000015268, 'numerosity': 1600, 'population': 739, 'average_specificity': 5.72875, 'fraction_accuracy': 3.4782862865497985e-16}\n",
      "INFO:lcs.agents.Agent:{'trial': 1200, 'steps_in_trial': 100, 'reward': 1.343934527361368e-12, 'perf_time': 0.5166101000004346, 'numerosity': 1600, 'population': 655, 'average_specificity': 4.003125, 'fraction_accuracy': 3.709995506068329e-16}\n",
      "INFO:lcs.agents.Agent:{'trial': 1400, 'steps_in_trial': 7, 'reward': 1000.0000000000002, 'perf_time': 0.03993780000018887, 'numerosity': 1600, 'population': 650, 'average_specificity': 3.203125, 'fraction_accuracy': 1.7049341541137425e-15}\n",
      "INFO:lcs.agents.Agent:{'trial': 1600, 'steps_in_trial': 67, 'reward': 1000.0000001082497, 'perf_time': 0.3603324999994584, 'numerosity': 1600, 'population': 686, 'average_specificity': 4.16125, 'fraction_accuracy': 2.2024583591131355e-16}\n",
      "INFO:lcs.agents.Agent:{'trial': 1800, 'steps_in_trial': 27, 'reward': 1000.0963780462794, 'perf_time': 0.14204609999978857, 'numerosity': 1600, 'population': 690, 'average_specificity': 4.435, 'fraction_accuracy': 1.9517980133600435e-14}\n",
      "INFO:lcs.agents.Agent:{'trial': 0, 'steps_in_trial': 100, 'reward': 2.238761000944953e-27, 'perf_time': 0.4618683999997302, 'numerosity': 1600, 'population': 663, 'average_specificity': 3.751875, 'fraction_accuracy': 5.198092899922767e-16}\n",
      "INFO:lcs.agents.Agent:{'trial': 0, 'steps_in_trial': 100, 'reward': 2.238761000944953e-27, 'perf_time': 0.4618683999997302, 'numerosity': 1600, 'population': 663, 'average_specificity': 3.751875, 'fraction_accuracy': 5.198092899922767e-16}\n",
      "INFO:lcs.agents.Agent:{'trial': 100, 'steps_in_trial': 1, 'reward': 2002.9462813485693, 'perf_time': 0.002765999999610358, 'numerosity': 1600, 'population': 661, 'average_specificity': 3.663125, 'fraction_accuracy': 4.785865772548119e-16}\n",
      "INFO:lcs.agents.Agent:{'trial': 100, 'steps_in_trial': 1, 'reward': 2002.9462813485693, 'perf_time': 0.002765999999610358, 'numerosity': 1600, 'population': 661, 'average_specificity': 3.663125, 'fraction_accuracy': 4.785865772548119e-16}\n",
      "INFO:lcs.agents.Agent:{'trial': 200, 'steps_in_trial': 100, 'reward': 1.5771486042711128e-12, 'perf_time': 0.3837934999992285, 'numerosity': 1600, 'population': 799, 'average_specificity': 5.850625, 'fraction_accuracy': 0.37500000000103473}\n",
      "INFO:lcs.agents.Agent:{'trial': 200, 'steps_in_trial': 100, 'reward': 1.5771486042711128e-12, 'perf_time': 0.3837934999992285, 'numerosity': 1600, 'population': 799, 'average_specificity': 5.850625, 'fraction_accuracy': 0.37500000000103473}\n",
      "INFO:lcs.agents.Agent:{'trial': 300, 'steps_in_trial': 100, 'reward': 1.3360874108178924e-12, 'perf_time': 0.3653285999998843, 'numerosity': 1600, 'population': 774, 'average_specificity': 4.955625, 'fraction_accuracy': 0.25000000000040923}\n",
      "INFO:lcs.agents.Agent:{'trial': 300, 'steps_in_trial': 100, 'reward': 1.3360874108178924e-12, 'perf_time': 0.3653285999998843, 'numerosity': 1600, 'population': 774, 'average_specificity': 4.955625, 'fraction_accuracy': 0.25000000000040923}\n",
      "INFO:lcs.agents.Agent:{'trial': 400, 'steps_in_trial': 2, 'reward': 1542.6128808307453, 'perf_time': 0.006769399999939196, 'numerosity': 1600, 'population': 791, 'average_specificity': 5.19, 'fraction_accuracy': 0.5}\n",
      "INFO:lcs.agents.Agent:{'trial': 400, 'steps_in_trial': 2, 'reward': 1542.6128808307453, 'perf_time': 0.006769399999939196, 'numerosity': 1600, 'population': 791, 'average_specificity': 5.19, 'fraction_accuracy': 0.5}\n",
      "INFO:lcs.agents.Agent:{'trial': 0, 'steps_in_trial': 15, 'reward': 1000.0, 'perf_time': 0.0037701999999626423, 'numerosity': 24, 'population': 24, 'average_specificity': 5.333333333333333, 'fraction_accuracy': 1.0}\n"
     ]
    },
    {
     "name": "stdout",
     "output_type": "stream",
     "text": [
      "Executing 5 experiment\n"
     ]
    },
    {
     "name": "stderr",
     "output_type": "stream",
     "text": [
      "INFO:lcs.agents.Agent:{'trial': 200, 'steps_in_trial': 4, 'reward': 1434.5397451017936, 'perf_time': 0.014112300000306277, 'numerosity': 1600, 'population': 523, 'average_specificity': 2.4925, 'fraction_accuracy': 7.133942052916227e-16}\n",
      "INFO:lcs.agents.Agent:{'trial': 400, 'steps_in_trial': 8, 'reward': 1064.5999141623934, 'perf_time': 0.05486000000018976, 'numerosity': 1600, 'population': 694, 'average_specificity': 5.168125, 'fraction_accuracy': 1.614844305098223e-15}\n",
      "INFO:lcs.agents.Agent:{'trial': 600, 'steps_in_trial': 44, 'reward': 1000.0002853430793, 'perf_time': 0.20628919999944628, 'numerosity': 1600, 'population': 664, 'average_specificity': 4.14875, 'fraction_accuracy': 1.729930555587197e-15}\n",
      "INFO:lcs.agents.Agent:{'trial': 800, 'steps_in_trial': 55, 'reward': 1000.0000068973023, 'perf_time': 0.2661520000001474, 'numerosity': 1600, 'population': 631, 'average_specificity': 3.611875, 'fraction_accuracy': 2.678352080907877e-15}\n",
      "INFO:lcs.agents.Agent:{'trial': 1000, 'steps_in_trial': 12, 'reward': 1016.4098312653717, 'perf_time': 0.06794929999978194, 'numerosity': 1600, 'population': 669, 'average_specificity': 3.73, 'fraction_accuracy': 1.22926826964885e-16}\n",
      "INFO:lcs.agents.Agent:{'trial': 1200, 'steps_in_trial': 25, 'reward': 1000.0, 'perf_time': 0.15571109999928012, 'numerosity': 1600, 'population': 753, 'average_specificity': 4.8775, 'fraction_accuracy': 8.589209755809992e-17}\n",
      "INFO:lcs.agents.Agent:{'trial': 1400, 'steps_in_trial': 16, 'reward': 1004.3101379028827, 'perf_time': 0.09098489999996673, 'numerosity': 1600, 'population': 748, 'average_specificity': 5.07125, 'fraction_accuracy': 8.393297579467994e-16}\n",
      "INFO:lcs.agents.Agent:{'trial': 1600, 'steps_in_trial': 7, 'reward': 1090.9513037881738, 'perf_time': 0.04037369999969087, 'numerosity': 1600, 'population': 687, 'average_specificity': 4.39125, 'fraction_accuracy': 2.268225480341167e-15}\n",
      "INFO:lcs.agents.Agent:{'trial': 1800, 'steps_in_trial': 27, 'reward': 1000.0979589697838, 'perf_time': 0.13522999999986496, 'numerosity': 1600, 'population': 682, 'average_specificity': 4.881875, 'fraction_accuracy': 4.92274260255545e-16}\n",
      "INFO:lcs.agents.Agent:{'trial': 0, 'steps_in_trial': 100, 'reward': 1.3360874109205535e-12, 'perf_time': 0.45422269999926357, 'numerosity': 1600, 'population': 654, 'average_specificity': 3.884375, 'fraction_accuracy': 6.436906281926858e-16}\n",
      "INFO:lcs.agents.Agent:{'trial': 0, 'steps_in_trial': 100, 'reward': 1.3360874109205535e-12, 'perf_time': 0.45422269999926357, 'numerosity': 1600, 'population': 654, 'average_specificity': 3.884375, 'fraction_accuracy': 6.436906281926858e-16}\n",
      "INFO:lcs.agents.Agent:{'trial': 100, 'steps_in_trial': 1, 'reward': 1726.4096827406408, 'perf_time': 0.003565099999832455, 'numerosity': 1600, 'population': 817, 'average_specificity': 7.46875, 'fraction_accuracy': 0.2500000000001374}\n",
      "INFO:lcs.agents.Agent:{'trial': 100, 'steps_in_trial': 1, 'reward': 1726.4096827406408, 'perf_time': 0.003565099999832455, 'numerosity': 1600, 'population': 817, 'average_specificity': 7.46875, 'fraction_accuracy': 0.2500000000001374}\n",
      "INFO:lcs.agents.Agent:{'trial': 200, 'steps_in_trial': 100, 'reward': 1.3360874108178924e-12, 'perf_time': 0.4112750000003871, 'numerosity': 1600, 'population': 856, 'average_specificity': 8.0475, 'fraction_accuracy': 0.5000000000010999}\n",
      "INFO:lcs.agents.Agent:{'trial': 200, 'steps_in_trial': 100, 'reward': 1.3360874108178924e-12, 'perf_time': 0.4112750000003871, 'numerosity': 1600, 'population': 856, 'average_specificity': 8.0475, 'fraction_accuracy': 0.5000000000010999}\n",
      "INFO:lcs.agents.Agent:{'trial': 300, 'steps_in_trial': 4, 'reward': 1301.5256785335084, 'perf_time': 0.014014200000019628, 'numerosity': 1600, 'population': 818, 'average_specificity': 7.23875, 'fraction_accuracy': 0.7500000000010353}\n",
      "INFO:lcs.agents.Agent:{'trial': 300, 'steps_in_trial': 4, 'reward': 1301.5256785335084, 'perf_time': 0.014014200000019628, 'numerosity': 1600, 'population': 818, 'average_specificity': 7.23875, 'fraction_accuracy': 0.7500000000010353}\n",
      "INFO:lcs.agents.Agent:{'trial': 400, 'steps_in_trial': 30, 'reward': 1000.0, 'perf_time': 0.16735270000026503, 'numerosity': 1600, 'population': 820, 'average_specificity': 6.6925, 'fraction_accuracy': 0.8750000000000001}\n",
      "INFO:lcs.agents.Agent:{'trial': 400, 'steps_in_trial': 30, 'reward': 1000.0, 'perf_time': 0.16735270000026503, 'numerosity': 1600, 'population': 820, 'average_specificity': 6.6925, 'fraction_accuracy': 0.8750000000000001}\n",
      "INFO:lcs.agents.Agent:{'trial': 0, 'steps_in_trial': 75, 'reward': 1000.0, 'perf_time': 0.04701070000010077, 'numerosity': 147, 'population': 115, 'average_specificity': 7.346938775510204, 'fraction_accuracy': 1.0}\n"
     ]
    },
    {
     "name": "stdout",
     "output_type": "stream",
     "text": [
      "Executing 6 experiment\n"
     ]
    },
    {
     "name": "stderr",
     "output_type": "stream",
     "text": [
      "INFO:lcs.agents.Agent:{'trial': 200, 'steps_in_trial': 50, 'reward': 1000.0000366293663, 'perf_time': 0.194090299999516, 'numerosity': 1600, 'population': 579, 'average_specificity': 3.111875, 'fraction_accuracy': 9.477805778473884e-15}\n",
      "INFO:lcs.agents.Agent:{'trial': 400, 'steps_in_trial': 64, 'reward': 1000.0000003023674, 'perf_time': 0.31592749999981606, 'numerosity': 1600, 'population': 634, 'average_specificity': 3.605625, 'fraction_accuracy': 1.860897559967681e-16}\n",
      "INFO:lcs.agents.Agent:{'trial': 600, 'steps_in_trial': 36, 'reward': 1000.0044719197399, 'perf_time': 0.18223240000043006, 'numerosity': 1600, 'population': 633, 'average_specificity': 3.65375, 'fraction_accuracy': 8.467494820290315e-16}\n",
      "INFO:lcs.agents.Agent:{'trial': 800, 'steps_in_trial': 1, 'reward': 1000.0000000000009, 'perf_time': 0.0063045999995665625, 'numerosity': 1600, 'population': 680, 'average_specificity': 4.253125, 'fraction_accuracy': 2.6898709786298708e-15}\n",
      "INFO:lcs.agents.Agent:{'trial': 1000, 'steps_in_trial': 54, 'reward': 1000.0000116491663, 'perf_time': 0.3074253000004319, 'numerosity': 1600, 'population': 715, 'average_specificity': 4.80625, 'fraction_accuracy': 1.2118012769556206e-15}\n",
      "INFO:lcs.agents.Agent:{'trial': 1200, 'steps_in_trial': 57, 'reward': 1000.0000033244966, 'perf_time': 0.3154986999998073, 'numerosity': 1600, 'population': 679, 'average_specificity': 4.065625, 'fraction_accuracy': 3.343495334257377e-13}\n",
      "INFO:lcs.agents.Agent:{'trial': 1400, 'steps_in_trial': 58, 'reward': 1000.0000035502954, 'perf_time': 0.3057957000000897, 'numerosity': 1600, 'population': 690, 'average_specificity': 4.540625, 'fraction_accuracy': 7.696349158786562e-17}\n",
      "INFO:lcs.agents.Agent:{'trial': 1600, 'steps_in_trial': 38, 'reward': 1000.0022278000212, 'perf_time': 0.2177531999996063, 'numerosity': 1600, 'population': 659, 'average_specificity': 3.90625, 'fraction_accuracy': 2.106918572912765e-16}\n",
      "INFO:lcs.agents.Agent:{'trial': 1800, 'steps_in_trial': 24, 'reward': 1000.2692776876485, 'perf_time': 0.1304189000002225, 'numerosity': 1600, 'population': 680, 'average_specificity': 3.579375, 'fraction_accuracy': 4.623467473620539e-14}\n",
      "INFO:lcs.agents.Agent:{'trial': 0, 'steps_in_trial': 57, 'reward': 1000.0, 'perf_time': 0.27700929999991786, 'numerosity': 1600, 'population': 678, 'average_specificity': 3.7075, 'fraction_accuracy': 1.802071512302762e-14}\n",
      "INFO:lcs.agents.Agent:{'trial': 0, 'steps_in_trial': 57, 'reward': 1000.0, 'perf_time': 0.27700929999991786, 'numerosity': 1600, 'population': 678, 'average_specificity': 3.7075, 'fraction_accuracy': 1.802071512302762e-14}\n",
      "INFO:lcs.agents.Agent:{'trial': 100, 'steps_in_trial': 17, 'reward': 1000.0, 'perf_time': 0.1172006999995574, 'numerosity': 1600, 'population': 823, 'average_specificity': 6.88375, 'fraction_accuracy': 0.25000000000009037}\n",
      "INFO:lcs.agents.Agent:{'trial': 100, 'steps_in_trial': 17, 'reward': 1000.0, 'perf_time': 0.1172006999995574, 'numerosity': 1600, 'population': 823, 'average_specificity': 6.88375, 'fraction_accuracy': 0.25000000000009037}\n",
      "INFO:lcs.agents.Agent:{'trial': 200, 'steps_in_trial': 49, 'reward': 1000.0000868827556, 'perf_time': 0.20363069999984873, 'numerosity': 1600, 'population': 782, 'average_specificity': 5.461875, 'fraction_accuracy': 0.1250000000000776}\n",
      "INFO:lcs.agents.Agent:{'trial': 200, 'steps_in_trial': 49, 'reward': 1000.0000868827556, 'perf_time': 0.20363069999984873, 'numerosity': 1600, 'population': 782, 'average_specificity': 5.461875, 'fraction_accuracy': 0.1250000000000776}\n",
      "INFO:lcs.agents.Agent:{'trial': 300, 'steps_in_trial': 4, 'reward': 1303.1354100959243, 'perf_time': 0.01355020000028162, 'numerosity': 1600, 'population': 791, 'average_specificity': 5.193125, 'fraction_accuracy': 0.25000000000001554}\n",
      "INFO:lcs.agents.Agent:{'trial': 300, 'steps_in_trial': 4, 'reward': 1303.1354100959243, 'perf_time': 0.01355020000028162, 'numerosity': 1600, 'population': 791, 'average_specificity': 5.193125, 'fraction_accuracy': 0.25000000000001554}\n",
      "INFO:lcs.agents.Agent:{'trial': 400, 'steps_in_trial': 5, 'reward': 1220.0994247854196, 'perf_time': 0.01717110000026878, 'numerosity': 1600, 'population': 793, 'average_specificity': 5.006875, 'fraction_accuracy': 0.1250000000000776}\n",
      "INFO:lcs.agents.Agent:{'trial': 400, 'steps_in_trial': 5, 'reward': 1220.0994247854196, 'perf_time': 0.01717110000026878, 'numerosity': 1600, 'population': 793, 'average_specificity': 5.006875, 'fraction_accuracy': 0.1250000000000776}\n",
      "INFO:lcs.agents.Agent:{'trial': 0, 'steps_in_trial': 100, 'reward': 0.0, 'perf_time': 0.05412929999965854, 'numerosity': 150, 'population': 106, 'average_specificity': 5.46, 'fraction_accuracy': 1.0}\n"
     ]
    },
    {
     "name": "stdout",
     "output_type": "stream",
     "text": [
      "Executing 7 experiment\n"
     ]
    },
    {
     "name": "stderr",
     "output_type": "stream",
     "text": [
      "INFO:lcs.agents.Agent:{'trial': 200, 'steps_in_trial': 1, 'reward': 1000.0000000000009, 'perf_time': 0.005466399999932037, 'numerosity': 1600, 'population': 546, 'average_specificity': 2.848125, 'fraction_accuracy': 8.423560170684345e-16}\n",
      "INFO:lcs.agents.Agent:{'trial': 400, 'steps_in_trial': 9, 'reward': 1045.848500718449, 'perf_time': 0.048212799999419076, 'numerosity': 1600, 'population': 592, 'average_specificity': 3.515, 'fraction_accuracy': 2.035184593009583e-14}\n",
      "INFO:lcs.agents.Agent:{'trial': 600, 'steps_in_trial': 69, 'reward': 1000.0000000570552, 'perf_time': 0.33092089999991003, 'numerosity': 1600, 'population': 668, 'average_specificity': 4.411875, 'fraction_accuracy': 1.3764419359928339e-14}\n",
      "INFO:lcs.agents.Agent:{'trial': 800, 'steps_in_trial': 6, 'reward': 1128.100283921, 'perf_time': 0.02708329999950365, 'numerosity': 1600, 'population': 658, 'average_specificity': 4.22125, 'fraction_accuracy': 4.754034261594949e-16}\n",
      "INFO:lcs.agents.Agent:{'trial': 1000, 'steps_in_trial': 100, 'reward': 1.7893647635271454e-27, 'perf_time': 0.5204102999996394, 'numerosity': 1600, 'population': 702, 'average_specificity': 4.865625, 'fraction_accuracy': 9.763427237043242e-17}\n",
      "INFO:lcs.agents.Agent:{'trial': 1200, 'steps_in_trial': 61, 'reward': 1000.0, 'perf_time': 0.31473579999965295, 'numerosity': 1600, 'population': 657, 'average_specificity': 3.960625, 'fraction_accuracy': 0.1250000000000005}\n",
      "INFO:lcs.agents.Agent:{'trial': 1400, 'steps_in_trial': 100, 'reward': 2.629803292842996e-12, 'perf_time': 0.44679980000000796, 'numerosity': 1600, 'population': 663, 'average_specificity': 3.445, 'fraction_accuracy': 5.6924662165358994e-15}\n",
      "INFO:lcs.agents.Agent:{'trial': 1600, 'steps_in_trial': 2, 'reward': 1000.0000000000007, 'perf_time': 0.013431299999865587, 'numerosity': 1600, 'population': 688, 'average_specificity': 4.46, 'fraction_accuracy': 1.6797411930085675e-15}\n",
      "INFO:lcs.agents.Agent:{'trial': 1800, 'steps_in_trial': 83, 'reward': 1000.0000000004513, 'perf_time': 0.42129099999965547, 'numerosity': 1600, 'population': 705, 'average_specificity': 4.33125, 'fraction_accuracy': 5.4245507598327126e-15}\n",
      "INFO:lcs.agents.Agent:{'trial': 0, 'steps_in_trial': 29, 'reward': 1000.048685998304, 'perf_time': 0.13512080000054993, 'numerosity': 1600, 'population': 658, 'average_specificity': 3.465625, 'fraction_accuracy': 0.12500000000000033}\n",
      "INFO:lcs.agents.Agent:{'trial': 0, 'steps_in_trial': 29, 'reward': 1000.048685998304, 'perf_time': 0.13512080000054993, 'numerosity': 1600, 'population': 658, 'average_specificity': 3.465625, 'fraction_accuracy': 0.12500000000000033}\n",
      "INFO:lcs.agents.Agent:{'trial': 100, 'steps_in_trial': 22, 'reward': 1000.0, 'perf_time': 0.14584340000055818, 'numerosity': 1600, 'population': 781, 'average_specificity': 5.175625, 'fraction_accuracy': 0.8750000000000028}\n",
      "INFO:lcs.agents.Agent:{'trial': 100, 'steps_in_trial': 22, 'reward': 1000.0, 'perf_time': 0.14584340000055818, 'numerosity': 1600, 'population': 781, 'average_specificity': 5.175625, 'fraction_accuracy': 0.8750000000000028}\n",
      "INFO:lcs.agents.Agent:{'trial': 200, 'steps_in_trial': 6, 'reward': 1131.198975813342, 'perf_time': 0.019308400000227266, 'numerosity': 1600, 'population': 760, 'average_specificity': 4.4575, 'fraction_accuracy': 0.625}\n",
      "INFO:lcs.agents.Agent:{'trial': 200, 'steps_in_trial': 6, 'reward': 1131.198975813342, 'perf_time': 0.019308400000227266, 'numerosity': 1600, 'population': 760, 'average_specificity': 4.4575, 'fraction_accuracy': 0.625}\n",
      "INFO:lcs.agents.Agent:{'trial': 300, 'steps_in_trial': 7, 'reward': 1114.524701095773, 'perf_time': 0.04024180000033084, 'numerosity': 1600, 'population': 777, 'average_specificity': 4.979375, 'fraction_accuracy': 0.5}\n",
      "INFO:lcs.agents.Agent:{'trial': 300, 'steps_in_trial': 7, 'reward': 1114.524701095773, 'perf_time': 0.04024180000033084, 'numerosity': 1600, 'population': 777, 'average_specificity': 4.979375, 'fraction_accuracy': 0.5}\n",
      "INFO:lcs.agents.Agent:{'trial': 400, 'steps_in_trial': 6, 'reward': 1128.100283921, 'perf_time': 0.02843490000032034, 'numerosity': 1600, 'population': 753, 'average_specificity': 4.979375, 'fraction_accuracy': 0.75}\n",
      "INFO:lcs.agents.Agent:{'trial': 400, 'steps_in_trial': 6, 'reward': 1128.100283921, 'perf_time': 0.02843490000032034, 'numerosity': 1600, 'population': 753, 'average_specificity': 4.979375, 'fraction_accuracy': 0.75}\n",
      "INFO:lcs.agents.Agent:{'trial': 0, 'steps_in_trial': 100, 'reward': 0.0, 'perf_time': 0.047212299999955576, 'numerosity': 135, 'population': 92, 'average_specificity': 7.133333333333334, 'fraction_accuracy': 0.37500000000000017}\n"
     ]
    },
    {
     "name": "stdout",
     "output_type": "stream",
     "text": [
      "Executing 8 experiment\n"
     ]
    },
    {
     "name": "stderr",
     "output_type": "stream",
     "text": [
      "INFO:lcs.agents.Agent:{'trial': 200, 'steps_in_trial': 100, 'reward': 1.3360874109890003e-12, 'perf_time': 0.3754007999996247, 'numerosity': 1600, 'population': 553, 'average_specificity': 2.811875, 'fraction_accuracy': 1.8539584428073794e-15}\n",
      "INFO:lcs.agents.Agent:{'trial': 400, 'steps_in_trial': 1, 'reward': 1721.6508747459695, 'perf_time': 0.0025816999996095547, 'numerosity': 1600, 'population': 594, 'average_specificity': 3.190625, 'fraction_accuracy': 8.541990929709276e-16}\n",
      "INFO:lcs.agents.Agent:{'trial': 600, 'steps_in_trial': 3, 'reward': 1357.9110051082585, 'perf_time': 0.008418800000072224, 'numerosity': 1600, 'population': 643, 'average_specificity': 4.10375, 'fraction_accuracy': 0.12500000000000053}\n",
      "INFO:lcs.agents.Agent:{'trial': 800, 'steps_in_trial': 5, 'reward': 1193.133470906016, 'perf_time': 0.021083800000269548, 'numerosity': 1600, 'population': 652, 'average_specificity': 3.695, 'fraction_accuracy': 2.1298683179501677e-16}\n",
      "INFO:lcs.agents.Agent:{'trial': 1000, 'steps_in_trial': 98, 'reward': 1000.0000000000026, 'perf_time': 0.5028214999992997, 'numerosity': 1600, 'population': 689, 'average_specificity': 4.749375, 'fraction_accuracy': 0.375}\n",
      "INFO:lcs.agents.Agent:{'trial': 1200, 'steps_in_trial': 40, 'reward': 1000.0014082248325, 'perf_time': 0.1957879999999932, 'numerosity': 1600, 'population': 742, 'average_specificity': 4.95625, 'fraction_accuracy': 1.2436362369945099e-15}\n",
      "INFO:lcs.agents.Agent:{'trial': 1400, 'steps_in_trial': 69, 'reward': 1000.0000000595194, 'perf_time': 0.33911449999959586, 'numerosity': 1600, 'population': 680, 'average_specificity': 4.46, 'fraction_accuracy': 8.341277752021353e-16}\n",
      "INFO:lcs.agents.Agent:{'trial': 1600, 'steps_in_trial': 18, 'reward': 1002.3342053856704, 'perf_time': 0.08326359999955457, 'numerosity': 1600, 'population': 717, 'average_specificity': 5.31875, 'fraction_accuracy': 4.399782312509151e-14}\n",
      "INFO:lcs.agents.Agent:{'trial': 1800, 'steps_in_trial': 23, 'reward': 1000.3855142249653, 'perf_time': 0.13887120000072173, 'numerosity': 1600, 'population': 704, 'average_specificity': 4.5325, 'fraction_accuracy': 1.2794360174075248e-14}\n",
      "INFO:lcs.agents.Agent:{'trial': 0, 'steps_in_trial': 8, 'reward': 1064.9546215114444, 'perf_time': 0.05371670000022277, 'numerosity': 1600, 'population': 755, 'average_specificity': 6.038125, 'fraction_accuracy': 7.447557314153234e-17}\n",
      "INFO:lcs.agents.Agent:{'trial': 0, 'steps_in_trial': 8, 'reward': 1064.9546215114444, 'perf_time': 0.05371670000022277, 'numerosity': 1600, 'population': 755, 'average_specificity': 6.038125, 'fraction_accuracy': 7.447557314153234e-17}\n",
      "INFO:lcs.agents.Agent:{'trial': 100, 'steps_in_trial': 5, 'reward': 1180.422935103941, 'perf_time': 0.020575900000039837, 'numerosity': 1600, 'population': 759, 'average_specificity': 5.73625, 'fraction_accuracy': 7.327607145937486e-17}\n",
      "INFO:lcs.agents.Agent:{'trial': 100, 'steps_in_trial': 5, 'reward': 1180.422935103941, 'perf_time': 0.020575900000039837, 'numerosity': 1600, 'population': 759, 'average_specificity': 5.73625, 'fraction_accuracy': 7.327607145937486e-17}\n",
      "INFO:lcs.agents.Agent:{'trial': 200, 'steps_in_trial': 100, 'reward': 4.0785024367222816e-42, 'perf_time': 0.4636241999996855, 'numerosity': 1600, 'population': 795, 'average_specificity': 6.735, 'fraction_accuracy': 0.875}\n",
      "INFO:lcs.agents.Agent:{'trial': 200, 'steps_in_trial': 100, 'reward': 4.0785024367222816e-42, 'perf_time': 0.4636241999996855, 'numerosity': 1600, 'population': 795, 'average_specificity': 6.735, 'fraction_accuracy': 0.875}\n",
      "INFO:lcs.agents.Agent:{'trial': 300, 'steps_in_trial': 5, 'reward': 1182.8717765496597, 'perf_time': 0.01690739999867219, 'numerosity': 1600, 'population': 788, 'average_specificity': 5.876875, 'fraction_accuracy': 0.625}\n",
      "INFO:lcs.agents.Agent:{'trial': 300, 'steps_in_trial': 5, 'reward': 1182.8717765496597, 'perf_time': 0.01690739999867219, 'numerosity': 1600, 'population': 788, 'average_specificity': 5.876875, 'fraction_accuracy': 0.625}\n",
      "INFO:lcs.agents.Agent:{'trial': 400, 'steps_in_trial': 1, 'reward': 1780.1987427694678, 'perf_time': 0.003226499999072985, 'numerosity': 1600, 'population': 767, 'average_specificity': 5.825, 'fraction_accuracy': 0.625}\n",
      "INFO:lcs.agents.Agent:{'trial': 400, 'steps_in_trial': 1, 'reward': 1780.1987427694678, 'perf_time': 0.003226499999072985, 'numerosity': 1600, 'population': 767, 'average_specificity': 5.825, 'fraction_accuracy': 0.625}\n",
      "INFO:lcs.agents.Agent:{'trial': 0, 'steps_in_trial': 100, 'reward': 0.0, 'perf_time': 0.041173800000251504, 'numerosity': 142, 'population': 78, 'average_specificity': 4.070422535211268, 'fraction_accuracy': 1.0}\n"
     ]
    },
    {
     "name": "stdout",
     "output_type": "stream",
     "text": [
      "Executing 9 experiment\n"
     ]
    },
    {
     "name": "stderr",
     "output_type": "stream",
     "text": [
      "INFO:lcs.agents.Agent:{'trial': 200, 'steps_in_trial': 14, 'reward': 1009.3318549403567, 'perf_time': 0.04991900000095484, 'numerosity': 1600, 'population': 494, 'average_specificity': 2.193125, 'fraction_accuracy': 4.652404660058031e-15}\n",
      "INFO:lcs.agents.Agent:{'trial': 400, 'steps_in_trial': 15, 'reward': 1005.8732190812065, 'perf_time': 0.07056390000070678, 'numerosity': 1600, 'population': 632, 'average_specificity': 3.56625, 'fraction_accuracy': 8.918174475888158e-17}\n",
      "INFO:lcs.agents.Agent:{'trial': 600, 'steps_in_trial': 46, 'reward': 1000.0001471659427, 'perf_time': 0.23939940000127535, 'numerosity': 1600, 'population': 665, 'average_specificity': 4.273125, 'fraction_accuracy': 6.399248174675569e-17}\n",
      "INFO:lcs.agents.Agent:{'trial': 800, 'steps_in_trial': 27, 'reward': 1000.0963774465458, 'perf_time': 0.13835149999977148, 'numerosity': 1600, 'population': 688, 'average_specificity': 4.79625, 'fraction_accuracy': 4.3744384405873123e-16}\n",
      "INFO:lcs.agents.Agent:{'trial': 1000, 'steps_in_trial': 9, 'reward': 1045.8485007184775, 'perf_time': 0.05329469999924186, 'numerosity': 1600, 'population': 625, 'average_specificity': 3.585625, 'fraction_accuracy': 1.420674323655356e-15}\n",
      "INFO:lcs.agents.Agent:{'trial': 1200, 'steps_in_trial': 11, 'reward': 1023.6475272603838, 'perf_time': 0.05393770000046061, 'numerosity': 1600, 'population': 630, 'average_specificity': 3.316875, 'fraction_accuracy': 0.25000000000000033}\n",
      "INFO:lcs.agents.Agent:{'trial': 1400, 'steps_in_trial': 7, 'reward': 1099.223322653467, 'perf_time': 0.03644290000011097, 'numerosity': 1600, 'population': 698, 'average_specificity': 4.77375, 'fraction_accuracy': 8.128660838511006e-18}\n",
      "INFO:lcs.agents.Agent:{'trial': 1600, 'steps_in_trial': 11, 'reward': 1000.0, 'perf_time': 0.06229239999993297, 'numerosity': 1600, 'population': 683, 'average_specificity': 4.11125, 'fraction_accuracy': 2.593973647586555e-15}\n",
      "INFO:lcs.agents.Agent:{'trial': 1800, 'steps_in_trial': 67, 'reward': 1000.0, 'perf_time': 0.44949409999935597, 'numerosity': 1600, 'population': 763, 'average_specificity': 5.3675, 'fraction_accuracy': 1.840888221201398e-14}\n",
      "INFO:lcs.agents.Agent:{'trial': 0, 'steps_in_trial': 19, 'reward': 1001.5609214475378, 'perf_time': 0.0624485000007553, 'numerosity': 1600, 'population': 728, 'average_specificity': 4.898125, 'fraction_accuracy': 0.12500000000000674}\n",
      "INFO:lcs.agents.Agent:{'trial': 0, 'steps_in_trial': 19, 'reward': 1001.5609214475378, 'perf_time': 0.0624485000007553, 'numerosity': 1600, 'population': 728, 'average_specificity': 4.898125, 'fraction_accuracy': 0.12500000000000674}\n",
      "INFO:lcs.agents.Agent:{'trial': 100, 'steps_in_trial': 8, 'reward': 1000.0000000000001, 'perf_time': 0.05343820000052801, 'numerosity': 1600, 'population': 706, 'average_specificity': 4.28, 'fraction_accuracy': 5.455138781495743e-15}\n",
      "INFO:lcs.agents.Agent:{'trial': 100, 'steps_in_trial': 8, 'reward': 1000.0000000000001, 'perf_time': 0.05343820000052801, 'numerosity': 1600, 'population': 706, 'average_specificity': 4.28, 'fraction_accuracy': 5.455138781495743e-15}\n",
      "INFO:lcs.agents.Agent:{'trial': 200, 'steps_in_trial': 100, 'reward': 5e-324, 'perf_time': 0.6598630000007688, 'numerosity': 1600, 'population': 871, 'average_specificity': 7.695, 'fraction_accuracy': 0.5000000000007091}\n",
      "INFO:lcs.agents.Agent:{'trial': 200, 'steps_in_trial': 100, 'reward': 5e-324, 'perf_time': 0.6598630000007688, 'numerosity': 1600, 'population': 871, 'average_specificity': 7.695, 'fraction_accuracy': 0.5000000000007091}\n",
      "INFO:lcs.agents.Agent:{'trial': 300, 'steps_in_trial': 5, 'reward': 1200.2237031495188, 'perf_time': 0.027155299998412374, 'numerosity': 1600, 'population': 836, 'average_specificity': 6.645625, 'fraction_accuracy': 0.2500000000000004}\n",
      "INFO:lcs.agents.Agent:{'trial': 300, 'steps_in_trial': 5, 'reward': 1200.2237031495188, 'perf_time': 0.027155299998412374, 'numerosity': 1600, 'population': 836, 'average_specificity': 6.645625, 'fraction_accuracy': 0.2500000000000004}\n",
      "INFO:lcs.agents.Agent:{'trial': 400, 'steps_in_trial': 9, 'reward': 1048.957311694448, 'perf_time': 0.0647993000002316, 'numerosity': 1600, 'population': 843, 'average_specificity': 6.74375, 'fraction_accuracy': 0.2500000000000004}\n",
      "INFO:lcs.agents.Agent:{'trial': 400, 'steps_in_trial': 9, 'reward': 1048.957311694448, 'perf_time': 0.0647993000002316, 'numerosity': 1600, 'population': 843, 'average_specificity': 6.74375, 'fraction_accuracy': 0.2500000000000004}\n"
     ]
    }
   ],
   "source": [
    "from utils.xcs_utils import avg_experiment as XCSExp\n",
    "from utils.nxcs_utils import avg_experiment as XNCSExp\n",
    "\n",
    "number_of_experiments = 10\n",
    "explore = 2000\n",
    "exploit = 500\n",
    "\n",
    "df = XCSExp(maze=maze,\n",
    "             cfg=XCScfg,\n",
    "             number_of_tests=number_of_experiments,\n",
    "             explore_trials=explore,\n",
    "             exploit_trials=exploit)\n",
    "\n",
    "df_other = XNCSExp(maze=maze,\n",
    "             cfg=XNCScfg,\n",
    "             number_of_tests=number_of_experiments,\n",
    "             explore_trials=explore,\n",
    "             exploit_trials=exploit)\n"
   ]
  },
  {
   "cell_type": "code",
   "execution_count": 19,
   "metadata": {},
   "outputs": [
    {
     "data": {
      "text/html": [
       "<div>\n",
       "<style scoped>\n",
       "    .dataframe tbody tr th:only-of-type {\n",
       "        vertical-align: middle;\n",
       "    }\n",
       "\n",
       "    .dataframe tbody tr th {\n",
       "        vertical-align: top;\n",
       "    }\n",
       "\n",
       "    .dataframe thead th {\n",
       "        text-align: right;\n",
       "    }\n",
       "</style>\n",
       "<table border=\"1\" class=\"dataframe\">\n",
       "  <thead>\n",
       "    <tr style=\"text-align: right;\">\n",
       "      <th></th>\n",
       "      <th>steps_in_trial</th>\n",
       "      <th>reward</th>\n",
       "      <th>perf_time</th>\n",
       "      <th>population</th>\n",
       "      <th>numerosity</th>\n",
       "      <th>average_specificity</th>\n",
       "      <th>fraction_accuracy</th>\n",
       "      <th>steps_in_trial_other</th>\n",
       "      <th>population_other</th>\n",
       "      <th>numerosity_other</th>\n",
       "      <th>average_specificity_other</th>\n",
       "      <th>fraction_accuracy_other</th>\n",
       "    </tr>\n",
       "    <tr>\n",
       "      <th>trial</th>\n",
       "      <th></th>\n",
       "      <th></th>\n",
       "      <th></th>\n",
       "      <th></th>\n",
       "      <th></th>\n",
       "      <th></th>\n",
       "      <th></th>\n",
       "      <th></th>\n",
       "      <th></th>\n",
       "      <th></th>\n",
       "      <th></th>\n",
       "      <th></th>\n",
       "    </tr>\n",
       "  </thead>\n",
       "  <tbody>\n",
       "    <tr>\n",
       "      <th>0</th>\n",
       "      <td>91.8</td>\n",
       "      <td>100.000000</td>\n",
       "      <td>0.052199</td>\n",
       "      <td>108.1</td>\n",
       "      <td>152.7</td>\n",
       "      <td>6.084159</td>\n",
       "      <td>1.000000e+00</td>\n",
       "      <td>89.0</td>\n",
       "      <td>97.5</td>\n",
       "      <td>142.1</td>\n",
       "      <td>5.778131</td>\n",
       "      <td>8.875000e-01</td>\n",
       "    </tr>\n",
       "    <tr>\n",
       "      <th>100</th>\n",
       "      <td>52.0</td>\n",
       "      <td>800.411296</td>\n",
       "      <td>0.204609</td>\n",
       "      <td>399.4</td>\n",
       "      <td>1605.4</td>\n",
       "      <td>1.582136</td>\n",
       "      <td>3.003213e-13</td>\n",
       "      <td>42.5</td>\n",
       "      <td>479.1</td>\n",
       "      <td>1600.0</td>\n",
       "      <td>2.437562</td>\n",
       "      <td>1.142850e-15</td>\n",
       "    </tr>\n",
       "    <tr>\n",
       "      <th>200</th>\n",
       "      <td>39.8</td>\n",
       "      <td>914.138554</td>\n",
       "      <td>0.145111</td>\n",
       "      <td>395.9</td>\n",
       "      <td>1605.5</td>\n",
       "      <td>1.520576</td>\n",
       "      <td>3.750000e-02</td>\n",
       "      <td>27.9</td>\n",
       "      <td>547.6</td>\n",
       "      <td>1600.0</td>\n",
       "      <td>2.819063</td>\n",
       "      <td>3.380321e-15</td>\n",
       "    </tr>\n",
       "    <tr>\n",
       "      <th>300</th>\n",
       "      <td>44.6</td>\n",
       "      <td>916.551896</td>\n",
       "      <td>0.166921</td>\n",
       "      <td>410.7</td>\n",
       "      <td>1613.2</td>\n",
       "      <td>1.682143</td>\n",
       "      <td>3.031430e-14</td>\n",
       "      <td>48.0</td>\n",
       "      <td>595.0</td>\n",
       "      <td>1600.0</td>\n",
       "      <td>3.256438</td>\n",
       "      <td>2.500000e-02</td>\n",
       "    </tr>\n",
       "    <tr>\n",
       "      <th>400</th>\n",
       "      <td>33.8</td>\n",
       "      <td>1077.355982</td>\n",
       "      <td>0.139215</td>\n",
       "      <td>404.6</td>\n",
       "      <td>1606.6</td>\n",
       "      <td>1.617811</td>\n",
       "      <td>3.700835e-14</td>\n",
       "      <td>28.1</td>\n",
       "      <td>621.1</td>\n",
       "      <td>1600.0</td>\n",
       "      <td>3.648625</td>\n",
       "      <td>2.511887e-15</td>\n",
       "    </tr>\n",
       "    <tr>\n",
       "      <th>500</th>\n",
       "      <td>69.0</td>\n",
       "      <td>614.028490</td>\n",
       "      <td>0.266113</td>\n",
       "      <td>420.3</td>\n",
       "      <td>1604.0</td>\n",
       "      <td>1.619119</td>\n",
       "      <td>2.041384e-14</td>\n",
       "      <td>55.5</td>\n",
       "      <td>641.8</td>\n",
       "      <td>1600.0</td>\n",
       "      <td>3.975375</td>\n",
       "      <td>1.250000e-02</td>\n",
       "    </tr>\n",
       "    <tr>\n",
       "      <th>600</th>\n",
       "      <td>54.4</td>\n",
       "      <td>736.694854</td>\n",
       "      <td>0.195789</td>\n",
       "      <td>422.9</td>\n",
       "      <td>1602.9</td>\n",
       "      <td>1.728276</td>\n",
       "      <td>1.250000e-02</td>\n",
       "      <td>35.6</td>\n",
       "      <td>642.4</td>\n",
       "      <td>1600.0</td>\n",
       "      <td>4.006437</td>\n",
       "      <td>1.250000e-02</td>\n",
       "    </tr>\n",
       "    <tr>\n",
       "      <th>700</th>\n",
       "      <td>54.6</td>\n",
       "      <td>807.164862</td>\n",
       "      <td>0.210975</td>\n",
       "      <td>408.0</td>\n",
       "      <td>1607.9</td>\n",
       "      <td>1.599390</td>\n",
       "      <td>2.500000e-02</td>\n",
       "      <td>39.8</td>\n",
       "      <td>663.4</td>\n",
       "      <td>1600.0</td>\n",
       "      <td>4.307125</td>\n",
       "      <td>1.250000e-02</td>\n",
       "    </tr>\n",
       "    <tr>\n",
       "      <th>800</th>\n",
       "      <td>60.9</td>\n",
       "      <td>519.334100</td>\n",
       "      <td>0.234345</td>\n",
       "      <td>413.6</td>\n",
       "      <td>1605.1</td>\n",
       "      <td>1.618144</td>\n",
       "      <td>1.250000e-02</td>\n",
       "      <td>34.6</td>\n",
       "      <td>669.6</td>\n",
       "      <td>1600.0</td>\n",
       "      <td>4.293938</td>\n",
       "      <td>1.196585e-15</td>\n",
       "    </tr>\n",
       "    <tr>\n",
       "      <th>900</th>\n",
       "      <td>40.2</td>\n",
       "      <td>1062.417179</td>\n",
       "      <td>0.155673</td>\n",
       "      <td>417.9</td>\n",
       "      <td>1605.7</td>\n",
       "      <td>1.618205</td>\n",
       "      <td>1.250000e-02</td>\n",
       "      <td>45.0</td>\n",
       "      <td>671.0</td>\n",
       "      <td>1600.0</td>\n",
       "      <td>4.395313</td>\n",
       "      <td>1.250000e-02</td>\n",
       "    </tr>\n",
       "    <tr>\n",
       "      <th>1000</th>\n",
       "      <td>30.2</td>\n",
       "      <td>1071.180009</td>\n",
       "      <td>0.113604</td>\n",
       "      <td>410.8</td>\n",
       "      <td>1608.4</td>\n",
       "      <td>1.719336</td>\n",
       "      <td>1.284551e-14</td>\n",
       "      <td>46.7</td>\n",
       "      <td>687.1</td>\n",
       "      <td>1600.0</td>\n",
       "      <td>4.616313</td>\n",
       "      <td>3.750000e-02</td>\n",
       "    </tr>\n",
       "    <tr>\n",
       "      <th>1100</th>\n",
       "      <td>38.0</td>\n",
       "      <td>1006.875921</td>\n",
       "      <td>0.144240</td>\n",
       "      <td>413.7</td>\n",
       "      <td>1603.2</td>\n",
       "      <td>1.571106</td>\n",
       "      <td>2.037540e-14</td>\n",
       "      <td>36.9</td>\n",
       "      <td>665.8</td>\n",
       "      <td>1600.0</td>\n",
       "      <td>4.224000</td>\n",
       "      <td>1.250000e-02</td>\n",
       "    </tr>\n",
       "    <tr>\n",
       "      <th>1200</th>\n",
       "      <td>30.2</td>\n",
       "      <td>957.599273</td>\n",
       "      <td>0.117028</td>\n",
       "      <td>416.4</td>\n",
       "      <td>1607.1</td>\n",
       "      <td>1.627203</td>\n",
       "      <td>7.909460e-14</td>\n",
       "      <td>54.7</td>\n",
       "      <td>666.2</td>\n",
       "      <td>1600.0</td>\n",
       "      <td>4.066562</td>\n",
       "      <td>3.750000e-02</td>\n",
       "    </tr>\n",
       "    <tr>\n",
       "      <th>1300</th>\n",
       "      <td>38.4</td>\n",
       "      <td>941.186158</td>\n",
       "      <td>0.147198</td>\n",
       "      <td>422.9</td>\n",
       "      <td>1609.2</td>\n",
       "      <td>1.635573</td>\n",
       "      <td>2.500000e-02</td>\n",
       "      <td>40.5</td>\n",
       "      <td>674.2</td>\n",
       "      <td>1600.0</td>\n",
       "      <td>4.218938</td>\n",
       "      <td>1.250000e-02</td>\n",
       "    </tr>\n",
       "    <tr>\n",
       "      <th>1400</th>\n",
       "      <td>52.8</td>\n",
       "      <td>604.697668</td>\n",
       "      <td>0.186518</td>\n",
       "      <td>410.5</td>\n",
       "      <td>1611.3</td>\n",
       "      <td>1.540516</td>\n",
       "      <td>2.500000e-02</td>\n",
       "      <td>40.4</td>\n",
       "      <td>681.1</td>\n",
       "      <td>1600.0</td>\n",
       "      <td>4.200563</td>\n",
       "      <td>2.397498e-15</td>\n",
       "    </tr>\n",
       "    <tr>\n",
       "      <th>1500</th>\n",
       "      <td>31.4</td>\n",
       "      <td>1051.288333</td>\n",
       "      <td>0.117136</td>\n",
       "      <td>419.8</td>\n",
       "      <td>1605.5</td>\n",
       "      <td>1.676694</td>\n",
       "      <td>5.779108e-15</td>\n",
       "      <td>51.1</td>\n",
       "      <td>685.2</td>\n",
       "      <td>1600.0</td>\n",
       "      <td>4.344250</td>\n",
       "      <td>1.250000e-02</td>\n",
       "    </tr>\n",
       "    <tr>\n",
       "      <th>1600</th>\n",
       "      <td>64.8</td>\n",
       "      <td>607.705827</td>\n",
       "      <td>0.242201</td>\n",
       "      <td>424.8</td>\n",
       "      <td>1605.5</td>\n",
       "      <td>1.660007</td>\n",
       "      <td>2.500000e-02</td>\n",
       "      <td>27.3</td>\n",
       "      <td>690.6</td>\n",
       "      <td>1600.0</td>\n",
       "      <td>4.481812</td>\n",
       "      <td>5.683935e-15</td>\n",
       "    </tr>\n",
       "    <tr>\n",
       "      <th>1700</th>\n",
       "      <td>37.3</td>\n",
       "      <td>972.079749</td>\n",
       "      <td>0.149581</td>\n",
       "      <td>413.6</td>\n",
       "      <td>1604.6</td>\n",
       "      <td>1.655249</td>\n",
       "      <td>1.250000e-02</td>\n",
       "      <td>51.9</td>\n",
       "      <td>698.0</td>\n",
       "      <td>1600.0</td>\n",
       "      <td>4.638937</td>\n",
       "      <td>1.250000e-02</td>\n",
       "    </tr>\n",
       "    <tr>\n",
       "      <th>1800</th>\n",
       "      <td>51.9</td>\n",
       "      <td>717.962502</td>\n",
       "      <td>0.186570</td>\n",
       "      <td>412.5</td>\n",
       "      <td>1604.5</td>\n",
       "      <td>1.707604</td>\n",
       "      <td>2.366642e-14</td>\n",
       "      <td>47.9</td>\n",
       "      <td>703.2</td>\n",
       "      <td>1600.0</td>\n",
       "      <td>4.404437</td>\n",
       "      <td>1.192077e-14</td>\n",
       "    </tr>\n",
       "    <tr>\n",
       "      <th>1900</th>\n",
       "      <td>24.4</td>\n",
       "      <td>1102.641579</td>\n",
       "      <td>0.091645</td>\n",
       "      <td>408.9</td>\n",
       "      <td>1608.9</td>\n",
       "      <td>1.645934</td>\n",
       "      <td>3.750000e-02</td>\n",
       "      <td>60.8</td>\n",
       "      <td>690.3</td>\n",
       "      <td>1600.0</td>\n",
       "      <td>4.226063</td>\n",
       "      <td>1.250000e-02</td>\n",
       "    </tr>\n",
       "    <tr>\n",
       "      <th>2000</th>\n",
       "      <td>22.0</td>\n",
       "      <td>900.000000</td>\n",
       "      <td>0.049691</td>\n",
       "      <td>421.1</td>\n",
       "      <td>1605.6</td>\n",
       "      <td>1.704471</td>\n",
       "      <td>1.250000e-02</td>\n",
       "      <td>57.8</td>\n",
       "      <td>699.2</td>\n",
       "      <td>1600.0</td>\n",
       "      <td>4.390062</td>\n",
       "      <td>2.500000e-02</td>\n",
       "    </tr>\n",
       "    <tr>\n",
       "      <th>2100</th>\n",
       "      <td>12.8</td>\n",
       "      <td>1119.135316</td>\n",
       "      <td>0.025083</td>\n",
       "      <td>425.3</td>\n",
       "      <td>1600.0</td>\n",
       "      <td>1.713625</td>\n",
       "      <td>1.250000e-02</td>\n",
       "      <td>10.1</td>\n",
       "      <td>751.5</td>\n",
       "      <td>1600.0</td>\n",
       "      <td>5.276750</td>\n",
       "      <td>1.625000e-01</td>\n",
       "    </tr>\n",
       "    <tr>\n",
       "      <th>2200</th>\n",
       "      <td>9.2</td>\n",
       "      <td>1176.769788</td>\n",
       "      <td>0.018771</td>\n",
       "      <td>425.3</td>\n",
       "      <td>1600.0</td>\n",
       "      <td>1.713625</td>\n",
       "      <td>1.250000e-02</td>\n",
       "      <td>61.3</td>\n",
       "      <td>793.5</td>\n",
       "      <td>1600.0</td>\n",
       "      <td>5.965875</td>\n",
       "      <td>4.375000e-01</td>\n",
       "    </tr>\n",
       "    <tr>\n",
       "      <th>2300</th>\n",
       "      <td>9.2</td>\n",
       "      <td>1222.998903</td>\n",
       "      <td>0.020475</td>\n",
       "      <td>425.3</td>\n",
       "      <td>1600.0</td>\n",
       "      <td>1.713625</td>\n",
       "      <td>1.250000e-02</td>\n",
       "      <td>28.2</td>\n",
       "      <td>786.5</td>\n",
       "      <td>1600.0</td>\n",
       "      <td>5.689813</td>\n",
       "      <td>4.500000e-01</td>\n",
       "    </tr>\n",
       "    <tr>\n",
       "      <th>2400</th>\n",
       "      <td>5.4</td>\n",
       "      <td>1283.962274</td>\n",
       "      <td>0.010418</td>\n",
       "      <td>425.3</td>\n",
       "      <td>1600.0</td>\n",
       "      <td>1.712125</td>\n",
       "      <td>1.250000e-02</td>\n",
       "      <td>8.5</td>\n",
       "      <td>786.2</td>\n",
       "      <td>1600.0</td>\n",
       "      <td>5.603688</td>\n",
       "      <td>5.000000e-01</td>\n",
       "    </tr>\n",
       "  </tbody>\n",
       "</table>\n",
       "</div>"
      ],
      "text/plain": [
       "       steps_in_trial       reward  perf_time  population  numerosity  \\\n",
       "trial                                                                   \n",
       "0                91.8   100.000000   0.052199       108.1       152.7   \n",
       "100              52.0   800.411296   0.204609       399.4      1605.4   \n",
       "200              39.8   914.138554   0.145111       395.9      1605.5   \n",
       "300              44.6   916.551896   0.166921       410.7      1613.2   \n",
       "400              33.8  1077.355982   0.139215       404.6      1606.6   \n",
       "500              69.0   614.028490   0.266113       420.3      1604.0   \n",
       "600              54.4   736.694854   0.195789       422.9      1602.9   \n",
       "700              54.6   807.164862   0.210975       408.0      1607.9   \n",
       "800              60.9   519.334100   0.234345       413.6      1605.1   \n",
       "900              40.2  1062.417179   0.155673       417.9      1605.7   \n",
       "1000             30.2  1071.180009   0.113604       410.8      1608.4   \n",
       "1100             38.0  1006.875921   0.144240       413.7      1603.2   \n",
       "1200             30.2   957.599273   0.117028       416.4      1607.1   \n",
       "1300             38.4   941.186158   0.147198       422.9      1609.2   \n",
       "1400             52.8   604.697668   0.186518       410.5      1611.3   \n",
       "1500             31.4  1051.288333   0.117136       419.8      1605.5   \n",
       "1600             64.8   607.705827   0.242201       424.8      1605.5   \n",
       "1700             37.3   972.079749   0.149581       413.6      1604.6   \n",
       "1800             51.9   717.962502   0.186570       412.5      1604.5   \n",
       "1900             24.4  1102.641579   0.091645       408.9      1608.9   \n",
       "2000             22.0   900.000000   0.049691       421.1      1605.6   \n",
       "2100             12.8  1119.135316   0.025083       425.3      1600.0   \n",
       "2200              9.2  1176.769788   0.018771       425.3      1600.0   \n",
       "2300              9.2  1222.998903   0.020475       425.3      1600.0   \n",
       "2400              5.4  1283.962274   0.010418       425.3      1600.0   \n",
       "\n",
       "       average_specificity  fraction_accuracy  steps_in_trial_other  \\\n",
       "trial                                                                 \n",
       "0                 6.084159       1.000000e+00                  89.0   \n",
       "100               1.582136       3.003213e-13                  42.5   \n",
       "200               1.520576       3.750000e-02                  27.9   \n",
       "300               1.682143       3.031430e-14                  48.0   \n",
       "400               1.617811       3.700835e-14                  28.1   \n",
       "500               1.619119       2.041384e-14                  55.5   \n",
       "600               1.728276       1.250000e-02                  35.6   \n",
       "700               1.599390       2.500000e-02                  39.8   \n",
       "800               1.618144       1.250000e-02                  34.6   \n",
       "900               1.618205       1.250000e-02                  45.0   \n",
       "1000              1.719336       1.284551e-14                  46.7   \n",
       "1100              1.571106       2.037540e-14                  36.9   \n",
       "1200              1.627203       7.909460e-14                  54.7   \n",
       "1300              1.635573       2.500000e-02                  40.5   \n",
       "1400              1.540516       2.500000e-02                  40.4   \n",
       "1500              1.676694       5.779108e-15                  51.1   \n",
       "1600              1.660007       2.500000e-02                  27.3   \n",
       "1700              1.655249       1.250000e-02                  51.9   \n",
       "1800              1.707604       2.366642e-14                  47.9   \n",
       "1900              1.645934       3.750000e-02                  60.8   \n",
       "2000              1.704471       1.250000e-02                  57.8   \n",
       "2100              1.713625       1.250000e-02                  10.1   \n",
       "2200              1.713625       1.250000e-02                  61.3   \n",
       "2300              1.713625       1.250000e-02                  28.2   \n",
       "2400              1.712125       1.250000e-02                   8.5   \n",
       "\n",
       "       population_other  numerosity_other  average_specificity_other  \\\n",
       "trial                                                                  \n",
       "0                  97.5             142.1                   5.778131   \n",
       "100               479.1            1600.0                   2.437562   \n",
       "200               547.6            1600.0                   2.819063   \n",
       "300               595.0            1600.0                   3.256438   \n",
       "400               621.1            1600.0                   3.648625   \n",
       "500               641.8            1600.0                   3.975375   \n",
       "600               642.4            1600.0                   4.006437   \n",
       "700               663.4            1600.0                   4.307125   \n",
       "800               669.6            1600.0                   4.293938   \n",
       "900               671.0            1600.0                   4.395313   \n",
       "1000              687.1            1600.0                   4.616313   \n",
       "1100              665.8            1600.0                   4.224000   \n",
       "1200              666.2            1600.0                   4.066562   \n",
       "1300              674.2            1600.0                   4.218938   \n",
       "1400              681.1            1600.0                   4.200563   \n",
       "1500              685.2            1600.0                   4.344250   \n",
       "1600              690.6            1600.0                   4.481812   \n",
       "1700              698.0            1600.0                   4.638937   \n",
       "1800              703.2            1600.0                   4.404437   \n",
       "1900              690.3            1600.0                   4.226063   \n",
       "2000              699.2            1600.0                   4.390062   \n",
       "2100              751.5            1600.0                   5.276750   \n",
       "2200              793.5            1600.0                   5.965875   \n",
       "2300              786.5            1600.0                   5.689813   \n",
       "2400              786.2            1600.0                   5.603688   \n",
       "\n",
       "       fraction_accuracy_other  \n",
       "trial                           \n",
       "0                 8.875000e-01  \n",
       "100               1.142850e-15  \n",
       "200               3.380321e-15  \n",
       "300               2.500000e-02  \n",
       "400               2.511887e-15  \n",
       "500               1.250000e-02  \n",
       "600               1.250000e-02  \n",
       "700               1.250000e-02  \n",
       "800               1.196585e-15  \n",
       "900               1.250000e-02  \n",
       "1000              3.750000e-02  \n",
       "1100              1.250000e-02  \n",
       "1200              3.750000e-02  \n",
       "1300              1.250000e-02  \n",
       "1400              2.397498e-15  \n",
       "1500              1.250000e-02  \n",
       "1600              5.683935e-15  \n",
       "1700              1.250000e-02  \n",
       "1800              1.192077e-14  \n",
       "1900              1.250000e-02  \n",
       "2000              2.500000e-02  \n",
       "2100              1.625000e-01  \n",
       "2200              4.375000e-01  \n",
       "2300              4.500000e-01  \n",
       "2400              5.000000e-01  "
      ]
     },
     "metadata": {},
     "output_type": "display_data"
    }
   ],
   "source": [
    "df['steps_in_trial_other']=df_other['steps_in_trial']\n",
    "df['population_other']=df_other['population']\n",
    "df['numerosity_other']=df_other['numerosity']\n",
    "df['average_specificity_other']=df_other['average_specificity']\n",
    "df['fraction_accuracy_other']=df_other['fraction_accuracy']\n",
    "\n",
    "display(df)"
   ]
  },
  {
   "cell_type": "code",
   "execution_count": 20,
   "metadata": {},
   "outputs": [
    {
     "data": {
      "text/plain": [
       "<matplotlib.legend.Legend at 0x217dcf79408>"
      ]
     },
     "execution_count": 20,
     "metadata": {},
     "output_type": "execute_result"
    },
    {
     "data": {
      "image/png": "[encoded data removed]",
      "text/plain": [
       "<Figure size 432x288 with 1 Axes>"
      ]
     },
     "metadata": {
      "needs_background": "light"
     },
     "output_type": "display_data"
    }
   ],
   "source": [
    "import pandas as pd\n",
    "import numpy as np\n",
    "\n",
    "ax = df[['average_specificity', \"average_specificity_other\"]].plot()\n",
    "ax.set_xlabel(\"trial\")\n",
    "ax.set_ylabel(\"average_specificity\")\n",
    "ax.legend([\"XCS\",\"XNCS\"])\n",
    "\n"
   ]
  },
  {
   "cell_type": "code",
   "execution_count": 21,
   "metadata": {},
   "outputs": [
    {
     "data": {
      "text/plain": [
       "<matplotlib.legend.Legend at 0x217dcfe92c8>"
      ]
     },
     "execution_count": 21,
     "metadata": {},
     "output_type": "execute_result"
    },
    {
     "data": {
      "image/png": "[encoded data removed]",
      "text/plain": [
       "<Figure size 432x288 with 1 Axes>"
      ]
     },
     "metadata": {
      "needs_background": "light"
     },
     "output_type": "display_data"
    }
   ],
   "source": [
    "ax = df[['fraction_accuracy', \"fraction_accuracy_other\"]].plot()\n",
    "ax.set_xlabel(\"trial\")\n",
    "ax.set_ylabel(\"fraction accuracy\")\n",
    "ax.legend([\"XCS\",\"XNCS\"])"
   ]
  },
  {
   "cell_type": "code",
   "execution_count": 22,
   "metadata": {},
   "outputs": [
    {
     "data": {
      "text/plain": [
       "<matplotlib.legend.Legend at 0x217dd07fe88>"
      ]
     },
     "execution_count": 22,
     "metadata": {},
     "output_type": "execute_result"
    },
    {
     "data": {
      "image/png": "[encoded data removed]",
      "text/plain": [
       "<Figure size 432x288 with 1 Axes>"
      ]
     },
     "metadata": {
      "needs_background": "light"
     },
     "output_type": "display_data"
    }
   ],
   "source": [
    "ax = df[['numerosity', 'numerosity_other']].plot()\n",
    "ax.set_xlabel(\"trial\")\n",
    "ax.set_ylabel(\"numerosity\")\n",
    "ax.legend([\"numerosity\", \"number of rules\"])"
   ]
  },
  {
   "cell_type": "code",
   "execution_count": 23,
   "metadata": {},
   "outputs": [
    {
     "data": {
      "text/plain": [
       "<matplotlib.legend.Legend at 0x217dd0fef08>"
      ]
     },
     "execution_count": 23,
     "metadata": {},
     "output_type": "execute_result"
    },
    {
     "data": {
      "image/png": "[encoded data removed]",
      "text/plain": [
       "<Figure size 432x288 with 1 Axes>"
      ]
     },
     "metadata": {
      "needs_background": "light"
     },
     "output_type": "display_data"
    }
   ],
   "source": [
    "ax = df[['population', \"population_other\"]].plot()\n",
    "ax.set_xlabel(\"trial\")\n",
    "ax.set_ylabel(\"population\")\n",
    "ax.legend([\"XCS\",\"XNCS\"])"
   ]
  },
  {
   "cell_type": "code",
   "execution_count": 24,
   "metadata": {},
   "outputs": [
    {
     "data": {
      "text/plain": [
       "<matplotlib.legend.Legend at 0x217dd17f208>"
      ]
     },
     "execution_count": 24,
     "metadata": {},
     "output_type": "execute_result"
    },
    {
     "data": {
      "image/png": "[encoded data removed]",
      "text/plain": [
       "<Figure size 432x288 with 1 Axes>"
      ]
     },
     "metadata": {
      "needs_background": "light"
     },
     "output_type": "display_data"
    }
   ],
   "source": [
    "ax = df[['steps_in_trial', 'steps_in_trial_other']].plot()\n",
    "ax.set_xlabel(\"trial\")\n",
    "ax.set_ylabel(\"steps in trial\")\n",
    "ax.legend([\"XCS\",\"XNCS\"])"
   ]
  }
 ],
 "metadata": {
  "kernelspec": {
   "display_name": "Python 3",
   "language": "python",
   "name": "python3"
  },
  "language_info": {
   "codemirror_mode": {
    "name": "ipython",
    "version": 3
   },
   "file_extension": ".py",
   "mimetype": "text/x-python",
   "name": "python",
   "nbconvert_exporter": "python",
   "pygments_lexer": "ipython3",
   "version": "3.7.10"
  }
 },
 "nbformat": 4,
 "nbformat_minor": 1
}
