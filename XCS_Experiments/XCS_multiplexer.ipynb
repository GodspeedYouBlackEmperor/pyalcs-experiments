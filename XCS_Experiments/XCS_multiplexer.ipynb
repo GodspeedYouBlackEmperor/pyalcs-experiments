{
 "cells": [
  {
   "cell_type": "markdown",
   "metadata": {},
   "source": [
    "# XCS in Multiplexer"
   ]
  },
  {
   "cell_type": "code",
   "execution_count": 1,
   "metadata": {},
   "outputs": [],
   "source": [
    "import logging\n",
    "logging.basicConfig(level=logging.INFO)\n",
    "logger = logging.getLogger(__name__)\n",
    "\n",
    "# import pandas as pd\n",
    "# import numpy as np\n",
    "# import matplotlib.pyplot as plt\n",
    "\n",
    "import gym\n",
    "import gym_multiplexer  \n",
    "\n",
    "from lcs.agents import EnvironmentAdapter\n",
    "from lcs.agents.xcs import XCS, Configuration"
   ]
  },
  {
   "cell_type": "markdown",
   "metadata": {},
   "source": [
    "# Environment"
   ]
  },
  {
   "cell_type": "code",
   "execution_count": 2,
   "metadata": {},
   "outputs": [],
   "source": [
    "mpx = gym.make('boolean-multiplexer-6bit-v0')"
   ]
  },
  {
   "cell_type": "markdown",
   "metadata": {},
   "source": [
    "Example of return value"
   ]
  },
  {
   "cell_type": "code",
   "execution_count": 3,
   "metadata": {},
   "outputs": [
    {
     "data": {
      "text/plain": [
       "[0.0, 1.0, 0.0, 0.0, 0.0, 0.0, 0.0]"
      ]
     },
     "execution_count": 3,
     "metadata": {},
     "output_type": "execute_result"
    }
   ],
   "source": [
    "mpx.reset()"
   ]
  },
  {
   "cell_type": "markdown",
   "metadata": {},
   "source": [
    "The last bit is changed after executing an action. It if was valid it's set to `1`, otherwise `0`. This behavior is not needed for the XCS, therefore signal can becompacted"
   ]
  },
  {
   "cell_type": "markdown",
   "metadata": {},
   "source": [
    "## Agent"
   ]
  },
  {
   "cell_type": "code",
   "execution_count": 20,
   "metadata": {
    "scrolled": true
   },
   "outputs": [],
   "source": [
    "class MultiplexerAdapter(EnvironmentAdapter):\n",
    "    @classmethod\n",
    "    def to_genotype(cls, env_state):\n",
    "        return list(map(str, map(int, env_state[:-1])))  # skip last bit\n",
    "\n",
    "def mpx_metrics(xcs: XCS, environment):\n",
    "    return {\n",
    "        'population': len(xcs.population),\n",
    "        'numerosity': sum(cl.numerosity for cl in xcs.population)\n",
    "    }\n",
    "    \n",
    "cfg = Configuration(number_of_actions=2,\n",
    "                    max_population=1000,\n",
    "                    gamma=0.9,\n",
    "                    metrics_trial_frequency=100,\n",
    "                    environment_adapter=MultiplexerAdapter(),\n",
    "                    user_metrics_collector_fcn=mpx_metrics)\n",
    "\n",
    "agent = XCS(cfg)"
   ]
  },
  {
   "cell_type": "markdown",
   "metadata": {},
   "source": [
    "## Experiments"
   ]
  },
  {
   "cell_type": "code",
   "execution_count": 24,
   "metadata": {},
   "outputs": [
    {
     "name": "stderr",
     "output_type": "stream",
     "text": [
      "INFO:lcs.agents.Agent:{'trial': 0, 'steps_in_trial': 1, 'reward': [570.5508815523286, 530.0908629315612], 'perf_time': 0.0009067079954547808, 'population': 15, 'numerosity': 372}\n",
      "INFO:lcs.agents.Agent:{'trial': 1000, 'steps_in_trial': 1, 'reward': [517.6587436649028, 369.43516701389626], 'perf_time': 0.00020945801225025207, 'population': 22, 'numerosity': 833}\n",
      "INFO:lcs.agents.Agent:{'trial': 2000, 'steps_in_trial': 1, 'reward': [554.7412290238851, 364.03865588843746], 'perf_time': 0.0002216589928139001, 'population': 28, 'numerosity': 1000}\n",
      "INFO:lcs.agents.Agent:{'trial': 3000, 'steps_in_trial': 1, 'reward': [563.2684490900601, 580.2952947713835], 'perf_time': 0.00021999901218805462, 'population': 31, 'numerosity': 1000}\n",
      "INFO:lcs.agents.Agent:{'trial': 4000, 'steps_in_trial': 1, 'reward': [679.0461013929137, 443.2434086252577], 'perf_time': 0.00022068100224714726, 'population': 32, 'numerosity': 1000}\n",
      "INFO:lcs.agents.Agent:{'trial': 5000, 'steps_in_trial': 1, 'reward': [652.4201243655311, 372.368657015231], 'perf_time': 0.00020892500469926745, 'population': 30, 'numerosity': 1000}\n",
      "INFO:lcs.agents.Agent:{'trial': 6000, 'steps_in_trial': 1, 'reward': [340.3967433715899, 213.5879698145288], 'perf_time': 0.00021586401271633804, 'population': 30, 'numerosity': 1000}\n",
      "INFO:lcs.agents.Agent:{'trial': 7000, 'steps_in_trial': 1, 'reward': [619.0533085256677, 577.8538634747493], 'perf_time': 0.00046395001118071377, 'population': 35, 'numerosity': 1000}\n",
      "INFO:lcs.agents.Agent:{'trial': 8000, 'steps_in_trial': 1, 'reward': [255.10991554049463, 443.8515888568786], 'perf_time': 0.0005984580056974664, 'population': 35, 'numerosity': 1000}\n",
      "INFO:lcs.agents.Agent:{'trial': 9000, 'steps_in_trial': 1, 'reward': [688.5152682593864, 538.1776283400435], 'perf_time': 0.00039033699431456625, 'population': 35, 'numerosity': 1000}\n"
     ]
    },
    {
     "name": "stdout",
     "output_type": "stream",
     "text": [
      "CPU times: user 3.06 s, sys: 0 ns, total: 3.06 s\n",
      "Wall time: 3.05 s\n"
     ]
    }
   ],
   "source": [
    "%%time\n",
    "explore_population, explore_metrics = agent.explore(mpx, 10_000, decay=False)"
   ]
  },
  {
   "cell_type": "code",
   "execution_count": 26,
   "metadata": {},
   "outputs": [
    {
     "name": "stdout",
     "output_type": "stream",
     "text": [
      "Explore population count: 33\n",
      "\n",
      "Top 15 classifiers:\n",
      "###00#\t0\n",
      "0#01##\t0\n",
      "#00#10\t1\n",
      "1#####\t0\n",
      "01#00#\t1\n",
      "000##1\t1\n",
      "#1##1#\t0\n",
      "#1####\t0\n",
      "#1##1#\t1\n",
      "10#11#\t0\n",
      "#1##1#\t0\n",
      "11####\t1\n",
      "#11101\t1\n",
      "#1##1#\t1\n",
      "111###\t1\n",
      "###001\t1\n",
      "####0#\t0\n",
      "####0#\t1\n"
     ]
    }
   ],
   "source": [
    "print(f'Explore population count: {len(explore_population)}\\n')\n",
    "\n",
    "print('Top 15 classifiers:')\n",
    "for cl in sorted(explore_population, key=lambda cl: -cl.fitness)[15:]:\n",
    "    print(f'{cl.condition}\\t{cl.action}')"
   ]
  },
  {
   "cell_type": "markdown",
   "metadata": {},
   "source": [
    "See if there are some duplicate classifiers."
   ]
  },
  {
   "cell_type": "code",
   "execution_count": 40,
   "metadata": {},
   "outputs": [
    {
     "data": {
      "text/plain": [
       "31"
      ]
     },
     "execution_count": 40,
     "metadata": {},
     "output_type": "execute_result"
    }
   ],
   "source": [
    "rules = [(cl.condition, cl.action) for cl in explore_population]\n",
    "len(set(rules))"
   ]
  },
  {
   "cell_type": "markdown",
   "metadata": {},
   "source": [
    "There are duplicate classifiers found."
   ]
  }
 ],
 "metadata": {
  "kernelspec": {
   "display_name": "Python 3",
   "language": "python",
   "name": "python3"
  },
  "language_info": {
   "codemirror_mode": {
    "name": "ipython",
    "version": 3
   },
   "file_extension": ".py",
   "mimetype": "text/x-python",
   "name": "python",
   "nbconvert_exporter": "python",
   "pygments_lexer": "ipython3",
   "version": "3.7.10"
  }
 },
 "nbformat": 4,
 "nbformat_minor": 4
}
