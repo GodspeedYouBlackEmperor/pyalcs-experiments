{
 "cells": [
  {
   "cell_type": "markdown",
   "metadata": {},
   "source": [
    "# XCS in Multiplexer"
   ]
  },
  {
   "cell_type": "code",
   "execution_count": 1,
   "metadata": {},
   "outputs": [],
   "source": [
    "# import logging\n",
    "# logging.basicConfig(level=logging.INFO)\n",
    "# logger = logging.getLogger(__name__)\n",
    "\n",
    "# import pandas as pd\n",
    "# import numpy as np\n",
    "# import matplotlib.pyplot as plt\n",
    "\n",
    "import gym\n",
    "import gym_multiplexer  \n",
    "\n",
    "from lcs.agents import EnvironmentAdapter\n",
    "from lcs.agents.xcs import XCS, Configuration"
   ]
  },
  {
   "cell_type": "markdown",
   "metadata": {},
   "source": [
    "# Environment"
   ]
  },
  {
   "cell_type": "code",
   "execution_count": 2,
   "metadata": {},
   "outputs": [],
   "source": [
    "mpx = gym.make('boolean-multiplexer-6bit-v0')"
   ]
  },
  {
   "cell_type": "markdown",
   "metadata": {},
   "source": [
    "Example of return value"
   ]
  },
  {
   "cell_type": "code",
   "execution_count": 3,
   "metadata": {},
   "outputs": [],
   "source": [
    "state = mpx.reset()"
   ]
  },
  {
   "cell_type": "markdown",
   "metadata": {},
   "source": [
    "The last bit is changed after executing an action. It if was valid it's set to `1`, otherwise `0`. This behavior is not needed for the XCS, therefore signal can becompacted"
   ]
  },
  {
   "cell_type": "markdown",
   "metadata": {},
   "source": [
    "## Agent"
   ]
  },
  {
   "cell_type": "code",
   "execution_count": 4,
   "metadata": {
    "scrolled": true
   },
   "outputs": [],
   "source": [
    "class MultiplexerAdapter(EnvironmentAdapter):\n",
    "    @classmethod\n",
    "    def to_genotype(cls, env_state):\n",
    "        return list(map(str, map(int, env_state[:-1])))  # skip last bit\n",
    "\n",
    "def mpx_metrics(xcs: XCS, environment):\n",
    "    return {\n",
    "        'population': len(xcs.population),\n",
    "        'numerosity': sum(cl.numerosity for cl in xcs.population)\n",
    "    }\n",
    "    \n",
    "cfg = Configuration(number_of_actions=2,\n",
    "                    max_population=1000,\n",
    "                    gamma=0.9,\n",
    "                    # ga_threshold = 9999999999999999,\n",
    "                    # covering_wildcard_chance=1,\n",
    "                    metrics_trial_frequency=100,\n",
    "                    # mutation_chance=0,\n",
    "                    environment_adapter=MultiplexerAdapter(),\n",
    "                    user_metrics_collector_fcn=mpx_metrics)\n",
    "\n",
    "agent = XCS(cfg)"
   ]
  },
  {
   "cell_type": "markdown",
   "metadata": {},
   "source": [
    "## Experiments"
   ]
  },
  {
   "cell_type": "code",
   "execution_count": 5,
   "metadata": {},
   "outputs": [
    {
     "name": "stdout",
     "output_type": "stream",
     "text": [
      "Wall time: 3.98 s\n"
     ]
    }
   ],
   "source": [
    "%%time\n",
    "explore_population, explore_metrics = agent.explore(mpx, 10_000, decay=False)"
   ]
  },
  {
   "cell_type": "code",
   "execution_count": 6,
   "metadata": {
    "scrolled": true
   },
   "outputs": [
    {
     "name": "stdout",
     "output_type": "stream",
     "text": [
      "Explore population count: 40\n",
      "\n",
      "Top 15 classifiers:\n",
      "#01110\t1\n",
      "#01111\t0\n",
      "#####0\t0\n",
      "#011#0\t1\n",
      "##0001\t1\n",
      "0##011\t0\n",
      "#1#10#\t0\n",
      "###1##\t0\n",
      "1#00#1\t0\n",
      "###11#\t0\n",
      "0###10\t1\n",
      "11##01\t0\n",
      "0##011\t1\n",
      "1#00#1\t1\n",
      "000#0#\t0\n",
      "#10#1#\t1\n",
      "######\t0\n",
      "#11#10\t1\n",
      "0###10\t0\n",
      "1#00#0\t1\n",
      "00#0##\t0\n",
      "#0##10\t1\n",
      "01###1\t0\n",
      "##01##\t0\n",
      "#0#1##\t1\n"
     ]
    }
   ],
   "source": [
    "print(f'Explore population count: {len(explore_population)}\\n')\n",
    "\n",
    "print('Top 15 classifiers:')\n",
    "for cl in sorted(explore_population, key=lambda cl: -cl.fitness)[15:]:\n",
    "    print(f'{cl.condition}\\t{cl.action}')"
   ]
  },
  {
   "cell_type": "markdown",
   "metadata": {},
   "source": [
    "See if there are some duplicate classifiers."
   ]
  },
  {
   "cell_type": "code",
   "execution_count": 7,
   "metadata": {},
   "outputs": [
    {
     "data": {
      "text/plain": [
       "40"
      ]
     },
     "execution_count": 7,
     "metadata": {},
     "output_type": "execute_result"
    }
   ],
   "source": [
    "rules = [(cl.condition, cl.action) for cl in explore_population]\n",
    "len(set(rules))"
   ]
  },
  {
   "cell_type": "markdown",
   "metadata": {},
   "source": [
    "There are duplicate classifiers found."
   ]
  },
  {
   "cell_type": "code",
   "execution_count": 8,
   "metadata": {
    "scrolled": false
   },
   "outputs": [],
   "source": [
    "for rule in explore_population:\n",
    "    for second_rule in explore_population:\n",
    "        if rule.condition == second_rule.condition and rule.action == second_rule.action and id(rule) != id(second_rule):\n",
    "            print(\"Duplicate Classifier found:\")\n",
    "            print(rule)\n",
    "            print(second_rule)"
   ]
  },
  {
   "cell_type": "code",
   "execution_count": 9,
   "metadata": {
    "scrolled": true
   },
   "outputs": [
    {
     "name": "stdout",
     "output_type": "stream",
     "text": [
      "Cond:01###1 - Act:0 - Num:2 [fit: 0.000, exp: 198.00, pred: 521.742]\n",
      "Cond:#01111 - Act:0 - Num:27 [fit: 0.000, exp: 111.00, pred: 476.774]\n",
      "Cond:00#0## - Act:0 - Num:6 [fit: 0.000, exp: 208.00, pred: 521.456]\n",
      "Cond:1#00#0 - Act:1 - Num:11 [fit: 0.000, exp: 165.00, pred: 521.855]\n",
      "Cond:0###10 - Act:0 - Num:11 [fit: 0.000, exp: 173.00, pred: 485.328]\n",
      "Cond:0###10 - Act:1 - Num:35 [fit: 0.000, exp: 148.00, pred: 453.594]\n",
      "Cond:1#00#1 - Act:1 - Num:24 [fit: 0.000, exp: 175.00, pred: 530.429]\n",
      "Cond:0#1#11 - Act:1 - Num:55 [fit: 0.000, exp: 119.00, pred: 503.860]\n",
      "Cond:#011#0 - Act:1 - Num:21 [fit: 0.000, exp: 102.00, pred: 574.861]\n",
      "Cond:#11#10 - Act:1 - Num:19 [fit: 0.000, exp: 187.00, pred: 501.388]\n",
      "Cond:1#00#1 - Act:0 - Num:32 [fit: 0.000, exp: 152.00, pred: 412.653]\n",
      "Cond:#11111 - Act:0 - Num:38 [fit: 0.000, exp: 84.00, pred: 520.065]\n",
      "Cond:0##011 - Act:0 - Num:60 [fit: 0.000, exp: 157.00, pred: 528.572]\n",
      "Cond:0##011 - Act:1 - Num:32 [fit: 0.000, exp: 158.00, pred: 483.638]\n",
      "Cond:11##01 - Act:0 - Num:29 [fit: 0.000, exp: 160.00, pred: 417.714]\n",
      "Cond:000#0# - Act:0 - Num:35 [fit: 0.000, exp: 189.00, pred: 549.371]\n",
      "Cond:#0##10 - Act:1 - Num:3 [fit: 0.000, exp: 193.00, pred: 499.302]\n",
      "Cond:#01110 - Act:1 - Num:31 [fit: 0.000, exp: 101.00, pred: 584.680]\n",
      "Cond:#0#1## - Act:1 - Num:1 [fit: 0.000, exp: 225.00, pred: 448.306]\n",
      "Cond:##0001 - Act:1 - Num:61 [fit: 0.000, exp: 117.00, pred: 520.513]\n",
      "Cond:#11111 - Act:1 - Num:33 [fit: 0.000, exp: 45.00, pred: 584.617]\n",
      "Cond:##01## - Act:0 - Num:4 [fit: 0.000, exp: 211.00, pred: 417.614]\n",
      "Cond:1#00#0 - Act:0 - Num:13 [fit: 0.000, exp: 44.00, pred: 530.567]\n",
      "Cond:###11# - Act:0 - Num:42 [fit: 0.000, exp: 139.00, pred: 398.852]\n",
      "Cond:#10#1# - Act:1 - Num:39 [fit: 0.000, exp: 190.00, pred: 459.080]\n",
      "Cond:#1#10# - Act:0 - Num:39 [fit: 0.000, exp: 136.00, pred: 451.514]\n",
      "Cond:#####0 - Act:0 - Num:30 [fit: 0.000, exp: 143.00, pred: 425.275]\n",
      "Cond:##0001 - Act:0 - Num:20 [fit: 0.000, exp: 37.00, pred: 467.753]\n",
      "Cond:#11#1# - Act:0 - Num:53 [fit: 0.000, exp: 89.00, pred: 482.093]\n",
      "Cond:###1## - Act:0 - Num:31 [fit: 0.000, exp: 131.00, pred: 376.467]\n",
      "Cond:#1#0#1 - Act:0 - Num:46 [fit: 0.000, exp: 85.00, pred: 424.991]\n",
      "Cond:#10#1# - Act:0 - Num:15 [fit: 0.000, exp: 77.00, pred: 488.714]\n",
      "Cond:#01#00 - Act:1 - Num:8 [fit: 0.007, exp: 16.00, pred: 447.688]\n",
      "Cond:#1#### - Act:1 - Num:10 [fit: 0.000, exp: 76.00, pred: 442.122]\n",
      "Cond:###### - Act:0 - Num:28 [fit: 0.000, exp: 158.00, pred: 354.008]\n",
      "Cond:#1#0#1 - Act:1 - Num:19 [fit: 0.000, exp: 35.00, pred: 423.557]\n",
      "Cond:10###1 - Act:1 - Num:7 [fit: 0.019, exp: 10.00, pred: 468.895]\n",
      "Cond:0#1### - Act:1 - Num:11 [fit: 0.003, exp: 12.00, pred: 461.700]\n",
      "Cond:###### - Act:1 - Num:18 [fit: 0.000, exp: 51.00, pred: 423.200]\n",
      "Cond:#01#00 - Act:0 - Num:1 [fit: 0.001, exp: 8.00, pred: 522.568]\n"
     ]
    }
   ],
   "source": [
    "for rule in explore_population:\n",
    "    print(rule)"
   ]
  },
  {
   "cell_type": "code",
   "execution_count": 10,
   "metadata": {},
   "outputs": [
    {
     "name": "stdout",
     "output_type": "stream",
     "text": [
      "Experiment 0: No duplicates\n",
      "Experiment 1: Duplicate found: 44, 42\n",
      "Experiment 2: No duplicates\n",
      "Experiment 3: Duplicate found: 36, 35\n",
      "Experiment 4: No duplicates\n",
      "Experiment 5: Duplicate found: 39, 37\n",
      "Experiment 6: Duplicate found: 46, 45\n",
      "Experiment 7: No duplicates\n",
      "Experiment 8: Duplicate found: 38, 37\n",
      "Experiment 9: No duplicates\n",
      "Experiment 10: No duplicates\n",
      "Experiment 11: Duplicate found: 36, 35\n",
      "Experiment 12: Duplicate found: 34, 33\n",
      "Experiment 13: Duplicate found: 47, 45\n",
      "Experiment 14: Duplicate found: 31, 30\n",
      "Experiment 15: No duplicates\n",
      "Experiment 16: Duplicate found: 31, 30\n",
      "Experiment 17: No duplicates\n",
      "Experiment 18: No duplicates\n",
      "Experiment 19: Duplicate found: 44, 43\n",
      "Experiment 20: No duplicates\n",
      "Experiment 21: Duplicate found: 38, 37\n",
      "Experiment 22: No duplicates\n",
      "Experiment 23: No duplicates\n",
      "Experiment 24: No duplicates\n",
      "Experiment 25: Duplicate found: 48, 46\n",
      "Experiment 26: No duplicates\n",
      "Experiment 27: No duplicates\n",
      "Experiment 28: Duplicate found: 42, 40\n",
      "Experiment 29: Duplicate found: 37, 36\n",
      "Experiment 30: No duplicates\n",
      "Experiment 31: Duplicate found: 37, 36\n",
      "Experiment 32: Duplicate found: 55, 52\n",
      "Experiment 33: Duplicate found: 45, 44\n",
      "Experiment 34: Duplicate found: 43, 41\n",
      "Experiment 35: No duplicates\n",
      "Experiment 36: Duplicate found: 38, 36\n",
      "Experiment 37: Duplicate found: 46, 45\n",
      "Experiment 38: Duplicate found: 38, 37\n",
      "Experiment 39: No duplicates\n",
      "Experiment 40: No duplicates\n",
      "Experiment 41: Duplicate found: 44, 43\n",
      "Experiment 42: No duplicates\n",
      "Experiment 43: Duplicate found: 42, 41\n",
      "Experiment 44: Duplicate found: 36, 35\n",
      "Experiment 45: No duplicates\n",
      "Experiment 46: Duplicate found: 31, 30\n",
      "Experiment 47: No duplicates\n",
      "Experiment 48: Duplicate found: 38, 36\n",
      "Experiment 49: Duplicate found: 45, 44\n",
      "Experiment 50: Duplicate found: 45, 43\n",
      "Experiment 51: Duplicate found: 40, 39\n",
      "Experiment 52: No duplicates\n",
      "Experiment 53: No duplicates\n",
      "Experiment 54: Duplicate found: 43, 41\n",
      "Experiment 55: Duplicate found: 30, 29\n",
      "Experiment 56: Duplicate found: 34, 33\n",
      "Experiment 57: No duplicates\n",
      "Experiment 58: Duplicate found: 45, 44\n",
      "Experiment 59: No duplicates\n",
      "Experiment 60: Duplicate found: 43, 42\n",
      "Experiment 61: No duplicates\n",
      "Experiment 62: Duplicate found: 39, 37\n",
      "Experiment 63: No duplicates\n",
      "Experiment 64: No duplicates\n",
      "Experiment 65: Duplicate found: 42, 41\n",
      "Experiment 66: No duplicates\n",
      "Experiment 67: No duplicates\n",
      "Experiment 68: Duplicate found: 39, 38\n",
      "Experiment 69: No duplicates\n",
      "Experiment 70: Duplicate found: 43, 42\n",
      "Experiment 71: Duplicate found: 41, 40\n",
      "Experiment 72: Duplicate found: 36, 35\n",
      "Experiment 73: Duplicate found: 40, 39\n",
      "Experiment 74: No duplicates\n",
      "Experiment 75: No duplicates\n",
      "Experiment 76: Duplicate found: 43, 42\n",
      "Experiment 77: No duplicates\n",
      "Experiment 78: No duplicates\n",
      "Experiment 79: Duplicate found: 38, 37\n",
      "Experiment 80: Duplicate found: 43, 42\n",
      "Experiment 81: Duplicate found: 37, 35\n",
      "Experiment 82: Duplicate found: 40, 39\n",
      "Experiment 83: No duplicates\n",
      "Experiment 84: No duplicates\n",
      "Experiment 85: Duplicate found: 37, 36\n",
      "Experiment 86: Duplicate found: 30, 29\n",
      "Experiment 87: No duplicates\n",
      "Experiment 88: No duplicates\n",
      "Experiment 89: Duplicate found: 41, 40\n",
      "Experiment 90: No duplicates\n",
      "Experiment 91: Duplicate found: 35, 34\n",
      "Experiment 92: No duplicates\n",
      "Experiment 93: No duplicates\n",
      "Experiment 94: No duplicates\n",
      "Experiment 95: No duplicates\n",
      "Experiment 96: No duplicates\n",
      "Experiment 97: No duplicates\n",
      "Experiment 98: No duplicates\n",
      "Experiment 99: No duplicates\n",
      "0.51\n"
     ]
    }
   ],
   "source": [
    "detected_duplicates = 0\n",
    "for i in range(100):\n",
    "    agent = XCS(cfg)\n",
    "    explore_population, explore_metrics = agent.explore(mpx, 10_000, decay=False)\n",
    "    rules = [(cl.condition, cl.action) for cl in explore_population]\n",
    "    if len(explore_population) > len(set(rules)):\n",
    "        print(f\"Experiment {i}: Duplicate found: {len(explore_population)}, {len(set(rules))}\")\n",
    "        detected_duplicates += 1\n",
    "    else:\n",
    "        print(f\"Experiment {i}: No duplicates\")\n",
    "print(f\"{detected_duplicates / 100}\")"
   ]
  },
  {
   "cell_type": "code",
   "execution_count": null,
   "metadata": {},
   "outputs": [],
   "source": []
  }
 ],
 "metadata": {
  "kernelspec": {
   "display_name": "Python 3",
   "language": "python",
   "name": "python3"
  },
  "language_info": {
   "codemirror_mode": {
    "name": "ipython",
    "version": 3
   },
   "file_extension": ".py",
   "mimetype": "text/x-python",
   "name": "python",
   "nbconvert_exporter": "python",
   "pygments_lexer": "ipython3",
   "version": "3.7.10"
  }
 },
 "nbformat": 4,
 "nbformat_minor": 4
}
