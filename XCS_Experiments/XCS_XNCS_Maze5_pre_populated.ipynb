{
 "cells": [
  {
   "cell_type": "code",
   "execution_count": 24,
   "metadata": {},
   "outputs": [],
   "source": [
    "# logging \n",
    "import logging\n",
    "logging.basicConfig(level=logging.INFO)\n",
    "logger = logging.getLogger(__name__)\n"
   ]
  },
  {
   "cell_type": "code",
   "execution_count": 25,
   "metadata": {},
   "outputs": [
    {
     "name": "stdout",
     "output_type": "stream",
     "text": [
      "This is how maze looks like\n",
      "<class 'tuple'>\n",
      "('0', '1', '1', '0', '0', '1', '1', '1')\n",
      "\n",
      "\u001b[30m■\u001b[0m \u001b[30m■\u001b[0m \u001b[30m■\u001b[0m \u001b[30m■\u001b[0m \u001b[30m■\u001b[0m \u001b[30m■\u001b[0m \u001b[30m■\u001b[0m \u001b[30m■\u001b[0m \u001b[30m■\u001b[0m\n",
      "\u001b[30m■\u001b[0m \u001b[37m□\u001b[0m \u001b[37m□\u001b[0m \u001b[37m□\u001b[0m \u001b[37m□\u001b[0m \u001b[37m□\u001b[0m \u001b[37m□\u001b[0m \u001b[33m$\u001b[0m \u001b[30m■\u001b[0m\n",
      "\u001b[30m■\u001b[0m \u001b[37m□\u001b[0m \u001b[37m□\u001b[0m \u001b[30m■\u001b[0m \u001b[37m□\u001b[0m \u001b[30m■\u001b[0m \u001b[30m■\u001b[0m \u001b[37m□\u001b[0m \u001b[30m■\u001b[0m\n",
      "\u001b[30m■\u001b[0m \u001b[37m□\u001b[0m \u001b[30m■\u001b[0m \u001b[37m□\u001b[0m \u001b[37m□\u001b[0m \u001b[37m□\u001b[0m \u001b[37m□\u001b[0m \u001b[37m□\u001b[0m \u001b[30m■\u001b[0m\n",
      "\u001b[30m■\u001b[0m \u001b[37m□\u001b[0m \u001b[37m□\u001b[0m \u001b[37m□\u001b[0m \u001b[30m■\u001b[0m \u001b[30m■\u001b[0m \u001b[37m□\u001b[0m \u001b[37m□\u001b[0m \u001b[30m■\u001b[0m\n",
      "\u001b[30m■\u001b[0m \u001b[37m□\u001b[0m \u001b[30m■\u001b[0m \u001b[37m□\u001b[0m \u001b[30m■\u001b[0m \u001b[37m□\u001b[0m \u001b[37m□\u001b[0m \u001b[30m■\u001b[0m \u001b[30m■\u001b[0m\n",
      "\u001b[30m■\u001b[0m \u001b[31mA\u001b[0m \u001b[30m■\u001b[0m \u001b[37m□\u001b[0m \u001b[37m□\u001b[0m \u001b[30m■\u001b[0m \u001b[37m□\u001b[0m \u001b[37m□\u001b[0m \u001b[30m■\u001b[0m\n",
      "\u001b[30m■\u001b[0m \u001b[37m□\u001b[0m \u001b[37m□\u001b[0m \u001b[37m□\u001b[0m \u001b[37m□\u001b[0m \u001b[37m□\u001b[0m \u001b[30m■\u001b[0m \u001b[37m□\u001b[0m \u001b[30m■\u001b[0m\n",
      "\u001b[30m■\u001b[0m \u001b[30m■\u001b[0m \u001b[30m■\u001b[0m \u001b[30m■\u001b[0m \u001b[30m■\u001b[0m \u001b[30m■\u001b[0m \u001b[30m■\u001b[0m \u001b[30m■\u001b[0m \u001b[30m■\u001b[0m\n"
     ]
    }
   ],
   "source": [
    "# environment setup\n",
    "import gym\n",
    "# noinspection PyUnresolvedReferences\n",
    "import gym_maze\n",
    "\n",
    "maze = gym.make('Maze5-v0')\n",
    "print(\"This is how maze looks like\")\n",
    "situation = maze.reset()\n",
    "print(type(situation))\n",
    "print(situation)\n",
    "maze.render()\n"
   ]
  },
  {
   "cell_type": "code",
   "execution_count": 26,
   "metadata": {},
   "outputs": [],
   "source": [
    "from lcs.agents.xcs import XCS\n",
    "from lcs.agents.xcs import Configuration as XCSConfig\n",
    "from lcs.agents.xncs import XNCS\n",
    "from lcs.agents.xncs import Configuration as XNCSConfig\n",
    "\n",
    "from utils.xcs_utils import xcs_metrics\n",
    "from utils.nxcs_utils import xncs_metrics\n",
    "\n",
    "XCScfg = XCSConfig(number_of_actions=8,\n",
    "                    max_population=1600,\n",
    "                    learning_rate=0.2,\n",
    "                    alpha=0.1,\n",
    "                    gamma=0.71,\n",
    "                    mutation_chance=0.01,\n",
    "                    delta=0.1,\n",
    "                    ga_threshold=25,\n",
    "                    covering_wildcard_chance = 0.7,\n",
    "                    chi=1,      # crossover\n",
    "                    metrics_trial_frequency=100,\n",
    "                    initial_prediction =10,  # p_i\n",
    "                    initial_error = 0,  # epsilon_i\n",
    "                    initial_fitness = 10,  # f_i\n",
    "                    user_metrics_collector_fcn=xcs_metrics)\n",
    "\n",
    "XNCScfg = XNCSConfig(number_of_actions=8,\n",
    "                    max_population=1600,\n",
    "                    learning_rate=0.2,\n",
    "                    alpha=0.1,\n",
    "                    gamma=0.71,\n",
    "                    mutation_chance=0.01,\n",
    "                    delta=0.1,\n",
    "                    ga_threshold=25,\n",
    "                    covering_wildcard_chance = 0.7,\n",
    "                    chi=1,      # crossover\n",
    "                    metrics_trial_frequency=100,\n",
    "                    initial_prediction =10,  # p_i\n",
    "                    initial_error = 0.1,  # epsilon_i\n",
    "                    initial_fitness = 10,  # f_i\n",
    "                    user_metrics_collector_fcn=xncs_metrics,\n",
    "                    lmc=10,\n",
    "                    lem=100)\n"
   ]
  },
  {
   "cell_type": "code",
   "execution_count": 27,
   "metadata": {
    "scrolled": false
   },
   "outputs": [
    {
     "name": "stdout",
     "output_type": "stream",
     "text": [
      "Executing 0 experiment\n"
     ]
    },
    {
     "name": "stderr",
     "output_type": "stream",
     "text": [
      "INFO:lcs.agents.Agent:{'trial': 0, 'steps_in_trial': 100, 'reward': 0.0, 'perf_time': 1.2148428000000422, 'population': 1493, 'numerosity': 1600, 'average_specificity': 8.454375}\n",
      "INFO:lcs.agents.Agent:{'trial': 200, 'steps_in_trial': 53, 'reward': 1000.0000134443242, 'perf_time': 0.3629083999994691, 'population': 1025, 'numerosity': 1600, 'average_specificity': 6.698125}\n",
      "INFO:lcs.agents.Agent:{'trial': 500, 'steps_in_trial': 6, 'reward': 1161.424071019343, 'perf_time': 0.025629000000662927, 'population': 877, 'numerosity': 1600, 'average_specificity': 6.15375}\n",
      "INFO:lcs.agents.Agent:{'trial': 700, 'steps_in_trial': 14, 'reward': 1008.272121069557, 'perf_time': 0.10065940000004048, 'population': 865, 'numerosity': 1600, 'average_specificity': 6.2}\n",
      "INFO:lcs.agents.Agent:{'trial': 1000, 'steps_in_trial': 1, 'reward': 1813.439067114496, 'perf_time': 0.00946029999977327, 'population': 776, 'numerosity': 1600, 'average_specificity': 6.3775}\n",
      "INFO:lcs.agents.Agent:{'trial': 1200, 'steps_in_trial': 12, 'reward': 1017.5648480742706, 'perf_time': 0.12227969999912602, 'population': 745, 'numerosity': 1600, 'average_specificity': 6.540625}\n",
      "INFO:lcs.agents.Agent:{'trial': 1500, 'steps_in_trial': 6, 'reward': 1144.8172766171706, 'perf_time': 0.051221300000179326, 'population': 695, 'numerosity': 1600, 'average_specificity': 6.225625}\n",
      "INFO:lcs.agents.Agent:{'trial': 1700, 'steps_in_trial': 6, 'reward': 1161.3243523182825, 'perf_time': 0.02060059999985242, 'population': 703, 'numerosity': 1600, 'average_specificity': 5.999375}\n",
      "INFO:lcs.agents.Agent:{'trial': 2000, 'steps_in_trial': 1, 'reward': 1907.6085990615102, 'perf_time': 0.0035444999994069804, 'population': 627, 'numerosity': 1600, 'average_specificity': 5.635625}\n",
      "INFO:lcs.agents.Agent:{'trial': 2200, 'steps_in_trial': 3, 'reward': 1416.5154669782146, 'perf_time': 0.01350659999934578, 'population': 615, 'numerosity': 1600, 'average_specificity': 5.875}\n"
     ]
    },
    {
     "name": "stdout",
     "output_type": "stream",
     "text": [
      "Executing 1 experiment\n"
     ]
    },
    {
     "name": "stderr",
     "output_type": "stream",
     "text": [
      "INFO:lcs.agents.Agent:{'trial': 0, 'steps_in_trial': 100, 'reward': 0.0, 'perf_time': 1.4196991999997408, 'population': 1478, 'numerosity': 1600, 'average_specificity': 8.558125}\n",
      "INFO:lcs.agents.Agent:{'trial': 200, 'steps_in_trial': 4, 'reward': 1292.5486346773926, 'perf_time': 0.032083199999760836, 'population': 1127, 'numerosity': 1600, 'average_specificity': 6.593125}\n",
      "INFO:lcs.agents.Agent:{'trial': 500, 'steps_in_trial': 5, 'reward': 1254.607130792708, 'perf_time': 0.026006399999459973, 'population': 997, 'numerosity': 1600, 'average_specificity': 5.870625}\n",
      "INFO:lcs.agents.Agent:{'trial': 700, 'steps_in_trial': 2, 'reward': 1528.3204741405737, 'perf_time': 0.017026500000611122, 'population': 984, 'numerosity': 1600, 'average_specificity': 5.885}\n",
      "INFO:lcs.agents.Agent:{'trial': 1000, 'steps_in_trial': 3, 'reward': 1357.911, 'perf_time': 0.021292800000082934, 'population': 856, 'numerosity': 1600, 'average_specificity': 6.131875}\n",
      "INFO:lcs.agents.Agent:{'trial': 1200, 'steps_in_trial': 6, 'reward': 1140.0270492609668, 'perf_time': 0.027173800000127812, 'population': 857, 'numerosity': 1600, 'average_specificity': 5.95}\n",
      "INFO:lcs.agents.Agent:{'trial': 1500, 'steps_in_trial': 7, 'reward': 1092.0605962109732, 'perf_time': 0.04879579999942507, 'population': 836, 'numerosity': 1600, 'average_specificity': 6.093125}\n",
      "INFO:lcs.agents.Agent:{'trial': 1700, 'steps_in_trial': 11, 'reward': 1025.0097472637133, 'perf_time': 0.10731860000032611, 'population': 799, 'numerosity': 1600, 'average_specificity': 7.603125}\n",
      "INFO:lcs.agents.Agent:{'trial': 2000, 'steps_in_trial': 10, 'reward': 1033.7784800983545, 'perf_time': 0.06304760000057286, 'population': 776, 'numerosity': 1600, 'average_specificity': 6.7425}\n",
      "INFO:lcs.agents.Agent:{'trial': 2200, 'steps_in_trial': 4, 'reward': 1254.11681, 'perf_time': 0.020683000000644824, 'population': 770, 'numerosity': 1600, 'average_specificity': 5.95875}\n"
     ]
    },
    {
     "name": "stdout",
     "output_type": "stream",
     "text": [
      "Executing 2 experiment\n"
     ]
    },
    {
     "name": "stderr",
     "output_type": "stream",
     "text": [
      "INFO:lcs.agents.Agent:{'trial': 0, 'steps_in_trial': 100, 'reward': 0.0, 'perf_time': 1.3828118000001268, 'population': 1502, 'numerosity': 1600, 'average_specificity': 8.4875}\n",
      "INFO:lcs.agents.Agent:{'trial': 200, 'steps_in_trial': 5, 'reward': 1180.8595489641245, 'perf_time': 0.035847399999511254, 'population': 1076, 'numerosity': 1600, 'average_specificity': 7.193125}\n",
      "INFO:lcs.agents.Agent:{'trial': 500, 'steps_in_trial': 5, 'reward': 1209.4188195668637, 'perf_time': 0.025146299999505572, 'population': 939, 'numerosity': 1600, 'average_specificity': 6.8675}\n",
      "INFO:lcs.agents.Agent:{'trial': 700, 'steps_in_trial': 100, 'reward': 2.385089144282035e-42, 'perf_time': 0.58384340000066, 'population': 847, 'numerosity': 1600, 'average_specificity': 7.4625}\n",
      "INFO:lcs.agents.Agent:{'trial': 1000, 'steps_in_trial': 77, 'reward': 1000.0000000035228, 'perf_time': 0.3360059000006004, 'population': 748, 'numerosity': 1600, 'average_specificity': 5.881875}\n",
      "INFO:lcs.agents.Agent:{'trial': 1200, 'steps_in_trial': 2, 'reward': 1684.5229353167583, 'perf_time': 0.0065743000004658825, 'population': 691, 'numerosity': 1600, 'average_specificity': 5.835625}\n",
      "INFO:lcs.agents.Agent:{'trial': 1500, 'steps_in_trial': 5, 'reward': 1192.9033628283296, 'perf_time': 0.015242000000398548, 'population': 633, 'numerosity': 1600, 'average_specificity': 5.36125}\n",
      "INFO:lcs.agents.Agent:{'trial': 1700, 'steps_in_trial': 3, 'reward': 1000.0000000000005, 'perf_time': 0.021041599999989558, 'population': 637, 'numerosity': 1600, 'average_specificity': 6.37625}\n",
      "INFO:lcs.agents.Agent:{'trial': 2000, 'steps_in_trial': 100, 'reward': 3.186687579353646e-57, 'perf_time': 0.366661899999599, 'population': 605, 'numerosity': 1600, 'average_specificity': 6.52375}\n",
      "INFO:lcs.agents.Agent:{'trial': 2200, 'steps_in_trial': 6, 'reward': 1134.0143797509866, 'perf_time': 0.027040699999815843, 'population': 586, 'numerosity': 1600, 'average_specificity': 6.2925}\n"
     ]
    },
    {
     "name": "stdout",
     "output_type": "stream",
     "text": [
      "Executing 0 experiment\n"
     ]
    },
    {
     "name": "stderr",
     "output_type": "stream",
     "text": [
      "INFO:lcs.agents.Agent:{'trial': 0, 'steps_in_trial': 100, 'reward': 0.0, 'perf_time': 1.5664572000005137, 'numerosity': 1600, 'population': 1508, 'average_specificity': 8.804375, 'fraction_accuracy': 0.0}\n",
      "INFO:lcs.agents.Agent:{'trial': 200, 'steps_in_trial': 71, 'reward': 1000.0000000275006, 'perf_time': 0.6064367999997557, 'numerosity': 1600, 'population': 1116, 'average_specificity': 6.816875, 'fraction_accuracy': 0.0}\n",
      "INFO:lcs.agents.Agent:{'trial': 500, 'steps_in_trial': 7, 'reward': 1109.6747227223457, 'perf_time': 0.05166559999997844, 'numerosity': 1600, 'population': 1032, 'average_specificity': 7.93625, 'fraction_accuracy': 0.0}\n",
      "INFO:lcs.agents.Agent:{'trial': 700, 'steps_in_trial': 10, 'reward': 1037.1559897548739, 'perf_time': 0.10746550000021671, 'numerosity': 1600, 'population': 1023, 'average_specificity': 7.9075, 'fraction_accuracy': 0.0}\n",
      "INFO:lcs.agents.Agent:{'trial': 1000, 'steps_in_trial': 11, 'reward': 1031.8668720420605, 'perf_time': 0.1324824000002991, 'numerosity': 1600, 'population': 1026, 'average_specificity': 7.999375, 'fraction_accuracy': 0.10416666666666667}\n",
      "INFO:lcs.agents.Agent:{'trial': 1200, 'steps_in_trial': 4, 'reward': 1266.5066740714803, 'perf_time': 0.0242102000001978, 'numerosity': 1600, 'population': 1022, 'average_specificity': 8.796875, 'fraction_accuracy': 0.0}\n",
      "INFO:lcs.agents.Agent:{'trial': 1500, 'steps_in_trial': 7, 'reward': 1103.4526512975117, 'perf_time': 0.10364529999969818, 'numerosity': 1600, 'population': 1034, 'average_specificity': 8.871875, 'fraction_accuracy': 0.0}\n",
      "INFO:lcs.agents.Agent:{'trial': 1700, 'steps_in_trial': 8, 'reward': 1097.0904264507344, 'perf_time': 0.08697889999984909, 'numerosity': 1600, 'population': 1043, 'average_specificity': 7.92875, 'fraction_accuracy': 0.0}\n",
      "INFO:lcs.agents.Agent:{'trial': 2000, 'steps_in_trial': 5, 'reward': 1198.6536056303669, 'perf_time': 0.047623700000258395, 'numerosity': 1600, 'population': 1021, 'average_specificity': 8.676875, 'fraction_accuracy': 0.10416666666666667}\n",
      "INFO:lcs.agents.Agent:{'trial': 2200, 'steps_in_trial': 5, 'reward': 1200.254873423201, 'perf_time': 0.05341669999961596, 'numerosity': 1600, 'population': 1038, 'average_specificity': 8.513125, 'fraction_accuracy': 0.10416666666666667}\n"
     ]
    },
    {
     "name": "stdout",
     "output_type": "stream",
     "text": [
      "Executing 1 experiment\n"
     ]
    },
    {
     "name": "stderr",
     "output_type": "stream",
     "text": [
      "INFO:lcs.agents.Agent:{'trial': 0, 'steps_in_trial': 35, 'reward': 1000.0, 'perf_time': 0.42140480000034586, 'numerosity': 1600, 'population': 1523, 'average_specificity': 7.9025, 'fraction_accuracy': 0.0}\n",
      "INFO:lcs.agents.Agent:{'trial': 200, 'steps_in_trial': 100, 'reward': 1.3360874108178938e-12, 'perf_time': 0.8637928000007378, 'numerosity': 1600, 'population': 1201, 'average_specificity': 6.68375, 'fraction_accuracy': 0.0}\n",
      "INFO:lcs.agents.Agent:{'trial': 500, 'steps_in_trial': 3, 'reward': 1489.07121241392, 'perf_time': 0.019969699999819568, 'numerosity': 1600, 'population': 1116, 'average_specificity': 6.84, 'fraction_accuracy': 0.0}\n",
      "INFO:lcs.agents.Agent:{'trial': 700, 'steps_in_trial': 100, 'reward': 1.5882004998496124e-12, 'perf_time': 0.7547134999995251, 'numerosity': 1600, 'population': 1066, 'average_specificity': 6.921875, 'fraction_accuracy': 0.0}\n",
      "INFO:lcs.agents.Agent:{'trial': 1000, 'steps_in_trial': 7, 'reward': 1109.0573771503016, 'perf_time': 0.06943599999976868, 'numerosity': 1600, 'population': 1066, 'average_specificity': 7.27875, 'fraction_accuracy': 0.0}\n",
      "INFO:lcs.agents.Agent:{'trial': 1200, 'steps_in_trial': 3, 'reward': 1375.417965217488, 'perf_time': 0.027861999999913678, 'numerosity': 1600, 'population': 1074, 'average_specificity': 7.584375, 'fraction_accuracy': 0.0}\n",
      "INFO:lcs.agents.Agent:{'trial': 1500, 'steps_in_trial': 16, 'reward': 1004.9559340069416, 'perf_time': 0.1639407000002393, 'numerosity': 1600, 'population': 1107, 'average_specificity': 7.73, 'fraction_accuracy': 0.0}\n",
      "INFO:lcs.agents.Agent:{'trial': 1700, 'steps_in_trial': 1, 'reward': 1710.0, 'perf_time': 0.006781200000659737, 'numerosity': 1600, 'population': 1091, 'average_specificity': 7.743125, 'fraction_accuracy': 0.0}\n",
      "INFO:lcs.agents.Agent:{'trial': 2000, 'steps_in_trial': 6, 'reward': 1130.3479985568601, 'perf_time': 0.05366099999992002, 'numerosity': 1600, 'population': 1098, 'average_specificity': 7.375625, 'fraction_accuracy': 0.0}\n",
      "INFO:lcs.agents.Agent:{'trial': 2200, 'steps_in_trial': 5, 'reward': 1180.4229351, 'perf_time': 0.05167630000050849, 'numerosity': 1600, 'population': 1082, 'average_specificity': 7.2325, 'fraction_accuracy': 0.0}\n"
     ]
    },
    {
     "name": "stdout",
     "output_type": "stream",
     "text": [
      "Executing 2 experiment\n"
     ]
    },
    {
     "name": "stderr",
     "output_type": "stream",
     "text": [
      "INFO:lcs.agents.Agent:{'trial': 0, 'steps_in_trial': 100, 'reward': 0.0, 'perf_time': 1.5107751999994434, 'numerosity': 1600, 'population': 1500, 'average_specificity': 8.0775, 'fraction_accuracy': 0.0}\n",
      "INFO:lcs.agents.Agent:{'trial': 200, 'steps_in_trial': 11, 'reward': 1032.1266125976185, 'perf_time': 0.15163709999978892, 'numerosity': 1600, 'population': 1100, 'average_specificity': 6.326875, 'fraction_accuracy': 0.0}\n",
      "INFO:lcs.agents.Agent:{'trial': 500, 'steps_in_trial': 12, 'reward': 1019.4857135363193, 'perf_time': 0.12459559999933845, 'numerosity': 1600, 'population': 971, 'average_specificity': 6.541875, 'fraction_accuracy': 0.0}\n",
      "INFO:lcs.agents.Agent:{'trial': 700, 'steps_in_trial': 3, 'reward': 1510.6896376499649, 'perf_time': 0.021415600000182167, 'numerosity': 1600, 'population': 989, 'average_specificity': 6.65375, 'fraction_accuracy': 0.0}\n",
      "INFO:lcs.agents.Agent:{'trial': 1000, 'steps_in_trial': 8, 'reward': 1068.940815170528, 'perf_time': 0.08006010000008246, 'numerosity': 1600, 'population': 974, 'average_specificity': 7.843125, 'fraction_accuracy': 0.0}\n",
      "INFO:lcs.agents.Agent:{'trial': 1200, 'steps_in_trial': 7, 'reward': 1090.95120158391, 'perf_time': 0.09305210000002262, 'numerosity': 1600, 'population': 965, 'average_specificity': 7.901875, 'fraction_accuracy': 0.0}\n",
      "INFO:lcs.agents.Agent:{'trial': 1500, 'steps_in_trial': 11, 'reward': 1023.2952084571973, 'perf_time': 0.10027730000001611, 'numerosity': 1600, 'population': 977, 'average_specificity': 7.9225, 'fraction_accuracy': 0.0}\n",
      "INFO:lcs.agents.Agent:{'trial': 1700, 'steps_in_trial': 19, 'reward': 1001.5223601969785, 'perf_time': 0.2427440999999817, 'numerosity': 1600, 'population': 1035, 'average_specificity': 7.559375, 'fraction_accuracy': 0.0}\n",
      "INFO:lcs.agents.Agent:{'trial': 2000, 'steps_in_trial': 1, 'reward': 1913.8090164141504, 'perf_time': 0.006096500000239757, 'numerosity': 1600, 'population': 1023, 'average_specificity': 7.144375, 'fraction_accuracy': 0.0}\n",
      "INFO:lcs.agents.Agent:{'trial': 2200, 'steps_in_trial': 13, 'reward': 1012.0391934624969, 'perf_time': 0.17555749999974068, 'numerosity': 1600, 'population': 1000, 'average_specificity': 7.061875, 'fraction_accuracy': 0.0}\n"
     ]
    }
   ],
   "source": [
    "from utils.xcs_utils import avg_experiment as XCSExp\n",
    "from utils.nxcs_utils import avg_experiment as XNCSExp\n",
    "\n",
    "number_of_experiments = 3\n",
    "explore = 2000\n",
    "exploit = 500\n",
    "\n",
    "df = XCSExp(maze=maze,\n",
    "             cfg=XCScfg,\n",
    "             number_of_tests=number_of_experiments,\n",
    "             explore_trials=0, # explore,\n",
    "             exploit_trials=exploit + explore,\n",
    "             pre_generate=True\n",
    "           )\n",
    "\n",
    "df_other = XNCSExp(\n",
    "    maze=maze,\n",
    "    cfg=XNCScfg,\n",
    "    number_of_tests=number_of_experiments,\n",
    "    explore_trials=0,\n",
    "    exploit_trials=exploit + explore,\n",
    "    pre_generate=True\n",
    "    )"
   ]
  },
  {
   "cell_type": "code",
   "execution_count": 28,
   "metadata": {},
   "outputs": [
    {
     "data": {
      "text/html": [
       "<div>\n",
       "<style scoped>\n",
       "    .dataframe tbody tr th:only-of-type {\n",
       "        vertical-align: middle;\n",
       "    }\n",
       "\n",
       "    .dataframe tbody tr th {\n",
       "        vertical-align: top;\n",
       "    }\n",
       "\n",
       "    .dataframe thead th {\n",
       "        text-align: right;\n",
       "    }\n",
       "</style>\n",
       "<table border=\"1\" class=\"dataframe\">\n",
       "  <thead>\n",
       "    <tr style=\"text-align: right;\">\n",
       "      <th></th>\n",
       "      <th>steps_in_trial</th>\n",
       "      <th>reward</th>\n",
       "      <th>perf_time</th>\n",
       "      <th>population</th>\n",
       "      <th>numerosity</th>\n",
       "      <th>average_specificity</th>\n",
       "      <th>steps_in_trial_other</th>\n",
       "      <th>population_other</th>\n",
       "      <th>numerosity_other</th>\n",
       "      <th>average_specificity_other</th>\n",
       "      <th>fraction_accuracy_other</th>\n",
       "    </tr>\n",
       "    <tr>\n",
       "      <th>trial</th>\n",
       "      <th></th>\n",
       "      <th></th>\n",
       "      <th></th>\n",
       "      <th></th>\n",
       "      <th></th>\n",
       "      <th></th>\n",
       "      <th></th>\n",
       "      <th></th>\n",
       "      <th></th>\n",
       "      <th></th>\n",
       "      <th></th>\n",
       "    </tr>\n",
       "  </thead>\n",
       "  <tbody>\n",
       "    <tr>\n",
       "      <th>0</th>\n",
       "      <td>100.000000</td>\n",
       "      <td>0.000000</td>\n",
       "      <td>1.339118</td>\n",
       "      <td>1491.000000</td>\n",
       "      <td>1600.0</td>\n",
       "      <td>8.500000</td>\n",
       "      <td>78.333333</td>\n",
       "      <td>1510.333333</td>\n",
       "      <td>1600.0</td>\n",
       "      <td>8.261458</td>\n",
       "      <td>0.000000</td>\n",
       "    </tr>\n",
       "    <tr>\n",
       "      <th>100</th>\n",
       "      <td>9.666667</td>\n",
       "      <td>1119.823574</td>\n",
       "      <td>0.074869</td>\n",
       "      <td>1144.666667</td>\n",
       "      <td>1600.0</td>\n",
       "      <td>6.870208</td>\n",
       "      <td>8.000000</td>\n",
       "      <td>1178.666667</td>\n",
       "      <td>1600.0</td>\n",
       "      <td>6.731042</td>\n",
       "      <td>0.000000</td>\n",
       "    </tr>\n",
       "    <tr>\n",
       "      <th>200</th>\n",
       "      <td>20.666667</td>\n",
       "      <td>1157.802732</td>\n",
       "      <td>0.143613</td>\n",
       "      <td>1076.000000</td>\n",
       "      <td>1600.0</td>\n",
       "      <td>6.828125</td>\n",
       "      <td>60.666667</td>\n",
       "      <td>1139.000000</td>\n",
       "      <td>1600.0</td>\n",
       "      <td>6.609167</td>\n",
       "      <td>0.000000</td>\n",
       "    </tr>\n",
       "    <tr>\n",
       "      <th>300</th>\n",
       "      <td>5.333333</td>\n",
       "      <td>1243.704238</td>\n",
       "      <td>0.057000</td>\n",
       "      <td>1002.000000</td>\n",
       "      <td>1600.0</td>\n",
       "      <td>6.684583</td>\n",
       "      <td>18.000000</td>\n",
       "      <td>1074.666667</td>\n",
       "      <td>1600.0</td>\n",
       "      <td>6.729167</td>\n",
       "      <td>0.000000</td>\n",
       "    </tr>\n",
       "    <tr>\n",
       "      <th>400</th>\n",
       "      <td>4.666667</td>\n",
       "      <td>1461.023992</td>\n",
       "      <td>0.051819</td>\n",
       "      <td>955.000000</td>\n",
       "      <td>1600.0</td>\n",
       "      <td>6.069792</td>\n",
       "      <td>4.666667</td>\n",
       "      <td>1058.333333</td>\n",
       "      <td>1600.0</td>\n",
       "      <td>6.934167</td>\n",
       "      <td>0.000000</td>\n",
       "    </tr>\n",
       "    <tr>\n",
       "      <th>500</th>\n",
       "      <td>5.333333</td>\n",
       "      <td>1208.483340</td>\n",
       "      <td>0.025594</td>\n",
       "      <td>937.666667</td>\n",
       "      <td>1600.0</td>\n",
       "      <td>6.297292</td>\n",
       "      <td>7.333333</td>\n",
       "      <td>1039.666667</td>\n",
       "      <td>1600.0</td>\n",
       "      <td>7.106042</td>\n",
       "      <td>0.000000</td>\n",
       "    </tr>\n",
       "    <tr>\n",
       "      <th>600</th>\n",
       "      <td>5.333333</td>\n",
       "      <td>1212.023390</td>\n",
       "      <td>0.045518</td>\n",
       "      <td>911.666667</td>\n",
       "      <td>1600.0</td>\n",
       "      <td>6.353333</td>\n",
       "      <td>4.333333</td>\n",
       "      <td>1019.000000</td>\n",
       "      <td>1600.0</td>\n",
       "      <td>7.282292</td>\n",
       "      <td>0.000000</td>\n",
       "    </tr>\n",
       "    <tr>\n",
       "      <th>700</th>\n",
       "      <td>38.666667</td>\n",
       "      <td>845.530865</td>\n",
       "      <td>0.233843</td>\n",
       "      <td>898.666667</td>\n",
       "      <td>1600.0</td>\n",
       "      <td>6.515833</td>\n",
       "      <td>37.666667</td>\n",
       "      <td>1026.000000</td>\n",
       "      <td>1600.0</td>\n",
       "      <td>7.161042</td>\n",
       "      <td>0.000000</td>\n",
       "    </tr>\n",
       "    <tr>\n",
       "      <th>800</th>\n",
       "      <td>5.666667</td>\n",
       "      <td>1304.974234</td>\n",
       "      <td>0.027716</td>\n",
       "      <td>855.000000</td>\n",
       "      <td>1600.0</td>\n",
       "      <td>6.129375</td>\n",
       "      <td>6.333333</td>\n",
       "      <td>1020.000000</td>\n",
       "      <td>1600.0</td>\n",
       "      <td>7.221250</td>\n",
       "      <td>0.041165</td>\n",
       "    </tr>\n",
       "    <tr>\n",
       "      <th>900</th>\n",
       "      <td>27.000000</td>\n",
       "      <td>1114.412811</td>\n",
       "      <td>0.160920</td>\n",
       "      <td>837.666667</td>\n",
       "      <td>1600.0</td>\n",
       "      <td>6.060833</td>\n",
       "      <td>8.333333</td>\n",
       "      <td>1026.000000</td>\n",
       "      <td>1600.0</td>\n",
       "      <td>7.412917</td>\n",
       "      <td>0.000000</td>\n",
       "    </tr>\n",
       "    <tr>\n",
       "      <th>1000</th>\n",
       "      <td>27.000000</td>\n",
       "      <td>1390.450022</td>\n",
       "      <td>0.122253</td>\n",
       "      <td>793.333333</td>\n",
       "      <td>1600.0</td>\n",
       "      <td>6.130417</td>\n",
       "      <td>8.666667</td>\n",
       "      <td>1022.000000</td>\n",
       "      <td>1600.0</td>\n",
       "      <td>7.707083</td>\n",
       "      <td>0.034722</td>\n",
       "    </tr>\n",
       "    <tr>\n",
       "      <th>1100</th>\n",
       "      <td>9.000000</td>\n",
       "      <td>1098.487059</td>\n",
       "      <td>0.088622</td>\n",
       "      <td>763.333333</td>\n",
       "      <td>1600.0</td>\n",
       "      <td>6.250000</td>\n",
       "      <td>7.000000</td>\n",
       "      <td>1022.666667</td>\n",
       "      <td>1600.0</td>\n",
       "      <td>7.814375</td>\n",
       "      <td>0.000000</td>\n",
       "    </tr>\n",
       "    <tr>\n",
       "      <th>1200</th>\n",
       "      <td>6.666667</td>\n",
       "      <td>1280.704944</td>\n",
       "      <td>0.052009</td>\n",
       "      <td>764.333333</td>\n",
       "      <td>1600.0</td>\n",
       "      <td>6.108750</td>\n",
       "      <td>4.666667</td>\n",
       "      <td>1020.333333</td>\n",
       "      <td>1600.0</td>\n",
       "      <td>8.094375</td>\n",
       "      <td>0.000000</td>\n",
       "    </tr>\n",
       "    <tr>\n",
       "      <th>1300</th>\n",
       "      <td>4.666667</td>\n",
       "      <td>1341.032887</td>\n",
       "      <td>0.044161</td>\n",
       "      <td>738.666667</td>\n",
       "      <td>1600.0</td>\n",
       "      <td>6.006042</td>\n",
       "      <td>8.666667</td>\n",
       "      <td>1025.666667</td>\n",
       "      <td>1600.0</td>\n",
       "      <td>8.453125</td>\n",
       "      <td>0.009524</td>\n",
       "    </tr>\n",
       "    <tr>\n",
       "      <th>1400</th>\n",
       "      <td>6.333333</td>\n",
       "      <td>1265.894798</td>\n",
       "      <td>0.049981</td>\n",
       "      <td>719.333333</td>\n",
       "      <td>1600.0</td>\n",
       "      <td>5.791667</td>\n",
       "      <td>3.000000</td>\n",
       "      <td>1040.000000</td>\n",
       "      <td>1600.0</td>\n",
       "      <td>8.200000</td>\n",
       "      <td>0.000000</td>\n",
       "    </tr>\n",
       "    <tr>\n",
       "      <th>1500</th>\n",
       "      <td>6.000000</td>\n",
       "      <td>1143.260412</td>\n",
       "      <td>0.038420</td>\n",
       "      <td>721.333333</td>\n",
       "      <td>1600.0</td>\n",
       "      <td>5.893333</td>\n",
       "      <td>11.333333</td>\n",
       "      <td>1039.333333</td>\n",
       "      <td>1600.0</td>\n",
       "      <td>8.174792</td>\n",
       "      <td>0.000000</td>\n",
       "    </tr>\n",
       "    <tr>\n",
       "      <th>1600</th>\n",
       "      <td>6.666667</td>\n",
       "      <td>1208.593332</td>\n",
       "      <td>0.037512</td>\n",
       "      <td>723.333333</td>\n",
       "      <td>1600.0</td>\n",
       "      <td>6.177917</td>\n",
       "      <td>14.333333</td>\n",
       "      <td>1044.000000</td>\n",
       "      <td>1600.0</td>\n",
       "      <td>7.778333</td>\n",
       "      <td>0.000000</td>\n",
       "    </tr>\n",
       "    <tr>\n",
       "      <th>1700</th>\n",
       "      <td>6.666667</td>\n",
       "      <td>1062.111367</td>\n",
       "      <td>0.049654</td>\n",
       "      <td>713.000000</td>\n",
       "      <td>1600.0</td>\n",
       "      <td>6.659583</td>\n",
       "      <td>9.333333</td>\n",
       "      <td>1056.333333</td>\n",
       "      <td>1600.0</td>\n",
       "      <td>7.743750</td>\n",
       "      <td>0.000000</td>\n",
       "    </tr>\n",
       "    <tr>\n",
       "      <th>1800</th>\n",
       "      <td>8.000000</td>\n",
       "      <td>1030.276534</td>\n",
       "      <td>0.075279</td>\n",
       "      <td>704.333333</td>\n",
       "      <td>1600.0</td>\n",
       "      <td>6.419167</td>\n",
       "      <td>7.666667</td>\n",
       "      <td>1047.000000</td>\n",
       "      <td>1600.0</td>\n",
       "      <td>7.604375</td>\n",
       "      <td>0.034722</td>\n",
       "    </tr>\n",
       "    <tr>\n",
       "      <th>1900</th>\n",
       "      <td>91.333333</td>\n",
       "      <td>333.333333</td>\n",
       "      <td>0.396054</td>\n",
       "      <td>698.333333</td>\n",
       "      <td>1600.0</td>\n",
       "      <td>6.312292</td>\n",
       "      <td>6.666667</td>\n",
       "      <td>1061.000000</td>\n",
       "      <td>1600.0</td>\n",
       "      <td>8.050625</td>\n",
       "      <td>0.034722</td>\n",
       "    </tr>\n",
       "    <tr>\n",
       "      <th>2000</th>\n",
       "      <td>37.000000</td>\n",
       "      <td>980.462360</td>\n",
       "      <td>0.144418</td>\n",
       "      <td>669.333333</td>\n",
       "      <td>1600.0</td>\n",
       "      <td>6.300625</td>\n",
       "      <td>4.000000</td>\n",
       "      <td>1047.333333</td>\n",
       "      <td>1600.0</td>\n",
       "      <td>7.732292</td>\n",
       "      <td>0.034722</td>\n",
       "    </tr>\n",
       "    <tr>\n",
       "      <th>2100</th>\n",
       "      <td>9.000000</td>\n",
       "      <td>1135.811503</td>\n",
       "      <td>0.060103</td>\n",
       "      <td>669.333333</td>\n",
       "      <td>1600.0</td>\n",
       "      <td>6.339375</td>\n",
       "      <td>36.333333</td>\n",
       "      <td>1033.666667</td>\n",
       "      <td>1600.0</td>\n",
       "      <td>8.096250</td>\n",
       "      <td>0.000000</td>\n",
       "    </tr>\n",
       "    <tr>\n",
       "      <th>2200</th>\n",
       "      <td>4.333333</td>\n",
       "      <td>1268.215552</td>\n",
       "      <td>0.020410</td>\n",
       "      <td>657.000000</td>\n",
       "      <td>1600.0</td>\n",
       "      <td>6.042083</td>\n",
       "      <td>7.666667</td>\n",
       "      <td>1040.000000</td>\n",
       "      <td>1600.0</td>\n",
       "      <td>7.602500</td>\n",
       "      <td>0.034722</td>\n",
       "    </tr>\n",
       "    <tr>\n",
       "      <th>2300</th>\n",
       "      <td>26.000000</td>\n",
       "      <td>1011.259016</td>\n",
       "      <td>0.134830</td>\n",
       "      <td>641.000000</td>\n",
       "      <td>1600.0</td>\n",
       "      <td>5.879375</td>\n",
       "      <td>38.333333</td>\n",
       "      <td>1027.666667</td>\n",
       "      <td>1600.0</td>\n",
       "      <td>7.602500</td>\n",
       "      <td>0.034722</td>\n",
       "    </tr>\n",
       "    <tr>\n",
       "      <th>2400</th>\n",
       "      <td>18.666667</td>\n",
       "      <td>1078.440430</td>\n",
       "      <td>0.097076</td>\n",
       "      <td>635.666667</td>\n",
       "      <td>1600.0</td>\n",
       "      <td>5.822917</td>\n",
       "      <td>6.000000</td>\n",
       "      <td>1029.000000</td>\n",
       "      <td>1600.0</td>\n",
       "      <td>7.323958</td>\n",
       "      <td>0.034722</td>\n",
       "    </tr>\n",
       "  </tbody>\n",
       "</table>\n",
       "</div>"
      ],
      "text/plain": [
       "       steps_in_trial       reward  perf_time   population  numerosity  \\\n",
       "trial                                                                    \n",
       "0          100.000000     0.000000   1.339118  1491.000000      1600.0   \n",
       "100          9.666667  1119.823574   0.074869  1144.666667      1600.0   \n",
       "200         20.666667  1157.802732   0.143613  1076.000000      1600.0   \n",
       "300          5.333333  1243.704238   0.057000  1002.000000      1600.0   \n",
       "400          4.666667  1461.023992   0.051819   955.000000      1600.0   \n",
       "500          5.333333  1208.483340   0.025594   937.666667      1600.0   \n",
       "600          5.333333  1212.023390   0.045518   911.666667      1600.0   \n",
       "700         38.666667   845.530865   0.233843   898.666667      1600.0   \n",
       "800          5.666667  1304.974234   0.027716   855.000000      1600.0   \n",
       "900         27.000000  1114.412811   0.160920   837.666667      1600.0   \n",
       "1000        27.000000  1390.450022   0.122253   793.333333      1600.0   \n",
       "1100         9.000000  1098.487059   0.088622   763.333333      1600.0   \n",
       "1200         6.666667  1280.704944   0.052009   764.333333      1600.0   \n",
       "1300         4.666667  1341.032887   0.044161   738.666667      1600.0   \n",
       "1400         6.333333  1265.894798   0.049981   719.333333      1600.0   \n",
       "1500         6.000000  1143.260412   0.038420   721.333333      1600.0   \n",
       "1600         6.666667  1208.593332   0.037512   723.333333      1600.0   \n",
       "1700         6.666667  1062.111367   0.049654   713.000000      1600.0   \n",
       "1800         8.000000  1030.276534   0.075279   704.333333      1600.0   \n",
       "1900        91.333333   333.333333   0.396054   698.333333      1600.0   \n",
       "2000        37.000000   980.462360   0.144418   669.333333      1600.0   \n",
       "2100         9.000000  1135.811503   0.060103   669.333333      1600.0   \n",
       "2200         4.333333  1268.215552   0.020410   657.000000      1600.0   \n",
       "2300        26.000000  1011.259016   0.134830   641.000000      1600.0   \n",
       "2400        18.666667  1078.440430   0.097076   635.666667      1600.0   \n",
       "\n",
       "       average_specificity  steps_in_trial_other  population_other  \\\n",
       "trial                                                                \n",
       "0                 8.500000             78.333333       1510.333333   \n",
       "100               6.870208              8.000000       1178.666667   \n",
       "200               6.828125             60.666667       1139.000000   \n",
       "300               6.684583             18.000000       1074.666667   \n",
       "400               6.069792              4.666667       1058.333333   \n",
       "500               6.297292              7.333333       1039.666667   \n",
       "600               6.353333              4.333333       1019.000000   \n",
       "700               6.515833             37.666667       1026.000000   \n",
       "800               6.129375              6.333333       1020.000000   \n",
       "900               6.060833              8.333333       1026.000000   \n",
       "1000              6.130417              8.666667       1022.000000   \n",
       "1100              6.250000              7.000000       1022.666667   \n",
       "1200              6.108750              4.666667       1020.333333   \n",
       "1300              6.006042              8.666667       1025.666667   \n",
       "1400              5.791667              3.000000       1040.000000   \n",
       "1500              5.893333             11.333333       1039.333333   \n",
       "1600              6.177917             14.333333       1044.000000   \n",
       "1700              6.659583              9.333333       1056.333333   \n",
       "1800              6.419167              7.666667       1047.000000   \n",
       "1900              6.312292              6.666667       1061.000000   \n",
       "2000              6.300625              4.000000       1047.333333   \n",
       "2100              6.339375             36.333333       1033.666667   \n",
       "2200              6.042083              7.666667       1040.000000   \n",
       "2300              5.879375             38.333333       1027.666667   \n",
       "2400              5.822917              6.000000       1029.000000   \n",
       "\n",
       "       numerosity_other  average_specificity_other  fraction_accuracy_other  \n",
       "trial                                                                        \n",
       "0                1600.0                   8.261458                 0.000000  \n",
       "100              1600.0                   6.731042                 0.000000  \n",
       "200              1600.0                   6.609167                 0.000000  \n",
       "300              1600.0                   6.729167                 0.000000  \n",
       "400              1600.0                   6.934167                 0.000000  \n",
       "500              1600.0                   7.106042                 0.000000  \n",
       "600              1600.0                   7.282292                 0.000000  \n",
       "700              1600.0                   7.161042                 0.000000  \n",
       "800              1600.0                   7.221250                 0.041165  \n",
       "900              1600.0                   7.412917                 0.000000  \n",
       "1000             1600.0                   7.707083                 0.034722  \n",
       "1100             1600.0                   7.814375                 0.000000  \n",
       "1200             1600.0                   8.094375                 0.000000  \n",
       "1300             1600.0                   8.453125                 0.009524  \n",
       "1400             1600.0                   8.200000                 0.000000  \n",
       "1500             1600.0                   8.174792                 0.000000  \n",
       "1600             1600.0                   7.778333                 0.000000  \n",
       "1700             1600.0                   7.743750                 0.000000  \n",
       "1800             1600.0                   7.604375                 0.034722  \n",
       "1900             1600.0                   8.050625                 0.034722  \n",
       "2000             1600.0                   7.732292                 0.034722  \n",
       "2100             1600.0                   8.096250                 0.000000  \n",
       "2200             1600.0                   7.602500                 0.034722  \n",
       "2300             1600.0                   7.602500                 0.034722  \n",
       "2400             1600.0                   7.323958                 0.034722  "
      ]
     },
     "metadata": {},
     "output_type": "display_data"
    }
   ],
   "source": [
    "df['steps_in_trial_other']=df_other['steps_in_trial']\n",
    "df['population_other']=df_other['population']\n",
    "df['numerosity_other']=df_other['numerosity']\n",
    "df['average_specificity_other']=df_other['average_specificity']\n",
    "df['fraction_accuracy_other']=df_other['fraction_accuracy']\n",
    "\n",
    "display(df)"
   ]
  },
  {
   "cell_type": "code",
   "execution_count": 29,
   "metadata": {},
   "outputs": [
    {
     "data": {
      "text/plain": [
       "<matplotlib.legend.Legend at 0x2400bf62848>"
      ]
     },
     "execution_count": 29,
     "metadata": {},
     "output_type": "execute_result"
    },
    {
     "data": {
      "image/png": "[encoded data removed]",
      "text/plain": [
       "<Figure size 432x288 with 1 Axes>"
      ]
     },
     "metadata": {
      "needs_background": "light"
     },
     "output_type": "display_data"
    }
   ],
   "source": [
    "import pandas as pd\n",
    "import numpy as np\n",
    "\n",
    "ax = df[['average_specificity', \"average_specificity_other\"]].plot()\n",
    "ax.set_xlabel(\"trial\")\n",
    "ax.set_ylabel(\"average_specificity\")\n",
    "ax.legend([\"XCS\",\"XNCS\"])\n",
    "\n"
   ]
  },
  {
   "cell_type": "code",
   "execution_count": 30,
   "metadata": {},
   "outputs": [
    {
     "data": {
      "text/plain": [
       "<matplotlib.legend.Legend at 0x240101acc08>"
      ]
     },
     "execution_count": 30,
     "metadata": {},
     "output_type": "execute_result"
    },
    {
     "data": {
      "image/png": "[encoded data removed]",
      "text/plain": [
       "<Figure size 432x288 with 1 Axes>"
      ]
     },
     "metadata": {
      "needs_background": "light"
     },
     "output_type": "display_data"
    }
   ],
   "source": [
    "ax = df[\"fraction_accuracy_other\"].plot()\n",
    "ax.set_xlabel(\"trial\")\n",
    "ax.set_ylabel(\"fraction accuracy\")\n",
    "ax.legend([\"XCS\",\"XNCS\"])"
   ]
  },
  {
   "cell_type": "code",
   "execution_count": 31,
   "metadata": {},
   "outputs": [
    {
     "data": {
      "text/plain": [
       "<matplotlib.legend.Legend at 0x2400c3516c8>"
      ]
     },
     "execution_count": 31,
     "metadata": {},
     "output_type": "execute_result"
    },
    {
     "data": {
      "image/png": "[encoded data removed]",
      "text/plain": [
       "<Figure size 432x288 with 1 Axes>"
      ]
     },
     "metadata": {
      "needs_background": "light"
     },
     "output_type": "display_data"
    }
   ],
   "source": [
    "ax = df[['numerosity', 'numerosity_other']].plot()\n",
    "ax.set_xlabel(\"trial\")\n",
    "ax.set_ylabel(\"numerosity\")\n",
    "ax.legend([\"numerosity\", \"number of rules\"])"
   ]
  },
  {
   "cell_type": "code",
   "execution_count": 32,
   "metadata": {},
   "outputs": [
    {
     "data": {
      "text/plain": [
       "<matplotlib.legend.Legend at 0x2401020d348>"
      ]
     },
     "execution_count": 32,
     "metadata": {},
     "output_type": "execute_result"
    },
    {
     "data": {
      "image/png": "[encoded data removed]",
      "text/plain": [
       "<Figure size 432x288 with 1 Axes>"
      ]
     },
     "metadata": {
      "needs_background": "light"
     },
     "output_type": "display_data"
    }
   ],
   "source": [
    "ax = df[['population', \"population_other\"]].plot()\n",
    "ax.set_xlabel(\"trial\")\n",
    "ax.set_ylabel(\"population\")\n",
    "ax.legend([\"XCS\",\"XNCS\"])"
   ]
  },
  {
   "cell_type": "code",
   "execution_count": 33,
   "metadata": {},
   "outputs": [
    {
     "data": {
      "text/plain": [
       "<matplotlib.legend.Legend at 0x2400c1b0748>"
      ]
     },
     "execution_count": 33,
     "metadata": {},
     "output_type": "execute_result"
    },
    {
     "data": {
      "image/png": "[encoded data removed]",
      "text/plain": [
       "<Figure size 432x288 with 1 Axes>"
      ]
     },
     "metadata": {
      "needs_background": "light"
     },
     "output_type": "display_data"
    }
   ],
   "source": [
    "ax = df[['steps_in_trial', 'steps_in_trial_other']].plot()\n",
    "ax.set_xlabel(\"trial\")\n",
    "ax.set_ylabel(\"steps in trial\")\n",
    "ax.legend([\"XCS\",\"XNCS\"])"
   ]
  },
  {
   "cell_type": "code",
   "execution_count": 34,
   "metadata": {},
   "outputs": [
    {
     "name": "stdout",
     "output_type": "stream",
     "text": [
      "163.22222222222226\n",
      "135.77777777777777\n"
     ]
    }
   ],
   "source": [
    "print(sum(df[\"steps_in_trial\"])/number_of_experiments)\n",
    "print(sum(df[\"steps_in_trial_other\"])/number_of_experiments)"
   ]
  },
  {
   "cell_type": "code",
   "execution_count": null,
   "metadata": {},
   "outputs": [],
   "source": []
  }
 ],
 "metadata": {
  "kernelspec": {
   "display_name": "Python 3",
   "language": "python",
   "name": "python3"
  },
  "language_info": {
   "codemirror_mode": {
    "name": "ipython",
    "version": 3
   },
   "file_extension": ".py",
   "mimetype": "text/x-python",
   "name": "python",
   "nbconvert_exporter": "python",
   "pygments_lexer": "ipython3",
   "version": "3.7.10"
  }
 },
 "nbformat": 4,
 "nbformat_minor": 1
}
