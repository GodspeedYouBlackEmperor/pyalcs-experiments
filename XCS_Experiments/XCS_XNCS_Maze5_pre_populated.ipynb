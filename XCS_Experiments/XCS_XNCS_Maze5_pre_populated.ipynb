{
 "cells": [
  {
   "cell_type": "code",
   "execution_count": 1,
   "metadata": {},
   "outputs": [],
   "source": [
    "# logging \n",
    "import logging\n",
    "logging.basicConfig(level=logging.INFO)\n",
    "logger = logging.getLogger(__name__)\n"
   ]
  },
  {
   "cell_type": "code",
   "execution_count": 2,
   "metadata": {},
   "outputs": [
    {
     "name": "stdout",
     "output_type": "stream",
     "text": [
      "This is how maze looks like\n",
      "<class 'tuple'>\n",
      "('1', '0', '1', '0', '0', '0', '0', '0')\n",
      "\n",
      "\u001b[30m■\u001b[0m \u001b[30m■\u001b[0m \u001b[30m■\u001b[0m \u001b[30m■\u001b[0m \u001b[30m■\u001b[0m \u001b[30m■\u001b[0m \u001b[30m■\u001b[0m \u001b[30m■\u001b[0m \u001b[30m■\u001b[0m\n",
      "\u001b[30m■\u001b[0m \u001b[37m□\u001b[0m \u001b[37m□\u001b[0m \u001b[37m□\u001b[0m \u001b[37m□\u001b[0m \u001b[37m□\u001b[0m \u001b[37m□\u001b[0m \u001b[33m$\u001b[0m \u001b[30m■\u001b[0m\n",
      "\u001b[30m■\u001b[0m \u001b[37m□\u001b[0m \u001b[37m□\u001b[0m \u001b[30m■\u001b[0m \u001b[37m□\u001b[0m \u001b[30m■\u001b[0m \u001b[30m■\u001b[0m \u001b[37m□\u001b[0m \u001b[30m■\u001b[0m\n",
      "\u001b[30m■\u001b[0m \u001b[37m□\u001b[0m \u001b[30m■\u001b[0m \u001b[37m□\u001b[0m \u001b[37m□\u001b[0m \u001b[37m□\u001b[0m \u001b[37m□\u001b[0m \u001b[37m□\u001b[0m \u001b[30m■\u001b[0m\n",
      "\u001b[30m■\u001b[0m \u001b[37m□\u001b[0m \u001b[37m□\u001b[0m \u001b[37m□\u001b[0m \u001b[30m■\u001b[0m \u001b[30m■\u001b[0m \u001b[37m□\u001b[0m \u001b[37m□\u001b[0m \u001b[30m■\u001b[0m\n",
      "\u001b[30m■\u001b[0m \u001b[37m□\u001b[0m \u001b[30m■\u001b[0m \u001b[37m□\u001b[0m \u001b[30m■\u001b[0m \u001b[37m□\u001b[0m \u001b[37m□\u001b[0m \u001b[30m■\u001b[0m \u001b[30m■\u001b[0m\n",
      "\u001b[30m■\u001b[0m \u001b[37m□\u001b[0m \u001b[30m■\u001b[0m \u001b[37m□\u001b[0m \u001b[31mA\u001b[0m \u001b[30m■\u001b[0m \u001b[37m□\u001b[0m \u001b[37m□\u001b[0m \u001b[30m■\u001b[0m\n",
      "\u001b[30m■\u001b[0m \u001b[37m□\u001b[0m \u001b[37m□\u001b[0m \u001b[37m□\u001b[0m \u001b[37m□\u001b[0m \u001b[37m□\u001b[0m \u001b[30m■\u001b[0m \u001b[37m□\u001b[0m \u001b[30m■\u001b[0m\n",
      "\u001b[30m■\u001b[0m \u001b[30m■\u001b[0m \u001b[30m■\u001b[0m \u001b[30m■\u001b[0m \u001b[30m■\u001b[0m \u001b[30m■\u001b[0m \u001b[30m■\u001b[0m \u001b[30m■\u001b[0m \u001b[30m■\u001b[0m\n"
     ]
    }
   ],
   "source": [
    "# environment setup\n",
    "import gym\n",
    "# noinspection PyUnresolvedReferences\n",
    "import gym_maze\n",
    "\n",
    "maze = gym.make('Maze5-v0')\n",
    "print(\"This is how maze looks like\")\n",
    "situation = maze.reset()\n",
    "print(type(situation))\n",
    "print(situation)\n",
    "maze.render()\n"
   ]
  },
  {
   "cell_type": "code",
   "execution_count": 3,
   "metadata": {},
   "outputs": [],
   "source": [
    "from lcs.agents.xcs import XCS\n",
    "from lcs.agents.xcs import Configuration as XCSConfig\n",
    "from lcs.agents.xncs import XNCS\n",
    "from lcs.agents.xncs import Configuration as XNCSConfig\n",
    "\n",
    "from utils.xcs_utils import *\n",
    "from utils.nxcs_utils import *\n",
    "\n",
    "XCScfg = XCSConfig(number_of_actions=8,\n",
    "                    max_population=1600,\n",
    "                    learning_rate=0.2,\n",
    "                    alpha=0.1,\n",
    "                    gamma=0.71,\n",
    "                    mutation_chance=0.01,\n",
    "                    delta=0.1,\n",
    "                    ga_threshold=25,\n",
    "                    covering_wildcard_chance = 0.7,\n",
    "                    chi=1,      # crossover\n",
    "                    metrics_trial_frequency=100,\n",
    "                    initial_prediction =10,  # p_i\n",
    "                    initial_error = 0,  # epsilon_i\n",
    "                    initial_fitness = 10,  # f_i\n",
    "                    user_metrics_collector_fcn=xcs_maze_metrics)\n",
    "\n",
    "XNCScfg = XNCSConfig(number_of_actions=8,\n",
    "                    max_population=1600,\n",
    "                    learning_rate=0.2,\n",
    "                    alpha=0.1,\n",
    "                    gamma=0.71,\n",
    "                    mutation_chance=0.01,\n",
    "                    delta=0.1,\n",
    "                    ga_threshold=25,\n",
    "                    covering_wildcard_chance = 0.7,\n",
    "                    chi=1,      # crossover\n",
    "                    metrics_trial_frequency=100,\n",
    "                    initial_prediction =10,  # p_i\n",
    "                    initial_error = 0.1,  # epsilon_i\n",
    "                    initial_fitness = 10,  # f_i\n",
    "                    user_metrics_collector_fcn=xncs_maze_metrics,\n",
    "                    lmc=10,\n",
    "                    lem=100)\n"
   ]
  },
  {
   "cell_type": "code",
   "execution_count": 4,
   "metadata": {
    "scrolled": true
   },
   "outputs": [
    {
     "name": "stdout",
     "output_type": "stream",
     "text": [
      "Executing 0 experiment\n"
     ]
    },
    {
     "name": "stderr",
     "output_type": "stream",
     "text": [
      "INFO:lcs.agents.Agent:{'trial': 0, 'steps_in_trial': 100, 'reward': 0.0, 'perf_time': 1.3876943999999996, 'numerosity': 1600, 'population': 1498, 'average_specificity': 7.911875, 'fraction_accuracy': 0.95, 'knowledge': 6.164383561643835}\n",
      "INFO:lcs.agents.Agent:{'trial': 200, 'steps_in_trial': 6, 'reward': 1160.623320451948, 'perf_time': 0.047101699999998914, 'numerosity': 1600, 'population': 1163, 'average_specificity': 7.045625, 'fraction_accuracy': 0.91, 'knowledge': 9.58904109589041}\n",
      "INFO:lcs.agents.Agent:{'trial': 500, 'steps_in_trial': 7, 'reward': 1138.5646001160228, 'perf_time': 0.08202970000000676, 'numerosity': 1600, 'population': 1049, 'average_specificity': 7.64375, 'fraction_accuracy': 0.95, 'knowledge': 5.47945205479452}\n",
      "INFO:lcs.agents.Agent:{'trial': 700, 'steps_in_trial': 72, 'reward': 1000.0000000197018, 'perf_time': 0.6064908999999972, 'numerosity': 1600, 'population': 1117, 'average_specificity': 8.715625, 'fraction_accuracy': 0.99, 'knowledge': 5.47945205479452}\n",
      "INFO:lcs.agents.Agent:{'trial': 1000, 'steps_in_trial': 6, 'reward': 1259.883148937201, 'perf_time': 0.06926590000000488, 'numerosity': 1600, 'population': 1074, 'average_specificity': 10.555, 'fraction_accuracy': 0.97, 'knowledge': 5.47945205479452}\n",
      "INFO:lcs.agents.Agent:{'trial': 1200, 'steps_in_trial': 8, 'reward': 1068.8148802242863, 'perf_time': 0.0777485999999783, 'numerosity': 1600, 'population': 1083, 'average_specificity': 8.2, 'fraction_accuracy': 0.99, 'knowledge': 5.47945205479452}\n",
      "INFO:lcs.agents.Agent:{'trial': 1500, 'steps_in_trial': 6, 'reward': 1214.0248845123629, 'perf_time': 0.06448369999998249, 'numerosity': 1600, 'population': 1050, 'average_specificity': 8.32875, 'fraction_accuracy': 0.99, 'knowledge': 5.47945205479452}\n",
      "INFO:lcs.agents.Agent:{'trial': 1700, 'steps_in_trial': 7, 'reward': 1123.3444554648654, 'perf_time': 0.04995239999999512, 'numerosity': 1600, 'population': 1077, 'average_specificity': 8.809375, 'fraction_accuracy': 1.0, 'knowledge': 6.164383561643835}\n",
      "INFO:lcs.agents.Agent:{'trial': 2000, 'steps_in_trial': 15, 'reward': 1007.4036301845966, 'perf_time': 0.16627369999997654, 'numerosity': 1600, 'population': 1030, 'average_specificity': 9.593125, 'fraction_accuracy': 1.0, 'knowledge': 6.8493150684931505}\n",
      "INFO:lcs.agents.Agent:{'trial': 2200, 'steps_in_trial': 12, 'reward': 1017.5690830723419, 'perf_time': 0.16156540000002906, 'numerosity': 1600, 'population': 1038, 'average_specificity': 8.8025, 'fraction_accuracy': 0.9, 'knowledge': 6.164383561643835}\n"
     ]
    },
    {
     "name": "stdout",
     "output_type": "stream",
     "text": [
      "Executing 1 experiment\n"
     ]
    },
    {
     "name": "stderr",
     "output_type": "stream",
     "text": [
      "INFO:lcs.agents.Agent:{'trial': 0, 'steps_in_trial': 100, 'reward': 0.0, 'perf_time': 1.8969012999999677, 'numerosity': 1600, 'population': 1495, 'average_specificity': 8.58375, 'fraction_accuracy': 0.98, 'knowledge': 6.164383561643835}\n",
      "INFO:lcs.agents.Agent:{'trial': 200, 'steps_in_trial': 4, 'reward': 1324.9446829222925, 'perf_time': 0.03166279999999233, 'numerosity': 1600, 'population': 1140, 'average_specificity': 6.7675, 'fraction_accuracy': 0.98, 'knowledge': 1.36986301369863}\n",
      "INFO:lcs.agents.Agent:{'trial': 500, 'steps_in_trial': 9, 'reward': 1050.4487000737424, 'perf_time': 0.09348740000001499, 'numerosity': 1600, 'population': 1068, 'average_specificity': 7.65125, 'fraction_accuracy': 0.87, 'knowledge': 0.684931506849315}\n",
      "INFO:lcs.agents.Agent:{'trial': 700, 'steps_in_trial': 3, 'reward': 1452.7801773843607, 'perf_time': 0.04035550000003241, 'numerosity': 1600, 'population': 1048, 'average_specificity': 7.479375, 'fraction_accuracy': 0.96, 'knowledge': 0.684931506849315}\n",
      "INFO:lcs.agents.Agent:{'trial': 1000, 'steps_in_trial': 2, 'reward': 1516.786628932605, 'perf_time': 0.0168641000000207, 'numerosity': 1600, 'population': 1073, 'average_specificity': 8.0225, 'fraction_accuracy': 1.0, 'knowledge': 1.36986301369863}\n",
      "INFO:lcs.agents.Agent:{'trial': 1200, 'steps_in_trial': 9, 'reward': 1072.0662636924671, 'perf_time': 0.1257709999999861, 'numerosity': 1600, 'population': 1058, 'average_specificity': 8.35875, 'fraction_accuracy': 0.97, 'knowledge': 1.36986301369863}\n",
      "INFO:lcs.agents.Agent:{'trial': 1500, 'steps_in_trial': 5, 'reward': 1182.564364357557, 'perf_time': 0.068584499999929, 'numerosity': 1600, 'population': 1018, 'average_specificity': 7.4175, 'fraction_accuracy': 0.96, 'knowledge': 2.054794520547945}\n",
      "INFO:lcs.agents.Agent:{'trial': 1700, 'steps_in_trial': 11, 'reward': 1026.1215477863625, 'perf_time': 0.102107100000012, 'numerosity': 1600, 'population': 1028, 'average_specificity': 8.825625, 'fraction_accuracy': 0.99, 'knowledge': 0.0}\n",
      "INFO:lcs.agents.Agent:{'trial': 2000, 'steps_in_trial': 100, 'reward': 1.5072424466158488e-12, 'perf_time': 0.7942798999999923, 'numerosity': 1600, 'population': 1054, 'average_specificity': 7.21625, 'fraction_accuracy': 1.0, 'knowledge': 1.36986301369863}\n",
      "INFO:lcs.agents.Agent:{'trial': 2200, 'steps_in_trial': 3, 'reward': 1531.7121929234252, 'perf_time': 0.018096600000035323, 'numerosity': 1600, 'population': 1014, 'average_specificity': 6.85125, 'fraction_accuracy': 0.99, 'knowledge': 0.684931506849315}\n"
     ]
    },
    {
     "name": "stdout",
     "output_type": "stream",
     "text": [
      "Executing 2 experiment\n"
     ]
    },
    {
     "name": "stderr",
     "output_type": "stream",
     "text": [
      "INFO:lcs.agents.Agent:{'trial': 0, 'steps_in_trial': 100, 'reward': 0.0, 'perf_time': 1.6700117999999975, 'numerosity': 1600, 'population': 1483, 'average_specificity': 8.211875, 'fraction_accuracy': 0.97, 'knowledge': 5.47945205479452}\n",
      "INFO:lcs.agents.Agent:{'trial': 200, 'steps_in_trial': 9, 'reward': 1049.078543593884, 'perf_time': 0.11612999999999829, 'numerosity': 1600, 'population': 1234, 'average_specificity': 7.119375, 'fraction_accuracy': 0.94, 'knowledge': 4.794520547945205}\n",
      "INFO:lcs.agents.Agent:{'trial': 500, 'steps_in_trial': 3, 'reward': 1385.3327583750827, 'perf_time': 0.020420199999989563, 'numerosity': 1600, 'population': 1153, 'average_specificity': 7.55, 'fraction_accuracy': 0.97, 'knowledge': 4.10958904109589}\n",
      "INFO:lcs.agents.Agent:{'trial': 700, 'steps_in_trial': 5, 'reward': 1180.4229351, 'perf_time': 0.05793889999995372, 'numerosity': 1600, 'population': 1170, 'average_specificity': 8.23875, 'fraction_accuracy': 0.98, 'knowledge': 4.10958904109589}\n",
      "INFO:lcs.agents.Agent:{'trial': 1000, 'steps_in_trial': 3, 'reward': 1000.0000000000009, 'perf_time': 0.04917840000007345, 'numerosity': 1600, 'population': 1070, 'average_specificity': 8.2725, 'fraction_accuracy': 1.0, 'knowledge': 2.054794520547945}\n",
      "INFO:lcs.agents.Agent:{'trial': 1200, 'steps_in_trial': 1, 'reward': 1818.5271354898007, 'perf_time': 0.015212099999985185, 'numerosity': 1600, 'population': 1067, 'average_specificity': 8.23875, 'fraction_accuracy': 0.94, 'knowledge': 2.054794520547945}\n",
      "INFO:lcs.agents.Agent:{'trial': 1500, 'steps_in_trial': 4, 'reward': 1271.2728252815768, 'perf_time': 0.04180640000004132, 'numerosity': 1600, 'population': 1067, 'average_specificity': 9.823125, 'fraction_accuracy': 0.92, 'knowledge': 4.10958904109589}\n",
      "INFO:lcs.agents.Agent:{'trial': 1700, 'steps_in_trial': 2, 'reward': 1521.3661882208903, 'perf_time': 0.031411299999945186, 'numerosity': 1600, 'population': 1089, 'average_specificity': 9.226875, 'fraction_accuracy': 0.92, 'knowledge': 3.4246575342465753}\n",
      "INFO:lcs.agents.Agent:{'trial': 2000, 'steps_in_trial': 4, 'reward': 1258.5808422520784, 'perf_time': 0.039330900000095426, 'numerosity': 1600, 'population': 1066, 'average_specificity': 7.478125, 'fraction_accuracy': 0.9, 'knowledge': 2.054794520547945}\n",
      "INFO:lcs.agents.Agent:{'trial': 2200, 'steps_in_trial': 6, 'reward': 1128.100283921, 'perf_time': 0.07337360000019544, 'numerosity': 1600, 'population': 1071, 'average_specificity': 7.785625, 'fraction_accuracy': 0.7, 'knowledge': 2.73972602739726}\n"
     ]
    },
    {
     "name": "stdout",
     "output_type": "stream",
     "text": [
      "Executing 0 experiment\n"
     ]
    },
    {
     "name": "stderr",
     "output_type": "stream",
     "text": [
      "INFO:lcs.agents.Agent:{'trial': 0, 'steps_in_trial': 100, 'reward': 0.0, 'perf_time': 1.1887324999997873, 'population': 1487, 'numerosity': 1600, 'average_specificity': 8.676875, 'knowledge': 100.0}\n",
      "INFO:lcs.agents.Agent:{'trial': 200, 'steps_in_trial': 6, 'reward': 1150.559810577107, 'perf_time': 0.07607809999990423, 'population': 1037, 'numerosity': 1600, 'average_specificity': 6.975625, 'knowledge': 100.0}\n",
      "INFO:lcs.agents.Agent:{'trial': 500, 'steps_in_trial': 100, 'reward': 2.9209299907019724e-42, 'perf_time': 0.5741263999998409, 'population': 903, 'numerosity': 1600, 'average_specificity': 6.46625, 'knowledge': 98.63013698630137}\n",
      "INFO:lcs.agents.Agent:{'trial': 700, 'steps_in_trial': 7, 'reward': 1102.9123040443103, 'perf_time': 0.06670200000007753, 'population': 816, 'numerosity': 1600, 'average_specificity': 6.555625, 'knowledge': 99.31506849315068}\n",
      "INFO:lcs.agents.Agent:{'trial': 1000, 'steps_in_trial': 12, 'reward': 1018.0281068806024, 'perf_time': 0.11508969999999863, 'population': 798, 'numerosity': 1600, 'average_specificity': 6.86875, 'knowledge': 98.63013698630137}\n",
      "INFO:lcs.agents.Agent:{'trial': 1200, 'steps_in_trial': 9, 'reward': 1045.8485007184636, 'perf_time': 0.11123639999982515, 'population': 750, 'numerosity': 1600, 'average_specificity': 6.54625, 'knowledge': 100.0}\n",
      "INFO:lcs.agents.Agent:{'trial': 1500, 'steps_in_trial': 8, 'reward': 1084.1521550257046, 'perf_time': 0.04885429999990265, 'population': 703, 'numerosity': 1600, 'average_specificity': 5.78875, 'knowledge': 100.0}\n",
      "INFO:lcs.agents.Agent:{'trial': 1700, 'steps_in_trial': 8, 'reward': 1069.1290630042886, 'perf_time': 0.03614319999996951, 'population': 685, 'numerosity': 1600, 'average_specificity': 5.905, 'knowledge': 97.94520547945206}\n",
      "INFO:lcs.agents.Agent:{'trial': 2000, 'steps_in_trial': 100, 'reward': 1.3360874108178924e-12, 'perf_time': 0.38428990000011254, 'population': 690, 'numerosity': 1600, 'average_specificity': 5.95, 'knowledge': 98.63013698630137}\n",
      "INFO:lcs.agents.Agent:{'trial': 2200, 'steps_in_trial': 8, 'reward': 1073.0386613523635, 'perf_time': 0.05382550000012998, 'population': 656, 'numerosity': 1600, 'average_specificity': 6.736875, 'knowledge': 99.31506849315068}\n"
     ]
    },
    {
     "name": "stdout",
     "output_type": "stream",
     "text": [
      "Executing 1 experiment\n"
     ]
    },
    {
     "name": "stderr",
     "output_type": "stream",
     "text": [
      "INFO:lcs.agents.Agent:{'trial': 0, 'steps_in_trial': 100, 'reward': 0.0, 'perf_time': 1.3301629000000048, 'population': 1468, 'numerosity': 1600, 'average_specificity': 8.335625, 'knowledge': 100.0}\n",
      "INFO:lcs.agents.Agent:{'trial': 200, 'steps_in_trial': 3, 'reward': 1804.1016198493778, 'perf_time': 0.0152432999998382, 'population': 1027, 'numerosity': 1600, 'average_specificity': 6.89375, 'knowledge': 98.63013698630137}\n",
      "INFO:lcs.agents.Agent:{'trial': 500, 'steps_in_trial': 3, 'reward': 1358.6641565968293, 'perf_time': 0.01326680000011038, 'population': 922, 'numerosity': 1600, 'average_specificity': 6.07875, 'knowledge': 100.0}\n",
      "INFO:lcs.agents.Agent:{'trial': 700, 'steps_in_trial': 5, 'reward': 1183.790922092776, 'perf_time': 0.03172150000000329, 'population': 852, 'numerosity': 1600, 'average_specificity': 6.008125, 'knowledge': 99.31506849315068}\n",
      "INFO:lcs.agents.Agent:{'trial': 1000, 'steps_in_trial': 16, 'reward': 1004.1731173296699, 'perf_time': 0.14344310000001315, 'population': 790, 'numerosity': 1600, 'average_specificity': 5.873125, 'knowledge': 97.94520547945206}\n",
      "INFO:lcs.agents.Agent:{'trial': 1200, 'steps_in_trial': 8, 'reward': 1114.5179547332423, 'perf_time': 0.12422330000003967, 'population': 812, 'numerosity': 1600, 'average_specificity': 6.2775, 'knowledge': 98.63013698630137}\n",
      "INFO:lcs.agents.Agent:{'trial': 1500, 'steps_in_trial': 100, 'reward': 1.3375682093286274e-12, 'perf_time': 0.45661390000009305, 'population': 774, 'numerosity': 1600, 'average_specificity': 6.151875, 'knowledge': 98.63013698630137}\n",
      "INFO:lcs.agents.Agent:{'trial': 1700, 'steps_in_trial': 9, 'reward': 1050.410387630167, 'perf_time': 0.06396719999997913, 'population': 718, 'numerosity': 1600, 'average_specificity': 5.98875, 'knowledge': 96.57534246575342}\n",
      "INFO:lcs.agents.Agent:{'trial': 2000, 'steps_in_trial': 28, 'reward': 1000.0, 'perf_time': 0.1207956999999169, 'population': 682, 'numerosity': 1600, 'average_specificity': 5.778125, 'knowledge': 97.94520547945206}\n",
      "INFO:lcs.agents.Agent:{'trial': 2200, 'steps_in_trial': 17, 'reward': 1003.7130754481295, 'perf_time': 0.07818859999997585, 'population': 658, 'numerosity': 1600, 'average_specificity': 6.14875, 'knowledge': 99.31506849315068}\n"
     ]
    },
    {
     "name": "stdout",
     "output_type": "stream",
     "text": [
      "Executing 2 experiment\n"
     ]
    },
    {
     "name": "stderr",
     "output_type": "stream",
     "text": [
      "INFO:lcs.agents.Agent:{'trial': 0, 'steps_in_trial': 100, 'reward': 0.0, 'perf_time': 1.1940320000001066, 'population': 1498, 'numerosity': 1600, 'average_specificity': 8.653125, 'knowledge': 100.0}\n",
      "INFO:lcs.agents.Agent:{'trial': 200, 'steps_in_trial': 4, 'reward': 1484.0036104420547, 'perf_time': 0.051321600000164835, 'population': 1085, 'numerosity': 1600, 'average_specificity': 7.058125, 'knowledge': 100.0}\n",
      "INFO:lcs.agents.Agent:{'trial': 500, 'steps_in_trial': 5, 'reward': 1242.6811185590989, 'perf_time': 0.05487130000005891, 'population': 954, 'numerosity': 1600, 'average_specificity': 7.383125, 'knowledge': 99.31506849315068}\n",
      "INFO:lcs.agents.Agent:{'trial': 700, 'steps_in_trial': 3, 'reward': 1416.69933595584, 'perf_time': 0.018198900000015783, 'population': 888, 'numerosity': 1600, 'average_specificity': 7.556875, 'knowledge': 100.0}\n",
      "INFO:lcs.agents.Agent:{'trial': 1000, 'steps_in_trial': 4, 'reward': 1309.5258043729204, 'perf_time': 0.04450309999992896, 'population': 886, 'numerosity': 1600, 'average_specificity': 6.963125, 'knowledge': 99.31506849315068}\n",
      "INFO:lcs.agents.Agent:{'trial': 1200, 'steps_in_trial': 6, 'reward': 1138.191527893943, 'perf_time': 0.024286699999947814, 'population': 881, 'numerosity': 1600, 'average_specificity': 7.071875, 'knowledge': 100.0}\n",
      "INFO:lcs.agents.Agent:{'trial': 1500, 'steps_in_trial': 100, 'reward': 1.1780436209647452e-101, 'perf_time': 0.48217780000004495, 'population': 841, 'numerosity': 1600, 'average_specificity': 7.491875, 'knowledge': 98.63013698630137}\n",
      "INFO:lcs.agents.Agent:{'trial': 1700, 'steps_in_trial': 10, 'reward': 1035.1435445996078, 'perf_time': 0.07961400000021968, 'population': 727, 'numerosity': 1600, 'average_specificity': 6.818125, 'knowledge': 98.63013698630137}\n",
      "INFO:lcs.agents.Agent:{'trial': 2000, 'steps_in_trial': 2, 'reward': 1504.1, 'perf_time': 0.0074400000003151945, 'population': 695, 'numerosity': 1600, 'average_specificity': 6.64625, 'knowledge': 98.63013698630137}\n",
      "INFO:lcs.agents.Agent:{'trial': 2200, 'steps_in_trial': 2, 'reward': 1701.1361509771268, 'perf_time': 0.0099555000001601, 'population': 644, 'numerosity': 1600, 'average_specificity': 6.099375, 'knowledge': 96.57534246575342}\n"
     ]
    }
   ],
   "source": [
    "from utils.xcs_utils import avg_experiment as XCSExp\n",
    "from utils.nxcs_utils import avg_experiment as XNCSExp\n",
    "\n",
    "number_of_experiments = 3\n",
    "explore = 2000\n",
    "exploit = 500\n",
    "\n",
    "df_other = XNCSExp(\n",
    "    maze=maze,\n",
    "    cfg=XNCScfg,\n",
    "    number_of_tests=number_of_experiments,\n",
    "    explore_trials=0,\n",
    "    exploit_trials=exploit + explore,\n",
    "    pre_generate=True\n",
    "    )\n",
    "\n",
    "df = XCSExp(maze=maze,\n",
    "             cfg=XCScfg,\n",
    "             number_of_tests=number_of_experiments,\n",
    "             explore_trials=0,\n",
    "             exploit_trials=exploit + explore,\n",
    "             pre_generate=True\n",
    "           )\n",
    "\n"
   ]
  },
  {
   "cell_type": "code",
   "execution_count": 13,
   "metadata": {},
   "outputs": [
    {
     "data": {
      "text/html": [
       "<div>\n",
       "<style scoped>\n",
       "    .dataframe tbody tr th:only-of-type {\n",
       "        vertical-align: middle;\n",
       "    }\n",
       "\n",
       "    .dataframe tbody tr th {\n",
       "        vertical-align: top;\n",
       "    }\n",
       "\n",
       "    .dataframe thead th {\n",
       "        text-align: right;\n",
       "    }\n",
       "</style>\n",
       "<table border=\"1\" class=\"dataframe\">\n",
       "  <thead>\n",
       "    <tr style=\"text-align: right;\">\n",
       "      <th></th>\n",
       "      <th>steps_in_trial</th>\n",
       "      <th>reward</th>\n",
       "      <th>perf_time</th>\n",
       "      <th>population</th>\n",
       "      <th>numerosity</th>\n",
       "      <th>average_specificity</th>\n",
       "      <th>knowledge</th>\n",
       "      <th>steps_in_trial_other</th>\n",
       "      <th>population_other</th>\n",
       "      <th>numerosity_other</th>\n",
       "      <th>average_specificity_other</th>\n",
       "      <th>fraction_accuracy_other</th>\n",
       "      <th>knowledge_other</th>\n",
       "    </tr>\n",
       "    <tr>\n",
       "      <th>trial</th>\n",
       "      <th></th>\n",
       "      <th></th>\n",
       "      <th></th>\n",
       "      <th></th>\n",
       "      <th></th>\n",
       "      <th></th>\n",
       "      <th></th>\n",
       "      <th></th>\n",
       "      <th></th>\n",
       "      <th></th>\n",
       "      <th></th>\n",
       "      <th></th>\n",
       "      <th></th>\n",
       "    </tr>\n",
       "  </thead>\n",
       "  <tbody>\n",
       "    <tr>\n",
       "      <th>0</th>\n",
       "      <td>100.000000</td>\n",
       "      <td>0.000000</td>\n",
       "      <td>1.237642</td>\n",
       "      <td>1484.333333</td>\n",
       "      <td>1600.0</td>\n",
       "      <td>8.555208</td>\n",
       "      <td>100.000000</td>\n",
       "      <td>100.000000</td>\n",
       "      <td>1492.000000</td>\n",
       "      <td>1600.0</td>\n",
       "      <td>8.235833</td>\n",
       "      <td>0.966667</td>\n",
       "      <td>5.936073</td>\n",
       "    </tr>\n",
       "    <tr>\n",
       "      <th>100</th>\n",
       "      <td>37.000000</td>\n",
       "      <td>817.855486</td>\n",
       "      <td>0.307822</td>\n",
       "      <td>1128.333333</td>\n",
       "      <td>1600.0</td>\n",
       "      <td>6.960833</td>\n",
       "      <td>98.630137</td>\n",
       "      <td>7.000000</td>\n",
       "      <td>1249.666667</td>\n",
       "      <td>1600.0</td>\n",
       "      <td>7.300208</td>\n",
       "      <td>0.980000</td>\n",
       "      <td>5.936073</td>\n",
       "    </tr>\n",
       "    <tr>\n",
       "      <th>200</th>\n",
       "      <td>4.333333</td>\n",
       "      <td>1479.555014</td>\n",
       "      <td>0.047548</td>\n",
       "      <td>1049.666667</td>\n",
       "      <td>1600.0</td>\n",
       "      <td>6.975833</td>\n",
       "      <td>99.543379</td>\n",
       "      <td>6.333333</td>\n",
       "      <td>1179.000000</td>\n",
       "      <td>1600.0</td>\n",
       "      <td>6.977500</td>\n",
       "      <td>0.943333</td>\n",
       "      <td>5.251142</td>\n",
       "    </tr>\n",
       "    <tr>\n",
       "      <th>300</th>\n",
       "      <td>4.333333</td>\n",
       "      <td>1151.057454</td>\n",
       "      <td>0.062162</td>\n",
       "      <td>997.000000</td>\n",
       "      <td>1600.0</td>\n",
       "      <td>6.640000</td>\n",
       "      <td>99.315068</td>\n",
       "      <td>7.000000</td>\n",
       "      <td>1132.333333</td>\n",
       "      <td>1600.0</td>\n",
       "      <td>7.161250</td>\n",
       "      <td>0.826667</td>\n",
       "      <td>4.109589</td>\n",
       "    </tr>\n",
       "    <tr>\n",
       "      <th>400</th>\n",
       "      <td>6.666667</td>\n",
       "      <td>1153.438879</td>\n",
       "      <td>0.058114</td>\n",
       "      <td>956.333333</td>\n",
       "      <td>1600.0</td>\n",
       "      <td>6.878125</td>\n",
       "      <td>100.000000</td>\n",
       "      <td>19.000000</td>\n",
       "      <td>1125.333333</td>\n",
       "      <td>1600.0</td>\n",
       "      <td>7.486250</td>\n",
       "      <td>0.950000</td>\n",
       "      <td>3.652968</td>\n",
       "    </tr>\n",
       "    <tr>\n",
       "      <th>500</th>\n",
       "      <td>36.000000</td>\n",
       "      <td>867.115092</td>\n",
       "      <td>0.214088</td>\n",
       "      <td>926.333333</td>\n",
       "      <td>1600.0</td>\n",
       "      <td>6.642708</td>\n",
       "      <td>99.315068</td>\n",
       "      <td>6.333333</td>\n",
       "      <td>1090.000000</td>\n",
       "      <td>1600.0</td>\n",
       "      <td>7.615000</td>\n",
       "      <td>0.930000</td>\n",
       "      <td>3.424658</td>\n",
       "    </tr>\n",
       "    <tr>\n",
       "      <th>600</th>\n",
       "      <td>5.000000</td>\n",
       "      <td>1250.562672</td>\n",
       "      <td>0.029232</td>\n",
       "      <td>881.000000</td>\n",
       "      <td>1600.0</td>\n",
       "      <td>7.274167</td>\n",
       "      <td>100.000000</td>\n",
       "      <td>5.333333</td>\n",
       "      <td>1093.000000</td>\n",
       "      <td>1600.0</td>\n",
       "      <td>7.793125</td>\n",
       "      <td>0.936667</td>\n",
       "      <td>2.739726</td>\n",
       "    </tr>\n",
       "    <tr>\n",
       "      <th>700</th>\n",
       "      <td>5.000000</td>\n",
       "      <td>1234.467521</td>\n",
       "      <td>0.038874</td>\n",
       "      <td>852.000000</td>\n",
       "      <td>1600.0</td>\n",
       "      <td>6.706875</td>\n",
       "      <td>99.543379</td>\n",
       "      <td>26.666667</td>\n",
       "      <td>1111.666667</td>\n",
       "      <td>1600.0</td>\n",
       "      <td>8.144583</td>\n",
       "      <td>0.976667</td>\n",
       "      <td>3.424658</td>\n",
       "    </tr>\n",
       "    <tr>\n",
       "      <th>800</th>\n",
       "      <td>3.666667</td>\n",
       "      <td>1405.452969</td>\n",
       "      <td>0.031245</td>\n",
       "      <td>846.666667</td>\n",
       "      <td>1600.0</td>\n",
       "      <td>6.577083</td>\n",
       "      <td>99.543379</td>\n",
       "      <td>4.333333</td>\n",
       "      <td>1093.000000</td>\n",
       "      <td>1600.0</td>\n",
       "      <td>8.020625</td>\n",
       "      <td>0.980000</td>\n",
       "      <td>2.739726</td>\n",
       "    </tr>\n",
       "    <tr>\n",
       "      <th>900</th>\n",
       "      <td>7.000000</td>\n",
       "      <td>1140.513633</td>\n",
       "      <td>0.069188</td>\n",
       "      <td>833.333333</td>\n",
       "      <td>1600.0</td>\n",
       "      <td>6.358958</td>\n",
       "      <td>99.771689</td>\n",
       "      <td>69.333333</td>\n",
       "      <td>1077.000000</td>\n",
       "      <td>1600.0</td>\n",
       "      <td>8.296042</td>\n",
       "      <td>0.996667</td>\n",
       "      <td>2.511416</td>\n",
       "    </tr>\n",
       "    <tr>\n",
       "      <th>1000</th>\n",
       "      <td>10.666667</td>\n",
       "      <td>1110.575676</td>\n",
       "      <td>0.101012</td>\n",
       "      <td>824.666667</td>\n",
       "      <td>1600.0</td>\n",
       "      <td>6.568333</td>\n",
       "      <td>98.630137</td>\n",
       "      <td>3.666667</td>\n",
       "      <td>1072.333333</td>\n",
       "      <td>1600.0</td>\n",
       "      <td>8.950000</td>\n",
       "      <td>0.990000</td>\n",
       "      <td>2.968037</td>\n",
       "    </tr>\n",
       "    <tr>\n",
       "      <th>1100</th>\n",
       "      <td>6.666667</td>\n",
       "      <td>1145.643586</td>\n",
       "      <td>0.071593</td>\n",
       "      <td>810.000000</td>\n",
       "      <td>1600.0</td>\n",
       "      <td>6.761667</td>\n",
       "      <td>98.858447</td>\n",
       "      <td>5.333333</td>\n",
       "      <td>1081.333333</td>\n",
       "      <td>1600.0</td>\n",
       "      <td>8.156875</td>\n",
       "      <td>0.966667</td>\n",
       "      <td>2.739726</td>\n",
       "    </tr>\n",
       "    <tr>\n",
       "      <th>1200</th>\n",
       "      <td>7.666667</td>\n",
       "      <td>1099.519328</td>\n",
       "      <td>0.086582</td>\n",
       "      <td>814.333333</td>\n",
       "      <td>1600.0</td>\n",
       "      <td>6.631875</td>\n",
       "      <td>99.543379</td>\n",
       "      <td>6.000000</td>\n",
       "      <td>1069.333333</td>\n",
       "      <td>1600.0</td>\n",
       "      <td>8.265833</td>\n",
       "      <td>0.966667</td>\n",
       "      <td>2.968037</td>\n",
       "    </tr>\n",
       "    <tr>\n",
       "      <th>1300</th>\n",
       "      <td>63.666667</td>\n",
       "      <td>986.181956</td>\n",
       "      <td>0.301855</td>\n",
       "      <td>799.333333</td>\n",
       "      <td>1600.0</td>\n",
       "      <td>6.546875</td>\n",
       "      <td>100.000000</td>\n",
       "      <td>7.333333</td>\n",
       "      <td>1070.333333</td>\n",
       "      <td>1600.0</td>\n",
       "      <td>8.166667</td>\n",
       "      <td>0.840000</td>\n",
       "      <td>3.196347</td>\n",
       "    </tr>\n",
       "    <tr>\n",
       "      <th>1400</th>\n",
       "      <td>68.000000</td>\n",
       "      <td>418.038937</td>\n",
       "      <td>0.333535</td>\n",
       "      <td>794.666667</td>\n",
       "      <td>1600.0</td>\n",
       "      <td>6.223958</td>\n",
       "      <td>97.488584</td>\n",
       "      <td>36.333333</td>\n",
       "      <td>1051.000000</td>\n",
       "      <td>1600.0</td>\n",
       "      <td>8.268542</td>\n",
       "      <td>0.933333</td>\n",
       "      <td>3.196347</td>\n",
       "    </tr>\n",
       "    <tr>\n",
       "      <th>1500</th>\n",
       "      <td>69.333333</td>\n",
       "      <td>361.384052</td>\n",
       "      <td>0.329215</td>\n",
       "      <td>772.666667</td>\n",
       "      <td>1600.0</td>\n",
       "      <td>6.477500</td>\n",
       "      <td>99.086758</td>\n",
       "      <td>5.000000</td>\n",
       "      <td>1045.000000</td>\n",
       "      <td>1600.0</td>\n",
       "      <td>8.523125</td>\n",
       "      <td>0.956667</td>\n",
       "      <td>3.881279</td>\n",
       "    </tr>\n",
       "    <tr>\n",
       "      <th>1600</th>\n",
       "      <td>40.666667</td>\n",
       "      <td>692.075323</td>\n",
       "      <td>0.194672</td>\n",
       "      <td>734.000000</td>\n",
       "      <td>1600.0</td>\n",
       "      <td>6.291042</td>\n",
       "      <td>99.543379</td>\n",
       "      <td>34.666667</td>\n",
       "      <td>1065.666667</td>\n",
       "      <td>1600.0</td>\n",
       "      <td>8.604583</td>\n",
       "      <td>0.993333</td>\n",
       "      <td>4.109589</td>\n",
       "    </tr>\n",
       "    <tr>\n",
       "      <th>1700</th>\n",
       "      <td>9.000000</td>\n",
       "      <td>1051.560998</td>\n",
       "      <td>0.059908</td>\n",
       "      <td>710.000000</td>\n",
       "      <td>1600.0</td>\n",
       "      <td>6.237292</td>\n",
       "      <td>97.716895</td>\n",
       "      <td>6.666667</td>\n",
       "      <td>1064.666667</td>\n",
       "      <td>1600.0</td>\n",
       "      <td>8.953958</td>\n",
       "      <td>0.970000</td>\n",
       "      <td>3.196347</td>\n",
       "    </tr>\n",
       "    <tr>\n",
       "      <th>1800</th>\n",
       "      <td>5.333333</td>\n",
       "      <td>1272.851696</td>\n",
       "      <td>0.037196</td>\n",
       "      <td>702.666667</td>\n",
       "      <td>1600.0</td>\n",
       "      <td>6.112917</td>\n",
       "      <td>100.000000</td>\n",
       "      <td>24.666667</td>\n",
       "      <td>1045.000000</td>\n",
       "      <td>1600.0</td>\n",
       "      <td>8.628125</td>\n",
       "      <td>0.960000</td>\n",
       "      <td>2.739726</td>\n",
       "    </tr>\n",
       "    <tr>\n",
       "      <th>1900</th>\n",
       "      <td>23.000000</td>\n",
       "      <td>1106.977237</td>\n",
       "      <td>0.136973</td>\n",
       "      <td>688.333333</td>\n",
       "      <td>1600.0</td>\n",
       "      <td>6.136875</td>\n",
       "      <td>98.630137</td>\n",
       "      <td>16.666667</td>\n",
       "      <td>1045.333333</td>\n",
       "      <td>1600.0</td>\n",
       "      <td>8.392083</td>\n",
       "      <td>0.990000</td>\n",
       "      <td>3.196347</td>\n",
       "    </tr>\n",
       "    <tr>\n",
       "      <th>2000</th>\n",
       "      <td>43.333333</td>\n",
       "      <td>834.700000</td>\n",
       "      <td>0.170842</td>\n",
       "      <td>689.000000</td>\n",
       "      <td>1600.0</td>\n",
       "      <td>6.124792</td>\n",
       "      <td>98.401826</td>\n",
       "      <td>39.666667</td>\n",
       "      <td>1050.000000</td>\n",
       "      <td>1600.0</td>\n",
       "      <td>8.095833</td>\n",
       "      <td>0.966667</td>\n",
       "      <td>3.424658</td>\n",
       "    </tr>\n",
       "    <tr>\n",
       "      <th>2100</th>\n",
       "      <td>4.333333</td>\n",
       "      <td>1163.360331</td>\n",
       "      <td>0.026712</td>\n",
       "      <td>670.333333</td>\n",
       "      <td>1600.0</td>\n",
       "      <td>6.119167</td>\n",
       "      <td>99.543379</td>\n",
       "      <td>36.333333</td>\n",
       "      <td>1059.666667</td>\n",
       "      <td>1600.0</td>\n",
       "      <td>8.376250</td>\n",
       "      <td>0.996667</td>\n",
       "      <td>3.424658</td>\n",
       "    </tr>\n",
       "    <tr>\n",
       "      <th>2200</th>\n",
       "      <td>9.000000</td>\n",
       "      <td>1259.295963</td>\n",
       "      <td>0.047323</td>\n",
       "      <td>652.666667</td>\n",
       "      <td>1600.0</td>\n",
       "      <td>6.328333</td>\n",
       "      <td>98.401826</td>\n",
       "      <td>7.000000</td>\n",
       "      <td>1041.000000</td>\n",
       "      <td>1600.0</td>\n",
       "      <td>7.813125</td>\n",
       "      <td>0.863333</td>\n",
       "      <td>3.196347</td>\n",
       "    </tr>\n",
       "    <tr>\n",
       "      <th>2300</th>\n",
       "      <td>10.333333</td>\n",
       "      <td>1142.920166</td>\n",
       "      <td>0.068638</td>\n",
       "      <td>654.333333</td>\n",
       "      <td>1600.0</td>\n",
       "      <td>6.350000</td>\n",
       "      <td>97.716895</td>\n",
       "      <td>7.666667</td>\n",
       "      <td>1034.333333</td>\n",
       "      <td>1600.0</td>\n",
       "      <td>7.932500</td>\n",
       "      <td>0.996667</td>\n",
       "      <td>2.739726</td>\n",
       "    </tr>\n",
       "    <tr>\n",
       "      <th>2400</th>\n",
       "      <td>7.000000</td>\n",
       "      <td>1127.863666</td>\n",
       "      <td>0.032243</td>\n",
       "      <td>636.666667</td>\n",
       "      <td>1600.0</td>\n",
       "      <td>7.146667</td>\n",
       "      <td>99.771689</td>\n",
       "      <td>4.000000</td>\n",
       "      <td>1034.000000</td>\n",
       "      <td>1600.0</td>\n",
       "      <td>8.160417</td>\n",
       "      <td>0.990000</td>\n",
       "      <td>2.739726</td>\n",
       "    </tr>\n",
       "  </tbody>\n",
       "</table>\n",
       "</div>"
      ],
      "text/plain": [
       "       steps_in_trial       reward  perf_time   population  numerosity  \\\n",
       "trial                                                                    \n",
       "0          100.000000     0.000000   1.237642  1484.333333      1600.0   \n",
       "100         37.000000   817.855486   0.307822  1128.333333      1600.0   \n",
       "200          4.333333  1479.555014   0.047548  1049.666667      1600.0   \n",
       "300          4.333333  1151.057454   0.062162   997.000000      1600.0   \n",
       "400          6.666667  1153.438879   0.058114   956.333333      1600.0   \n",
       "500         36.000000   867.115092   0.214088   926.333333      1600.0   \n",
       "600          5.000000  1250.562672   0.029232   881.000000      1600.0   \n",
       "700          5.000000  1234.467521   0.038874   852.000000      1600.0   \n",
       "800          3.666667  1405.452969   0.031245   846.666667      1600.0   \n",
       "900          7.000000  1140.513633   0.069188   833.333333      1600.0   \n",
       "1000        10.666667  1110.575676   0.101012   824.666667      1600.0   \n",
       "1100         6.666667  1145.643586   0.071593   810.000000      1600.0   \n",
       "1200         7.666667  1099.519328   0.086582   814.333333      1600.0   \n",
       "1300        63.666667   986.181956   0.301855   799.333333      1600.0   \n",
       "1400        68.000000   418.038937   0.333535   794.666667      1600.0   \n",
       "1500        69.333333   361.384052   0.329215   772.666667      1600.0   \n",
       "1600        40.666667   692.075323   0.194672   734.000000      1600.0   \n",
       "1700         9.000000  1051.560998   0.059908   710.000000      1600.0   \n",
       "1800         5.333333  1272.851696   0.037196   702.666667      1600.0   \n",
       "1900        23.000000  1106.977237   0.136973   688.333333      1600.0   \n",
       "2000        43.333333   834.700000   0.170842   689.000000      1600.0   \n",
       "2100         4.333333  1163.360331   0.026712   670.333333      1600.0   \n",
       "2200         9.000000  1259.295963   0.047323   652.666667      1600.0   \n",
       "2300        10.333333  1142.920166   0.068638   654.333333      1600.0   \n",
       "2400         7.000000  1127.863666   0.032243   636.666667      1600.0   \n",
       "\n",
       "       average_specificity   knowledge  steps_in_trial_other  \\\n",
       "trial                                                          \n",
       "0                 8.555208  100.000000            100.000000   \n",
       "100               6.960833   98.630137              7.000000   \n",
       "200               6.975833   99.543379              6.333333   \n",
       "300               6.640000   99.315068              7.000000   \n",
       "400               6.878125  100.000000             19.000000   \n",
       "500               6.642708   99.315068              6.333333   \n",
       "600               7.274167  100.000000              5.333333   \n",
       "700               6.706875   99.543379             26.666667   \n",
       "800               6.577083   99.543379              4.333333   \n",
       "900               6.358958   99.771689             69.333333   \n",
       "1000              6.568333   98.630137              3.666667   \n",
       "1100              6.761667   98.858447              5.333333   \n",
       "1200              6.631875   99.543379              6.000000   \n",
       "1300              6.546875  100.000000              7.333333   \n",
       "1400              6.223958   97.488584             36.333333   \n",
       "1500              6.477500   99.086758              5.000000   \n",
       "1600              6.291042   99.543379             34.666667   \n",
       "1700              6.237292   97.716895              6.666667   \n",
       "1800              6.112917  100.000000             24.666667   \n",
       "1900              6.136875   98.630137             16.666667   \n",
       "2000              6.124792   98.401826             39.666667   \n",
       "2100              6.119167   99.543379             36.333333   \n",
       "2200              6.328333   98.401826              7.000000   \n",
       "2300              6.350000   97.716895              7.666667   \n",
       "2400              7.146667   99.771689              4.000000   \n",
       "\n",
       "       population_other  numerosity_other  average_specificity_other  \\\n",
       "trial                                                                  \n",
       "0           1492.000000            1600.0                   8.235833   \n",
       "100         1249.666667            1600.0                   7.300208   \n",
       "200         1179.000000            1600.0                   6.977500   \n",
       "300         1132.333333            1600.0                   7.161250   \n",
       "400         1125.333333            1600.0                   7.486250   \n",
       "500         1090.000000            1600.0                   7.615000   \n",
       "600         1093.000000            1600.0                   7.793125   \n",
       "700         1111.666667            1600.0                   8.144583   \n",
       "800         1093.000000            1600.0                   8.020625   \n",
       "900         1077.000000            1600.0                   8.296042   \n",
       "1000        1072.333333            1600.0                   8.950000   \n",
       "1100        1081.333333            1600.0                   8.156875   \n",
       "1200        1069.333333            1600.0                   8.265833   \n",
       "1300        1070.333333            1600.0                   8.166667   \n",
       "1400        1051.000000            1600.0                   8.268542   \n",
       "1500        1045.000000            1600.0                   8.523125   \n",
       "1600        1065.666667            1600.0                   8.604583   \n",
       "1700        1064.666667            1600.0                   8.953958   \n",
       "1800        1045.000000            1600.0                   8.628125   \n",
       "1900        1045.333333            1600.0                   8.392083   \n",
       "2000        1050.000000            1600.0                   8.095833   \n",
       "2100        1059.666667            1600.0                   8.376250   \n",
       "2200        1041.000000            1600.0                   7.813125   \n",
       "2300        1034.333333            1600.0                   7.932500   \n",
       "2400        1034.000000            1600.0                   8.160417   \n",
       "\n",
       "       fraction_accuracy_other  knowledge_other  \n",
       "trial                                            \n",
       "0                     0.966667         5.936073  \n",
       "100                   0.980000         5.936073  \n",
       "200                   0.943333         5.251142  \n",
       "300                   0.826667         4.109589  \n",
       "400                   0.950000         3.652968  \n",
       "500                   0.930000         3.424658  \n",
       "600                   0.936667         2.739726  \n",
       "700                   0.976667         3.424658  \n",
       "800                   0.980000         2.739726  \n",
       "900                   0.996667         2.511416  \n",
       "1000                  0.990000         2.968037  \n",
       "1100                  0.966667         2.739726  \n",
       "1200                  0.966667         2.968037  \n",
       "1300                  0.840000         3.196347  \n",
       "1400                  0.933333         3.196347  \n",
       "1500                  0.956667         3.881279  \n",
       "1600                  0.993333         4.109589  \n",
       "1700                  0.970000         3.196347  \n",
       "1800                  0.960000         2.739726  \n",
       "1900                  0.990000         3.196347  \n",
       "2000                  0.966667         3.424658  \n",
       "2100                  0.996667         3.424658  \n",
       "2200                  0.863333         3.196347  \n",
       "2300                  0.996667         2.739726  \n",
       "2400                  0.990000         2.739726  "
      ]
     },
     "metadata": {},
     "output_type": "display_data"
    }
   ],
   "source": [
    "df['steps_in_trial_other']=df_other['steps_in_trial']\n",
    "df['population_other']=df_other['population']\n",
    "df['numerosity_other']=df_other['numerosity']\n",
    "df['average_specificity_other']=df_other['average_specificity']\n",
    "df['fraction_accuracy_other']=df_other['fraction_accuracy']\n",
    "df['knowledge_other']=df_other['knowledge']\n",
    "\n",
    "display(df)"
   ]
  },
  {
   "cell_type": "code",
   "execution_count": 6,
   "metadata": {},
   "outputs": [
    {
     "data": {
      "text/plain": [
       "<matplotlib.legend.Legend at 0x16e9ae57c48>"
      ]
     },
     "execution_count": 6,
     "metadata": {},
     "output_type": "execute_result"
    },
    {
     "data": {
      "image/png": "[encoded data removed]",
      "text/plain": [
       "<Figure size 432x288 with 1 Axes>"
      ]
     },
     "metadata": {
      "needs_background": "light"
     },
     "output_type": "display_data"
    }
   ],
   "source": [
    "import pandas as pd\n",
    "import numpy as np\n",
    "\n",
    "ax = df[['average_specificity', \"average_specificity_other\"]].plot()\n",
    "ax.set_xlabel(\"trial\")\n",
    "ax.set_ylabel(\"average_specificity\")\n",
    "ax.legend([\"XCS\",\"XNCS\"])"
   ]
  },
  {
   "cell_type": "code",
   "execution_count": 7,
   "metadata": {},
   "outputs": [
    {
     "data": {
      "text/plain": [
       "<matplotlib.legend.Legend at 0x16e9d09d248>"
      ]
     },
     "execution_count": 7,
     "metadata": {},
     "output_type": "execute_result"
    },
    {
     "data": {
      "image/png": "[encoded data removed]",
      "text/plain": [
       "<Figure size 432x288 with 1 Axes>"
      ]
     },
     "metadata": {
      "needs_background": "light"
     },
     "output_type": "display_data"
    }
   ],
   "source": [
    "ax = df[\"fraction_accuracy_other\"].plot()\n",
    "ax.set_xlabel(\"trial\")\n",
    "ax.set_ylabel(\"fraction accuracy\")\n",
    "ax.legend([\"XCS\",\"XNCS\"])"
   ]
  },
  {
   "cell_type": "code",
   "execution_count": 8,
   "metadata": {},
   "outputs": [
    {
     "data": {
      "text/plain": [
       "<matplotlib.legend.Legend at 0x16e9d115fc8>"
      ]
     },
     "execution_count": 8,
     "metadata": {},
     "output_type": "execute_result"
    },
    {
     "data": {
      "image/png": "[encoded data removed]",
      "text/plain": [
       "<Figure size 432x288 with 1 Axes>"
      ]
     },
     "metadata": {
      "needs_background": "light"
     },
     "output_type": "display_data"
    }
   ],
   "source": [
    "ax = df[['numerosity', 'numerosity_other']].plot()\n",
    "ax.set_xlabel(\"trial\")\n",
    "ax.set_ylabel(\"numerosity\")\n",
    "ax.legend([\"numerosity\", \"number of rules\"])"
   ]
  },
  {
   "cell_type": "code",
   "execution_count": 9,
   "metadata": {},
   "outputs": [
    {
     "data": {
      "text/plain": [
       "<matplotlib.legend.Legend at 0x16e9d1549c8>"
      ]
     },
     "execution_count": 9,
     "metadata": {},
     "output_type": "execute_result"
    },
    {
     "data": {
      "image/png": "[encoded data removed]",
      "text/plain": [
       "<Figure size 432x288 with 1 Axes>"
      ]
     },
     "metadata": {
      "needs_background": "light"
     },
     "output_type": "display_data"
    }
   ],
   "source": [
    "ax = df[['population', \"population_other\"]].plot()\n",
    "ax.set_xlabel(\"trial\")\n",
    "ax.set_ylabel(\"population\")\n",
    "ax.legend([\"XCS\",\"XNCS\"])"
   ]
  },
  {
   "cell_type": "code",
   "execution_count": 12,
   "metadata": {},
   "outputs": [
    {
     "data": {
      "text/plain": [
       "<matplotlib.legend.Legend at 0x16e9d24eec8>"
      ]
     },
     "execution_count": 12,
     "metadata": {},
     "output_type": "execute_result"
    },
    {
     "data": {
      "image/png": "[encoded data removed]",
      "text/plain": [
       "<Figure size 432x288 with 1 Axes>"
      ]
     },
     "metadata": {
      "needs_background": "light"
     },
     "output_type": "display_data"
    }
   ],
   "source": [
    "ax = df['knowledge'].plot()\n",
    "ax.set_xlabel(\"trial\")\n",
    "ax.set_ylabel(\"Knowledge\")\n",
    "ax.legend([\"XCS\"])"
   ]
  },
  {
   "cell_type": "code",
   "execution_count": 14,
   "metadata": {},
   "outputs": [
    {
     "data": {
      "text/plain": [
       "<matplotlib.legend.Legend at 0x16e9d303808>"
      ]
     },
     "execution_count": 14,
     "metadata": {},
     "output_type": "execute_result"
    },
    {
     "data": {
      "image/png": "[encoded data removed]",
      "text/plain": [
       "<Figure size 432x288 with 1 Axes>"
      ]
     },
     "metadata": {
      "needs_background": "light"
     },
     "output_type": "display_data"
    }
   ],
   "source": [
    "ax = df['knowledge_other'].plot()\n",
    "ax.set_xlabel(\"trial\")\n",
    "ax.set_ylabel(\"Knowledge\")\n",
    "ax.legend([\"XNCS\"])"
   ]
  },
  {
   "cell_type": "code",
   "execution_count": 10,
   "metadata": {},
   "outputs": [
    {
     "data": {
      "text/plain": [
       "<matplotlib.legend.Legend at 0x16e9d1d8508>"
      ]
     },
     "execution_count": 10,
     "metadata": {},
     "output_type": "execute_result"
    },
    {
     "data": {
      "image/png": "[encoded data removed]",
      "text/plain": [
       "<Figure size 432x288 with 1 Axes>"
      ]
     },
     "metadata": {
      "needs_background": "light"
     },
     "output_type": "display_data"
    }
   ],
   "source": [
    "ax = df[['steps_in_trial', 'steps_in_trial_other']].plot()\n",
    "ax.set_xlabel(\"trial\")\n",
    "ax.set_ylabel(\"steps in trial\")\n",
    "ax.legend([\"XCS\",\"XNCS\"])"
   ]
  },
  {
   "cell_type": "code",
   "execution_count": 11,
   "metadata": {},
   "outputs": [
    {
     "name": "stdout",
     "output_type": "stream",
     "text": [
      "195.6666666666667\n",
      "164.11111111111111\n"
     ]
    }
   ],
   "source": [
    "print(sum(df[\"steps_in_trial\"])/number_of_experiments)\n",
    "print(sum(df[\"steps_in_trial_other\"])/number_of_experiments)"
   ]
  }
 ],
 "metadata": {
  "kernelspec": {
   "display_name": "Python 3",
   "language": "python",
   "name": "python3"
  },
  "language_info": {
   "codemirror_mode": {
    "name": "ipython",
    "version": 3
   },
   "file_extension": ".py",
   "mimetype": "text/x-python",
   "name": "python",
   "nbconvert_exporter": "python",
   "pygments_lexer": "ipython3",
   "version": "3.7.10"
  }
 },
 "nbformat": 4,
 "nbformat_minor": 1
}
