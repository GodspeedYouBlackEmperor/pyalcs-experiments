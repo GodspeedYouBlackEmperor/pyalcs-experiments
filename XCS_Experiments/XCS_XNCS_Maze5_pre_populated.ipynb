{
 "cells": [
  {
   "cell_type": "code",
   "execution_count": 1,
   "metadata": {},
   "outputs": [],
   "source": [
    "# logging \n",
    "import logging\n",
    "logging.basicConfig(level=logging.INFO)\n",
    "logger = logging.getLogger(__name__)\n"
   ]
  },
  {
   "cell_type": "code",
   "execution_count": 2,
   "metadata": {},
   "outputs": [
    {
     "name": "stdout",
     "output_type": "stream",
     "text": [
      "This is how maze looks like\n",
      "<class 'tuple'>\n",
      "('0', '0', '1', '0', '0', '0', '1', '0')\n",
      "\n",
      "\u001b[30m■\u001b[0m \u001b[30m■\u001b[0m \u001b[30m■\u001b[0m \u001b[30m■\u001b[0m \u001b[30m■\u001b[0m \u001b[30m■\u001b[0m \u001b[30m■\u001b[0m \u001b[30m■\u001b[0m \u001b[30m■\u001b[0m\n",
      "\u001b[30m■\u001b[0m \u001b[37m□\u001b[0m \u001b[37m□\u001b[0m \u001b[37m□\u001b[0m \u001b[37m□\u001b[0m \u001b[37m□\u001b[0m \u001b[37m□\u001b[0m \u001b[33m$\u001b[0m \u001b[30m■\u001b[0m\n",
      "\u001b[30m■\u001b[0m \u001b[37m□\u001b[0m \u001b[37m□\u001b[0m \u001b[30m■\u001b[0m \u001b[31mA\u001b[0m \u001b[30m■\u001b[0m \u001b[30m■\u001b[0m \u001b[37m□\u001b[0m \u001b[30m■\u001b[0m\n",
      "\u001b[30m■\u001b[0m \u001b[37m□\u001b[0m \u001b[30m■\u001b[0m \u001b[37m□\u001b[0m \u001b[37m□\u001b[0m \u001b[37m□\u001b[0m \u001b[37m□\u001b[0m \u001b[37m□\u001b[0m \u001b[30m■\u001b[0m\n",
      "\u001b[30m■\u001b[0m \u001b[37m□\u001b[0m \u001b[37m□\u001b[0m \u001b[37m□\u001b[0m \u001b[30m■\u001b[0m \u001b[30m■\u001b[0m \u001b[37m□\u001b[0m \u001b[37m□\u001b[0m \u001b[30m■\u001b[0m\n",
      "\u001b[30m■\u001b[0m \u001b[37m□\u001b[0m \u001b[30m■\u001b[0m \u001b[37m□\u001b[0m \u001b[30m■\u001b[0m \u001b[37m□\u001b[0m \u001b[37m□\u001b[0m \u001b[30m■\u001b[0m \u001b[30m■\u001b[0m\n",
      "\u001b[30m■\u001b[0m \u001b[37m□\u001b[0m \u001b[30m■\u001b[0m \u001b[37m□\u001b[0m \u001b[37m□\u001b[0m \u001b[30m■\u001b[0m \u001b[37m□\u001b[0m \u001b[37m□\u001b[0m \u001b[30m■\u001b[0m\n",
      "\u001b[30m■\u001b[0m \u001b[37m□\u001b[0m \u001b[37m□\u001b[0m \u001b[37m□\u001b[0m \u001b[37m□\u001b[0m \u001b[37m□\u001b[0m \u001b[30m■\u001b[0m \u001b[37m□\u001b[0m \u001b[30m■\u001b[0m\n",
      "\u001b[30m■\u001b[0m \u001b[30m■\u001b[0m \u001b[30m■\u001b[0m \u001b[30m■\u001b[0m \u001b[30m■\u001b[0m \u001b[30m■\u001b[0m \u001b[30m■\u001b[0m \u001b[30m■\u001b[0m \u001b[30m■\u001b[0m\n"
     ]
    }
   ],
   "source": [
    "# environment setup\n",
    "import gym\n",
    "# noinspection PyUnresolvedReferences\n",
    "import gym_maze\n",
    "\n",
    "maze = gym.make('Maze5-v0')\n",
    "print(\"This is how maze looks like\")\n",
    "situation = maze.reset()\n",
    "print(type(situation))\n",
    "print(situation)\n",
    "maze.render()\n"
   ]
  },
  {
   "cell_type": "code",
   "execution_count": 3,
   "metadata": {},
   "outputs": [],
   "source": [
    "from lcs.agents.xcs import XCS\n",
    "from lcs.agents.xcs import Configuration as XCSConfig\n",
    "from lcs.agents.xncs import XNCS\n",
    "from lcs.agents.xncs import Configuration as XNCSConfig\n",
    "\n",
    "from utils.xcs_utils import xcs_metrics\n",
    "from utils.nxcs_utils import xncs_metrics\n",
    "\n",
    "XCScfg = XCSConfig(number_of_actions=8,\n",
    "                    max_population=1600,\n",
    "                    learning_rate=0.2,\n",
    "                    alpha=0.1,\n",
    "                    gamma=0.71,\n",
    "                    mutation_chance=0.01,\n",
    "                    delta=0.1,\n",
    "                    ga_threshold=25,\n",
    "                    covering_wildcard_chance = 0.7,\n",
    "                    chi=1,      # crossover\n",
    "                    metrics_trial_frequency=100,\n",
    "                    initial_prediction =10,  # p_i\n",
    "                    initial_error = 0,  # epsilon_i\n",
    "                    initial_fitness = 10,  # f_i\n",
    "                    user_metrics_collector_fcn=xcs_metrics)\n",
    "\n",
    "XNCScfg = XNCSConfig(number_of_actions=8,\n",
    "                    max_population=1600,\n",
    "                    learning_rate=0.2,\n",
    "                    alpha=0.1,\n",
    "                    gamma=0.71,\n",
    "                    mutation_chance=0.01,\n",
    "                    delta=0.1,\n",
    "                    ga_threshold=25,\n",
    "                    covering_wildcard_chance = 0.7,\n",
    "                    chi=1,      # crossover\n",
    "                    metrics_trial_frequency=100,\n",
    "                    initial_prediction =10,  # p_i\n",
    "                    initial_error = 0.1,  # epsilon_i\n",
    "                    initial_fitness = 10,  # f_i\n",
    "                    user_metrics_collector_fcn=xncs_metrics,\n",
    "                    lmc=10,\n",
    "                    lem=100)\n"
   ]
  },
  {
   "cell_type": "code",
   "execution_count": 4,
   "metadata": {
    "scrolled": true
   },
   "outputs": [
    {
     "name": "stdout",
     "output_type": "stream",
     "text": [
      "Executing 0 experiment\n"
     ]
    },
    {
     "name": "stderr",
     "output_type": "stream",
     "text": [
      "INFO:lcs.agents.Agent:{'trial': 0, 'steps_in_trial': 100, 'reward': 0.0, 'perf_time': 1.2710486000000003, 'population': 1494, 'numerosity': 1600, 'average_specificity': 7.789375}\n",
      "INFO:lcs.agents.Agent:{'trial': 200, 'steps_in_trial': 6, 'reward': 1158.2183271550452, 'perf_time': 0.06356459999999942, 'population': 900, 'numerosity': 1600, 'average_specificity': 6.43125}\n",
      "INFO:lcs.agents.Agent:{'trial': 500, 'steps_in_trial': 71, 'reward': 1000.0000000275006, 'perf_time': 0.4300088000000031, 'population': 850, 'numerosity': 1600, 'average_specificity': 5.973125}\n",
      "INFO:lcs.agents.Agent:{'trial': 700, 'steps_in_trial': 11, 'reward': 1023.1122292121702, 'perf_time': 0.077508899999998, 'population': 791, 'numerosity': 1600, 'average_specificity': 6.88}\n",
      "INFO:lcs.agents.Agent:{'trial': 1000, 'steps_in_trial': 61, 'reward': 1000.000000865112, 'perf_time': 0.3234722999999917, 'population': 797, 'numerosity': 1600, 'average_specificity': 6.780625}\n",
      "INFO:lcs.agents.Agent:{'trial': 1200, 'steps_in_trial': 3, 'reward': 1390.7327132040612, 'perf_time': 0.018558599999991543, 'population': 701, 'numerosity': 1600, 'average_specificity': 5.6825}\n",
      "INFO:lcs.agents.Agent:{'trial': 1500, 'steps_in_trial': 12, 'reward': 1017.2630887499168, 'perf_time': 0.08815830000000346, 'population': 658, 'numerosity': 1600, 'average_specificity': 6.769375}\n",
      "INFO:lcs.agents.Agent:{'trial': 1700, 'steps_in_trial': 1, 'reward': 1729.862899894334, 'perf_time': 0.0026914999999974043, 'population': 620, 'numerosity': 1600, 'average_specificity': 6.153125}\n",
      "INFO:lcs.agents.Agent:{'trial': 2000, 'steps_in_trial': 9, 'reward': 1073.7135270512224, 'perf_time': 0.08181700000000092, 'population': 613, 'numerosity': 1600, 'average_specificity': 5.991875}\n",
      "INFO:lcs.agents.Agent:{'trial': 2200, 'steps_in_trial': 3, 'reward': 1375.2111181568766, 'perf_time': 0.007632499999999709, 'population': 556, 'numerosity': 1600, 'average_specificity': 6.055625}\n"
     ]
    },
    {
     "name": "stdout",
     "output_type": "stream",
     "text": [
      "Executing 1 experiment\n"
     ]
    },
    {
     "name": "stderr",
     "output_type": "stream",
     "text": [
      "INFO:lcs.agents.Agent:{'trial': 0, 'steps_in_trial': 100, 'reward': 0.0, 'perf_time': 1.179087399999986, 'population': 1491, 'numerosity': 1600, 'average_specificity': 8.620625}\n",
      "INFO:lcs.agents.Agent:{'trial': 200, 'steps_in_trial': 7, 'reward': 1097.3862870497821, 'perf_time': 0.09056069999996907, 'population': 1085, 'numerosity': 1600, 'average_specificity': 7.23125}\n",
      "INFO:lcs.agents.Agent:{'trial': 500, 'steps_in_trial': 9, 'reward': 1000.0000000000001, 'perf_time': 0.06897590000005493, 'population': 892, 'numerosity': 1600, 'average_specificity': 6.675}\n",
      "INFO:lcs.agents.Agent:{'trial': 700, 'steps_in_trial': 5, 'reward': 1227.0237951693728, 'perf_time': 0.01829409999999143, 'population': 866, 'numerosity': 1600, 'average_specificity': 7.424375}\n",
      "INFO:lcs.agents.Agent:{'trial': 1000, 'steps_in_trial': 9, 'reward': 1056.6759190834005, 'perf_time': 0.07393160000003718, 'population': 781, 'numerosity': 1600, 'average_specificity': 6.523125}\n",
      "INFO:lcs.agents.Agent:{'trial': 1200, 'steps_in_trial': 6, 'reward': 1135.3167580189095, 'perf_time': 0.019555900000000292, 'population': 748, 'numerosity': 1600, 'average_specificity': 6.675}\n",
      "INFO:lcs.agents.Agent:{'trial': 1500, 'steps_in_trial': 10, 'reward': 1033.6307181401153, 'perf_time': 0.04778399999997873, 'population': 707, 'numerosity': 1600, 'average_specificity': 5.546875}\n",
      "INFO:lcs.agents.Agent:{'trial': 1700, 'steps_in_trial': 8, 'reward': 1064.5785419276226, 'perf_time': 0.06598170000000891, 'population': 664, 'numerosity': 1600, 'average_specificity': 5.653125}\n",
      "INFO:lcs.agents.Agent:{'trial': 2000, 'steps_in_trial': 100, 'reward': 2.385089144282033e-42, 'perf_time': 0.3602458000000297, 'population': 622, 'numerosity': 1600, 'average_specificity': 6.10375}\n",
      "INFO:lcs.agents.Agent:{'trial': 2200, 'steps_in_trial': 4, 'reward': 1254.11681, 'perf_time': 0.02145810000001802, 'population': 624, 'numerosity': 1600, 'average_specificity': 6.5175}\n"
     ]
    },
    {
     "name": "stdout",
     "output_type": "stream",
     "text": [
      "Executing 2 experiment\n"
     ]
    },
    {
     "name": "stderr",
     "output_type": "stream",
     "text": [
      "INFO:lcs.agents.Agent:{'trial': 0, 'steps_in_trial': 91, 'reward': 1000.0, 'perf_time': 1.095884300000023, 'population': 1515, 'numerosity': 1600, 'average_specificity': 8.685}\n",
      "INFO:lcs.agents.Agent:{'trial': 200, 'steps_in_trial': 5, 'reward': 1180.4229351000113, 'perf_time': 0.026216400000066642, 'population': 1062, 'numerosity': 1600, 'average_specificity': 7.4875}\n",
      "INFO:lcs.agents.Agent:{'trial': 500, 'steps_in_trial': 6, 'reward': 1131.3715399700018, 'perf_time': 0.03167529999996077, 'population': 930, 'numerosity': 1600, 'average_specificity': 7.179375}\n",
      "INFO:lcs.agents.Agent:{'trial': 700, 'steps_in_trial': 11, 'reward': 1023.1122292121702, 'perf_time': 0.10280869999996867, 'population': 882, 'numerosity': 1600, 'average_specificity': 6.610625}\n",
      "INFO:lcs.agents.Agent:{'trial': 1000, 'steps_in_trial': 5, 'reward': 1195.3400283078952, 'perf_time': 0.05024909999997362, 'population': 823, 'numerosity': 1600, 'average_specificity': 5.84125}\n",
      "INFO:lcs.agents.Agent:{'trial': 1200, 'steps_in_trial': 5, 'reward': 1186.2961410601845, 'perf_time': 0.04327710000006846, 'population': 833, 'numerosity': 1600, 'average_specificity': 6.45}\n",
      "INFO:lcs.agents.Agent:{'trial': 1500, 'steps_in_trial': 1, 'reward': 1808.6675108771828, 'perf_time': 0.010038499999950545, 'population': 829, 'numerosity': 1600, 'average_specificity': 6.44}\n",
      "INFO:lcs.agents.Agent:{'trial': 1700, 'steps_in_trial': 1, 'reward': 2035.1889101105862, 'perf_time': 0.003355000000055952, 'population': 758, 'numerosity': 1600, 'average_specificity': 6.275}\n",
      "INFO:lcs.agents.Agent:{'trial': 2000, 'steps_in_trial': 10, 'reward': 1000.0, 'perf_time': 0.08670639999991181, 'population': 744, 'numerosity': 1600, 'average_specificity': 6.1025}\n",
      "INFO:lcs.agents.Agent:{'trial': 2200, 'steps_in_trial': 3, 'reward': 1407.9294769496128, 'perf_time': 0.042373099999963415, 'population': 695, 'numerosity': 1600, 'average_specificity': 6.086875}\n"
     ]
    },
    {
     "name": "stdout",
     "output_type": "stream",
     "text": [
      "Executing 0 experiment\n"
     ]
    },
    {
     "name": "stderr",
     "output_type": "stream",
     "text": [
      "INFO:lcs.agents.Agent:{'trial': 0, 'steps_in_trial': 100, 'reward': 0.0, 'perf_time': 1.7359029000000419, 'numerosity': 1600, 'population': 1509, 'average_specificity': 7.898125, 'fraction_accuracy': 0.99}\n",
      "INFO:lcs.agents.Agent:{'trial': 200, 'steps_in_trial': 9, 'reward': 1046.1267667462541, 'perf_time': 0.08384309999996731, 'numerosity': 1600, 'population': 1081, 'average_specificity': 6.18875, 'fraction_accuracy': 0.95}\n",
      "INFO:lcs.agents.Agent:{'trial': 500, 'steps_in_trial': 67, 'reward': 1000.0000001277459, 'perf_time': 0.595331500000043, 'numerosity': 1600, 'population': 977, 'average_specificity': 6.701875, 'fraction_accuracy': 0.96}\n",
      "INFO:lcs.agents.Agent:{'trial': 700, 'steps_in_trial': 15, 'reward': 1005.908325694025, 'perf_time': 0.1900277999999389, 'numerosity': 1600, 'population': 1003, 'average_specificity': 6.464375, 'fraction_accuracy': 0.96}\n",
      "INFO:lcs.agents.Agent:{'trial': 1000, 'steps_in_trial': 11, 'reward': 1025.166530254844, 'perf_time': 0.08777309999993577, 'numerosity': 1600, 'population': 1023, 'average_specificity': 7.20125, 'fraction_accuracy': 1.0}\n",
      "INFO:lcs.agents.Agent:{'trial': 1200, 'steps_in_trial': 12, 'reward': 1022.3604291929836, 'perf_time': 0.14745940000000246, 'numerosity': 1600, 'population': 1045, 'average_specificity': 7.266875, 'fraction_accuracy': 0.99}\n",
      "INFO:lcs.agents.Agent:{'trial': 1500, 'steps_in_trial': 14, 'reward': 1008.3530827654004, 'perf_time': 0.1721880999999712, 'numerosity': 1600, 'population': 1056, 'average_specificity': 7.805, 'fraction_accuracy': 0.96}\n",
      "INFO:lcs.agents.Agent:{'trial': 1700, 'steps_in_trial': 4, 'reward': 1286.6692455117718, 'perf_time': 0.02952960000004623, 'numerosity': 1600, 'population': 1018, 'average_specificity': 7.516875, 'fraction_accuracy': 0.89}\n",
      "INFO:lcs.agents.Agent:{'trial': 2000, 'steps_in_trial': 7, 'reward': 1115.4136187659662, 'perf_time': 0.04373299999997471, 'numerosity': 1600, 'population': 1021, 'average_specificity': 8.0, 'fraction_accuracy': 0.87}\n",
      "INFO:lcs.agents.Agent:{'trial': 2200, 'steps_in_trial': 13, 'reward': 1012.8205411701265, 'perf_time': 0.13442009999994298, 'numerosity': 1600, 'population': 990, 'average_specificity': 8.39125, 'fraction_accuracy': 0.99}\n"
     ]
    },
    {
     "name": "stdout",
     "output_type": "stream",
     "text": [
      "Executing 1 experiment\n"
     ]
    },
    {
     "name": "stderr",
     "output_type": "stream",
     "text": [
      "INFO:lcs.agents.Agent:{'trial': 0, 'steps_in_trial': 100, 'reward': 0.0, 'perf_time': 1.4861783000001196, 'numerosity': 1600, 'population': 1489, 'average_specificity': 7.810625, 'fraction_accuracy': 0.98}\n",
      "INFO:lcs.agents.Agent:{'trial': 200, 'steps_in_trial': 4, 'reward': 1257.740048608998, 'perf_time': 0.03932069999996202, 'numerosity': 1600, 'population': 1131, 'average_specificity': 7.01, 'fraction_accuracy': 0.95}\n",
      "INFO:lcs.agents.Agent:{'trial': 500, 'steps_in_trial': 7, 'reward': 1137.3918298582194, 'perf_time': 0.08498740000004545, 'numerosity': 1600, 'population': 1083, 'average_specificity': 7.31125, 'fraction_accuracy': 0.86}\n",
      "INFO:lcs.agents.Agent:{'trial': 700, 'steps_in_trial': 10, 'reward': 1036.9277421157428, 'perf_time': 0.09687030000009145, 'numerosity': 1600, 'population': 1103, 'average_specificity': 8.096875, 'fraction_accuracy': 0.94}\n",
      "INFO:lcs.agents.Agent:{'trial': 1000, 'steps_in_trial': 6, 'reward': 1164.061511166543, 'perf_time': 0.08005529999991268, 'numerosity': 1600, 'population': 1093, 'average_specificity': 9.2275, 'fraction_accuracy': 0.99}\n",
      "INFO:lcs.agents.Agent:{'trial': 1200, 'steps_in_trial': 5, 'reward': 1197.9911055710418, 'perf_time': 0.0769659000000047, 'numerosity': 1600, 'population': 1093, 'average_specificity': 10.330625, 'fraction_accuracy': 0.98}\n",
      "INFO:lcs.agents.Agent:{'trial': 1500, 'steps_in_trial': 3, 'reward': 1623.6786871062473, 'perf_time': 0.021411200000102326, 'numerosity': 1600, 'population': 1073, 'average_specificity': 8.211875, 'fraction_accuracy': 0.97}\n",
      "INFO:lcs.agents.Agent:{'trial': 1700, 'steps_in_trial': 13, 'reward': 1013.4322950572564, 'perf_time': 0.10177379999981895, 'numerosity': 1600, 'population': 1069, 'average_specificity': 9.84625, 'fraction_accuracy': 0.97}\n",
      "INFO:lcs.agents.Agent:{'trial': 2000, 'steps_in_trial': 7, 'reward': 1149.3936475521823, 'perf_time': 0.09281380000015815, 'numerosity': 1600, 'population': 1099, 'average_specificity': 8.625625, 'fraction_accuracy': 0.98}\n",
      "INFO:lcs.agents.Agent:{'trial': 2200, 'steps_in_trial': 5, 'reward': 1252.0077690932178, 'perf_time': 0.06788170000004357, 'numerosity': 1600, 'population': 1099, 'average_specificity': 9.113125, 'fraction_accuracy': 0.99}\n"
     ]
    },
    {
     "name": "stdout",
     "output_type": "stream",
     "text": [
      "Executing 2 experiment\n"
     ]
    },
    {
     "name": "stderr",
     "output_type": "stream",
     "text": [
      "INFO:lcs.agents.Agent:{'trial': 0, 'steps_in_trial': 100, 'reward': 0.0, 'perf_time': 1.4727439999999206, 'numerosity': 1600, 'population': 1520, 'average_specificity': 8.51375, 'fraction_accuracy': 0.96}\n",
      "INFO:lcs.agents.Agent:{'trial': 200, 'steps_in_trial': 14, 'reward': 1009.6286465655041, 'perf_time': 0.26807240000016463, 'numerosity': 1600, 'population': 1165, 'average_specificity': 7.105, 'fraction_accuracy': 0.97}\n",
      "INFO:lcs.agents.Agent:{'trial': 500, 'steps_in_trial': 27, 'reward': 1000.0980338979363, 'perf_time': 0.2835891999998239, 'numerosity': 1600, 'population': 1108, 'average_specificity': 7.7, 'fraction_accuracy': 1.0}\n",
      "INFO:lcs.agents.Agent:{'trial': 700, 'steps_in_trial': 3, 'reward': 1492.2401954617194, 'perf_time': 0.018526300000075935, 'numerosity': 1600, 'population': 1119, 'average_specificity': 7.786875, 'fraction_accuracy': 0.92}\n",
      "INFO:lcs.agents.Agent:{'trial': 1000, 'steps_in_trial': 100, 'reward': 1.8066542666571946e-27, 'perf_time': 1.0157960000001367, 'numerosity': 1600, 'population': 1118, 'average_specificity': 8.193125, 'fraction_accuracy': 1.0}\n",
      "INFO:lcs.agents.Agent:{'trial': 1200, 'steps_in_trial': 6, 'reward': 1157.2943067525025, 'perf_time': 0.06496940000010909, 'numerosity': 1600, 'population': 1147, 'average_specificity': 8.560625, 'fraction_accuracy': 1.0}\n",
      "INFO:lcs.agents.Agent:{'trial': 1500, 'steps_in_trial': 18, 'reward': 1002.1148421961839, 'perf_time': 0.23757850000015424, 'numerosity': 1600, 'population': 1090, 'average_specificity': 7.419375, 'fraction_accuracy': 0.94}\n",
      "INFO:lcs.agents.Agent:{'trial': 1700, 'steps_in_trial': 4, 'reward': 1320.7942481427085, 'perf_time': 0.03127079999990201, 'numerosity': 1600, 'population': 1086, 'average_specificity': 8.19625, 'fraction_accuracy': 1.0}\n",
      "INFO:lcs.agents.Agent:{'trial': 2000, 'steps_in_trial': 5, 'reward': 1182.1882374723114, 'perf_time': 0.04700159999993048, 'numerosity': 1600, 'population': 1067, 'average_specificity': 7.48875, 'fraction_accuracy': 0.9}\n",
      "INFO:lcs.agents.Agent:{'trial': 2200, 'steps_in_trial': 4, 'reward': 1261.790977859479, 'perf_time': 0.047065599999996266, 'numerosity': 1600, 'population': 985, 'average_specificity': 7.314375, 'fraction_accuracy': 0.88}\n"
     ]
    }
   ],
   "source": [
    "from utils.xcs_utils import avg_experiment as XCSExp\n",
    "from utils.nxcs_utils import avg_experiment as XNCSExp\n",
    "\n",
    "number_of_experiments = 3\n",
    "explore = 2000\n",
    "exploit = 500\n",
    "\n",
    "df = XCSExp(maze=maze,\n",
    "             cfg=XCScfg,\n",
    "             number_of_tests=number_of_experiments,\n",
    "             explore_trials=0, # explore,\n",
    "             exploit_trials=exploit + explore,\n",
    "             pre_generate=True\n",
    "           )\n",
    "\n",
    "df_other = XNCSExp(\n",
    "    maze=maze,\n",
    "    cfg=XNCScfg,\n",
    "    number_of_tests=number_of_experiments,\n",
    "    explore_trials=0,\n",
    "    exploit_trials=exploit + explore,\n",
    "    pre_generate=True\n",
    "    )"
   ]
  },
  {
   "cell_type": "code",
   "execution_count": 5,
   "metadata": {},
   "outputs": [
    {
     "data": {
      "text/html": [
       "<div>\n",
       "<style scoped>\n",
       "    .dataframe tbody tr th:only-of-type {\n",
       "        vertical-align: middle;\n",
       "    }\n",
       "\n",
       "    .dataframe tbody tr th {\n",
       "        vertical-align: top;\n",
       "    }\n",
       "\n",
       "    .dataframe thead th {\n",
       "        text-align: right;\n",
       "    }\n",
       "</style>\n",
       "<table border=\"1\" class=\"dataframe\">\n",
       "  <thead>\n",
       "    <tr style=\"text-align: right;\">\n",
       "      <th></th>\n",
       "      <th>steps_in_trial</th>\n",
       "      <th>reward</th>\n",
       "      <th>perf_time</th>\n",
       "      <th>population</th>\n",
       "      <th>numerosity</th>\n",
       "      <th>average_specificity</th>\n",
       "      <th>steps_in_trial_other</th>\n",
       "      <th>population_other</th>\n",
       "      <th>numerosity_other</th>\n",
       "      <th>average_specificity_other</th>\n",
       "      <th>fraction_accuracy_other</th>\n",
       "    </tr>\n",
       "    <tr>\n",
       "      <th>trial</th>\n",
       "      <th></th>\n",
       "      <th></th>\n",
       "      <th></th>\n",
       "      <th></th>\n",
       "      <th></th>\n",
       "      <th></th>\n",
       "      <th></th>\n",
       "      <th></th>\n",
       "      <th></th>\n",
       "      <th></th>\n",
       "      <th></th>\n",
       "    </tr>\n",
       "  </thead>\n",
       "  <tbody>\n",
       "    <tr>\n",
       "      <th>0</th>\n",
       "      <td>97.000000</td>\n",
       "      <td>333.333333</td>\n",
       "      <td>1.182007</td>\n",
       "      <td>1500.000000</td>\n",
       "      <td>1600.0</td>\n",
       "      <td>8.365000</td>\n",
       "      <td>100.000000</td>\n",
       "      <td>1506.000000</td>\n",
       "      <td>1600.0</td>\n",
       "      <td>8.074167</td>\n",
       "      <td>0.976667</td>\n",
       "    </tr>\n",
       "    <tr>\n",
       "      <th>100</th>\n",
       "      <td>45.666667</td>\n",
       "      <td>717.675308</td>\n",
       "      <td>0.331375</td>\n",
       "      <td>1116.666667</td>\n",
       "      <td>1600.0</td>\n",
       "      <td>7.261250</td>\n",
       "      <td>3.333333</td>\n",
       "      <td>1186.333333</td>\n",
       "      <td>1600.0</td>\n",
       "      <td>6.865208</td>\n",
       "      <td>0.903333</td>\n",
       "    </tr>\n",
       "    <tr>\n",
       "      <th>200</th>\n",
       "      <td>6.000000</td>\n",
       "      <td>1145.342516</td>\n",
       "      <td>0.060114</td>\n",
       "      <td>1015.666667</td>\n",
       "      <td>1600.0</td>\n",
       "      <td>7.050000</td>\n",
       "      <td>9.000000</td>\n",
       "      <td>1125.666667</td>\n",
       "      <td>1600.0</td>\n",
       "      <td>6.767917</td>\n",
       "      <td>0.956667</td>\n",
       "    </tr>\n",
       "    <tr>\n",
       "      <th>300</th>\n",
       "      <td>7.666667</td>\n",
       "      <td>1116.691724</td>\n",
       "      <td>0.075114</td>\n",
       "      <td>966.666667</td>\n",
       "      <td>1600.0</td>\n",
       "      <td>6.519167</td>\n",
       "      <td>5.666667</td>\n",
       "      <td>1094.666667</td>\n",
       "      <td>1600.0</td>\n",
       "      <td>6.851042</td>\n",
       "      <td>0.950000</td>\n",
       "    </tr>\n",
       "    <tr>\n",
       "      <th>400</th>\n",
       "      <td>10.000000</td>\n",
       "      <td>1088.676388</td>\n",
       "      <td>0.048711</td>\n",
       "      <td>917.000000</td>\n",
       "      <td>1600.0</td>\n",
       "      <td>6.826250</td>\n",
       "      <td>4.000000</td>\n",
       "      <td>1082.333333</td>\n",
       "      <td>1600.0</td>\n",
       "      <td>6.908958</td>\n",
       "      <td>0.800000</td>\n",
       "    </tr>\n",
       "    <tr>\n",
       "      <th>500</th>\n",
       "      <td>28.666667</td>\n",
       "      <td>1043.790513</td>\n",
       "      <td>0.176887</td>\n",
       "      <td>890.666667</td>\n",
       "      <td>1600.0</td>\n",
       "      <td>6.609167</td>\n",
       "      <td>33.666667</td>\n",
       "      <td>1056.000000</td>\n",
       "      <td>1600.0</td>\n",
       "      <td>7.237708</td>\n",
       "      <td>0.940000</td>\n",
       "    </tr>\n",
       "    <tr>\n",
       "      <th>600</th>\n",
       "      <td>7.333333</td>\n",
       "      <td>1118.731469</td>\n",
       "      <td>0.075750</td>\n",
       "      <td>865.666667</td>\n",
       "      <td>1600.0</td>\n",
       "      <td>6.652917</td>\n",
       "      <td>7.000000</td>\n",
       "      <td>1059.333333</td>\n",
       "      <td>1600.0</td>\n",
       "      <td>7.095417</td>\n",
       "      <td>0.983333</td>\n",
       "    </tr>\n",
       "    <tr>\n",
       "      <th>700</th>\n",
       "      <td>9.000000</td>\n",
       "      <td>1091.082751</td>\n",
       "      <td>0.066204</td>\n",
       "      <td>846.333333</td>\n",
       "      <td>1600.0</td>\n",
       "      <td>6.971667</td>\n",
       "      <td>9.333333</td>\n",
       "      <td>1075.000000</td>\n",
       "      <td>1600.0</td>\n",
       "      <td>7.449375</td>\n",
       "      <td>0.940000</td>\n",
       "    </tr>\n",
       "    <tr>\n",
       "      <th>800</th>\n",
       "      <td>5.666667</td>\n",
       "      <td>1271.583579</td>\n",
       "      <td>0.027169</td>\n",
       "      <td>818.333333</td>\n",
       "      <td>1600.0</td>\n",
       "      <td>6.389792</td>\n",
       "      <td>4.666667</td>\n",
       "      <td>1072.666667</td>\n",
       "      <td>1600.0</td>\n",
       "      <td>8.329167</td>\n",
       "      <td>0.953333</td>\n",
       "    </tr>\n",
       "    <tr>\n",
       "      <th>900</th>\n",
       "      <td>37.666667</td>\n",
       "      <td>778.080006</td>\n",
       "      <td>0.174981</td>\n",
       "      <td>809.666667</td>\n",
       "      <td>1600.0</td>\n",
       "      <td>6.598333</td>\n",
       "      <td>10.333333</td>\n",
       "      <td>1084.000000</td>\n",
       "      <td>1600.0</td>\n",
       "      <td>7.816667</td>\n",
       "      <td>0.933333</td>\n",
       "    </tr>\n",
       "    <tr>\n",
       "      <th>1000</th>\n",
       "      <td>25.000000</td>\n",
       "      <td>1084.005316</td>\n",
       "      <td>0.149218</td>\n",
       "      <td>800.333333</td>\n",
       "      <td>1600.0</td>\n",
       "      <td>6.381667</td>\n",
       "      <td>39.000000</td>\n",
       "      <td>1078.000000</td>\n",
       "      <td>1600.0</td>\n",
       "      <td>8.207292</td>\n",
       "      <td>0.996667</td>\n",
       "    </tr>\n",
       "    <tr>\n",
       "      <th>1100</th>\n",
       "      <td>7.000000</td>\n",
       "      <td>1135.332949</td>\n",
       "      <td>0.063757</td>\n",
       "      <td>786.333333</td>\n",
       "      <td>1600.0</td>\n",
       "      <td>6.683333</td>\n",
       "      <td>3.666667</td>\n",
       "      <td>1075.666667</td>\n",
       "      <td>1600.0</td>\n",
       "      <td>8.291458</td>\n",
       "      <td>0.896667</td>\n",
       "    </tr>\n",
       "    <tr>\n",
       "      <th>1200</th>\n",
       "      <td>4.666667</td>\n",
       "      <td>1237.448537</td>\n",
       "      <td>0.027131</td>\n",
       "      <td>760.666667</td>\n",
       "      <td>1600.0</td>\n",
       "      <td>6.269167</td>\n",
       "      <td>7.666667</td>\n",
       "      <td>1095.000000</td>\n",
       "      <td>1600.0</td>\n",
       "      <td>8.719375</td>\n",
       "      <td>0.990000</td>\n",
       "    </tr>\n",
       "    <tr>\n",
       "      <th>1300</th>\n",
       "      <td>6.666667</td>\n",
       "      <td>1170.283230</td>\n",
       "      <td>0.047823</td>\n",
       "      <td>755.666667</td>\n",
       "      <td>1600.0</td>\n",
       "      <td>6.046042</td>\n",
       "      <td>38.666667</td>\n",
       "      <td>1088.666667</td>\n",
       "      <td>1600.0</td>\n",
       "      <td>8.251250</td>\n",
       "      <td>0.993333</td>\n",
       "    </tr>\n",
       "    <tr>\n",
       "      <th>1400</th>\n",
       "      <td>6.000000</td>\n",
       "      <td>1197.151720</td>\n",
       "      <td>0.049633</td>\n",
       "      <td>728.333333</td>\n",
       "      <td>1600.0</td>\n",
       "      <td>6.041875</td>\n",
       "      <td>6.333333</td>\n",
       "      <td>1079.333333</td>\n",
       "      <td>1600.0</td>\n",
       "      <td>8.237917</td>\n",
       "      <td>0.980000</td>\n",
       "    </tr>\n",
       "    <tr>\n",
       "      <th>1500</th>\n",
       "      <td>7.666667</td>\n",
       "      <td>1286.520439</td>\n",
       "      <td>0.048660</td>\n",
       "      <td>731.333333</td>\n",
       "      <td>1600.0</td>\n",
       "      <td>6.252083</td>\n",
       "      <td>11.666667</td>\n",
       "      <td>1073.000000</td>\n",
       "      <td>1600.0</td>\n",
       "      <td>7.812083</td>\n",
       "      <td>0.956667</td>\n",
       "    </tr>\n",
       "    <tr>\n",
       "      <th>1600</th>\n",
       "      <td>39.000000</td>\n",
       "      <td>713.746225</td>\n",
       "      <td>0.171981</td>\n",
       "      <td>711.666667</td>\n",
       "      <td>1600.0</td>\n",
       "      <td>6.134792</td>\n",
       "      <td>11.666667</td>\n",
       "      <td>1051.000000</td>\n",
       "      <td>1600.0</td>\n",
       "      <td>8.012917</td>\n",
       "      <td>0.933333</td>\n",
       "    </tr>\n",
       "    <tr>\n",
       "      <th>1700</th>\n",
       "      <td>3.333333</td>\n",
       "      <td>1609.876784</td>\n",
       "      <td>0.024009</td>\n",
       "      <td>680.666667</td>\n",
       "      <td>1600.0</td>\n",
       "      <td>6.027083</td>\n",
       "      <td>7.000000</td>\n",
       "      <td>1057.666667</td>\n",
       "      <td>1600.0</td>\n",
       "      <td>8.519792</td>\n",
       "      <td>0.953333</td>\n",
       "    </tr>\n",
       "    <tr>\n",
       "      <th>1800</th>\n",
       "      <td>39.000000</td>\n",
       "      <td>721.201194</td>\n",
       "      <td>0.182860</td>\n",
       "      <td>678.000000</td>\n",
       "      <td>1600.0</td>\n",
       "      <td>6.808750</td>\n",
       "      <td>4.000000</td>\n",
       "      <td>1047.000000</td>\n",
       "      <td>1600.0</td>\n",
       "      <td>7.637708</td>\n",
       "      <td>0.736667</td>\n",
       "    </tr>\n",
       "    <tr>\n",
       "      <th>1900</th>\n",
       "      <td>4.333333</td>\n",
       "      <td>1348.367282</td>\n",
       "      <td>0.027422</td>\n",
       "      <td>671.333333</td>\n",
       "      <td>1600.0</td>\n",
       "      <td>6.288750</td>\n",
       "      <td>11.000000</td>\n",
       "      <td>1063.000000</td>\n",
       "      <td>1600.0</td>\n",
       "      <td>8.831667</td>\n",
       "      <td>0.923333</td>\n",
       "    </tr>\n",
       "    <tr>\n",
       "      <th>2000</th>\n",
       "      <td>39.666667</td>\n",
       "      <td>691.237842</td>\n",
       "      <td>0.176256</td>\n",
       "      <td>659.666667</td>\n",
       "      <td>1600.0</td>\n",
       "      <td>6.066042</td>\n",
       "      <td>6.333333</td>\n",
       "      <td>1062.333333</td>\n",
       "      <td>1600.0</td>\n",
       "      <td>8.038125</td>\n",
       "      <td>0.916667</td>\n",
       "    </tr>\n",
       "    <tr>\n",
       "      <th>2100</th>\n",
       "      <td>38.000000</td>\n",
       "      <td>757.248048</td>\n",
       "      <td>0.161820</td>\n",
       "      <td>640.333333</td>\n",
       "      <td>1600.0</td>\n",
       "      <td>6.223125</td>\n",
       "      <td>38.666667</td>\n",
       "      <td>1048.666667</td>\n",
       "      <td>1600.0</td>\n",
       "      <td>8.042292</td>\n",
       "      <td>0.893333</td>\n",
       "    </tr>\n",
       "    <tr>\n",
       "      <th>2200</th>\n",
       "      <td>3.333333</td>\n",
       "      <td>1345.752468</td>\n",
       "      <td>0.023821</td>\n",
       "      <td>625.000000</td>\n",
       "      <td>1600.0</td>\n",
       "      <td>6.220000</td>\n",
       "      <td>7.333333</td>\n",
       "      <td>1024.666667</td>\n",
       "      <td>1600.0</td>\n",
       "      <td>8.272917</td>\n",
       "      <td>0.953333</td>\n",
       "    </tr>\n",
       "    <tr>\n",
       "      <th>2300</th>\n",
       "      <td>39.000000</td>\n",
       "      <td>756.696230</td>\n",
       "      <td>0.158708</td>\n",
       "      <td>616.666667</td>\n",
       "      <td>1600.0</td>\n",
       "      <td>6.110417</td>\n",
       "      <td>33.000000</td>\n",
       "      <td>1018.666667</td>\n",
       "      <td>1600.0</td>\n",
       "      <td>8.307917</td>\n",
       "      <td>0.996667</td>\n",
       "    </tr>\n",
       "    <tr>\n",
       "      <th>2400</th>\n",
       "      <td>4.666667</td>\n",
       "      <td>1382.093409</td>\n",
       "      <td>0.016833</td>\n",
       "      <td>600.666667</td>\n",
       "      <td>1600.0</td>\n",
       "      <td>6.031250</td>\n",
       "      <td>5.000000</td>\n",
       "      <td>1001.000000</td>\n",
       "      <td>1600.0</td>\n",
       "      <td>8.062292</td>\n",
       "      <td>0.986667</td>\n",
       "    </tr>\n",
       "  </tbody>\n",
       "</table>\n",
       "</div>"
      ],
      "text/plain": [
       "       steps_in_trial       reward  perf_time   population  numerosity  \\\n",
       "trial                                                                    \n",
       "0           97.000000   333.333333   1.182007  1500.000000      1600.0   \n",
       "100         45.666667   717.675308   0.331375  1116.666667      1600.0   \n",
       "200          6.000000  1145.342516   0.060114  1015.666667      1600.0   \n",
       "300          7.666667  1116.691724   0.075114   966.666667      1600.0   \n",
       "400         10.000000  1088.676388   0.048711   917.000000      1600.0   \n",
       "500         28.666667  1043.790513   0.176887   890.666667      1600.0   \n",
       "600          7.333333  1118.731469   0.075750   865.666667      1600.0   \n",
       "700          9.000000  1091.082751   0.066204   846.333333      1600.0   \n",
       "800          5.666667  1271.583579   0.027169   818.333333      1600.0   \n",
       "900         37.666667   778.080006   0.174981   809.666667      1600.0   \n",
       "1000        25.000000  1084.005316   0.149218   800.333333      1600.0   \n",
       "1100         7.000000  1135.332949   0.063757   786.333333      1600.0   \n",
       "1200         4.666667  1237.448537   0.027131   760.666667      1600.0   \n",
       "1300         6.666667  1170.283230   0.047823   755.666667      1600.0   \n",
       "1400         6.000000  1197.151720   0.049633   728.333333      1600.0   \n",
       "1500         7.666667  1286.520439   0.048660   731.333333      1600.0   \n",
       "1600        39.000000   713.746225   0.171981   711.666667      1600.0   \n",
       "1700         3.333333  1609.876784   0.024009   680.666667      1600.0   \n",
       "1800        39.000000   721.201194   0.182860   678.000000      1600.0   \n",
       "1900         4.333333  1348.367282   0.027422   671.333333      1600.0   \n",
       "2000        39.666667   691.237842   0.176256   659.666667      1600.0   \n",
       "2100        38.000000   757.248048   0.161820   640.333333      1600.0   \n",
       "2200         3.333333  1345.752468   0.023821   625.000000      1600.0   \n",
       "2300        39.000000   756.696230   0.158708   616.666667      1600.0   \n",
       "2400         4.666667  1382.093409   0.016833   600.666667      1600.0   \n",
       "\n",
       "       average_specificity  steps_in_trial_other  population_other  \\\n",
       "trial                                                                \n",
       "0                 8.365000            100.000000       1506.000000   \n",
       "100               7.261250              3.333333       1186.333333   \n",
       "200               7.050000              9.000000       1125.666667   \n",
       "300               6.519167              5.666667       1094.666667   \n",
       "400               6.826250              4.000000       1082.333333   \n",
       "500               6.609167             33.666667       1056.000000   \n",
       "600               6.652917              7.000000       1059.333333   \n",
       "700               6.971667              9.333333       1075.000000   \n",
       "800               6.389792              4.666667       1072.666667   \n",
       "900               6.598333             10.333333       1084.000000   \n",
       "1000              6.381667             39.000000       1078.000000   \n",
       "1100              6.683333              3.666667       1075.666667   \n",
       "1200              6.269167              7.666667       1095.000000   \n",
       "1300              6.046042             38.666667       1088.666667   \n",
       "1400              6.041875              6.333333       1079.333333   \n",
       "1500              6.252083             11.666667       1073.000000   \n",
       "1600              6.134792             11.666667       1051.000000   \n",
       "1700              6.027083              7.000000       1057.666667   \n",
       "1800              6.808750              4.000000       1047.000000   \n",
       "1900              6.288750             11.000000       1063.000000   \n",
       "2000              6.066042              6.333333       1062.333333   \n",
       "2100              6.223125             38.666667       1048.666667   \n",
       "2200              6.220000              7.333333       1024.666667   \n",
       "2300              6.110417             33.000000       1018.666667   \n",
       "2400              6.031250              5.000000       1001.000000   \n",
       "\n",
       "       numerosity_other  average_specificity_other  fraction_accuracy_other  \n",
       "trial                                                                        \n",
       "0                1600.0                   8.074167                 0.976667  \n",
       "100              1600.0                   6.865208                 0.903333  \n",
       "200              1600.0                   6.767917                 0.956667  \n",
       "300              1600.0                   6.851042                 0.950000  \n",
       "400              1600.0                   6.908958                 0.800000  \n",
       "500              1600.0                   7.237708                 0.940000  \n",
       "600              1600.0                   7.095417                 0.983333  \n",
       "700              1600.0                   7.449375                 0.940000  \n",
       "800              1600.0                   8.329167                 0.953333  \n",
       "900              1600.0                   7.816667                 0.933333  \n",
       "1000             1600.0                   8.207292                 0.996667  \n",
       "1100             1600.0                   8.291458                 0.896667  \n",
       "1200             1600.0                   8.719375                 0.990000  \n",
       "1300             1600.0                   8.251250                 0.993333  \n",
       "1400             1600.0                   8.237917                 0.980000  \n",
       "1500             1600.0                   7.812083                 0.956667  \n",
       "1600             1600.0                   8.012917                 0.933333  \n",
       "1700             1600.0                   8.519792                 0.953333  \n",
       "1800             1600.0                   7.637708                 0.736667  \n",
       "1900             1600.0                   8.831667                 0.923333  \n",
       "2000             1600.0                   8.038125                 0.916667  \n",
       "2100             1600.0                   8.042292                 0.893333  \n",
       "2200             1600.0                   8.272917                 0.953333  \n",
       "2300             1600.0                   8.307917                 0.996667  \n",
       "2400             1600.0                   8.062292                 0.986667  "
      ]
     },
     "metadata": {},
     "output_type": "display_data"
    }
   ],
   "source": [
    "df['steps_in_trial_other']=df_other['steps_in_trial']\n",
    "df['population_other']=df_other['population']\n",
    "df['numerosity_other']=df_other['numerosity']\n",
    "df['average_specificity_other']=df_other['average_specificity']\n",
    "df['fraction_accuracy_other']=df_other['fraction_accuracy']\n",
    "\n",
    "display(df)"
   ]
  },
  {
   "cell_type": "code",
   "execution_count": 6,
   "metadata": {},
   "outputs": [
    {
     "data": {
      "text/plain": [
       "<matplotlib.legend.Legend at 0x1d5bc5f38c8>"
      ]
     },
     "execution_count": 6,
     "metadata": {},
     "output_type": "execute_result"
    },
    {
     "data": {
      "image/png": "[encoded data removed]",
      "text/plain": [
       "<Figure size 432x288 with 1 Axes>"
      ]
     },
     "metadata": {
      "needs_background": "light"
     },
     "output_type": "display_data"
    }
   ],
   "source": [
    "import pandas as pd\n",
    "import numpy as np\n",
    "\n",
    "ax = df[['average_specificity', \"average_specificity_other\"]].plot()\n",
    "ax.set_xlabel(\"trial\")\n",
    "ax.set_ylabel(\"average_specificity\")\n",
    "ax.legend([\"XCS\",\"XNCS\"])\n",
    "\n"
   ]
  },
  {
   "cell_type": "code",
   "execution_count": 7,
   "metadata": {},
   "outputs": [
    {
     "data": {
      "text/plain": [
       "<matplotlib.legend.Legend at 0x1d5bfa98ec8>"
      ]
     },
     "execution_count": 7,
     "metadata": {},
     "output_type": "execute_result"
    },
    {
     "data": {
      "image/png": "[encoded data removed]",
      "text/plain": [
       "<Figure size 432x288 with 1 Axes>"
      ]
     },
     "metadata": {
      "needs_background": "light"
     },
     "output_type": "display_data"
    }
   ],
   "source": [
    "ax = df[\"fraction_accuracy_other\"].plot()\n",
    "ax.set_xlabel(\"trial\")\n",
    "ax.set_ylabel(\"fraction accuracy\")\n",
    "ax.legend([\"XCS\",\"XNCS\"])"
   ]
  },
  {
   "cell_type": "code",
   "execution_count": 8,
   "metadata": {},
   "outputs": [
    {
     "data": {
      "text/plain": [
       "<matplotlib.legend.Legend at 0x1d5bfaac388>"
      ]
     },
     "execution_count": 8,
     "metadata": {},
     "output_type": "execute_result"
    },
    {
     "data": {
      "image/png": "[encoded data removed]",
      "text/plain": [
       "<Figure size 432x288 with 1 Axes>"
      ]
     },
     "metadata": {
      "needs_background": "light"
     },
     "output_type": "display_data"
    }
   ],
   "source": [
    "ax = df[['numerosity', 'numerosity_other']].plot()\n",
    "ax.set_xlabel(\"trial\")\n",
    "ax.set_ylabel(\"numerosity\")\n",
    "ax.legend([\"numerosity\", \"number of rules\"])"
   ]
  },
  {
   "cell_type": "code",
   "execution_count": 9,
   "metadata": {},
   "outputs": [
    {
     "data": {
      "text/plain": [
       "<matplotlib.legend.Legend at 0x1d5bfc29d48>"
      ]
     },
     "execution_count": 9,
     "metadata": {},
     "output_type": "execute_result"
    },
    {
     "data": {
      "image/png": "[encoded data removed]",
      "text/plain": [
       "<Figure size 432x288 with 1 Axes>"
      ]
     },
     "metadata": {
      "needs_background": "light"
     },
     "output_type": "display_data"
    }
   ],
   "source": [
    "ax = df[['population', \"population_other\"]].plot()\n",
    "ax.set_xlabel(\"trial\")\n",
    "ax.set_ylabel(\"population\")\n",
    "ax.legend([\"XCS\",\"XNCS\"])"
   ]
  },
  {
   "cell_type": "code",
   "execution_count": 10,
   "metadata": {},
   "outputs": [
    {
     "data": {
      "text/plain": [
       "<matplotlib.legend.Legend at 0x1d5bfcd16c8>"
      ]
     },
     "execution_count": 10,
     "metadata": {},
     "output_type": "execute_result"
    },
    {
     "data": {
      "image/png": "[encoded data removed]",
      "text/plain": [
       "<Figure size 432x288 with 1 Axes>"
      ]
     },
     "metadata": {
      "needs_background": "light"
     },
     "output_type": "display_data"
    }
   ],
   "source": [
    "ax = df[['steps_in_trial', 'steps_in_trial_other']].plot()\n",
    "ax.set_xlabel(\"trial\")\n",
    "ax.set_ylabel(\"steps in trial\")\n",
    "ax.legend([\"XCS\",\"XNCS\"])"
   ]
  },
  {
   "cell_type": "code",
   "execution_count": 11,
   "metadata": {},
   "outputs": [
    {
     "name": "stdout",
     "output_type": "stream",
     "text": [
      "173.99999999999997\n",
      "139.33333333333334\n"
     ]
    }
   ],
   "source": [
    "print(sum(df[\"steps_in_trial\"])/number_of_experiments)\n",
    "print(sum(df[\"steps_in_trial_other\"])/number_of_experiments)"
   ]
  }
 ],
 "metadata": {
  "kernelspec": {
   "display_name": "Python 3",
   "language": "python",
   "name": "python3"
  },
  "language_info": {
   "codemirror_mode": {
    "name": "ipython",
    "version": 3
   },
   "file_extension": ".py",
   "mimetype": "text/x-python",
   "name": "python",
   "nbconvert_exporter": "python",
   "pygments_lexer": "ipython3",
   "version": "3.7.10"
  }
 },
 "nbformat": 4,
 "nbformat_minor": 1
}
