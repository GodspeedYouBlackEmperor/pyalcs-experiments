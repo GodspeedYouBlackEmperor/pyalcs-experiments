{
 "cells": [
  {
   "cell_type": "code",
   "execution_count": 1,
   "metadata": {},
   "outputs": [],
   "source": [
    "# logging \n",
    "import logging\n",
    "logging.basicConfig(level=logging.INFO)\n",
    "logger = logging.getLogger(__name__)\n"
   ]
  },
  {
   "cell_type": "code",
   "execution_count": 2,
   "metadata": {},
   "outputs": [
    {
     "name": "stdout",
     "output_type": "stream",
     "text": [
      "This is how maze looks like\n",
      "<class 'tuple'>\n",
      "('1', '0', '0', '0', '1', '0', '1', '1')\n",
      "\n",
      "\u001b[30m■\u001b[0m \u001b[30m■\u001b[0m \u001b[30m■\u001b[0m \u001b[30m■\u001b[0m \u001b[30m■\u001b[0m \u001b[30m■\u001b[0m \u001b[30m■\u001b[0m \u001b[30m■\u001b[0m \u001b[30m■\u001b[0m\n",
      "\u001b[30m■\u001b[0m \u001b[37m□\u001b[0m \u001b[37m□\u001b[0m \u001b[37m□\u001b[0m \u001b[37m□\u001b[0m \u001b[37m□\u001b[0m \u001b[37m□\u001b[0m \u001b[33m$\u001b[0m \u001b[30m■\u001b[0m\n",
      "\u001b[30m■\u001b[0m \u001b[37m□\u001b[0m \u001b[37m□\u001b[0m \u001b[30m■\u001b[0m \u001b[37m□\u001b[0m \u001b[30m■\u001b[0m \u001b[30m■\u001b[0m \u001b[37m□\u001b[0m \u001b[30m■\u001b[0m\n",
      "\u001b[30m■\u001b[0m \u001b[37m□\u001b[0m \u001b[30m■\u001b[0m \u001b[37m□\u001b[0m \u001b[37m□\u001b[0m \u001b[37m□\u001b[0m \u001b[37m□\u001b[0m \u001b[37m□\u001b[0m \u001b[30m■\u001b[0m\n",
      "\u001b[30m■\u001b[0m \u001b[37m□\u001b[0m \u001b[37m□\u001b[0m \u001b[37m□\u001b[0m \u001b[30m■\u001b[0m \u001b[30m■\u001b[0m \u001b[37m□\u001b[0m \u001b[37m□\u001b[0m \u001b[30m■\u001b[0m\n",
      "\u001b[30m■\u001b[0m \u001b[37m□\u001b[0m \u001b[30m■\u001b[0m \u001b[37m□\u001b[0m \u001b[30m■\u001b[0m \u001b[31mA\u001b[0m \u001b[37m□\u001b[0m \u001b[30m■\u001b[0m \u001b[30m■\u001b[0m\n",
      "\u001b[30m■\u001b[0m \u001b[37m□\u001b[0m \u001b[30m■\u001b[0m \u001b[37m□\u001b[0m \u001b[37m□\u001b[0m \u001b[30m■\u001b[0m \u001b[37m□\u001b[0m \u001b[37m□\u001b[0m \u001b[30m■\u001b[0m\n",
      "\u001b[30m■\u001b[0m \u001b[37m□\u001b[0m \u001b[37m□\u001b[0m \u001b[37m□\u001b[0m \u001b[37m□\u001b[0m \u001b[37m□\u001b[0m \u001b[30m■\u001b[0m \u001b[37m□\u001b[0m \u001b[30m■\u001b[0m\n",
      "\u001b[30m■\u001b[0m \u001b[30m■\u001b[0m \u001b[30m■\u001b[0m \u001b[30m■\u001b[0m \u001b[30m■\u001b[0m \u001b[30m■\u001b[0m \u001b[30m■\u001b[0m \u001b[30m■\u001b[0m \u001b[30m■\u001b[0m\n"
     ]
    }
   ],
   "source": [
    "# environment setup\n",
    "import gym\n",
    "# noinspection PyUnresolvedReferences\n",
    "import gym_maze\n",
    "\n",
    "maze = gym.make('Maze5-v0')\n",
    "print(\"This is how maze looks like\")\n",
    "situation = maze.reset()\n",
    "print(type(situation))\n",
    "print(situation)\n",
    "maze.render()\n"
   ]
  },
  {
   "cell_type": "code",
   "execution_count": 3,
   "metadata": {},
   "outputs": [],
   "source": [
    "from lcs.agents.xcs import XCS\n",
    "from lcs.agents.xcs import Configuration as XCSConfig\n",
    "from lcs.agents.xncs import XNCS\n",
    "from lcs.agents.xncs import Configuration as XNCSConfig\n",
    "\n",
    "from utils.xcs_utils import *\n",
    "from utils.nxcs_utils import *\n",
    "\n",
    "XCScfg = XCSConfig(number_of_actions=8,\n",
    "                    max_population=7000,\n",
    "                    learning_rate=0.2,\n",
    "                    alpha=0.1,\n",
    "                    gamma=0.71,\n",
    "                    mutation_chance=0.01,\n",
    "                    delta=0.1,\n",
    "                    ga_threshold=25,\n",
    "                    covering_wildcard_chance = 0.7,\n",
    "                    chi=1,      # crossover\n",
    "                    metrics_trial_frequency=100,\n",
    "                    initial_prediction =10,  # p_i\n",
    "                    initial_error = 0,  # epsilon_i\n",
    "                    initial_fitness = 10,  # f_i\n",
    "                    user_metrics_collector_fcn=xcs_maze_metrics)\n",
    "\n",
    "XNCScfg = XNCSConfig(number_of_actions=8,\n",
    "                    max_population=7000,\n",
    "                    learning_rate=0.2,\n",
    "                    alpha=0.1,\n",
    "                    gamma=0.71,\n",
    "                    mutation_chance=0.01,\n",
    "                    delta=0.1,\n",
    "                    ga_threshold=25,\n",
    "                    covering_wildcard_chance = 0.7,\n",
    "                    chi=1,      # crossover\n",
    "                    metrics_trial_frequency=100,\n",
    "                    initial_prediction =10,  # p_i\n",
    "                    initial_error = 0.1,  # epsilon_i\n",
    "                    initial_fitness = 10,  # f_i\n",
    "                    user_metrics_collector_fcn=xncs_maze_metrics,\n",
    "                    lmc=10,\n",
    "                    lem=100)\n"
   ]
  },
  {
   "cell_type": "code",
   "execution_count": 4,
   "metadata": {
    "scrolled": true
   },
   "outputs": [
    {
     "name": "stdout",
     "output_type": "stream",
     "text": [
      "Executing 0 experiment\n"
     ]
    },
    {
     "name": "stderr",
     "output_type": "stream",
     "text": [
      "INFO:lcs.agents.Agent:{'trial': 0, 'steps_in_trial': 100, 'reward': 0.0, 'perf_time': 6.438388000000003, 'numerosity': 7000, 'population': 5892, 'average_specificity': 8.564285714285715, 'fraction_accuracy': 1.0, 'knowledge': 10.95890410958904}\n",
      "INFO:lcs.agents.Agent:{'trial': 200, 'steps_in_trial': 6, 'reward': 1257.3161234796364, 'perf_time': 0.44417859999998655, 'numerosity': 7000, 'population': 5450, 'average_specificity': 7.980571428571428, 'fraction_accuracy': 1.0, 'knowledge': 7.534246575342466}\n",
      "INFO:lcs.agents.Agent:{'trial': 500, 'steps_in_trial': 11, 'reward': 1023.8709659482762, 'perf_time': 0.3590006999999673, 'numerosity': 7000, 'population': 5286, 'average_specificity': 8.095285714285714, 'fraction_accuracy': 1.0, 'knowledge': 6.8493150684931505}\n",
      "INFO:lcs.agents.Agent:{'trial': 700, 'steps_in_trial': 9, 'reward': 1048.8876099436375, 'perf_time': 0.3336328999999978, 'numerosity': 7000, 'population': 5268, 'average_specificity': 8.511, 'fraction_accuracy': 1.0, 'knowledge': 6.8493150684931505}\n",
      "INFO:lcs.agents.Agent:{'trial': 1000, 'steps_in_trial': 8, 'reward': 1074.9941221800832, 'perf_time': 0.31316379999992705, 'numerosity': 7000, 'population': 5194, 'average_specificity': 8.718571428571428, 'fraction_accuracy': 1.0, 'knowledge': 6.8493150684931505}\n",
      "INFO:lcs.agents.Agent:{'trial': 1200, 'steps_in_trial': 5, 'reward': 1204.664581528421, 'perf_time': 0.3259860000000572, 'numerosity': 7000, 'population': 5185, 'average_specificity': 9.072, 'fraction_accuracy': 1.0, 'knowledge': 6.8493150684931505}\n",
      "INFO:lcs.agents.Agent:{'trial': 1500, 'steps_in_trial': 7, 'reward': 1188.7702900538752, 'perf_time': 0.34286840000004304, 'numerosity': 7000, 'population': 5190, 'average_specificity': 9.154428571428571, 'fraction_accuracy': 1.0, 'knowledge': 6.8493150684931505}\n",
      "INFO:lcs.agents.Agent:{'trial': 1700, 'steps_in_trial': 8, 'reward': 1089.9324523599303, 'perf_time': 0.24491450000004988, 'numerosity': 7000, 'population': 5172, 'average_specificity': 9.311857142857143, 'fraction_accuracy': 0.97, 'knowledge': 6.164383561643835}\n",
      "INFO:lcs.agents.Agent:{'trial': 2000, 'steps_in_trial': 4, 'reward': 1360.8661276785497, 'perf_time': 0.2307184999999663, 'numerosity': 7000, 'population': 5157, 'average_specificity': 9.414285714285715, 'fraction_accuracy': 1.0, 'knowledge': 6.164383561643835}\n",
      "INFO:lcs.agents.Agent:{'trial': 2200, 'steps_in_trial': 8, 'reward': 1082.9505835740995, 'perf_time': 0.35617629999990186, 'numerosity': 7000, 'population': 5228, 'average_specificity': 9.921714285714286, 'fraction_accuracy': 1.0, 'knowledge': 6.164383561643835}\n"
     ]
    },
    {
     "name": "stdout",
     "output_type": "stream",
     "text": [
      "Executing 0 experiment\n"
     ]
    },
    {
     "name": "stderr",
     "output_type": "stream",
     "text": [
      "INFO:lcs.agents.Agent:{'trial': 0, 'steps_in_trial': 100, 'reward': 0.0, 'perf_time': 4.241750100000218, 'population': 5853, 'numerosity': 7000, 'average_specificity': 8.011142857142858, 'knowledge': 100.0}\n",
      "INFO:lcs.agents.Agent:{'trial': 200, 'steps_in_trial': 6, 'reward': 1132.4085326035574, 'perf_time': 0.30875250000008236, 'population': 5287, 'numerosity': 7000, 'average_specificity': 7.460714285714285, 'knowledge': 99.31506849315068}\n",
      "INFO:lcs.agents.Agent:{'trial': 500, 'steps_in_trial': 4, 'reward': 1301.2749009792358, 'perf_time': 0.39512779999995473, 'population': 5057, 'numerosity': 7000, 'average_specificity': 7.381714285714286, 'knowledge': 100.0}\n",
      "INFO:lcs.agents.Agent:{'trial': 700, 'steps_in_trial': 5, 'reward': 1180.4229351022, 'perf_time': 0.2696293000001333, 'population': 4927, 'numerosity': 7000, 'average_specificity': 7.288857142857143, 'knowledge': 100.0}\n",
      "INFO:lcs.agents.Agent:{'trial': 1000, 'steps_in_trial': 6, 'reward': 1135.064094309687, 'perf_time': 0.18124489999991056, 'population': 4735, 'numerosity': 7000, 'average_specificity': 7.303142857142857, 'knowledge': 100.0}\n",
      "INFO:lcs.agents.Agent:{'trial': 1200, 'steps_in_trial': 100, 'reward': 1.7135168734605066e-12, 'perf_time': 2.5678250999999364, 'population': 4653, 'numerosity': 7000, 'average_specificity': 7.367571428571429, 'knowledge': 99.31506849315068}\n",
      "INFO:lcs.agents.Agent:{'trial': 1500, 'steps_in_trial': 5, 'reward': 1189.4810858153346, 'perf_time': 0.19421860000011293, 'population': 4416, 'numerosity': 7000, 'average_specificity': 7.136857142857143, 'knowledge': 100.0}\n",
      "INFO:lcs.agents.Agent:{'trial': 1700, 'steps_in_trial': 6, 'reward': 1175.7467622693382, 'perf_time': 0.44029089999980897, 'population': 4355, 'numerosity': 7000, 'average_specificity': 7.443142857142857, 'knowledge': 99.31506849315068}\n",
      "INFO:lcs.agents.Agent:{'trial': 2000, 'steps_in_trial': 6, 'reward': 1128.1002839222897, 'perf_time': 0.3144142999999531, 'population': 4186, 'numerosity': 7000, 'average_specificity': 8.08457142857143, 'knowledge': 100.0}\n",
      "INFO:lcs.agents.Agent:{'trial': 2200, 'steps_in_trial': 3, 'reward': 1000.0000000000006, 'perf_time': 0.2026733000002423, 'population': 4107, 'numerosity': 7000, 'average_specificity': 7.486285714285715, 'knowledge': 100.0}\n"
     ]
    }
   ],
   "source": [
    "from utils.xcs_utils import avg_experiment as XCSExp\n",
    "from utils.nxcs_utils import avg_experiment as XNCSExp\n",
    "\n",
    "number_of_experiments = 1\n",
    "explore = 2000\n",
    "exploit = 500\n",
    "\n",
    "df_other = XNCSExp(\n",
    "    maze=maze,\n",
    "    cfg=XNCScfg,\n",
    "    number_of_tests=number_of_experiments,\n",
    "    explore_trials=0,\n",
    "    exploit_trials=exploit + explore,\n",
    "    pre_generate=True\n",
    "    )\n",
    "\n",
    "df = XCSExp(maze=maze,\n",
    "             cfg=XCScfg,\n",
    "             number_of_tests=number_of_experiments,\n",
    "             explore_trials=0,\n",
    "             exploit_trials=exploit + explore,\n",
    "             pre_generate=True\n",
    "           )\n",
    "\n"
   ]
  },
  {
   "cell_type": "code",
   "execution_count": 5,
   "metadata": {},
   "outputs": [
    {
     "data": {
      "text/html": [
       "<div>\n",
       "<style scoped>\n",
       "    .dataframe tbody tr th:only-of-type {\n",
       "        vertical-align: middle;\n",
       "    }\n",
       "\n",
       "    .dataframe tbody tr th {\n",
       "        vertical-align: top;\n",
       "    }\n",
       "\n",
       "    .dataframe thead th {\n",
       "        text-align: right;\n",
       "    }\n",
       "</style>\n",
       "<table border=\"1\" class=\"dataframe\">\n",
       "  <thead>\n",
       "    <tr style=\"text-align: right;\">\n",
       "      <th></th>\n",
       "      <th>steps_in_trial</th>\n",
       "      <th>reward</th>\n",
       "      <th>perf_time</th>\n",
       "      <th>population</th>\n",
       "      <th>numerosity</th>\n",
       "      <th>average_specificity</th>\n",
       "      <th>knowledge</th>\n",
       "      <th>steps_in_trial_other</th>\n",
       "      <th>population_other</th>\n",
       "      <th>numerosity_other</th>\n",
       "      <th>average_specificity_other</th>\n",
       "      <th>fraction_accuracy_other</th>\n",
       "      <th>knowledge_other</th>\n",
       "    </tr>\n",
       "    <tr>\n",
       "      <th>trial</th>\n",
       "      <th></th>\n",
       "      <th></th>\n",
       "      <th></th>\n",
       "      <th></th>\n",
       "      <th></th>\n",
       "      <th></th>\n",
       "      <th></th>\n",
       "      <th></th>\n",
       "      <th></th>\n",
       "      <th></th>\n",
       "      <th></th>\n",
       "      <th></th>\n",
       "      <th></th>\n",
       "    </tr>\n",
       "  </thead>\n",
       "  <tbody>\n",
       "    <tr>\n",
       "      <th>0</th>\n",
       "      <td>100</td>\n",
       "      <td>0.000000e+00</td>\n",
       "      <td>4.241750</td>\n",
       "      <td>5853</td>\n",
       "      <td>7000</td>\n",
       "      <td>8.011143</td>\n",
       "      <td>100.000000</td>\n",
       "      <td>100</td>\n",
       "      <td>5892</td>\n",
       "      <td>7000</td>\n",
       "      <td>8.564286</td>\n",
       "      <td>1.00</td>\n",
       "      <td>10.958904</td>\n",
       "    </tr>\n",
       "    <tr>\n",
       "      <th>100</th>\n",
       "      <td>5</td>\n",
       "      <td>1.286283e+03</td>\n",
       "      <td>0.178884</td>\n",
       "      <td>5521</td>\n",
       "      <td>7000</td>\n",
       "      <td>7.266571</td>\n",
       "      <td>100.000000</td>\n",
       "      <td>2</td>\n",
       "      <td>5548</td>\n",
       "      <td>7000</td>\n",
       "      <td>7.969000</td>\n",
       "      <td>1.00</td>\n",
       "      <td>7.534247</td>\n",
       "    </tr>\n",
       "    <tr>\n",
       "      <th>200</th>\n",
       "      <td>6</td>\n",
       "      <td>1.132409e+03</td>\n",
       "      <td>0.308753</td>\n",
       "      <td>5287</td>\n",
       "      <td>7000</td>\n",
       "      <td>7.460714</td>\n",
       "      <td>99.315068</td>\n",
       "      <td>6</td>\n",
       "      <td>5450</td>\n",
       "      <td>7000</td>\n",
       "      <td>7.980571</td>\n",
       "      <td>1.00</td>\n",
       "      <td>7.534247</td>\n",
       "    </tr>\n",
       "    <tr>\n",
       "      <th>300</th>\n",
       "      <td>7</td>\n",
       "      <td>1.091801e+03</td>\n",
       "      <td>0.221936</td>\n",
       "      <td>5220</td>\n",
       "      <td>7000</td>\n",
       "      <td>7.202857</td>\n",
       "      <td>100.000000</td>\n",
       "      <td>19</td>\n",
       "      <td>5341</td>\n",
       "      <td>7000</td>\n",
       "      <td>7.974000</td>\n",
       "      <td>1.00</td>\n",
       "      <td>6.849315</td>\n",
       "    </tr>\n",
       "    <tr>\n",
       "      <th>400</th>\n",
       "      <td>3</td>\n",
       "      <td>1.427822e+03</td>\n",
       "      <td>0.371512</td>\n",
       "      <td>5107</td>\n",
       "      <td>7000</td>\n",
       "      <td>7.427857</td>\n",
       "      <td>100.000000</td>\n",
       "      <td>18</td>\n",
       "      <td>5317</td>\n",
       "      <td>7000</td>\n",
       "      <td>8.079571</td>\n",
       "      <td>1.00</td>\n",
       "      <td>6.849315</td>\n",
       "    </tr>\n",
       "    <tr>\n",
       "      <th>500</th>\n",
       "      <td>4</td>\n",
       "      <td>1.301275e+03</td>\n",
       "      <td>0.395128</td>\n",
       "      <td>5057</td>\n",
       "      <td>7000</td>\n",
       "      <td>7.381714</td>\n",
       "      <td>100.000000</td>\n",
       "      <td>11</td>\n",
       "      <td>5286</td>\n",
       "      <td>7000</td>\n",
       "      <td>8.095286</td>\n",
       "      <td>1.00</td>\n",
       "      <td>6.849315</td>\n",
       "    </tr>\n",
       "    <tr>\n",
       "      <th>600</th>\n",
       "      <td>6</td>\n",
       "      <td>1.128100e+03</td>\n",
       "      <td>0.532877</td>\n",
       "      <td>5016</td>\n",
       "      <td>7000</td>\n",
       "      <td>7.463000</td>\n",
       "      <td>100.000000</td>\n",
       "      <td>6</td>\n",
       "      <td>5264</td>\n",
       "      <td>7000</td>\n",
       "      <td>8.080286</td>\n",
       "      <td>1.00</td>\n",
       "      <td>6.849315</td>\n",
       "    </tr>\n",
       "    <tr>\n",
       "      <th>700</th>\n",
       "      <td>5</td>\n",
       "      <td>1.180423e+03</td>\n",
       "      <td>0.269629</td>\n",
       "      <td>4927</td>\n",
       "      <td>7000</td>\n",
       "      <td>7.288857</td>\n",
       "      <td>100.000000</td>\n",
       "      <td>9</td>\n",
       "      <td>5268</td>\n",
       "      <td>7000</td>\n",
       "      <td>8.511000</td>\n",
       "      <td>1.00</td>\n",
       "      <td>6.849315</td>\n",
       "    </tr>\n",
       "    <tr>\n",
       "      <th>800</th>\n",
       "      <td>100</td>\n",
       "      <td>1.336087e-12</td>\n",
       "      <td>2.555656</td>\n",
       "      <td>4835</td>\n",
       "      <td>7000</td>\n",
       "      <td>7.322857</td>\n",
       "      <td>99.315068</td>\n",
       "      <td>5</td>\n",
       "      <td>5268</td>\n",
       "      <td>7000</td>\n",
       "      <td>8.618000</td>\n",
       "      <td>1.00</td>\n",
       "      <td>6.849315</td>\n",
       "    </tr>\n",
       "    <tr>\n",
       "      <th>900</th>\n",
       "      <td>7</td>\n",
       "      <td>1.105494e+03</td>\n",
       "      <td>0.206130</td>\n",
       "      <td>4755</td>\n",
       "      <td>7000</td>\n",
       "      <td>7.140857</td>\n",
       "      <td>100.000000</td>\n",
       "      <td>5</td>\n",
       "      <td>5243</td>\n",
       "      <td>7000</td>\n",
       "      <td>8.767286</td>\n",
       "      <td>1.00</td>\n",
       "      <td>6.849315</td>\n",
       "    </tr>\n",
       "    <tr>\n",
       "      <th>1000</th>\n",
       "      <td>6</td>\n",
       "      <td>1.135064e+03</td>\n",
       "      <td>0.181245</td>\n",
       "      <td>4735</td>\n",
       "      <td>7000</td>\n",
       "      <td>7.303143</td>\n",
       "      <td>100.000000</td>\n",
       "      <td>8</td>\n",
       "      <td>5194</td>\n",
       "      <td>7000</td>\n",
       "      <td>8.718571</td>\n",
       "      <td>1.00</td>\n",
       "      <td>6.849315</td>\n",
       "    </tr>\n",
       "    <tr>\n",
       "      <th>1100</th>\n",
       "      <td>5</td>\n",
       "      <td>1.206901e+03</td>\n",
       "      <td>0.108420</td>\n",
       "      <td>4673</td>\n",
       "      <td>7000</td>\n",
       "      <td>7.170714</td>\n",
       "      <td>100.000000</td>\n",
       "      <td>7</td>\n",
       "      <td>5187</td>\n",
       "      <td>7000</td>\n",
       "      <td>8.862143</td>\n",
       "      <td>1.00</td>\n",
       "      <td>6.849315</td>\n",
       "    </tr>\n",
       "    <tr>\n",
       "      <th>1200</th>\n",
       "      <td>100</td>\n",
       "      <td>1.713517e-12</td>\n",
       "      <td>2.567825</td>\n",
       "      <td>4653</td>\n",
       "      <td>7000</td>\n",
       "      <td>7.367571</td>\n",
       "      <td>99.315068</td>\n",
       "      <td>5</td>\n",
       "      <td>5185</td>\n",
       "      <td>7000</td>\n",
       "      <td>9.072000</td>\n",
       "      <td>1.00</td>\n",
       "      <td>6.849315</td>\n",
       "    </tr>\n",
       "    <tr>\n",
       "      <th>1300</th>\n",
       "      <td>6</td>\n",
       "      <td>1.000000e+03</td>\n",
       "      <td>0.368133</td>\n",
       "      <td>4558</td>\n",
       "      <td>7000</td>\n",
       "      <td>7.286429</td>\n",
       "      <td>100.000000</td>\n",
       "      <td>7</td>\n",
       "      <td>5194</td>\n",
       "      <td>7000</td>\n",
       "      <td>9.215857</td>\n",
       "      <td>1.00</td>\n",
       "      <td>6.849315</td>\n",
       "    </tr>\n",
       "    <tr>\n",
       "      <th>1400</th>\n",
       "      <td>6</td>\n",
       "      <td>1.225702e+03</td>\n",
       "      <td>0.191057</td>\n",
       "      <td>4394</td>\n",
       "      <td>7000</td>\n",
       "      <td>7.248429</td>\n",
       "      <td>100.000000</td>\n",
       "      <td>7</td>\n",
       "      <td>5192</td>\n",
       "      <td>7000</td>\n",
       "      <td>9.093857</td>\n",
       "      <td>1.00</td>\n",
       "      <td>6.849315</td>\n",
       "    </tr>\n",
       "    <tr>\n",
       "      <th>1500</th>\n",
       "      <td>5</td>\n",
       "      <td>1.189481e+03</td>\n",
       "      <td>0.194219</td>\n",
       "      <td>4416</td>\n",
       "      <td>7000</td>\n",
       "      <td>7.136857</td>\n",
       "      <td>100.000000</td>\n",
       "      <td>7</td>\n",
       "      <td>5190</td>\n",
       "      <td>7000</td>\n",
       "      <td>9.154429</td>\n",
       "      <td>1.00</td>\n",
       "      <td>6.849315</td>\n",
       "    </tr>\n",
       "    <tr>\n",
       "      <th>1600</th>\n",
       "      <td>6</td>\n",
       "      <td>1.165147e+03</td>\n",
       "      <td>0.197963</td>\n",
       "      <td>4360</td>\n",
       "      <td>7000</td>\n",
       "      <td>7.028714</td>\n",
       "      <td>100.000000</td>\n",
       "      <td>8</td>\n",
       "      <td>5218</td>\n",
       "      <td>7000</td>\n",
       "      <td>9.329429</td>\n",
       "      <td>1.00</td>\n",
       "      <td>6.849315</td>\n",
       "    </tr>\n",
       "    <tr>\n",
       "      <th>1700</th>\n",
       "      <td>6</td>\n",
       "      <td>1.175747e+03</td>\n",
       "      <td>0.440291</td>\n",
       "      <td>4355</td>\n",
       "      <td>7000</td>\n",
       "      <td>7.443143</td>\n",
       "      <td>99.315068</td>\n",
       "      <td>8</td>\n",
       "      <td>5172</td>\n",
       "      <td>7000</td>\n",
       "      <td>9.311857</td>\n",
       "      <td>0.97</td>\n",
       "      <td>6.164384</td>\n",
       "    </tr>\n",
       "    <tr>\n",
       "      <th>1800</th>\n",
       "      <td>5</td>\n",
       "      <td>1.194507e+03</td>\n",
       "      <td>0.512993</td>\n",
       "      <td>4326</td>\n",
       "      <td>7000</td>\n",
       "      <td>8.047000</td>\n",
       "      <td>98.630137</td>\n",
       "      <td>11</td>\n",
       "      <td>5166</td>\n",
       "      <td>7000</td>\n",
       "      <td>8.916143</td>\n",
       "      <td>0.94</td>\n",
       "      <td>6.164384</td>\n",
       "    </tr>\n",
       "    <tr>\n",
       "      <th>1900</th>\n",
       "      <td>11</td>\n",
       "      <td>1.023654e+03</td>\n",
       "      <td>0.221673</td>\n",
       "      <td>4265</td>\n",
       "      <td>7000</td>\n",
       "      <td>7.686000</td>\n",
       "      <td>100.000000</td>\n",
       "      <td>6</td>\n",
       "      <td>5169</td>\n",
       "      <td>7000</td>\n",
       "      <td>9.170429</td>\n",
       "      <td>1.00</td>\n",
       "      <td>6.164384</td>\n",
       "    </tr>\n",
       "    <tr>\n",
       "      <th>2000</th>\n",
       "      <td>6</td>\n",
       "      <td>1.128100e+03</td>\n",
       "      <td>0.314414</td>\n",
       "      <td>4186</td>\n",
       "      <td>7000</td>\n",
       "      <td>8.084571</td>\n",
       "      <td>100.000000</td>\n",
       "      <td>4</td>\n",
       "      <td>5157</td>\n",
       "      <td>7000</td>\n",
       "      <td>9.414286</td>\n",
       "      <td>1.00</td>\n",
       "      <td>6.164384</td>\n",
       "    </tr>\n",
       "    <tr>\n",
       "      <th>2100</th>\n",
       "      <td>9</td>\n",
       "      <td>1.061988e+03</td>\n",
       "      <td>0.325730</td>\n",
       "      <td>4150</td>\n",
       "      <td>7000</td>\n",
       "      <td>7.908571</td>\n",
       "      <td>100.000000</td>\n",
       "      <td>4</td>\n",
       "      <td>5175</td>\n",
       "      <td>7000</td>\n",
       "      <td>9.630429</td>\n",
       "      <td>1.00</td>\n",
       "      <td>6.164384</td>\n",
       "    </tr>\n",
       "    <tr>\n",
       "      <th>2200</th>\n",
       "      <td>3</td>\n",
       "      <td>1.000000e+03</td>\n",
       "      <td>0.202673</td>\n",
       "      <td>4107</td>\n",
       "      <td>7000</td>\n",
       "      <td>7.486286</td>\n",
       "      <td>100.000000</td>\n",
       "      <td>8</td>\n",
       "      <td>5228</td>\n",
       "      <td>7000</td>\n",
       "      <td>9.921714</td>\n",
       "      <td>1.00</td>\n",
       "      <td>6.164384</td>\n",
       "    </tr>\n",
       "    <tr>\n",
       "      <th>2300</th>\n",
       "      <td>100</td>\n",
       "      <td>1.336087e-12</td>\n",
       "      <td>2.744855</td>\n",
       "      <td>4051</td>\n",
       "      <td>7000</td>\n",
       "      <td>7.606571</td>\n",
       "      <td>99.315068</td>\n",
       "      <td>8</td>\n",
       "      <td>5215</td>\n",
       "      <td>7000</td>\n",
       "      <td>10.057286</td>\n",
       "      <td>1.00</td>\n",
       "      <td>6.849315</td>\n",
       "    </tr>\n",
       "    <tr>\n",
       "      <th>2400</th>\n",
       "      <td>6</td>\n",
       "      <td>1.151329e+03</td>\n",
       "      <td>0.234328</td>\n",
       "      <td>4035</td>\n",
       "      <td>7000</td>\n",
       "      <td>7.732571</td>\n",
       "      <td>100.000000</td>\n",
       "      <td>9</td>\n",
       "      <td>5220</td>\n",
       "      <td>7000</td>\n",
       "      <td>10.158571</td>\n",
       "      <td>1.00</td>\n",
       "      <td>6.849315</td>\n",
       "    </tr>\n",
       "  </tbody>\n",
       "</table>\n",
       "</div>"
      ],
      "text/plain": [
       "       steps_in_trial        reward  perf_time  population  numerosity  \\\n",
       "trial                                                                    \n",
       "0                 100  0.000000e+00   4.241750        5853        7000   \n",
       "100                 5  1.286283e+03   0.178884        5521        7000   \n",
       "200                 6  1.132409e+03   0.308753        5287        7000   \n",
       "300                 7  1.091801e+03   0.221936        5220        7000   \n",
       "400                 3  1.427822e+03   0.371512        5107        7000   \n",
       "500                 4  1.301275e+03   0.395128        5057        7000   \n",
       "600                 6  1.128100e+03   0.532877        5016        7000   \n",
       "700                 5  1.180423e+03   0.269629        4927        7000   \n",
       "800               100  1.336087e-12   2.555656        4835        7000   \n",
       "900                 7  1.105494e+03   0.206130        4755        7000   \n",
       "1000                6  1.135064e+03   0.181245        4735        7000   \n",
       "1100                5  1.206901e+03   0.108420        4673        7000   \n",
       "1200              100  1.713517e-12   2.567825        4653        7000   \n",
       "1300                6  1.000000e+03   0.368133        4558        7000   \n",
       "1400                6  1.225702e+03   0.191057        4394        7000   \n",
       "1500                5  1.189481e+03   0.194219        4416        7000   \n",
       "1600                6  1.165147e+03   0.197963        4360        7000   \n",
       "1700                6  1.175747e+03   0.440291        4355        7000   \n",
       "1800                5  1.194507e+03   0.512993        4326        7000   \n",
       "1900               11  1.023654e+03   0.221673        4265        7000   \n",
       "2000                6  1.128100e+03   0.314414        4186        7000   \n",
       "2100                9  1.061988e+03   0.325730        4150        7000   \n",
       "2200                3  1.000000e+03   0.202673        4107        7000   \n",
       "2300              100  1.336087e-12   2.744855        4051        7000   \n",
       "2400                6  1.151329e+03   0.234328        4035        7000   \n",
       "\n",
       "       average_specificity   knowledge  steps_in_trial_other  \\\n",
       "trial                                                          \n",
       "0                 8.011143  100.000000                   100   \n",
       "100               7.266571  100.000000                     2   \n",
       "200               7.460714   99.315068                     6   \n",
       "300               7.202857  100.000000                    19   \n",
       "400               7.427857  100.000000                    18   \n",
       "500               7.381714  100.000000                    11   \n",
       "600               7.463000  100.000000                     6   \n",
       "700               7.288857  100.000000                     9   \n",
       "800               7.322857   99.315068                     5   \n",
       "900               7.140857  100.000000                     5   \n",
       "1000              7.303143  100.000000                     8   \n",
       "1100              7.170714  100.000000                     7   \n",
       "1200              7.367571   99.315068                     5   \n",
       "1300              7.286429  100.000000                     7   \n",
       "1400              7.248429  100.000000                     7   \n",
       "1500              7.136857  100.000000                     7   \n",
       "1600              7.028714  100.000000                     8   \n",
       "1700              7.443143   99.315068                     8   \n",
       "1800              8.047000   98.630137                    11   \n",
       "1900              7.686000  100.000000                     6   \n",
       "2000              8.084571  100.000000                     4   \n",
       "2100              7.908571  100.000000                     4   \n",
       "2200              7.486286  100.000000                     8   \n",
       "2300              7.606571   99.315068                     8   \n",
       "2400              7.732571  100.000000                     9   \n",
       "\n",
       "       population_other  numerosity_other  average_specificity_other  \\\n",
       "trial                                                                  \n",
       "0                  5892              7000                   8.564286   \n",
       "100                5548              7000                   7.969000   \n",
       "200                5450              7000                   7.980571   \n",
       "300                5341              7000                   7.974000   \n",
       "400                5317              7000                   8.079571   \n",
       "500                5286              7000                   8.095286   \n",
       "600                5264              7000                   8.080286   \n",
       "700                5268              7000                   8.511000   \n",
       "800                5268              7000                   8.618000   \n",
       "900                5243              7000                   8.767286   \n",
       "1000               5194              7000                   8.718571   \n",
       "1100               5187              7000                   8.862143   \n",
       "1200               5185              7000                   9.072000   \n",
       "1300               5194              7000                   9.215857   \n",
       "1400               5192              7000                   9.093857   \n",
       "1500               5190              7000                   9.154429   \n",
       "1600               5218              7000                   9.329429   \n",
       "1700               5172              7000                   9.311857   \n",
       "1800               5166              7000                   8.916143   \n",
       "1900               5169              7000                   9.170429   \n",
       "2000               5157              7000                   9.414286   \n",
       "2100               5175              7000                   9.630429   \n",
       "2200               5228              7000                   9.921714   \n",
       "2300               5215              7000                  10.057286   \n",
       "2400               5220              7000                  10.158571   \n",
       "\n",
       "       fraction_accuracy_other  knowledge_other  \n",
       "trial                                            \n",
       "0                         1.00        10.958904  \n",
       "100                       1.00         7.534247  \n",
       "200                       1.00         7.534247  \n",
       "300                       1.00         6.849315  \n",
       "400                       1.00         6.849315  \n",
       "500                       1.00         6.849315  \n",
       "600                       1.00         6.849315  \n",
       "700                       1.00         6.849315  \n",
       "800                       1.00         6.849315  \n",
       "900                       1.00         6.849315  \n",
       "1000                      1.00         6.849315  \n",
       "1100                      1.00         6.849315  \n",
       "1200                      1.00         6.849315  \n",
       "1300                      1.00         6.849315  \n",
       "1400                      1.00         6.849315  \n",
       "1500                      1.00         6.849315  \n",
       "1600                      1.00         6.849315  \n",
       "1700                      0.97         6.164384  \n",
       "1800                      0.94         6.164384  \n",
       "1900                      1.00         6.164384  \n",
       "2000                      1.00         6.164384  \n",
       "2100                      1.00         6.164384  \n",
       "2200                      1.00         6.164384  \n",
       "2300                      1.00         6.849315  \n",
       "2400                      1.00         6.849315  "
      ]
     },
     "metadata": {},
     "output_type": "display_data"
    }
   ],
   "source": [
    "df['steps_in_trial_other']=df_other['steps_in_trial']\n",
    "df['population_other']=df_other['population']\n",
    "df['numerosity_other']=df_other['numerosity']\n",
    "df['average_specificity_other']=df_other['average_specificity']\n",
    "df['fraction_accuracy_other']=df_other['fraction_accuracy']\n",
    "df['knowledge_other']=df_other['knowledge']\n",
    "\n",
    "display(df)"
   ]
  },
  {
   "cell_type": "code",
   "execution_count": 6,
   "metadata": {},
   "outputs": [
    {
     "data": {
      "text/plain": [
       "<matplotlib.legend.Legend at 0x262e120d148>"
      ]
     },
     "execution_count": 6,
     "metadata": {},
     "output_type": "execute_result"
    },
    {
     "data": {
      "image/png": "[encoded data removed]",
      "text/plain": [
       "<Figure size 432x288 with 1 Axes>"
      ]
     },
     "metadata": {
      "needs_background": "light"
     },
     "output_type": "display_data"
    }
   ],
   "source": [
    "import pandas as pd\n",
    "import numpy as np\n",
    "\n",
    "ax = df[['average_specificity', \"average_specificity_other\"]].plot()\n",
    "ax.set_xlabel(\"trial\")\n",
    "ax.set_ylabel(\"average_specificity\")\n",
    "ax.legend([\"XCS\",\"XNCS\"])"
   ]
  },
  {
   "cell_type": "code",
   "execution_count": 7,
   "metadata": {},
   "outputs": [
    {
     "data": {
      "text/plain": [
       "<matplotlib.legend.Legend at 0x262e4aee988>"
      ]
     },
     "execution_count": 7,
     "metadata": {},
     "output_type": "execute_result"
    },
    {
     "data": {
      "image/png": "[encoded data removed]",
      "text/plain": [
       "<Figure size 432x288 with 1 Axes>"
      ]
     },
     "metadata": {
      "needs_background": "light"
     },
     "output_type": "display_data"
    }
   ],
   "source": [
    "ax = df[\"fraction_accuracy_other\"].plot()\n",
    "ax.set_xlabel(\"trial\")\n",
    "ax.set_ylabel(\"fraction accuracy\")\n",
    "ax.legend([\"XCS\",\"XNCS\"])"
   ]
  },
  {
   "cell_type": "code",
   "execution_count": 8,
   "metadata": {},
   "outputs": [
    {
     "data": {
      "text/plain": [
       "<matplotlib.legend.Legend at 0x262e4c493c8>"
      ]
     },
     "execution_count": 8,
     "metadata": {},
     "output_type": "execute_result"
    },
    {
     "data": {
      "image/png": "[encoded data removed]",
      "text/plain": [
       "<Figure size 432x288 with 1 Axes>"
      ]
     },
     "metadata": {
      "needs_background": "light"
     },
     "output_type": "display_data"
    }
   ],
   "source": [
    "ax = df[['numerosity', 'numerosity_other']].plot()\n",
    "ax.set_xlabel(\"trial\")\n",
    "ax.set_ylabel(\"numerosity\")\n",
    "ax.legend([\"numerosity\", \"number of rules\"])"
   ]
  },
  {
   "cell_type": "code",
   "execution_count": 9,
   "metadata": {},
   "outputs": [
    {
     "data": {
      "text/plain": [
       "<matplotlib.legend.Legend at 0x262e4c87f48>"
      ]
     },
     "execution_count": 9,
     "metadata": {},
     "output_type": "execute_result"
    },
    {
     "data": {
      "image/png": "[encoded data removed]",
      "text/plain": [
       "<Figure size 432x288 with 1 Axes>"
      ]
     },
     "metadata": {
      "needs_background": "light"
     },
     "output_type": "display_data"
    }
   ],
   "source": [
    "ax = df[['population', \"population_other\"]].plot()\n",
    "ax.set_xlabel(\"trial\")\n",
    "ax.set_ylabel(\"population\")\n",
    "ax.legend([\"XCS\",\"XNCS\"])"
   ]
  },
  {
   "cell_type": "code",
   "execution_count": 10,
   "metadata": {},
   "outputs": [
    {
     "data": {
      "text/plain": [
       "<matplotlib.legend.Legend at 0x262e4d01308>"
      ]
     },
     "execution_count": 10,
     "metadata": {},
     "output_type": "execute_result"
    },
    {
     "data": {
      "image/png": "[encoded data removed]",
      "text/plain": [
       "<Figure size 432x288 with 1 Axes>"
      ]
     },
     "metadata": {
      "needs_background": "light"
     },
     "output_type": "display_data"
    }
   ],
   "source": [
    "ax = df['knowledge'].plot()\n",
    "ax.set_xlabel(\"trial\")\n",
    "ax.set_ylabel(\"Knowledge\")\n",
    "ax.legend([\"XCS\"])"
   ]
  },
  {
   "cell_type": "code",
   "execution_count": 11,
   "metadata": {},
   "outputs": [
    {
     "data": {
      "text/plain": [
       "<matplotlib.legend.Legend at 0x262e4dbe188>"
      ]
     },
     "execution_count": 11,
     "metadata": {},
     "output_type": "execute_result"
    },
    {
     "data": {
      "image/png": "[encoded data removed]",
      "text/plain": [
       "<Figure size 432x288 with 1 Axes>"
      ]
     },
     "metadata": {
      "needs_background": "light"
     },
     "output_type": "display_data"
    }
   ],
   "source": [
    "ax = df['knowledge_other'].plot()\n",
    "ax.set_xlabel(\"trial\")\n",
    "ax.set_ylabel(\"Knowledge\")\n",
    "ax.legend([\"XNCS\"])"
   ]
  },
  {
   "cell_type": "code",
   "execution_count": 12,
   "metadata": {},
   "outputs": [
    {
     "data": {
      "text/plain": [
       "<matplotlib.legend.Legend at 0x262e4e6b208>"
      ]
     },
     "execution_count": 12,
     "metadata": {},
     "output_type": "execute_result"
    },
    {
     "data": {
      "image/png": "[encoded data removed]",
      "text/plain": [
       "<Figure size 432x288 with 1 Axes>"
      ]
     },
     "metadata": {
      "needs_background": "light"
     },
     "output_type": "display_data"
    }
   ],
   "source": [
    "ax = df[['steps_in_trial', 'steps_in_trial_other']].plot()\n",
    "ax.set_xlabel(\"trial\")\n",
    "ax.set_ylabel(\"steps in trial\")\n",
    "ax.legend([\"XCS\",\"XNCS\"])"
   ]
  },
  {
   "cell_type": "code",
   "execution_count": 13,
   "metadata": {},
   "outputs": [
    {
     "name": "stdout",
     "output_type": "stream",
     "text": [
      "523.0\n",
      "288.0\n"
     ]
    }
   ],
   "source": [
    "print(sum(df[\"steps_in_trial\"])/number_of_experiments)\n",
    "print(sum(df[\"steps_in_trial_other\"])/number_of_experiments)"
   ]
  }
 ],
 "metadata": {
  "kernelspec": {
   "display_name": "Python 3",
   "language": "python",
   "name": "python3"
  },
  "language_info": {
   "codemirror_mode": {
    "name": "ipython",
    "version": 3
   },
   "file_extension": ".py",
   "mimetype": "text/x-python",
   "name": "python",
   "nbconvert_exporter": "python",
   "pygments_lexer": "ipython3",
   "version": "3.7.10"
  }
 },
 "nbformat": 4,
 "nbformat_minor": 1
}
