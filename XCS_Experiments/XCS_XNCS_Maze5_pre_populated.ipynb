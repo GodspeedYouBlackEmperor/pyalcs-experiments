{
 "cells": [
  {
   "cell_type": "code",
   "execution_count": 9,
   "metadata": {},
   "outputs": [],
   "source": [
    "# logging \n",
    "import logging\n",
    "logging.basicConfig(level=logging.INFO)\n",
    "logger = logging.getLogger(__name__)\n"
   ]
  },
  {
   "cell_type": "code",
   "execution_count": 10,
   "metadata": {},
   "outputs": [
    {
     "name": "stdout",
     "output_type": "stream",
     "text": [
      "This is how maze looks like\n",
      "<class 'tuple'>\n",
      "('0', '0', '0', '1', '0', '0', '1', '0')\n",
      "\n",
      "\u001b[30m■\u001b[0m \u001b[30m■\u001b[0m \u001b[30m■\u001b[0m \u001b[30m■\u001b[0m \u001b[30m■\u001b[0m \u001b[30m■\u001b[0m \u001b[30m■\u001b[0m \u001b[30m■\u001b[0m \u001b[30m■\u001b[0m\n",
      "\u001b[30m■\u001b[0m \u001b[37m□\u001b[0m \u001b[37m□\u001b[0m \u001b[37m□\u001b[0m \u001b[37m□\u001b[0m \u001b[37m□\u001b[0m \u001b[37m□\u001b[0m \u001b[33m$\u001b[0m \u001b[30m■\u001b[0m\n",
      "\u001b[30m■\u001b[0m \u001b[37m□\u001b[0m \u001b[37m□\u001b[0m \u001b[30m■\u001b[0m \u001b[37m□\u001b[0m \u001b[30m■\u001b[0m \u001b[30m■\u001b[0m \u001b[37m□\u001b[0m \u001b[30m■\u001b[0m\n",
      "\u001b[30m■\u001b[0m \u001b[37m□\u001b[0m \u001b[30m■\u001b[0m \u001b[37m□\u001b[0m \u001b[37m□\u001b[0m \u001b[37m□\u001b[0m \u001b[37m□\u001b[0m \u001b[37m□\u001b[0m \u001b[30m■\u001b[0m\n",
      "\u001b[30m■\u001b[0m \u001b[37m□\u001b[0m \u001b[37m□\u001b[0m \u001b[37m□\u001b[0m \u001b[30m■\u001b[0m \u001b[30m■\u001b[0m \u001b[31mA\u001b[0m \u001b[37m□\u001b[0m \u001b[30m■\u001b[0m\n",
      "\u001b[30m■\u001b[0m \u001b[37m□\u001b[0m \u001b[30m■\u001b[0m \u001b[37m□\u001b[0m \u001b[30m■\u001b[0m \u001b[37m□\u001b[0m \u001b[37m□\u001b[0m \u001b[30m■\u001b[0m \u001b[30m■\u001b[0m\n",
      "\u001b[30m■\u001b[0m \u001b[37m□\u001b[0m \u001b[30m■\u001b[0m \u001b[37m□\u001b[0m \u001b[37m□\u001b[0m \u001b[30m■\u001b[0m \u001b[37m□\u001b[0m \u001b[37m□\u001b[0m \u001b[30m■\u001b[0m\n",
      "\u001b[30m■\u001b[0m \u001b[37m□\u001b[0m \u001b[37m□\u001b[0m \u001b[37m□\u001b[0m \u001b[37m□\u001b[0m \u001b[37m□\u001b[0m \u001b[30m■\u001b[0m \u001b[37m□\u001b[0m \u001b[30m■\u001b[0m\n",
      "\u001b[30m■\u001b[0m \u001b[30m■\u001b[0m \u001b[30m■\u001b[0m \u001b[30m■\u001b[0m \u001b[30m■\u001b[0m \u001b[30m■\u001b[0m \u001b[30m■\u001b[0m \u001b[30m■\u001b[0m \u001b[30m■\u001b[0m\n"
     ]
    }
   ],
   "source": [
    "# environment setup\n",
    "import gym\n",
    "# noinspection PyUnresolvedReferences\n",
    "import gym_maze\n",
    "\n",
    "maze = gym.make('Maze5-v0')\n",
    "print(\"This is how maze looks like\")\n",
    "situation = maze.reset()\n",
    "print(type(situation))\n",
    "print(situation)\n",
    "maze.render()\n"
   ]
  },
  {
   "cell_type": "code",
   "execution_count": 11,
   "metadata": {},
   "outputs": [],
   "source": [
    "from lcs.agents.xcs import XCS\n",
    "from lcs.agents.xcs import Configuration as XCSConfig\n",
    "from lcs.agents.xncs import XNCS\n",
    "from lcs.agents.xncs import Configuration as XNCSConfig\n",
    "\n",
    "from utils.xcs_utils import xcs_metrics\n",
    "from utils.nxcs_utils import xncs_metrics\n",
    "\n",
    "XCScfg = XCSConfig(number_of_actions=8,\n",
    "                    max_population=1600,\n",
    "                    learning_rate=0.2,\n",
    "                    alpha=0.1,\n",
    "                    gamma=0.71,\n",
    "                    mutation_chance=0.01,\n",
    "                    delta=0.1,\n",
    "                    ga_threshold=25,\n",
    "                    covering_wildcard_chance = 0.7,\n",
    "                    chi=1,      # crossover\n",
    "                    metrics_trial_frequency=100,\n",
    "                    initial_prediction =10,  # p_i\n",
    "                    initial_error = 0,  # epsilon_i\n",
    "                    initial_fitness = 10,  # f_i\n",
    "                    user_metrics_collector_fcn=xcs_metrics)\n",
    "\n",
    "XNCScfg = XNCSConfig(number_of_actions=8,\n",
    "                    max_population=1600,\n",
    "                    learning_rate=0.2,\n",
    "                    alpha=0.1,\n",
    "                    gamma=0.71,\n",
    "                    mutation_chance=0.01,\n",
    "                    delta=0.1,\n",
    "                    ga_threshold=25,\n",
    "                    covering_wildcard_chance = 0.7,\n",
    "                    chi=1,      # crossover\n",
    "                    metrics_trial_frequency=100,\n",
    "                    initial_prediction =10,  # p_i\n",
    "                    initial_error = 0.1,  # epsilon_i\n",
    "                    initial_fitness = 10,  # f_i\n",
    "                    user_metrics_collector_fcn=xncs_metrics,\n",
    "                    lmc=10,\n",
    "                    lem=20)\n"
   ]
  },
  {
   "cell_type": "code",
   "execution_count": 12,
   "metadata": {
    "scrolled": true
   },
   "outputs": [
    {
     "name": "stdout",
     "output_type": "stream",
     "text": [
      "Executing 0 experiment\n"
     ]
    },
    {
     "name": "stderr",
     "output_type": "stream",
     "text": [
      "INFO:lcs.agents.Agent:{'trial': 0, 'steps_in_trial': 91, 'reward': 1000.0, 'perf_time': 1.182630300000028, 'population': 1511, 'numerosity': 1600, 'average_specificity': 8.2225}\n",
      "INFO:lcs.agents.Agent:{'trial': 200, 'steps_in_trial': 8, 'reward': 1071.0358873685009, 'perf_time': 0.06847820000007232, 'population': 1187, 'numerosity': 1600, 'average_specificity': 6.52625}\n",
      "INFO:lcs.agents.Agent:{'trial': 500, 'steps_in_trial': 8, 'reward': 1066.4893540049404, 'perf_time': 0.03988800000001902, 'population': 989, 'numerosity': 1600, 'average_specificity': 6.39625}\n",
      "INFO:lcs.agents.Agent:{'trial': 700, 'steps_in_trial': 5, 'reward': 1204.3135939567155, 'perf_time': 0.1050110000001041, 'population': 964, 'numerosity': 1600, 'average_specificity': 6.45625}\n",
      "INFO:lcs.agents.Agent:{'trial': 1000, 'steps_in_trial': 86, 'reward': 1000.0000000001642, 'perf_time': 0.4929388000000472, 'population': 852, 'numerosity': 1600, 'average_specificity': 5.9925}\n",
      "INFO:lcs.agents.Agent:{'trial': 1200, 'steps_in_trial': 100, 'reward': 1.3360874108178924e-12, 'perf_time': 0.4998454000001402, 'population': 825, 'numerosity': 1600, 'average_specificity': 6.76375}\n",
      "INFO:lcs.agents.Agent:{'trial': 1500, 'steps_in_trial': 100, 'reward': 1.8601575757067045e-12, 'perf_time': 0.4377430999998069, 'population': 749, 'numerosity': 1600, 'average_specificity': 5.826875}\n",
      "INFO:lcs.agents.Agent:{'trial': 1700, 'steps_in_trial': 1, 'reward': 1890.4229351000004, 'perf_time': 0.009065300000202114, 'population': 703, 'numerosity': 1600, 'average_specificity': 6.205625}\n",
      "INFO:lcs.agents.Agent:{'trial': 2000, 'steps_in_trial': 8, 'reward': 1096.3421050757147, 'perf_time': 0.060969399999976304, 'population': 662, 'numerosity': 1600, 'average_specificity': 5.7225}\n",
      "INFO:lcs.agents.Agent:{'trial': 2200, 'steps_in_trial': 9, 'reward': 1045.848500718449, 'perf_time': 0.02816099999972721, 'population': 631, 'numerosity': 1600, 'average_specificity': 5.93875}\n"
     ]
    },
    {
     "name": "stdout",
     "output_type": "stream",
     "text": [
      "Executing 1 experiment\n"
     ]
    },
    {
     "name": "stderr",
     "output_type": "stream",
     "text": [
      "INFO:lcs.agents.Agent:{'trial': 0, 'steps_in_trial': 100, 'reward': 0.0, 'perf_time': 1.334747100000186, 'population': 1501, 'numerosity': 1600, 'average_specificity': 8.259375}\n",
      "INFO:lcs.agents.Agent:{'trial': 200, 'steps_in_trial': 2, 'reward': 1601.3036719689326, 'perf_time': 0.010985599999912665, 'population': 1051, 'numerosity': 1600, 'average_specificity': 6.85}\n",
      "INFO:lcs.agents.Agent:{'trial': 500, 'steps_in_trial': 12, 'reward': 1017.1125914426574, 'perf_time': 0.0911937000000762, 'population': 956, 'numerosity': 1600, 'average_specificity': 6.56375}\n",
      "INFO:lcs.agents.Agent:{'trial': 700, 'steps_in_trial': 10, 'reward': 1037.3318461885617, 'perf_time': 0.09520219999967594, 'population': 859, 'numerosity': 1600, 'average_specificity': 6.738125}\n",
      "INFO:lcs.agents.Agent:{'trial': 1000, 'steps_in_trial': 6, 'reward': 1152.704993496062, 'perf_time': 0.0325394999999844, 'population': 830, 'numerosity': 1600, 'average_specificity': 6.2925}\n",
      "INFO:lcs.agents.Agent:{'trial': 1200, 'steps_in_trial': 7, 'reward': 1097.654768868038, 'perf_time': 0.027945000000272557, 'population': 765, 'numerosity': 1600, 'average_specificity': 5.9825}\n",
      "INFO:lcs.agents.Agent:{'trial': 1500, 'steps_in_trial': 6, 'reward': 1140.658531456923, 'perf_time': 0.02914779999991879, 'population': 694, 'numerosity': 1600, 'average_specificity': 5.855625}\n",
      "INFO:lcs.agents.Agent:{'trial': 1700, 'steps_in_trial': 6, 'reward': 1137.5989129430702, 'perf_time': 0.03240780000032828, 'population': 688, 'numerosity': 1600, 'average_specificity': 5.965625}\n",
      "INFO:lcs.agents.Agent:{'trial': 2000, 'steps_in_trial': 12, 'reward': 1017.9021631035129, 'perf_time': 0.10980059999974401, 'population': 617, 'numerosity': 1600, 'average_specificity': 5.591875}\n",
      "INFO:lcs.agents.Agent:{'trial': 2200, 'steps_in_trial': 8, 'reward': 1076.3557804025895, 'perf_time': 0.05052120000027571, 'population': 602, 'numerosity': 1600, 'average_specificity': 5.250625}\n"
     ]
    },
    {
     "name": "stdout",
     "output_type": "stream",
     "text": [
      "Executing 2 experiment\n"
     ]
    },
    {
     "name": "stderr",
     "output_type": "stream",
     "text": [
      "INFO:lcs.agents.Agent:{'trial': 0, 'steps_in_trial': 100, 'reward': 0.0, 'perf_time': 1.4415217000000666, 'population': 1474, 'numerosity': 1600, 'average_specificity': 8.50375}\n",
      "INFO:lcs.agents.Agent:{'trial': 200, 'steps_in_trial': 9, 'reward': 1047.9978638786406, 'perf_time': 0.12999459999991814, 'population': 1152, 'numerosity': 1600, 'average_specificity': 7.305}\n",
      "INFO:lcs.agents.Agent:{'trial': 500, 'steps_in_trial': 21, 'reward': 1000.7612272136556, 'perf_time': 0.21032450000029712, 'population': 1020, 'numerosity': 1600, 'average_specificity': 7.0325}\n",
      "INFO:lcs.agents.Agent:{'trial': 700, 'steps_in_trial': 14, 'reward': 1008.351767683129, 'perf_time': 0.10409530000015366, 'population': 945, 'numerosity': 1600, 'average_specificity': 6.55875}\n",
      "INFO:lcs.agents.Agent:{'trial': 1000, 'steps_in_trial': 21, 'reward': 1000.0, 'perf_time': 0.14581039999984569, 'population': 885, 'numerosity': 1600, 'average_specificity': 7.119375}\n",
      "INFO:lcs.agents.Agent:{'trial': 1200, 'steps_in_trial': 6, 'reward': 1134.3809077417534, 'perf_time': 0.03784570000016174, 'population': 804, 'numerosity': 1600, 'average_specificity': 6.191875}\n",
      "INFO:lcs.agents.Agent:{'trial': 1500, 'steps_in_trial': 8, 'reward': 1067.7715937499695, 'perf_time': 0.06312460000026476, 'population': 725, 'numerosity': 1600, 'average_specificity': 6.32875}\n",
      "INFO:lcs.agents.Agent:{'trial': 1700, 'steps_in_trial': 88, 'reward': 1000.0000000002047, 'perf_time': 0.4084277000001748, 'population': 701, 'numerosity': 1600, 'average_specificity': 5.29625}\n",
      "INFO:lcs.agents.Agent:{'trial': 2000, 'steps_in_trial': 2, 'reward': 1577.4817931747361, 'perf_time': 0.008521100000052684, 'population': 693, 'numerosity': 1600, 'average_specificity': 5.646875}\n",
      "INFO:lcs.agents.Agent:{'trial': 2200, 'steps_in_trial': 1, 'reward': 1745.7330450301124, 'perf_time': 0.0033174000000144588, 'population': 664, 'numerosity': 1600, 'average_specificity': 6.075}\n"
     ]
    },
    {
     "name": "stdout",
     "output_type": "stream",
     "text": [
      "Executing 0 experiment\n"
     ]
    },
    {
     "name": "stderr",
     "output_type": "stream",
     "text": [
      "INFO:lcs.agents.Agent:{'trial': 0, 'steps_in_trial': 100, 'reward': 0.0, 'perf_time': 1.7986762999998973, 'numerosity': 1600, 'population': 1497, 'average_specificity': 8.63375, 'fraction_accuracy': 0.0}\n",
      "INFO:lcs.agents.Agent:{'trial': 200, 'steps_in_trial': 4, 'reward': 1292.6640604561987, 'perf_time': 0.0708769999996548, 'numerosity': 1600, 'population': 1197, 'average_specificity': 7.353125, 'fraction_accuracy': 0.013888888888888888}\n",
      "INFO:lcs.agents.Agent:{'trial': 500, 'steps_in_trial': 100, 'reward': 1.6206411223043209e-12, 'perf_time': 0.9713175000001684, 'numerosity': 1600, 'population': 1104, 'average_specificity': 6.828125, 'fraction_accuracy': 0.0}\n",
      "INFO:lcs.agents.Agent:{'trial': 700, 'steps_in_trial': 100, 'reward': 3.186687579353646e-57, 'perf_time': 0.9517409999998563, 'numerosity': 1600, 'population': 1110, 'average_specificity': 7.803125, 'fraction_accuracy': 0.0}\n",
      "INFO:lcs.agents.Agent:{'trial': 1000, 'steps_in_trial': 100, 'reward': 2.4438376570908486e-42, 'perf_time': 1.1025053999996999, 'numerosity': 1600, 'population': 1044, 'average_specificity': 9.208125, 'fraction_accuracy': 0.0}\n",
      "INFO:lcs.agents.Agent:{'trial': 1200, 'steps_in_trial': 12, 'reward': 1016.4096827406469, 'perf_time': 0.1049763000000894, 'numerosity': 1600, 'population': 1044, 'average_specificity': 8.521875, 'fraction_accuracy': 0.0}\n",
      "INFO:lcs.agents.Agent:{'trial': 1500, 'steps_in_trial': 9, 'reward': 1052.5286416126953, 'perf_time': 0.12412210000002233, 'numerosity': 1600, 'population': 1039, 'average_specificity': 6.921875, 'fraction_accuracy': 0.0}\n",
      "INFO:lcs.agents.Agent:{'trial': 1700, 'steps_in_trial': 100, 'reward': 1.371283009762926e-12, 'perf_time': 0.8249092000000928, 'numerosity': 1600, 'population': 1016, 'average_specificity': 7.176875, 'fraction_accuracy': 0.1203416149068323}\n",
      "INFO:lcs.agents.Agent:{'trial': 2000, 'steps_in_trial': 18, 'reward': 1002.8560352269046, 'perf_time': 0.20930589999989024, 'numerosity': 1600, 'population': 1044, 'average_specificity': 7.6575, 'fraction_accuracy': 0.0}\n",
      "INFO:lcs.agents.Agent:{'trial': 2200, 'steps_in_trial': 6, 'reward': 1152.3685516372732, 'perf_time': 0.07955069999979969, 'numerosity': 1600, 'population': 1058, 'average_specificity': 7.845625, 'fraction_accuracy': 0.0}\n"
     ]
    },
    {
     "name": "stdout",
     "output_type": "stream",
     "text": [
      "Executing 1 experiment\n"
     ]
    },
    {
     "name": "stderr",
     "output_type": "stream",
     "text": [
      "INFO:lcs.agents.Agent:{'trial': 0, 'steps_in_trial': 100, 'reward': 0.0, 'perf_time': 1.909581000000344, 'numerosity': 1600, 'population': 1494, 'average_specificity': 8.16875, 'fraction_accuracy': 0.0}\n",
      "INFO:lcs.agents.Agent:{'trial': 200, 'steps_in_trial': 3, 'reward': 1403.7597860833218, 'perf_time': 0.0222316000003957, 'numerosity': 1600, 'population': 1111, 'average_specificity': 6.265, 'fraction_accuracy': 0.0}\n",
      "INFO:lcs.agents.Agent:{'trial': 500, 'steps_in_trial': 6, 'reward': 1132.0401457425107, 'perf_time': 0.07254460000012841, 'numerosity': 1600, 'population': 1077, 'average_specificity': 7.675, 'fraction_accuracy': 0.0}\n",
      "INFO:lcs.agents.Agent:{'trial': 700, 'steps_in_trial': 14, 'reward': 1009.3580945006545, 'perf_time': 0.22603120000030685, 'numerosity': 1600, 'population': 1056, 'average_specificity': 6.71375, 'fraction_accuracy': 0.0}\n",
      "INFO:lcs.agents.Agent:{'trial': 1000, 'steps_in_trial': 12, 'reward': 1019.0635158246968, 'perf_time': 0.1942071999997097, 'numerosity': 1600, 'population': 1057, 'average_specificity': 7.879375, 'fraction_accuracy': 0.0}\n",
      "INFO:lcs.agents.Agent:{'trial': 1200, 'steps_in_trial': 20, 'reward': 1001.4427066355713, 'perf_time': 0.21525389999987965, 'numerosity': 1600, 'population': 1069, 'average_specificity': 9.741875, 'fraction_accuracy': 0.0}\n",
      "INFO:lcs.agents.Agent:{'trial': 1500, 'steps_in_trial': 24, 'reward': 1000.2736964490734, 'perf_time': 0.32026719999976194, 'numerosity': 1600, 'population': 1054, 'average_specificity': 8.624375, 'fraction_accuracy': 0.0}\n",
      "INFO:lcs.agents.Agent:{'trial': 1700, 'steps_in_trial': 100, 'reward': 1.3360874108178924e-12, 'perf_time': 0.9091357000002063, 'numerosity': 1600, 'population': 1099, 'average_specificity': 7.628125, 'fraction_accuracy': 0.0}\n",
      "INFO:lcs.agents.Agent:{'trial': 2000, 'steps_in_trial': 5, 'reward': 1000.0000000000002, 'perf_time': 0.06938439999976254, 'numerosity': 1600, 'population': 1095, 'average_specificity': 8.283125, 'fraction_accuracy': 0.0}\n",
      "INFO:lcs.agents.Agent:{'trial': 2200, 'steps_in_trial': 7, 'reward': 1094.650198105183, 'perf_time': 0.05349130000013247, 'numerosity': 1600, 'population': 1068, 'average_specificity': 8.26375, 'fraction_accuracy': 0.0}\n"
     ]
    },
    {
     "name": "stdout",
     "output_type": "stream",
     "text": [
      "Executing 2 experiment\n"
     ]
    },
    {
     "name": "stderr",
     "output_type": "stream",
     "text": [
      "INFO:lcs.agents.Agent:{'trial': 0, 'steps_in_trial': 100, 'reward': 0.0, 'perf_time': 1.8894795999999587, 'numerosity': 1600, 'population': 1489, 'average_specificity': 7.8975, 'fraction_accuracy': 0.0}\n",
      "INFO:lcs.agents.Agent:{'trial': 200, 'steps_in_trial': 5, 'reward': 1308.5232191017471, 'perf_time': 0.048800800000208255, 'numerosity': 1600, 'population': 1167, 'average_specificity': 6.811875, 'fraction_accuracy': 0.0}\n",
      "INFO:lcs.agents.Agent:{'trial': 500, 'steps_in_trial': 15, 'reward': 1005.8918375654637, 'perf_time': 0.23693210000010367, 'numerosity': 1600, 'population': 1070, 'average_specificity': 7.235625, 'fraction_accuracy': 0.0}\n",
      "INFO:lcs.agents.Agent:{'trial': 700, 'steps_in_trial': 4, 'reward': 1304.4935476511048, 'perf_time': 0.04840490000015052, 'numerosity': 1600, 'population': 1071, 'average_specificity': 8.15, 'fraction_accuracy': 0.0}\n",
      "INFO:lcs.agents.Agent:{'trial': 1000, 'steps_in_trial': 6, 'reward': 1133.1254510757794, 'perf_time': 0.06217549999973926, 'numerosity': 1600, 'population': 1057, 'average_specificity': 9.623125, 'fraction_accuracy': 0.0}\n",
      "INFO:lcs.agents.Agent:{'trial': 1200, 'steps_in_trial': 8, 'reward': 1070.098225188925, 'perf_time': 0.1117709999998624, 'numerosity': 1600, 'population': 1077, 'average_specificity': 8.80625, 'fraction_accuracy': 0.0}\n",
      "INFO:lcs.agents.Agent:{'trial': 1500, 'steps_in_trial': 4, 'reward': 1304.9599106003438, 'perf_time': 0.03227130000004763, 'numerosity': 1600, 'population': 1098, 'average_specificity': 10.18125, 'fraction_accuracy': 0.0}\n",
      "INFO:lcs.agents.Agent:{'trial': 1700, 'steps_in_trial': 7, 'reward': 1164.2318888158504, 'perf_time': 0.11426330000040252, 'numerosity': 1600, 'population': 1060, 'average_specificity': 8.396875, 'fraction_accuracy': 0.0}\n",
      "INFO:lcs.agents.Agent:{'trial': 2000, 'steps_in_trial': 9, 'reward': 1070.3362908359002, 'perf_time': 0.07062420000011116, 'numerosity': 1600, 'population': 1035, 'average_specificity': 9.088125, 'fraction_accuracy': 0.12254901960784313}\n",
      "INFO:lcs.agents.Agent:{'trial': 2200, 'steps_in_trial': 8, 'reward': 1069.9780074220732, 'perf_time': 0.09137409999993906, 'numerosity': 1600, 'population': 1061, 'average_specificity': 9.759375, 'fraction_accuracy': 0.0}\n"
     ]
    }
   ],
   "source": [
    "from utils.xcs_utils import avg_experiment as XCSExp\n",
    "from utils.nxcs_utils import avg_experiment as XNCSExp\n",
    "\n",
    "number_of_experiments = 3\n",
    "explore = 2000\n",
    "exploit = 500\n",
    "\n",
    "df = XCSExp(maze=maze,\n",
    "             cfg=XCScfg,\n",
    "             number_of_tests=number_of_experiments,\n",
    "             explore_trials=0, # explore,\n",
    "             exploit_trials=exploit + explore,\n",
    "             pre_generate=True\n",
    "           )\n",
    "\n",
    "df_other = XNCSExp(\n",
    "    maze=maze,\n",
    "    cfg=XNCScfg,\n",
    "    number_of_tests=number_of_experiments,\n",
    "    explore_trials=0,\n",
    "    exploit_trials=exploit + explore,\n",
    "    pre_generate=True\n",
    "    )\n",
    "\n",
    "\n",
    "\n",
    "\n"
   ]
  },
  {
   "cell_type": "code",
   "execution_count": 13,
   "metadata": {},
   "outputs": [
    {
     "data": {
      "text/html": [
       "<div>\n",
       "<style scoped>\n",
       "    .dataframe tbody tr th:only-of-type {\n",
       "        vertical-align: middle;\n",
       "    }\n",
       "\n",
       "    .dataframe tbody tr th {\n",
       "        vertical-align: top;\n",
       "    }\n",
       "\n",
       "    .dataframe thead th {\n",
       "        text-align: right;\n",
       "    }\n",
       "</style>\n",
       "<table border=\"1\" class=\"dataframe\">\n",
       "  <thead>\n",
       "    <tr style=\"text-align: right;\">\n",
       "      <th></th>\n",
       "      <th>steps_in_trial</th>\n",
       "      <th>reward</th>\n",
       "      <th>perf_time</th>\n",
       "      <th>population</th>\n",
       "      <th>numerosity</th>\n",
       "      <th>average_specificity</th>\n",
       "      <th>steps_in_trial_other</th>\n",
       "      <th>population_other</th>\n",
       "      <th>numerosity_other</th>\n",
       "      <th>average_specificity_other</th>\n",
       "      <th>fraction_accuracy_other</th>\n",
       "    </tr>\n",
       "    <tr>\n",
       "      <th>trial</th>\n",
       "      <th></th>\n",
       "      <th></th>\n",
       "      <th></th>\n",
       "      <th></th>\n",
       "      <th></th>\n",
       "      <th></th>\n",
       "      <th></th>\n",
       "      <th></th>\n",
       "      <th></th>\n",
       "      <th></th>\n",
       "      <th></th>\n",
       "    </tr>\n",
       "  </thead>\n",
       "  <tbody>\n",
       "    <tr>\n",
       "      <th>0</th>\n",
       "      <td>97.000000</td>\n",
       "      <td>333.333333</td>\n",
       "      <td>1.319633</td>\n",
       "      <td>1495.333333</td>\n",
       "      <td>1600.0</td>\n",
       "      <td>8.328542</td>\n",
       "      <td>100.000000</td>\n",
       "      <td>1493.333333</td>\n",
       "      <td>1600.0</td>\n",
       "      <td>8.233333</td>\n",
       "      <td>0.000000</td>\n",
       "    </tr>\n",
       "    <tr>\n",
       "      <th>100</th>\n",
       "      <td>10.666667</td>\n",
       "      <td>1224.131331</td>\n",
       "      <td>0.089096</td>\n",
       "      <td>1195.000000</td>\n",
       "      <td>1600.0</td>\n",
       "      <td>7.326042</td>\n",
       "      <td>7.333333</td>\n",
       "      <td>1224.666667</td>\n",
       "      <td>1600.0</td>\n",
       "      <td>7.122917</td>\n",
       "      <td>0.000000</td>\n",
       "    </tr>\n",
       "    <tr>\n",
       "      <th>200</th>\n",
       "      <td>6.333333</td>\n",
       "      <td>1240.112474</td>\n",
       "      <td>0.069819</td>\n",
       "      <td>1130.000000</td>\n",
       "      <td>1600.0</td>\n",
       "      <td>6.893750</td>\n",
       "      <td>4.000000</td>\n",
       "      <td>1158.333333</td>\n",
       "      <td>1600.0</td>\n",
       "      <td>6.810000</td>\n",
       "      <td>0.004630</td>\n",
       "    </tr>\n",
       "    <tr>\n",
       "      <th>300</th>\n",
       "      <td>23.666667</td>\n",
       "      <td>1021.263812</td>\n",
       "      <td>0.175628</td>\n",
       "      <td>1071.333333</td>\n",
       "      <td>1600.0</td>\n",
       "      <td>6.996875</td>\n",
       "      <td>9.000000</td>\n",
       "      <td>1141.000000</td>\n",
       "      <td>1600.0</td>\n",
       "      <td>7.005625</td>\n",
       "      <td>0.000000</td>\n",
       "    </tr>\n",
       "    <tr>\n",
       "      <th>400</th>\n",
       "      <td>31.333333</td>\n",
       "      <td>1044.453848</td>\n",
       "      <td>0.256953</td>\n",
       "      <td>1010.666667</td>\n",
       "      <td>1600.0</td>\n",
       "      <td>6.626875</td>\n",
       "      <td>35.333333</td>\n",
       "      <td>1111.333333</td>\n",
       "      <td>1600.0</td>\n",
       "      <td>6.967708</td>\n",
       "      <td>0.000000</td>\n",
       "    </tr>\n",
       "    <tr>\n",
       "      <th>500</th>\n",
       "      <td>13.666667</td>\n",
       "      <td>1028.121058</td>\n",
       "      <td>0.113802</td>\n",
       "      <td>988.333333</td>\n",
       "      <td>1600.0</td>\n",
       "      <td>6.664167</td>\n",
       "      <td>40.333333</td>\n",
       "      <td>1083.666667</td>\n",
       "      <td>1600.0</td>\n",
       "      <td>7.246250</td>\n",
       "      <td>0.000000</td>\n",
       "    </tr>\n",
       "    <tr>\n",
       "      <th>600</th>\n",
       "      <td>8.000000</td>\n",
       "      <td>1078.770326</td>\n",
       "      <td>0.059470</td>\n",
       "      <td>941.333333</td>\n",
       "      <td>1600.0</td>\n",
       "      <td>6.468333</td>\n",
       "      <td>6.333333</td>\n",
       "      <td>1071.666667</td>\n",
       "      <td>1600.0</td>\n",
       "      <td>7.155208</td>\n",
       "      <td>0.000000</td>\n",
       "    </tr>\n",
       "    <tr>\n",
       "      <th>700</th>\n",
       "      <td>9.666667</td>\n",
       "      <td>1083.332403</td>\n",
       "      <td>0.101436</td>\n",
       "      <td>922.666667</td>\n",
       "      <td>1600.0</td>\n",
       "      <td>6.584375</td>\n",
       "      <td>39.333333</td>\n",
       "      <td>1079.000000</td>\n",
       "      <td>1600.0</td>\n",
       "      <td>7.555625</td>\n",
       "      <td>0.000000</td>\n",
       "    </tr>\n",
       "    <tr>\n",
       "      <th>800</th>\n",
       "      <td>42.666667</td>\n",
       "      <td>826.859146</td>\n",
       "      <td>0.283500</td>\n",
       "      <td>898.333333</td>\n",
       "      <td>1600.0</td>\n",
       "      <td>6.459583</td>\n",
       "      <td>37.333333</td>\n",
       "      <td>1071.666667</td>\n",
       "      <td>1600.0</td>\n",
       "      <td>7.781042</td>\n",
       "      <td>0.041228</td>\n",
       "    </tr>\n",
       "    <tr>\n",
       "      <th>900</th>\n",
       "      <td>4.333333</td>\n",
       "      <td>1264.909947</td>\n",
       "      <td>0.023765</td>\n",
       "      <td>865.000000</td>\n",
       "      <td>1600.0</td>\n",
       "      <td>6.732917</td>\n",
       "      <td>6.000000</td>\n",
       "      <td>1064.666667</td>\n",
       "      <td>1600.0</td>\n",
       "      <td>8.387292</td>\n",
       "      <td>0.000000</td>\n",
       "    </tr>\n",
       "    <tr>\n",
       "      <th>1000</th>\n",
       "      <td>37.666667</td>\n",
       "      <td>1050.901664</td>\n",
       "      <td>0.223763</td>\n",
       "      <td>855.666667</td>\n",
       "      <td>1600.0</td>\n",
       "      <td>6.468125</td>\n",
       "      <td>39.333333</td>\n",
       "      <td>1052.666667</td>\n",
       "      <td>1600.0</td>\n",
       "      <td>8.903542</td>\n",
       "      <td>0.000000</td>\n",
       "    </tr>\n",
       "    <tr>\n",
       "      <th>1100</th>\n",
       "      <td>6.333333</td>\n",
       "      <td>1251.049711</td>\n",
       "      <td>0.038740</td>\n",
       "      <td>804.000000</td>\n",
       "      <td>1600.0</td>\n",
       "      <td>6.383542</td>\n",
       "      <td>37.000000</td>\n",
       "      <td>1075.333333</td>\n",
       "      <td>1600.0</td>\n",
       "      <td>9.278958</td>\n",
       "      <td>0.000000</td>\n",
       "    </tr>\n",
       "    <tr>\n",
       "      <th>1200</th>\n",
       "      <td>37.666667</td>\n",
       "      <td>744.011892</td>\n",
       "      <td>0.188545</td>\n",
       "      <td>798.000000</td>\n",
       "      <td>1600.0</td>\n",
       "      <td>6.312708</td>\n",
       "      <td>13.333333</td>\n",
       "      <td>1063.333333</td>\n",
       "      <td>1600.0</td>\n",
       "      <td>9.023333</td>\n",
       "      <td>0.000000</td>\n",
       "    </tr>\n",
       "    <tr>\n",
       "      <th>1300</th>\n",
       "      <td>36.666667</td>\n",
       "      <td>849.781244</td>\n",
       "      <td>0.249282</td>\n",
       "      <td>770.666667</td>\n",
       "      <td>1600.0</td>\n",
       "      <td>6.263542</td>\n",
       "      <td>7.666667</td>\n",
       "      <td>1069.666667</td>\n",
       "      <td>1600.0</td>\n",
       "      <td>8.268542</td>\n",
       "      <td>0.000000</td>\n",
       "    </tr>\n",
       "    <tr>\n",
       "      <th>1400</th>\n",
       "      <td>7.000000</td>\n",
       "      <td>1142.985176</td>\n",
       "      <td>0.048491</td>\n",
       "      <td>731.000000</td>\n",
       "      <td>1600.0</td>\n",
       "      <td>5.942917</td>\n",
       "      <td>8.666667</td>\n",
       "      <td>1065.666667</td>\n",
       "      <td>1600.0</td>\n",
       "      <td>8.428750</td>\n",
       "      <td>0.000000</td>\n",
       "    </tr>\n",
       "    <tr>\n",
       "      <th>1500</th>\n",
       "      <td>38.000000</td>\n",
       "      <td>736.143375</td>\n",
       "      <td>0.176672</td>\n",
       "      <td>722.666667</td>\n",
       "      <td>1600.0</td>\n",
       "      <td>6.003750</td>\n",
       "      <td>12.333333</td>\n",
       "      <td>1063.666667</td>\n",
       "      <td>1600.0</td>\n",
       "      <td>8.575833</td>\n",
       "      <td>0.000000</td>\n",
       "    </tr>\n",
       "    <tr>\n",
       "      <th>1600</th>\n",
       "      <td>36.333333</td>\n",
       "      <td>990.620217</td>\n",
       "      <td>0.186637</td>\n",
       "      <td>722.666667</td>\n",
       "      <td>1600.0</td>\n",
       "      <td>6.451250</td>\n",
       "      <td>5.666667</td>\n",
       "      <td>1061.000000</td>\n",
       "      <td>1600.0</td>\n",
       "      <td>8.375208</td>\n",
       "      <td>0.000000</td>\n",
       "    </tr>\n",
       "    <tr>\n",
       "      <th>1700</th>\n",
       "      <td>31.666667</td>\n",
       "      <td>1342.673949</td>\n",
       "      <td>0.149967</td>\n",
       "      <td>697.333333</td>\n",
       "      <td>1600.0</td>\n",
       "      <td>5.822500</td>\n",
       "      <td>69.000000</td>\n",
       "      <td>1058.333333</td>\n",
       "      <td>1600.0</td>\n",
       "      <td>7.733958</td>\n",
       "      <td>0.040114</td>\n",
       "    </tr>\n",
       "    <tr>\n",
       "      <th>1800</th>\n",
       "      <td>13.666667</td>\n",
       "      <td>1018.752173</td>\n",
       "      <td>0.131911</td>\n",
       "      <td>696.666667</td>\n",
       "      <td>1600.0</td>\n",
       "      <td>5.955208</td>\n",
       "      <td>6.666667</td>\n",
       "      <td>1050.000000</td>\n",
       "      <td>1600.0</td>\n",
       "      <td>7.803958</td>\n",
       "      <td>0.000000</td>\n",
       "    </tr>\n",
       "    <tr>\n",
       "      <th>1900</th>\n",
       "      <td>37.000000</td>\n",
       "      <td>786.829286</td>\n",
       "      <td>0.151505</td>\n",
       "      <td>673.000000</td>\n",
       "      <td>1600.0</td>\n",
       "      <td>5.735000</td>\n",
       "      <td>6.666667</td>\n",
       "      <td>1055.333333</td>\n",
       "      <td>1600.0</td>\n",
       "      <td>8.635833</td>\n",
       "      <td>0.000000</td>\n",
       "    </tr>\n",
       "    <tr>\n",
       "      <th>2000</th>\n",
       "      <td>7.333333</td>\n",
       "      <td>1230.575354</td>\n",
       "      <td>0.059764</td>\n",
       "      <td>657.333333</td>\n",
       "      <td>1600.0</td>\n",
       "      <td>5.653750</td>\n",
       "      <td>10.666667</td>\n",
       "      <td>1058.000000</td>\n",
       "      <td>1600.0</td>\n",
       "      <td>8.342917</td>\n",
       "      <td>0.040850</td>\n",
       "    </tr>\n",
       "    <tr>\n",
       "      <th>2100</th>\n",
       "      <td>40.000000</td>\n",
       "      <td>695.234312</td>\n",
       "      <td>0.238204</td>\n",
       "      <td>644.333333</td>\n",
       "      <td>1600.0</td>\n",
       "      <td>5.981250</td>\n",
       "      <td>3.666667</td>\n",
       "      <td>1049.666667</td>\n",
       "      <td>1600.0</td>\n",
       "      <td>9.434583</td>\n",
       "      <td>0.000000</td>\n",
       "    </tr>\n",
       "    <tr>\n",
       "      <th>2200</th>\n",
       "      <td>6.000000</td>\n",
       "      <td>1289.312442</td>\n",
       "      <td>0.027333</td>\n",
       "      <td>632.333333</td>\n",
       "      <td>1600.0</td>\n",
       "      <td>5.754792</td>\n",
       "      <td>7.000000</td>\n",
       "      <td>1062.333333</td>\n",
       "      <td>1600.0</td>\n",
       "      <td>8.622917</td>\n",
       "      <td>0.000000</td>\n",
       "    </tr>\n",
       "    <tr>\n",
       "      <th>2300</th>\n",
       "      <td>38.000000</td>\n",
       "      <td>742.189786</td>\n",
       "      <td>0.159315</td>\n",
       "      <td>640.666667</td>\n",
       "      <td>1600.0</td>\n",
       "      <td>5.827500</td>\n",
       "      <td>3.666667</td>\n",
       "      <td>1054.000000</td>\n",
       "      <td>1600.0</td>\n",
       "      <td>8.153542</td>\n",
       "      <td>0.000000</td>\n",
       "    </tr>\n",
       "    <tr>\n",
       "      <th>2400</th>\n",
       "      <td>4.333333</td>\n",
       "      <td>1285.621954</td>\n",
       "      <td>0.021630</td>\n",
       "      <td>626.000000</td>\n",
       "      <td>1600.0</td>\n",
       "      <td>6.160417</td>\n",
       "      <td>38.000000</td>\n",
       "      <td>1053.666667</td>\n",
       "      <td>1600.0</td>\n",
       "      <td>7.553958</td>\n",
       "      <td>0.000000</td>\n",
       "    </tr>\n",
       "  </tbody>\n",
       "</table>\n",
       "</div>"
      ],
      "text/plain": [
       "       steps_in_trial       reward  perf_time   population  numerosity  \\\n",
       "trial                                                                    \n",
       "0           97.000000   333.333333   1.319633  1495.333333      1600.0   \n",
       "100         10.666667  1224.131331   0.089096  1195.000000      1600.0   \n",
       "200          6.333333  1240.112474   0.069819  1130.000000      1600.0   \n",
       "300         23.666667  1021.263812   0.175628  1071.333333      1600.0   \n",
       "400         31.333333  1044.453848   0.256953  1010.666667      1600.0   \n",
       "500         13.666667  1028.121058   0.113802   988.333333      1600.0   \n",
       "600          8.000000  1078.770326   0.059470   941.333333      1600.0   \n",
       "700          9.666667  1083.332403   0.101436   922.666667      1600.0   \n",
       "800         42.666667   826.859146   0.283500   898.333333      1600.0   \n",
       "900          4.333333  1264.909947   0.023765   865.000000      1600.0   \n",
       "1000        37.666667  1050.901664   0.223763   855.666667      1600.0   \n",
       "1100         6.333333  1251.049711   0.038740   804.000000      1600.0   \n",
       "1200        37.666667   744.011892   0.188545   798.000000      1600.0   \n",
       "1300        36.666667   849.781244   0.249282   770.666667      1600.0   \n",
       "1400         7.000000  1142.985176   0.048491   731.000000      1600.0   \n",
       "1500        38.000000   736.143375   0.176672   722.666667      1600.0   \n",
       "1600        36.333333   990.620217   0.186637   722.666667      1600.0   \n",
       "1700        31.666667  1342.673949   0.149967   697.333333      1600.0   \n",
       "1800        13.666667  1018.752173   0.131911   696.666667      1600.0   \n",
       "1900        37.000000   786.829286   0.151505   673.000000      1600.0   \n",
       "2000         7.333333  1230.575354   0.059764   657.333333      1600.0   \n",
       "2100        40.000000   695.234312   0.238204   644.333333      1600.0   \n",
       "2200         6.000000  1289.312442   0.027333   632.333333      1600.0   \n",
       "2300        38.000000   742.189786   0.159315   640.666667      1600.0   \n",
       "2400         4.333333  1285.621954   0.021630   626.000000      1600.0   \n",
       "\n",
       "       average_specificity  steps_in_trial_other  population_other  \\\n",
       "trial                                                                \n",
       "0                 8.328542            100.000000       1493.333333   \n",
       "100               7.326042              7.333333       1224.666667   \n",
       "200               6.893750              4.000000       1158.333333   \n",
       "300               6.996875              9.000000       1141.000000   \n",
       "400               6.626875             35.333333       1111.333333   \n",
       "500               6.664167             40.333333       1083.666667   \n",
       "600               6.468333              6.333333       1071.666667   \n",
       "700               6.584375             39.333333       1079.000000   \n",
       "800               6.459583             37.333333       1071.666667   \n",
       "900               6.732917              6.000000       1064.666667   \n",
       "1000              6.468125             39.333333       1052.666667   \n",
       "1100              6.383542             37.000000       1075.333333   \n",
       "1200              6.312708             13.333333       1063.333333   \n",
       "1300              6.263542              7.666667       1069.666667   \n",
       "1400              5.942917              8.666667       1065.666667   \n",
       "1500              6.003750             12.333333       1063.666667   \n",
       "1600              6.451250              5.666667       1061.000000   \n",
       "1700              5.822500             69.000000       1058.333333   \n",
       "1800              5.955208              6.666667       1050.000000   \n",
       "1900              5.735000              6.666667       1055.333333   \n",
       "2000              5.653750             10.666667       1058.000000   \n",
       "2100              5.981250              3.666667       1049.666667   \n",
       "2200              5.754792              7.000000       1062.333333   \n",
       "2300              5.827500              3.666667       1054.000000   \n",
       "2400              6.160417             38.000000       1053.666667   \n",
       "\n",
       "       numerosity_other  average_specificity_other  fraction_accuracy_other  \n",
       "trial                                                                        \n",
       "0                1600.0                   8.233333                 0.000000  \n",
       "100              1600.0                   7.122917                 0.000000  \n",
       "200              1600.0                   6.810000                 0.004630  \n",
       "300              1600.0                   7.005625                 0.000000  \n",
       "400              1600.0                   6.967708                 0.000000  \n",
       "500              1600.0                   7.246250                 0.000000  \n",
       "600              1600.0                   7.155208                 0.000000  \n",
       "700              1600.0                   7.555625                 0.000000  \n",
       "800              1600.0                   7.781042                 0.041228  \n",
       "900              1600.0                   8.387292                 0.000000  \n",
       "1000             1600.0                   8.903542                 0.000000  \n",
       "1100             1600.0                   9.278958                 0.000000  \n",
       "1200             1600.0                   9.023333                 0.000000  \n",
       "1300             1600.0                   8.268542                 0.000000  \n",
       "1400             1600.0                   8.428750                 0.000000  \n",
       "1500             1600.0                   8.575833                 0.000000  \n",
       "1600             1600.0                   8.375208                 0.000000  \n",
       "1700             1600.0                   7.733958                 0.040114  \n",
       "1800             1600.0                   7.803958                 0.000000  \n",
       "1900             1600.0                   8.635833                 0.000000  \n",
       "2000             1600.0                   8.342917                 0.040850  \n",
       "2100             1600.0                   9.434583                 0.000000  \n",
       "2200             1600.0                   8.622917                 0.000000  \n",
       "2300             1600.0                   8.153542                 0.000000  \n",
       "2400             1600.0                   7.553958                 0.000000  "
      ]
     },
     "metadata": {},
     "output_type": "display_data"
    }
   ],
   "source": [
    "df['steps_in_trial_other']=df_other['steps_in_trial']\n",
    "df['population_other']=df_other['population']\n",
    "df['numerosity_other']=df_other['numerosity']\n",
    "df['average_specificity_other']=df_other['average_specificity']\n",
    "df['fraction_accuracy_other']=df_other['fraction_accuracy']\n",
    "\n",
    "display(df)"
   ]
  },
  {
   "cell_type": "code",
   "execution_count": 14,
   "metadata": {},
   "outputs": [
    {
     "data": {
      "text/plain": [
       "<matplotlib.legend.Legend at 0x2400dd02a08>"
      ]
     },
     "execution_count": 14,
     "metadata": {},
     "output_type": "execute_result"
    },
    {
     "data": {
      "image/png": "[encoded data removed]",
      "text/plain": [
       "<Figure size 432x288 with 1 Axes>"
      ]
     },
     "metadata": {
      "needs_background": "light"
     },
     "output_type": "display_data"
    }
   ],
   "source": [
    "import pandas as pd\n",
    "import numpy as np\n",
    "\n",
    "ax = df[['average_specificity', \"average_specificity_other\"]].plot()\n",
    "ax.set_xlabel(\"trial\")\n",
    "ax.set_ylabel(\"average_specificity\")\n",
    "ax.legend([\"XCS\",\"XNCS\"])\n",
    "\n"
   ]
  },
  {
   "cell_type": "code",
   "execution_count": 16,
   "metadata": {},
   "outputs": [
    {
     "data": {
      "text/plain": [
       "<matplotlib.legend.Legend at 0x2400ff6df88>"
      ]
     },
     "execution_count": 16,
     "metadata": {},
     "output_type": "execute_result"
    },
    {
     "data": {
      "image/png": "[encoded data removed]",
      "text/plain": [
       "<Figure size 432x288 with 1 Axes>"
      ]
     },
     "metadata": {
      "needs_background": "light"
     },
     "output_type": "display_data"
    }
   ],
   "source": [
    "ax = df[\"fraction_accuracy_other\"].plot()\n",
    "ax.set_xlabel(\"trial\")\n",
    "ax.set_ylabel(\"fraction accuracy\")\n",
    "ax.legend([\"XCS\",\"XNCS\"])"
   ]
  },
  {
   "cell_type": "code",
   "execution_count": 17,
   "metadata": {},
   "outputs": [
    {
     "data": {
      "text/plain": [
       "<matplotlib.legend.Legend at 0x2401000e248>"
      ]
     },
     "execution_count": 17,
     "metadata": {},
     "output_type": "execute_result"
    },
    {
     "data": {
      "image/png": "[encoded data removed]",
      "text/plain": [
       "<Figure size 432x288 with 1 Axes>"
      ]
     },
     "metadata": {
      "needs_background": "light"
     },
     "output_type": "display_data"
    }
   ],
   "source": [
    "ax = df[['numerosity', 'numerosity_other']].plot()\n",
    "ax.set_xlabel(\"trial\")\n",
    "ax.set_ylabel(\"numerosity\")\n",
    "ax.legend([\"numerosity\", \"number of rules\"])"
   ]
  },
  {
   "cell_type": "code",
   "execution_count": 18,
   "metadata": {},
   "outputs": [
    {
     "data": {
      "text/plain": [
       "<matplotlib.legend.Legend at 0x24010024a88>"
      ]
     },
     "execution_count": 18,
     "metadata": {},
     "output_type": "execute_result"
    },
    {
     "data": {
      "image/png": "[encoded data removed]",
      "text/plain": [
       "<Figure size 432x288 with 1 Axes>"
      ]
     },
     "metadata": {
      "needs_background": "light"
     },
     "output_type": "display_data"
    }
   ],
   "source": [
    "ax = df[['population', \"population_other\"]].plot()\n",
    "ax.set_xlabel(\"trial\")\n",
    "ax.set_ylabel(\"population\")\n",
    "ax.legend([\"XCS\",\"XNCS\"])"
   ]
  },
  {
   "cell_type": "code",
   "execution_count": 19,
   "metadata": {},
   "outputs": [
    {
     "data": {
      "text/plain": [
       "<matplotlib.legend.Legend at 0x240100afa08>"
      ]
     },
     "execution_count": 19,
     "metadata": {},
     "output_type": "execute_result"
    },
    {
     "data": {
      "image/png": "[encoded data removed]",
      "text/plain": [
       "<Figure size 432x288 with 1 Axes>"
      ]
     },
     "metadata": {
      "needs_background": "light"
     },
     "output_type": "display_data"
    }
   ],
   "source": [
    "ax = df[['steps_in_trial', 'steps_in_trial_other']].plot()\n",
    "ax.set_xlabel(\"trial\")\n",
    "ax.set_ylabel(\"steps in trial\")\n",
    "ax.legend([\"XCS\",\"XNCS\"])"
   ]
  },
  {
   "cell_type": "code",
   "execution_count": 23,
   "metadata": {},
   "outputs": [
    {
     "name": "stdout",
     "output_type": "stream",
     "text": [
      "208.33333333333337\n",
      "184.7777777777778\n"
     ]
    }
   ],
   "source": [
    "print(sum(df[\"steps_in_trial\"])/number_of_experiments)\n",
    "print(sum(df[\"steps_in_trial_other\"])/number_of_experiments)"
   ]
  },
  {
   "cell_type": "code",
   "execution_count": null,
   "metadata": {},
   "outputs": [],
   "source": []
  }
 ],
 "metadata": {
  "kernelspec": {
   "display_name": "Python 3",
   "language": "python",
   "name": "python3"
  },
  "language_info": {
   "codemirror_mode": {
    "name": "ipython",
    "version": 3
   },
   "file_extension": ".py",
   "mimetype": "text/x-python",
   "name": "python",
   "nbconvert_exporter": "python",
   "pygments_lexer": "ipython3",
   "version": "3.7.10"
  }
 },
 "nbformat": 4,
 "nbformat_minor": 1
}
