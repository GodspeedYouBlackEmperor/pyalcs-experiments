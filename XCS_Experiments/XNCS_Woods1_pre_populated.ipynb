{
 "cells": [
  {
   "cell_type": "code",
   "execution_count": 1,
   "metadata": {},
   "outputs": [],
   "source": [
    "# logging \n",
    "import logging\n",
    "logging.basicConfig(level=logging.INFO)\n",
    "logger = logging.getLogger(__name__)\n"
   ]
  },
  {
   "cell_type": "code",
   "execution_count": 2,
   "metadata": {},
   "outputs": [
    {
     "name": "stdout",
     "output_type": "stream",
     "text": [
      "This is how maze looks like\n",
      "<class 'list'>\n",
      "['.', 'O', 'O', '.', '.', '.', '.', '.']\n",
      "\n",
      "\u001b[37m□\u001b[0m \u001b[37m□\u001b[0m \u001b[37m□\u001b[0m \u001b[37m□\u001b[0m \u001b[37m□\u001b[0m\n",
      "\u001b[37m□\u001b[0m \u001b[37m□\u001b[0m \u001b[37m□\u001b[0m \u001b[37m□\u001b[0m \u001b[37m□\u001b[0m\n",
      "\u001b[30m■\u001b[0m \u001b[30m■\u001b[0m \u001b[33m$\u001b[0m \u001b[37m□\u001b[0m \u001b[37m□\u001b[0m\n",
      "\u001b[30m■\u001b[0m \u001b[30m■\u001b[0m \u001b[30m■\u001b[0m \u001b[37m□\u001b[0m \u001b[37m□\u001b[0m\n",
      "\u001b[30m■\u001b[0m \u001b[30m■\u001b[0m \u001b[30m■\u001b[0m \u001b[37m□\u001b[0m \u001b[36mX\u001b[0m\n"
     ]
    }
   ],
   "source": [
    "# environment setup\n",
    "import gym\n",
    "# noinspection PyUnresolvedReferences\n",
    "import gym_woods\n",
    "\n",
    "maze = gym.make('Woods1-v0')\n",
    "print(\"This is how maze looks like\")\n",
    "situation = maze.reset()\n",
    "print(type(situation))\n",
    "print(situation)\n",
    "maze.render()\n"
   ]
  },
  {
   "cell_type": "code",
   "execution_count": 3,
   "metadata": {},
   "outputs": [],
   "source": [
    "from lcs.agents.xncs import Configuration\n",
    "from utils.nxcs_utils import *\n",
    "\n",
    "cfg = Configuration(number_of_actions=8,\n",
    "                    max_population=1800,\n",
    "                    learning_rate=0.2, # beta\n",
    "                    epsilon_0=0.01,\n",
    "                    alpha=0.1,\n",
    "                    gamma=0.71,\n",
    "                    mutation_chance=0.08, # mu\n",
    "                    delta=0.1,\n",
    "                    ga_threshold=25,\n",
    "                    deletion_threshold=25,\n",
    "                    covering_wildcard_chance = 0.7,\n",
    "                    chi=0.8,      # crossover\n",
    "                    metrics_trial_frequency=100,\n",
    "                    initial_prediction = 10,  # p_i\n",
    "                    initial_error = 0.1,  # epsilon_i\n",
    "                    initial_fitness = 10,  # f_i\n",
    "                    user_metrics_collector_fcn=xncs_metrics,\n",
    "                    lmc=10,\n",
    "                    lem=20\n",
    "                    )"
   ]
  },
  {
   "cell_type": "code",
   "execution_count": 4,
   "metadata": {
    "scrolled": true
   },
   "outputs": [
    {
     "name": "stdout",
     "output_type": "stream",
     "text": [
      "Executing 0 experiment\n"
     ]
    },
    {
     "name": "stderr",
     "output_type": "stream",
     "text": [
      "INFO:lcs.agents.Agent:{'trial': 0, 'steps_in_trial': 8, 'reward': 1000.0, 'perf_time': 0.08481480000000019, 'numerosity': 1800, 'population': 1637, 'average_specificity': 8.145, 'fraction_accuracy': 0.0}\n",
      "INFO:lcs.agents.Agent:{'trial': 200, 'steps_in_trial': 2, 'reward': 1886.4707571494996, 'perf_time': 0.02985010000000088, 'numerosity': 1800, 'population': 1585, 'average_specificity': 8.71111111111111, 'fraction_accuracy': 0.11328125}\n",
      "INFO:lcs.agents.Agent:{'trial': 500, 'steps_in_trial': 8, 'reward': 1082.2976794931064, 'perf_time': 0.11306730000000442, 'numerosity': 1800, 'population': 1573, 'average_specificity': 10.06611111111111, 'fraction_accuracy': 0.375}\n",
      "INFO:lcs.agents.Agent:{'trial': 700, 'steps_in_trial': 7, 'reward': 1093.588574743161, 'perf_time': 0.09264579999999967, 'numerosity': 1800, 'population': 1580, 'average_specificity': 11.934444444444445, 'fraction_accuracy': 0.125}\n",
      "INFO:lcs.agents.Agent:{'trial': 1000, 'steps_in_trial': 38, 'reward': 1000.0023853594896, 'perf_time': 0.4457937999999899, 'numerosity': 1800, 'population': 1554, 'average_specificity': 13.135555555555555, 'fraction_accuracy': 0.0}\n",
      "INFO:lcs.agents.Agent:{'trial': 1200, 'steps_in_trial': 9, 'reward': 1047.9518200343475, 'perf_time': 0.08730189999999993, 'numerosity': 1800, 'population': 1545, 'average_specificity': 14.772222222222222, 'fraction_accuracy': 0.23863636363636365}\n",
      "INFO:lcs.agents.Agent:{'trial': 1500, 'steps_in_trial': 6, 'reward': 1141.528554666973, 'perf_time': 0.0681583999999873, 'numerosity': 1800, 'population': 1564, 'average_specificity': 14.801666666666666, 'fraction_accuracy': 0.0}\n",
      "INFO:lcs.agents.Agent:{'trial': 1700, 'steps_in_trial': 2, 'reward': 1504.1000031547478, 'perf_time': 0.03933630000000221, 'numerosity': 1800, 'population': 1561, 'average_specificity': 14.197222222222223, 'fraction_accuracy': 0.0}\n",
      "INFO:lcs.agents.Agent:{'trial': 2000, 'steps_in_trial': 6, 'reward': 1177.1675462768721, 'perf_time': 0.062398400000006404, 'numerosity': 1800, 'population': 1558, 'average_specificity': 14.66, 'fraction_accuracy': 0.0}\n",
      "INFO:lcs.agents.Agent:{'trial': 2200, 'steps_in_trial': 4, 'reward': 1418.2266975072803, 'perf_time': 0.04104639999999904, 'numerosity': 1800, 'population': 1561, 'average_specificity': 15.536666666666667, 'fraction_accuracy': 0.125}\n"
     ]
    }
   ],
   "source": [
    "from utils.nxcs_utils import avg_experiment as XNCSExp\n",
    "\n",
    "number_of_experiments = 1\n",
    "explore = 0\n",
    "exploit = 2500\n",
    "\n",
    "df = XNCSExp(\n",
    "    maze=maze,\n",
    "    cfg=cfg,\n",
    "    number_of_tests=number_of_experiments,\n",
    "    explore_trials=explore,\n",
    "    exploit_trials=exploit,\n",
    "    pre_generate=True\n",
    "    )"
   ]
  },
  {
   "cell_type": "code",
   "execution_count": 5,
   "metadata": {},
   "outputs": [
    {
     "data": {
      "text/html": [
       "<div>\n",
       "<style scoped>\n",
       "    .dataframe tbody tr th:only-of-type {\n",
       "        vertical-align: middle;\n",
       "    }\n",
       "\n",
       "    .dataframe tbody tr th {\n",
       "        vertical-align: top;\n",
       "    }\n",
       "\n",
       "    .dataframe thead th {\n",
       "        text-align: right;\n",
       "    }\n",
       "</style>\n",
       "<table border=\"1\" class=\"dataframe\">\n",
       "  <thead>\n",
       "    <tr style=\"text-align: right;\">\n",
       "      <th></th>\n",
       "      <th>steps_in_trial</th>\n",
       "      <th>reward</th>\n",
       "      <th>perf_time</th>\n",
       "      <th>numerosity</th>\n",
       "      <th>population</th>\n",
       "      <th>average_specificity</th>\n",
       "      <th>fraction_accuracy</th>\n",
       "    </tr>\n",
       "    <tr>\n",
       "      <th>trial</th>\n",
       "      <th></th>\n",
       "      <th></th>\n",
       "      <th></th>\n",
       "      <th></th>\n",
       "      <th></th>\n",
       "      <th></th>\n",
       "      <th></th>\n",
       "    </tr>\n",
       "  </thead>\n",
       "  <tbody>\n",
       "    <tr>\n",
       "      <th>0</th>\n",
       "      <td>8</td>\n",
       "      <td>1.000000e+03</td>\n",
       "      <td>0.084815</td>\n",
       "      <td>1800</td>\n",
       "      <td>1637</td>\n",
       "      <td>8.145000</td>\n",
       "      <td>0.000000</td>\n",
       "    </tr>\n",
       "    <tr>\n",
       "      <th>100</th>\n",
       "      <td>5</td>\n",
       "      <td>1.250735e+03</td>\n",
       "      <td>0.062643</td>\n",
       "      <td>1800</td>\n",
       "      <td>1597</td>\n",
       "      <td>8.130556</td>\n",
       "      <td>0.000000</td>\n",
       "    </tr>\n",
       "    <tr>\n",
       "      <th>200</th>\n",
       "      <td>2</td>\n",
       "      <td>1.886471e+03</td>\n",
       "      <td>0.029850</td>\n",
       "      <td>1800</td>\n",
       "      <td>1585</td>\n",
       "      <td>8.711111</td>\n",
       "      <td>0.113281</td>\n",
       "    </tr>\n",
       "    <tr>\n",
       "      <th>300</th>\n",
       "      <td>8</td>\n",
       "      <td>1.069032e+03</td>\n",
       "      <td>0.089705</td>\n",
       "      <td>1800</td>\n",
       "      <td>1593</td>\n",
       "      <td>10.185556</td>\n",
       "      <td>0.241667</td>\n",
       "    </tr>\n",
       "    <tr>\n",
       "      <th>400</th>\n",
       "      <td>3</td>\n",
       "      <td>1.707064e+03</td>\n",
       "      <td>0.029097</td>\n",
       "      <td>1800</td>\n",
       "      <td>1584</td>\n",
       "      <td>10.250556</td>\n",
       "      <td>0.241667</td>\n",
       "    </tr>\n",
       "    <tr>\n",
       "      <th>500</th>\n",
       "      <td>8</td>\n",
       "      <td>1.082298e+03</td>\n",
       "      <td>0.113067</td>\n",
       "      <td>1800</td>\n",
       "      <td>1573</td>\n",
       "      <td>10.066111</td>\n",
       "      <td>0.375000</td>\n",
       "    </tr>\n",
       "    <tr>\n",
       "      <th>600</th>\n",
       "      <td>9</td>\n",
       "      <td>1.049088e+03</td>\n",
       "      <td>0.119529</td>\n",
       "      <td>1800</td>\n",
       "      <td>1582</td>\n",
       "      <td>11.092222</td>\n",
       "      <td>0.000000</td>\n",
       "    </tr>\n",
       "    <tr>\n",
       "      <th>700</th>\n",
       "      <td>7</td>\n",
       "      <td>1.093589e+03</td>\n",
       "      <td>0.092646</td>\n",
       "      <td>1800</td>\n",
       "      <td>1580</td>\n",
       "      <td>11.934444</td>\n",
       "      <td>0.125000</td>\n",
       "    </tr>\n",
       "    <tr>\n",
       "      <th>800</th>\n",
       "      <td>10</td>\n",
       "      <td>1.071260e+03</td>\n",
       "      <td>0.139656</td>\n",
       "      <td>1800</td>\n",
       "      <td>1575</td>\n",
       "      <td>12.199444</td>\n",
       "      <td>0.375000</td>\n",
       "    </tr>\n",
       "    <tr>\n",
       "      <th>900</th>\n",
       "      <td>5</td>\n",
       "      <td>1.238699e+03</td>\n",
       "      <td>0.064394</td>\n",
       "      <td>1800</td>\n",
       "      <td>1576</td>\n",
       "      <td>12.867222</td>\n",
       "      <td>0.250000</td>\n",
       "    </tr>\n",
       "    <tr>\n",
       "      <th>1000</th>\n",
       "      <td>38</td>\n",
       "      <td>1.000002e+03</td>\n",
       "      <td>0.445794</td>\n",
       "      <td>1800</td>\n",
       "      <td>1554</td>\n",
       "      <td>13.135556</td>\n",
       "      <td>0.000000</td>\n",
       "    </tr>\n",
       "    <tr>\n",
       "      <th>1100</th>\n",
       "      <td>9</td>\n",
       "      <td>1.081911e+03</td>\n",
       "      <td>0.143781</td>\n",
       "      <td>1800</td>\n",
       "      <td>1545</td>\n",
       "      <td>13.717222</td>\n",
       "      <td>0.125000</td>\n",
       "    </tr>\n",
       "    <tr>\n",
       "      <th>1200</th>\n",
       "      <td>9</td>\n",
       "      <td>1.047952e+03</td>\n",
       "      <td>0.087302</td>\n",
       "      <td>1800</td>\n",
       "      <td>1545</td>\n",
       "      <td>14.772222</td>\n",
       "      <td>0.238636</td>\n",
       "    </tr>\n",
       "    <tr>\n",
       "      <th>1300</th>\n",
       "      <td>9</td>\n",
       "      <td>1.050219e+03</td>\n",
       "      <td>0.121027</td>\n",
       "      <td>1800</td>\n",
       "      <td>1549</td>\n",
       "      <td>14.645000</td>\n",
       "      <td>0.000000</td>\n",
       "    </tr>\n",
       "    <tr>\n",
       "      <th>1400</th>\n",
       "      <td>1</td>\n",
       "      <td>1.769820e+03</td>\n",
       "      <td>0.009838</td>\n",
       "      <td>1800</td>\n",
       "      <td>1558</td>\n",
       "      <td>14.951667</td>\n",
       "      <td>0.125000</td>\n",
       "    </tr>\n",
       "    <tr>\n",
       "      <th>1500</th>\n",
       "      <td>6</td>\n",
       "      <td>1.141529e+03</td>\n",
       "      <td>0.068158</td>\n",
       "      <td>1800</td>\n",
       "      <td>1564</td>\n",
       "      <td>14.801667</td>\n",
       "      <td>0.000000</td>\n",
       "    </tr>\n",
       "    <tr>\n",
       "      <th>1600</th>\n",
       "      <td>1</td>\n",
       "      <td>1.811296e+03</td>\n",
       "      <td>0.009265</td>\n",
       "      <td>1800</td>\n",
       "      <td>1558</td>\n",
       "      <td>13.833333</td>\n",
       "      <td>0.041667</td>\n",
       "    </tr>\n",
       "    <tr>\n",
       "      <th>1700</th>\n",
       "      <td>2</td>\n",
       "      <td>1.504100e+03</td>\n",
       "      <td>0.039336</td>\n",
       "      <td>1800</td>\n",
       "      <td>1561</td>\n",
       "      <td>14.197222</td>\n",
       "      <td>0.000000</td>\n",
       "    </tr>\n",
       "    <tr>\n",
       "      <th>1800</th>\n",
       "      <td>8</td>\n",
       "      <td>1.067196e+03</td>\n",
       "      <td>0.102992</td>\n",
       "      <td>1800</td>\n",
       "      <td>1566</td>\n",
       "      <td>15.303889</td>\n",
       "      <td>0.000000</td>\n",
       "    </tr>\n",
       "    <tr>\n",
       "      <th>1900</th>\n",
       "      <td>6</td>\n",
       "      <td>1.135569e+03</td>\n",
       "      <td>0.083280</td>\n",
       "      <td>1800</td>\n",
       "      <td>1561</td>\n",
       "      <td>14.877222</td>\n",
       "      <td>0.125000</td>\n",
       "    </tr>\n",
       "    <tr>\n",
       "      <th>2000</th>\n",
       "      <td>6</td>\n",
       "      <td>1.177168e+03</td>\n",
       "      <td>0.062398</td>\n",
       "      <td>1800</td>\n",
       "      <td>1558</td>\n",
       "      <td>14.660000</td>\n",
       "      <td>0.000000</td>\n",
       "    </tr>\n",
       "    <tr>\n",
       "      <th>2100</th>\n",
       "      <td>8</td>\n",
       "      <td>1.109383e+03</td>\n",
       "      <td>0.111724</td>\n",
       "      <td>1800</td>\n",
       "      <td>1568</td>\n",
       "      <td>15.310556</td>\n",
       "      <td>0.125000</td>\n",
       "    </tr>\n",
       "    <tr>\n",
       "      <th>2200</th>\n",
       "      <td>4</td>\n",
       "      <td>1.418227e+03</td>\n",
       "      <td>0.041046</td>\n",
       "      <td>1800</td>\n",
       "      <td>1561</td>\n",
       "      <td>15.536667</td>\n",
       "      <td>0.125000</td>\n",
       "    </tr>\n",
       "    <tr>\n",
       "      <th>2300</th>\n",
       "      <td>7</td>\n",
       "      <td>1.094200e+03</td>\n",
       "      <td>0.099101</td>\n",
       "      <td>1800</td>\n",
       "      <td>1547</td>\n",
       "      <td>15.074444</td>\n",
       "      <td>0.284914</td>\n",
       "    </tr>\n",
       "    <tr>\n",
       "      <th>2400</th>\n",
       "      <td>50</td>\n",
       "      <td>2.013565e-12</td>\n",
       "      <td>0.638773</td>\n",
       "      <td>1800</td>\n",
       "      <td>1542</td>\n",
       "      <td>15.373889</td>\n",
       "      <td>0.005435</td>\n",
       "    </tr>\n",
       "  </tbody>\n",
       "</table>\n",
       "</div>"
      ],
      "text/plain": [
       "       steps_in_trial        reward  perf_time  numerosity  population  \\\n",
       "trial                                                                    \n",
       "0                   8  1.000000e+03   0.084815        1800        1637   \n",
       "100                 5  1.250735e+03   0.062643        1800        1597   \n",
       "200                 2  1.886471e+03   0.029850        1800        1585   \n",
       "300                 8  1.069032e+03   0.089705        1800        1593   \n",
       "400                 3  1.707064e+03   0.029097        1800        1584   \n",
       "500                 8  1.082298e+03   0.113067        1800        1573   \n",
       "600                 9  1.049088e+03   0.119529        1800        1582   \n",
       "700                 7  1.093589e+03   0.092646        1800        1580   \n",
       "800                10  1.071260e+03   0.139656        1800        1575   \n",
       "900                 5  1.238699e+03   0.064394        1800        1576   \n",
       "1000               38  1.000002e+03   0.445794        1800        1554   \n",
       "1100                9  1.081911e+03   0.143781        1800        1545   \n",
       "1200                9  1.047952e+03   0.087302        1800        1545   \n",
       "1300                9  1.050219e+03   0.121027        1800        1549   \n",
       "1400                1  1.769820e+03   0.009838        1800        1558   \n",
       "1500                6  1.141529e+03   0.068158        1800        1564   \n",
       "1600                1  1.811296e+03   0.009265        1800        1558   \n",
       "1700                2  1.504100e+03   0.039336        1800        1561   \n",
       "1800                8  1.067196e+03   0.102992        1800        1566   \n",
       "1900                6  1.135569e+03   0.083280        1800        1561   \n",
       "2000                6  1.177168e+03   0.062398        1800        1558   \n",
       "2100                8  1.109383e+03   0.111724        1800        1568   \n",
       "2200                4  1.418227e+03   0.041046        1800        1561   \n",
       "2300                7  1.094200e+03   0.099101        1800        1547   \n",
       "2400               50  2.013565e-12   0.638773        1800        1542   \n",
       "\n",
       "       average_specificity  fraction_accuracy  \n",
       "trial                                          \n",
       "0                 8.145000           0.000000  \n",
       "100               8.130556           0.000000  \n",
       "200               8.711111           0.113281  \n",
       "300              10.185556           0.241667  \n",
       "400              10.250556           0.241667  \n",
       "500              10.066111           0.375000  \n",
       "600              11.092222           0.000000  \n",
       "700              11.934444           0.125000  \n",
       "800              12.199444           0.375000  \n",
       "900              12.867222           0.250000  \n",
       "1000             13.135556           0.000000  \n",
       "1100             13.717222           0.125000  \n",
       "1200             14.772222           0.238636  \n",
       "1300             14.645000           0.000000  \n",
       "1400             14.951667           0.125000  \n",
       "1500             14.801667           0.000000  \n",
       "1600             13.833333           0.041667  \n",
       "1700             14.197222           0.000000  \n",
       "1800             15.303889           0.000000  \n",
       "1900             14.877222           0.125000  \n",
       "2000             14.660000           0.000000  \n",
       "2100             15.310556           0.125000  \n",
       "2200             15.536667           0.125000  \n",
       "2300             15.074444           0.284914  \n",
       "2400             15.373889           0.005435  "
      ]
     },
     "metadata": {},
     "output_type": "display_data"
    }
   ],
   "source": [
    "display(df)"
   ]
  },
  {
   "cell_type": "code",
   "execution_count": 6,
   "metadata": {},
   "outputs": [
    {
     "data": {
      "text/plain": [
       "<matplotlib.legend.Legend at 0x2a20a9d7308>"
      ]
     },
     "execution_count": 6,
     "metadata": {},
     "output_type": "execute_result"
    },
    {
     "data": {
      "image/png": "[encoded data removed]",
      "text/plain": [
       "<Figure size 432x288 with 1 Axes>"
      ]
     },
     "metadata": {
      "needs_background": "light"
     },
     "output_type": "display_data"
    }
   ],
   "source": [
    "import pandas as pd\n",
    "import numpy as np\n",
    "\n",
    "ax = df['average_specificity'].plot()\n",
    "ax.set_xlabel(\"trial\")\n",
    "ax.set_ylabel(\"average_specificity\")\n",
    "ax.legend([\"specificity\"])\n"
   ]
  },
  {
   "cell_type": "code",
   "execution_count": 7,
   "metadata": {},
   "outputs": [
    {
     "data": {
      "text/plain": [
       "<matplotlib.legend.Legend at 0x2a20d733848>"
      ]
     },
     "execution_count": 7,
     "metadata": {},
     "output_type": "execute_result"
    },
    {
     "data": {
      "image/png": "[encoded data removed]",
      "text/plain": [
       "<Figure size 432x288 with 1 Axes>"
      ]
     },
     "metadata": {
      "needs_background": "light"
     },
     "output_type": "display_data"
    }
   ],
   "source": [
    "ax = df['fraction_accuracy'].plot()\n",
    "ax.set_xlabel(\"trial\")\n",
    "ax.set_ylabel(\"fraction accuracy\")\n",
    "ax.legend([\"fraction accuracy\"])"
   ]
  },
  {
   "cell_type": "code",
   "execution_count": 8,
   "metadata": {},
   "outputs": [
    {
     "data": {
      "text/plain": [
       "<matplotlib.legend.Legend at 0x2a20d7a0f08>"
      ]
     },
     "execution_count": 8,
     "metadata": {},
     "output_type": "execute_result"
    },
    {
     "data": {
      "image/png": "[encoded data removed]",
      "text/plain": [
       "<Figure size 432x288 with 1 Axes>"
      ]
     },
     "metadata": {
      "needs_background": "light"
     },
     "output_type": "display_data"
    }
   ],
   "source": [
    "ax = df[['numerosity', 'population']].plot()\n",
    "ax.set_xlabel(\"trial\")\n",
    "ax.set_ylabel(\"population\")\n",
    "ax.legend([\"numerosity\", \"number of rules\"])"
   ]
  },
  {
   "cell_type": "code",
   "execution_count": 9,
   "metadata": {},
   "outputs": [
    {
     "data": {
      "text/plain": [
       "<matplotlib.legend.Legend at 0x2a20d7e8748>"
      ]
     },
     "execution_count": 9,
     "metadata": {},
     "output_type": "execute_result"
    },
    {
     "data": {
      "image/png": "[encoded data removed]",
      "text/plain": [
       "<Figure size 432x288 with 1 Axes>"
      ]
     },
     "metadata": {
      "needs_background": "light"
     },
     "output_type": "display_data"
    }
   ],
   "source": [
    "ax = df['steps_in_trial'].plot()\n",
    "ax.set_xlabel(\"trial\")\n",
    "ax.set_ylabel(\"steps in trial\")\n",
    "ax.legend([\"steps\"])"
   ]
  },
  {
   "cell_type": "code",
   "execution_count": 10,
   "metadata": {},
   "outputs": [
    {
     "name": "stdout",
     "output_type": "stream",
     "text": [
      "229.0\n"
     ]
    }
   ],
   "source": [
    "print(sum(df['steps_in_trial'])/number_of_experiments)"
   ]
  }
 ],
 "metadata": {
  "kernelspec": {
   "display_name": "Python 3",
   "language": "python",
   "name": "python3"
  },
  "language_info": {
   "codemirror_mode": {
    "name": "ipython",
    "version": 3
   },
   "file_extension": ".py",
   "mimetype": "text/x-python",
   "name": "python",
   "nbconvert_exporter": "python",
   "pygments_lexer": "ipython3",
   "version": "3.7.10"
  }
 },
 "nbformat": 4,
 "nbformat_minor": 1
}
