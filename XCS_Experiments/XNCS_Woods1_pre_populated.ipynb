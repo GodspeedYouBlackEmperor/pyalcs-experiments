{
 "cells": [
  {
   "cell_type": "code",
   "execution_count": 42,
   "metadata": {},
   "outputs": [],
   "source": [
    "# logging \n",
    "import logging\n",
    "logging.basicConfig(level=logging.INFO)\n",
    "logger = logging.getLogger(__name__)\n"
   ]
  },
  {
   "cell_type": "code",
   "execution_count": 43,
   "metadata": {},
   "outputs": [
    {
     "name": "stdout",
     "output_type": "stream",
     "text": [
      "This is how maze looks like\n",
      "<class 'list'>\n",
      "['.', '.', '.', 'F', 'O', 'O', '.', '.']\n",
      "\n",
      "\u001b[37m□\u001b[0m \u001b[37m□\u001b[0m \u001b[37m□\u001b[0m \u001b[37m□\u001b[0m \u001b[37m□\u001b[0m\n",
      "\u001b[37m□\u001b[0m \u001b[36mX\u001b[0m \u001b[37m□\u001b[0m \u001b[37m□\u001b[0m \u001b[37m□\u001b[0m\n",
      "\u001b[30m■\u001b[0m \u001b[30m■\u001b[0m \u001b[33m$\u001b[0m \u001b[37m□\u001b[0m \u001b[37m□\u001b[0m\n",
      "\u001b[30m■\u001b[0m \u001b[30m■\u001b[0m \u001b[30m■\u001b[0m \u001b[37m□\u001b[0m \u001b[37m□\u001b[0m\n",
      "\u001b[30m■\u001b[0m \u001b[30m■\u001b[0m \u001b[30m■\u001b[0m \u001b[37m□\u001b[0m \u001b[37m□\u001b[0m\n"
     ]
    }
   ],
   "source": [
    "# environment setup\n",
    "import gym\n",
    "# noinspection PyUnresolvedReferences\n",
    "import gym_woods\n",
    "\n",
    "maze = gym.make('Woods1-v0')\n",
    "print(\"This is how maze looks like\")\n",
    "situation = maze.reset()\n",
    "print(type(situation))\n",
    "print(situation)\n",
    "maze.render()\n"
   ]
  },
  {
   "cell_type": "code",
   "execution_count": 44,
   "metadata": {},
   "outputs": [],
   "source": [
    "from lcs.agents.xncs import Configuration\n",
    "from utils.nxcs_utils import *\n",
    "\n",
    "cfg = Configuration(number_of_actions=8,\n",
    "                    max_population=1800,\n",
    "                    learning_rate=0.2, # beta\n",
    "                    epsilon_0=0.01,\n",
    "                    alpha=0.1,\n",
    "                    gamma=0.71,\n",
    "                    mutation_chance=0.08, # mu\n",
    "                    delta=0.1,\n",
    "                    ga_threshold=25,\n",
    "                    deletion_threshold=25,\n",
    "                    covering_wildcard_chance = 0.7,\n",
    "                    chi=0.8,      # crossover\n",
    "                    metrics_trial_frequency=100,\n",
    "                    initial_prediction = 10,  # p_i\n",
    "                    initial_error = 0.1,  # epsilon_i\n",
    "                    initial_fitness = 10,  # f_i\n",
    "                    user_metrics_collector_fcn=xncs_metrics,\n",
    "                    lmc=10,\n",
    "                    lem=20\n",
    "                    )"
   ]
  },
  {
   "cell_type": "code",
   "execution_count": 45,
   "metadata": {
    "scrolled": true
   },
   "outputs": [
    {
     "name": "stdout",
     "output_type": "stream",
     "text": [
      "Executing 0 experiment\n"
     ]
    },
    {
     "name": "stderr",
     "output_type": "stream",
     "text": [
      "INFO:lcs.agents.Agent:{'trial': 0, 'steps_in_trial': 30, 'reward': 1000.0, 'perf_time': 0.4908828000006906, 'numerosity': 1800, 'population': 1630, 'average_specificity': 8.407222222222222, 'fraction_accuracy': 0.0}\n",
      "INFO:lcs.agents.Agent:{'trial': 200, 'steps_in_trial': 3, 'reward': 1563.7665263868944, 'perf_time': 0.03216950000023644, 'numerosity': 1800, 'population': 1540, 'average_specificity': 18.010555555555555, 'fraction_accuracy': 0.0}\n",
      "INFO:lcs.agents.Agent:{'trial': 500, 'steps_in_trial': 13, 'reward': 1011.8631483990195, 'perf_time': 0.160649999999805, 'numerosity': 1800, 'population': 1543, 'average_specificity': 20.341666666666665, 'fraction_accuracy': 0.0}\n",
      "INFO:lcs.agents.Agent:{'trial': 700, 'steps_in_trial': 8, 'reward': 1070.0230026698277, 'perf_time': 0.09758580000016082, 'numerosity': 1800, 'population': 1551, 'average_specificity': 21.015555555555554, 'fraction_accuracy': 0.0}\n",
      "INFO:lcs.agents.Agent:{'trial': 1000, 'steps_in_trial': 8, 'reward': 1069.0362559493183, 'perf_time': 0.09980910000012955, 'numerosity': 1800, 'population': 1575, 'average_specificity': 19.20888888888889, 'fraction_accuracy': 0.0}\n",
      "INFO:lcs.agents.Agent:{'trial': 1200, 'steps_in_trial': 7, 'reward': 1097.1024221614744, 'perf_time': 0.07686180000018794, 'numerosity': 1800, 'population': 1578, 'average_specificity': 19.611666666666668, 'fraction_accuracy': 0.0}\n",
      "INFO:lcs.agents.Agent:{'trial': 1500, 'steps_in_trial': 1, 'reward': 2217.4535717217086, 'perf_time': 0.025234700000510202, 'numerosity': 1800, 'population': 1584, 'average_specificity': 19.805555555555557, 'fraction_accuracy': 0.0}\n",
      "INFO:lcs.agents.Agent:{'trial': 1700, 'steps_in_trial': 5, 'reward': 1198.3710964017487, 'perf_time': 0.06566600000041944, 'numerosity': 1800, 'population': 1567, 'average_specificity': 20.302222222222223, 'fraction_accuracy': 0.0}\n",
      "INFO:lcs.agents.Agent:{'trial': 2000, 'steps_in_trial': 3, 'reward': 1409.5230724117976, 'perf_time': 0.03123330000016722, 'numerosity': 1800, 'population': 1575, 'average_specificity': 20.464444444444446, 'fraction_accuracy': 0.0}\n",
      "INFO:lcs.agents.Agent:{'trial': 2200, 'steps_in_trial': 8, 'reward': 1075.7290135762564, 'perf_time': 0.09921990000111691, 'numerosity': 1800, 'population': 1568, 'average_specificity': 20.086666666666666, 'fraction_accuracy': 0.0}\n"
     ]
    },
    {
     "name": "stdout",
     "output_type": "stream",
     "text": [
      "Executing 1 experiment\n"
     ]
    },
    {
     "name": "stderr",
     "output_type": "stream",
     "text": [
      "INFO:lcs.agents.Agent:{'trial': 0, 'steps_in_trial': 18, 'reward': 1000.0, 'perf_time': 0.21482889999970212, 'numerosity': 1800, 'population': 1637, 'average_specificity': 8.267777777777777, 'fraction_accuracy': 0.0}\n",
      "INFO:lcs.agents.Agent:{'trial': 200, 'steps_in_trial': 26, 'reward': 1000.3008202815021, 'perf_time': 0.3434999000000971, 'numerosity': 1800, 'population': 1512, 'average_specificity': 19.047777777777778, 'fraction_accuracy': 0.02190721649484536}\n",
      "INFO:lcs.agents.Agent:{'trial': 500, 'steps_in_trial': 2, 'reward': 1574.5573273495593, 'perf_time': 0.020851600000241888, 'numerosity': 1800, 'population': 1469, 'average_specificity': 24.865555555555556, 'fraction_accuracy': 0.13524070945945946}\n",
      "INFO:lcs.agents.Agent:{'trial': 700, 'steps_in_trial': 2, 'reward': 1000.0000202158195, 'perf_time': 0.033775099998820224, 'numerosity': 1800, 'population': 1479, 'average_specificity': 25.19, 'fraction_accuracy': 0.13590482414448668}\n",
      "INFO:lcs.agents.Agent:{'trial': 1000, 'steps_in_trial': 1, 'reward': 2067.911023662463, 'perf_time': 0.012399600000208011, 'numerosity': 1800, 'population': 1430, 'average_specificity': 31.31888888888889, 'fraction_accuracy': 0.02124188643627279}\n",
      "INFO:lcs.agents.Agent:{'trial': 1200, 'steps_in_trial': 13, 'reward': 1019.9604026806329, 'perf_time': 0.15179019999959564, 'numerosity': 1800, 'population': 1338, 'average_specificity': 41.797222222222224, 'fraction_accuracy': 0.02207268096344993}\n",
      "INFO:lcs.agents.Agent:{'trial': 1500, 'steps_in_trial': 12, 'reward': 1017.3245663542838, 'perf_time': 0.1382157999996707, 'numerosity': 1800, 'population': 1319, 'average_specificity': 45.98777777777778, 'fraction_accuracy': 0.021232534761049554}\n",
      "INFO:lcs.agents.Agent:{'trial': 1700, 'steps_in_trial': 1, 'reward': 1711.1328084166346, 'perf_time': 0.010806300000695046, 'numerosity': 1800, 'population': 1320, 'average_specificity': 48.282222222222224, 'fraction_accuracy': 0.018051396565030405}\n",
      "INFO:lcs.agents.Agent:{'trial': 2000, 'steps_in_trial': 4, 'reward': 1346.0088996743596, 'perf_time': 0.037256600000546314, 'numerosity': 1800, 'population': 1322, 'average_specificity': 49.184444444444445, 'fraction_accuracy': 0.019745302603620975}\n",
      "INFO:lcs.agents.Agent:{'trial': 2200, 'steps_in_trial': 7, 'reward': 1091.005317019751, 'perf_time': 0.07574639999984356, 'numerosity': 1800, 'population': 1341, 'average_specificity': 47.775555555555556, 'fraction_accuracy': 0.02105019920948294}\n"
     ]
    },
    {
     "name": "stdout",
     "output_type": "stream",
     "text": [
      "Executing 2 experiment\n"
     ]
    },
    {
     "name": "stderr",
     "output_type": "stream",
     "text": [
      "INFO:lcs.agents.Agent:{'trial': 0, 'steps_in_trial': 7, 'reward': 1000.0, 'perf_time': 0.09536780000053113, 'numerosity': 1800, 'population': 1604, 'average_specificity': 8.462777777777777, 'fraction_accuracy': 0.0}\n",
      "INFO:lcs.agents.Agent:{'trial': 200, 'steps_in_trial': 50, 'reward': 1000.0000627680964, 'perf_time': 0.9400621999993746, 'numerosity': 1800, 'population': 1542, 'average_specificity': 14.076666666666666, 'fraction_accuracy': 0.0}\n",
      "INFO:lcs.agents.Agent:{'trial': 500, 'steps_in_trial': 4, 'reward': 1259.4241713276256, 'perf_time': 0.05402999999932945, 'numerosity': 1800, 'population': 1498, 'average_specificity': 23.566111111111113, 'fraction_accuracy': 0.0}\n",
      "INFO:lcs.agents.Agent:{'trial': 700, 'steps_in_trial': 3, 'reward': 1398.873865772583, 'perf_time': 0.035098399999696994, 'numerosity': 1800, 'population': 1493, 'average_specificity': 24.395, 'fraction_accuracy': 0.0}\n",
      "INFO:lcs.agents.Agent:{'trial': 1000, 'steps_in_trial': 7, 'reward': 1104.9080086165209, 'perf_time': 0.09556349999911617, 'numerosity': 1800, 'population': 1520, 'average_specificity': 24.845, 'fraction_accuracy': 0.0}\n",
      "INFO:lcs.agents.Agent:{'trial': 1200, 'steps_in_trial': 6, 'reward': 1140.951229961713, 'perf_time': 0.07103789999928267, 'numerosity': 1800, 'population': 1522, 'average_specificity': 24.959444444444443, 'fraction_accuracy': 0.0}\n",
      "INFO:lcs.agents.Agent:{'trial': 1500, 'steps_in_trial': 12, 'reward': 1017.294554840287, 'perf_time': 0.1610715999995591, 'numerosity': 1800, 'population': 1546, 'average_specificity': 22.409444444444443, 'fraction_accuracy': 0.0}\n",
      "INFO:lcs.agents.Agent:{'trial': 1700, 'steps_in_trial': 11, 'reward': 1023.562884838356, 'perf_time': 0.16868260000046575, 'numerosity': 1800, 'population': 1556, 'average_specificity': 22.77722222222222, 'fraction_accuracy': 0.0}\n",
      "INFO:lcs.agents.Agent:{'trial': 2000, 'steps_in_trial': 3, 'reward': 1421.2649621195847, 'perf_time': 0.03205010000056063, 'numerosity': 1800, 'population': 1557, 'average_specificity': 22.226666666666667, 'fraction_accuracy': 0.0}\n",
      "INFO:lcs.agents.Agent:{'trial': 2200, 'steps_in_trial': 6, 'reward': 1140.027139017782, 'perf_time': 0.06850780000058876, 'numerosity': 1800, 'population': 1549, 'average_specificity': 23.288888888888888, 'fraction_accuracy': 0.0}\n"
     ]
    },
    {
     "name": "stdout",
     "output_type": "stream",
     "text": [
      "Executing 3 experiment\n"
     ]
    },
    {
     "name": "stderr",
     "output_type": "stream",
     "text": [
      "INFO:lcs.agents.Agent:{'trial': 0, 'steps_in_trial': 8, 'reward': 1000.0, 'perf_time': 0.09862669999893114, 'numerosity': 1800, 'population': 1611, 'average_specificity': 8.165, 'fraction_accuracy': 0.0}\n",
      "INFO:lcs.agents.Agent:{'trial': 200, 'steps_in_trial': 6, 'reward': 1128.324075031946, 'perf_time': 0.0831570999998803, 'numerosity': 1800, 'population': 1550, 'average_specificity': 10.031666666666666, 'fraction_accuracy': 0.0}\n",
      "INFO:lcs.agents.Agent:{'trial': 500, 'steps_in_trial': 50, 'reward': 4.1273041024178726e-05, 'perf_time': 0.6440215999991779, 'numerosity': 1800, 'population': 1543, 'average_specificity': 14.631666666666666, 'fraction_accuracy': 0.053800170794193}\n",
      "INFO:lcs.agents.Agent:{'trial': 700, 'steps_in_trial': 7, 'reward': 1100.6632219113117, 'perf_time': 0.07747120000021823, 'numerosity': 1800, 'population': 1557, 'average_specificity': 17.296666666666667, 'fraction_accuracy': 0.046257598784194526}\n",
      "INFO:lcs.agents.Agent:{'trial': 1000, 'steps_in_trial': 2, 'reward': 1991.3297646200795, 'perf_time': 0.02133039999898756, 'numerosity': 1800, 'population': 1575, 'average_specificity': 18.037222222222223, 'fraction_accuracy': 0.046765530126109296}\n",
      "INFO:lcs.agents.Agent:{'trial': 1200, 'steps_in_trial': 1, 'reward': 2068.533796633117, 'perf_time': 0.010970800001814496, 'numerosity': 1800, 'population': 1572, 'average_specificity': 16.439444444444444, 'fraction_accuracy': 0.036291011619958985}\n",
      "INFO:lcs.agents.Agent:{'trial': 1500, 'steps_in_trial': 3, 'reward': 1421.7901453162244, 'perf_time': 0.03251520000048913, 'numerosity': 1800, 'population': 1574, 'average_specificity': 16.150555555555556, 'fraction_accuracy': 0.0006824385805277526}\n",
      "INFO:lcs.agents.Agent:{'trial': 1700, 'steps_in_trial': 2, 'reward': 1774.3907418671456, 'perf_time': 0.019983700000011595, 'numerosity': 1800, 'population': 1570, 'average_specificity': 16.240555555555556, 'fraction_accuracy': 0.0}\n",
      "INFO:lcs.agents.Agent:{'trial': 2000, 'steps_in_trial': 1, 'reward': 2157.710490784856, 'perf_time': 0.012572100000397768, 'numerosity': 1800, 'population': 1576, 'average_specificity': 15.975555555555555, 'fraction_accuracy': 0.0}\n",
      "INFO:lcs.agents.Agent:{'trial': 2200, 'steps_in_trial': 5, 'reward': 1217.63740020734, 'perf_time': 0.052552499999364954, 'numerosity': 1800, 'population': 1567, 'average_specificity': 17.519444444444446, 'fraction_accuracy': 0.0}\n"
     ]
    },
    {
     "name": "stdout",
     "output_type": "stream",
     "text": [
      "Executing 4 experiment\n"
     ]
    },
    {
     "name": "stderr",
     "output_type": "stream",
     "text": [
      "INFO:lcs.agents.Agent:{'trial': 0, 'steps_in_trial': 4, 'reward': 1000.0, 'perf_time': 0.046871399999872665, 'numerosity': 1800, 'population': 1634, 'average_specificity': 8.545, 'fraction_accuracy': 0.0}\n",
      "INFO:lcs.agents.Agent:{'trial': 200, 'steps_in_trial': 1, 'reward': 1746.1885101577595, 'perf_time': 0.022944399999687448, 'numerosity': 1800, 'population': 1552, 'average_specificity': 10.442222222222222, 'fraction_accuracy': 0.10326086956521739}\n",
      "INFO:lcs.agents.Agent:{'trial': 500, 'steps_in_trial': 1, 'reward': 1710.0369096204813, 'perf_time': 0.01082970000061323, 'numerosity': 1800, 'population': 1501, 'average_specificity': 19.92, 'fraction_accuracy': 0.0010176390773405698}\n",
      "INFO:lcs.agents.Agent:{'trial': 700, 'steps_in_trial': 6, 'reward': 1142.24532942127, 'perf_time': 0.06747790000008536, 'numerosity': 1800, 'population': 1452, 'average_specificity': 28.33888888888889, 'fraction_accuracy': 0.04954410784646776}\n",
      "INFO:lcs.agents.Agent:{'trial': 1000, 'steps_in_trial': 3, 'reward': 1357.9110000001615, 'perf_time': 0.033026700000846176, 'numerosity': 1800, 'population': 1364, 'average_specificity': 34.51222222222222, 'fraction_accuracy': 0.03162518121974892}\n",
      "INFO:lcs.agents.Agent:{'trial': 1200, 'steps_in_trial': 50, 'reward': 3.655253990223863e-05, 'perf_time': 0.5462427000002208, 'numerosity': 1800, 'population': 1273, 'average_specificity': 46.13944444444444, 'fraction_accuracy': 0.04548957031449795}\n",
      "INFO:lcs.agents.Agent:{'trial': 1500, 'steps_in_trial': 7, 'reward': 1100.648112867613, 'perf_time': 0.06503779999911785, 'numerosity': 1800, 'population': 1239, 'average_specificity': 53.659444444444446, 'fraction_accuracy': 0.04769334682104466}\n",
      "INFO:lcs.agents.Agent:{'trial': 1700, 'steps_in_trial': 6, 'reward': 1254.5143344059775, 'perf_time': 0.05801029999929597, 'numerosity': 1800, 'population': 1231, 'average_specificity': 56.62222222222222, 'fraction_accuracy': 0.046379608817560355}\n",
      "INFO:lcs.agents.Agent:{'trial': 2000, 'steps_in_trial': 3, 'reward': 1363.1669654706777, 'perf_time': 0.028250800000023446, 'numerosity': 1800, 'population': 1234, 'average_specificity': 56.56111111111111, 'fraction_accuracy': 0.02407571972529099}\n",
      "INFO:lcs.agents.Agent:{'trial': 2200, 'steps_in_trial': 4, 'reward': 1404.5530959649996, 'perf_time': 0.04619060000004538, 'numerosity': 1800, 'population': 1233, 'average_specificity': 55.12111111111111, 'fraction_accuracy': 0.023342962881540856}\n"
     ]
    }
   ],
   "source": [
    "from utils.nxcs_utils import avg_experiment as XNCSExp\n",
    "\n",
    "number_of_experiments = 5\n",
    "explore = 0\n",
    "exploit = 2500\n",
    "\n",
    "df = XNCSExp(\n",
    "    maze=maze,\n",
    "    cfg=cfg,\n",
    "    number_of_tests=number_of_experiments,\n",
    "    explore_trials=explore,\n",
    "    exploit_trials=exploit,\n",
    "    pre_generate=True\n",
    "    )\n",
    "\n",
    "\n"
   ]
  },
  {
   "cell_type": "code",
   "execution_count": 46,
   "metadata": {},
   "outputs": [
    {
     "data": {
      "text/html": [
       "<div>\n",
       "<style scoped>\n",
       "    .dataframe tbody tr th:only-of-type {\n",
       "        vertical-align: middle;\n",
       "    }\n",
       "\n",
       "    .dataframe tbody tr th {\n",
       "        vertical-align: top;\n",
       "    }\n",
       "\n",
       "    .dataframe thead th {\n",
       "        text-align: right;\n",
       "    }\n",
       "</style>\n",
       "<table border=\"1\" class=\"dataframe\">\n",
       "  <thead>\n",
       "    <tr style=\"text-align: right;\">\n",
       "      <th></th>\n",
       "      <th>steps_in_trial</th>\n",
       "      <th>reward</th>\n",
       "      <th>perf_time</th>\n",
       "      <th>numerosity</th>\n",
       "      <th>population</th>\n",
       "      <th>average_specificity</th>\n",
       "      <th>fraction_accuracy</th>\n",
       "    </tr>\n",
       "    <tr>\n",
       "      <th>trial</th>\n",
       "      <th></th>\n",
       "      <th></th>\n",
       "      <th></th>\n",
       "      <th></th>\n",
       "      <th></th>\n",
       "      <th></th>\n",
       "      <th></th>\n",
       "    </tr>\n",
       "  </thead>\n",
       "  <tbody>\n",
       "    <tr>\n",
       "      <th>0</th>\n",
       "      <td>13.4</td>\n",
       "      <td>1000.000000</td>\n",
       "      <td>0.189316</td>\n",
       "      <td>1800.0</td>\n",
       "      <td>1623.2</td>\n",
       "      <td>8.369556</td>\n",
       "      <td>0.000000</td>\n",
       "    </tr>\n",
       "    <tr>\n",
       "      <th>100</th>\n",
       "      <td>8.6</td>\n",
       "      <td>1099.416725</td>\n",
       "      <td>0.121443</td>\n",
       "      <td>1800.0</td>\n",
       "      <td>1556.8</td>\n",
       "      <td>11.567222</td>\n",
       "      <td>0.020652</td>\n",
       "    </tr>\n",
       "    <tr>\n",
       "      <th>200</th>\n",
       "      <td>17.2</td>\n",
       "      <td>1287.715999</td>\n",
       "      <td>0.284367</td>\n",
       "      <td>1800.0</td>\n",
       "      <td>1539.2</td>\n",
       "      <td>14.321778</td>\n",
       "      <td>0.025034</td>\n",
       "    </tr>\n",
       "    <tr>\n",
       "      <th>300</th>\n",
       "      <td>5.2</td>\n",
       "      <td>1286.494031</td>\n",
       "      <td>0.076812</td>\n",
       "      <td>1800.0</td>\n",
       "      <td>1521.0</td>\n",
       "      <td>17.568000</td>\n",
       "      <td>0.075165</td>\n",
       "    </tr>\n",
       "    <tr>\n",
       "      <th>400</th>\n",
       "      <td>5.4</td>\n",
       "      <td>1307.252671</td>\n",
       "      <td>0.073358</td>\n",
       "      <td>1800.0</td>\n",
       "      <td>1517.4</td>\n",
       "      <td>19.637444</td>\n",
       "      <td>0.050001</td>\n",
       "    </tr>\n",
       "    <tr>\n",
       "      <th>500</th>\n",
       "      <td>14.0</td>\n",
       "      <td>1111.176320</td>\n",
       "      <td>0.178077</td>\n",
       "      <td>1800.0</td>\n",
       "      <td>1510.8</td>\n",
       "      <td>20.665000</td>\n",
       "      <td>0.038012</td>\n",
       "    </tr>\n",
       "    <tr>\n",
       "      <th>600</th>\n",
       "      <td>6.0</td>\n",
       "      <td>1172.474595</td>\n",
       "      <td>0.082059</td>\n",
       "      <td>1800.0</td>\n",
       "      <td>1518.4</td>\n",
       "      <td>21.490444</td>\n",
       "      <td>0.038501</td>\n",
       "    </tr>\n",
       "    <tr>\n",
       "      <th>700</th>\n",
       "      <td>5.2</td>\n",
       "      <td>1142.361088</td>\n",
       "      <td>0.062282</td>\n",
       "      <td>1800.0</td>\n",
       "      <td>1506.4</td>\n",
       "      <td>23.247222</td>\n",
       "      <td>0.046341</td>\n",
       "    </tr>\n",
       "    <tr>\n",
       "      <th>800</th>\n",
       "      <td>11.6</td>\n",
       "      <td>1164.746613</td>\n",
       "      <td>0.149228</td>\n",
       "      <td>1800.0</td>\n",
       "      <td>1504.8</td>\n",
       "      <td>23.817000</td>\n",
       "      <td>0.052659</td>\n",
       "    </tr>\n",
       "    <tr>\n",
       "      <th>900</th>\n",
       "      <td>14.4</td>\n",
       "      <td>1159.789922</td>\n",
       "      <td>0.204233</td>\n",
       "      <td>1800.0</td>\n",
       "      <td>1502.6</td>\n",
       "      <td>23.252222</td>\n",
       "      <td>0.042387</td>\n",
       "    </tr>\n",
       "    <tr>\n",
       "      <th>1000</th>\n",
       "      <td>4.2</td>\n",
       "      <td>1518.219211</td>\n",
       "      <td>0.052426</td>\n",
       "      <td>1800.0</td>\n",
       "      <td>1492.8</td>\n",
       "      <td>25.584444</td>\n",
       "      <td>0.019927</td>\n",
       "    </tr>\n",
       "    <tr>\n",
       "      <th>1100</th>\n",
       "      <td>16.0</td>\n",
       "      <td>897.824742</td>\n",
       "      <td>0.204456</td>\n",
       "      <td>1800.0</td>\n",
       "      <td>1474.2</td>\n",
       "      <td>27.055111</td>\n",
       "      <td>0.013034</td>\n",
       "    </tr>\n",
       "    <tr>\n",
       "      <th>1200</th>\n",
       "      <td>15.4</td>\n",
       "      <td>1065.309578</td>\n",
       "      <td>0.171381</td>\n",
       "      <td>1800.0</td>\n",
       "      <td>1456.6</td>\n",
       "      <td>29.789444</td>\n",
       "      <td>0.020771</td>\n",
       "    </tr>\n",
       "    <tr>\n",
       "      <th>1300</th>\n",
       "      <td>6.8</td>\n",
       "      <td>1168.536337</td>\n",
       "      <td>0.090427</td>\n",
       "      <td>1800.0</td>\n",
       "      <td>1450.2</td>\n",
       "      <td>30.880111</td>\n",
       "      <td>0.013929</td>\n",
       "    </tr>\n",
       "    <tr>\n",
       "      <th>1400</th>\n",
       "      <td>5.4</td>\n",
       "      <td>1294.956789</td>\n",
       "      <td>0.073507</td>\n",
       "      <td>1800.0</td>\n",
       "      <td>1458.0</td>\n",
       "      <td>30.821444</td>\n",
       "      <td>0.014106</td>\n",
       "    </tr>\n",
       "    <tr>\n",
       "      <th>1500</th>\n",
       "      <td>7.0</td>\n",
       "      <td>1354.902190</td>\n",
       "      <td>0.084415</td>\n",
       "      <td>1800.0</td>\n",
       "      <td>1452.4</td>\n",
       "      <td>31.602556</td>\n",
       "      <td>0.013922</td>\n",
       "    </tr>\n",
       "    <tr>\n",
       "      <th>1600</th>\n",
       "      <td>6.6</td>\n",
       "      <td>1114.628386</td>\n",
       "      <td>0.074703</td>\n",
       "      <td>1800.0</td>\n",
       "      <td>1446.6</td>\n",
       "      <td>32.647778</td>\n",
       "      <td>0.013637</td>\n",
       "    </tr>\n",
       "    <tr>\n",
       "      <th>1700</th>\n",
       "      <td>5.0</td>\n",
       "      <td>1392.394373</td>\n",
       "      <td>0.064630</td>\n",
       "      <td>1800.0</td>\n",
       "      <td>1448.8</td>\n",
       "      <td>32.844889</td>\n",
       "      <td>0.012886</td>\n",
       "    </tr>\n",
       "    <tr>\n",
       "      <th>1800</th>\n",
       "      <td>7.4</td>\n",
       "      <td>1157.446494</td>\n",
       "      <td>0.081245</td>\n",
       "      <td>1800.0</td>\n",
       "      <td>1449.6</td>\n",
       "      <td>33.736778</td>\n",
       "      <td>0.012378</td>\n",
       "    </tr>\n",
       "    <tr>\n",
       "      <th>1900</th>\n",
       "      <td>11.8</td>\n",
       "      <td>1239.067146</td>\n",
       "      <td>0.129333</td>\n",
       "      <td>1800.0</td>\n",
       "      <td>1446.2</td>\n",
       "      <td>33.532889</td>\n",
       "      <td>0.008997</td>\n",
       "    </tr>\n",
       "    <tr>\n",
       "      <th>2000</th>\n",
       "      <td>2.8</td>\n",
       "      <td>1539.534878</td>\n",
       "      <td>0.028273</td>\n",
       "      <td>1800.0</td>\n",
       "      <td>1452.8</td>\n",
       "      <td>32.882444</td>\n",
       "      <td>0.008764</td>\n",
       "    </tr>\n",
       "    <tr>\n",
       "      <th>2100</th>\n",
       "      <td>4.8</td>\n",
       "      <td>1397.112791</td>\n",
       "      <td>0.058439</td>\n",
       "      <td>1800.0</td>\n",
       "      <td>1453.6</td>\n",
       "      <td>32.853000</td>\n",
       "      <td>0.012493</td>\n",
       "    </tr>\n",
       "    <tr>\n",
       "      <th>2200</th>\n",
       "      <td>6.0</td>\n",
       "      <td>1185.790393</td>\n",
       "      <td>0.068443</td>\n",
       "      <td>1800.0</td>\n",
       "      <td>1451.6</td>\n",
       "      <td>32.758333</td>\n",
       "      <td>0.008879</td>\n",
       "    </tr>\n",
       "    <tr>\n",
       "      <th>2300</th>\n",
       "      <td>7.2</td>\n",
       "      <td>1129.381893</td>\n",
       "      <td>0.090482</td>\n",
       "      <td>1800.0</td>\n",
       "      <td>1461.4</td>\n",
       "      <td>32.383444</td>\n",
       "      <td>0.033714</td>\n",
       "    </tr>\n",
       "    <tr>\n",
       "      <th>2400</th>\n",
       "      <td>5.4</td>\n",
       "      <td>1423.324405</td>\n",
       "      <td>0.069817</td>\n",
       "      <td>1800.0</td>\n",
       "      <td>1461.2</td>\n",
       "      <td>32.737333</td>\n",
       "      <td>0.029473</td>\n",
       "    </tr>\n",
       "  </tbody>\n",
       "</table>\n",
       "</div>"
      ],
      "text/plain": [
       "       steps_in_trial       reward  perf_time  numerosity  population  \\\n",
       "trial                                                                   \n",
       "0                13.4  1000.000000   0.189316      1800.0      1623.2   \n",
       "100               8.6  1099.416725   0.121443      1800.0      1556.8   \n",
       "200              17.2  1287.715999   0.284367      1800.0      1539.2   \n",
       "300               5.2  1286.494031   0.076812      1800.0      1521.0   \n",
       "400               5.4  1307.252671   0.073358      1800.0      1517.4   \n",
       "500              14.0  1111.176320   0.178077      1800.0      1510.8   \n",
       "600               6.0  1172.474595   0.082059      1800.0      1518.4   \n",
       "700               5.2  1142.361088   0.062282      1800.0      1506.4   \n",
       "800              11.6  1164.746613   0.149228      1800.0      1504.8   \n",
       "900              14.4  1159.789922   0.204233      1800.0      1502.6   \n",
       "1000              4.2  1518.219211   0.052426      1800.0      1492.8   \n",
       "1100             16.0   897.824742   0.204456      1800.0      1474.2   \n",
       "1200             15.4  1065.309578   0.171381      1800.0      1456.6   \n",
       "1300              6.8  1168.536337   0.090427      1800.0      1450.2   \n",
       "1400              5.4  1294.956789   0.073507      1800.0      1458.0   \n",
       "1500              7.0  1354.902190   0.084415      1800.0      1452.4   \n",
       "1600              6.6  1114.628386   0.074703      1800.0      1446.6   \n",
       "1700              5.0  1392.394373   0.064630      1800.0      1448.8   \n",
       "1800              7.4  1157.446494   0.081245      1800.0      1449.6   \n",
       "1900             11.8  1239.067146   0.129333      1800.0      1446.2   \n",
       "2000              2.8  1539.534878   0.028273      1800.0      1452.8   \n",
       "2100              4.8  1397.112791   0.058439      1800.0      1453.6   \n",
       "2200              6.0  1185.790393   0.068443      1800.0      1451.6   \n",
       "2300              7.2  1129.381893   0.090482      1800.0      1461.4   \n",
       "2400              5.4  1423.324405   0.069817      1800.0      1461.2   \n",
       "\n",
       "       average_specificity  fraction_accuracy  \n",
       "trial                                          \n",
       "0                 8.369556           0.000000  \n",
       "100              11.567222           0.020652  \n",
       "200              14.321778           0.025034  \n",
       "300              17.568000           0.075165  \n",
       "400              19.637444           0.050001  \n",
       "500              20.665000           0.038012  \n",
       "600              21.490444           0.038501  \n",
       "700              23.247222           0.046341  \n",
       "800              23.817000           0.052659  \n",
       "900              23.252222           0.042387  \n",
       "1000             25.584444           0.019927  \n",
       "1100             27.055111           0.013034  \n",
       "1200             29.789444           0.020771  \n",
       "1300             30.880111           0.013929  \n",
       "1400             30.821444           0.014106  \n",
       "1500             31.602556           0.013922  \n",
       "1600             32.647778           0.013637  \n",
       "1700             32.844889           0.012886  \n",
       "1800             33.736778           0.012378  \n",
       "1900             33.532889           0.008997  \n",
       "2000             32.882444           0.008764  \n",
       "2100             32.853000           0.012493  \n",
       "2200             32.758333           0.008879  \n",
       "2300             32.383444           0.033714  \n",
       "2400             32.737333           0.029473  "
      ]
     },
     "metadata": {},
     "output_type": "display_data"
    }
   ],
   "source": [
    "display(df)"
   ]
  },
  {
   "cell_type": "code",
   "execution_count": 47,
   "metadata": {},
   "outputs": [
    {
     "data": {
      "text/plain": [
       "<matplotlib.legend.Legend at 0x1da0da1f588>"
      ]
     },
     "execution_count": 47,
     "metadata": {},
     "output_type": "execute_result"
    },
    {
     "data": {
      "image/png": "[encoded data removed]",
      "text/plain": [
       "<Figure size 432x288 with 1 Axes>"
      ]
     },
     "metadata": {
      "needs_background": "light"
     },
     "output_type": "display_data"
    }
   ],
   "source": [
    "import pandas as pd\n",
    "import numpy as np\n",
    "\n",
    "ax = df['average_specificity'].plot()\n",
    "ax.set_xlabel(\"trial\")\n",
    "ax.set_ylabel(\"average_specificity\")\n",
    "ax.legend([\"specificity\"])\n"
   ]
  },
  {
   "cell_type": "code",
   "execution_count": 48,
   "metadata": {},
   "outputs": [
    {
     "data": {
      "text/plain": [
       "<matplotlib.legend.Legend at 0x1da0d9f9f08>"
      ]
     },
     "execution_count": 48,
     "metadata": {},
     "output_type": "execute_result"
    },
    {
     "data": {
      "image/png": "[encoded data removed]",
      "text/plain": [
       "<Figure size 432x288 with 1 Axes>"
      ]
     },
     "metadata": {
      "needs_background": "light"
     },
     "output_type": "display_data"
    }
   ],
   "source": [
    "ax = df['fraction_accuracy'].plot()\n",
    "ax.set_xlabel(\"trial\")\n",
    "ax.set_ylabel(\"fraction accuracy\")\n",
    "ax.legend([\"fraction accuracy\"])"
   ]
  },
  {
   "cell_type": "code",
   "execution_count": 49,
   "metadata": {},
   "outputs": [
    {
     "data": {
      "text/plain": [
       "<matplotlib.legend.Legend at 0x1da0dca7548>"
      ]
     },
     "execution_count": 49,
     "metadata": {},
     "output_type": "execute_result"
    },
    {
     "data": {
      "image/png": "[encoded data removed]",
      "text/plain": [
       "<Figure size 432x288 with 1 Axes>"
      ]
     },
     "metadata": {
      "needs_background": "light"
     },
     "output_type": "display_data"
    }
   ],
   "source": [
    "ax = df[['numerosity', 'population']].plot()\n",
    "ax.set_xlabel(\"trial\")\n",
    "ax.set_ylabel(\"population\")\n",
    "ax.legend([\"numerosity\", \"number of rules\"])"
   ]
  },
  {
   "cell_type": "code",
   "execution_count": 50,
   "metadata": {},
   "outputs": [
    {
     "data": {
      "text/plain": [
       "<matplotlib.legend.Legend at 0x1da0dc25288>"
      ]
     },
     "execution_count": 50,
     "metadata": {},
     "output_type": "execute_result"
    },
    {
     "data": {
      "image/png": "[encoded data removed]",
      "text/plain": [
       "<Figure size 432x288 with 1 Axes>"
      ]
     },
     "metadata": {
      "needs_background": "light"
     },
     "output_type": "display_data"
    }
   ],
   "source": [
    "ax = df['steps_in_trial'].plot()\n",
    "ax.set_xlabel(\"trial\")\n",
    "ax.set_ylabel(\"steps in trial\")\n",
    "ax.legend([\"steps\"])"
   ]
  },
  {
   "cell_type": "code",
   "execution_count": 51,
   "metadata": {},
   "outputs": [
    {
     "name": "stdout",
     "output_type": "stream",
     "text": [
      "42.56000000000002\n"
     ]
    }
   ],
   "source": [
    "print(sum(df['steps_in_trial'])/number_of_experiments)"
   ]
  }
 ],
 "metadata": {
  "kernelspec": {
   "display_name": "Python 3",
   "language": "python",
   "name": "python3"
  },
  "language_info": {
   "codemirror_mode": {
    "name": "ipython",
    "version": 3
   },
   "file_extension": ".py",
   "mimetype": "text/x-python",
   "name": "python",
   "nbconvert_exporter": "python",
   "pygments_lexer": "ipython3",
   "version": "3.7.10"
  }
 },
 "nbformat": 4,
 "nbformat_minor": 1
}
