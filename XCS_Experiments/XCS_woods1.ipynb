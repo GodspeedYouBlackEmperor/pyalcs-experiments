{
 "cells": [
  {
   "cell_type": "markdown",
   "metadata": {},
   "source": [
    "### XCS in Woods"
   ]
  },
  {
   "cell_type": "code",
   "execution_count": 24,
   "metadata": {},
   "outputs": [],
   "source": [
    "# logging \n",
    "import logging\n",
    "logging.basicConfig(level=logging.INFO)\n",
    "logger = logging.getLogger(__name__)\n",
    "\n",
    "import pandas as pd\n",
    "import numpy as np\n",
    "import matplotlib.pyplot as plt\n",
    "\n",
    "# environment setup\n",
    "import gym\n",
    "# noinspection PyUnresolvedReferences\n",
    "import gym_woods\n",
    "\n",
    "from lcs.agents.xcs import XCS, Configuration\n",
    "from utils.xcs_utils import *"
   ]
  },
  {
   "cell_type": "code",
   "execution_count": 25,
   "metadata": {},
   "outputs": [
    {
     "name": "stdout",
     "output_type": "stream",
     "text": [
      "This is how maze looks like\n",
      "<class 'list'>\n",
      "['.', '.', '.', 'O', '.', '.', '.', '.']\n",
      "\n",
      "\u001b[37m□\u001b[0m \u001b[37m□\u001b[0m \u001b[37m□\u001b[0m \u001b[37m□\u001b[0m \u001b[37m□\u001b[0m\n",
      "\u001b[37m□\u001b[0m \u001b[37m□\u001b[0m \u001b[37m□\u001b[0m \u001b[37m□\u001b[0m \u001b[36mX\u001b[0m\n",
      "\u001b[30m■\u001b[0m \u001b[30m■\u001b[0m \u001b[33m$\u001b[0m \u001b[37m□\u001b[0m \u001b[37m□\u001b[0m\n",
      "\u001b[30m■\u001b[0m \u001b[30m■\u001b[0m \u001b[30m■\u001b[0m \u001b[37m□\u001b[0m \u001b[37m□\u001b[0m\n",
      "\u001b[30m■\u001b[0m \u001b[30m■\u001b[0m \u001b[30m■\u001b[0m \u001b[37m□\u001b[0m \u001b[37m□\u001b[0m\n"
     ]
    }
   ],
   "source": [
    "maze = gym.make('Woods1-v0')\n",
    "print(\"This is how maze looks like\")\n",
    "situation = maze.reset()\n",
    "print(type(situation))\n",
    "print(situation)\n",
    "maze.render()"
   ]
  },
  {
   "cell_type": "code",
   "execution_count": 26,
   "metadata": {
    "scrolled": true
   },
   "outputs": [
    {
     "name": "stderr",
     "output_type": "stream",
     "text": [
      "INFO:lcs.agents.Agent:{'trial': 0, 'steps_in_trial': 36, 'reward': 1000.0, 'perf_time': 0.0187924000001658, 'population': 84, 'numerosity': 89, 'average_specificity': 9.561797752808989, 'fraction_accuracy': 1.0}\n"
     ]
    },
    {
     "name": "stdout",
     "output_type": "stream",
     "text": [
      "Executing 0 experiment\n"
     ]
    },
    {
     "name": "stderr",
     "output_type": "stream",
     "text": [
      "INFO:lcs.agents.Agent:{'trial': 200, 'steps_in_trial': 1, 'reward': 2006.1456306207742, 'perf_time': 0.002873100000215345, 'population': 603, 'numerosity': 1800, 'average_specificity': 9.613888888888889, 'fraction_accuracy': 2.7820701675500964e-15}\n",
      "INFO:lcs.agents.Agent:{'trial': 400, 'steps_in_trial': 2, 'reward': 1504.3374538297148, 'perf_time': 0.014788999998927466, 'population': 647, 'numerosity': 1800, 'average_specificity': 10.213333333333333, 'fraction_accuracy': 9.648840691783651e-17}\n",
      "INFO:lcs.agents.Agent:{'trial': 600, 'steps_in_trial': 3, 'reward': 1363.7820390637485, 'perf_time': 0.019908599999325816, 'population': 635, 'numerosity': 1800, 'average_specificity': 11.348333333333333, 'fraction_accuracy': 2.932940021617651e-16}\n",
      "INFO:lcs.agents.Agent:{'trial': 800, 'steps_in_trial': 19, 'reward': 1001.7878343304117, 'perf_time': 0.16502480000053765, 'population': 662, 'numerosity': 1800, 'average_specificity': 10.276111111111112, 'fraction_accuracy': 8.243910671031571e-17}\n",
      "INFO:lcs.agents.Agent:{'trial': 1000, 'steps_in_trial': 2, 'reward': 1909.4533767969892, 'perf_time': 0.03377809999983583, 'population': 648, 'numerosity': 1800, 'average_specificity': 9.554444444444444, 'fraction_accuracy': 3.9216200921721425e-17}\n",
      "INFO:lcs.agents.Agent:{'trial': 1200, 'steps_in_trial': 1, 'reward': 1755.8490676189151, 'perf_time': 0.007474399999409798, 'population': 652, 'numerosity': 1800, 'average_specificity': 11.543888888888889, 'fraction_accuracy': 2.7832423581549035e-17}\n",
      "INFO:lcs.agents.Agent:{'trial': 1400, 'steps_in_trial': 2, 'reward': 1612.037012108202, 'perf_time': 0.006430600000385311, 'population': 679, 'numerosity': 1800, 'average_specificity': 11.19, 'fraction_accuracy': 5.05593057192021e-17}\n",
      "INFO:lcs.agents.Agent:{'trial': 1600, 'steps_in_trial': 10, 'reward': 1032.6133670350366, 'perf_time': 0.0756809999984398, 'population': 710, 'numerosity': 1800, 'average_specificity': 9.527777777777779, 'fraction_accuracy': 1.202391252948902e-15}\n",
      "INFO:lcs.agents.Agent:{'trial': 1800, 'steps_in_trial': 4, 'reward': 1563.8205726641504, 'perf_time': 0.038901599999007885, 'population': 669, 'numerosity': 1800, 'average_specificity': 11.815555555555555, 'fraction_accuracy': 9.927395956113195e-17}\n",
      "INFO:lcs.agents.Agent:{'trial': 0, 'steps_in_trial': 2, 'reward': 1000.0, 'perf_time': 0.0067119000013917685, 'population': 669, 'numerosity': 1800, 'average_specificity': 10.233333333333333, 'fraction_accuracy': 6.056854607478723e-16}\n",
      "INFO:lcs.agents.Agent:{'trial': 0, 'steps_in_trial': 2, 'reward': 1000.0, 'perf_time': 0.0067119000013917685, 'population': 669, 'numerosity': 1800, 'average_specificity': 10.233333333333333, 'fraction_accuracy': 6.056854607478723e-16}\n",
      "INFO:lcs.agents.Agent:{'trial': 100, 'steps_in_trial': 2, 'reward': 1768.602542328062, 'perf_time': 0.006660699998974451, 'population': 670, 'numerosity': 1800, 'average_specificity': 10.233333333333333, 'fraction_accuracy': 6.2452576885276e-16}\n",
      "INFO:lcs.agents.Agent:{'trial': 100, 'steps_in_trial': 2, 'reward': 1768.602542328062, 'perf_time': 0.006660699998974451, 'population': 670, 'numerosity': 1800, 'average_specificity': 10.233333333333333, 'fraction_accuracy': 6.2452576885276e-16}\n",
      "INFO:lcs.agents.Agent:{'trial': 200, 'steps_in_trial': 5, 'reward': 1412.0976886521798, 'perf_time': 0.016547200000786688, 'population': 670, 'numerosity': 1800, 'average_specificity': 10.233333333333333, 'fraction_accuracy': 6.051604415760929e-16}\n",
      "INFO:lcs.agents.Agent:{'trial': 200, 'steps_in_trial': 5, 'reward': 1412.0976886521798, 'perf_time': 0.016547200000786688, 'population': 670, 'numerosity': 1800, 'average_specificity': 10.233333333333333, 'fraction_accuracy': 6.051604415760929e-16}\n",
      "INFO:lcs.agents.Agent:{'trial': 300, 'steps_in_trial': 4, 'reward': 1382.769836349861, 'perf_time': 0.013389900001129718, 'population': 670, 'numerosity': 1800, 'average_specificity': 10.233333333333333, 'fraction_accuracy': 6.275001735713426e-16}\n",
      "INFO:lcs.agents.Agent:{'trial': 300, 'steps_in_trial': 4, 'reward': 1382.769836349861, 'perf_time': 0.013389900001129718, 'population': 670, 'numerosity': 1800, 'average_specificity': 10.233333333333333, 'fraction_accuracy': 6.275001735713426e-16}\n",
      "INFO:lcs.agents.Agent:{'trial': 400, 'steps_in_trial': 2, 'reward': 1619.2617939104985, 'perf_time': 0.006301899999016314, 'population': 670, 'numerosity': 1800, 'average_specificity': 10.233333333333333, 'fraction_accuracy': 6.086028332431032e-16}\n",
      "INFO:lcs.agents.Agent:{'trial': 400, 'steps_in_trial': 2, 'reward': 1619.2617939104985, 'perf_time': 0.006301899999016314, 'population': 670, 'numerosity': 1800, 'average_specificity': 10.233333333333333, 'fraction_accuracy': 6.086028332431032e-16}\n",
      "INFO:lcs.agents.Agent:{'trial': 0, 'steps_in_trial': 1, 'reward': 1000.0, 'perf_time': 0.00035649999881570693, 'population': 8, 'numerosity': 8, 'average_specificity': 4.625, 'fraction_accuracy': 1.0}\n"
     ]
    },
    {
     "name": "stdout",
     "output_type": "stream",
     "text": [
      "Executing 1 experiment\n"
     ]
    },
    {
     "name": "stderr",
     "output_type": "stream",
     "text": [
      "INFO:lcs.agents.Agent:{'trial': 200, 'steps_in_trial': 10, 'reward': 1039.5338961283894, 'perf_time': 0.05270310000014433, 'population': 631, 'numerosity': 1800, 'average_specificity': 11.008888888888889, 'fraction_accuracy': 1.4102489066971612e-16}\n",
      "INFO:lcs.agents.Agent:{'trial': 400, 'steps_in_trial': 22, 'reward': 1000.551563850772, 'perf_time': 0.18509659999836003, 'population': 632, 'numerosity': 1800, 'average_specificity': 10.430555555555555, 'fraction_accuracy': 6.867587929348871e-16}\n",
      "INFO:lcs.agents.Agent:{'trial': 600, 'steps_in_trial': 6, 'reward': 1297.772182065705, 'perf_time': 0.05083999999988009, 'population': 640, 'numerosity': 1800, 'average_specificity': 11.004444444444445, 'fraction_accuracy': 8.249788171907124e-17}\n",
      "INFO:lcs.agents.Agent:{'trial': 800, 'steps_in_trial': 10, 'reward': 1049.0584957561553, 'perf_time': 0.06546700000035344, 'population': 646, 'numerosity': 1800, 'average_specificity': 10.255555555555556, 'fraction_accuracy': 3.164475778388059e-16}\n",
      "INFO:lcs.agents.Agent:{'trial': 1000, 'steps_in_trial': 2, 'reward': 1506.63244632199, 'perf_time': 0.021093699999255477, 'population': 714, 'numerosity': 1800, 'average_specificity': 8.377222222222223, 'fraction_accuracy': 3.315703565924089e-16}\n",
      "INFO:lcs.agents.Agent:{'trial': 1200, 'steps_in_trial': 16, 'reward': 1004.1700127837189, 'perf_time': 0.11960809999982303, 'population': 654, 'numerosity': 1800, 'average_specificity': 9.446666666666667, 'fraction_accuracy': 4.566750456310196e-14}\n",
      "INFO:lcs.agents.Agent:{'trial': 1400, 'steps_in_trial': 6, 'reward': 1129.122023317384, 'perf_time': 0.06999530000030063, 'population': 697, 'numerosity': 1800, 'average_specificity': 11.986666666666666, 'fraction_accuracy': 8.35945737383303e-13}\n",
      "INFO:lcs.agents.Agent:{'trial': 1600, 'steps_in_trial': 1, 'reward': 2259.9485725123377, 'perf_time': 0.009609300001102383, 'population': 635, 'numerosity': 1800, 'average_specificity': 11.974444444444444, 'fraction_accuracy': 2.165861078749999e-15}\n",
      "INFO:lcs.agents.Agent:{'trial': 1800, 'steps_in_trial': 25, 'reward': 1000.1914765562693, 'perf_time': 0.21719730000040727, 'population': 697, 'numerosity': 1800, 'average_specificity': 10.490555555555556, 'fraction_accuracy': 2.8373673407194213e-15}\n",
      "INFO:lcs.agents.Agent:{'trial': 0, 'steps_in_trial': 4, 'reward': 1000.0, 'perf_time': 0.018962599999213126, 'population': 712, 'numerosity': 1800, 'average_specificity': 9.339444444444444, 'fraction_accuracy': 1.1074036920279677e-15}\n",
      "INFO:lcs.agents.Agent:{'trial': 0, 'steps_in_trial': 4, 'reward': 1000.0, 'perf_time': 0.018962599999213126, 'population': 712, 'numerosity': 1800, 'average_specificity': 9.339444444444444, 'fraction_accuracy': 1.1074036920279677e-15}\n",
      "INFO:lcs.agents.Agent:{'trial': 100, 'steps_in_trial': 5, 'reward': 1401.9632119016355, 'perf_time': 0.016956999999820255, 'population': 712, 'numerosity': 1800, 'average_specificity': 9.339444444444444, 'fraction_accuracy': 1.1088773870590388e-15}\n",
      "INFO:lcs.agents.Agent:{'trial': 100, 'steps_in_trial': 5, 'reward': 1401.9632119016355, 'perf_time': 0.016956999999820255, 'population': 712, 'numerosity': 1800, 'average_specificity': 9.339444444444444, 'fraction_accuracy': 1.1088773870590388e-15}\n",
      "INFO:lcs.agents.Agent:{'trial': 200, 'steps_in_trial': 1, 'reward': 2277.3393448388633, 'perf_time': 0.003563399999620742, 'population': 712, 'numerosity': 1800, 'average_specificity': 9.339444444444444, 'fraction_accuracy': 1.1093280457355948e-15}\n",
      "INFO:lcs.agents.Agent:{'trial': 200, 'steps_in_trial': 1, 'reward': 2277.3393448388633, 'perf_time': 0.003563399999620742, 'population': 712, 'numerosity': 1800, 'average_specificity': 9.339444444444444, 'fraction_accuracy': 1.1093280457355948e-15}\n",
      "INFO:lcs.agents.Agent:{'trial': 300, 'steps_in_trial': 4, 'reward': 1487.9594563053934, 'perf_time': 0.016182499999558786, 'population': 712, 'numerosity': 1800, 'average_specificity': 9.339444444444444, 'fraction_accuracy': 1.1095738261912568e-15}\n",
      "INFO:lcs.agents.Agent:{'trial': 300, 'steps_in_trial': 4, 'reward': 1487.9594563053934, 'perf_time': 0.016182499999558786, 'population': 712, 'numerosity': 1800, 'average_specificity': 9.339444444444444, 'fraction_accuracy': 1.1095738261912568e-15}\n",
      "INFO:lcs.agents.Agent:{'trial': 400, 'steps_in_trial': 9, 'reward': 1051.6048886364927, 'perf_time': 0.02926579999984824, 'population': 712, 'numerosity': 1800, 'average_specificity': 9.339444444444444, 'fraction_accuracy': 1.1098414579644312e-15}\n",
      "INFO:lcs.agents.Agent:{'trial': 400, 'steps_in_trial': 9, 'reward': 1051.6048886364927, 'perf_time': 0.02926579999984824, 'population': 712, 'numerosity': 1800, 'average_specificity': 9.339444444444444, 'fraction_accuracy': 1.1098414579644312e-15}\n",
      "INFO:lcs.agents.Agent:{'trial': 0, 'steps_in_trial': 3, 'reward': 1000.0, 'perf_time': 0.001134099999035243, 'population': 22, 'numerosity': 22, 'average_specificity': 14.545454545454545, 'fraction_accuracy': 1.0}\n"
     ]
    },
    {
     "name": "stdout",
     "output_type": "stream",
     "text": [
      "Executing 2 experiment\n"
     ]
    },
    {
     "name": "stderr",
     "output_type": "stream",
     "text": [
      "INFO:lcs.agents.Agent:{'trial': 200, 'steps_in_trial': 1, 'reward': 1972.9424869668992, 'perf_time': 0.0031725999997433973, 'population': 617, 'numerosity': 1800, 'average_specificity': 11.249444444444444, 'fraction_accuracy': 1.2740603699100447e-17}\n",
      "INFO:lcs.agents.Agent:{'trial': 400, 'steps_in_trial': 3, 'reward': 1378.4923921675588, 'perf_time': 0.016564499999731197, 'population': 565, 'numerosity': 1800, 'average_specificity': 8.729444444444445, 'fraction_accuracy': 1.047948070601102e-17}\n",
      "INFO:lcs.agents.Agent:{'trial': 600, 'steps_in_trial': 11, 'reward': 1024.7562310995263, 'perf_time': 0.07774239999889687, 'population': 639, 'numerosity': 1800, 'average_specificity': 9.065, 'fraction_accuracy': 4.668948041729539e-15}\n",
      "INFO:lcs.agents.Agent:{'trial': 800, 'steps_in_trial': 21, 'reward': 1000.7524320047967, 'perf_time': 0.15170039999975415, 'population': 660, 'numerosity': 1800, 'average_specificity': 11.113888888888889, 'fraction_accuracy': 4.8513999514588625e-15}\n",
      "INFO:lcs.agents.Agent:{'trial': 1000, 'steps_in_trial': 1, 'reward': 2248.4811280726744, 'perf_time': 0.007498599999962607, 'population': 646, 'numerosity': 1800, 'average_specificity': 14.448333333333334, 'fraction_accuracy': 1.2030512000672898e-16}\n",
      "INFO:lcs.agents.Agent:{'trial': 1200, 'steps_in_trial': 4, 'reward': 1287.3219672750622, 'perf_time': 0.03677799999968556, 'population': 633, 'numerosity': 1800, 'average_specificity': 11.388333333333334, 'fraction_accuracy': 9.9737118420236e-18}\n",
      "INFO:lcs.agents.Agent:{'trial': 1400, 'steps_in_trial': 9, 'reward': 1060.4516103662202, 'perf_time': 0.10837379999975383, 'population': 700, 'numerosity': 1800, 'average_specificity': 11.219444444444445, 'fraction_accuracy': 1.4755951067454533e-17}\n",
      "INFO:lcs.agents.Agent:{'trial': 1600, 'steps_in_trial': 13, 'reward': 1018.2623587009658, 'perf_time': 0.05467219999991357, 'population': 639, 'numerosity': 1800, 'average_specificity': 11.120555555555555, 'fraction_accuracy': 2.351290174417314e-16}\n",
      "INFO:lcs.agents.Agent:{'trial': 1800, 'steps_in_trial': 34, 'reward': 1000.014384800159, 'perf_time': 0.2490907999999763, 'population': 632, 'numerosity': 1800, 'average_specificity': 10.67, 'fraction_accuracy': 1.7093580386765742e-15}\n",
      "INFO:lcs.agents.Agent:{'trial': 0, 'steps_in_trial': 1, 'reward': 1000.0, 'perf_time': 0.002986100000271108, 'population': 665, 'numerosity': 1800, 'average_specificity': 10.143333333333333, 'fraction_accuracy': 1.2239041340444224e-16}\n",
      "INFO:lcs.agents.Agent:{'trial': 0, 'steps_in_trial': 1, 'reward': 1000.0, 'perf_time': 0.002986100000271108, 'population': 665, 'numerosity': 1800, 'average_specificity': 10.143333333333333, 'fraction_accuracy': 1.2239041340444224e-16}\n",
      "INFO:lcs.agents.Agent:{'trial': 100, 'steps_in_trial': 2, 'reward': 1947.8287078605163, 'perf_time': 0.006668500000159838, 'population': 665, 'numerosity': 1800, 'average_specificity': 10.143333333333333, 'fraction_accuracy': 1.219551097094006e-16}\n",
      "INFO:lcs.agents.Agent:{'trial': 100, 'steps_in_trial': 2, 'reward': 1947.8287078605163, 'perf_time': 0.006668500000159838, 'population': 665, 'numerosity': 1800, 'average_specificity': 10.143333333333333, 'fraction_accuracy': 1.219551097094006e-16}\n",
      "INFO:lcs.agents.Agent:{'trial': 200, 'steps_in_trial': 6, 'reward': 1207.8369483984327, 'perf_time': 0.019037500000194996, 'population': 665, 'numerosity': 1800, 'average_specificity': 10.143333333333333, 'fraction_accuracy': 1.220810717360492e-16}\n",
      "INFO:lcs.agents.Agent:{'trial': 200, 'steps_in_trial': 6, 'reward': 1207.8369483984327, 'perf_time': 0.019037500000194996, 'population': 665, 'numerosity': 1800, 'average_specificity': 10.143333333333333, 'fraction_accuracy': 1.220810717360492e-16}\n",
      "INFO:lcs.agents.Agent:{'trial': 300, 'steps_in_trial': 15, 'reward': 1009.6516627417304, 'perf_time': 0.04715389999910258, 'population': 665, 'numerosity': 1800, 'average_specificity': 10.143333333333333, 'fraction_accuracy': 1.2288205132190656e-16}\n",
      "INFO:lcs.agents.Agent:{'trial': 300, 'steps_in_trial': 15, 'reward': 1009.6516627417304, 'perf_time': 0.04715389999910258, 'population': 665, 'numerosity': 1800, 'average_specificity': 10.143333333333333, 'fraction_accuracy': 1.2288205132190656e-16}\n",
      "INFO:lcs.agents.Agent:{'trial': 400, 'steps_in_trial': 16, 'reward': 1005.4653849215086, 'perf_time': 0.049145599999974365, 'population': 665, 'numerosity': 1800, 'average_specificity': 10.143333333333333, 'fraction_accuracy': 1.2159396170179812e-16}\n",
      "INFO:lcs.agents.Agent:{'trial': 400, 'steps_in_trial': 16, 'reward': 1005.4653849215086, 'perf_time': 0.049145599999974365, 'population': 665, 'numerosity': 1800, 'average_specificity': 10.143333333333333, 'fraction_accuracy': 1.2159396170179812e-16}\n",
      "INFO:lcs.agents.Agent:{'trial': 0, 'steps_in_trial': 17, 'reward': 1000.0, 'perf_time': 0.007465300001058495, 'population': 63, 'numerosity': 63, 'average_specificity': 6.158730158730159, 'fraction_accuracy': 1.0}\n"
     ]
    },
    {
     "name": "stdout",
     "output_type": "stream",
     "text": [
      "Executing 3 experiment\n"
     ]
    },
    {
     "name": "stderr",
     "output_type": "stream",
     "text": [
      "INFO:lcs.agents.Agent:{'trial': 200, 'steps_in_trial': 25, 'reward': 1000.1956085531602, 'perf_time': 0.20727389999956358, 'population': 668, 'numerosity': 1800, 'average_specificity': 10.73611111111111, 'fraction_accuracy': 3.9106596351359623e-16}\n",
      "INFO:lcs.agents.Agent:{'trial': 400, 'steps_in_trial': 2, 'reward': 1763.431839018197, 'perf_time': 0.009543199999825447, 'population': 602, 'numerosity': 1800, 'average_specificity': 11.187222222222223, 'fraction_accuracy': 5.568543862476766e-16}\n",
      "INFO:lcs.agents.Agent:{'trial': 600, 'steps_in_trial': 6, 'reward': 1160.9220018028795, 'perf_time': 0.019983000000138418, 'population': 564, 'numerosity': 1800, 'average_specificity': 8.711666666666666, 'fraction_accuracy': 9.502896917636498e-15}\n",
      "INFO:lcs.agents.Agent:{'trial': 800, 'steps_in_trial': 13, 'reward': 1011.9408885443835, 'perf_time': 0.0948355000000447, 'population': 674, 'numerosity': 1800, 'average_specificity': 9.12888888888889, 'fraction_accuracy': 3.2501108083591083e-15}\n",
      "INFO:lcs.agents.Agent:{'trial': 1000, 'steps_in_trial': 4, 'reward': 1258.5700249747238, 'perf_time': 0.03475880000041798, 'population': 668, 'numerosity': 1800, 'average_specificity': 9.16388888888889, 'fraction_accuracy': 1.6995248676085598e-15}\n",
      "INFO:lcs.agents.Agent:{'trial': 1200, 'steps_in_trial': 1, 'reward': 1710.0687310950843, 'perf_time': 0.014210700001058285, 'population': 648, 'numerosity': 1800, 'average_specificity': 9.422222222222222, 'fraction_accuracy': 1.8928883332748572e-15}\n",
      "INFO:lcs.agents.Agent:{'trial': 1400, 'steps_in_trial': 9, 'reward': 1049.1465260851803, 'perf_time': 0.07928629999878467, 'population': 702, 'numerosity': 1800, 'average_specificity': 9.458333333333334, 'fraction_accuracy': 3.777917515442777e-17}\n",
      "INFO:lcs.agents.Agent:{'trial': 1600, 'steps_in_trial': 10, 'reward': 1032.8218170010532, 'perf_time': 0.08639249999941967, 'population': 617, 'numerosity': 1800, 'average_specificity': 9.407777777777778, 'fraction_accuracy': 1.1458953986523905e-16}\n",
      "INFO:lcs.agents.Agent:{'trial': 1800, 'steps_in_trial': 1, 'reward': 1809.337547621527, 'perf_time': 0.003453399998761597, 'population': 699, 'numerosity': 1800, 'average_specificity': 9.990555555555556, 'fraction_accuracy': 1.2042878173678084e-14}\n",
      "INFO:lcs.agents.Agent:{'trial': 0, 'steps_in_trial': 3, 'reward': 1000.0, 'perf_time': 0.009784899999431218, 'population': 707, 'numerosity': 1800, 'average_specificity': 9.669444444444444, 'fraction_accuracy': 1.0777308087717382e-17}\n",
      "INFO:lcs.agents.Agent:{'trial': 0, 'steps_in_trial': 3, 'reward': 1000.0, 'perf_time': 0.009784899999431218, 'population': 707, 'numerosity': 1800, 'average_specificity': 9.669444444444444, 'fraction_accuracy': 1.0777308087717382e-17}\n",
      "INFO:lcs.agents.Agent:{'trial': 100, 'steps_in_trial': 5, 'reward': 1222.209780781824, 'perf_time': 0.015911100001176237, 'population': 707, 'numerosity': 1800, 'average_specificity': 9.669444444444444, 'fraction_accuracy': 8.350111500820031e-18}\n",
      "INFO:lcs.agents.Agent:{'trial': 100, 'steps_in_trial': 5, 'reward': 1222.209780781824, 'perf_time': 0.015911100001176237, 'population': 707, 'numerosity': 1800, 'average_specificity': 9.669444444444444, 'fraction_accuracy': 8.350111500820031e-18}\n",
      "INFO:lcs.agents.Agent:{'trial': 200, 'steps_in_trial': 2, 'reward': 1766.0279604651241, 'perf_time': 0.006719100001646439, 'population': 707, 'numerosity': 1800, 'average_specificity': 9.669444444444444, 'fraction_accuracy': 8.344347893258514e-18}\n",
      "INFO:lcs.agents.Agent:{'trial': 200, 'steps_in_trial': 2, 'reward': 1766.0279604651241, 'perf_time': 0.006719100001646439, 'population': 707, 'numerosity': 1800, 'average_specificity': 9.669444444444444, 'fraction_accuracy': 8.344347893258514e-18}\n",
      "INFO:lcs.agents.Agent:{'trial': 300, 'steps_in_trial': 2, 'reward': 1884.3336829140248, 'perf_time': 0.006755899999916437, 'population': 707, 'numerosity': 1800, 'average_specificity': 9.669444444444444, 'fraction_accuracy': 8.398180610141302e-18}\n",
      "INFO:lcs.agents.Agent:{'trial': 300, 'steps_in_trial': 2, 'reward': 1884.3336829140248, 'perf_time': 0.006755899999916437, 'population': 707, 'numerosity': 1800, 'average_specificity': 9.669444444444444, 'fraction_accuracy': 8.398180610141302e-18}\n",
      "INFO:lcs.agents.Agent:{'trial': 400, 'steps_in_trial': 5, 'reward': 1280.424532060027, 'perf_time': 0.0172099999999773, 'population': 707, 'numerosity': 1800, 'average_specificity': 9.669444444444444, 'fraction_accuracy': 8.530800123533103e-18}\n",
      "INFO:lcs.agents.Agent:{'trial': 400, 'steps_in_trial': 5, 'reward': 1280.424532060027, 'perf_time': 0.0172099999999773, 'population': 707, 'numerosity': 1800, 'average_specificity': 9.669444444444444, 'fraction_accuracy': 8.530800123533103e-18}\n",
      "INFO:lcs.agents.Agent:{'trial': 0, 'steps_in_trial': 23, 'reward': 1000.0, 'perf_time': 0.011272600000665989, 'population': 75, 'numerosity': 75, 'average_specificity': 11.546666666666667, 'fraction_accuracy': 1.0}\n"
     ]
    },
    {
     "name": "stdout",
     "output_type": "stream",
     "text": [
      "Executing 4 experiment\n"
     ]
    },
    {
     "name": "stderr",
     "output_type": "stream",
     "text": [
      "INFO:lcs.agents.Agent:{'trial': 200, 'steps_in_trial': 2, 'reward': 1561.346585306259, 'perf_time': 0.0069733999989693984, 'population': 597, 'numerosity': 1800, 'average_specificity': 11.95, 'fraction_accuracy': 8.251684787925352e-18}\n",
      "INFO:lcs.agents.Agent:{'trial': 400, 'steps_in_trial': 5, 'reward': 1204.8115464992861, 'perf_time': 0.023446500001227832, 'population': 669, 'numerosity': 1800, 'average_specificity': 11.144444444444444, 'fraction_accuracy': 8.13338178005317e-15}\n",
      "INFO:lcs.agents.Agent:{'trial': 600, 'steps_in_trial': 5, 'reward': 1248.3419496555332, 'perf_time': 0.03493250000065018, 'population': 613, 'numerosity': 1800, 'average_specificity': 9.767222222222221, 'fraction_accuracy': 2.4243069749060905e-17}\n",
      "INFO:lcs.agents.Agent:{'trial': 800, 'steps_in_trial': 8, 'reward': 1000.0000027864377, 'perf_time': 0.056600099998831865, 'population': 646, 'numerosity': 1800, 'average_specificity': 10.37888888888889, 'fraction_accuracy': 2.1176519724378173e-15}\n",
      "INFO:lcs.agents.Agent:{'trial': 1000, 'steps_in_trial': 24, 'reward': 1000.2692776876896, 'perf_time': 0.22446520000085002, 'population': 666, 'numerosity': 1800, 'average_specificity': 11.725, 'fraction_accuracy': 3.010471441867374e-15}\n",
      "INFO:lcs.agents.Agent:{'trial': 1200, 'steps_in_trial': 10, 'reward': 1032.5613458972468, 'perf_time': 0.07840679999935674, 'population': 658, 'numerosity': 1800, 'average_specificity': 12.949444444444444, 'fraction_accuracy': 2.4117238369860334e-16}\n",
      "INFO:lcs.agents.Agent:{'trial': 1400, 'steps_in_trial': 43, 'reward': 1000.0004018916817, 'perf_time': 0.38073329999861016, 'population': 647, 'numerosity': 1800, 'average_specificity': 9.454444444444444, 'fraction_accuracy': 2.5974945674653583e-15}\n",
      "INFO:lcs.agents.Agent:{'trial': 1600, 'steps_in_trial': 21, 'reward': 1000.7534846142977, 'perf_time': 0.1640704999990703, 'population': 666, 'numerosity': 1800, 'average_specificity': 9.53888888888889, 'fraction_accuracy': 1.5419496433771347e-16}\n",
      "INFO:lcs.agents.Agent:{'trial': 1800, 'steps_in_trial': 16, 'reward': 1004.2908665593944, 'perf_time': 0.14449250000143365, 'population': 686, 'numerosity': 1800, 'average_specificity': 10.37888888888889, 'fraction_accuracy': 4.754090662744663e-17}\n",
      "INFO:lcs.agents.Agent:{'trial': 0, 'steps_in_trial': 34, 'reward': 1000.0, 'perf_time': 0.10309640000014042, 'population': 618, 'numerosity': 1800, 'average_specificity': 9.20111111111111, 'fraction_accuracy': 9.276008924326604e-14}\n",
      "INFO:lcs.agents.Agent:{'trial': 0, 'steps_in_trial': 34, 'reward': 1000.0, 'perf_time': 0.10309640000014042, 'population': 618, 'numerosity': 1800, 'average_specificity': 9.20111111111111, 'fraction_accuracy': 9.276008924326604e-14}\n",
      "INFO:lcs.agents.Agent:{'trial': 100, 'steps_in_trial': 3, 'reward': 1481.6039869148367, 'perf_time': 0.009208700001181569, 'population': 618, 'numerosity': 1800, 'average_specificity': 9.20111111111111, 'fraction_accuracy': 9.276008924326604e-14}\n",
      "INFO:lcs.agents.Agent:{'trial': 100, 'steps_in_trial': 3, 'reward': 1481.6039869148367, 'perf_time': 0.009208700001181569, 'population': 618, 'numerosity': 1800, 'average_specificity': 9.20111111111111, 'fraction_accuracy': 9.276008924326604e-14}\n",
      "INFO:lcs.agents.Agent:{'trial': 200, 'steps_in_trial': 5, 'reward': 1329.2854517035378, 'perf_time': 0.015357899999798974, 'population': 618, 'numerosity': 1800, 'average_specificity': 9.20111111111111, 'fraction_accuracy': 9.276008924326604e-14}\n",
      "INFO:lcs.agents.Agent:{'trial': 200, 'steps_in_trial': 5, 'reward': 1329.2854517035378, 'perf_time': 0.015357899999798974, 'population': 618, 'numerosity': 1800, 'average_specificity': 9.20111111111111, 'fraction_accuracy': 9.276008924326604e-14}\n",
      "INFO:lcs.agents.Agent:{'trial': 300, 'steps_in_trial': 4, 'reward': 1604.2502046202244, 'perf_time': 0.01169320000008156, 'population': 618, 'numerosity': 1800, 'average_specificity': 9.20111111111111, 'fraction_accuracy': 9.276008924326604e-14}\n",
      "INFO:lcs.agents.Agent:{'trial': 300, 'steps_in_trial': 4, 'reward': 1604.2502046202244, 'perf_time': 0.01169320000008156, 'population': 618, 'numerosity': 1800, 'average_specificity': 9.20111111111111, 'fraction_accuracy': 9.276008924326604e-14}\n",
      "INFO:lcs.agents.Agent:{'trial': 400, 'steps_in_trial': 4, 'reward': 1449.769832767344, 'perf_time': 0.011397099999157945, 'population': 618, 'numerosity': 1800, 'average_specificity': 9.20111111111111, 'fraction_accuracy': 9.276008924326604e-14}\n",
      "INFO:lcs.agents.Agent:{'trial': 400, 'steps_in_trial': 4, 'reward': 1449.769832767344, 'perf_time': 0.011397099999157945, 'population': 618, 'numerosity': 1800, 'average_specificity': 9.20111111111111, 'fraction_accuracy': 9.276008924326604e-14}\n",
      "INFO:lcs.agents.Agent:{'trial': 0, 'steps_in_trial': 47, 'reward': 1000.0, 'perf_time': 0.02693600000020524, 'population': 100, 'numerosity': 105, 'average_specificity': 7.866666666666666, 'fraction_accuracy': 1.0}\n"
     ]
    },
    {
     "name": "stdout",
     "output_type": "stream",
     "text": [
      "Executing 5 experiment\n"
     ]
    },
    {
     "name": "stderr",
     "output_type": "stream",
     "text": [
      "INFO:lcs.agents.Agent:{'trial': 200, 'steps_in_trial': 24, 'reward': 1000.2692776876593, 'perf_time': 0.18166849999943224, 'population': 613, 'numerosity': 1800, 'average_specificity': 9.384444444444444, 'fraction_accuracy': 1.5610993197608089e-15}\n",
      "INFO:lcs.agents.Agent:{'trial': 400, 'steps_in_trial': 26, 'reward': 1000.1357440722174, 'perf_time': 0.23967570000058913, 'population': 595, 'numerosity': 1800, 'average_specificity': 10.45888888888889, 'fraction_accuracy': 3.0171824161252685e-15}\n",
      "INFO:lcs.agents.Agent:{'trial': 600, 'steps_in_trial': 8, 'reward': 1064.7114329869473, 'perf_time': 0.06328820000089763, 'population': 642, 'numerosity': 1800, 'average_specificity': 10.113888888888889, 'fraction_accuracy': 5.251277606231094e-18}\n",
      "INFO:lcs.agents.Agent:{'trial': 800, 'steps_in_trial': 8, 'reward': 1068.595704054081, 'perf_time': 0.06041189999996277, 'population': 667, 'numerosity': 1800, 'average_specificity': 9.245555555555555, 'fraction_accuracy': 9.567207686093236e-16}\n",
      "INFO:lcs.agents.Agent:{'trial': 1000, 'steps_in_trial': 4, 'reward': 1559.9743205619357, 'perf_time': 0.03816240000014659, 'population': 695, 'numerosity': 1800, 'average_specificity': 9.186666666666667, 'fraction_accuracy': 4.543402463082459e-16}\n",
      "INFO:lcs.agents.Agent:{'trial': 1200, 'steps_in_trial': 3, 'reward': 1446.3755544888063, 'perf_time': 0.00956399999995483, 'population': 698, 'numerosity': 1800, 'average_specificity': 9.429444444444444, 'fraction_accuracy': 3.7482908491226214e-16}\n",
      "INFO:lcs.agents.Agent:{'trial': 1400, 'steps_in_trial': 3, 'reward': 1369.2492107772282, 'perf_time': 0.022567099998923368, 'population': 695, 'numerosity': 1800, 'average_specificity': 10.541666666666666, 'fraction_accuracy': 3.3248528449331653e-16}\n",
      "INFO:lcs.agents.Agent:{'trial': 1600, 'steps_in_trial': 9, 'reward': 1046.0397138388603, 'perf_time': 0.02681529999972554, 'population': 668, 'numerosity': 1800, 'average_specificity': 11.802777777777777, 'fraction_accuracy': 8.591235461360891e-17}\n",
      "INFO:lcs.agents.Agent:{'trial': 1800, 'steps_in_trial': 2, 'reward': 1537.9814765491062, 'perf_time': 0.015072100000907085, 'population': 632, 'numerosity': 1800, 'average_specificity': 9.936666666666667, 'fraction_accuracy': 1.659355117962045e-15}\n",
      "INFO:lcs.agents.Agent:{'trial': 0, 'steps_in_trial': 1, 'reward': 1000.0, 'perf_time': 0.004097000000911066, 'population': 663, 'numerosity': 1800, 'average_specificity': 10.474444444444444, 'fraction_accuracy': 2.191545715580779e-17}\n",
      "INFO:lcs.agents.Agent:{'trial': 0, 'steps_in_trial': 1, 'reward': 1000.0, 'perf_time': 0.004097000000911066, 'population': 663, 'numerosity': 1800, 'average_specificity': 10.474444444444444, 'fraction_accuracy': 2.191545715580779e-17}\n",
      "INFO:lcs.agents.Agent:{'trial': 100, 'steps_in_trial': 3, 'reward': 1646.7936010984495, 'perf_time': 0.009739399998579756, 'population': 663, 'numerosity': 1800, 'average_specificity': 10.474444444444444, 'fraction_accuracy': 2.226535255159567e-17}\n",
      "INFO:lcs.agents.Agent:{'trial': 100, 'steps_in_trial': 3, 'reward': 1646.7936010984495, 'perf_time': 0.009739399998579756, 'population': 663, 'numerosity': 1800, 'average_specificity': 10.474444444444444, 'fraction_accuracy': 2.226535255159567e-17}\n",
      "INFO:lcs.agents.Agent:{'trial': 200, 'steps_in_trial': 3, 'reward': 1473.461442994162, 'perf_time': 0.011328599999615108, 'population': 663, 'numerosity': 1800, 'average_specificity': 10.474444444444444, 'fraction_accuracy': 2.226535255159567e-17}\n",
      "INFO:lcs.agents.Agent:{'trial': 200, 'steps_in_trial': 3, 'reward': 1473.461442994162, 'perf_time': 0.011328599999615108, 'population': 663, 'numerosity': 1800, 'average_specificity': 10.474444444444444, 'fraction_accuracy': 2.226535255159567e-17}\n",
      "INFO:lcs.agents.Agent:{'trial': 300, 'steps_in_trial': 5, 'reward': 1246.4765405119892, 'perf_time': 0.015549100000498584, 'population': 663, 'numerosity': 1800, 'average_specificity': 10.474444444444444, 'fraction_accuracy': 2.226535255159567e-17}\n",
      "INFO:lcs.agents.Agent:{'trial': 300, 'steps_in_trial': 5, 'reward': 1246.4765405119892, 'perf_time': 0.015549100000498584, 'population': 663, 'numerosity': 1800, 'average_specificity': 10.474444444444444, 'fraction_accuracy': 2.226535255159567e-17}\n",
      "INFO:lcs.agents.Agent:{'trial': 400, 'steps_in_trial': 4, 'reward': 1529.947311568727, 'perf_time': 0.013111600001138868, 'population': 663, 'numerosity': 1800, 'average_specificity': 10.474444444444444, 'fraction_accuracy': 2.226535255159567e-17}\n",
      "INFO:lcs.agents.Agent:{'trial': 400, 'steps_in_trial': 4, 'reward': 1529.947311568727, 'perf_time': 0.013111600001138868, 'population': 663, 'numerosity': 1800, 'average_specificity': 10.474444444444444, 'fraction_accuracy': 2.226535255159567e-17}\n",
      "INFO:lcs.agents.Agent:{'trial': 0, 'steps_in_trial': 17, 'reward': 1000.0, 'perf_time': 0.006604500000321423, 'population': 55, 'numerosity': 55, 'average_specificity': 6.545454545454546, 'fraction_accuracy': 1.0}\n"
     ]
    },
    {
     "name": "stdout",
     "output_type": "stream",
     "text": [
      "Executing 6 experiment\n"
     ]
    },
    {
     "name": "stderr",
     "output_type": "stream",
     "text": [
      "INFO:lcs.agents.Agent:{'trial': 200, 'steps_in_trial': 10, 'reward': 1033.4658750368035, 'perf_time': 0.053087199999936274, 'population': 680, 'numerosity': 1800, 'average_specificity': 10.581666666666667, 'fraction_accuracy': 2.9384890802293225e-17}\n",
      "INFO:lcs.agents.Agent:{'trial': 400, 'steps_in_trial': 16, 'reward': 1004.1712429689379, 'perf_time': 0.14399830000002112, 'population': 569, 'numerosity': 1800, 'average_specificity': 10.376111111111111, 'fraction_accuracy': 2.8815276794949193e-15}\n",
      "INFO:lcs.agents.Agent:{'trial': 600, 'steps_in_trial': 4, 'reward': 1255.2689445128112, 'perf_time': 0.03322430000116583, 'population': 625, 'numerosity': 1800, 'average_specificity': 9.661111111111111, 'fraction_accuracy': 3.217570721108234e-15}\n",
      "INFO:lcs.agents.Agent:{'trial': 800, 'steps_in_trial': 6, 'reward': 1128.1422081377566, 'perf_time': 0.08112570000048436, 'population': 602, 'numerosity': 1800, 'average_specificity': 9.139444444444445, 'fraction_accuracy': 1.5802547328004435e-17}\n",
      "INFO:lcs.agents.Agent:{'trial': 1000, 'steps_in_trial': 4, 'reward': 1435.2195755495368, 'perf_time': 0.02520890000050713, 'population': 673, 'numerosity': 1800, 'average_specificity': 11.011111111111111, 'fraction_accuracy': 4.505617427821852e-16}\n",
      "INFO:lcs.agents.Agent:{'trial': 1200, 'steps_in_trial': 6, 'reward': 1128.634663329621, 'perf_time': 0.05625719999989087, 'population': 650, 'numerosity': 1800, 'average_specificity': 10.059444444444445, 'fraction_accuracy': 3.729258869530612e-16}\n",
      "INFO:lcs.agents.Agent:{'trial': 1400, 'steps_in_trial': 39, 'reward': 1000.0017255188352, 'perf_time': 0.3232769999995071, 'population': 634, 'numerosity': 1800, 'average_specificity': 11.295555555555556, 'fraction_accuracy': 3.2488582494297936e-17}\n",
      "INFO:lcs.agents.Agent:{'trial': 1600, 'steps_in_trial': 7, 'reward': 1097.8736415047108, 'perf_time': 0.05037840000113647, 'population': 647, 'numerosity': 1800, 'average_specificity': 11.062222222222223, 'fraction_accuracy': 1.3716948333573168e-16}\n",
      "INFO:lcs.agents.Agent:{'trial': 1800, 'steps_in_trial': 10, 'reward': 1032.8265982548573, 'perf_time': 0.10377639999933308, 'population': 635, 'numerosity': 1800, 'average_specificity': 10.365555555555556, 'fraction_accuracy': 1.354315722626686e-15}\n",
      "INFO:lcs.agents.Agent:{'trial': 0, 'steps_in_trial': 8, 'reward': 1000.0, 'perf_time': 0.02622220000012021, 'population': 672, 'numerosity': 1800, 'average_specificity': 9.443888888888889, 'fraction_accuracy': 5.2155807042530774e-15}\n",
      "INFO:lcs.agents.Agent:{'trial': 0, 'steps_in_trial': 8, 'reward': 1000.0, 'perf_time': 0.02622220000012021, 'population': 672, 'numerosity': 1800, 'average_specificity': 9.443888888888889, 'fraction_accuracy': 5.2155807042530774e-15}\n",
      "INFO:lcs.agents.Agent:{'trial': 100, 'steps_in_trial': 2, 'reward': 1688.7908161678818, 'perf_time': 0.008048199999393546, 'population': 672, 'numerosity': 1800, 'average_specificity': 9.443888888888889, 'fraction_accuracy': 4.971612928376042e-15}\n",
      "INFO:lcs.agents.Agent:{'trial': 100, 'steps_in_trial': 2, 'reward': 1688.7908161678818, 'perf_time': 0.008048199999393546, 'population': 672, 'numerosity': 1800, 'average_specificity': 9.443888888888889, 'fraction_accuracy': 4.971612928376042e-15}\n",
      "INFO:lcs.agents.Agent:{'trial': 200, 'steps_in_trial': 2, 'reward': 1948.8095873251827, 'perf_time': 0.0065741999987949384, 'population': 672, 'numerosity': 1800, 'average_specificity': 9.443888888888889, 'fraction_accuracy': 4.971649858164593e-15}\n",
      "INFO:lcs.agents.Agent:{'trial': 200, 'steps_in_trial': 2, 'reward': 1948.8095873251827, 'perf_time': 0.0065741999987949384, 'population': 672, 'numerosity': 1800, 'average_specificity': 9.443888888888889, 'fraction_accuracy': 4.971649858164593e-15}\n",
      "INFO:lcs.agents.Agent:{'trial': 300, 'steps_in_trial': 5, 'reward': 1360.878483936189, 'perf_time': 0.0162785000011354, 'population': 672, 'numerosity': 1800, 'average_specificity': 9.443888888888889, 'fraction_accuracy': 4.972003250178435e-15}\n",
      "INFO:lcs.agents.Agent:{'trial': 300, 'steps_in_trial': 5, 'reward': 1360.878483936189, 'perf_time': 0.0162785000011354, 'population': 672, 'numerosity': 1800, 'average_specificity': 9.443888888888889, 'fraction_accuracy': 4.972003250178435e-15}\n",
      "INFO:lcs.agents.Agent:{'trial': 400, 'steps_in_trial': 2, 'reward': 2203.323851928316, 'perf_time': 0.006487399999969057, 'population': 672, 'numerosity': 1800, 'average_specificity': 9.443888888888889, 'fraction_accuracy': 4.973438509230491e-15}\n",
      "INFO:lcs.agents.Agent:{'trial': 400, 'steps_in_trial': 2, 'reward': 2203.323851928316, 'perf_time': 0.006487399999969057, 'population': 672, 'numerosity': 1800, 'average_specificity': 9.443888888888889, 'fraction_accuracy': 4.973438509230491e-15}\n",
      "INFO:lcs.agents.Agent:{'trial': 0, 'steps_in_trial': 1, 'reward': 1000.0, 'perf_time': 0.0006083000007492956, 'population': 8, 'numerosity': 8, 'average_specificity': 6.375, 'fraction_accuracy': 1.0}\n"
     ]
    },
    {
     "name": "stdout",
     "output_type": "stream",
     "text": [
      "Executing 7 experiment\n"
     ]
    },
    {
     "name": "stderr",
     "output_type": "stream",
     "text": [
      "INFO:lcs.agents.Agent:{'trial': 200, 'steps_in_trial': 4, 'reward': 1254.1169722676789, 'perf_time': 0.03813780000018596, 'population': 617, 'numerosity': 1800, 'average_specificity': 9.296111111111111, 'fraction_accuracy': 1.7844706690165573e-15}\n",
      "INFO:lcs.agents.Agent:{'trial': 400, 'steps_in_trial': 17, 'reward': 1006.2653870936039, 'perf_time': 0.13865999999870837, 'population': 592, 'numerosity': 1800, 'average_specificity': 9.527777777777779, 'fraction_accuracy': 2.155484215418985e-15}\n",
      "INFO:lcs.agents.Agent:{'trial': 600, 'steps_in_trial': 50, 'reward': 5.500652262363383e-05, 'perf_time': 0.48663529999976163, 'population': 644, 'numerosity': 1800, 'average_specificity': 10.373333333333333, 'fraction_accuracy': 9.18160352792592e-18}\n",
      "INFO:lcs.agents.Agent:{'trial': 800, 'steps_in_trial': 5, 'reward': 1357.8384718776938, 'perf_time': 0.04041750000033062, 'population': 638, 'numerosity': 1800, 'average_specificity': 10.14611111111111, 'fraction_accuracy': 1.2564676177451834e-15}\n",
      "INFO:lcs.agents.Agent:{'trial': 1000, 'steps_in_trial': 9, 'reward': 1000.0000016758792, 'perf_time': 0.08371359999910055, 'population': 654, 'numerosity': 1800, 'average_specificity': 11.625555555555556, 'fraction_accuracy': 1.6041154656984142e-17}\n",
      "INFO:lcs.agents.Agent:{'trial': 1200, 'steps_in_trial': 12, 'reward': 1016.4443519270096, 'perf_time': 0.09333490000062739, 'population': 646, 'numerosity': 1800, 'average_specificity': 10.898888888888889, 'fraction_accuracy': 1.3675142533918312e-17}\n",
      "INFO:lcs.agents.Agent:{'trial': 1400, 'steps_in_trial': 3, 'reward': 1423.8990614547597, 'perf_time': 0.03039849999913713, 'population': 648, 'numerosity': 1800, 'average_specificity': 9.35, 'fraction_accuracy': 3.9039481364406874e-15}\n",
      "INFO:lcs.agents.Agent:{'trial': 1600, 'steps_in_trial': 6, 'reward': 1128.7266657901266, 'perf_time': 0.05960660000164353, 'population': 646, 'numerosity': 1800, 'average_specificity': 8.859444444444444, 'fraction_accuracy': 2.192482908230267e-17}\n",
      "INFO:lcs.agents.Agent:{'trial': 1800, 'steps_in_trial': 35, 'reward': 1000.0062420370729, 'perf_time': 0.4280468999986624, 'population': 647, 'numerosity': 1800, 'average_specificity': 11.232222222222223, 'fraction_accuracy': 1.1263404192234125e-17}\n",
      "INFO:lcs.agents.Agent:{'trial': 0, 'steps_in_trial': 11, 'reward': 1000.0, 'perf_time': 0.04235000000153377, 'population': 666, 'numerosity': 1800, 'average_specificity': 11.122222222222222, 'fraction_accuracy': 2.0306957876825197e-17}\n",
      "INFO:lcs.agents.Agent:{'trial': 0, 'steps_in_trial': 11, 'reward': 1000.0, 'perf_time': 0.04235000000153377, 'population': 666, 'numerosity': 1800, 'average_specificity': 11.122222222222222, 'fraction_accuracy': 2.0306957876825197e-17}\n",
      "INFO:lcs.agents.Agent:{'trial': 100, 'steps_in_trial': 4, 'reward': 1381.7527514071003, 'perf_time': 0.0157627999997203, 'population': 666, 'numerosity': 1800, 'average_specificity': 11.122222222222222, 'fraction_accuracy': 1.9162570544616074e-17}\n",
      "INFO:lcs.agents.Agent:{'trial': 100, 'steps_in_trial': 4, 'reward': 1381.7527514071003, 'perf_time': 0.0157627999997203, 'population': 666, 'numerosity': 1800, 'average_specificity': 11.122222222222222, 'fraction_accuracy': 1.9162570544616074e-17}\n",
      "INFO:lcs.agents.Agent:{'trial': 200, 'steps_in_trial': 2, 'reward': 1995.3701040942956, 'perf_time': 0.007204999999885331, 'population': 666, 'numerosity': 1800, 'average_specificity': 11.122222222222222, 'fraction_accuracy': 1.9145635752003864e-17}\n",
      "INFO:lcs.agents.Agent:{'trial': 200, 'steps_in_trial': 2, 'reward': 1995.3701040942956, 'perf_time': 0.007204999999885331, 'population': 666, 'numerosity': 1800, 'average_specificity': 11.122222222222222, 'fraction_accuracy': 1.9145635752003864e-17}\n",
      "INFO:lcs.agents.Agent:{'trial': 300, 'steps_in_trial': 2, 'reward': 1860.4166997000175, 'perf_time': 0.006547400000272319, 'population': 666, 'numerosity': 1800, 'average_specificity': 11.122222222222222, 'fraction_accuracy': 1.9143398539333518e-17}\n",
      "INFO:lcs.agents.Agent:{'trial': 300, 'steps_in_trial': 2, 'reward': 1860.4166997000175, 'perf_time': 0.006547400000272319, 'population': 666, 'numerosity': 1800, 'average_specificity': 11.122222222222222, 'fraction_accuracy': 1.9143398539333518e-17}\n",
      "INFO:lcs.agents.Agent:{'trial': 400, 'steps_in_trial': 5, 'reward': 1240.918500967706, 'perf_time': 0.016660000001138542, 'population': 666, 'numerosity': 1800, 'average_specificity': 11.122222222222222, 'fraction_accuracy': 1.913298587939344e-17}\n",
      "INFO:lcs.agents.Agent:{'trial': 400, 'steps_in_trial': 5, 'reward': 1240.918500967706, 'perf_time': 0.016660000001138542, 'population': 666, 'numerosity': 1800, 'average_specificity': 11.122222222222222, 'fraction_accuracy': 1.913298587939344e-17}\n",
      "INFO:lcs.agents.Agent:{'trial': 0, 'steps_in_trial': 7, 'reward': 1000.0, 'perf_time': 0.0030353999991348246, 'population': 44, 'numerosity': 44, 'average_specificity': 9.386363636363637, 'fraction_accuracy': 1.0}\n"
     ]
    },
    {
     "name": "stdout",
     "output_type": "stream",
     "text": [
      "Executing 8 experiment\n"
     ]
    },
    {
     "name": "stderr",
     "output_type": "stream",
     "text": [
      "INFO:lcs.agents.Agent:{'trial': 200, 'steps_in_trial': 1, 'reward': 2044.5829070885745, 'perf_time': 0.003510300000925781, 'population': 672, 'numerosity': 1800, 'average_specificity': 10.543333333333333, 'fraction_accuracy': 4.878848780829682e-18}\n",
      "INFO:lcs.agents.Agent:{'trial': 400, 'steps_in_trial': 3, 'reward': 1357.9220665073212, 'perf_time': 0.019506800001181546, 'population': 685, 'numerosity': 1800, 'average_specificity': 10.508888888888889, 'fraction_accuracy': 1.0737728873664075e-14}\n",
      "INFO:lcs.agents.Agent:{'trial': 600, 'steps_in_trial': 44, 'reward': 1000.0000000000105, 'perf_time': 0.40410049999991315, 'population': 635, 'numerosity': 1800, 'average_specificity': 11.027777777777779, 'fraction_accuracy': 1.2700906669062197e-16}\n",
      "INFO:lcs.agents.Agent:{'trial': 800, 'steps_in_trial': 1, 'reward': 2094.3225392072254, 'perf_time': 0.00356620000093244, 'population': 675, 'numerosity': 1800, 'average_specificity': 9.395555555555555, 'fraction_accuracy': 1.6236252944577712e-16}\n",
      "INFO:lcs.agents.Agent:{'trial': 1000, 'steps_in_trial': 6, 'reward': 1128.1468840377465, 'perf_time': 0.052680599999803235, 'population': 628, 'numerosity': 1800, 'average_specificity': 9.863888888888889, 'fraction_accuracy': 1.9581452361730458e-15}\n",
      "INFO:lcs.agents.Agent:{'trial': 1200, 'steps_in_trial': 50, 'reward': 6.262156156020218e-05, 'perf_time': 0.7190313999999489, 'population': 701, 'numerosity': 1800, 'average_specificity': 10.716666666666667, 'fraction_accuracy': 2.3057550336205513e-16}\n",
      "INFO:lcs.agents.Agent:{'trial': 1400, 'steps_in_trial': 25, 'reward': 1000.2158433533209, 'perf_time': 0.2505332000000635, 'population': 668, 'numerosity': 1800, 'average_specificity': 11.817777777777778, 'fraction_accuracy': 6.8624574128507575e-16}\n",
      "INFO:lcs.agents.Agent:{'trial': 1600, 'steps_in_trial': 35, 'reward': 1000.0000000002298, 'perf_time': 0.3934585999995761, 'population': 657, 'numerosity': 1800, 'average_specificity': 10.373333333333333, 'fraction_accuracy': 1.3305735074283632e-17}\n",
      "INFO:lcs.agents.Agent:{'trial': 1800, 'steps_in_trial': 17, 'reward': 1003.0127577335455, 'perf_time': 0.12836810000044352, 'population': 653, 'numerosity': 1800, 'average_specificity': 10.043333333333333, 'fraction_accuracy': 1.981591408656382e-16}\n",
      "INFO:lcs.agents.Agent:{'trial': 0, 'steps_in_trial': 21, 'reward': 1000.0, 'perf_time': 0.12919830000100774, 'population': 685, 'numerosity': 1800, 'average_specificity': 8.58611111111111, 'fraction_accuracy': 1.453412696798547e-14}\n",
      "INFO:lcs.agents.Agent:{'trial': 0, 'steps_in_trial': 21, 'reward': 1000.0, 'perf_time': 0.12919830000100774, 'population': 685, 'numerosity': 1800, 'average_specificity': 8.58611111111111, 'fraction_accuracy': 1.453412696798547e-14}\n",
      "INFO:lcs.agents.Agent:{'trial': 100, 'steps_in_trial': 6, 'reward': 1200.3791164076683, 'perf_time': 0.021149299998796778, 'population': 685, 'numerosity': 1800, 'average_specificity': 8.58611111111111, 'fraction_accuracy': 1.4527957942247762e-14}\n",
      "INFO:lcs.agents.Agent:{'trial': 100, 'steps_in_trial': 6, 'reward': 1200.3791164076683, 'perf_time': 0.021149299998796778, 'population': 685, 'numerosity': 1800, 'average_specificity': 8.58611111111111, 'fraction_accuracy': 1.4527957942247762e-14}\n",
      "INFO:lcs.agents.Agent:{'trial': 200, 'steps_in_trial': 1, 'reward': 2208.412915432262, 'perf_time': 0.003821399999651476, 'population': 685, 'numerosity': 1800, 'average_specificity': 8.58611111111111, 'fraction_accuracy': 1.45284681966209e-14}\n",
      "INFO:lcs.agents.Agent:{'trial': 200, 'steps_in_trial': 1, 'reward': 2208.412915432262, 'perf_time': 0.003821399999651476, 'population': 685, 'numerosity': 1800, 'average_specificity': 8.58611111111111, 'fraction_accuracy': 1.45284681966209e-14}\n",
      "INFO:lcs.agents.Agent:{'trial': 300, 'steps_in_trial': 1, 'reward': 1941.7047814698278, 'perf_time': 0.003748200000700308, 'population': 685, 'numerosity': 1800, 'average_specificity': 8.58611111111111, 'fraction_accuracy': 1.4528545748939756e-14}\n",
      "INFO:lcs.agents.Agent:{'trial': 300, 'steps_in_trial': 1, 'reward': 1941.7047814698278, 'perf_time': 0.003748200000700308, 'population': 685, 'numerosity': 1800, 'average_specificity': 8.58611111111111, 'fraction_accuracy': 1.4528545748939756e-14}\n",
      "INFO:lcs.agents.Agent:{'trial': 400, 'steps_in_trial': 4, 'reward': 1507.4008739283179, 'perf_time': 0.014846500000203378, 'population': 685, 'numerosity': 1800, 'average_specificity': 8.58611111111111, 'fraction_accuracy': 1.4528340169966946e-14}\n",
      "INFO:lcs.agents.Agent:{'trial': 400, 'steps_in_trial': 4, 'reward': 1507.4008739283179, 'perf_time': 0.014846500000203378, 'population': 685, 'numerosity': 1800, 'average_specificity': 8.58611111111111, 'fraction_accuracy': 1.4528340169966946e-14}\n",
      "INFO:lcs.agents.Agent:{'trial': 0, 'steps_in_trial': 50, 'reward': 0.0, 'perf_time': 0.02738370000042778, 'population': 95, 'numerosity': 100, 'average_specificity': 8.97, 'fraction_accuracy': 1.0}\n"
     ]
    },
    {
     "name": "stdout",
     "output_type": "stream",
     "text": [
      "Executing 9 experiment\n"
     ]
    },
    {
     "name": "stderr",
     "output_type": "stream",
     "text": [
      "INFO:lcs.agents.Agent:{'trial': 200, 'steps_in_trial': 3, 'reward': 1364.1846743361743, 'perf_time': 0.015683800000260817, 'population': 624, 'numerosity': 1800, 'average_specificity': 10.248333333333333, 'fraction_accuracy': 1.0037511973890065e-15}\n",
      "INFO:lcs.agents.Agent:{'trial': 400, 'steps_in_trial': 2, 'reward': 1541.8740929023172, 'perf_time': 0.029744299999947543, 'population': 617, 'numerosity': 1800, 'average_specificity': 10.717222222222222, 'fraction_accuracy': 9.352050855585275e-17}\n",
      "INFO:lcs.agents.Agent:{'trial': 600, 'steps_in_trial': 20, 'reward': 1001.1644942923281, 'perf_time': 0.21599720000085654, 'population': 606, 'numerosity': 1800, 'average_specificity': 11.467222222222222, 'fraction_accuracy': 9.818432712431236e-17}\n",
      "INFO:lcs.agents.Agent:{'trial': 800, 'steps_in_trial': 3, 'reward': 1628.1540241927516, 'perf_time': 0.017670299999736017, 'population': 596, 'numerosity': 1800, 'average_specificity': 9.903888888888888, 'fraction_accuracy': 1.1891763339136418e-16}\n",
      "INFO:lcs.agents.Agent:{'trial': 1000, 'steps_in_trial': 4, 'reward': 1386.4560707478402, 'perf_time': 0.03448999999818625, 'population': 697, 'numerosity': 1800, 'average_specificity': 10.681111111111111, 'fraction_accuracy': 7.818002502015721e-16}\n",
      "INFO:lcs.agents.Agent:{'trial': 1200, 'steps_in_trial': 5, 'reward': 1245.0423997468301, 'perf_time': 0.07606200000009267, 'population': 684, 'numerosity': 1800, 'average_specificity': 8.725, 'fraction_accuracy': 4.2156428809244916e-18}\n",
      "INFO:lcs.agents.Agent:{'trial': 1400, 'steps_in_trial': 23, 'reward': 1000.4313904958433, 'perf_time': 0.17395939999914845, 'population': 672, 'numerosity': 1800, 'average_specificity': 9.792222222222222, 'fraction_accuracy': 6.335586189607196e-17}\n",
      "INFO:lcs.agents.Agent:{'trial': 1600, 'steps_in_trial': 26, 'reward': 1000.149211794954, 'perf_time': 0.21530259999781265, 'population': 633, 'numerosity': 1800, 'average_specificity': 10.773333333333333, 'fraction_accuracy': 7.413297129410719e-17}\n",
      "INFO:lcs.agents.Agent:{'trial': 1800, 'steps_in_trial': 21, 'reward': 1000.7705462470933, 'perf_time': 0.22373309999966295, 'population': 659, 'numerosity': 1800, 'average_specificity': 9.973888888888888, 'fraction_accuracy': 5.815658333608038e-17}\n",
      "INFO:lcs.agents.Agent:{'trial': 0, 'steps_in_trial': 8, 'reward': 1000.0, 'perf_time': 0.031561299998429604, 'population': 671, 'numerosity': 1800, 'average_specificity': 9.156666666666666, 'fraction_accuracy': 1.3384011674994233e-14}\n",
      "INFO:lcs.agents.Agent:{'trial': 0, 'steps_in_trial': 8, 'reward': 1000.0, 'perf_time': 0.031561299998429604, 'population': 671, 'numerosity': 1800, 'average_specificity': 9.156666666666666, 'fraction_accuracy': 1.3384011674994233e-14}\n",
      "INFO:lcs.agents.Agent:{'trial': 100, 'steps_in_trial': 4, 'reward': 1296.3895379036564, 'perf_time': 0.016721699998015538, 'population': 671, 'numerosity': 1800, 'average_specificity': 9.156666666666666, 'fraction_accuracy': 1.3335714215267259e-14}\n",
      "INFO:lcs.agents.Agent:{'trial': 100, 'steps_in_trial': 4, 'reward': 1296.3895379036564, 'perf_time': 0.016721699998015538, 'population': 671, 'numerosity': 1800, 'average_specificity': 9.156666666666666, 'fraction_accuracy': 1.3335714215267259e-14}\n",
      "INFO:lcs.agents.Agent:{'trial': 200, 'steps_in_trial': 1, 'reward': 2289.752414069034, 'perf_time': 0.003347800000483403, 'population': 671, 'numerosity': 1800, 'average_specificity': 9.156666666666666, 'fraction_accuracy': 1.3335714215267259e-14}\n",
      "INFO:lcs.agents.Agent:{'trial': 200, 'steps_in_trial': 1, 'reward': 2289.752414069034, 'perf_time': 0.003347800000483403, 'population': 671, 'numerosity': 1800, 'average_specificity': 9.156666666666666, 'fraction_accuracy': 1.3335714215267259e-14}\n",
      "INFO:lcs.agents.Agent:{'trial': 300, 'steps_in_trial': 2, 'reward': 2240.154294947496, 'perf_time': 0.006542300001456169, 'population': 671, 'numerosity': 1800, 'average_specificity': 9.156666666666666, 'fraction_accuracy': 1.3335714215267259e-14}\n",
      "INFO:lcs.agents.Agent:{'trial': 300, 'steps_in_trial': 2, 'reward': 2240.154294947496, 'perf_time': 0.006542300001456169, 'population': 671, 'numerosity': 1800, 'average_specificity': 9.156666666666666, 'fraction_accuracy': 1.3335714215267259e-14}\n",
      "INFO:lcs.agents.Agent:{'trial': 400, 'steps_in_trial': 4, 'reward': 1430.6217105922788, 'perf_time': 0.014002899999468355, 'population': 671, 'numerosity': 1800, 'average_specificity': 9.156666666666666, 'fraction_accuracy': 1.3335714215267259e-14}\n",
      "INFO:lcs.agents.Agent:{'trial': 400, 'steps_in_trial': 4, 'reward': 1430.6217105922788, 'perf_time': 0.014002899999468355, 'population': 671, 'numerosity': 1800, 'average_specificity': 9.156666666666666, 'fraction_accuracy': 1.3335714215267259e-14}\n"
     ]
    }
   ],
   "source": [
    "cfg = Configuration(number_of_actions=8,\n",
    "                    max_population=1800,\n",
    "                    learning_rate=0.2,\n",
    "                    alpha=0.1,\n",
    "                    gamma=0.71,\n",
    "                    mutation_chance=0.08,\n",
    "                    delta=0.1,\n",
    "                    ga_threshold=25,\n",
    "                    deletion_threshold=25,\n",
    "                    covering_wildcard_chance = 0.7,\n",
    "                    chi=0.8,      # crossover chi\n",
    "                    metrics_trial_frequency=100,\n",
    "                    initial_prediction =10,  # p_i\n",
    "                    initial_error = 0.1,  # epsilon_i\n",
    "                    initial_fitness = 10,  # f_i\n",
    "                    user_metrics_collector_fcn=xcs_metrics)\n",
    "\n",
    "df = avg_experiment(maze,\n",
    "                    cfg,\n",
    "                    number_of_tests=10,\n",
    "                    explore_trials=2000,\n",
    "                    exploit_trials=500)"
   ]
  },
  {
   "cell_type": "code",
   "execution_count": 27,
   "metadata": {},
   "outputs": [
    {
     "data": {
      "text/html": [
       "<div>\n",
       "<style scoped>\n",
       "    .dataframe tbody tr th:only-of-type {\n",
       "        vertical-align: middle;\n",
       "    }\n",
       "\n",
       "    .dataframe tbody tr th {\n",
       "        vertical-align: top;\n",
       "    }\n",
       "\n",
       "    .dataframe thead th {\n",
       "        text-align: right;\n",
       "    }\n",
       "</style>\n",
       "<table border=\"1\" class=\"dataframe\">\n",
       "  <thead>\n",
       "    <tr style=\"text-align: right;\">\n",
       "      <th></th>\n",
       "      <th>steps_in_trial</th>\n",
       "      <th>reward</th>\n",
       "      <th>perf_time</th>\n",
       "      <th>population</th>\n",
       "      <th>numerosity</th>\n",
       "      <th>average_specificity</th>\n",
       "      <th>fraction_accuracy</th>\n",
       "    </tr>\n",
       "    <tr>\n",
       "      <th>trial</th>\n",
       "      <th></th>\n",
       "      <th></th>\n",
       "      <th></th>\n",
       "      <th></th>\n",
       "      <th></th>\n",
       "      <th></th>\n",
       "      <th></th>\n",
       "    </tr>\n",
       "  </thead>\n",
       "  <tbody>\n",
       "    <tr>\n",
       "      <th>0</th>\n",
       "      <td>20.2</td>\n",
       "      <td>900.000000</td>\n",
       "      <td>0.010359</td>\n",
       "      <td>55.4</td>\n",
       "      <td>56.9</td>\n",
       "      <td>8.558113</td>\n",
       "      <td>1.000000e+00</td>\n",
       "    </tr>\n",
       "    <tr>\n",
       "      <th>100</th>\n",
       "      <td>9.0</td>\n",
       "      <td>1403.378939</td>\n",
       "      <td>0.060909</td>\n",
       "      <td>572.8</td>\n",
       "      <td>1776.8</td>\n",
       "      <td>12.177655</td>\n",
       "      <td>6.953332e-16</td>\n",
       "    </tr>\n",
       "    <tr>\n",
       "      <th>200</th>\n",
       "      <td>8.1</td>\n",
       "      <td>1427.678391</td>\n",
       "      <td>0.056508</td>\n",
       "      <td>632.2</td>\n",
       "      <td>1800.0</td>\n",
       "      <td>10.461222</td>\n",
       "      <td>7.718738e-16</td>\n",
       "    </tr>\n",
       "    <tr>\n",
       "      <th>300</th>\n",
       "      <td>15.2</td>\n",
       "      <td>1200.347487</td>\n",
       "      <td>0.129537</td>\n",
       "      <td>643.7</td>\n",
       "      <td>1800.0</td>\n",
       "      <td>10.450944</td>\n",
       "      <td>1.611548e-15</td>\n",
       "    </tr>\n",
       "    <tr>\n",
       "      <th>400</th>\n",
       "      <td>9.8</td>\n",
       "      <td>1276.199333</td>\n",
       "      <td>0.082102</td>\n",
       "      <td>617.3</td>\n",
       "      <td>1800.0</td>\n",
       "      <td>10.329389</td>\n",
       "      <td>2.836941e-15</td>\n",
       "    </tr>\n",
       "    <tr>\n",
       "      <th>500</th>\n",
       "      <td>16.4</td>\n",
       "      <td>970.890341</td>\n",
       "      <td>0.122038</td>\n",
       "      <td>608.3</td>\n",
       "      <td>1800.0</td>\n",
       "      <td>10.315500</td>\n",
       "      <td>6.008248e-15</td>\n",
       "    </tr>\n",
       "    <tr>\n",
       "      <th>600</th>\n",
       "      <td>15.7</td>\n",
       "      <td>1041.671933</td>\n",
       "      <td>0.140665</td>\n",
       "      <td>624.3</td>\n",
       "      <td>1800.0</td>\n",
       "      <td>10.254000</td>\n",
       "      <td>1.802908e-15</td>\n",
       "    </tr>\n",
       "    <tr>\n",
       "      <th>700</th>\n",
       "      <td>10.2</td>\n",
       "      <td>1312.478853</td>\n",
       "      <td>0.101546</td>\n",
       "      <td>641.6</td>\n",
       "      <td>1800.0</td>\n",
       "      <td>10.389222</td>\n",
       "      <td>2.112054e-15</td>\n",
       "    </tr>\n",
       "    <tr>\n",
       "      <th>800</th>\n",
       "      <td>9.4</td>\n",
       "      <td>1234.059260</td>\n",
       "      <td>0.073682</td>\n",
       "      <td>646.6</td>\n",
       "      <td>1800.0</td>\n",
       "      <td>9.898389</td>\n",
       "      <td>1.312832e-15</td>\n",
       "    </tr>\n",
       "    <tr>\n",
       "      <th>900</th>\n",
       "      <td>7.9</td>\n",
       "      <td>1256.795770</td>\n",
       "      <td>0.060683</td>\n",
       "      <td>640.2</td>\n",
       "      <td>1800.0</td>\n",
       "      <td>10.176167</td>\n",
       "      <td>9.353784e-16</td>\n",
       "    </tr>\n",
       "    <tr>\n",
       "      <th>1000</th>\n",
       "      <td>6.0</td>\n",
       "      <td>1443.320311</td>\n",
       "      <td>0.055585</td>\n",
       "      <td>668.9</td>\n",
       "      <td>1800.0</td>\n",
       "      <td>10.563722</td>\n",
       "      <td>8.861977e-16</td>\n",
       "    </tr>\n",
       "    <tr>\n",
       "      <th>1100</th>\n",
       "      <td>4.5</td>\n",
       "      <td>1470.918304</td>\n",
       "      <td>0.038603</td>\n",
       "      <td>670.0</td>\n",
       "      <td>1800.0</td>\n",
       "      <td>10.731833</td>\n",
       "      <td>7.022988e-16</td>\n",
       "    </tr>\n",
       "    <tr>\n",
       "      <th>1200</th>\n",
       "      <td>10.8</td>\n",
       "      <td>1162.646816</td>\n",
       "      <td>0.121073</td>\n",
       "      <td>662.4</td>\n",
       "      <td>1800.0</td>\n",
       "      <td>10.458000</td>\n",
       "      <td>4.883559e-15</td>\n",
       "    </tr>\n",
       "    <tr>\n",
       "      <th>1300</th>\n",
       "      <td>7.1</td>\n",
       "      <td>1197.080436</td>\n",
       "      <td>0.056639</td>\n",
       "      <td>670.1</td>\n",
       "      <td>1800.0</td>\n",
       "      <td>10.155833</td>\n",
       "      <td>7.444679e-15</td>\n",
       "    </tr>\n",
       "    <tr>\n",
       "      <th>1400</th>\n",
       "      <td>16.2</td>\n",
       "      <td>1164.455481</td>\n",
       "      <td>0.144555</td>\n",
       "      <td>674.2</td>\n",
       "      <td>1800.0</td>\n",
       "      <td>10.610611</td>\n",
       "      <td>8.436648e-14</td>\n",
       "    </tr>\n",
       "    <tr>\n",
       "      <th>1500</th>\n",
       "      <td>17.2</td>\n",
       "      <td>1107.341741</td>\n",
       "      <td>0.148655</td>\n",
       "      <td>669.1</td>\n",
       "      <td>1800.0</td>\n",
       "      <td>10.372056</td>\n",
       "      <td>3.682139e-15</td>\n",
       "    </tr>\n",
       "    <tr>\n",
       "      <th>1600</th>\n",
       "      <td>13.8</td>\n",
       "      <td>1161.718883</td>\n",
       "      <td>0.113599</td>\n",
       "      <td>651.8</td>\n",
       "      <td>1800.0</td>\n",
       "      <td>10.444056</td>\n",
       "      <td>4.204611e-16</td>\n",
       "    </tr>\n",
       "    <tr>\n",
       "      <th>1700</th>\n",
       "      <td>12.6</td>\n",
       "      <td>1205.006781</td>\n",
       "      <td>0.097266</td>\n",
       "      <td>666.3</td>\n",
       "      <td>1800.0</td>\n",
       "      <td>10.905056</td>\n",
       "      <td>1.027987e-14</td>\n",
       "    </tr>\n",
       "    <tr>\n",
       "      <th>1800</th>\n",
       "      <td>16.5</td>\n",
       "      <td>1195.225247</td>\n",
       "      <td>0.155213</td>\n",
       "      <td>660.9</td>\n",
       "      <td>1800.0</td>\n",
       "      <td>10.489722</td>\n",
       "      <td>2.001767e-15</td>\n",
       "    </tr>\n",
       "    <tr>\n",
       "      <th>1900</th>\n",
       "      <td>15.0</td>\n",
       "      <td>1139.903337</td>\n",
       "      <td>0.132232</td>\n",
       "      <td>676.6</td>\n",
       "      <td>1800.0</td>\n",
       "      <td>10.052944</td>\n",
       "      <td>1.210971e-14</td>\n",
       "    </tr>\n",
       "    <tr>\n",
       "      <th>2000</th>\n",
       "      <td>9.3</td>\n",
       "      <td>1000.000000</td>\n",
       "      <td>0.037497</td>\n",
       "      <td>672.8</td>\n",
       "      <td>1800.0</td>\n",
       "      <td>9.737000</td>\n",
       "      <td>1.277823e-14</td>\n",
       "    </tr>\n",
       "    <tr>\n",
       "      <th>2100</th>\n",
       "      <td>3.6</td>\n",
       "      <td>1503.631405</td>\n",
       "      <td>0.012683</td>\n",
       "      <td>672.9</td>\n",
       "      <td>1800.0</td>\n",
       "      <td>9.737000</td>\n",
       "      <td>1.275005e-14</td>\n",
       "    </tr>\n",
       "    <tr>\n",
       "      <th>2200</th>\n",
       "      <td>2.8</td>\n",
       "      <td>1790.839386</td>\n",
       "      <td>0.009350</td>\n",
       "      <td>672.9</td>\n",
       "      <td>1800.0</td>\n",
       "      <td>9.737000</td>\n",
       "      <td>1.274822e-14</td>\n",
       "    </tr>\n",
       "    <tr>\n",
       "      <th>2300</th>\n",
       "      <td>4.4</td>\n",
       "      <td>1601.859564</td>\n",
       "      <td>0.014384</td>\n",
       "      <td>672.9</td>\n",
       "      <td>1800.0</td>\n",
       "      <td>9.737000</td>\n",
       "      <td>1.275061e-14</td>\n",
       "    </tr>\n",
       "    <tr>\n",
       "      <th>2400</th>\n",
       "      <td>5.5</td>\n",
       "      <td>1431.873868</td>\n",
       "      <td>0.017843</td>\n",
       "      <td>672.9</td>\n",
       "      <td>1800.0</td>\n",
       "      <td>9.737000</td>\n",
       "      <td>1.274875e-14</td>\n",
       "    </tr>\n",
       "  </tbody>\n",
       "</table>\n",
       "</div>"
      ],
      "text/plain": [
       "       steps_in_trial       reward  perf_time  population  numerosity  \\\n",
       "trial                                                                   \n",
       "0                20.2   900.000000   0.010359        55.4        56.9   \n",
       "100               9.0  1403.378939   0.060909       572.8      1776.8   \n",
       "200               8.1  1427.678391   0.056508       632.2      1800.0   \n",
       "300              15.2  1200.347487   0.129537       643.7      1800.0   \n",
       "400               9.8  1276.199333   0.082102       617.3      1800.0   \n",
       "500              16.4   970.890341   0.122038       608.3      1800.0   \n",
       "600              15.7  1041.671933   0.140665       624.3      1800.0   \n",
       "700              10.2  1312.478853   0.101546       641.6      1800.0   \n",
       "800               9.4  1234.059260   0.073682       646.6      1800.0   \n",
       "900               7.9  1256.795770   0.060683       640.2      1800.0   \n",
       "1000              6.0  1443.320311   0.055585       668.9      1800.0   \n",
       "1100              4.5  1470.918304   0.038603       670.0      1800.0   \n",
       "1200             10.8  1162.646816   0.121073       662.4      1800.0   \n",
       "1300              7.1  1197.080436   0.056639       670.1      1800.0   \n",
       "1400             16.2  1164.455481   0.144555       674.2      1800.0   \n",
       "1500             17.2  1107.341741   0.148655       669.1      1800.0   \n",
       "1600             13.8  1161.718883   0.113599       651.8      1800.0   \n",
       "1700             12.6  1205.006781   0.097266       666.3      1800.0   \n",
       "1800             16.5  1195.225247   0.155213       660.9      1800.0   \n",
       "1900             15.0  1139.903337   0.132232       676.6      1800.0   \n",
       "2000              9.3  1000.000000   0.037497       672.8      1800.0   \n",
       "2100              3.6  1503.631405   0.012683       672.9      1800.0   \n",
       "2200              2.8  1790.839386   0.009350       672.9      1800.0   \n",
       "2300              4.4  1601.859564   0.014384       672.9      1800.0   \n",
       "2400              5.5  1431.873868   0.017843       672.9      1800.0   \n",
       "\n",
       "       average_specificity  fraction_accuracy  \n",
       "trial                                          \n",
       "0                 8.558113       1.000000e+00  \n",
       "100              12.177655       6.953332e-16  \n",
       "200              10.461222       7.718738e-16  \n",
       "300              10.450944       1.611548e-15  \n",
       "400              10.329389       2.836941e-15  \n",
       "500              10.315500       6.008248e-15  \n",
       "600              10.254000       1.802908e-15  \n",
       "700              10.389222       2.112054e-15  \n",
       "800               9.898389       1.312832e-15  \n",
       "900              10.176167       9.353784e-16  \n",
       "1000             10.563722       8.861977e-16  \n",
       "1100             10.731833       7.022988e-16  \n",
       "1200             10.458000       4.883559e-15  \n",
       "1300             10.155833       7.444679e-15  \n",
       "1400             10.610611       8.436648e-14  \n",
       "1500             10.372056       3.682139e-15  \n",
       "1600             10.444056       4.204611e-16  \n",
       "1700             10.905056       1.027987e-14  \n",
       "1800             10.489722       2.001767e-15  \n",
       "1900             10.052944       1.210971e-14  \n",
       "2000              9.737000       1.277823e-14  \n",
       "2100              9.737000       1.275005e-14  \n",
       "2200              9.737000       1.274822e-14  \n",
       "2300              9.737000       1.275061e-14  \n",
       "2400              9.737000       1.274875e-14  "
      ]
     },
     "metadata": {},
     "output_type": "display_data"
    }
   ],
   "source": [
    "display(df)"
   ]
  },
  {
   "cell_type": "code",
   "execution_count": 28,
   "metadata": {},
   "outputs": [
    {
     "data": {
      "text/plain": [
       "<matplotlib.legend.Legend at 0x12c0fbafa88>"
      ]
     },
     "execution_count": 28,
     "metadata": {},
     "output_type": "execute_result"
    },
    {
     "data": {
      "image/png": "[encoded data removed]",
      "text/plain": [
       "<Figure size 432x288 with 1 Axes>"
      ]
     },
     "metadata": {
      "needs_background": "light"
     },
     "output_type": "display_data"
    }
   ],
   "source": [
    "import pandas as pd\n",
    "import numpy as np\n",
    "\n",
    "ax = df['average_specificity'].plot()\n",
    "ax.set_xlabel(\"trial\")\n",
    "ax.set_ylabel(\"average_specificity\")\n",
    "ax.legend([\"XCS\",\"XNCS\"])\n"
   ]
  },
  {
   "cell_type": "code",
   "execution_count": 29,
   "metadata": {},
   "outputs": [
    {
     "data": {
      "image/png": "[encoded data removed]",
      "text/plain": [
       "<Figure size 432x288 with 1 Axes>"
      ]
     },
     "metadata": {
      "needs_background": "light"
     },
     "output_type": "display_data"
    }
   ],
   "source": [
    "ax = df[['numerosity', 'population']].plot()\n",
    "ax.set_xlabel(\"trial\")\n",
    "ax.set_ylabel(\"population\")\n",
    "ax.legend([\"numerosity\", \"number of rules\"])\n",
    "\n",
    "plt.show()"
   ]
  },
  {
   "cell_type": "markdown",
   "metadata": {},
   "source": [
    "It is hard to say but oking at amount of times algorithm reaches top steps (50) the steps might actually go down over trials.  need to somehow smooth it to see it better"
   ]
  },
  {
   "cell_type": "code",
   "execution_count": 30,
   "metadata": {},
   "outputs": [
    {
     "data": {
      "text/plain": [
       "<matplotlib.legend.Legend at 0x12c13395748>"
      ]
     },
     "execution_count": 30,
     "metadata": {},
     "output_type": "execute_result"
    },
    {
     "data": {
      "image/png": "[encoded data removed]",
      "text/plain": [
       "<Figure size 432x288 with 1 Axes>"
      ]
     },
     "metadata": {
      "needs_background": "light"
     },
     "output_type": "display_data"
    }
   ],
   "source": [
    "ax = df['steps_in_trial'].plot()\n",
    "ax.set_xlabel(\"trial\")\n",
    "ax.set_ylabel(\"steps in trial\")\n",
    "ax.legend([\"steps\"])"
   ]
  },
  {
   "cell_type": "markdown",
   "metadata": {},
   "source": [
    "### Conclusion\n"
   ]
  },
  {
   "cell_type": "code",
   "execution_count": null,
   "metadata": {},
   "outputs": [],
   "source": []
  }
 ],
 "metadata": {
  "kernelspec": {
   "display_name": "Python 3",
   "language": "python",
   "name": "python3"
  },
  "language_info": {
   "codemirror_mode": {
    "name": "ipython",
    "version": 3
   },
   "file_extension": ".py",
   "mimetype": "text/x-python",
   "name": "python",
   "nbconvert_exporter": "python",
   "pygments_lexer": "ipython3",
   "version": "3.7.10"
  }
 },
 "nbformat": 4,
 "nbformat_minor": 4
}
