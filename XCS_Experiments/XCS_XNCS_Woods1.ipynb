{
 "cells": [
  {
   "cell_type": "code",
   "execution_count": 15,
   "metadata": {},
   "outputs": [],
   "source": [
    "# logging \n",
    "import logging\n",
    "logging.basicConfig(level=logging.INFO)\n",
    "logger = logging.getLogger(__name__)\n"
   ]
  },
  {
   "cell_type": "code",
   "execution_count": 16,
   "metadata": {},
   "outputs": [
    {
     "name": "stdout",
     "output_type": "stream",
     "text": [
      "This is how maze looks like:\n",
      "\n",
      "\u001b[37m□\u001b[0m \u001b[37m□\u001b[0m \u001b[36mX\u001b[0m \u001b[37m□\u001b[0m \u001b[37m□\u001b[0m\n",
      "\u001b[37m□\u001b[0m \u001b[37m□\u001b[0m \u001b[37m□\u001b[0m \u001b[37m□\u001b[0m \u001b[37m□\u001b[0m\n",
      "\u001b[30m■\u001b[0m \u001b[30m■\u001b[0m \u001b[33m$\u001b[0m \u001b[37m□\u001b[0m \u001b[37m□\u001b[0m\n",
      "\u001b[30m■\u001b[0m \u001b[30m■\u001b[0m \u001b[30m■\u001b[0m \u001b[37m□\u001b[0m \u001b[37m□\u001b[0m\n",
      "\u001b[30m■\u001b[0m \u001b[30m■\u001b[0m \u001b[30m■\u001b[0m \u001b[37m□\u001b[0m \u001b[37m□\u001b[0m\n"
     ]
    }
   ],
   "source": [
    "# environment setup\n",
    "import gym\n",
    "# noinspection PyUnresolvedReferences\n",
    "import gym_woods\n",
    "\n",
    "maze = gym.make('Woods1-v0')\n",
    "print(\"This is how maze looks like:\")\n",
    "situation = maze.reset()\n",
    "maze.render()"
   ]
  },
  {
   "cell_type": "code",
   "execution_count": 17,
   "metadata": {},
   "outputs": [],
   "source": [
    "from lcs.agents.xcs import XCS\n",
    "from lcs.agents.xcs import Configuration as XCSConfig\n",
    "from lcs.agents.xncs import XNCS\n",
    "from lcs.agents.xncs import Configuration as XNCSConfig\n",
    "\n",
    "from utils.xcs_utils import xcs_metrics\n",
    "from utils.nxcs_utils import xncs_metrics\n",
    "\n",
    "XCScfg = XCSConfig(number_of_actions=8,\n",
    "                    max_population=1800,\n",
    "                    learning_rate=0.2,\n",
    "                    alpha=0.1,\n",
    "                    gamma=0.71,\n",
    "                    mutation_chance=0.08,\n",
    "                    delta=0.1,\n",
    "                    ga_threshold=25,\n",
    "                    deletion_threshold=25,\n",
    "                    covering_wildcard_chance = 0.7,\n",
    "                    chi=0.8,      # crossover chi\n",
    "                    metrics_trial_frequency=100,\n",
    "                    initial_prediction =10,  # p_i\n",
    "                    initial_error = 0.1,  # epsilon_i\n",
    "                    initial_fitness = 10,  # f_i\n",
    "                    user_metrics_collector_fcn=xcs_metrics)\n",
    "\n",
    "XNCScfg = XNCSConfig(number_of_actions=8,\n",
    "                    max_population=1800,\n",
    "                    learning_rate=0.2,\n",
    "                    alpha=0.1,\n",
    "                    gamma=0.71,\n",
    "                    mutation_chance=0.08, # mu\n",
    "                    delta=0.1,\n",
    "                    ga_threshold=25,\n",
    "                    deletion_threshold=25,\n",
    "                    covering_wildcard_chance = 0.7,\n",
    "                    chi=0.8,      # crossover\n",
    "                    metrics_trial_frequency=100,\n",
    "                    initial_prediction =10,  # p_i\n",
    "                    initial_error = 0.1,  # epsilon_i\n",
    "                    initial_fitness = 10,  # f_i\n",
    "                    user_metrics_collector_fcn=xncs_metrics,\n",
    "                    lmc=10,\n",
    "                    lem=200)\n"
   ]
  },
  {
   "cell_type": "code",
   "execution_count": null,
   "metadata": {
    "scrolled": false
   },
   "outputs": [
    {
     "name": "stderr",
     "output_type": "stream",
     "text": [
      "INFO:lcs.agents.Agent:{'trial': 0, 'steps_in_trial': 23, 'reward': 1000.0, 'perf_time': 0.007642699999905744, 'population': 49, 'numerosity': 49, 'average_specificity': 10.122448979591837}\n"
     ]
    },
    {
     "name": "stdout",
     "output_type": "stream",
     "text": [
      "Executing 0 experiment\n"
     ]
    },
    {
     "name": "stderr",
     "output_type": "stream",
     "text": [
      "INFO:lcs.agents.Agent:{'trial': 200, 'steps_in_trial': 6, 'reward': 1000.0000047592259, 'perf_time': 0.06348840000009659, 'population': 560, 'numerosity': 1800, 'average_specificity': 11.29}\n",
      "INFO:lcs.agents.Agent:{'trial': 400, 'steps_in_trial': 11, 'reward': 1023.3815253191882, 'perf_time': 0.09047039999995832, 'population': 570, 'numerosity': 1800, 'average_specificity': 12.271666666666667}\n",
      "INFO:lcs.agents.Agent:{'trial': 600, 'steps_in_trial': 6, 'reward': 1219.4517144196761, 'perf_time': 0.051353199999994104, 'population': 615, 'numerosity': 1800, 'average_specificity': 8.837777777777777}\n",
      "INFO:lcs.agents.Agent:{'trial': 800, 'steps_in_trial': 7, 'reward': 1119.2946802624729, 'perf_time': 0.07016810000004625, 'population': 683, 'numerosity': 1800, 'average_specificity': 10.881666666666666}\n",
      "INFO:lcs.agents.Agent:{'trial': 1000, 'steps_in_trial': 6, 'reward': 1198.548849904951, 'perf_time': 0.03116200000022218, 'population': 658, 'numerosity': 1800, 'average_specificity': 9.328333333333333}\n",
      "INFO:lcs.agents.Agent:{'trial': 1200, 'steps_in_trial': 1, 'reward': 1856.0710776395063, 'perf_time': 0.002941199999895616, 'population': 643, 'numerosity': 1800, 'average_specificity': 7.533333333333333}\n",
      "INFO:lcs.agents.Agent:{'trial': 1400, 'steps_in_trial': 2, 'reward': 1858.9006350447112, 'perf_time': 0.02093990000003032, 'population': 689, 'numerosity': 1800, 'average_specificity': 10.705555555555556}\n",
      "INFO:lcs.agents.Agent:{'trial': 1600, 'steps_in_trial': 29, 'reward': 1000.0488758087808, 'perf_time': 0.26839010000003327, 'population': 621, 'numerosity': 1800, 'average_specificity': 12.005}\n",
      "INFO:lcs.agents.Agent:{'trial': 1800, 'steps_in_trial': 1, 'reward': 1981.709623413387, 'perf_time': 0.008604000000104861, 'population': 662, 'numerosity': 1800, 'average_specificity': 11.557777777777778}\n",
      "INFO:lcs.agents.Agent:{'trial': 0, 'steps_in_trial': 3, 'reward': 1515.5396463219226, 'perf_time': 0.011408899999878486, 'population': 693, 'numerosity': 1800, 'average_specificity': 10.162222222222223}\n",
      "INFO:lcs.agents.Agent:{'trial': 0, 'steps_in_trial': 3, 'reward': 1515.5396463219226, 'perf_time': 0.011408899999878486, 'population': 693, 'numerosity': 1800, 'average_specificity': 10.162222222222223}\n",
      "INFO:lcs.agents.Agent:{'trial': 100, 'steps_in_trial': 50, 'reward': 3.603503893364359e-42, 'perf_time': 0.41862639999999374, 'population': 650, 'numerosity': 1800, 'average_specificity': 11.04}\n",
      "INFO:lcs.agents.Agent:{'trial': 100, 'steps_in_trial': 50, 'reward': 3.603503893364359e-42, 'perf_time': 0.41862639999999374, 'population': 650, 'numerosity': 1800, 'average_specificity': 11.04}\n",
      "INFO:lcs.agents.Agent:{'trial': 200, 'steps_in_trial': 50, 'reward': 3.280893545262122e-42, 'perf_time': 0.19023050000032526, 'population': 623, 'numerosity': 1800, 'average_specificity': 10.921666666666667}\n",
      "INFO:lcs.agents.Agent:{'trial': 200, 'steps_in_trial': 50, 'reward': 3.280893545262122e-42, 'perf_time': 0.19023050000032526, 'population': 623, 'numerosity': 1800, 'average_specificity': 10.921666666666667}\n",
      "INFO:lcs.agents.Agent:{'trial': 300, 'steps_in_trial': 3, 'reward': 1374.6976988250246, 'perf_time': 0.05012029999988954, 'population': 630, 'numerosity': 1800, 'average_specificity': 13.93}\n",
      "INFO:lcs.agents.Agent:{'trial': 300, 'steps_in_trial': 3, 'reward': 1374.6976988250246, 'perf_time': 0.05012029999988954, 'population': 630, 'numerosity': 1800, 'average_specificity': 13.93}\n",
      "INFO:lcs.agents.Agent:{'trial': 400, 'steps_in_trial': 3, 'reward': 1657.0671567344918, 'perf_time': 0.043464899999889894, 'population': 638, 'numerosity': 1800, 'average_specificity': 13.890555555555556}\n",
      "INFO:lcs.agents.Agent:{'trial': 400, 'steps_in_trial': 3, 'reward': 1657.0671567344918, 'perf_time': 0.043464899999889894, 'population': 638, 'numerosity': 1800, 'average_specificity': 13.890555555555556}\n",
      "INFO:lcs.agents.Agent:{'trial': 0, 'steps_in_trial': 47, 'reward': 1000.0, 'perf_time': 0.028675699999894277, 'population': 106, 'numerosity': 117, 'average_specificity': 7.418803418803419}\n"
     ]
    },
    {
     "name": "stdout",
     "output_type": "stream",
     "text": [
      "Executing 1 experiment\n"
     ]
    },
    {
     "name": "stderr",
     "output_type": "stream",
     "text": [
      "INFO:lcs.agents.Agent:{'trial': 200, 'steps_in_trial': 5, 'reward': 1181.0153545395274, 'perf_time': 0.0542500999999902, 'population': 595, 'numerosity': 1800, 'average_specificity': 11.3}\n",
      "INFO:lcs.agents.Agent:{'trial': 400, 'steps_in_trial': 2, 'reward': 1553.815150522942, 'perf_time': 0.023037799999656272, 'population': 646, 'numerosity': 1800, 'average_specificity': 10.501666666666667}\n",
      "INFO:lcs.agents.Agent:{'trial': 600, 'steps_in_trial': 13, 'reward': 1015.2142659998252, 'perf_time': 0.0900723999998263, 'population': 613, 'numerosity': 1800, 'average_specificity': 11.326666666666666}\n",
      "INFO:lcs.agents.Agent:{'trial': 800, 'steps_in_trial': 26, 'reward': 1000.2353637398902, 'perf_time': 0.19270460000007006, 'population': 659, 'numerosity': 1800, 'average_specificity': 9.516666666666667}\n",
      "INFO:lcs.agents.Agent:{'trial': 1000, 'steps_in_trial': 19, 'reward': 1001.494064763673, 'perf_time': 0.11153289999992921, 'population': 652, 'numerosity': 1800, 'average_specificity': 8.839444444444444}\n",
      "INFO:lcs.agents.Agent:{'trial': 1200, 'steps_in_trial': 3, 'reward': 1496.9296369235176, 'perf_time': 0.009201999999731925, 'population': 644, 'numerosity': 1800, 'average_specificity': 8.87111111111111}\n",
      "INFO:lcs.agents.Agent:{'trial': 1400, 'steps_in_trial': 2, 'reward': 1775.740969811019, 'perf_time': 0.007334499999615218, 'population': 697, 'numerosity': 1800, 'average_specificity': 10.988333333333333}\n",
      "INFO:lcs.agents.Agent:{'trial': 1600, 'steps_in_trial': 2, 'reward': 1504.580060635059, 'perf_time': 0.006967299999814713, 'population': 678, 'numerosity': 1800, 'average_specificity': 11.297777777777778}\n",
      "INFO:lcs.agents.Agent:{'trial': 1800, 'steps_in_trial': 1, 'reward': 2257.3176445859986, 'perf_time': 0.010476899999957823, 'population': 679, 'numerosity': 1800, 'average_specificity': 9.463333333333333}\n",
      "INFO:lcs.agents.Agent:{'trial': 0, 'steps_in_trial': 2, 'reward': 1758.3525528823438, 'perf_time': 0.005924100000356702, 'population': 649, 'numerosity': 1800, 'average_specificity': 10.102777777777778}\n",
      "INFO:lcs.agents.Agent:{'trial': 0, 'steps_in_trial': 2, 'reward': 1758.3525528823438, 'perf_time': 0.005924100000356702, 'population': 649, 'numerosity': 1800, 'average_specificity': 10.102777777777778}\n",
      "INFO:lcs.agents.Agent:{'trial': 100, 'steps_in_trial': 6, 'reward': 1206.3474190320126, 'perf_time': 0.039665599999807455, 'population': 648, 'numerosity': 1800, 'average_specificity': 8.85388888888889}\n",
      "INFO:lcs.agents.Agent:{'trial': 100, 'steps_in_trial': 6, 'reward': 1206.3474190320126, 'perf_time': 0.039665599999807455, 'population': 648, 'numerosity': 1800, 'average_specificity': 8.85388888888889}\n",
      "INFO:lcs.agents.Agent:{'trial': 200, 'steps_in_trial': 2, 'reward': 1638.9658287322043, 'perf_time': 0.005959100000382023, 'population': 624, 'numerosity': 1800, 'average_specificity': 8.575}\n",
      "INFO:lcs.agents.Agent:{'trial': 200, 'steps_in_trial': 2, 'reward': 1638.9658287322043, 'perf_time': 0.005959100000382023, 'population': 624, 'numerosity': 1800, 'average_specificity': 8.575}\n",
      "INFO:lcs.agents.Agent:{'trial': 300, 'steps_in_trial': 3, 'reward': 1358.655570602341, 'perf_time': 0.009969600000204082, 'population': 696, 'numerosity': 1800, 'average_specificity': 14.39}\n",
      "INFO:lcs.agents.Agent:{'trial': 300, 'steps_in_trial': 3, 'reward': 1358.655570602341, 'perf_time': 0.009969600000204082, 'population': 696, 'numerosity': 1800, 'average_specificity': 14.39}\n",
      "INFO:lcs.agents.Agent:{'trial': 400, 'steps_in_trial': 50, 'reward': 9.396090502804839e-139, 'perf_time': 0.34492560000035155, 'population': 688, 'numerosity': 1800, 'average_specificity': 14.430555555555555}\n",
      "INFO:lcs.agents.Agent:{'trial': 400, 'steps_in_trial': 50, 'reward': 9.396090502804839e-139, 'perf_time': 0.34492560000035155, 'population': 688, 'numerosity': 1800, 'average_specificity': 14.430555555555555}\n",
      "INFO:lcs.agents.Agent:{'trial': 0, 'steps_in_trial': 1, 'reward': 1000.0, 'perf_time': 0.00036150000005363836, 'population': 8, 'numerosity': 8, 'average_specificity': 5.875}\n"
     ]
    },
    {
     "name": "stdout",
     "output_type": "stream",
     "text": [
      "Executing 2 experiment\n"
     ]
    }
   ],
   "source": [
    "from utils.xcs_utils import avg_experiment as XCSExp\n",
    "from utils.nxcs_utils import avg_experiment as XNCSExp\n",
    "\n",
    "number_of_experiments = 3\n",
    "explore = 2000\n",
    "exploit = 500\n",
    "\n",
    "df = XCSExp(maze=maze,\n",
    "             cfg=XCScfg,\n",
    "             number_of_tests=number_of_experiments,\n",
    "             explore_trials=explore,\n",
    "             exploit_trials=exploit)\n",
    "\n",
    "df_other = XNCSExp(maze=maze,\n",
    "                   cfg=XNCScfg,\n",
    "                   number_of_tests=number_of_experiments,\n",
    "                   explore_trials=0,\n",
    "                   exploit_trials=exploit+explore)\n"
   ]
  },
  {
   "cell_type": "code",
   "execution_count": null,
   "metadata": {
    "scrolled": true
   },
   "outputs": [],
   "source": [
    "df['steps_in_trial_other']=df_other['steps_in_trial']\n",
    "df['population_other']=df_other['population']\n",
    "df['numerosity_other']=df_other['numerosity']\n",
    "df['average_specificity_other']=df_other['average_specificity']\n",
    "df['fraction_accuracy_other']=df_other['fraction_accuracy']\n",
    "display(df_other)\n",
    "display(df)"
   ]
  },
  {
   "cell_type": "code",
   "execution_count": null,
   "metadata": {},
   "outputs": [],
   "source": [
    "import pandas as pd\n",
    "import numpy as np\n",
    "\n",
    "ax = df[['average_specificity', \"average_specificity_other\"]].plot()\n",
    "ax.set_xlabel(\"trial\")\n",
    "ax.set_ylabel(\"average_specificity\")\n",
    "ax.legend([\"XCS\",\"XNCS\"])\n"
   ]
  },
  {
   "cell_type": "code",
   "execution_count": null,
   "metadata": {},
   "outputs": [],
   "source": [
    "ax = df[ \"fraction_accuracy_other\"].plot()\n",
    "ax.set_xlabel(\"trial\")\n",
    "ax.set_ylabel(\"fraction accuracy\")\n",
    "ax.legend([\"XNCS\"])"
   ]
  },
  {
   "cell_type": "code",
   "execution_count": null,
   "metadata": {},
   "outputs": [],
   "source": [
    "ax = df[['population', \"population_other\"]].plot()\n",
    "ax.set_xlabel(\"trial\")\n",
    "ax.set_ylabel(\"population\")\n",
    "ax.legend([\"XCS\",\"XNCS\"])"
   ]
  },
  {
   "cell_type": "code",
   "execution_count": null,
   "metadata": {},
   "outputs": [],
   "source": [
    "ax = df[['numerosity', 'numerosity_other']].plot()\n",
    "ax.set_xlabel(\"trial\")\n",
    "ax.set_ylabel(\"numerosity\")\n",
    "ax.legend([\"XCS\", \"XNCS\"])"
   ]
  },
  {
   "cell_type": "code",
   "execution_count": null,
   "metadata": {},
   "outputs": [],
   "source": [
    "ax = df[['steps_in_trial', 'steps_in_trial_other']].plot()\n",
    "ax.set_xlabel(\"trial\")\n",
    "ax.set_ylabel(\"steps in trial\")\n",
    "ax.legend([\"XCS\",\"XNCS\"])"
   ]
  },
  {
   "cell_type": "code",
   "execution_count": null,
   "metadata": {},
   "outputs": [],
   "source": [
    "print(sum(df['steps_in_trial']))\n",
    "print(sum(df['steps_in_trial_other']))"
   ]
  }
 ],
 "metadata": {
  "kernelspec": {
   "display_name": "Python 3",
   "language": "python",
   "name": "python3"
  },
  "language_info": {
   "codemirror_mode": {
    "name": "ipython",
    "version": 3
   },
   "file_extension": ".py",
   "mimetype": "text/x-python",
   "name": "python",
   "nbconvert_exporter": "python",
   "pygments_lexer": "ipython3",
   "version": "3.7.10"
  }
 },
 "nbformat": 4,
 "nbformat_minor": 1
}
