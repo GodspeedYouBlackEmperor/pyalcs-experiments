{
 "cells": [
  {
   "cell_type": "markdown",
   "metadata": {},
   "source": [
    "# Rule Compaction\n",
    "\n",
    "Train the ACS2 agent and create a population of classifiers for environments \"Corridor\" and \"Grid\"."
   ]
  },
  {
   "cell_type": "code",
   "execution_count": 6,
   "metadata": {},
   "outputs": [],
   "source": [
    "from lcs.agents import EnvironmentAdapter\n",
    "from lcs.agents.acs2 import ACS2, Configuration\n",
    "from lcs import Perception\n",
    "\n",
    "import gym\n",
    "import gym_corridor\n",
    "import gym_grid"
   ]
  },
  {
   "cell_type": "code",
   "execution_count": 4,
   "metadata": {},
   "outputs": [],
   "source": [
    "# Instantiate environments\n",
    "\n",
    "corridor = gym.make('corridor-20-v0')\n",
    "grid = gym.make('grid-20-v0')"
   ]
  },
  {
   "cell_type": "code",
   "execution_count": 15,
   "metadata": {},
   "outputs": [],
   "source": [
    "def build_population(env, classifier_length, number_of_possible_actions, environment_adapter, explore_trials=1000):\n",
    "    cfg = Configuration(\n",
    "        classifier_length,\n",
    "        number_of_possible_actions,\n",
    "        environment_adapter=environment_adapter\n",
    "    )\n",
    "    \n",
    "    agent = ACS2(cfg)\n",
    "    \n",
    "    pop, _ = agent.explore(env, explore_trials)\n",
    "    \n",
    "    return pop"
   ]
  },
  {
   "cell_type": "markdown",
   "metadata": {},
   "source": [
    "## Corridor"
   ]
  },
  {
   "cell_type": "code",
   "execution_count": 5,
   "metadata": {},
   "outputs": [],
   "source": [
    "class CorridorAdapter(EnvironmentAdapter):\n",
    "    @staticmethod\n",
    "    def to_genotybpe(phenotype):\n",
    "        return phenotype,"
   ]
  },
  {
   "cell_type": "code",
   "execution_count": 41,
   "metadata": {},
   "outputs": [
    {
     "name": "stdout",
     "output_type": "stream",
     "text": [
      "CPU times: user 2.36 s, sys: 0 ns, total: 2.36 s\n",
      "Wall time: 2.36 s\n"
     ]
    }
   ],
   "source": [
    "%%time\n",
    "corridor_pop = build_population(corridor, 1, 2, CorridorAdapter)"
   ]
  },
  {
   "cell_type": "code",
   "execution_count": 40,
   "metadata": {},
   "outputs": [
    {
     "name": "stdout",
     "output_type": "stream",
     "text": [
      "18-1-19\tq: 1.00, r: 1000.00\n",
      "17-1-18\tq: 1.00, r: 950.00\n",
      "16-1-17\tq: 1.00, r: 902.50\n",
      "18-0-17\tq: 1.00, r: 902.50\n",
      "15-1-16\tq: 1.00, r: 857.37\n",
      "17-0-16\tq: 1.00, r: 857.37\n",
      "14-1-15\tq: 1.00, r: 814.51\n",
      "16-0-15\tq: 1.00, r: 814.51\n",
      "13-1-14\tq: 1.00, r: 773.78\n",
      "15-0-14\tq: 1.00, r: 773.78\n",
      "12-1-13\tq: 1.00, r: 735.09\n",
      "14-0-13\tq: 1.00, r: 735.09\n",
      "11-1-12\tq: 1.00, r: 698.34\n",
      "13-0-12\tq: 1.00, r: 698.34\n",
      "10-1-11\tq: 1.00, r: 663.42\n",
      "12-0-11\tq: 1.00, r: 663.42\n",
      "9-1-10\tq: 1.00, r: 630.25\n",
      "11-0-10\tq: 1.00, r: 630.25\n",
      "8-1-9\tq: 1.00, r: 598.74\n",
      "10-0-9\tq: 1.00, r: 598.70\n",
      "7-1-8\tq: 1.00, r: 568.80\n",
      "9-0-8\tq: 1.00, r: 568.74\n",
      "6-1-7\tq: 1.00, r: 540.36\n",
      "8-0-7\tq: 1.00, r: 540.14\n",
      "5-1-6\tq: 1.00, r: 513.34\n",
      "7-0-6\tq: 1.00, r: 511.94\n",
      "4-1-5\tq: 1.00, r: 487.67\n",
      "6-0-5\tq: 1.00, r: 486.72\n",
      "3-1-4\tq: 1.00, r: 463.14\n",
      "5-0-4\tq: 1.00, r: 459.97\n",
      "2-1-3\tq: 1.00, r: 438.54\n",
      "4-0-3\tq: 1.00, r: 421.65\n",
      "1-1-2\tq: 1.00, r: 403.69\n",
      "3-0-2\tq: 1.00, r: 376.17\n",
      "0-1-1\tq: 1.00, r: 322.50\n",
      "2-0-1\tq: 1.00, r: 282.10\n",
      "0-0-#\tq: 0.98, r: 184.14\n",
      "1-0-0\tq: 1.00, r: 161.73\n"
     ]
    }
   ],
   "source": [
    "for cl in sorted(corridor_pop, key=lambda cl: -cl.fitness):\n",
    "    print(f'{cl.condition}-{cl.action}-{cl.effect}\\tq: {cl.q:.2f}, r: {cl.r:.2f}')"
   ]
  },
  {
   "cell_type": "markdown",
   "metadata": {},
   "source": [
    "## Grid"
   ]
  },
  {
   "cell_type": "code",
   "execution_count": 42,
   "metadata": {},
   "outputs": [
    {
     "name": "stdout",
     "output_type": "stream",
     "text": [
      "CPU times: user 4min 44s, sys: 11.4 ms, total: 4min 44s\n",
      "Wall time: 4min 44s\n"
     ]
    }
   ],
   "source": [
    "%%time\n",
    "grid_pop = build_population(grid, 2, 4, EnvironmentAdapter)"
   ]
  },
  {
   "cell_type": "code",
   "execution_count": 43,
   "metadata": {},
   "outputs": [
    {
     "name": "stdout",
     "output_type": "stream",
     "text": [
      "19#-1-20#\tq: 1.00, r: 76.81\n",
      "1318-0-12#\tq: 1.00, r: 34.05\n",
      "20#-1-##\tq: 1.00, r: 32.74\n",
      "#1-3-##\tq: 1.00, r: 30.37\n",
      "#20-2-##\tq: 1.00, r: 30.04\n",
      "16#-1-17#\tq: 1.00, r: 29.02\n",
      "1218-0-11#\tq: 1.00, r: 28.90\n",
      "918-0-8#\tq: 1.00, r: 28.49\n",
      "18#-0-17#\tq: 1.00, r: 28.32\n",
      "17#-1-18#\tq: 1.00, r: 28.29\n",
      "18#-1-19#\tq: 1.00, r: 28.28\n",
      "19#-0-18#\tq: 1.00, r: 28.25\n",
      "20#-0-19#\tq: 1.00, r: 28.22\n",
      "15#-0-14#\tq: 1.00, r: 28.19\n",
      "14#-0-13#\tq: 1.00, r: 28.13\n",
      "14#-1-15#\tq: 1.00, r: 28.07\n",
      "15#-1-16#\tq: 1.00, r: 28.04\n",
      "16#-0-15#\tq: 1.00, r: 28.03\n",
      "518-0-4#\tq: 1.00, r: 27.95\n",
      "17#-0-16#\tq: 1.00, r: 27.85\n",
      "11#-0-10#\tq: 1.00, r: 27.84\n",
      "12#-1-13#\tq: 1.00, r: 27.81\n",
      "11#-1-12#\tq: 1.00, r: 27.80\n",
      "#11-3-#10\tq: 1.00, r: 27.76\n",
      "12#-0-11#\tq: 1.00, r: 27.75\n",
      "#10-2-#11\tq: 1.00, r: 27.74\n",
      "#10-3-#9\tq: 1.00, r: 27.74\n",
      "1118-0-10#\tq: 1.00, r: 27.71\n",
      "#9-2-#10\tq: 1.00, r: 27.69\n",
      "#13-3-#12\tq: 1.00, r: 27.68\n",
      "#12-3-#11\tq: 1.00, r: 27.67\n",
      "118-0-##\tq: 1.00, r: 27.67\n",
      "#11-2-#12\tq: 1.00, r: 27.64\n",
      "#13-2-#14\tq: 1.00, r: 27.63\n",
      "#12-2-#13\tq: 1.00, r: 27.63\n",
      "#14-3-#13\tq: 1.00, r: 27.63\n",
      "#3-3-#2\tq: 1.00, r: 27.62\n",
      "#2-3-#1\tq: 1.00, r: 27.61\n",
      "#1-2-#2\tq: 1.00, r: 27.60\n",
      "10#-0-9#\tq: 1.00, r: 27.60\n",
      "10#-1-11#\tq: 1.00, r: 27.59\n",
      "13#-0-12#\tq: 1.00, r: 27.59\n",
      "#2-2-#3\tq: 1.00, r: 27.58\n",
      "13#-1-14#\tq: 1.00, r: 27.58\n",
      "1#-0-##\tq: 1.00, r: 27.56\n",
      "#4-3-#3\tq: 1.00, r: 27.55\n",
      "5#-0-4#\tq: 1.00, r: 27.54\n",
      "#8-3-#7\tq: 1.00, r: 27.54\n",
      "#7-3-#6\tq: 1.00, r: 27.54\n",
      "#9-3-#8\tq: 1.00, r: 27.53\n",
      "#14-2-#15\tq: 1.00, r: 27.53\n",
      "#15-3-#14\tq: 1.00, r: 27.53\n",
      "6#-0-5#\tq: 1.00, r: 27.53\n",
      "9#-1-10#\tq: 1.00, r: 27.52\n",
      "#5-3-#4\tq: 1.00, r: 27.52\n",
      "#3-2-#4\tq: 1.00, r: 27.51\n",
      "#8-2-#9\tq: 1.00, r: 27.51\n",
      "7#-0-6#\tq: 1.00, r: 27.51\n",
      "5#-1-6#\tq: 1.00, r: 27.50\n",
      "#7-2-#8\tq: 1.00, r: 27.50\n",
      "4#-1-5#\tq: 1.00, r: 27.50\n",
      "#4-2-#5\tq: 1.00, r: 27.49\n",
      "#15-2-#16\tq: 1.00, r: 27.49\n",
      "#6-3-#5\tq: 1.00, r: 27.48\n",
      "#16-3-#15\tq: 1.00, r: 27.48\n",
      "6#-1-7#\tq: 1.00, r: 27.46\n",
      "#5-2-#6\tq: 1.00, r: 27.45\n",
      "9#-0-8#\tq: 1.00, r: 27.45\n",
      "8#-0-7#\tq: 1.00, r: 27.45\n",
      "#6-2-#7\tq: 1.00, r: 27.44\n",
      "7#-1-8#\tq: 1.00, r: 27.41\n",
      "#17-3-#16\tq: 1.00, r: 27.35\n",
      "4#-0-3#\tq: 1.00, r: 27.34\n",
      "3#-0-2#\tq: 1.00, r: 27.32\n",
      "2#-0-1#\tq: 1.00, r: 27.31\n",
      "#16-2-#17\tq: 1.00, r: 27.31\n",
      "3#-1-4#\tq: 1.00, r: 27.31\n",
      "#17-2-#18\tq: 1.00, r: 27.30\n",
      "1#-1-2#\tq: 1.00, r: 27.30\n",
      "2#-1-3#\tq: 1.00, r: 27.29\n",
      "#19-3-#18\tq: 1.00, r: 27.27\n",
      "#18-3-#17\tq: 1.00, r: 27.25\n",
      "#20-3-#19\tq: 1.00, r: 27.24\n",
      "#19-2-#20\tq: 1.00, r: 27.20\n",
      "#18-2-#19\tq: 1.00, r: 27.12\n",
      "1018-0-9#\tq: 1.00, r: 26.87\n",
      "418-0-3#\tq: 1.00, r: 26.29\n",
      "8#-1-9#\tq: 1.00, r: 26.26\n",
      "218-0-1#\tq: 1.00, r: 26.09\n",
      "318-0-2#\tq: 1.00, r: 24.85\n"
     ]
    }
   ],
   "source": [
    "for cl in sorted(grid_pop, key=lambda cl: -cl.fitness):\n",
    "    print(f'{cl.condition}-{cl.action}-{cl.effect}\\tq: {cl.q:.2f}, r: {cl.r:.2f}')"
   ]
  }
 ],
 "metadata": {
  "kernelspec": {
   "display_name": "Python 3",
   "language": "python",
   "name": "python3"
  },
  "language_info": {
   "codemirror_mode": {
    "name": "ipython",
    "version": 3
   },
   "file_extension": ".py",
   "mimetype": "text/x-python",
   "name": "python",
   "nbconvert_exporter": "python",
   "pygments_lexer": "ipython3",
   "version": "3.7.6"
  }
 },
 "nbformat": 4,
 "nbformat_minor": 4
}
